{
 "cells": [
  {
   "cell_type": "markdown",
   "metadata": {},
   "source": [
    "Parámetros"
   ]
  },
  {
   "cell_type": "code",
   "execution_count": 4,
   "metadata": {},
   "outputs": [],
   "source": [
    "name = 'Zoe'"
   ]
  },
  {
   "cell_type": "code",
   "execution_count": 6,
   "metadata": {},
   "outputs": [
    {
     "name": "stdout",
     "output_type": "stream",
     "text": [
      "El nombre ingresado es: Zoe\n"
     ]
    }
   ],
   "source": [
    "def saludar_con_parametro(name):\n",
    "    print(f'El nombre ingresado es: {name}')\n",
    "saludar_con_parametro(name)"
   ]
  },
  {
   "cell_type": "markdown",
   "metadata": {},
   "source": [
    "Condicionales"
   ]
  },
  {
   "cell_type": "code",
   "execution_count": 7,
   "metadata": {},
   "outputs": [],
   "source": [
    "edad = 15"
   ]
  },
  {
   "cell_type": "code",
   "execution_count": 12,
   "metadata": {},
   "outputs": [
    {
     "name": "stdout",
     "output_type": "stream",
     "text": [
      "Usted No tiene edad suficiente para conducir\n"
     ]
    }
   ],
   "source": [
    "def verificar_edad_conduccion(edad):\n",
    "    if edad >= 18:\n",
    "        print('Usted tiene edad suficiente para conducir')\n",
    "    else:\n",
    "        print('Usted No tiene edad suficiente para conducir')\n",
    "verificar_edad_conduccion(10)"
   ]
  },
  {
   "cell_type": "code",
   "execution_count": 2,
   "metadata": {},
   "outputs": [
    {
     "name": "stdout",
     "output_type": "stream",
     "text": [
      "Usted tiene edad suficiente para conducir\n"
     ]
    }
   ],
   "source": [
    "def verificar_si_puede_conducir():\n",
    "    edad = int(input('Ingresa tu edad: '))\n",
    "    if edad >= 18:\n",
    "        print('Usted tiene edad suficiente para conducir')\n",
    "    else:\n",
    "        print('Usted No tiene edad suficiente para conducir')\n",
    "verificar_si_puede_conducir()"
   ]
  },
  {
   "cell_type": "code",
   "execution_count": 1,
   "metadata": {},
   "outputs": [
    {
     "name": "stdout",
     "output_type": "stream",
     "text": [
      "Usted tiene edad suficiente para conducir\n"
     ]
    }
   ],
   "source": [
    "def run():\n",
    "    \n",
    "        def verificar_si_puede_conducir():\n",
    "            edad = int(input('Ingresa tu edad: '))\n",
    "            if edad >= 18:\n",
    "                print('Usted tiene edad suficiente para conducir')\n",
    "            else:\n",
    "                print('Usted No tiene edad suficiente para conducir')\n",
    "        verificar_si_puede_conducir()\n",
    "\n",
    "if __name__=='__main__':\n",
    "    run()"
   ]
  },
  {
   "cell_type": "markdown",
   "metadata": {},
   "source": [
    "Lo que aprendimos en esta aula:\n",
    "\n",
    "Creamos una función que recibe un parámetro.\n",
    "Aprendimos a usar las condicionales.\n",
    "Convertimos el string str de la función input, que es pasado por el usuario para un valor entero int."
   ]
  }
 ],
 "metadata": {
  "kernelspec": {
   "display_name": "Python 3",
   "language": "python",
   "name": "python3"
  },
  "language_info": {
   "codemirror_mode": {
    "name": "ipython",
    "version": 3
   },
   "file_extension": ".py",
   "mimetype": "text/x-python",
   "name": "python",
   "nbconvert_exporter": "python",
   "pygments_lexer": "ipython3",
   "version": "3.11.5"
  },
  "orig_nbformat": 4
 },
 "nbformat": 4,
 "nbformat_minor": 2
}
