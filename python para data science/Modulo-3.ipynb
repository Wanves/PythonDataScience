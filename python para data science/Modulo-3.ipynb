{
 "cells": [
  {
   "cell_type": "code",
   "execution_count": 3,
   "metadata": {},
   "outputs": [],
   "source": [
    "edad = [1,2,3,4,5,6,7,8,9]"
   ]
  },
  {
   "cell_type": "code",
   "execution_count": 4,
   "metadata": {},
   "outputs": [
    {
     "data": {
      "text/plain": [
       "[1, 2, 3, 4, 5, 6, 7, 8, 9]"
      ]
     },
     "execution_count": 4,
     "metadata": {},
     "output_type": "execute_result"
    }
   ],
   "source": [
    "edad"
   ]
  },
  {
   "cell_type": "code",
   "execution_count": 5,
   "metadata": {},
   "outputs": [
    {
     "data": {
      "text/plain": [
       "list"
      ]
     },
     "execution_count": 5,
     "metadata": {},
     "output_type": "execute_result"
    }
   ],
   "source": [
    "type(edad)"
   ]
  },
  {
   "cell_type": "code",
   "execution_count": 6,
   "metadata": {},
   "outputs": [
    {
     "data": {
      "text/plain": [
       "[1, 2, 3]"
      ]
     },
     "execution_count": 6,
     "metadata": {},
     "output_type": "execute_result"
    }
   ],
   "source": [
    "edad[:3]"
   ]
  },
  {
   "cell_type": "code",
   "execution_count": 7,
   "metadata": {},
   "outputs": [
    {
     "data": {
      "text/plain": [
       "[6, 7, 8, 9]"
      ]
     },
     "execution_count": 7,
     "metadata": {},
     "output_type": "execute_result"
    }
   ],
   "source": [
    "edad[5:]"
   ]
  },
  {
   "cell_type": "code",
   "execution_count": 9,
   "metadata": {},
   "outputs": [
    {
     "data": {
      "text/plain": [
       "7"
      ]
     },
     "execution_count": 9,
     "metadata": {},
     "output_type": "execute_result"
    }
   ],
   "source": [
    "edad[6]"
   ]
  },
  {
   "cell_type": "code",
   "execution_count": 11,
   "metadata": {},
   "outputs": [
    {
     "data": {
      "text/plain": [
       "8"
      ]
     },
     "execution_count": 11,
     "metadata": {},
     "output_type": "execute_result"
    }
   ],
   "source": [
    "edad[-2]"
   ]
  },
  {
   "cell_type": "code",
   "execution_count": 12,
   "metadata": {},
   "outputs": [
    {
     "data": {
      "text/plain": [
       "[5, 6, 7, 8]"
      ]
     },
     "execution_count": 12,
     "metadata": {},
     "output_type": "execute_result"
    }
   ],
   "source": [
    "edad[4:8]"
   ]
  },
  {
   "cell_type": "code",
   "execution_count": 22,
   "metadata": {},
   "outputs": [],
   "source": [
    "edades = [18,15,12,45,50]"
   ]
  },
  {
   "cell_type": "code",
   "execution_count": 31,
   "metadata": {},
   "outputs": [
    {
     "name": "stdout",
     "output_type": "stream",
     "text": [
      "Usted tiene edad suficiente para conducir\n",
      "Usted No tiene edad suficiente para conducir\n",
      "Usted No tiene edad suficiente para conducir\n",
      "Usted tiene edad suficiente para conducir\n",
      "Esta ingresando un valor no requerido\n"
     ]
    }
   ],
   "source": [
    "def run():\n",
    "    try:\n",
    "        edades = [18,15,12,45,'A']\n",
    "        def verificar_si_puede_conducir_con_bucle(edades):\n",
    "            \n",
    "            for edad in edades:\n",
    "                if edad >= 18:\n",
    "                    print('Usted tiene edad suficiente para conducir')\n",
    "                else:\n",
    "                    print('Usted No tiene edad suficiente para conducir')\n",
    "        verificar_si_puede_conducir_con_bucle(edades)\n",
    "    except:\n",
    "        print('Esta ingresando un valor no requerido')\n",
    "\n",
    "if __name__=='__main__':\n",
    "    run()"
   ]
  },
  {
   "cell_type": "code",
   "execution_count": 30,
   "metadata": {},
   "outputs": [
    {
     "name": "stdout",
     "output_type": "stream",
     "text": [
      "Usted tiene edad suficiente para conducir\n",
      "Usted No tiene edad suficiente para conducir\n",
      "Usted No tiene edad suficiente para conducir\n",
      "Usted tiene edad suficiente para conducir\n",
      "Usted tiene edad suficiente para conducir\n"
     ]
    }
   ],
   "source": [
    "def run():\n",
    "    try:\n",
    "        edades = [18,15,12,45,50]\n",
    "        def verificar_si_puede_conducir_con_bucle(edades):\n",
    "            \n",
    "            for edad in edades:\n",
    "                if edad >= 18:\n",
    "                    print('Usted tiene edad suficiente para conducir')\n",
    "                else:\n",
    "                    print('Usted No tiene edad suficiente para conducir')\n",
    "        verificar_si_puede_conducir_con_bucle(edades)\n",
    "    except:\n",
    "        print('Esta ingresando un valor no requerido')\n",
    "\n",
    "if __name__=='__main__':\n",
    "    run()"
   ]
  },
  {
   "cell_type": "code",
   "execution_count": 32,
   "metadata": {},
   "outputs": [
    {
     "data": {
      "text/plain": [
       "True"
      ]
     },
     "execution_count": 32,
     "metadata": {},
     "output_type": "execute_result"
    }
   ],
   "source": [
    "edad !=18"
   ]
  },
  {
   "cell_type": "code",
   "execution_count": 33,
   "metadata": {},
   "outputs": [
    {
     "data": {
      "text/plain": [
       "False"
      ]
     },
     "execution_count": 33,
     "metadata": {},
     "output_type": "execute_result"
    }
   ],
   "source": [
    "edad == 18"
   ]
  },
  {
   "cell_type": "code",
   "execution_count": 45,
   "metadata": {},
   "outputs": [
    {
     "name": "stdout",
     "output_type": "stream",
     "text": [
      "Usted No tiene edad suficiente para conducir\n",
      "Usted No tiene edad suficiente para conducir\n",
      "Usted tiene edad suficiente para conducir\n",
      "[False, False, True]\n"
     ]
    }
   ],
   "source": [
    "verificaciones = []\n",
    "edades = [13,15,20]\n",
    "\n",
    "def verificar_si_puede_conducir_bool(verificaciones, edades):\n",
    "    for edad in edades:\n",
    "        if edad >= 18:\n",
    "            verificaciones.append(True)\n",
    "        else:\n",
    "            verificaciones.append(False)\n",
    "    for verificacion in verificaciones:\n",
    "        if verificacion == True:\n",
    "            print('Usted tiene edad suficiente para conducir')\n",
    "        else:\n",
    "            print('Usted No tiene edad suficiente para conducir')\n",
    "                    \n",
    "            \n",
    "verificar_si_puede_conducir_bool(verificaciones,edades)\n",
    "print(verificaciones)"
   ]
  },
  {
   "cell_type": "code",
   "execution_count": 51,
   "metadata": {},
   "outputs": [
    {
     "data": {
      "text/plain": [
       "['Zoe', 25, True, 'Argentina']"
      ]
     },
     "execution_count": 51,
     "metadata": {},
     "output_type": "execute_result"
    }
   ],
   "source": [
    "persona = ['Zoe', 25, True,'Argentina']\n",
    "persona"
   ]
  },
  {
   "cell_type": "code",
   "execution_count": 53,
   "metadata": {},
   "outputs": [
    {
     "name": "stdout",
     "output_type": "stream",
     "text": [
      "El valor Zoe de la lista es del tipo: <class 'str'>\n",
      "El valor 25 de la lista es del tipo: <class 'int'>\n",
      "El valor True de la lista es del tipo: <class 'bool'>\n",
      "El valor Argentina de la lista es del tipo: <class 'str'>\n"
     ]
    }
   ],
   "source": [
    "for i in persona:\n",
    "    print(f'El valor {i} de la lista es del tipo: {type(i)}')"
   ]
  },
  {
   "cell_type": "markdown",
   "metadata": {},
   "source": [
    "Lo que aprendimos en esta aula:\n",
    "\n",
    "Creamos nuestra primera lista en Python.\n",
    "Aprendimos a utilizar ciclos y bucles, específicamente la estructura de repetición for.\n",
    "Descubrimos el tipo booleano.\n",
    "Vimos que es posible almacenar elementos de diferentes tipos en una lista."
   ]
  }
 ],
 "metadata": {
  "kernelspec": {
   "display_name": "Python 3",
   "language": "python",
   "name": "python3"
  },
  "language_info": {
   "codemirror_mode": {
    "name": "ipython",
    "version": 3
   },
   "file_extension": ".py",
   "mimetype": "text/x-python",
   "name": "python",
   "nbconvert_exporter": "python",
   "pygments_lexer": "ipython3",
   "version": "3.11.5"
  },
  "orig_nbformat": 4
 },
 "nbformat": 4,
 "nbformat_minor": 2
}
