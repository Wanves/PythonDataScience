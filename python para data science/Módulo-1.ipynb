{
 "cells": [
  {
   "cell_type": "markdown",
   "metadata": {
    "notebookRunGroups": {
     "groupValue": "1"
    }
   },
   "source": [
    "Python para Data Science"
   ]
  },
  {
   "cell_type": "markdown",
   "metadata": {},
   "source": [
    "Variables"
   ]
  },
  {
   "cell_type": "code",
   "execution_count": 3,
   "metadata": {},
   "outputs": [
    {
     "name": "stdout",
     "output_type": "stream",
     "text": [
      "El nombre es Juan\n"
     ]
    }
   ],
   "source": [
    "nombre = 'Juan'\n",
    "print(f'El nombre es {nombre}')"
   ]
  },
  {
   "cell_type": "code",
   "execution_count": 6,
   "metadata": {},
   "outputs": [
    {
     "name": "stdout",
     "output_type": "stream",
     "text": [
      "El nombre del usuario es Juan y su edad es 50 años\n"
     ]
    }
   ],
   "source": [
    "edad = 50\n",
    "print(f'El nombre del usuario es {nombre} y su edad es {edad} años')"
   ]
  },
  {
   "cell_type": "code",
   "execution_count": 4,
   "metadata": {},
   "outputs": [
    {
     "name": "stdout",
     "output_type": "stream",
     "text": [
      "El nombre ingresado es: Juan Wanvestrant\n",
      "La edad ingresada es: 50\n"
     ]
    }
   ],
   "source": [
    "def saludar():\n",
    "    name = input('Ingrese su nombre: ')\n",
    "    edad = int(input('Ingresse su edad: '))\n",
    "    print(f'El nombre ingresado es: {name}')\n",
    "    print(f'La edad ingresada es: {edad}')\n",
    "saludar()"
   ]
  },
  {
   "cell_type": "markdown",
   "metadata": {},
   "source": [
    "Lo que aprendimos en esta aula:\n",
    "\n",
    "Aprendimos qué son las variables.\n",
    "Creamos nuestra primera función.\n",
    "Entendimos la diferencia entre lenguaje de alto y bajo nivel."
   ]
  }
 ],
 "metadata": {
  "kernelspec": {
   "display_name": "Python 3",
   "language": "python",
   "name": "python3"
  },
  "language_info": {
   "codemirror_mode": {
    "name": "ipython",
    "version": 3
   },
   "file_extension": ".py",
   "mimetype": "text/x-python",
   "name": "python",
   "nbconvert_exporter": "python",
   "pygments_lexer": "ipython3",
   "version": "3.11.5"
  },
  "orig_nbformat": 4
 },
 "nbformat": 4,
 "nbformat_minor": 2
}
