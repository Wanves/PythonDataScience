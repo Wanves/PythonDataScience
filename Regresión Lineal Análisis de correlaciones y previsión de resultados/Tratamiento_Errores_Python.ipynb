{
  "cells": [
    {
      "cell_type": "markdown",
      "metadata": {
        "id": "CWnalbld6_Sk"
      },
      "source": [
        "# 1. NameError"
      ]
    },
    {
      "cell_type": "code",
      "execution_count": 19,
      "metadata": {
        "id": "Jd97y4Sk60rM"
      },
      "outputs": [],
      "source": [
        "year = 2020"
      ]
    },
    {
      "cell_type": "code",
      "execution_count": 20,
      "metadata": {
        "colab": {
          "base_uri": "https://localhost:8080/"
        },
        "id": "Guk23bvT7any",
        "outputId": "69f10d07-5d43-4b75-dfcc-3fc76725ac39"
      },
      "outputs": [
        {
          "name": "stdout",
          "output_type": "stream",
          "text": [
            "2021\n"
          ]
        }
      ],
      "source": [
        "print(year + 1)"
      ]
    },
    {
      "cell_type": "markdown",
      "metadata": {
        "id": "wz-GPAyI7mxn"
      },
      "source": [
        "# 2. IndexError"
      ]
    },
    {
      "cell_type": "code",
      "execution_count": 21,
      "metadata": {
        "id": "QwaIJulf7pC6"
      },
      "outputs": [
        {
          "ename": "IndexError",
          "evalue": "list index out of range",
          "output_type": "error",
          "traceback": [
            "\u001b[1;31m---------------------------------------------------------------------------\u001b[0m",
            "\u001b[1;31mIndexError\u001b[0m                                Traceback (most recent call last)",
            "\u001b[1;32mc:\\Users\\DELL\\Desktop\\python codigo facilito\\Python para análisis de datos - Bootcamp DS2\\Regresión Lineal Análisis de correlaciones y previsión de resultados\\Tratamiento_Errores_Python.ipynb Celda 5\u001b[0m line \u001b[0;36m2\n\u001b[0;32m      <a href='vscode-notebook-cell:/c%3A/Users/DELL/Desktop/python%20codigo%20facilito/Python%20para%20an%C3%A1lisis%20de%20datos%20-%20Bootcamp%20DS2/Regresi%C3%B3n%20Lineal%20An%C3%A1lisis%20de%20correlaciones%20y%20previsi%C3%B3n%20de%20resultados/Tratamiento_Errores_Python.ipynb#W4sZmlsZQ%3D%3D?line=0'>1</a>\u001b[0m lista \u001b[39m=\u001b[39m [\u001b[39m'\u001b[39m\u001b[39mgato\u001b[39m\u001b[39m'\u001b[39m,\u001b[39m'\u001b[39m\u001b[39mpato\u001b[39m\u001b[39m'\u001b[39m,\u001b[39m'\u001b[39m\u001b[39mperro\u001b[39m\u001b[39m'\u001b[39m,\u001b[39m'\u001b[39m\u001b[39mdinosaurio\u001b[39m\u001b[39m'\u001b[39m]\n\u001b[1;32m----> <a href='vscode-notebook-cell:/c%3A/Users/DELL/Desktop/python%20codigo%20facilito/Python%20para%20an%C3%A1lisis%20de%20datos%20-%20Bootcamp%20DS2/Regresi%C3%B3n%20Lineal%20An%C3%A1lisis%20de%20correlaciones%20y%20previsi%C3%B3n%20de%20resultados/Tratamiento_Errores_Python.ipynb#W4sZmlsZQ%3D%3D?line=1'>2</a>\u001b[0m \u001b[39mprint\u001b[39m(lista[\u001b[39m4\u001b[39;49m])\n",
            "\u001b[1;31mIndexError\u001b[0m: list index out of range"
          ]
        }
      ],
      "source": [
        "lista = ['gato','pato','perro','dinosaurio']\n",
        "print(lista[4])"
      ]
    },
    {
      "cell_type": "markdown",
      "metadata": {
        "id": "gJzk4MQs77y8"
      },
      "source": [
        "# 3. SintaxError"
      ]
    },
    {
      "cell_type": "code",
      "execution_count": 22,
      "metadata": {
        "colab": {
          "base_uri": "https://localhost:8080/"
        },
        "id": "5X72ZWhf7-z2",
        "outputId": "949ec24e-d0a2-4408-c375-d4a12abf92c8"
      },
      "outputs": [
        {
          "name": "stdout",
          "output_type": "stream",
          "text": [
            "El número x es mayor que 4\n"
          ]
        }
      ],
      "source": [
        "x = 5\n",
        "if x > 4:\n",
        "  print('El número x es mayor que 4')"
      ]
    },
    {
      "cell_type": "markdown",
      "metadata": {
        "id": "nG_tDA8Z8TDr"
      },
      "source": [
        "# 4. TypeError"
      ]
    },
    {
      "cell_type": "code",
      "execution_count": 23,
      "metadata": {
        "colab": {
          "base_uri": "https://localhost:8080/"
        },
        "id": "zErufLnD8WUy",
        "outputId": "d361a2a7-a0b7-4de6-8a5d-2f7d33983d43"
      },
      "outputs": [
        {
          "name": "stdout",
          "output_type": "stream",
          "text": [
            "8\n"
          ]
        }
      ],
      "source": [
        "x = 5\n",
        "y = 3\n",
        "suma = x + y\n",
        "print(suma)"
      ]
    },
    {
      "cell_type": "markdown",
      "metadata": {
        "id": "m1gchX6X8lmI"
      },
      "source": [
        "# 5. AttributeError"
      ]
    },
    {
      "cell_type": "code",
      "execution_count": 24,
      "metadata": {
        "colab": {
          "base_uri": "https://localhost:8080/"
        },
        "id": "JOrgR-Th8o5T",
        "outputId": "f1c8000d-8bf0-48d9-ba19-84e5f726902b"
      },
      "outputs": [
        {
          "name": "stdout",
          "output_type": "stream",
          "text": [
            "['conejo', 'gato', 'pato', 'perro', 'dinosaurio']\n"
          ]
        }
      ],
      "source": [
        "lista = ['gato','pato','perro','dinosaurio']\n",
        "#lista.append('hipopotamo')\n",
        "lista.insert(0,'conejo')\n",
        "print(lista)"
      ]
    },
    {
      "cell_type": "markdown",
      "metadata": {
        "id": "UVBMowxL83e7"
      },
      "source": [
        "# 6. ModuleNotFoundError"
      ]
    },
    {
      "cell_type": "code",
      "execution_count": 25,
      "metadata": {
        "id": "d6hCn4Pg87UO"
      },
      "outputs": [],
      "source": [
        "import jellyfish"
      ]
    },
    {
      "cell_type": "code",
      "execution_count": null,
      "metadata": {
        "colab": {
          "base_uri": "https://localhost:8080/"
        },
        "id": "E3yceM3FTMi4",
        "outputId": "0abe9505-5f5e-4cff-f5c3-a0507074a5d4"
      },
      "outputs": [],
      "source": [
        "!pip install jellyfish"
      ]
    },
    {
      "cell_type": "code",
      "execution_count": 26,
      "metadata": {
        "colab": {
          "base_uri": "https://localhost:8080/"
        },
        "id": "IBALkvHH9rIE",
        "outputId": "eee699cd-90f4-45ff-9821-a1c084529073"
      },
      "outputs": [
        {
          "data": {
            "text/plain": [
              "0.9428571428571428"
            ]
          },
          "execution_count": 26,
          "metadata": {},
          "output_type": "execute_result"
        }
      ],
      "source": [
        "import jellyfish\n",
        "jellyfish.jaro_winkler_similarity('carro', 'carrito')"
      ]
    },
    {
      "cell_type": "markdown",
      "metadata": {
        "id": "1IGIqobL-xDE"
      },
      "source": [
        "# 7. ZeroDivisionError"
      ]
    },
    {
      "cell_type": "code",
      "execution_count": 27,
      "metadata": {
        "id": "PZSKARgM-y6k"
      },
      "outputs": [
        {
          "ename": "ZeroDivisionError",
          "evalue": "division by zero",
          "output_type": "error",
          "traceback": [
            "\u001b[1;31m---------------------------------------------------------------------------\u001b[0m",
            "\u001b[1;31mZeroDivisionError\u001b[0m                         Traceback (most recent call last)",
            "\u001b[1;32mc:\\Users\\DELL\\Desktop\\python codigo facilito\\Python para análisis de datos - Bootcamp DS2\\Regresión Lineal Análisis de correlaciones y previsión de resultados\\Tratamiento_Errores_Python.ipynb Celda 17\u001b[0m line \u001b[0;36m2\n\u001b[0;32m      <a href='vscode-notebook-cell:/c%3A/Users/DELL/Desktop/python%20codigo%20facilito/Python%20para%20an%C3%A1lisis%20de%20datos%20-%20Bootcamp%20DS2/Regresi%C3%B3n%20Lineal%20An%C3%A1lisis%20de%20correlaciones%20y%20previsi%C3%B3n%20de%20resultados/Tratamiento_Errores_Python.ipynb#X22sZmlsZQ%3D%3D?line=0'>1</a>\u001b[0m numero \u001b[39m=\u001b[39m \u001b[39m10\u001b[39m\n\u001b[1;32m----> <a href='vscode-notebook-cell:/c%3A/Users/DELL/Desktop/python%20codigo%20facilito/Python%20para%20an%C3%A1lisis%20de%20datos%20-%20Bootcamp%20DS2/Regresi%C3%B3n%20Lineal%20An%C3%A1lisis%20de%20correlaciones%20y%20previsi%C3%B3n%20de%20resultados/Tratamiento_Errores_Python.ipynb#X22sZmlsZQ%3D%3D?line=1'>2</a>\u001b[0m resultado \u001b[39m=\u001b[39m numero \u001b[39m/\u001b[39;49m \u001b[39m0\u001b[39;49m\n\u001b[0;32m      <a href='vscode-notebook-cell:/c%3A/Users/DELL/Desktop/python%20codigo%20facilito/Python%20para%20an%C3%A1lisis%20de%20datos%20-%20Bootcamp%20DS2/Regresi%C3%B3n%20Lineal%20An%C3%A1lisis%20de%20correlaciones%20y%20previsi%C3%B3n%20de%20resultados/Tratamiento_Errores_Python.ipynb#X22sZmlsZQ%3D%3D?line=2'>3</a>\u001b[0m \u001b[39mprint\u001b[39m(resultado)\n",
            "\u001b[1;31mZeroDivisionError\u001b[0m: division by zero"
          ]
        }
      ],
      "source": [
        "numero = 10\n",
        "resultado = numero / 0\n",
        "print(resultado)"
      ]
    },
    {
      "cell_type": "code",
      "execution_count": 28,
      "metadata": {
        "colab": {
          "base_uri": "https://localhost:8080/"
        },
        "id": "Yc8nZgRkCW9m",
        "outputId": "18c43790-acac-4610-95d4-4294512692e6"
      },
      "outputs": [
        {
          "name": "stdout",
          "output_type": "stream",
          "text": [
            "None\n"
          ]
        }
      ],
      "source": [
        "try:\n",
        "  resultado = numero / 0\n",
        "except ZeroDivisionError:\n",
        "  resultado = None\n",
        "print(resultado)"
      ]
    },
    {
      "cell_type": "markdown",
      "metadata": {
        "id": "b0G3_N_Q_6p7"
      },
      "source": [
        "# 8. UnicodeDecodeError"
      ]
    },
    {
      "cell_type": "code",
      "execution_count": 29,
      "metadata": {},
      "outputs": [],
      "source": [
        "import pandas as pd"
      ]
    },
    {
      "cell_type": "code",
      "execution_count": 30,
      "metadata": {
        "id": "_ka6alsSCCqr"
      },
      "outputs": [
        {
          "data": {
            "text/html": [
              "<div>\n",
              "<style scoped>\n",
              "    .dataframe tbody tr th:only-of-type {\n",
              "        vertical-align: middle;\n",
              "    }\n",
              "\n",
              "    .dataframe tbody tr th {\n",
              "        vertical-align: top;\n",
              "    }\n",
              "\n",
              "    .dataframe thead th {\n",
              "        text-align: right;\n",
              "    }\n",
              "</style>\n",
              "<table border=\"1\" class=\"dataframe\">\n",
              "  <thead>\n",
              "    <tr style=\"text-align: right;\">\n",
              "      <th></th>\n",
              "      <th>fecha</th>\n",
              "      <th>temp_media</th>\n",
              "      <th>temp_min</th>\n",
              "      <th>temp_max</th>\n",
              "      <th>lluvia</th>\n",
              "      <th>fds</th>\n",
              "      <th>consumo</th>\n",
              "    </tr>\n",
              "  </thead>\n",
              "  <tbody>\n",
              "    <tr>\n",
              "      <th>0</th>\n",
              "      <td>01/01/2015</td>\n",
              "      <td>27.30</td>\n",
              "      <td>23.9</td>\n",
              "      <td>32.5</td>\n",
              "      <td>0.0</td>\n",
              "      <td>0</td>\n",
              "      <td>25461</td>\n",
              "    </tr>\n",
              "    <tr>\n",
              "      <th>1</th>\n",
              "      <td>02/01/2015</td>\n",
              "      <td>27.02</td>\n",
              "      <td>24.5</td>\n",
              "      <td>33.5</td>\n",
              "      <td>0.0</td>\n",
              "      <td>0</td>\n",
              "      <td>28972</td>\n",
              "    </tr>\n",
              "    <tr>\n",
              "      <th>2</th>\n",
              "      <td>03/01/2015</td>\n",
              "      <td>24.82</td>\n",
              "      <td>22.4</td>\n",
              "      <td>29.9</td>\n",
              "      <td>0.0</td>\n",
              "      <td>1</td>\n",
              "      <td>30814</td>\n",
              "    </tr>\n",
              "    <tr>\n",
              "      <th>3</th>\n",
              "      <td>04/01/2015</td>\n",
              "      <td>23.98</td>\n",
              "      <td>21.5</td>\n",
              "      <td>28.6</td>\n",
              "      <td>1.2</td>\n",
              "      <td>1</td>\n",
              "      <td>29799</td>\n",
              "    </tr>\n",
              "    <tr>\n",
              "      <th>4</th>\n",
              "      <td>05/01/2015</td>\n",
              "      <td>23.82</td>\n",
              "      <td>21.0</td>\n",
              "      <td>28.3</td>\n",
              "      <td>0.0</td>\n",
              "      <td>0</td>\n",
              "      <td>28900</td>\n",
              "    </tr>\n",
              "    <tr>\n",
              "      <th>...</th>\n",
              "      <td>...</td>\n",
              "      <td>...</td>\n",
              "      <td>...</td>\n",
              "      <td>...</td>\n",
              "      <td>...</td>\n",
              "      <td>...</td>\n",
              "      <td>...</td>\n",
              "    </tr>\n",
              "    <tr>\n",
              "      <th>360</th>\n",
              "      <td>27/12/2015</td>\n",
              "      <td>24.00</td>\n",
              "      <td>21.1</td>\n",
              "      <td>28.2</td>\n",
              "      <td>13.6</td>\n",
              "      <td>1</td>\n",
              "      <td>32307</td>\n",
              "    </tr>\n",
              "    <tr>\n",
              "      <th>361</th>\n",
              "      <td>28/12/2015</td>\n",
              "      <td>22.64</td>\n",
              "      <td>21.1</td>\n",
              "      <td>26.7</td>\n",
              "      <td>0.0</td>\n",
              "      <td>0</td>\n",
              "      <td>26095</td>\n",
              "    </tr>\n",
              "    <tr>\n",
              "      <th>362</th>\n",
              "      <td>29/12/2015</td>\n",
              "      <td>21.68</td>\n",
              "      <td>20.3</td>\n",
              "      <td>24.1</td>\n",
              "      <td>10.3</td>\n",
              "      <td>0</td>\n",
              "      <td>22309</td>\n",
              "    </tr>\n",
              "    <tr>\n",
              "      <th>363</th>\n",
              "      <td>30/12/2015</td>\n",
              "      <td>21.38</td>\n",
              "      <td>19.3</td>\n",
              "      <td>22.4</td>\n",
              "      <td>6.3</td>\n",
              "      <td>0</td>\n",
              "      <td>20467</td>\n",
              "    </tr>\n",
              "    <tr>\n",
              "      <th>364</th>\n",
              "      <td>31/12/2015</td>\n",
              "      <td>24.76</td>\n",
              "      <td>20.2</td>\n",
              "      <td>29.0</td>\n",
              "      <td>0.0</td>\n",
              "      <td>0</td>\n",
              "      <td>22446</td>\n",
              "    </tr>\n",
              "  </tbody>\n",
              "</table>\n",
              "<p>365 rows × 7 columns</p>\n",
              "</div>"
            ],
            "text/plain": [
              "          fecha  temp_media  temp_min  temp_max  lluvia  fds  consumo\n",
              "0    01/01/2015       27.30      23.9      32.5     0.0    0    25461\n",
              "1    02/01/2015       27.02      24.5      33.5     0.0    0    28972\n",
              "2    03/01/2015       24.82      22.4      29.9     0.0    1    30814\n",
              "3    04/01/2015       23.98      21.5      28.6     1.2    1    29799\n",
              "4    05/01/2015       23.82      21.0      28.3     0.0    0    28900\n",
              "..          ...         ...       ...       ...     ...  ...      ...\n",
              "360  27/12/2015       24.00      21.1      28.2    13.6    1    32307\n",
              "361  28/12/2015       22.64      21.1      26.7     0.0    0    26095\n",
              "362  29/12/2015       21.68      20.3      24.1    10.3    0    22309\n",
              "363  30/12/2015       21.38      19.3      22.4     6.3    0    20467\n",
              "364  31/12/2015       24.76      20.2      29.0     0.0    0    22446\n",
              "\n",
              "[365 rows x 7 columns]"
            ]
          },
          "execution_count": 30,
          "metadata": {},
          "output_type": "execute_result"
        }
      ],
      "source": [
        "df = pd.read_csv(\"Consumo_cerveza.csv\", sep=';')\n",
        "df"
      ]
    },
    {
      "cell_type": "code",
      "execution_count": 35,
      "metadata": {
        "colab": {
          "base_uri": "https://localhost:8080/"
        },
        "id": "WwHKsMxLdBNZ",
        "outputId": "d28d6788-1c41-4eb8-ec47-ea0033ff6284"
      },
      "outputs": [
        {
          "name": "stdout",
          "output_type": "stream",
          "text": [
            "Encoding Correcto:  ISO-8859-1\n",
            "Encoding Correcto:  UTF-8\n",
            "Encoding Correcto:  latin-1\n",
            "Encoding Correcto:  latin-1\n"
          ]
        }
      ],
      "source": [
        "import csv\n",
        "\n",
        "def try_encoding(filename, encoding):\n",
        "    try:\n",
        "        pd.read_csv(\"Consumo_cerveza.csv\",sep=';',encoding=encoding)\n",
        "        print('Encoding Correcto: ',encoding)\n",
        "    except UnicodeDecodeError:\n",
        "        print('Encoding Incorrecto: ',encoding)\n",
        "        pass\n",
        "\n",
        "encodings = ['ISO-8859-1', 'UTF-8', 'latin-1']\n",
        "\n",
        "for encoding in encodings:\n",
        "    try_encoding('Consumo_cerveza.csv', encoding)\n",
        "try_encoding(df,encoding)"
      ]
    },
    {
      "cell_type": "code",
      "execution_count": null,
      "metadata": {
        "colab": {
          "base_uri": "https://localhost:8080/"
        },
        "id": "24iCF5vy_-S9",
        "outputId": "9b8c372b-029b-4ac4-f74f-dea269260dd0"
      },
      "outputs": [],
      "source": [
        "import pandas as pd\n",
        "# df = pd.read_csv(\"Consumo_cerveza.csv\", encoding='ISO-8859-1', sep='\\t', names = ['code', 'detail'])\n",
        "df = pd.read_csv(\"Consumo_cerveza.csv\", encoding='ISO-8859-1', sep=';', names = ['code', 'detail'])\n",
        "df"
      ]
    }
  ],
  "metadata": {
    "colab": {
      "collapsed_sections": [
        "wz-GPAyI7mxn",
        "gJzk4MQs77y8",
        "nG_tDA8Z8TDr",
        "m1gchX6X8lmI",
        "UVBMowxL83e7",
        "1IGIqobL-xDE"
      ],
      "provenance": []
    },
    "kernelspec": {
      "display_name": "Python 3",
      "name": "python3"
    },
    "language_info": {
      "codemirror_mode": {
        "name": "ipython",
        "version": 3
      },
      "file_extension": ".py",
      "mimetype": "text/x-python",
      "name": "python",
      "nbconvert_exporter": "python",
      "pygments_lexer": "ipython3",
      "version": "3.12.0"
    }
  },
  "nbformat": 4,
  "nbformat_minor": 0
}
