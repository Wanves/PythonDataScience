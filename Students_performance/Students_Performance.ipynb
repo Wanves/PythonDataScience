{
  "cells": [
    {
      "cell_type": "code",
      "execution_count": 10,
      "metadata": {
        "id": "KGje6RsFX1oB"
      },
      "outputs": [],
      "source": [
        "import numpy as np\n",
        "import pandas as pd\n",
        "import warnings\n",
        "warnings.filterwarnings('ignore')\n",
        "import plotly.express as px\n",
        "import plotly.graph_objects as go"
      ]
    },
    {
      "cell_type": "code",
      "execution_count": 11,
      "metadata": {
        "colab": {
          "base_uri": "https://localhost:8080/"
        },
        "id": "4fWZzdaHXsE6",
        "outputId": "6e4d11f6-7bd7-4e71-9732-a97a6d16e5d3"
      },
      "outputs": [
        {
          "name": "stdout",
          "output_type": "stream",
          "text": [
            "Path to dataset files: Cleaned_Students_Performance.csv\n"
          ]
        }
      ],
      "source": [
        "\n",
        "import os\n",
        "\n",
        "# Download latest version\n",
        "path = 'Cleaned_Students_Performance.csv'\n",
        "\n",
        "print(\"Path to dataset files:\", path)\n",
        "\n",
        "# Find the CSV file within the downloaded directory\n",
        "for root, dirs, files in os.walk(path):\n",
        "    for file in files:\n",
        "        if file.endswith(\".csv\"):\n",
        "            csv_file_path = os.path.join(root, file)\n",
        "            break  # Stop searching once found"
      ]
    },
    {
      "cell_type": "code",
      "execution_count": 12,
      "metadata": {
        "colab": {
          "base_uri": "https://localhost:8080/",
          "height": 423
        },
        "id": "rFA9p6iEYCjx",
        "outputId": "5f7f7145-332d-4b86-9b5e-5f031ede8d8e"
      },
      "outputs": [
        {
          "data": {
            "text/html": [
              "<div>\n",
              "<style scoped>\n",
              "    .dataframe tbody tr th:only-of-type {\n",
              "        vertical-align: middle;\n",
              "    }\n",
              "\n",
              "    .dataframe tbody tr th {\n",
              "        vertical-align: top;\n",
              "    }\n",
              "\n",
              "    .dataframe thead th {\n",
              "        text-align: right;\n",
              "    }\n",
              "</style>\n",
              "<table border=\"1\" class=\"dataframe\">\n",
              "  <thead>\n",
              "    <tr style=\"text-align: right;\">\n",
              "      <th></th>\n",
              "      <th>gender</th>\n",
              "      <th>race_ethnicity</th>\n",
              "      <th>parental_level_of_education</th>\n",
              "      <th>lunch</th>\n",
              "      <th>test_preparation_course</th>\n",
              "      <th>math_score</th>\n",
              "      <th>reading_score</th>\n",
              "      <th>writing_score</th>\n",
              "      <th>total_score</th>\n",
              "      <th>average_score</th>\n",
              "    </tr>\n",
              "  </thead>\n",
              "  <tbody>\n",
              "    <tr>\n",
              "      <th>0</th>\n",
              "      <td>0</td>\n",
              "      <td>group B</td>\n",
              "      <td>bachelor's degree</td>\n",
              "      <td>1</td>\n",
              "      <td>0</td>\n",
              "      <td>72</td>\n",
              "      <td>72</td>\n",
              "      <td>74</td>\n",
              "      <td>218</td>\n",
              "      <td>72.666667</td>\n",
              "    </tr>\n",
              "    <tr>\n",
              "      <th>1</th>\n",
              "      <td>0</td>\n",
              "      <td>group C</td>\n",
              "      <td>some college</td>\n",
              "      <td>1</td>\n",
              "      <td>1</td>\n",
              "      <td>69</td>\n",
              "      <td>90</td>\n",
              "      <td>88</td>\n",
              "      <td>247</td>\n",
              "      <td>82.333333</td>\n",
              "    </tr>\n",
              "    <tr>\n",
              "      <th>2</th>\n",
              "      <td>0</td>\n",
              "      <td>group B</td>\n",
              "      <td>master's degree</td>\n",
              "      <td>1</td>\n",
              "      <td>0</td>\n",
              "      <td>90</td>\n",
              "      <td>95</td>\n",
              "      <td>93</td>\n",
              "      <td>278</td>\n",
              "      <td>92.666667</td>\n",
              "    </tr>\n",
              "    <tr>\n",
              "      <th>3</th>\n",
              "      <td>1</td>\n",
              "      <td>group A</td>\n",
              "      <td>associate's degree</td>\n",
              "      <td>0</td>\n",
              "      <td>0</td>\n",
              "      <td>47</td>\n",
              "      <td>57</td>\n",
              "      <td>44</td>\n",
              "      <td>148</td>\n",
              "      <td>49.333333</td>\n",
              "    </tr>\n",
              "    <tr>\n",
              "      <th>4</th>\n",
              "      <td>1</td>\n",
              "      <td>group C</td>\n",
              "      <td>some college</td>\n",
              "      <td>1</td>\n",
              "      <td>0</td>\n",
              "      <td>76</td>\n",
              "      <td>78</td>\n",
              "      <td>75</td>\n",
              "      <td>229</td>\n",
              "      <td>76.333333</td>\n",
              "    </tr>\n",
              "    <tr>\n",
              "      <th>...</th>\n",
              "      <td>...</td>\n",
              "      <td>...</td>\n",
              "      <td>...</td>\n",
              "      <td>...</td>\n",
              "      <td>...</td>\n",
              "      <td>...</td>\n",
              "      <td>...</td>\n",
              "      <td>...</td>\n",
              "      <td>...</td>\n",
              "      <td>...</td>\n",
              "    </tr>\n",
              "    <tr>\n",
              "      <th>995</th>\n",
              "      <td>0</td>\n",
              "      <td>group E</td>\n",
              "      <td>master's degree</td>\n",
              "      <td>1</td>\n",
              "      <td>1</td>\n",
              "      <td>88</td>\n",
              "      <td>99</td>\n",
              "      <td>95</td>\n",
              "      <td>282</td>\n",
              "      <td>94.000000</td>\n",
              "    </tr>\n",
              "    <tr>\n",
              "      <th>996</th>\n",
              "      <td>1</td>\n",
              "      <td>group C</td>\n",
              "      <td>high school</td>\n",
              "      <td>0</td>\n",
              "      <td>0</td>\n",
              "      <td>62</td>\n",
              "      <td>55</td>\n",
              "      <td>55</td>\n",
              "      <td>172</td>\n",
              "      <td>57.333333</td>\n",
              "    </tr>\n",
              "    <tr>\n",
              "      <th>997</th>\n",
              "      <td>0</td>\n",
              "      <td>group C</td>\n",
              "      <td>high school</td>\n",
              "      <td>0</td>\n",
              "      <td>1</td>\n",
              "      <td>59</td>\n",
              "      <td>71</td>\n",
              "      <td>65</td>\n",
              "      <td>195</td>\n",
              "      <td>65.000000</td>\n",
              "    </tr>\n",
              "    <tr>\n",
              "      <th>998</th>\n",
              "      <td>0</td>\n",
              "      <td>group D</td>\n",
              "      <td>some college</td>\n",
              "      <td>1</td>\n",
              "      <td>1</td>\n",
              "      <td>68</td>\n",
              "      <td>78</td>\n",
              "      <td>77</td>\n",
              "      <td>223</td>\n",
              "      <td>74.333333</td>\n",
              "    </tr>\n",
              "    <tr>\n",
              "      <th>999</th>\n",
              "      <td>0</td>\n",
              "      <td>group D</td>\n",
              "      <td>some college</td>\n",
              "      <td>0</td>\n",
              "      <td>0</td>\n",
              "      <td>77</td>\n",
              "      <td>86</td>\n",
              "      <td>86</td>\n",
              "      <td>249</td>\n",
              "      <td>83.000000</td>\n",
              "    </tr>\n",
              "  </tbody>\n",
              "</table>\n",
              "<p>1000 rows × 10 columns</p>\n",
              "</div>"
            ],
            "text/plain": [
              "     gender race_ethnicity parental_level_of_education  lunch  \\\n",
              "0         0        group B           bachelor's degree      1   \n",
              "1         0        group C                some college      1   \n",
              "2         0        group B             master's degree      1   \n",
              "3         1        group A          associate's degree      0   \n",
              "4         1        group C                some college      1   \n",
              "..      ...            ...                         ...    ...   \n",
              "995       0        group E             master's degree      1   \n",
              "996       1        group C                 high school      0   \n",
              "997       0        group C                 high school      0   \n",
              "998       0        group D                some college      1   \n",
              "999       0        group D                some college      0   \n",
              "\n",
              "     test_preparation_course  math_score  reading_score  writing_score  \\\n",
              "0                          0          72             72             74   \n",
              "1                          1          69             90             88   \n",
              "2                          0          90             95             93   \n",
              "3                          0          47             57             44   \n",
              "4                          0          76             78             75   \n",
              "..                       ...         ...            ...            ...   \n",
              "995                        1          88             99             95   \n",
              "996                        0          62             55             55   \n",
              "997                        1          59             71             65   \n",
              "998                        1          68             78             77   \n",
              "999                        0          77             86             86   \n",
              "\n",
              "     total_score  average_score  \n",
              "0            218      72.666667  \n",
              "1            247      82.333333  \n",
              "2            278      92.666667  \n",
              "3            148      49.333333  \n",
              "4            229      76.333333  \n",
              "..           ...            ...  \n",
              "995          282      94.000000  \n",
              "996          172      57.333333  \n",
              "997          195      65.000000  \n",
              "998          223      74.333333  \n",
              "999          249      83.000000  \n",
              "\n",
              "[1000 rows x 10 columns]"
            ]
          },
          "execution_count": 12,
          "metadata": {},
          "output_type": "execute_result"
        }
      ],
      "source": [
        "df = pd.read_csv(path)\n",
        "df"
      ]
    },
    {
      "cell_type": "code",
      "execution_count": 13,
      "metadata": {
        "id": "WdsbIwQEYej5"
      },
      "outputs": [],
      "source": [
        "columnas_renombradas = {\n",
        "    \"gender\": \"género\",\n",
        "    \"race_ethnicity\": \"raza_etnia\",\n",
        "    \"parental_level_of_education\": \"nivel_educativo_parental\",\n",
        "    \"lunch\": \"almuerzo\",\n",
        "    \"test_preparation_course\": \"curso_preparación_examen\",\n",
        "    \"math_score\": \"puntaje_matemáticas\",\n",
        "    \"reading_score\": \"puntaje_lectura\",\n",
        "    \"writing_score\": \"puntaje_escritura\",\n",
        "    \"total_score\": \"puntaje_total\",\n",
        "    \"average_score\": \"puntaje_promedio\"\n",
        "}\n"
      ]
    },
    {
      "cell_type": "code",
      "execution_count": 14,
      "metadata": {
        "colab": {
          "base_uri": "https://localhost:8080/",
          "height": 423
        },
        "id": "Lte7FOTxYgZv",
        "outputId": "cb8067bb-2376-45a0-bcdc-f376d72e5f1a"
      },
      "outputs": [
        {
          "data": {
            "text/html": [
              "<div>\n",
              "<style scoped>\n",
              "    .dataframe tbody tr th:only-of-type {\n",
              "        vertical-align: middle;\n",
              "    }\n",
              "\n",
              "    .dataframe tbody tr th {\n",
              "        vertical-align: top;\n",
              "    }\n",
              "\n",
              "    .dataframe thead th {\n",
              "        text-align: right;\n",
              "    }\n",
              "</style>\n",
              "<table border=\"1\" class=\"dataframe\">\n",
              "  <thead>\n",
              "    <tr style=\"text-align: right;\">\n",
              "      <th></th>\n",
              "      <th>género</th>\n",
              "      <th>raza_etnia</th>\n",
              "      <th>nivel_educativo_parental</th>\n",
              "      <th>almuerzo</th>\n",
              "      <th>curso_preparación_examen</th>\n",
              "      <th>puntaje_matemáticas</th>\n",
              "      <th>puntaje_lectura</th>\n",
              "      <th>puntaje_escritura</th>\n",
              "      <th>puntaje_total</th>\n",
              "      <th>puntaje_promedio</th>\n",
              "    </tr>\n",
              "  </thead>\n",
              "  <tbody>\n",
              "    <tr>\n",
              "      <th>0</th>\n",
              "      <td>0</td>\n",
              "      <td>group B</td>\n",
              "      <td>bachelor's degree</td>\n",
              "      <td>1</td>\n",
              "      <td>0</td>\n",
              "      <td>72</td>\n",
              "      <td>72</td>\n",
              "      <td>74</td>\n",
              "      <td>218</td>\n",
              "      <td>72.666667</td>\n",
              "    </tr>\n",
              "    <tr>\n",
              "      <th>1</th>\n",
              "      <td>0</td>\n",
              "      <td>group C</td>\n",
              "      <td>some college</td>\n",
              "      <td>1</td>\n",
              "      <td>1</td>\n",
              "      <td>69</td>\n",
              "      <td>90</td>\n",
              "      <td>88</td>\n",
              "      <td>247</td>\n",
              "      <td>82.333333</td>\n",
              "    </tr>\n",
              "    <tr>\n",
              "      <th>2</th>\n",
              "      <td>0</td>\n",
              "      <td>group B</td>\n",
              "      <td>master's degree</td>\n",
              "      <td>1</td>\n",
              "      <td>0</td>\n",
              "      <td>90</td>\n",
              "      <td>95</td>\n",
              "      <td>93</td>\n",
              "      <td>278</td>\n",
              "      <td>92.666667</td>\n",
              "    </tr>\n",
              "    <tr>\n",
              "      <th>3</th>\n",
              "      <td>1</td>\n",
              "      <td>group A</td>\n",
              "      <td>associate's degree</td>\n",
              "      <td>0</td>\n",
              "      <td>0</td>\n",
              "      <td>47</td>\n",
              "      <td>57</td>\n",
              "      <td>44</td>\n",
              "      <td>148</td>\n",
              "      <td>49.333333</td>\n",
              "    </tr>\n",
              "    <tr>\n",
              "      <th>4</th>\n",
              "      <td>1</td>\n",
              "      <td>group C</td>\n",
              "      <td>some college</td>\n",
              "      <td>1</td>\n",
              "      <td>0</td>\n",
              "      <td>76</td>\n",
              "      <td>78</td>\n",
              "      <td>75</td>\n",
              "      <td>229</td>\n",
              "      <td>76.333333</td>\n",
              "    </tr>\n",
              "    <tr>\n",
              "      <th>...</th>\n",
              "      <td>...</td>\n",
              "      <td>...</td>\n",
              "      <td>...</td>\n",
              "      <td>...</td>\n",
              "      <td>...</td>\n",
              "      <td>...</td>\n",
              "      <td>...</td>\n",
              "      <td>...</td>\n",
              "      <td>...</td>\n",
              "      <td>...</td>\n",
              "    </tr>\n",
              "    <tr>\n",
              "      <th>995</th>\n",
              "      <td>0</td>\n",
              "      <td>group E</td>\n",
              "      <td>master's degree</td>\n",
              "      <td>1</td>\n",
              "      <td>1</td>\n",
              "      <td>88</td>\n",
              "      <td>99</td>\n",
              "      <td>95</td>\n",
              "      <td>282</td>\n",
              "      <td>94.000000</td>\n",
              "    </tr>\n",
              "    <tr>\n",
              "      <th>996</th>\n",
              "      <td>1</td>\n",
              "      <td>group C</td>\n",
              "      <td>high school</td>\n",
              "      <td>0</td>\n",
              "      <td>0</td>\n",
              "      <td>62</td>\n",
              "      <td>55</td>\n",
              "      <td>55</td>\n",
              "      <td>172</td>\n",
              "      <td>57.333333</td>\n",
              "    </tr>\n",
              "    <tr>\n",
              "      <th>997</th>\n",
              "      <td>0</td>\n",
              "      <td>group C</td>\n",
              "      <td>high school</td>\n",
              "      <td>0</td>\n",
              "      <td>1</td>\n",
              "      <td>59</td>\n",
              "      <td>71</td>\n",
              "      <td>65</td>\n",
              "      <td>195</td>\n",
              "      <td>65.000000</td>\n",
              "    </tr>\n",
              "    <tr>\n",
              "      <th>998</th>\n",
              "      <td>0</td>\n",
              "      <td>group D</td>\n",
              "      <td>some college</td>\n",
              "      <td>1</td>\n",
              "      <td>1</td>\n",
              "      <td>68</td>\n",
              "      <td>78</td>\n",
              "      <td>77</td>\n",
              "      <td>223</td>\n",
              "      <td>74.333333</td>\n",
              "    </tr>\n",
              "    <tr>\n",
              "      <th>999</th>\n",
              "      <td>0</td>\n",
              "      <td>group D</td>\n",
              "      <td>some college</td>\n",
              "      <td>0</td>\n",
              "      <td>0</td>\n",
              "      <td>77</td>\n",
              "      <td>86</td>\n",
              "      <td>86</td>\n",
              "      <td>249</td>\n",
              "      <td>83.000000</td>\n",
              "    </tr>\n",
              "  </tbody>\n",
              "</table>\n",
              "<p>1000 rows × 10 columns</p>\n",
              "</div>"
            ],
            "text/plain": [
              "     género raza_etnia nivel_educativo_parental  almuerzo  \\\n",
              "0         0    group B        bachelor's degree         1   \n",
              "1         0    group C             some college         1   \n",
              "2         0    group B          master's degree         1   \n",
              "3         1    group A       associate's degree         0   \n",
              "4         1    group C             some college         1   \n",
              "..      ...        ...                      ...       ...   \n",
              "995       0    group E          master's degree         1   \n",
              "996       1    group C              high school         0   \n",
              "997       0    group C              high school         0   \n",
              "998       0    group D             some college         1   \n",
              "999       0    group D             some college         0   \n",
              "\n",
              "     curso_preparación_examen  puntaje_matemáticas  puntaje_lectura  \\\n",
              "0                           0                   72               72   \n",
              "1                           1                   69               90   \n",
              "2                           0                   90               95   \n",
              "3                           0                   47               57   \n",
              "4                           0                   76               78   \n",
              "..                        ...                  ...              ...   \n",
              "995                         1                   88               99   \n",
              "996                         0                   62               55   \n",
              "997                         1                   59               71   \n",
              "998                         1                   68               78   \n",
              "999                         0                   77               86   \n",
              "\n",
              "     puntaje_escritura  puntaje_total  puntaje_promedio  \n",
              "0                   74            218         72.666667  \n",
              "1                   88            247         82.333333  \n",
              "2                   93            278         92.666667  \n",
              "3                   44            148         49.333333  \n",
              "4                   75            229         76.333333  \n",
              "..                 ...            ...               ...  \n",
              "995                 95            282         94.000000  \n",
              "996                 55            172         57.333333  \n",
              "997                 65            195         65.000000  \n",
              "998                 77            223         74.333333  \n",
              "999                 86            249         83.000000  \n",
              "\n",
              "[1000 rows x 10 columns]"
            ]
          },
          "execution_count": 14,
          "metadata": {},
          "output_type": "execute_result"
        }
      ],
      "source": [
        "df = df.rename(columns=columnas_renombradas)\n",
        "df"
      ]
    },
    {
      "cell_type": "code",
      "execution_count": 15,
      "metadata": {
        "colab": {
          "base_uri": "https://localhost:8080/"
        },
        "id": "0yBmUzzW2ZUQ",
        "outputId": "9d6c342a-dfb4-4bfb-a22a-3f7f054ccff6"
      },
      "outputs": [
        {
          "data": {
            "text/plain": [
              "array([\"bachelor's degree\", 'some college', \"master's degree\",\n",
              "       \"associate's degree\", 'high school', 'some high school'],\n",
              "      dtype=object)"
            ]
          },
          "execution_count": 15,
          "metadata": {},
          "output_type": "execute_result"
        }
      ],
      "source": [
        "df['nivel_educativo_parental'].unique()"
      ]
    },
    {
      "cell_type": "code",
      "execution_count": 16,
      "metadata": {
        "id": "hMmMCMqj2vg4"
      },
      "outputs": [],
      "source": [
        "translations = {\n",
        "        \"bachelor's degree\": \"licenciatura\",\n",
        "        'some college': \"algún curso universitario\",\n",
        "        \"master's degree\": \"maestría\",\n",
        "        \"associate's degree\": \"título universitario de asociado\",\n",
        "        'high school': \"secundaria\",\n",
        "        'some high school': \"secundaria incompleta\"\n",
        "    }"
      ]
    },
    {
      "cell_type": "code",
      "execution_count": 17,
      "metadata": {
        "colab": {
          "base_uri": "https://localhost:8080/",
          "height": 423
        },
        "id": "4w8PzmeC2x5e",
        "outputId": "90122948-f824-4931-bd89-77f753a0a857"
      },
      "outputs": [
        {
          "data": {
            "text/html": [
              "<div>\n",
              "<style scoped>\n",
              "    .dataframe tbody tr th:only-of-type {\n",
              "        vertical-align: middle;\n",
              "    }\n",
              "\n",
              "    .dataframe tbody tr th {\n",
              "        vertical-align: top;\n",
              "    }\n",
              "\n",
              "    .dataframe thead th {\n",
              "        text-align: right;\n",
              "    }\n",
              "</style>\n",
              "<table border=\"1\" class=\"dataframe\">\n",
              "  <thead>\n",
              "    <tr style=\"text-align: right;\">\n",
              "      <th></th>\n",
              "      <th>género</th>\n",
              "      <th>raza_etnia</th>\n",
              "      <th>nivel_educativo_parental</th>\n",
              "      <th>almuerzo</th>\n",
              "      <th>curso_preparación_examen</th>\n",
              "      <th>puntaje_matemáticas</th>\n",
              "      <th>puntaje_lectura</th>\n",
              "      <th>puntaje_escritura</th>\n",
              "      <th>puntaje_total</th>\n",
              "      <th>puntaje_promedio</th>\n",
              "    </tr>\n",
              "  </thead>\n",
              "  <tbody>\n",
              "    <tr>\n",
              "      <th>0</th>\n",
              "      <td>0</td>\n",
              "      <td>group B</td>\n",
              "      <td>licenciatura</td>\n",
              "      <td>1</td>\n",
              "      <td>0</td>\n",
              "      <td>72</td>\n",
              "      <td>72</td>\n",
              "      <td>74</td>\n",
              "      <td>218</td>\n",
              "      <td>72.666667</td>\n",
              "    </tr>\n",
              "    <tr>\n",
              "      <th>1</th>\n",
              "      <td>0</td>\n",
              "      <td>group C</td>\n",
              "      <td>algún curso universitario</td>\n",
              "      <td>1</td>\n",
              "      <td>1</td>\n",
              "      <td>69</td>\n",
              "      <td>90</td>\n",
              "      <td>88</td>\n",
              "      <td>247</td>\n",
              "      <td>82.333333</td>\n",
              "    </tr>\n",
              "    <tr>\n",
              "      <th>2</th>\n",
              "      <td>0</td>\n",
              "      <td>group B</td>\n",
              "      <td>maestría</td>\n",
              "      <td>1</td>\n",
              "      <td>0</td>\n",
              "      <td>90</td>\n",
              "      <td>95</td>\n",
              "      <td>93</td>\n",
              "      <td>278</td>\n",
              "      <td>92.666667</td>\n",
              "    </tr>\n",
              "    <tr>\n",
              "      <th>3</th>\n",
              "      <td>1</td>\n",
              "      <td>group A</td>\n",
              "      <td>título universitario de asociado</td>\n",
              "      <td>0</td>\n",
              "      <td>0</td>\n",
              "      <td>47</td>\n",
              "      <td>57</td>\n",
              "      <td>44</td>\n",
              "      <td>148</td>\n",
              "      <td>49.333333</td>\n",
              "    </tr>\n",
              "    <tr>\n",
              "      <th>4</th>\n",
              "      <td>1</td>\n",
              "      <td>group C</td>\n",
              "      <td>algún curso universitario</td>\n",
              "      <td>1</td>\n",
              "      <td>0</td>\n",
              "      <td>76</td>\n",
              "      <td>78</td>\n",
              "      <td>75</td>\n",
              "      <td>229</td>\n",
              "      <td>76.333333</td>\n",
              "    </tr>\n",
              "    <tr>\n",
              "      <th>...</th>\n",
              "      <td>...</td>\n",
              "      <td>...</td>\n",
              "      <td>...</td>\n",
              "      <td>...</td>\n",
              "      <td>...</td>\n",
              "      <td>...</td>\n",
              "      <td>...</td>\n",
              "      <td>...</td>\n",
              "      <td>...</td>\n",
              "      <td>...</td>\n",
              "    </tr>\n",
              "    <tr>\n",
              "      <th>995</th>\n",
              "      <td>0</td>\n",
              "      <td>group E</td>\n",
              "      <td>maestría</td>\n",
              "      <td>1</td>\n",
              "      <td>1</td>\n",
              "      <td>88</td>\n",
              "      <td>99</td>\n",
              "      <td>95</td>\n",
              "      <td>282</td>\n",
              "      <td>94.000000</td>\n",
              "    </tr>\n",
              "    <tr>\n",
              "      <th>996</th>\n",
              "      <td>1</td>\n",
              "      <td>group C</td>\n",
              "      <td>secundaria</td>\n",
              "      <td>0</td>\n",
              "      <td>0</td>\n",
              "      <td>62</td>\n",
              "      <td>55</td>\n",
              "      <td>55</td>\n",
              "      <td>172</td>\n",
              "      <td>57.333333</td>\n",
              "    </tr>\n",
              "    <tr>\n",
              "      <th>997</th>\n",
              "      <td>0</td>\n",
              "      <td>group C</td>\n",
              "      <td>secundaria</td>\n",
              "      <td>0</td>\n",
              "      <td>1</td>\n",
              "      <td>59</td>\n",
              "      <td>71</td>\n",
              "      <td>65</td>\n",
              "      <td>195</td>\n",
              "      <td>65.000000</td>\n",
              "    </tr>\n",
              "    <tr>\n",
              "      <th>998</th>\n",
              "      <td>0</td>\n",
              "      <td>group D</td>\n",
              "      <td>algún curso universitario</td>\n",
              "      <td>1</td>\n",
              "      <td>1</td>\n",
              "      <td>68</td>\n",
              "      <td>78</td>\n",
              "      <td>77</td>\n",
              "      <td>223</td>\n",
              "      <td>74.333333</td>\n",
              "    </tr>\n",
              "    <tr>\n",
              "      <th>999</th>\n",
              "      <td>0</td>\n",
              "      <td>group D</td>\n",
              "      <td>algún curso universitario</td>\n",
              "      <td>0</td>\n",
              "      <td>0</td>\n",
              "      <td>77</td>\n",
              "      <td>86</td>\n",
              "      <td>86</td>\n",
              "      <td>249</td>\n",
              "      <td>83.000000</td>\n",
              "    </tr>\n",
              "  </tbody>\n",
              "</table>\n",
              "<p>1000 rows × 10 columns</p>\n",
              "</div>"
            ],
            "text/plain": [
              "     género raza_etnia          nivel_educativo_parental  almuerzo  \\\n",
              "0         0    group B                      licenciatura         1   \n",
              "1         0    group C         algún curso universitario         1   \n",
              "2         0    group B                          maestría         1   \n",
              "3         1    group A  título universitario de asociado         0   \n",
              "4         1    group C         algún curso universitario         1   \n",
              "..      ...        ...                               ...       ...   \n",
              "995       0    group E                          maestría         1   \n",
              "996       1    group C                        secundaria         0   \n",
              "997       0    group C                        secundaria         0   \n",
              "998       0    group D         algún curso universitario         1   \n",
              "999       0    group D         algún curso universitario         0   \n",
              "\n",
              "     curso_preparación_examen  puntaje_matemáticas  puntaje_lectura  \\\n",
              "0                           0                   72               72   \n",
              "1                           1                   69               90   \n",
              "2                           0                   90               95   \n",
              "3                           0                   47               57   \n",
              "4                           0                   76               78   \n",
              "..                        ...                  ...              ...   \n",
              "995                         1                   88               99   \n",
              "996                         0                   62               55   \n",
              "997                         1                   59               71   \n",
              "998                         1                   68               78   \n",
              "999                         0                   77               86   \n",
              "\n",
              "     puntaje_escritura  puntaje_total  puntaje_promedio  \n",
              "0                   74            218         72.666667  \n",
              "1                   88            247         82.333333  \n",
              "2                   93            278         92.666667  \n",
              "3                   44            148         49.333333  \n",
              "4                   75            229         76.333333  \n",
              "..                 ...            ...               ...  \n",
              "995                 95            282         94.000000  \n",
              "996                 55            172         57.333333  \n",
              "997                 65            195         65.000000  \n",
              "998                 77            223         74.333333  \n",
              "999                 86            249         83.000000  \n",
              "\n",
              "[1000 rows x 10 columns]"
            ]
          },
          "execution_count": 17,
          "metadata": {},
          "output_type": "execute_result"
        }
      ],
      "source": [
        "df = df.replace({\"nivel_educativo_parental\": translations})\n",
        "df"
      ]
    },
    {
      "cell_type": "code",
      "execution_count": 18,
      "metadata": {
        "colab": {
          "base_uri": "https://localhost:8080/",
          "height": 542
        },
        "id": "bTB9F0REEH6R",
        "outputId": "8faf2381-a956-498a-947c-eddb3d4581a5"
      },
      "outputs": [
        {
          "data": {
            "application/vnd.plotly.v1+json": {
              "config": {
                "plotlyServerURL": "https://plot.ly"
              },
              "data": [
                {
                  "alignmentgroup": "True",
                  "hovertemplate": "género=%{x}<br>puntaje_total=%{y}<extra></extra>",
                  "legendgroup": "0",
                  "marker": {
                    "color": "#636efa"
                  },
                  "name": "0",
                  "notched": false,
                  "offsetgroup": "0",
                  "orientation": "v",
                  "showlegend": true,
                  "type": "box",
                  "x": [
                    0,
                    0,
                    0,
                    0,
                    0,
                    0,
                    0,
                    0,
                    0,
                    0,
                    0,
                    0,
                    0,
                    0,
                    0,
                    0,
                    0,
                    0,
                    0,
                    0,
                    0,
                    0,
                    0,
                    0,
                    0,
                    0,
                    0,
                    0,
                    0,
                    0,
                    0,
                    0,
                    0,
                    0,
                    0,
                    0,
                    0,
                    0,
                    0,
                    0,
                    0,
                    0,
                    0,
                    0,
                    0,
                    0,
                    0,
                    0,
                    0,
                    0,
                    0,
                    0,
                    0,
                    0,
                    0,
                    0,
                    0,
                    0,
                    0,
                    0,
                    0,
                    0,
                    0,
                    0,
                    0,
                    0,
                    0,
                    0,
                    0,
                    0,
                    0,
                    0,
                    0,
                    0,
                    0,
                    0,
                    0,
                    0,
                    0,
                    0,
                    0,
                    0,
                    0,
                    0,
                    0,
                    0,
                    0,
                    0,
                    0,
                    0,
                    0,
                    0,
                    0,
                    0,
                    0,
                    0,
                    0,
                    0,
                    0,
                    0,
                    0,
                    0,
                    0,
                    0,
                    0,
                    0,
                    0,
                    0,
                    0,
                    0,
                    0,
                    0,
                    0,
                    0,
                    0,
                    0,
                    0,
                    0,
                    0,
                    0,
                    0,
                    0,
                    0,
                    0,
                    0,
                    0,
                    0,
                    0,
                    0,
                    0,
                    0,
                    0,
                    0,
                    0,
                    0,
                    0,
                    0,
                    0,
                    0,
                    0,
                    0,
                    0,
                    0,
                    0,
                    0,
                    0,
                    0,
                    0,
                    0,
                    0,
                    0,
                    0,
                    0,
                    0,
                    0,
                    0,
                    0,
                    0,
                    0,
                    0,
                    0,
                    0,
                    0,
                    0,
                    0,
                    0,
                    0,
                    0,
                    0,
                    0,
                    0,
                    0,
                    0,
                    0,
                    0,
                    0,
                    0,
                    0,
                    0,
                    0,
                    0,
                    0,
                    0,
                    0,
                    0,
                    0,
                    0,
                    0,
                    0,
                    0,
                    0,
                    0,
                    0,
                    0,
                    0,
                    0,
                    0,
                    0,
                    0,
                    0,
                    0,
                    0,
                    0,
                    0,
                    0,
                    0,
                    0,
                    0,
                    0,
                    0,
                    0,
                    0,
                    0,
                    0,
                    0,
                    0,
                    0,
                    0,
                    0,
                    0,
                    0,
                    0,
                    0,
                    0,
                    0,
                    0,
                    0,
                    0,
                    0,
                    0,
                    0,
                    0,
                    0,
                    0,
                    0,
                    0,
                    0,
                    0,
                    0,
                    0,
                    0,
                    0,
                    0,
                    0,
                    0,
                    0,
                    0,
                    0,
                    0,
                    0,
                    0,
                    0,
                    0,
                    0,
                    0,
                    0,
                    0,
                    0,
                    0,
                    0,
                    0,
                    0,
                    0,
                    0,
                    0,
                    0,
                    0,
                    0,
                    0,
                    0,
                    0,
                    0,
                    0,
                    0,
                    0,
                    0,
                    0,
                    0,
                    0,
                    0,
                    0,
                    0,
                    0,
                    0,
                    0,
                    0,
                    0,
                    0,
                    0,
                    0,
                    0,
                    0,
                    0,
                    0,
                    0,
                    0,
                    0,
                    0,
                    0,
                    0,
                    0,
                    0,
                    0,
                    0,
                    0,
                    0,
                    0,
                    0,
                    0,
                    0,
                    0,
                    0,
                    0,
                    0,
                    0,
                    0,
                    0,
                    0,
                    0,
                    0,
                    0,
                    0,
                    0,
                    0,
                    0,
                    0,
                    0,
                    0,
                    0,
                    0,
                    0,
                    0,
                    0,
                    0,
                    0,
                    0,
                    0,
                    0,
                    0,
                    0,
                    0,
                    0,
                    0,
                    0,
                    0,
                    0,
                    0,
                    0,
                    0,
                    0,
                    0,
                    0,
                    0,
                    0,
                    0,
                    0,
                    0,
                    0,
                    0,
                    0,
                    0,
                    0,
                    0,
                    0,
                    0,
                    0,
                    0,
                    0,
                    0,
                    0,
                    0,
                    0,
                    0,
                    0,
                    0,
                    0,
                    0,
                    0,
                    0,
                    0,
                    0,
                    0,
                    0,
                    0,
                    0,
                    0,
                    0,
                    0,
                    0,
                    0,
                    0,
                    0,
                    0,
                    0,
                    0,
                    0,
                    0,
                    0,
                    0,
                    0,
                    0,
                    0,
                    0,
                    0,
                    0,
                    0,
                    0,
                    0,
                    0,
                    0,
                    0,
                    0,
                    0,
                    0,
                    0,
                    0,
                    0,
                    0,
                    0,
                    0,
                    0,
                    0,
                    0,
                    0,
                    0,
                    0,
                    0,
                    0,
                    0,
                    0,
                    0,
                    0,
                    0,
                    0,
                    0,
                    0,
                    0,
                    0,
                    0,
                    0,
                    0,
                    0,
                    0,
                    0,
                    0,
                    0,
                    0,
                    0,
                    0,
                    0,
                    0,
                    0,
                    0,
                    0,
                    0,
                    0,
                    0,
                    0,
                    0,
                    0,
                    0,
                    0,
                    0,
                    0,
                    0,
                    0,
                    0,
                    0,
                    0,
                    0,
                    0,
                    0,
                    0,
                    0,
                    0,
                    0,
                    0,
                    0,
                    0,
                    0,
                    0,
                    0,
                    0,
                    0,
                    0,
                    0,
                    0,
                    0,
                    0,
                    0,
                    0,
                    0,
                    0,
                    0,
                    0,
                    0,
                    0,
                    0,
                    0,
                    0,
                    0,
                    0,
                    0,
                    0,
                    0,
                    0,
                    0,
                    0,
                    0,
                    0,
                    0,
                    0,
                    0,
                    0,
                    0,
                    0,
                    0,
                    0
                  ],
                  "x0": " ",
                  "xaxis": "x",
                  "y": [
                    218,
                    247,
                    278,
                    232,
                    275,
                    148,
                    219,
                    161,
                    222,
                    78,
                    173,
                    210,
                    215,
                    211,
                    207,
                    217,
                    189,
                    193,
                    238,
                    173,
                    253,
                    199,
                    176,
                    160,
                    182,
                    213,
                    207,
                    242,
                    117,
                    253,
                    27,
                    220,
                    176,
                    206,
                    160,
                    194,
                    140,
                    207,
                    198,
                    146,
                    235,
                    247,
                    216,
                    195,
                    241,
                    211,
                    257,
                    205,
                    187,
                    194,
                    265,
                    197,
                    287,
                    198,
                    206,
                    264,
                    163,
                    299,
                    242,
                    239,
                    175,
                    189,
                    260,
                    274,
                    268,
                    151,
                    240,
                    192,
                    219,
                    185,
                    151,
                    94,
                    224,
                    195,
                    247,
                    218,
                    234,
                    248,
                    264,
                    296,
                    212,
                    229,
                    212,
                    246,
                    200,
                    148,
                    259,
                    158,
                    225,
                    184,
                    297,
                    176,
                    147,
                    204,
                    252,
                    200,
                    192,
                    238,
                    153,
                    233,
                    237,
                    223,
                    194,
                    231,
                    185,
                    164,
                    257,
                    115,
                    198,
                    182,
                    191,
                    155,
                    215,
                    277,
                    236,
                    198,
                    246,
                    163,
                    196,
                    191,
                    237,
                    200,
                    205,
                    205,
                    223,
                    227,
                    220,
                    145,
                    282,
                    219,
                    218,
                    275,
                    217,
                    158,
                    206,
                    270,
                    197,
                    231,
                    236,
                    226,
                    129,
                    238,
                    213,
                    232,
                    232,
                    191,
                    158,
                    229,
                    204,
                    198,
                    250,
                    184,
                    230,
                    240,
                    232,
                    149,
                    130,
                    266,
                    147,
                    271,
                    195,
                    89,
                    150,
                    197,
                    219,
                    227,
                    266,
                    186,
                    221,
                    161,
                    200,
                    203,
                    177,
                    259,
                    179,
                    168,
                    93,
                    166,
                    242,
                    188,
                    275,
                    202,
                    252,
                    280,
                    231,
                    249,
                    132,
                    124,
                    218,
                    207,
                    202,
                    190,
                    222,
                    216,
                    180,
                    269,
                    180,
                    169,
                    287,
                    175,
                    204,
                    239,
                    165,
                    215,
                    202,
                    268,
                    179,
                    172,
                    224,
                    191,
                    203,
                    156,
                    227,
                    239,
                    201,
                    232,
                    218,
                    234,
                    289,
                    216,
                    176,
                    257,
                    300,
                    217,
                    258,
                    262,
                    95,
                    250,
                    258,
                    206,
                    238,
                    187,
                    271,
                    230,
                    189,
                    167,
                    155,
                    209,
                    226,
                    198,
                    256,
                    259,
                    186,
                    154,
                    213,
                    203,
                    235,
                    273,
                    276,
                    153,
                    244,
                    265,
                    177,
                    268,
                    248,
                    247,
                    213,
                    222,
                    224,
                    261,
                    132,
                    117,
                    206,
                    208,
                    154,
                    261,
                    232,
                    179,
                    237,
                    266,
                    193,
                    289,
                    193,
                    138,
                    104,
                    206,
                    193,
                    228,
                    211,
                    223,
                    292,
                    210,
                    171,
                    180,
                    226,
                    261,
                    162,
                    182,
                    274,
                    236,
                    214,
                    228,
                    223,
                    217,
                    201,
                    169,
                    183,
                    179,
                    223,
                    291,
                    207,
                    219,
                    228,
                    177,
                    88,
                    234,
                    251,
                    152,
                    187,
                    186,
                    183,
                    216,
                    268,
                    200,
                    120,
                    150,
                    181,
                    150,
                    221,
                    248,
                    228,
                    260,
                    223,
                    252,
                    232,
                    233,
                    227,
                    194,
                    194,
                    158,
                    229,
                    224,
                    269,
                    209,
                    231,
                    196,
                    161,
                    195,
                    201,
                    170,
                    207,
                    249,
                    210,
                    223,
                    233,
                    224,
                    180,
                    227,
                    228,
                    213,
                    113,
                    293,
                    155,
                    227,
                    221,
                    227,
                    168,
                    254,
                    247,
                    201,
                    214,
                    242,
                    196,
                    194,
                    186,
                    161,
                    250,
                    297,
                    204,
                    257,
                    291,
                    226,
                    204,
                    252,
                    217,
                    249,
                    225,
                    270,
                    168,
                    192,
                    150,
                    247,
                    204,
                    169,
                    252,
                    271,
                    176,
                    189,
                    160,
                    187,
                    218,
                    210,
                    214,
                    191,
                    219,
                    162,
                    208,
                    122,
                    233,
                    159,
                    251,
                    243,
                    173,
                    127,
                    228,
                    89,
                    178,
                    170,
                    196,
                    145,
                    198,
                    235,
                    164,
                    276,
                    254,
                    227,
                    213,
                    126,
                    185,
                    235,
                    168,
                    200,
                    256,
                    267,
                    261,
                    240,
                    158,
                    194,
                    210,
                    236,
                    178,
                    249,
                    248,
                    198,
                    236,
                    216,
                    137,
                    103,
                    169,
                    199,
                    192,
                    265,
                    290,
                    225,
                    168,
                    254,
                    222,
                    218,
                    166,
                    211,
                    214,
                    211,
                    208,
                    156,
                    218,
                    288,
                    208,
                    262,
                    262,
                    190,
                    190,
                    104,
                    220,
                    225,
                    225,
                    123,
                    293,
                    235,
                    254,
                    214,
                    235,
                    179,
                    175,
                    162,
                    204,
                    157,
                    214,
                    134,
                    184,
                    197,
                    155,
                    172,
                    265,
                    187,
                    173,
                    167,
                    205,
                    235,
                    220,
                    200,
                    292,
                    167,
                    178,
                    155,
                    300,
                    216,
                    204,
                    211,
                    239,
                    289,
                    163,
                    175,
                    184,
                    223,
                    280,
                    55,
                    256,
                    231,
                    150,
                    134,
                    236,
                    225,
                    207,
                    208,
                    282,
                    195,
                    223,
                    249
                  ],
                  "y0": " ",
                  "yaxis": "y"
                },
                {
                  "alignmentgroup": "True",
                  "hovertemplate": "género=%{x}<br>puntaje_total=%{y}<extra></extra>",
                  "legendgroup": "1",
                  "marker": {
                    "color": "#EF553B"
                  },
                  "name": "1",
                  "notched": false,
                  "offsetgroup": "1",
                  "orientation": "v",
                  "showlegend": true,
                  "type": "box",
                  "x": [
                    1,
                    1,
                    1,
                    1,
                    1,
                    1,
                    1,
                    1,
                    1,
                    1,
                    1,
                    1,
                    1,
                    1,
                    1,
                    1,
                    1,
                    1,
                    1,
                    1,
                    1,
                    1,
                    1,
                    1,
                    1,
                    1,
                    1,
                    1,
                    1,
                    1,
                    1,
                    1,
                    1,
                    1,
                    1,
                    1,
                    1,
                    1,
                    1,
                    1,
                    1,
                    1,
                    1,
                    1,
                    1,
                    1,
                    1,
                    1,
                    1,
                    1,
                    1,
                    1,
                    1,
                    1,
                    1,
                    1,
                    1,
                    1,
                    1,
                    1,
                    1,
                    1,
                    1,
                    1,
                    1,
                    1,
                    1,
                    1,
                    1,
                    1,
                    1,
                    1,
                    1,
                    1,
                    1,
                    1,
                    1,
                    1,
                    1,
                    1,
                    1,
                    1,
                    1,
                    1,
                    1,
                    1,
                    1,
                    1,
                    1,
                    1,
                    1,
                    1,
                    1,
                    1,
                    1,
                    1,
                    1,
                    1,
                    1,
                    1,
                    1,
                    1,
                    1,
                    1,
                    1,
                    1,
                    1,
                    1,
                    1,
                    1,
                    1,
                    1,
                    1,
                    1,
                    1,
                    1,
                    1,
                    1,
                    1,
                    1,
                    1,
                    1,
                    1,
                    1,
                    1,
                    1,
                    1,
                    1,
                    1,
                    1,
                    1,
                    1,
                    1,
                    1,
                    1,
                    1,
                    1,
                    1,
                    1,
                    1,
                    1,
                    1,
                    1,
                    1,
                    1,
                    1,
                    1,
                    1,
                    1,
                    1,
                    1,
                    1,
                    1,
                    1,
                    1,
                    1,
                    1,
                    1,
                    1,
                    1,
                    1,
                    1,
                    1,
                    1,
                    1,
                    1,
                    1,
                    1,
                    1,
                    1,
                    1,
                    1,
                    1,
                    1,
                    1,
                    1,
                    1,
                    1,
                    1,
                    1,
                    1,
                    1,
                    1,
                    1,
                    1,
                    1,
                    1,
                    1,
                    1,
                    1,
                    1,
                    1,
                    1,
                    1,
                    1,
                    1,
                    1,
                    1,
                    1,
                    1,
                    1,
                    1,
                    1,
                    1,
                    1,
                    1,
                    1,
                    1,
                    1,
                    1,
                    1,
                    1,
                    1,
                    1,
                    1,
                    1,
                    1,
                    1,
                    1,
                    1,
                    1,
                    1,
                    1,
                    1,
                    1,
                    1,
                    1,
                    1,
                    1,
                    1,
                    1,
                    1,
                    1,
                    1,
                    1,
                    1,
                    1,
                    1,
                    1,
                    1,
                    1,
                    1,
                    1,
                    1,
                    1,
                    1,
                    1,
                    1,
                    1,
                    1,
                    1,
                    1,
                    1,
                    1,
                    1,
                    1,
                    1,
                    1,
                    1,
                    1,
                    1,
                    1,
                    1,
                    1,
                    1,
                    1,
                    1,
                    1,
                    1,
                    1,
                    1,
                    1,
                    1,
                    1,
                    1,
                    1,
                    1,
                    1,
                    1,
                    1,
                    1,
                    1,
                    1,
                    1,
                    1,
                    1,
                    1,
                    1,
                    1,
                    1,
                    1,
                    1,
                    1,
                    1,
                    1,
                    1,
                    1,
                    1,
                    1,
                    1,
                    1,
                    1,
                    1,
                    1,
                    1,
                    1,
                    1,
                    1,
                    1,
                    1,
                    1,
                    1,
                    1,
                    1,
                    1,
                    1,
                    1,
                    1,
                    1,
                    1,
                    1,
                    1,
                    1,
                    1,
                    1,
                    1,
                    1,
                    1,
                    1,
                    1,
                    1,
                    1,
                    1,
                    1,
                    1,
                    1,
                    1,
                    1,
                    1,
                    1,
                    1,
                    1,
                    1,
                    1,
                    1,
                    1,
                    1,
                    1,
                    1,
                    1,
                    1,
                    1,
                    1,
                    1,
                    1,
                    1,
                    1,
                    1,
                    1,
                    1,
                    1,
                    1,
                    1,
                    1,
                    1,
                    1,
                    1,
                    1,
                    1,
                    1,
                    1,
                    1,
                    1,
                    1,
                    1,
                    1,
                    1,
                    1,
                    1,
                    1,
                    1,
                    1,
                    1,
                    1,
                    1,
                    1,
                    1,
                    1,
                    1,
                    1,
                    1,
                    1,
                    1,
                    1,
                    1,
                    1,
                    1,
                    1,
                    1,
                    1,
                    1,
                    1,
                    1,
                    1,
                    1,
                    1,
                    1,
                    1,
                    1,
                    1,
                    1,
                    1,
                    1,
                    1,
                    1,
                    1,
                    1,
                    1,
                    1,
                    1,
                    1,
                    1,
                    1,
                    1,
                    1,
                    1,
                    1,
                    1,
                    1,
                    1,
                    1,
                    1,
                    1,
                    1,
                    1,
                    1,
                    1,
                    1,
                    1,
                    1,
                    1,
                    1,
                    1,
                    1,
                    1,
                    1,
                    1,
                    1,
                    1,
                    1,
                    1,
                    1,
                    1,
                    1,
                    1,
                    1,
                    1,
                    1,
                    1,
                    1,
                    1,
                    1,
                    1,
                    1,
                    1,
                    1,
                    1,
                    1,
                    1,
                    1,
                    1,
                    1,
                    1,
                    1,
                    1,
                    1,
                    1,
                    1,
                    1,
                    1,
                    1,
                    1
                  ],
                  "x0": " ",
                  "xaxis": "x",
                  "y": [
                    148,
                    229,
                    122,
                    195,
                    164,
                    135,
                    220,
                    263,
                    134,
                    198,
                    151,
                    225,
                    219,
                    178,
                    205,
                    120,
                    266,
                    241,
                    170,
                    170,
                    190,
                    176,
                    248,
                    156,
                    214,
                    139,
                    241,
                    156,
                    175,
                    225,
                    112,
                    178,
                    192,
                    119,
                    175,
                    181,
                    174,
                    139,
                    123,
                    78,
                    239,
                    139,
                    151,
                    199,
                    115,
                    97,
                    221,
                    138,
                    241,
                    193,
                    213,
                    216,
                    151,
                    274,
                    193,
                    166,
                    154,
                    235,
                    272,
                    176,
                    236,
                    207,
                    216,
                    238,
                    255,
                    130,
                    231,
                    228,
                    161,
                    146,
                    181,
                    201,
                    147,
                    239,
                    247,
                    207,
                    293,
                    198,
                    212,
                    150,
                    190,
                    180,
                    192,
                    234,
                    154,
                    154,
                    155,
                    219,
                    260,
                    205,
                    146,
                    197,
                    221,
                    196,
                    145,
                    238,
                    201,
                    168,
                    193,
                    162,
                    215,
                    142,
                    223,
                    206,
                    237,
                    238,
                    90,
                    167,
                    259,
                    242,
                    213,
                    173,
                    245,
                    241,
                    161,
                    204,
                    206,
                    131,
                    257,
                    249,
                    232,
                    196,
                    157,
                    244,
                    207,
                    153,
                    218,
                    232,
                    239,
                    181,
                    145,
                    232,
                    158,
                    232,
                    236,
                    217,
                    142,
                    193,
                    149,
                    249,
                    234,
                    186,
                    147,
                    139,
                    245,
                    267,
                    239,
                    230,
                    214,
                    229,
                    180,
                    235,
                    189,
                    130,
                    213,
                    136,
                    252,
                    240,
                    162,
                    220,
                    205,
                    267,
                    147,
                    183,
                    196,
                    202,
                    233,
                    203,
                    184,
                    70,
                    234,
                    192,
                    119,
                    171,
                    249,
                    215,
                    143,
                    171,
                    206,
                    219,
                    180,
                    215,
                    237,
                    175,
                    185,
                    182,
                    247,
                    177,
                    167,
                    180,
                    188,
                    232,
                    220,
                    130,
                    192,
                    282,
                    231,
                    218,
                    199,
                    210,
                    167,
                    134,
                    194,
                    173,
                    139,
                    193,
                    256,
                    245,
                    197,
                    197,
                    226,
                    213,
                    214,
                    189,
                    167,
                    114,
                    255,
                    205,
                    177,
                    185,
                    189,
                    172,
                    205,
                    151,
                    207,
                    214,
                    177,
                    259,
                    234,
                    195,
                    247,
                    135,
                    226,
                    172,
                    140,
                    155,
                    205,
                    166,
                    153,
                    195,
                    204,
                    241,
                    204,
                    220,
                    214,
                    212,
                    197,
                    157,
                    215,
                    164,
                    174,
                    243,
                    198,
                    219,
                    178,
                    204,
                    168,
                    234,
                    220,
                    157,
                    163,
                    172,
                    184,
                    163,
                    154,
                    187,
                    177,
                    181,
                    210,
                    169,
                    222,
                    275,
                    212,
                    241,
                    241,
                    203,
                    220,
                    220,
                    265,
                    203,
                    138,
                    194,
                    201,
                    278,
                    145,
                    136,
                    158,
                    203,
                    216,
                    279,
                    148,
                    164,
                    169,
                    183,
                    200,
                    69,
                    155,
                    168,
                    263,
                    209,
                    192,
                    275,
                    249,
                    260,
                    206,
                    181,
                    161,
                    282,
                    296,
                    202,
                    155,
                    152,
                    201,
                    204,
                    248,
                    209,
                    236,
                    144,
                    195,
                    160,
                    208,
                    196,
                    262,
                    224,
                    202,
                    206,
                    208,
                    230,
                    159,
                    234,
                    184,
                    188,
                    171,
                    196,
                    228,
                    228,
                    155,
                    266,
                    191,
                    258,
                    199,
                    116,
                    177,
                    255,
                    267,
                    246,
                    223,
                    244,
                    173,
                    140,
                    131,
                    226,
                    176,
                    129,
                    144,
                    146,
                    183,
                    255,
                    225,
                    176,
                    225,
                    157,
                    225,
                    215,
                    201,
                    257,
                    208,
                    205,
                    231,
                    166,
                    165,
                    210,
                    223,
                    245,
                    182,
                    198,
                    175,
                    149,
                    222,
                    191,
                    261,
                    251,
                    194,
                    209,
                    250,
                    210,
                    183,
                    208,
                    229,
                    230,
                    234,
                    164,
                    118,
                    141,
                    247,
                    267,
                    207,
                    152,
                    187,
                    175,
                    182,
                    153,
                    194,
                    168,
                    173,
                    227,
                    259,
                    261,
                    168,
                    224,
                    205,
                    210,
                    181,
                    208,
                    147,
                    232,
                    119,
                    281,
                    252,
                    164,
                    144,
                    224,
                    151,
                    164,
                    244,
                    262,
                    210,
                    247,
                    172,
                    193,
                    145,
                    185,
                    143,
                    237,
                    92,
                    184,
                    258,
                    242,
                    156,
                    204,
                    140,
                    300,
                    278,
                    206,
                    204,
                    213,
                    198,
                    172,
                    133,
                    211,
                    181,
                    205,
                    219,
                    275,
                    191,
                    177,
                    251,
                    214,
                    210,
                    211,
                    184,
                    244,
                    151,
                    238,
                    164,
                    191,
                    252,
                    227,
                    187,
                    198,
                    186,
                    219,
                    182,
                    185,
                    144,
                    237,
                    250,
                    162,
                    232,
                    242,
                    188,
                    172
                  ],
                  "y0": " ",
                  "yaxis": "y"
                }
              ],
              "layout": {
                "boxmode": "overlay",
                "legend": {
                  "title": {
                    "text": "género"
                  },
                  "tracegroupgap": 0
                },
                "template": {
                  "data": {
                    "bar": [
                      {
                        "error_x": {
                          "color": "#2a3f5f"
                        },
                        "error_y": {
                          "color": "#2a3f5f"
                        },
                        "marker": {
                          "line": {
                            "color": "#E5ECF6",
                            "width": 0.5
                          },
                          "pattern": {
                            "fillmode": "overlay",
                            "size": 10,
                            "solidity": 0.2
                          }
                        },
                        "type": "bar"
                      }
                    ],
                    "barpolar": [
                      {
                        "marker": {
                          "line": {
                            "color": "#E5ECF6",
                            "width": 0.5
                          },
                          "pattern": {
                            "fillmode": "overlay",
                            "size": 10,
                            "solidity": 0.2
                          }
                        },
                        "type": "barpolar"
                      }
                    ],
                    "carpet": [
                      {
                        "aaxis": {
                          "endlinecolor": "#2a3f5f",
                          "gridcolor": "white",
                          "linecolor": "white",
                          "minorgridcolor": "white",
                          "startlinecolor": "#2a3f5f"
                        },
                        "baxis": {
                          "endlinecolor": "#2a3f5f",
                          "gridcolor": "white",
                          "linecolor": "white",
                          "minorgridcolor": "white",
                          "startlinecolor": "#2a3f5f"
                        },
                        "type": "carpet"
                      }
                    ],
                    "choropleth": [
                      {
                        "colorbar": {
                          "outlinewidth": 0,
                          "ticks": ""
                        },
                        "type": "choropleth"
                      }
                    ],
                    "contour": [
                      {
                        "colorbar": {
                          "outlinewidth": 0,
                          "ticks": ""
                        },
                        "colorscale": [
                          [
                            0,
                            "#0d0887"
                          ],
                          [
                            0.1111111111111111,
                            "#46039f"
                          ],
                          [
                            0.2222222222222222,
                            "#7201a8"
                          ],
                          [
                            0.3333333333333333,
                            "#9c179e"
                          ],
                          [
                            0.4444444444444444,
                            "#bd3786"
                          ],
                          [
                            0.5555555555555556,
                            "#d8576b"
                          ],
                          [
                            0.6666666666666666,
                            "#ed7953"
                          ],
                          [
                            0.7777777777777778,
                            "#fb9f3a"
                          ],
                          [
                            0.8888888888888888,
                            "#fdca26"
                          ],
                          [
                            1,
                            "#f0f921"
                          ]
                        ],
                        "type": "contour"
                      }
                    ],
                    "contourcarpet": [
                      {
                        "colorbar": {
                          "outlinewidth": 0,
                          "ticks": ""
                        },
                        "type": "contourcarpet"
                      }
                    ],
                    "heatmap": [
                      {
                        "colorbar": {
                          "outlinewidth": 0,
                          "ticks": ""
                        },
                        "colorscale": [
                          [
                            0,
                            "#0d0887"
                          ],
                          [
                            0.1111111111111111,
                            "#46039f"
                          ],
                          [
                            0.2222222222222222,
                            "#7201a8"
                          ],
                          [
                            0.3333333333333333,
                            "#9c179e"
                          ],
                          [
                            0.4444444444444444,
                            "#bd3786"
                          ],
                          [
                            0.5555555555555556,
                            "#d8576b"
                          ],
                          [
                            0.6666666666666666,
                            "#ed7953"
                          ],
                          [
                            0.7777777777777778,
                            "#fb9f3a"
                          ],
                          [
                            0.8888888888888888,
                            "#fdca26"
                          ],
                          [
                            1,
                            "#f0f921"
                          ]
                        ],
                        "type": "heatmap"
                      }
                    ],
                    "heatmapgl": [
                      {
                        "colorbar": {
                          "outlinewidth": 0,
                          "ticks": ""
                        },
                        "colorscale": [
                          [
                            0,
                            "#0d0887"
                          ],
                          [
                            0.1111111111111111,
                            "#46039f"
                          ],
                          [
                            0.2222222222222222,
                            "#7201a8"
                          ],
                          [
                            0.3333333333333333,
                            "#9c179e"
                          ],
                          [
                            0.4444444444444444,
                            "#bd3786"
                          ],
                          [
                            0.5555555555555556,
                            "#d8576b"
                          ],
                          [
                            0.6666666666666666,
                            "#ed7953"
                          ],
                          [
                            0.7777777777777778,
                            "#fb9f3a"
                          ],
                          [
                            0.8888888888888888,
                            "#fdca26"
                          ],
                          [
                            1,
                            "#f0f921"
                          ]
                        ],
                        "type": "heatmapgl"
                      }
                    ],
                    "histogram": [
                      {
                        "marker": {
                          "pattern": {
                            "fillmode": "overlay",
                            "size": 10,
                            "solidity": 0.2
                          }
                        },
                        "type": "histogram"
                      }
                    ],
                    "histogram2d": [
                      {
                        "colorbar": {
                          "outlinewidth": 0,
                          "ticks": ""
                        },
                        "colorscale": [
                          [
                            0,
                            "#0d0887"
                          ],
                          [
                            0.1111111111111111,
                            "#46039f"
                          ],
                          [
                            0.2222222222222222,
                            "#7201a8"
                          ],
                          [
                            0.3333333333333333,
                            "#9c179e"
                          ],
                          [
                            0.4444444444444444,
                            "#bd3786"
                          ],
                          [
                            0.5555555555555556,
                            "#d8576b"
                          ],
                          [
                            0.6666666666666666,
                            "#ed7953"
                          ],
                          [
                            0.7777777777777778,
                            "#fb9f3a"
                          ],
                          [
                            0.8888888888888888,
                            "#fdca26"
                          ],
                          [
                            1,
                            "#f0f921"
                          ]
                        ],
                        "type": "histogram2d"
                      }
                    ],
                    "histogram2dcontour": [
                      {
                        "colorbar": {
                          "outlinewidth": 0,
                          "ticks": ""
                        },
                        "colorscale": [
                          [
                            0,
                            "#0d0887"
                          ],
                          [
                            0.1111111111111111,
                            "#46039f"
                          ],
                          [
                            0.2222222222222222,
                            "#7201a8"
                          ],
                          [
                            0.3333333333333333,
                            "#9c179e"
                          ],
                          [
                            0.4444444444444444,
                            "#bd3786"
                          ],
                          [
                            0.5555555555555556,
                            "#d8576b"
                          ],
                          [
                            0.6666666666666666,
                            "#ed7953"
                          ],
                          [
                            0.7777777777777778,
                            "#fb9f3a"
                          ],
                          [
                            0.8888888888888888,
                            "#fdca26"
                          ],
                          [
                            1,
                            "#f0f921"
                          ]
                        ],
                        "type": "histogram2dcontour"
                      }
                    ],
                    "mesh3d": [
                      {
                        "colorbar": {
                          "outlinewidth": 0,
                          "ticks": ""
                        },
                        "type": "mesh3d"
                      }
                    ],
                    "parcoords": [
                      {
                        "line": {
                          "colorbar": {
                            "outlinewidth": 0,
                            "ticks": ""
                          }
                        },
                        "type": "parcoords"
                      }
                    ],
                    "pie": [
                      {
                        "automargin": true,
                        "type": "pie"
                      }
                    ],
                    "scatter": [
                      {
                        "fillpattern": {
                          "fillmode": "overlay",
                          "size": 10,
                          "solidity": 0.2
                        },
                        "type": "scatter"
                      }
                    ],
                    "scatter3d": [
                      {
                        "line": {
                          "colorbar": {
                            "outlinewidth": 0,
                            "ticks": ""
                          }
                        },
                        "marker": {
                          "colorbar": {
                            "outlinewidth": 0,
                            "ticks": ""
                          }
                        },
                        "type": "scatter3d"
                      }
                    ],
                    "scattercarpet": [
                      {
                        "marker": {
                          "colorbar": {
                            "outlinewidth": 0,
                            "ticks": ""
                          }
                        },
                        "type": "scattercarpet"
                      }
                    ],
                    "scattergeo": [
                      {
                        "marker": {
                          "colorbar": {
                            "outlinewidth": 0,
                            "ticks": ""
                          }
                        },
                        "type": "scattergeo"
                      }
                    ],
                    "scattergl": [
                      {
                        "marker": {
                          "colorbar": {
                            "outlinewidth": 0,
                            "ticks": ""
                          }
                        },
                        "type": "scattergl"
                      }
                    ],
                    "scattermapbox": [
                      {
                        "marker": {
                          "colorbar": {
                            "outlinewidth": 0,
                            "ticks": ""
                          }
                        },
                        "type": "scattermapbox"
                      }
                    ],
                    "scatterpolar": [
                      {
                        "marker": {
                          "colorbar": {
                            "outlinewidth": 0,
                            "ticks": ""
                          }
                        },
                        "type": "scatterpolar"
                      }
                    ],
                    "scatterpolargl": [
                      {
                        "marker": {
                          "colorbar": {
                            "outlinewidth": 0,
                            "ticks": ""
                          }
                        },
                        "type": "scatterpolargl"
                      }
                    ],
                    "scatterternary": [
                      {
                        "marker": {
                          "colorbar": {
                            "outlinewidth": 0,
                            "ticks": ""
                          }
                        },
                        "type": "scatterternary"
                      }
                    ],
                    "surface": [
                      {
                        "colorbar": {
                          "outlinewidth": 0,
                          "ticks": ""
                        },
                        "colorscale": [
                          [
                            0,
                            "#0d0887"
                          ],
                          [
                            0.1111111111111111,
                            "#46039f"
                          ],
                          [
                            0.2222222222222222,
                            "#7201a8"
                          ],
                          [
                            0.3333333333333333,
                            "#9c179e"
                          ],
                          [
                            0.4444444444444444,
                            "#bd3786"
                          ],
                          [
                            0.5555555555555556,
                            "#d8576b"
                          ],
                          [
                            0.6666666666666666,
                            "#ed7953"
                          ],
                          [
                            0.7777777777777778,
                            "#fb9f3a"
                          ],
                          [
                            0.8888888888888888,
                            "#fdca26"
                          ],
                          [
                            1,
                            "#f0f921"
                          ]
                        ],
                        "type": "surface"
                      }
                    ],
                    "table": [
                      {
                        "cells": {
                          "fill": {
                            "color": "#EBF0F8"
                          },
                          "line": {
                            "color": "white"
                          }
                        },
                        "header": {
                          "fill": {
                            "color": "#C8D4E3"
                          },
                          "line": {
                            "color": "white"
                          }
                        },
                        "type": "table"
                      }
                    ]
                  },
                  "layout": {
                    "annotationdefaults": {
                      "arrowcolor": "#2a3f5f",
                      "arrowhead": 0,
                      "arrowwidth": 1
                    },
                    "autotypenumbers": "strict",
                    "coloraxis": {
                      "colorbar": {
                        "outlinewidth": 0,
                        "ticks": ""
                      }
                    },
                    "colorscale": {
                      "diverging": [
                        [
                          0,
                          "#8e0152"
                        ],
                        [
                          0.1,
                          "#c51b7d"
                        ],
                        [
                          0.2,
                          "#de77ae"
                        ],
                        [
                          0.3,
                          "#f1b6da"
                        ],
                        [
                          0.4,
                          "#fde0ef"
                        ],
                        [
                          0.5,
                          "#f7f7f7"
                        ],
                        [
                          0.6,
                          "#e6f5d0"
                        ],
                        [
                          0.7,
                          "#b8e186"
                        ],
                        [
                          0.8,
                          "#7fbc41"
                        ],
                        [
                          0.9,
                          "#4d9221"
                        ],
                        [
                          1,
                          "#276419"
                        ]
                      ],
                      "sequential": [
                        [
                          0,
                          "#0d0887"
                        ],
                        [
                          0.1111111111111111,
                          "#46039f"
                        ],
                        [
                          0.2222222222222222,
                          "#7201a8"
                        ],
                        [
                          0.3333333333333333,
                          "#9c179e"
                        ],
                        [
                          0.4444444444444444,
                          "#bd3786"
                        ],
                        [
                          0.5555555555555556,
                          "#d8576b"
                        ],
                        [
                          0.6666666666666666,
                          "#ed7953"
                        ],
                        [
                          0.7777777777777778,
                          "#fb9f3a"
                        ],
                        [
                          0.8888888888888888,
                          "#fdca26"
                        ],
                        [
                          1,
                          "#f0f921"
                        ]
                      ],
                      "sequentialminus": [
                        [
                          0,
                          "#0d0887"
                        ],
                        [
                          0.1111111111111111,
                          "#46039f"
                        ],
                        [
                          0.2222222222222222,
                          "#7201a8"
                        ],
                        [
                          0.3333333333333333,
                          "#9c179e"
                        ],
                        [
                          0.4444444444444444,
                          "#bd3786"
                        ],
                        [
                          0.5555555555555556,
                          "#d8576b"
                        ],
                        [
                          0.6666666666666666,
                          "#ed7953"
                        ],
                        [
                          0.7777777777777778,
                          "#fb9f3a"
                        ],
                        [
                          0.8888888888888888,
                          "#fdca26"
                        ],
                        [
                          1,
                          "#f0f921"
                        ]
                      ]
                    },
                    "colorway": [
                      "#636efa",
                      "#EF553B",
                      "#00cc96",
                      "#ab63fa",
                      "#FFA15A",
                      "#19d3f3",
                      "#FF6692",
                      "#B6E880",
                      "#FF97FF",
                      "#FECB52"
                    ],
                    "font": {
                      "color": "#2a3f5f"
                    },
                    "geo": {
                      "bgcolor": "white",
                      "lakecolor": "white",
                      "landcolor": "#E5ECF6",
                      "showlakes": true,
                      "showland": true,
                      "subunitcolor": "white"
                    },
                    "hoverlabel": {
                      "align": "left"
                    },
                    "hovermode": "closest",
                    "mapbox": {
                      "style": "light"
                    },
                    "paper_bgcolor": "white",
                    "plot_bgcolor": "#E5ECF6",
                    "polar": {
                      "angularaxis": {
                        "gridcolor": "white",
                        "linecolor": "white",
                        "ticks": ""
                      },
                      "bgcolor": "#E5ECF6",
                      "radialaxis": {
                        "gridcolor": "white",
                        "linecolor": "white",
                        "ticks": ""
                      }
                    },
                    "scene": {
                      "xaxis": {
                        "backgroundcolor": "#E5ECF6",
                        "gridcolor": "white",
                        "gridwidth": 2,
                        "linecolor": "white",
                        "showbackground": true,
                        "ticks": "",
                        "zerolinecolor": "white"
                      },
                      "yaxis": {
                        "backgroundcolor": "#E5ECF6",
                        "gridcolor": "white",
                        "gridwidth": 2,
                        "linecolor": "white",
                        "showbackground": true,
                        "ticks": "",
                        "zerolinecolor": "white"
                      },
                      "zaxis": {
                        "backgroundcolor": "#E5ECF6",
                        "gridcolor": "white",
                        "gridwidth": 2,
                        "linecolor": "white",
                        "showbackground": true,
                        "ticks": "",
                        "zerolinecolor": "white"
                      }
                    },
                    "shapedefaults": {
                      "line": {
                        "color": "#2a3f5f"
                      }
                    },
                    "ternary": {
                      "aaxis": {
                        "gridcolor": "white",
                        "linecolor": "white",
                        "ticks": ""
                      },
                      "baxis": {
                        "gridcolor": "white",
                        "linecolor": "white",
                        "ticks": ""
                      },
                      "bgcolor": "#E5ECF6",
                      "caxis": {
                        "gridcolor": "white",
                        "linecolor": "white",
                        "ticks": ""
                      }
                    },
                    "title": {
                      "x": 0.05
                    },
                    "xaxis": {
                      "automargin": true,
                      "gridcolor": "white",
                      "linecolor": "white",
                      "ticks": "",
                      "title": {
                        "standoff": 15
                      },
                      "zerolinecolor": "white",
                      "zerolinewidth": 2
                    },
                    "yaxis": {
                      "automargin": true,
                      "gridcolor": "white",
                      "linecolor": "white",
                      "ticks": "",
                      "title": {
                        "standoff": 15
                      },
                      "zerolinecolor": "white",
                      "zerolinewidth": 2
                    }
                  }
                },
                "title": {
                  "text": "Distribución de Puntajes Totales por Género"
                },
                "xaxis": {
                  "anchor": "y",
                  "categoryarray": [
                    0,
                    1
                  ],
                  "categoryorder": "array",
                  "domain": [
                    0,
                    1
                  ],
                  "title": {
                    "text": "género"
                  }
                },
                "yaxis": {
                  "anchor": "x",
                  "domain": [
                    0,
                    1
                  ],
                  "title": {
                    "text": "puntaje_total"
                  }
                }
              }
            }
          },
          "metadata": {},
          "output_type": "display_data"
        }
      ],
      "source": [
        "fig = px.box(df, x='género', y='puntaje_total', title='Distribución de Puntajes Totales por Género', color='género')\n",
        "fig.show()"
      ]
    },
    {
      "cell_type": "code",
      "execution_count": 19,
      "metadata": {
        "colab": {
          "base_uri": "https://localhost:8080/",
          "height": 542
        },
        "id": "nDusonkEA43V",
        "outputId": "53cec43a-e98a-4273-9332-2d086af11b61"
      },
      "outputs": [
        {
          "data": {
            "application/vnd.plotly.v1+json": {
              "config": {
                "plotlyServerURL": "https://plot.ly"
              },
              "data": [
                {
                  "alignmentgroup": "True",
                  "bingroup": "x",
                  "hovertemplate": "género=0<br>puntaje_total=%{x}<br>count=%{y}<extra></extra>",
                  "legendgroup": "0",
                  "marker": {
                    "color": "#636efa",
                    "pattern": {
                      "shape": ""
                    }
                  },
                  "name": "0",
                  "nbinsx": 50,
                  "offsetgroup": "0",
                  "orientation": "v",
                  "showlegend": true,
                  "type": "histogram",
                  "x": [
                    218,
                    247,
                    278,
                    232,
                    275,
                    148,
                    219,
                    161,
                    222,
                    78,
                    173,
                    210,
                    215,
                    211,
                    207,
                    217,
                    189,
                    193,
                    238,
                    173,
                    253,
                    199,
                    176,
                    160,
                    182,
                    213,
                    207,
                    242,
                    117,
                    253,
                    27,
                    220,
                    176,
                    206,
                    160,
                    194,
                    140,
                    207,
                    198,
                    146,
                    235,
                    247,
                    216,
                    195,
                    241,
                    211,
                    257,
                    205,
                    187,
                    194,
                    265,
                    197,
                    287,
                    198,
                    206,
                    264,
                    163,
                    299,
                    242,
                    239,
                    175,
                    189,
                    260,
                    274,
                    268,
                    151,
                    240,
                    192,
                    219,
                    185,
                    151,
                    94,
                    224,
                    195,
                    247,
                    218,
                    234,
                    248,
                    264,
                    296,
                    212,
                    229,
                    212,
                    246,
                    200,
                    148,
                    259,
                    158,
                    225,
                    184,
                    297,
                    176,
                    147,
                    204,
                    252,
                    200,
                    192,
                    238,
                    153,
                    233,
                    237,
                    223,
                    194,
                    231,
                    185,
                    164,
                    257,
                    115,
                    198,
                    182,
                    191,
                    155,
                    215,
                    277,
                    236,
                    198,
                    246,
                    163,
                    196,
                    191,
                    237,
                    200,
                    205,
                    205,
                    223,
                    227,
                    220,
                    145,
                    282,
                    219,
                    218,
                    275,
                    217,
                    158,
                    206,
                    270,
                    197,
                    231,
                    236,
                    226,
                    129,
                    238,
                    213,
                    232,
                    232,
                    191,
                    158,
                    229,
                    204,
                    198,
                    250,
                    184,
                    230,
                    240,
                    232,
                    149,
                    130,
                    266,
                    147,
                    271,
                    195,
                    89,
                    150,
                    197,
                    219,
                    227,
                    266,
                    186,
                    221,
                    161,
                    200,
                    203,
                    177,
                    259,
                    179,
                    168,
                    93,
                    166,
                    242,
                    188,
                    275,
                    202,
                    252,
                    280,
                    231,
                    249,
                    132,
                    124,
                    218,
                    207,
                    202,
                    190,
                    222,
                    216,
                    180,
                    269,
                    180,
                    169,
                    287,
                    175,
                    204,
                    239,
                    165,
                    215,
                    202,
                    268,
                    179,
                    172,
                    224,
                    191,
                    203,
                    156,
                    227,
                    239,
                    201,
                    232,
                    218,
                    234,
                    289,
                    216,
                    176,
                    257,
                    300,
                    217,
                    258,
                    262,
                    95,
                    250,
                    258,
                    206,
                    238,
                    187,
                    271,
                    230,
                    189,
                    167,
                    155,
                    209,
                    226,
                    198,
                    256,
                    259,
                    186,
                    154,
                    213,
                    203,
                    235,
                    273,
                    276,
                    153,
                    244,
                    265,
                    177,
                    268,
                    248,
                    247,
                    213,
                    222,
                    224,
                    261,
                    132,
                    117,
                    206,
                    208,
                    154,
                    261,
                    232,
                    179,
                    237,
                    266,
                    193,
                    289,
                    193,
                    138,
                    104,
                    206,
                    193,
                    228,
                    211,
                    223,
                    292,
                    210,
                    171,
                    180,
                    226,
                    261,
                    162,
                    182,
                    274,
                    236,
                    214,
                    228,
                    223,
                    217,
                    201,
                    169,
                    183,
                    179,
                    223,
                    291,
                    207,
                    219,
                    228,
                    177,
                    88,
                    234,
                    251,
                    152,
                    187,
                    186,
                    183,
                    216,
                    268,
                    200,
                    120,
                    150,
                    181,
                    150,
                    221,
                    248,
                    228,
                    260,
                    223,
                    252,
                    232,
                    233,
                    227,
                    194,
                    194,
                    158,
                    229,
                    224,
                    269,
                    209,
                    231,
                    196,
                    161,
                    195,
                    201,
                    170,
                    207,
                    249,
                    210,
                    223,
                    233,
                    224,
                    180,
                    227,
                    228,
                    213,
                    113,
                    293,
                    155,
                    227,
                    221,
                    227,
                    168,
                    254,
                    247,
                    201,
                    214,
                    242,
                    196,
                    194,
                    186,
                    161,
                    250,
                    297,
                    204,
                    257,
                    291,
                    226,
                    204,
                    252,
                    217,
                    249,
                    225,
                    270,
                    168,
                    192,
                    150,
                    247,
                    204,
                    169,
                    252,
                    271,
                    176,
                    189,
                    160,
                    187,
                    218,
                    210,
                    214,
                    191,
                    219,
                    162,
                    208,
                    122,
                    233,
                    159,
                    251,
                    243,
                    173,
                    127,
                    228,
                    89,
                    178,
                    170,
                    196,
                    145,
                    198,
                    235,
                    164,
                    276,
                    254,
                    227,
                    213,
                    126,
                    185,
                    235,
                    168,
                    200,
                    256,
                    267,
                    261,
                    240,
                    158,
                    194,
                    210,
                    236,
                    178,
                    249,
                    248,
                    198,
                    236,
                    216,
                    137,
                    103,
                    169,
                    199,
                    192,
                    265,
                    290,
                    225,
                    168,
                    254,
                    222,
                    218,
                    166,
                    211,
                    214,
                    211,
                    208,
                    156,
                    218,
                    288,
                    208,
                    262,
                    262,
                    190,
                    190,
                    104,
                    220,
                    225,
                    225,
                    123,
                    293,
                    235,
                    254,
                    214,
                    235,
                    179,
                    175,
                    162,
                    204,
                    157,
                    214,
                    134,
                    184,
                    197,
                    155,
                    172,
                    265,
                    187,
                    173,
                    167,
                    205,
                    235,
                    220,
                    200,
                    292,
                    167,
                    178,
                    155,
                    300,
                    216,
                    204,
                    211,
                    239,
                    289,
                    163,
                    175,
                    184,
                    223,
                    280,
                    55,
                    256,
                    231,
                    150,
                    134,
                    236,
                    225,
                    207,
                    208,
                    282,
                    195,
                    223,
                    249
                  ],
                  "xaxis": "x",
                  "yaxis": "y"
                },
                {
                  "alignmentgroup": "True",
                  "bingroup": "x",
                  "hovertemplate": "género=1<br>puntaje_total=%{x}<br>count=%{y}<extra></extra>",
                  "legendgroup": "1",
                  "marker": {
                    "color": "#EF553B",
                    "pattern": {
                      "shape": ""
                    }
                  },
                  "name": "1",
                  "nbinsx": 50,
                  "offsetgroup": "1",
                  "orientation": "v",
                  "showlegend": true,
                  "type": "histogram",
                  "x": [
                    148,
                    229,
                    122,
                    195,
                    164,
                    135,
                    220,
                    263,
                    134,
                    198,
                    151,
                    225,
                    219,
                    178,
                    205,
                    120,
                    266,
                    241,
                    170,
                    170,
                    190,
                    176,
                    248,
                    156,
                    214,
                    139,
                    241,
                    156,
                    175,
                    225,
                    112,
                    178,
                    192,
                    119,
                    175,
                    181,
                    174,
                    139,
                    123,
                    78,
                    239,
                    139,
                    151,
                    199,
                    115,
                    97,
                    221,
                    138,
                    241,
                    193,
                    213,
                    216,
                    151,
                    274,
                    193,
                    166,
                    154,
                    235,
                    272,
                    176,
                    236,
                    207,
                    216,
                    238,
                    255,
                    130,
                    231,
                    228,
                    161,
                    146,
                    181,
                    201,
                    147,
                    239,
                    247,
                    207,
                    293,
                    198,
                    212,
                    150,
                    190,
                    180,
                    192,
                    234,
                    154,
                    154,
                    155,
                    219,
                    260,
                    205,
                    146,
                    197,
                    221,
                    196,
                    145,
                    238,
                    201,
                    168,
                    193,
                    162,
                    215,
                    142,
                    223,
                    206,
                    237,
                    238,
                    90,
                    167,
                    259,
                    242,
                    213,
                    173,
                    245,
                    241,
                    161,
                    204,
                    206,
                    131,
                    257,
                    249,
                    232,
                    196,
                    157,
                    244,
                    207,
                    153,
                    218,
                    232,
                    239,
                    181,
                    145,
                    232,
                    158,
                    232,
                    236,
                    217,
                    142,
                    193,
                    149,
                    249,
                    234,
                    186,
                    147,
                    139,
                    245,
                    267,
                    239,
                    230,
                    214,
                    229,
                    180,
                    235,
                    189,
                    130,
                    213,
                    136,
                    252,
                    240,
                    162,
                    220,
                    205,
                    267,
                    147,
                    183,
                    196,
                    202,
                    233,
                    203,
                    184,
                    70,
                    234,
                    192,
                    119,
                    171,
                    249,
                    215,
                    143,
                    171,
                    206,
                    219,
                    180,
                    215,
                    237,
                    175,
                    185,
                    182,
                    247,
                    177,
                    167,
                    180,
                    188,
                    232,
                    220,
                    130,
                    192,
                    282,
                    231,
                    218,
                    199,
                    210,
                    167,
                    134,
                    194,
                    173,
                    139,
                    193,
                    256,
                    245,
                    197,
                    197,
                    226,
                    213,
                    214,
                    189,
                    167,
                    114,
                    255,
                    205,
                    177,
                    185,
                    189,
                    172,
                    205,
                    151,
                    207,
                    214,
                    177,
                    259,
                    234,
                    195,
                    247,
                    135,
                    226,
                    172,
                    140,
                    155,
                    205,
                    166,
                    153,
                    195,
                    204,
                    241,
                    204,
                    220,
                    214,
                    212,
                    197,
                    157,
                    215,
                    164,
                    174,
                    243,
                    198,
                    219,
                    178,
                    204,
                    168,
                    234,
                    220,
                    157,
                    163,
                    172,
                    184,
                    163,
                    154,
                    187,
                    177,
                    181,
                    210,
                    169,
                    222,
                    275,
                    212,
                    241,
                    241,
                    203,
                    220,
                    220,
                    265,
                    203,
                    138,
                    194,
                    201,
                    278,
                    145,
                    136,
                    158,
                    203,
                    216,
                    279,
                    148,
                    164,
                    169,
                    183,
                    200,
                    69,
                    155,
                    168,
                    263,
                    209,
                    192,
                    275,
                    249,
                    260,
                    206,
                    181,
                    161,
                    282,
                    296,
                    202,
                    155,
                    152,
                    201,
                    204,
                    248,
                    209,
                    236,
                    144,
                    195,
                    160,
                    208,
                    196,
                    262,
                    224,
                    202,
                    206,
                    208,
                    230,
                    159,
                    234,
                    184,
                    188,
                    171,
                    196,
                    228,
                    228,
                    155,
                    266,
                    191,
                    258,
                    199,
                    116,
                    177,
                    255,
                    267,
                    246,
                    223,
                    244,
                    173,
                    140,
                    131,
                    226,
                    176,
                    129,
                    144,
                    146,
                    183,
                    255,
                    225,
                    176,
                    225,
                    157,
                    225,
                    215,
                    201,
                    257,
                    208,
                    205,
                    231,
                    166,
                    165,
                    210,
                    223,
                    245,
                    182,
                    198,
                    175,
                    149,
                    222,
                    191,
                    261,
                    251,
                    194,
                    209,
                    250,
                    210,
                    183,
                    208,
                    229,
                    230,
                    234,
                    164,
                    118,
                    141,
                    247,
                    267,
                    207,
                    152,
                    187,
                    175,
                    182,
                    153,
                    194,
                    168,
                    173,
                    227,
                    259,
                    261,
                    168,
                    224,
                    205,
                    210,
                    181,
                    208,
                    147,
                    232,
                    119,
                    281,
                    252,
                    164,
                    144,
                    224,
                    151,
                    164,
                    244,
                    262,
                    210,
                    247,
                    172,
                    193,
                    145,
                    185,
                    143,
                    237,
                    92,
                    184,
                    258,
                    242,
                    156,
                    204,
                    140,
                    300,
                    278,
                    206,
                    204,
                    213,
                    198,
                    172,
                    133,
                    211,
                    181,
                    205,
                    219,
                    275,
                    191,
                    177,
                    251,
                    214,
                    210,
                    211,
                    184,
                    244,
                    151,
                    238,
                    164,
                    191,
                    252,
                    227,
                    187,
                    198,
                    186,
                    219,
                    182,
                    185,
                    144,
                    237,
                    250,
                    162,
                    232,
                    242,
                    188,
                    172
                  ],
                  "xaxis": "x",
                  "yaxis": "y"
                }
              ],
              "layout": {
                "barmode": "relative",
                "legend": {
                  "title": {
                    "text": "género"
                  },
                  "tracegroupgap": 0
                },
                "template": {
                  "data": {
                    "bar": [
                      {
                        "error_x": {
                          "color": "#2a3f5f"
                        },
                        "error_y": {
                          "color": "#2a3f5f"
                        },
                        "marker": {
                          "line": {
                            "color": "#E5ECF6",
                            "width": 0.5
                          },
                          "pattern": {
                            "fillmode": "overlay",
                            "size": 10,
                            "solidity": 0.2
                          }
                        },
                        "type": "bar"
                      }
                    ],
                    "barpolar": [
                      {
                        "marker": {
                          "line": {
                            "color": "#E5ECF6",
                            "width": 0.5
                          },
                          "pattern": {
                            "fillmode": "overlay",
                            "size": 10,
                            "solidity": 0.2
                          }
                        },
                        "type": "barpolar"
                      }
                    ],
                    "carpet": [
                      {
                        "aaxis": {
                          "endlinecolor": "#2a3f5f",
                          "gridcolor": "white",
                          "linecolor": "white",
                          "minorgridcolor": "white",
                          "startlinecolor": "#2a3f5f"
                        },
                        "baxis": {
                          "endlinecolor": "#2a3f5f",
                          "gridcolor": "white",
                          "linecolor": "white",
                          "minorgridcolor": "white",
                          "startlinecolor": "#2a3f5f"
                        },
                        "type": "carpet"
                      }
                    ],
                    "choropleth": [
                      {
                        "colorbar": {
                          "outlinewidth": 0,
                          "ticks": ""
                        },
                        "type": "choropleth"
                      }
                    ],
                    "contour": [
                      {
                        "colorbar": {
                          "outlinewidth": 0,
                          "ticks": ""
                        },
                        "colorscale": [
                          [
                            0,
                            "#0d0887"
                          ],
                          [
                            0.1111111111111111,
                            "#46039f"
                          ],
                          [
                            0.2222222222222222,
                            "#7201a8"
                          ],
                          [
                            0.3333333333333333,
                            "#9c179e"
                          ],
                          [
                            0.4444444444444444,
                            "#bd3786"
                          ],
                          [
                            0.5555555555555556,
                            "#d8576b"
                          ],
                          [
                            0.6666666666666666,
                            "#ed7953"
                          ],
                          [
                            0.7777777777777778,
                            "#fb9f3a"
                          ],
                          [
                            0.8888888888888888,
                            "#fdca26"
                          ],
                          [
                            1,
                            "#f0f921"
                          ]
                        ],
                        "type": "contour"
                      }
                    ],
                    "contourcarpet": [
                      {
                        "colorbar": {
                          "outlinewidth": 0,
                          "ticks": ""
                        },
                        "type": "contourcarpet"
                      }
                    ],
                    "heatmap": [
                      {
                        "colorbar": {
                          "outlinewidth": 0,
                          "ticks": ""
                        },
                        "colorscale": [
                          [
                            0,
                            "#0d0887"
                          ],
                          [
                            0.1111111111111111,
                            "#46039f"
                          ],
                          [
                            0.2222222222222222,
                            "#7201a8"
                          ],
                          [
                            0.3333333333333333,
                            "#9c179e"
                          ],
                          [
                            0.4444444444444444,
                            "#bd3786"
                          ],
                          [
                            0.5555555555555556,
                            "#d8576b"
                          ],
                          [
                            0.6666666666666666,
                            "#ed7953"
                          ],
                          [
                            0.7777777777777778,
                            "#fb9f3a"
                          ],
                          [
                            0.8888888888888888,
                            "#fdca26"
                          ],
                          [
                            1,
                            "#f0f921"
                          ]
                        ],
                        "type": "heatmap"
                      }
                    ],
                    "heatmapgl": [
                      {
                        "colorbar": {
                          "outlinewidth": 0,
                          "ticks": ""
                        },
                        "colorscale": [
                          [
                            0,
                            "#0d0887"
                          ],
                          [
                            0.1111111111111111,
                            "#46039f"
                          ],
                          [
                            0.2222222222222222,
                            "#7201a8"
                          ],
                          [
                            0.3333333333333333,
                            "#9c179e"
                          ],
                          [
                            0.4444444444444444,
                            "#bd3786"
                          ],
                          [
                            0.5555555555555556,
                            "#d8576b"
                          ],
                          [
                            0.6666666666666666,
                            "#ed7953"
                          ],
                          [
                            0.7777777777777778,
                            "#fb9f3a"
                          ],
                          [
                            0.8888888888888888,
                            "#fdca26"
                          ],
                          [
                            1,
                            "#f0f921"
                          ]
                        ],
                        "type": "heatmapgl"
                      }
                    ],
                    "histogram": [
                      {
                        "marker": {
                          "pattern": {
                            "fillmode": "overlay",
                            "size": 10,
                            "solidity": 0.2
                          }
                        },
                        "type": "histogram"
                      }
                    ],
                    "histogram2d": [
                      {
                        "colorbar": {
                          "outlinewidth": 0,
                          "ticks": ""
                        },
                        "colorscale": [
                          [
                            0,
                            "#0d0887"
                          ],
                          [
                            0.1111111111111111,
                            "#46039f"
                          ],
                          [
                            0.2222222222222222,
                            "#7201a8"
                          ],
                          [
                            0.3333333333333333,
                            "#9c179e"
                          ],
                          [
                            0.4444444444444444,
                            "#bd3786"
                          ],
                          [
                            0.5555555555555556,
                            "#d8576b"
                          ],
                          [
                            0.6666666666666666,
                            "#ed7953"
                          ],
                          [
                            0.7777777777777778,
                            "#fb9f3a"
                          ],
                          [
                            0.8888888888888888,
                            "#fdca26"
                          ],
                          [
                            1,
                            "#f0f921"
                          ]
                        ],
                        "type": "histogram2d"
                      }
                    ],
                    "histogram2dcontour": [
                      {
                        "colorbar": {
                          "outlinewidth": 0,
                          "ticks": ""
                        },
                        "colorscale": [
                          [
                            0,
                            "#0d0887"
                          ],
                          [
                            0.1111111111111111,
                            "#46039f"
                          ],
                          [
                            0.2222222222222222,
                            "#7201a8"
                          ],
                          [
                            0.3333333333333333,
                            "#9c179e"
                          ],
                          [
                            0.4444444444444444,
                            "#bd3786"
                          ],
                          [
                            0.5555555555555556,
                            "#d8576b"
                          ],
                          [
                            0.6666666666666666,
                            "#ed7953"
                          ],
                          [
                            0.7777777777777778,
                            "#fb9f3a"
                          ],
                          [
                            0.8888888888888888,
                            "#fdca26"
                          ],
                          [
                            1,
                            "#f0f921"
                          ]
                        ],
                        "type": "histogram2dcontour"
                      }
                    ],
                    "mesh3d": [
                      {
                        "colorbar": {
                          "outlinewidth": 0,
                          "ticks": ""
                        },
                        "type": "mesh3d"
                      }
                    ],
                    "parcoords": [
                      {
                        "line": {
                          "colorbar": {
                            "outlinewidth": 0,
                            "ticks": ""
                          }
                        },
                        "type": "parcoords"
                      }
                    ],
                    "pie": [
                      {
                        "automargin": true,
                        "type": "pie"
                      }
                    ],
                    "scatter": [
                      {
                        "fillpattern": {
                          "fillmode": "overlay",
                          "size": 10,
                          "solidity": 0.2
                        },
                        "type": "scatter"
                      }
                    ],
                    "scatter3d": [
                      {
                        "line": {
                          "colorbar": {
                            "outlinewidth": 0,
                            "ticks": ""
                          }
                        },
                        "marker": {
                          "colorbar": {
                            "outlinewidth": 0,
                            "ticks": ""
                          }
                        },
                        "type": "scatter3d"
                      }
                    ],
                    "scattercarpet": [
                      {
                        "marker": {
                          "colorbar": {
                            "outlinewidth": 0,
                            "ticks": ""
                          }
                        },
                        "type": "scattercarpet"
                      }
                    ],
                    "scattergeo": [
                      {
                        "marker": {
                          "colorbar": {
                            "outlinewidth": 0,
                            "ticks": ""
                          }
                        },
                        "type": "scattergeo"
                      }
                    ],
                    "scattergl": [
                      {
                        "marker": {
                          "colorbar": {
                            "outlinewidth": 0,
                            "ticks": ""
                          }
                        },
                        "type": "scattergl"
                      }
                    ],
                    "scattermapbox": [
                      {
                        "marker": {
                          "colorbar": {
                            "outlinewidth": 0,
                            "ticks": ""
                          }
                        },
                        "type": "scattermapbox"
                      }
                    ],
                    "scatterpolar": [
                      {
                        "marker": {
                          "colorbar": {
                            "outlinewidth": 0,
                            "ticks": ""
                          }
                        },
                        "type": "scatterpolar"
                      }
                    ],
                    "scatterpolargl": [
                      {
                        "marker": {
                          "colorbar": {
                            "outlinewidth": 0,
                            "ticks": ""
                          }
                        },
                        "type": "scatterpolargl"
                      }
                    ],
                    "scatterternary": [
                      {
                        "marker": {
                          "colorbar": {
                            "outlinewidth": 0,
                            "ticks": ""
                          }
                        },
                        "type": "scatterternary"
                      }
                    ],
                    "surface": [
                      {
                        "colorbar": {
                          "outlinewidth": 0,
                          "ticks": ""
                        },
                        "colorscale": [
                          [
                            0,
                            "#0d0887"
                          ],
                          [
                            0.1111111111111111,
                            "#46039f"
                          ],
                          [
                            0.2222222222222222,
                            "#7201a8"
                          ],
                          [
                            0.3333333333333333,
                            "#9c179e"
                          ],
                          [
                            0.4444444444444444,
                            "#bd3786"
                          ],
                          [
                            0.5555555555555556,
                            "#d8576b"
                          ],
                          [
                            0.6666666666666666,
                            "#ed7953"
                          ],
                          [
                            0.7777777777777778,
                            "#fb9f3a"
                          ],
                          [
                            0.8888888888888888,
                            "#fdca26"
                          ],
                          [
                            1,
                            "#f0f921"
                          ]
                        ],
                        "type": "surface"
                      }
                    ],
                    "table": [
                      {
                        "cells": {
                          "fill": {
                            "color": "#EBF0F8"
                          },
                          "line": {
                            "color": "white"
                          }
                        },
                        "header": {
                          "fill": {
                            "color": "#C8D4E3"
                          },
                          "line": {
                            "color": "white"
                          }
                        },
                        "type": "table"
                      }
                    ]
                  },
                  "layout": {
                    "annotationdefaults": {
                      "arrowcolor": "#2a3f5f",
                      "arrowhead": 0,
                      "arrowwidth": 1
                    },
                    "autotypenumbers": "strict",
                    "coloraxis": {
                      "colorbar": {
                        "outlinewidth": 0,
                        "ticks": ""
                      }
                    },
                    "colorscale": {
                      "diverging": [
                        [
                          0,
                          "#8e0152"
                        ],
                        [
                          0.1,
                          "#c51b7d"
                        ],
                        [
                          0.2,
                          "#de77ae"
                        ],
                        [
                          0.3,
                          "#f1b6da"
                        ],
                        [
                          0.4,
                          "#fde0ef"
                        ],
                        [
                          0.5,
                          "#f7f7f7"
                        ],
                        [
                          0.6,
                          "#e6f5d0"
                        ],
                        [
                          0.7,
                          "#b8e186"
                        ],
                        [
                          0.8,
                          "#7fbc41"
                        ],
                        [
                          0.9,
                          "#4d9221"
                        ],
                        [
                          1,
                          "#276419"
                        ]
                      ],
                      "sequential": [
                        [
                          0,
                          "#0d0887"
                        ],
                        [
                          0.1111111111111111,
                          "#46039f"
                        ],
                        [
                          0.2222222222222222,
                          "#7201a8"
                        ],
                        [
                          0.3333333333333333,
                          "#9c179e"
                        ],
                        [
                          0.4444444444444444,
                          "#bd3786"
                        ],
                        [
                          0.5555555555555556,
                          "#d8576b"
                        ],
                        [
                          0.6666666666666666,
                          "#ed7953"
                        ],
                        [
                          0.7777777777777778,
                          "#fb9f3a"
                        ],
                        [
                          0.8888888888888888,
                          "#fdca26"
                        ],
                        [
                          1,
                          "#f0f921"
                        ]
                      ],
                      "sequentialminus": [
                        [
                          0,
                          "#0d0887"
                        ],
                        [
                          0.1111111111111111,
                          "#46039f"
                        ],
                        [
                          0.2222222222222222,
                          "#7201a8"
                        ],
                        [
                          0.3333333333333333,
                          "#9c179e"
                        ],
                        [
                          0.4444444444444444,
                          "#bd3786"
                        ],
                        [
                          0.5555555555555556,
                          "#d8576b"
                        ],
                        [
                          0.6666666666666666,
                          "#ed7953"
                        ],
                        [
                          0.7777777777777778,
                          "#fb9f3a"
                        ],
                        [
                          0.8888888888888888,
                          "#fdca26"
                        ],
                        [
                          1,
                          "#f0f921"
                        ]
                      ]
                    },
                    "colorway": [
                      "#636efa",
                      "#EF553B",
                      "#00cc96",
                      "#ab63fa",
                      "#FFA15A",
                      "#19d3f3",
                      "#FF6692",
                      "#B6E880",
                      "#FF97FF",
                      "#FECB52"
                    ],
                    "font": {
                      "color": "#2a3f5f"
                    },
                    "geo": {
                      "bgcolor": "white",
                      "lakecolor": "white",
                      "landcolor": "#E5ECF6",
                      "showlakes": true,
                      "showland": true,
                      "subunitcolor": "white"
                    },
                    "hoverlabel": {
                      "align": "left"
                    },
                    "hovermode": "closest",
                    "mapbox": {
                      "style": "light"
                    },
                    "paper_bgcolor": "white",
                    "plot_bgcolor": "#E5ECF6",
                    "polar": {
                      "angularaxis": {
                        "gridcolor": "white",
                        "linecolor": "white",
                        "ticks": ""
                      },
                      "bgcolor": "#E5ECF6",
                      "radialaxis": {
                        "gridcolor": "white",
                        "linecolor": "white",
                        "ticks": ""
                      }
                    },
                    "scene": {
                      "xaxis": {
                        "backgroundcolor": "#E5ECF6",
                        "gridcolor": "white",
                        "gridwidth": 2,
                        "linecolor": "white",
                        "showbackground": true,
                        "ticks": "",
                        "zerolinecolor": "white"
                      },
                      "yaxis": {
                        "backgroundcolor": "#E5ECF6",
                        "gridcolor": "white",
                        "gridwidth": 2,
                        "linecolor": "white",
                        "showbackground": true,
                        "ticks": "",
                        "zerolinecolor": "white"
                      },
                      "zaxis": {
                        "backgroundcolor": "#E5ECF6",
                        "gridcolor": "white",
                        "gridwidth": 2,
                        "linecolor": "white",
                        "showbackground": true,
                        "ticks": "",
                        "zerolinecolor": "white"
                      }
                    },
                    "shapedefaults": {
                      "line": {
                        "color": "#2a3f5f"
                      }
                    },
                    "ternary": {
                      "aaxis": {
                        "gridcolor": "white",
                        "linecolor": "white",
                        "ticks": ""
                      },
                      "baxis": {
                        "gridcolor": "white",
                        "linecolor": "white",
                        "ticks": ""
                      },
                      "bgcolor": "#E5ECF6",
                      "caxis": {
                        "gridcolor": "white",
                        "linecolor": "white",
                        "ticks": ""
                      }
                    },
                    "title": {
                      "x": 0.05
                    },
                    "xaxis": {
                      "automargin": true,
                      "gridcolor": "white",
                      "linecolor": "white",
                      "ticks": "",
                      "title": {
                        "standoff": 15
                      },
                      "zerolinecolor": "white",
                      "zerolinewidth": 2
                    },
                    "yaxis": {
                      "automargin": true,
                      "gridcolor": "white",
                      "linecolor": "white",
                      "ticks": "",
                      "title": {
                        "standoff": 15
                      },
                      "zerolinecolor": "white",
                      "zerolinewidth": 2
                    }
                  }
                },
                "title": {
                  "text": "Distribución de Puntajes Totales por Género"
                },
                "xaxis": {
                  "anchor": "y",
                  "domain": [
                    0,
                    1
                  ],
                  "title": {
                    "text": "puntaje_total"
                  }
                },
                "yaxis": {
                  "anchor": "x",
                  "domain": [
                    0,
                    1
                  ],
                  "title": {
                    "text": "count"
                  }
                }
              }
            }
          },
          "metadata": {},
          "output_type": "display_data"
        }
      ],
      "source": [
        "fig = px.histogram(df, x='puntaje_total', nbins=50, color='género', title='Distribución de Puntajes Totales por Género')\n",
        "fig.show()"
      ]
    },
    {
      "cell_type": "code",
      "execution_count": 20,
      "metadata": {
        "colab": {
          "base_uri": "https://localhost:8080/",
          "height": 542
        },
        "id": "J0e8_NsOY4NL",
        "outputId": "cb3c0813-4394-4e03-bffc-fd117b6882f3"
      },
      "outputs": [
        {
          "data": {
            "application/vnd.plotly.v1+json": {
              "config": {
                "plotlyServerURL": "https://plot.ly"
              },
              "data": [
                {
                  "alignmentgroup": "True",
                  "bingroup": "x",
                  "hovertemplate": "raza_etnia=group B<br>puntaje_matemáticas=%{x}<br>count=%{y}<extra></extra>",
                  "legendgroup": "group B",
                  "marker": {
                    "color": "#636efa",
                    "pattern": {
                      "shape": ""
                    }
                  },
                  "name": "group B",
                  "nbinsx": 50,
                  "offsetgroup": "group B",
                  "orientation": "v",
                  "showlegend": true,
                  "type": "histogram",
                  "x": [
                    72,
                    90,
                    71,
                    88,
                    40,
                    38,
                    65,
                    18,
                    65,
                    69,
                    63,
                    57,
                    53,
                    59,
                    65,
                    67,
                    61,
                    44,
                    47,
                    49,
                    79,
                    65,
                    79,
                    60,
                    52,
                    70,
                    75,
                    91,
                    87,
                    72,
                    51,
                    88,
                    59,
                    60,
                    61,
                    82,
                    49,
                    58,
                    68,
                    46,
                    52,
                    48,
                    62,
                    45,
                    78,
                    57,
                    74,
                    58,
                    84,
                    66,
                    61,
                    87,
                    52,
                    67,
                    54,
                    58,
                    65,
                    60,
                    70,
                    88,
                    73,
                    37,
                    81,
                    67,
                    88,
                    67,
                    80,
                    53,
                    73,
                    66,
                    63,
                    41,
                    90,
                    61,
                    24,
                    69,
                    62,
                    52,
                    61,
                    58,
                    85,
                    80,
                    50,
                    74,
                    65,
                    82,
                    63,
                    41,
                    73,
                    47,
                    81,
                    72,
                    54,
                    90,
                    73,
                    49,
                    64,
                    54,
                    66,
                    94,
                    82,
                    55,
                    54,
                    77,
                    67,
                    73,
                    87,
                    40,
                    53,
                    48,
                    48,
                    63,
                    71,
                    81,
                    48,
                    30,
                    58,
                    62,
                    69,
                    79,
                    66,
                    67,
                    72,
                    70,
                    65,
                    50,
                    73,
                    62,
                    77,
                    50,
                    60,
                    62,
                    62,
                    57,
                    59,
                    60,
                    76,
                    74,
                    47,
                    68,
                    53,
                    55,
                    87,
                    69,
                    62,
                    74,
                    76,
                    52,
                    52,
                    66,
                    49,
                    66,
                    77,
                    76,
                    32,
                    19,
                    48,
                    42,
                    82,
                    59,
                    94,
                    60,
                    71,
                    68,
                    77,
                    58,
                    58,
                    23,
                    74,
                    97,
                    75,
                    52,
                    61,
                    59,
                    82,
                    64,
                    36,
                    63,
                    57,
                    46,
                    91,
                    54,
                    58,
                    82,
                    49,
                    75,
                    60,
                    8,
                    79,
                    65
                  ],
                  "xaxis": "x",
                  "yaxis": "y"
                },
                {
                  "alignmentgroup": "True",
                  "bingroup": "x",
                  "hovertemplate": "raza_etnia=group C<br>puntaje_matemáticas=%{x}<br>count=%{y}<extra></extra>",
                  "legendgroup": "group C",
                  "marker": {
                    "color": "#EF553B",
                    "pattern": {
                      "shape": ""
                    }
                  },
                  "name": "group C",
                  "nbinsx": 50,
                  "offsetgroup": "group C",
                  "orientation": "v",
                  "showlegend": true,
                  "type": "histogram",
                  "x": [
                    69,
                    76,
                    58,
                    69,
                    88,
                    46,
                    54,
                    69,
                    67,
                    70,
                    55,
                    58,
                    66,
                    82,
                    53,
                    71,
                    33,
                    0,
                    69,
                    60,
                    39,
                    61,
                    49,
                    73,
                    76,
                    65,
                    27,
                    71,
                    43,
                    78,
                    98,
                    58,
                    62,
                    84,
                    55,
                    79,
                    88,
                    53,
                    75,
                    58,
                    59,
                    59,
                    22,
                    73,
                    70,
                    52,
                    96,
                    53,
                    67,
                    63,
                    43,
                    81,
                    71,
                    62,
                    46,
                    45,
                    65,
                    77,
                    69,
                    59,
                    67,
                    69,
                    59,
                    35,
                    42,
                    60,
                    34,
                    55,
                    72,
                    88,
                    46,
                    83,
                    84,
                    85,
                    68,
                    64,
                    78,
                    65,
                    64,
                    79,
                    44,
                    63,
                    69,
                    58,
                    83,
                    85,
                    65,
                    76,
                    63,
                    40,
                    67,
                    74,
                    51,
                    68,
                    59,
                    71,
                    83,
                    67,
                    71,
                    43,
                    41,
                    82,
                    61,
                    82,
                    71,
                    47,
                    83,
                    49,
                    58,
                    61,
                    72,
                    77,
                    63,
                    46,
                    59,
                    42,
                    52,
                    59,
                    69,
                    61,
                    45,
                    87,
                    79,
                    57,
                    57,
                    65,
                    85,
                    59,
                    54,
                    63,
                    51,
                    71,
                    74,
                    82,
                    62,
                    86,
                    69,
                    68,
                    64,
                    61,
                    61,
                    73,
                    50,
                    70,
                    67,
                    67,
                    86,
                    64,
                    65,
                    65,
                    53,
                    37,
                    53,
                    77,
                    84,
                    91,
                    83,
                    63,
                    68,
                    68,
                    70,
                    60,
                    64,
                    83,
                    81,
                    54,
                    63,
                    79,
                    86,
                    76,
                    91,
                    54,
                    53,
                    56,
                    36,
                    62,
                    68,
                    47,
                    66,
                    51,
                    75,
                    81,
                    72,
                    62,
                    79,
                    79,
                    32,
                    55,
                    61,
                    63,
                    96,
                    53,
                    50,
                    65,
                    44,
                    54,
                    58,
                    92,
                    56,
                    29,
                    75,
                    85,
                    40,
                    58,
                    94,
                    65,
                    60,
                    65,
                    35,
                    58,
                    44,
                    75,
                    51,
                    77,
                    74,
                    73,
                    65,
                    50,
                    63,
                    73,
                    66,
                    69,
                    65,
                    70,
                    29,
                    49,
                    66,
                    49,
                    75,
                    66,
                    66,
                    93,
                    73,
                    96,
                    76,
                    62,
                    50,
                    53,
                    87,
                    67,
                    92,
                    61,
                    81,
                    59,
                    69,
                    50,
                    79,
                    77,
                    58,
                    53,
                    58,
                    62,
                    35,
                    52,
                    91,
                    68,
                    52,
                    52,
                    67,
                    76,
                    73,
                    90,
                    54,
                    72,
                    77,
                    48,
                    62,
                    56,
                    65,
                    74,
                    60,
                    66,
                    64,
                    91,
                    59,
                    71,
                    62,
                    65,
                    87,
                    53,
                    71,
                    97,
                    59,
                    49,
                    70,
                    43,
                    80,
                    57,
                    63,
                    62,
                    54,
                    73,
                    67,
                    52,
                    47,
                    44,
                    57,
                    35,
                    48,
                    67,
                    70,
                    98,
                    72,
                    81,
                    54,
                    58,
                    62,
                    84,
                    75,
                    65,
                    63,
                    78,
                    64,
                    62,
                    91,
                    74,
                    40,
                    62,
                    59
                  ],
                  "xaxis": "x",
                  "yaxis": "y"
                },
                {
                  "alignmentgroup": "True",
                  "bingroup": "x",
                  "hovertemplate": "raza_etnia=group A<br>puntaje_matemáticas=%{x}<br>count=%{y}<extra></extra>",
                  "legendgroup": "group A",
                  "marker": {
                    "color": "#00cc96",
                    "pattern": {
                      "shape": ""
                    }
                  },
                  "name": "group A",
                  "nbinsx": 50,
                  "offsetgroup": "group A",
                  "orientation": "v",
                  "showlegend": true,
                  "type": "histogram",
                  "x": [
                    47,
                    78,
                    50,
                    73,
                    55,
                    39,
                    62,
                    41,
                    80,
                    50,
                    58,
                    54,
                    51,
                    57,
                    62,
                    77,
                    72,
                    68,
                    47,
                    46,
                    81,
                    69,
                    28,
                    63,
                    49,
                    44,
                    71,
                    66,
                    38,
                    48,
                    53,
                    49,
                    59,
                    65,
                    47,
                    59,
                    79,
                    75,
                    72,
                    77,
                    59,
                    79,
                    65,
                    68,
                    64,
                    97,
                    92,
                    91,
                    40,
                    61,
                    55,
                    48,
                    71,
                    53,
                    82,
                    100,
                    71,
                    68,
                    65,
                    53,
                    59,
                    87,
                    62,
                    55,
                    37,
                    58,
                    72,
                    75,
                    51,
                    45,
                    45,
                    85,
                    61,
                    64,
                    75,
                    61,
                    50,
                    34,
                    69,
                    67,
                    61,
                    56,
                    66,
                    53,
                    54,
                    78,
                    57,
                    44,
                    63
                  ],
                  "xaxis": "x",
                  "yaxis": "y"
                },
                {
                  "alignmentgroup": "True",
                  "bingroup": "x",
                  "hovertemplate": "raza_etnia=group D<br>puntaje_matemáticas=%{x}<br>count=%{y}<extra></extra>",
                  "legendgroup": "group D",
                  "marker": {
                    "color": "#ab63fa",
                    "pattern": {
                      "shape": ""
                    }
                  },
                  "name": "group D",
                  "nbinsx": 50,
                  "offsetgroup": "group D",
                  "orientation": "v",
                  "showlegend": true,
                  "type": "histogram",
                  "x": [
                    64,
                    40,
                    66,
                    44,
                    74,
                    62,
                    69,
                    40,
                    74,
                    50,
                    75,
                    57,
                    88,
                    52,
                    58,
                    59,
                    45,
                    58,
                    63,
                    61,
                    42,
                    71,
                    73,
                    58,
                    65,
                    68,
                    85,
                    87,
                    77,
                    51,
                    78,
                    51,
                    63,
                    65,
                    82,
                    89,
                    74,
                    71,
                    76,
                    88,
                    68,
                    54,
                    62,
                    66,
                    79,
                    97,
                    65,
                    62,
                    76,
                    77,
                    61,
                    65,
                    74,
                    80,
                    56,
                    86,
                    57,
                    76,
                    80,
                    63,
                    64,
                    73,
                    56,
                    75,
                    71,
                    80,
                    54,
                    76,
                    59,
                    69,
                    88,
                    47,
                    65,
                    53,
                    45,
                    73,
                    70,
                    86,
                    78,
                    90,
                    56,
                    49,
                    67,
                    77,
                    56,
                    76,
                    35,
                    67,
                    79,
                    75,
                    59,
                    80,
                    27,
                    73,
                    74,
                    82,
                    59,
                    80,
                    85,
                    62,
                    73,
                    77,
                    60,
                    88,
                    52,
                    87,
                    70,
                    71,
                    68,
                    57,
                    47,
                    75,
                    75,
                    89,
                    78,
                    69,
                    79,
                    53,
                    26,
                    59,
                    71,
                    80,
                    55,
                    52,
                    61,
                    68,
                    59,
                    74,
                    40,
                    76,
                    62,
                    74,
                    66,
                    71,
                    69,
                    29,
                    51,
                    79,
                    82,
                    64,
                    77,
                    73,
                    74,
                    63,
                    61,
                    68,
                    53,
                    81,
                    63,
                    73,
                    69,
                    69,
                    65,
                    54,
                    60,
                    84,
                    69,
                    88,
                    95,
                    100,
                    61,
                    49,
                    67,
                    84,
                    80,
                    76,
                    41,
                    74,
                    59,
                    69,
                    85,
                    69,
                    43,
                    90,
                    55,
                    80,
                    81,
                    52,
                    69,
                    81,
                    63,
                    67,
                    77,
                    77,
                    79,
                    57,
                    63,
                    46,
                    89,
                    42,
                    98,
                    81,
                    55,
                    73,
                    55,
                    81,
                    80,
                    72,
                    69,
                    71,
                    55,
                    52,
                    48,
                    78,
                    60,
                    68,
                    75,
                    46,
                    60,
                    66,
                    70,
                    64,
                    61,
                    78,
                    69,
                    39,
                    40,
                    64,
                    80,
                    39,
                    82,
                    81,
                    59,
                    64,
                    55,
                    69,
                    44,
                    88,
                    67,
                    65,
                    85,
                    93,
                    67,
                    88,
                    79,
                    50,
                    69,
                    72,
                    74,
                    65,
                    62,
                    61,
                    70,
                    85,
                    77,
                    78,
                    49,
                    75,
                    92,
                    45,
                    48,
                    72,
                    62,
                    89,
                    49,
                    55,
                    81,
                    67,
                    55,
                    62,
                    68,
                    77
                  ],
                  "xaxis": "x",
                  "yaxis": "y"
                },
                {
                  "alignmentgroup": "True",
                  "bingroup": "x",
                  "hovertemplate": "raza_etnia=group E<br>puntaje_matemáticas=%{x}<br>count=%{y}<extra></extra>",
                  "legendgroup": "group E",
                  "marker": {
                    "color": "#FFA15A",
                    "pattern": {
                      "shape": ""
                    }
                  },
                  "name": "group E",
                  "nbinsx": 50,
                  "offsetgroup": "group E",
                  "orientation": "v",
                  "showlegend": true,
                  "type": "histogram",
                  "x": [
                    56,
                    97,
                    81,
                    50,
                    53,
                    77,
                    82,
                    79,
                    30,
                    62,
                    72,
                    63,
                    66,
                    99,
                    83,
                    87,
                    70,
                    42,
                    100,
                    66,
                    75,
                    81,
                    94,
                    50,
                    80,
                    66,
                    55,
                    82,
                    81,
                    87,
                    83,
                    45,
                    92,
                    80,
                    59,
                    89,
                    62,
                    99,
                    71,
                    59,
                    97,
                    77,
                    65,
                    71,
                    99,
                    75,
                    62,
                    87,
                    66,
                    84,
                    46,
                    38,
                    67,
                    64,
                    73,
                    76,
                    84,
                    84,
                    57,
                    100,
                    100,
                    71,
                    76,
                    76,
                    76,
                    95,
                    66,
                    68,
                    62,
                    79,
                    85,
                    78,
                    53,
                    92,
                    74,
                    77,
                    68,
                    74,
                    76,
                    61,
                    37,
                    61,
                    86,
                    74,
                    64,
                    73,
                    94,
                    85,
                    93,
                    73,
                    79,
                    80,
                    91,
                    81,
                    65,
                    68,
                    53,
                    68,
                    84,
                    70,
                    94,
                    72,
                    89,
                    57,
                    70,
                    69,
                    87,
                    41,
                    87,
                    49,
                    73,
                    90,
                    87,
                    82,
                    81,
                    78,
                    90,
                    71,
                    51,
                    93,
                    86,
                    85,
                    59,
                    32,
                    70,
                    68,
                    100,
                    74,
                    64,
                    46,
                    57,
                    57,
                    94,
                    74,
                    72,
                    100,
                    68,
                    81,
                    86,
                    88
                  ],
                  "xaxis": "x",
                  "yaxis": "y"
                }
              ],
              "layout": {
                "barmode": "relative",
                "legend": {
                  "title": {
                    "text": "raza_etnia"
                  },
                  "tracegroupgap": 0
                },
                "template": {
                  "data": {
                    "bar": [
                      {
                        "error_x": {
                          "color": "#2a3f5f"
                        },
                        "error_y": {
                          "color": "#2a3f5f"
                        },
                        "marker": {
                          "line": {
                            "color": "#E5ECF6",
                            "width": 0.5
                          },
                          "pattern": {
                            "fillmode": "overlay",
                            "size": 10,
                            "solidity": 0.2
                          }
                        },
                        "type": "bar"
                      }
                    ],
                    "barpolar": [
                      {
                        "marker": {
                          "line": {
                            "color": "#E5ECF6",
                            "width": 0.5
                          },
                          "pattern": {
                            "fillmode": "overlay",
                            "size": 10,
                            "solidity": 0.2
                          }
                        },
                        "type": "barpolar"
                      }
                    ],
                    "carpet": [
                      {
                        "aaxis": {
                          "endlinecolor": "#2a3f5f",
                          "gridcolor": "white",
                          "linecolor": "white",
                          "minorgridcolor": "white",
                          "startlinecolor": "#2a3f5f"
                        },
                        "baxis": {
                          "endlinecolor": "#2a3f5f",
                          "gridcolor": "white",
                          "linecolor": "white",
                          "minorgridcolor": "white",
                          "startlinecolor": "#2a3f5f"
                        },
                        "type": "carpet"
                      }
                    ],
                    "choropleth": [
                      {
                        "colorbar": {
                          "outlinewidth": 0,
                          "ticks": ""
                        },
                        "type": "choropleth"
                      }
                    ],
                    "contour": [
                      {
                        "colorbar": {
                          "outlinewidth": 0,
                          "ticks": ""
                        },
                        "colorscale": [
                          [
                            0,
                            "#0d0887"
                          ],
                          [
                            0.1111111111111111,
                            "#46039f"
                          ],
                          [
                            0.2222222222222222,
                            "#7201a8"
                          ],
                          [
                            0.3333333333333333,
                            "#9c179e"
                          ],
                          [
                            0.4444444444444444,
                            "#bd3786"
                          ],
                          [
                            0.5555555555555556,
                            "#d8576b"
                          ],
                          [
                            0.6666666666666666,
                            "#ed7953"
                          ],
                          [
                            0.7777777777777778,
                            "#fb9f3a"
                          ],
                          [
                            0.8888888888888888,
                            "#fdca26"
                          ],
                          [
                            1,
                            "#f0f921"
                          ]
                        ],
                        "type": "contour"
                      }
                    ],
                    "contourcarpet": [
                      {
                        "colorbar": {
                          "outlinewidth": 0,
                          "ticks": ""
                        },
                        "type": "contourcarpet"
                      }
                    ],
                    "heatmap": [
                      {
                        "colorbar": {
                          "outlinewidth": 0,
                          "ticks": ""
                        },
                        "colorscale": [
                          [
                            0,
                            "#0d0887"
                          ],
                          [
                            0.1111111111111111,
                            "#46039f"
                          ],
                          [
                            0.2222222222222222,
                            "#7201a8"
                          ],
                          [
                            0.3333333333333333,
                            "#9c179e"
                          ],
                          [
                            0.4444444444444444,
                            "#bd3786"
                          ],
                          [
                            0.5555555555555556,
                            "#d8576b"
                          ],
                          [
                            0.6666666666666666,
                            "#ed7953"
                          ],
                          [
                            0.7777777777777778,
                            "#fb9f3a"
                          ],
                          [
                            0.8888888888888888,
                            "#fdca26"
                          ],
                          [
                            1,
                            "#f0f921"
                          ]
                        ],
                        "type": "heatmap"
                      }
                    ],
                    "heatmapgl": [
                      {
                        "colorbar": {
                          "outlinewidth": 0,
                          "ticks": ""
                        },
                        "colorscale": [
                          [
                            0,
                            "#0d0887"
                          ],
                          [
                            0.1111111111111111,
                            "#46039f"
                          ],
                          [
                            0.2222222222222222,
                            "#7201a8"
                          ],
                          [
                            0.3333333333333333,
                            "#9c179e"
                          ],
                          [
                            0.4444444444444444,
                            "#bd3786"
                          ],
                          [
                            0.5555555555555556,
                            "#d8576b"
                          ],
                          [
                            0.6666666666666666,
                            "#ed7953"
                          ],
                          [
                            0.7777777777777778,
                            "#fb9f3a"
                          ],
                          [
                            0.8888888888888888,
                            "#fdca26"
                          ],
                          [
                            1,
                            "#f0f921"
                          ]
                        ],
                        "type": "heatmapgl"
                      }
                    ],
                    "histogram": [
                      {
                        "marker": {
                          "pattern": {
                            "fillmode": "overlay",
                            "size": 10,
                            "solidity": 0.2
                          }
                        },
                        "type": "histogram"
                      }
                    ],
                    "histogram2d": [
                      {
                        "colorbar": {
                          "outlinewidth": 0,
                          "ticks": ""
                        },
                        "colorscale": [
                          [
                            0,
                            "#0d0887"
                          ],
                          [
                            0.1111111111111111,
                            "#46039f"
                          ],
                          [
                            0.2222222222222222,
                            "#7201a8"
                          ],
                          [
                            0.3333333333333333,
                            "#9c179e"
                          ],
                          [
                            0.4444444444444444,
                            "#bd3786"
                          ],
                          [
                            0.5555555555555556,
                            "#d8576b"
                          ],
                          [
                            0.6666666666666666,
                            "#ed7953"
                          ],
                          [
                            0.7777777777777778,
                            "#fb9f3a"
                          ],
                          [
                            0.8888888888888888,
                            "#fdca26"
                          ],
                          [
                            1,
                            "#f0f921"
                          ]
                        ],
                        "type": "histogram2d"
                      }
                    ],
                    "histogram2dcontour": [
                      {
                        "colorbar": {
                          "outlinewidth": 0,
                          "ticks": ""
                        },
                        "colorscale": [
                          [
                            0,
                            "#0d0887"
                          ],
                          [
                            0.1111111111111111,
                            "#46039f"
                          ],
                          [
                            0.2222222222222222,
                            "#7201a8"
                          ],
                          [
                            0.3333333333333333,
                            "#9c179e"
                          ],
                          [
                            0.4444444444444444,
                            "#bd3786"
                          ],
                          [
                            0.5555555555555556,
                            "#d8576b"
                          ],
                          [
                            0.6666666666666666,
                            "#ed7953"
                          ],
                          [
                            0.7777777777777778,
                            "#fb9f3a"
                          ],
                          [
                            0.8888888888888888,
                            "#fdca26"
                          ],
                          [
                            1,
                            "#f0f921"
                          ]
                        ],
                        "type": "histogram2dcontour"
                      }
                    ],
                    "mesh3d": [
                      {
                        "colorbar": {
                          "outlinewidth": 0,
                          "ticks": ""
                        },
                        "type": "mesh3d"
                      }
                    ],
                    "parcoords": [
                      {
                        "line": {
                          "colorbar": {
                            "outlinewidth": 0,
                            "ticks": ""
                          }
                        },
                        "type": "parcoords"
                      }
                    ],
                    "pie": [
                      {
                        "automargin": true,
                        "type": "pie"
                      }
                    ],
                    "scatter": [
                      {
                        "fillpattern": {
                          "fillmode": "overlay",
                          "size": 10,
                          "solidity": 0.2
                        },
                        "type": "scatter"
                      }
                    ],
                    "scatter3d": [
                      {
                        "line": {
                          "colorbar": {
                            "outlinewidth": 0,
                            "ticks": ""
                          }
                        },
                        "marker": {
                          "colorbar": {
                            "outlinewidth": 0,
                            "ticks": ""
                          }
                        },
                        "type": "scatter3d"
                      }
                    ],
                    "scattercarpet": [
                      {
                        "marker": {
                          "colorbar": {
                            "outlinewidth": 0,
                            "ticks": ""
                          }
                        },
                        "type": "scattercarpet"
                      }
                    ],
                    "scattergeo": [
                      {
                        "marker": {
                          "colorbar": {
                            "outlinewidth": 0,
                            "ticks": ""
                          }
                        },
                        "type": "scattergeo"
                      }
                    ],
                    "scattergl": [
                      {
                        "marker": {
                          "colorbar": {
                            "outlinewidth": 0,
                            "ticks": ""
                          }
                        },
                        "type": "scattergl"
                      }
                    ],
                    "scattermapbox": [
                      {
                        "marker": {
                          "colorbar": {
                            "outlinewidth": 0,
                            "ticks": ""
                          }
                        },
                        "type": "scattermapbox"
                      }
                    ],
                    "scatterpolar": [
                      {
                        "marker": {
                          "colorbar": {
                            "outlinewidth": 0,
                            "ticks": ""
                          }
                        },
                        "type": "scatterpolar"
                      }
                    ],
                    "scatterpolargl": [
                      {
                        "marker": {
                          "colorbar": {
                            "outlinewidth": 0,
                            "ticks": ""
                          }
                        },
                        "type": "scatterpolargl"
                      }
                    ],
                    "scatterternary": [
                      {
                        "marker": {
                          "colorbar": {
                            "outlinewidth": 0,
                            "ticks": ""
                          }
                        },
                        "type": "scatterternary"
                      }
                    ],
                    "surface": [
                      {
                        "colorbar": {
                          "outlinewidth": 0,
                          "ticks": ""
                        },
                        "colorscale": [
                          [
                            0,
                            "#0d0887"
                          ],
                          [
                            0.1111111111111111,
                            "#46039f"
                          ],
                          [
                            0.2222222222222222,
                            "#7201a8"
                          ],
                          [
                            0.3333333333333333,
                            "#9c179e"
                          ],
                          [
                            0.4444444444444444,
                            "#bd3786"
                          ],
                          [
                            0.5555555555555556,
                            "#d8576b"
                          ],
                          [
                            0.6666666666666666,
                            "#ed7953"
                          ],
                          [
                            0.7777777777777778,
                            "#fb9f3a"
                          ],
                          [
                            0.8888888888888888,
                            "#fdca26"
                          ],
                          [
                            1,
                            "#f0f921"
                          ]
                        ],
                        "type": "surface"
                      }
                    ],
                    "table": [
                      {
                        "cells": {
                          "fill": {
                            "color": "#EBF0F8"
                          },
                          "line": {
                            "color": "white"
                          }
                        },
                        "header": {
                          "fill": {
                            "color": "#C8D4E3"
                          },
                          "line": {
                            "color": "white"
                          }
                        },
                        "type": "table"
                      }
                    ]
                  },
                  "layout": {
                    "annotationdefaults": {
                      "arrowcolor": "#2a3f5f",
                      "arrowhead": 0,
                      "arrowwidth": 1
                    },
                    "autotypenumbers": "strict",
                    "coloraxis": {
                      "colorbar": {
                        "outlinewidth": 0,
                        "ticks": ""
                      }
                    },
                    "colorscale": {
                      "diverging": [
                        [
                          0,
                          "#8e0152"
                        ],
                        [
                          0.1,
                          "#c51b7d"
                        ],
                        [
                          0.2,
                          "#de77ae"
                        ],
                        [
                          0.3,
                          "#f1b6da"
                        ],
                        [
                          0.4,
                          "#fde0ef"
                        ],
                        [
                          0.5,
                          "#f7f7f7"
                        ],
                        [
                          0.6,
                          "#e6f5d0"
                        ],
                        [
                          0.7,
                          "#b8e186"
                        ],
                        [
                          0.8,
                          "#7fbc41"
                        ],
                        [
                          0.9,
                          "#4d9221"
                        ],
                        [
                          1,
                          "#276419"
                        ]
                      ],
                      "sequential": [
                        [
                          0,
                          "#0d0887"
                        ],
                        [
                          0.1111111111111111,
                          "#46039f"
                        ],
                        [
                          0.2222222222222222,
                          "#7201a8"
                        ],
                        [
                          0.3333333333333333,
                          "#9c179e"
                        ],
                        [
                          0.4444444444444444,
                          "#bd3786"
                        ],
                        [
                          0.5555555555555556,
                          "#d8576b"
                        ],
                        [
                          0.6666666666666666,
                          "#ed7953"
                        ],
                        [
                          0.7777777777777778,
                          "#fb9f3a"
                        ],
                        [
                          0.8888888888888888,
                          "#fdca26"
                        ],
                        [
                          1,
                          "#f0f921"
                        ]
                      ],
                      "sequentialminus": [
                        [
                          0,
                          "#0d0887"
                        ],
                        [
                          0.1111111111111111,
                          "#46039f"
                        ],
                        [
                          0.2222222222222222,
                          "#7201a8"
                        ],
                        [
                          0.3333333333333333,
                          "#9c179e"
                        ],
                        [
                          0.4444444444444444,
                          "#bd3786"
                        ],
                        [
                          0.5555555555555556,
                          "#d8576b"
                        ],
                        [
                          0.6666666666666666,
                          "#ed7953"
                        ],
                        [
                          0.7777777777777778,
                          "#fb9f3a"
                        ],
                        [
                          0.8888888888888888,
                          "#fdca26"
                        ],
                        [
                          1,
                          "#f0f921"
                        ]
                      ]
                    },
                    "colorway": [
                      "#636efa",
                      "#EF553B",
                      "#00cc96",
                      "#ab63fa",
                      "#FFA15A",
                      "#19d3f3",
                      "#FF6692",
                      "#B6E880",
                      "#FF97FF",
                      "#FECB52"
                    ],
                    "font": {
                      "color": "#2a3f5f"
                    },
                    "geo": {
                      "bgcolor": "white",
                      "lakecolor": "white",
                      "landcolor": "#E5ECF6",
                      "showlakes": true,
                      "showland": true,
                      "subunitcolor": "white"
                    },
                    "hoverlabel": {
                      "align": "left"
                    },
                    "hovermode": "closest",
                    "mapbox": {
                      "style": "light"
                    },
                    "paper_bgcolor": "white",
                    "plot_bgcolor": "#E5ECF6",
                    "polar": {
                      "angularaxis": {
                        "gridcolor": "white",
                        "linecolor": "white",
                        "ticks": ""
                      },
                      "bgcolor": "#E5ECF6",
                      "radialaxis": {
                        "gridcolor": "white",
                        "linecolor": "white",
                        "ticks": ""
                      }
                    },
                    "scene": {
                      "xaxis": {
                        "backgroundcolor": "#E5ECF6",
                        "gridcolor": "white",
                        "gridwidth": 2,
                        "linecolor": "white",
                        "showbackground": true,
                        "ticks": "",
                        "zerolinecolor": "white"
                      },
                      "yaxis": {
                        "backgroundcolor": "#E5ECF6",
                        "gridcolor": "white",
                        "gridwidth": 2,
                        "linecolor": "white",
                        "showbackground": true,
                        "ticks": "",
                        "zerolinecolor": "white"
                      },
                      "zaxis": {
                        "backgroundcolor": "#E5ECF6",
                        "gridcolor": "white",
                        "gridwidth": 2,
                        "linecolor": "white",
                        "showbackground": true,
                        "ticks": "",
                        "zerolinecolor": "white"
                      }
                    },
                    "shapedefaults": {
                      "line": {
                        "color": "#2a3f5f"
                      }
                    },
                    "ternary": {
                      "aaxis": {
                        "gridcolor": "white",
                        "linecolor": "white",
                        "ticks": ""
                      },
                      "baxis": {
                        "gridcolor": "white",
                        "linecolor": "white",
                        "ticks": ""
                      },
                      "bgcolor": "#E5ECF6",
                      "caxis": {
                        "gridcolor": "white",
                        "linecolor": "white",
                        "ticks": ""
                      }
                    },
                    "title": {
                      "x": 0.05
                    },
                    "xaxis": {
                      "automargin": true,
                      "gridcolor": "white",
                      "linecolor": "white",
                      "ticks": "",
                      "title": {
                        "standoff": 15
                      },
                      "zerolinecolor": "white",
                      "zerolinewidth": 2
                    },
                    "yaxis": {
                      "automargin": true,
                      "gridcolor": "white",
                      "linecolor": "white",
                      "ticks": "",
                      "title": {
                        "standoff": 15
                      },
                      "zerolinecolor": "white",
                      "zerolinewidth": 2
                    }
                  }
                },
                "title": {
                  "text": "Distribución de Puntajes Matemáticos por Etnia"
                },
                "xaxis": {
                  "anchor": "y",
                  "domain": [
                    0,
                    1
                  ],
                  "title": {
                    "text": "puntaje_matemáticas"
                  }
                },
                "yaxis": {
                  "anchor": "x",
                  "domain": [
                    0,
                    1
                  ],
                  "title": {
                    "text": "count"
                  }
                }
              }
            }
          },
          "metadata": {},
          "output_type": "display_data"
        }
      ],
      "source": [
        "fig = px.histogram(df, x='puntaje_matemáticas', nbins=50, color='raza_etnia', title='Distribución de Puntajes Matemáticos por Etnia')\n",
        "fig.show()"
      ]
    },
    {
      "cell_type": "code",
      "execution_count": 21,
      "metadata": {
        "colab": {
          "base_uri": "https://localhost:8080/",
          "height": 542
        },
        "id": "hpkUrfyL_sTg",
        "outputId": "3c79c014-4dc7-4058-e68b-c2e4cce7dacb"
      },
      "outputs": [
        {
          "data": {
            "application/vnd.plotly.v1+json": {
              "config": {
                "plotlyServerURL": "https://plot.ly"
              },
              "data": [
                {
                  "coloraxis": "coloraxis",
                  "histfunc": "sum",
                  "hovertemplate": "raza_etnia=%{x}<br>nivel_educativo_parental=%{y}<br>sum of count=%{z}<extra></extra>",
                  "name": "",
                  "texttemplate": "%{z}",
                  "type": "histogram2d",
                  "x": [
                    "group A",
                    "group A",
                    "group A",
                    "group A",
                    "group A",
                    "group A",
                    "group B",
                    "group B",
                    "group B",
                    "group B",
                    "group B",
                    "group B",
                    "group C",
                    "group C",
                    "group C",
                    "group C",
                    "group C",
                    "group C",
                    "group D",
                    "group D",
                    "group D",
                    "group D",
                    "group D",
                    "group D",
                    "group E",
                    "group E",
                    "group E",
                    "group E",
                    "group E",
                    "group E"
                  ],
                  "xaxis": "x",
                  "xbingroup": "x",
                  "y": [
                    "algún curso universitario",
                    "licenciatura",
                    "maestría",
                    "secundaria",
                    "secundaria incompleta",
                    "título universitario de asociado",
                    "algún curso universitario",
                    "licenciatura",
                    "maestría",
                    "secundaria",
                    "secundaria incompleta",
                    "título universitario de asociado",
                    "algún curso universitario",
                    "licenciatura",
                    "maestría",
                    "secundaria",
                    "secundaria incompleta",
                    "título universitario de asociado",
                    "algún curso universitario",
                    "licenciatura",
                    "maestría",
                    "secundaria",
                    "secundaria incompleta",
                    "título universitario de asociado",
                    "algún curso universitario",
                    "licenciatura",
                    "maestría",
                    "secundaria",
                    "secundaria incompleta",
                    "título universitario de asociado"
                  ],
                  "yaxis": "y",
                  "ybingroup": "y",
                  "z": [
                    18,
                    12,
                    3,
                    18,
                    24,
                    14,
                    37,
                    20,
                    6,
                    48,
                    38,
                    41,
                    69,
                    40,
                    19,
                    64,
                    49,
                    78,
                    67,
                    28,
                    23,
                    44,
                    50,
                    50,
                    35,
                    18,
                    8,
                    22,
                    18,
                    39
                  ]
                }
              ],
              "layout": {
                "coloraxis": {
                  "colorbar": {
                    "title": {
                      "text": "sum of count"
                    }
                  },
                  "colorscale": [
                    [
                      0,
                      "#0d0887"
                    ],
                    [
                      0.1111111111111111,
                      "#46039f"
                    ],
                    [
                      0.2222222222222222,
                      "#7201a8"
                    ],
                    [
                      0.3333333333333333,
                      "#9c179e"
                    ],
                    [
                      0.4444444444444444,
                      "#bd3786"
                    ],
                    [
                      0.5555555555555556,
                      "#d8576b"
                    ],
                    [
                      0.6666666666666666,
                      "#ed7953"
                    ],
                    [
                      0.7777777777777778,
                      "#fb9f3a"
                    ],
                    [
                      0.8888888888888888,
                      "#fdca26"
                    ],
                    [
                      1,
                      "#f0f921"
                    ]
                  ]
                },
                "legend": {
                  "tracegroupgap": 0
                },
                "template": {
                  "data": {
                    "bar": [
                      {
                        "error_x": {
                          "color": "#2a3f5f"
                        },
                        "error_y": {
                          "color": "#2a3f5f"
                        },
                        "marker": {
                          "line": {
                            "color": "#E5ECF6",
                            "width": 0.5
                          },
                          "pattern": {
                            "fillmode": "overlay",
                            "size": 10,
                            "solidity": 0.2
                          }
                        },
                        "type": "bar"
                      }
                    ],
                    "barpolar": [
                      {
                        "marker": {
                          "line": {
                            "color": "#E5ECF6",
                            "width": 0.5
                          },
                          "pattern": {
                            "fillmode": "overlay",
                            "size": 10,
                            "solidity": 0.2
                          }
                        },
                        "type": "barpolar"
                      }
                    ],
                    "carpet": [
                      {
                        "aaxis": {
                          "endlinecolor": "#2a3f5f",
                          "gridcolor": "white",
                          "linecolor": "white",
                          "minorgridcolor": "white",
                          "startlinecolor": "#2a3f5f"
                        },
                        "baxis": {
                          "endlinecolor": "#2a3f5f",
                          "gridcolor": "white",
                          "linecolor": "white",
                          "minorgridcolor": "white",
                          "startlinecolor": "#2a3f5f"
                        },
                        "type": "carpet"
                      }
                    ],
                    "choropleth": [
                      {
                        "colorbar": {
                          "outlinewidth": 0,
                          "ticks": ""
                        },
                        "type": "choropleth"
                      }
                    ],
                    "contour": [
                      {
                        "colorbar": {
                          "outlinewidth": 0,
                          "ticks": ""
                        },
                        "colorscale": [
                          [
                            0,
                            "#0d0887"
                          ],
                          [
                            0.1111111111111111,
                            "#46039f"
                          ],
                          [
                            0.2222222222222222,
                            "#7201a8"
                          ],
                          [
                            0.3333333333333333,
                            "#9c179e"
                          ],
                          [
                            0.4444444444444444,
                            "#bd3786"
                          ],
                          [
                            0.5555555555555556,
                            "#d8576b"
                          ],
                          [
                            0.6666666666666666,
                            "#ed7953"
                          ],
                          [
                            0.7777777777777778,
                            "#fb9f3a"
                          ],
                          [
                            0.8888888888888888,
                            "#fdca26"
                          ],
                          [
                            1,
                            "#f0f921"
                          ]
                        ],
                        "type": "contour"
                      }
                    ],
                    "contourcarpet": [
                      {
                        "colorbar": {
                          "outlinewidth": 0,
                          "ticks": ""
                        },
                        "type": "contourcarpet"
                      }
                    ],
                    "heatmap": [
                      {
                        "colorbar": {
                          "outlinewidth": 0,
                          "ticks": ""
                        },
                        "colorscale": [
                          [
                            0,
                            "#0d0887"
                          ],
                          [
                            0.1111111111111111,
                            "#46039f"
                          ],
                          [
                            0.2222222222222222,
                            "#7201a8"
                          ],
                          [
                            0.3333333333333333,
                            "#9c179e"
                          ],
                          [
                            0.4444444444444444,
                            "#bd3786"
                          ],
                          [
                            0.5555555555555556,
                            "#d8576b"
                          ],
                          [
                            0.6666666666666666,
                            "#ed7953"
                          ],
                          [
                            0.7777777777777778,
                            "#fb9f3a"
                          ],
                          [
                            0.8888888888888888,
                            "#fdca26"
                          ],
                          [
                            1,
                            "#f0f921"
                          ]
                        ],
                        "type": "heatmap"
                      }
                    ],
                    "heatmapgl": [
                      {
                        "colorbar": {
                          "outlinewidth": 0,
                          "ticks": ""
                        },
                        "colorscale": [
                          [
                            0,
                            "#0d0887"
                          ],
                          [
                            0.1111111111111111,
                            "#46039f"
                          ],
                          [
                            0.2222222222222222,
                            "#7201a8"
                          ],
                          [
                            0.3333333333333333,
                            "#9c179e"
                          ],
                          [
                            0.4444444444444444,
                            "#bd3786"
                          ],
                          [
                            0.5555555555555556,
                            "#d8576b"
                          ],
                          [
                            0.6666666666666666,
                            "#ed7953"
                          ],
                          [
                            0.7777777777777778,
                            "#fb9f3a"
                          ],
                          [
                            0.8888888888888888,
                            "#fdca26"
                          ],
                          [
                            1,
                            "#f0f921"
                          ]
                        ],
                        "type": "heatmapgl"
                      }
                    ],
                    "histogram": [
                      {
                        "marker": {
                          "pattern": {
                            "fillmode": "overlay",
                            "size": 10,
                            "solidity": 0.2
                          }
                        },
                        "type": "histogram"
                      }
                    ],
                    "histogram2d": [
                      {
                        "colorbar": {
                          "outlinewidth": 0,
                          "ticks": ""
                        },
                        "colorscale": [
                          [
                            0,
                            "#0d0887"
                          ],
                          [
                            0.1111111111111111,
                            "#46039f"
                          ],
                          [
                            0.2222222222222222,
                            "#7201a8"
                          ],
                          [
                            0.3333333333333333,
                            "#9c179e"
                          ],
                          [
                            0.4444444444444444,
                            "#bd3786"
                          ],
                          [
                            0.5555555555555556,
                            "#d8576b"
                          ],
                          [
                            0.6666666666666666,
                            "#ed7953"
                          ],
                          [
                            0.7777777777777778,
                            "#fb9f3a"
                          ],
                          [
                            0.8888888888888888,
                            "#fdca26"
                          ],
                          [
                            1,
                            "#f0f921"
                          ]
                        ],
                        "type": "histogram2d"
                      }
                    ],
                    "histogram2dcontour": [
                      {
                        "colorbar": {
                          "outlinewidth": 0,
                          "ticks": ""
                        },
                        "colorscale": [
                          [
                            0,
                            "#0d0887"
                          ],
                          [
                            0.1111111111111111,
                            "#46039f"
                          ],
                          [
                            0.2222222222222222,
                            "#7201a8"
                          ],
                          [
                            0.3333333333333333,
                            "#9c179e"
                          ],
                          [
                            0.4444444444444444,
                            "#bd3786"
                          ],
                          [
                            0.5555555555555556,
                            "#d8576b"
                          ],
                          [
                            0.6666666666666666,
                            "#ed7953"
                          ],
                          [
                            0.7777777777777778,
                            "#fb9f3a"
                          ],
                          [
                            0.8888888888888888,
                            "#fdca26"
                          ],
                          [
                            1,
                            "#f0f921"
                          ]
                        ],
                        "type": "histogram2dcontour"
                      }
                    ],
                    "mesh3d": [
                      {
                        "colorbar": {
                          "outlinewidth": 0,
                          "ticks": ""
                        },
                        "type": "mesh3d"
                      }
                    ],
                    "parcoords": [
                      {
                        "line": {
                          "colorbar": {
                            "outlinewidth": 0,
                            "ticks": ""
                          }
                        },
                        "type": "parcoords"
                      }
                    ],
                    "pie": [
                      {
                        "automargin": true,
                        "type": "pie"
                      }
                    ],
                    "scatter": [
                      {
                        "fillpattern": {
                          "fillmode": "overlay",
                          "size": 10,
                          "solidity": 0.2
                        },
                        "type": "scatter"
                      }
                    ],
                    "scatter3d": [
                      {
                        "line": {
                          "colorbar": {
                            "outlinewidth": 0,
                            "ticks": ""
                          }
                        },
                        "marker": {
                          "colorbar": {
                            "outlinewidth": 0,
                            "ticks": ""
                          }
                        },
                        "type": "scatter3d"
                      }
                    ],
                    "scattercarpet": [
                      {
                        "marker": {
                          "colorbar": {
                            "outlinewidth": 0,
                            "ticks": ""
                          }
                        },
                        "type": "scattercarpet"
                      }
                    ],
                    "scattergeo": [
                      {
                        "marker": {
                          "colorbar": {
                            "outlinewidth": 0,
                            "ticks": ""
                          }
                        },
                        "type": "scattergeo"
                      }
                    ],
                    "scattergl": [
                      {
                        "marker": {
                          "colorbar": {
                            "outlinewidth": 0,
                            "ticks": ""
                          }
                        },
                        "type": "scattergl"
                      }
                    ],
                    "scattermapbox": [
                      {
                        "marker": {
                          "colorbar": {
                            "outlinewidth": 0,
                            "ticks": ""
                          }
                        },
                        "type": "scattermapbox"
                      }
                    ],
                    "scatterpolar": [
                      {
                        "marker": {
                          "colorbar": {
                            "outlinewidth": 0,
                            "ticks": ""
                          }
                        },
                        "type": "scatterpolar"
                      }
                    ],
                    "scatterpolargl": [
                      {
                        "marker": {
                          "colorbar": {
                            "outlinewidth": 0,
                            "ticks": ""
                          }
                        },
                        "type": "scatterpolargl"
                      }
                    ],
                    "scatterternary": [
                      {
                        "marker": {
                          "colorbar": {
                            "outlinewidth": 0,
                            "ticks": ""
                          }
                        },
                        "type": "scatterternary"
                      }
                    ],
                    "surface": [
                      {
                        "colorbar": {
                          "outlinewidth": 0,
                          "ticks": ""
                        },
                        "colorscale": [
                          [
                            0,
                            "#0d0887"
                          ],
                          [
                            0.1111111111111111,
                            "#46039f"
                          ],
                          [
                            0.2222222222222222,
                            "#7201a8"
                          ],
                          [
                            0.3333333333333333,
                            "#9c179e"
                          ],
                          [
                            0.4444444444444444,
                            "#bd3786"
                          ],
                          [
                            0.5555555555555556,
                            "#d8576b"
                          ],
                          [
                            0.6666666666666666,
                            "#ed7953"
                          ],
                          [
                            0.7777777777777778,
                            "#fb9f3a"
                          ],
                          [
                            0.8888888888888888,
                            "#fdca26"
                          ],
                          [
                            1,
                            "#f0f921"
                          ]
                        ],
                        "type": "surface"
                      }
                    ],
                    "table": [
                      {
                        "cells": {
                          "fill": {
                            "color": "#EBF0F8"
                          },
                          "line": {
                            "color": "white"
                          }
                        },
                        "header": {
                          "fill": {
                            "color": "#C8D4E3"
                          },
                          "line": {
                            "color": "white"
                          }
                        },
                        "type": "table"
                      }
                    ]
                  },
                  "layout": {
                    "annotationdefaults": {
                      "arrowcolor": "#2a3f5f",
                      "arrowhead": 0,
                      "arrowwidth": 1
                    },
                    "autotypenumbers": "strict",
                    "coloraxis": {
                      "colorbar": {
                        "outlinewidth": 0,
                        "ticks": ""
                      }
                    },
                    "colorscale": {
                      "diverging": [
                        [
                          0,
                          "#8e0152"
                        ],
                        [
                          0.1,
                          "#c51b7d"
                        ],
                        [
                          0.2,
                          "#de77ae"
                        ],
                        [
                          0.3,
                          "#f1b6da"
                        ],
                        [
                          0.4,
                          "#fde0ef"
                        ],
                        [
                          0.5,
                          "#f7f7f7"
                        ],
                        [
                          0.6,
                          "#e6f5d0"
                        ],
                        [
                          0.7,
                          "#b8e186"
                        ],
                        [
                          0.8,
                          "#7fbc41"
                        ],
                        [
                          0.9,
                          "#4d9221"
                        ],
                        [
                          1,
                          "#276419"
                        ]
                      ],
                      "sequential": [
                        [
                          0,
                          "#0d0887"
                        ],
                        [
                          0.1111111111111111,
                          "#46039f"
                        ],
                        [
                          0.2222222222222222,
                          "#7201a8"
                        ],
                        [
                          0.3333333333333333,
                          "#9c179e"
                        ],
                        [
                          0.4444444444444444,
                          "#bd3786"
                        ],
                        [
                          0.5555555555555556,
                          "#d8576b"
                        ],
                        [
                          0.6666666666666666,
                          "#ed7953"
                        ],
                        [
                          0.7777777777777778,
                          "#fb9f3a"
                        ],
                        [
                          0.8888888888888888,
                          "#fdca26"
                        ],
                        [
                          1,
                          "#f0f921"
                        ]
                      ],
                      "sequentialminus": [
                        [
                          0,
                          "#0d0887"
                        ],
                        [
                          0.1111111111111111,
                          "#46039f"
                        ],
                        [
                          0.2222222222222222,
                          "#7201a8"
                        ],
                        [
                          0.3333333333333333,
                          "#9c179e"
                        ],
                        [
                          0.4444444444444444,
                          "#bd3786"
                        ],
                        [
                          0.5555555555555556,
                          "#d8576b"
                        ],
                        [
                          0.6666666666666666,
                          "#ed7953"
                        ],
                        [
                          0.7777777777777778,
                          "#fb9f3a"
                        ],
                        [
                          0.8888888888888888,
                          "#fdca26"
                        ],
                        [
                          1,
                          "#f0f921"
                        ]
                      ]
                    },
                    "colorway": [
                      "#636efa",
                      "#EF553B",
                      "#00cc96",
                      "#ab63fa",
                      "#FFA15A",
                      "#19d3f3",
                      "#FF6692",
                      "#B6E880",
                      "#FF97FF",
                      "#FECB52"
                    ],
                    "font": {
                      "color": "#2a3f5f"
                    },
                    "geo": {
                      "bgcolor": "white",
                      "lakecolor": "white",
                      "landcolor": "#E5ECF6",
                      "showlakes": true,
                      "showland": true,
                      "subunitcolor": "white"
                    },
                    "hoverlabel": {
                      "align": "left"
                    },
                    "hovermode": "closest",
                    "mapbox": {
                      "style": "light"
                    },
                    "paper_bgcolor": "white",
                    "plot_bgcolor": "#E5ECF6",
                    "polar": {
                      "angularaxis": {
                        "gridcolor": "white",
                        "linecolor": "white",
                        "ticks": ""
                      },
                      "bgcolor": "#E5ECF6",
                      "radialaxis": {
                        "gridcolor": "white",
                        "linecolor": "white",
                        "ticks": ""
                      }
                    },
                    "scene": {
                      "xaxis": {
                        "backgroundcolor": "#E5ECF6",
                        "gridcolor": "white",
                        "gridwidth": 2,
                        "linecolor": "white",
                        "showbackground": true,
                        "ticks": "",
                        "zerolinecolor": "white"
                      },
                      "yaxis": {
                        "backgroundcolor": "#E5ECF6",
                        "gridcolor": "white",
                        "gridwidth": 2,
                        "linecolor": "white",
                        "showbackground": true,
                        "ticks": "",
                        "zerolinecolor": "white"
                      },
                      "zaxis": {
                        "backgroundcolor": "#E5ECF6",
                        "gridcolor": "white",
                        "gridwidth": 2,
                        "linecolor": "white",
                        "showbackground": true,
                        "ticks": "",
                        "zerolinecolor": "white"
                      }
                    },
                    "shapedefaults": {
                      "line": {
                        "color": "#2a3f5f"
                      }
                    },
                    "ternary": {
                      "aaxis": {
                        "gridcolor": "white",
                        "linecolor": "white",
                        "ticks": ""
                      },
                      "baxis": {
                        "gridcolor": "white",
                        "linecolor": "white",
                        "ticks": ""
                      },
                      "bgcolor": "#E5ECF6",
                      "caxis": {
                        "gridcolor": "white",
                        "linecolor": "white",
                        "ticks": ""
                      }
                    },
                    "title": {
                      "x": 0.05
                    },
                    "xaxis": {
                      "automargin": true,
                      "gridcolor": "white",
                      "linecolor": "white",
                      "ticks": "",
                      "title": {
                        "standoff": 15
                      },
                      "zerolinecolor": "white",
                      "zerolinewidth": 2
                    },
                    "yaxis": {
                      "automargin": true,
                      "gridcolor": "white",
                      "linecolor": "white",
                      "ticks": "",
                      "title": {
                        "standoff": 15
                      },
                      "zerolinecolor": "white",
                      "zerolinewidth": 2
                    }
                  }
                },
                "title": {
                  "text": "Distribución por Raza/Etnia y Nivel Educativo"
                },
                "xaxis": {
                  "anchor": "y",
                  "domain": [
                    0,
                    1
                  ],
                  "title": {
                    "text": "raza_etnia"
                  }
                },
                "yaxis": {
                  "anchor": "x",
                  "domain": [
                    0,
                    1
                  ],
                  "title": {
                    "text": "nivel_educativo_parental"
                  }
                }
              }
            }
          },
          "metadata": {},
          "output_type": "display_data"
        }
      ],
      "source": [
        "fig  = px.density_heatmap(df.groupby(['raza_etnia', 'nivel_educativo_parental']).size().reset_index(name='count'),\n",
        "                         x='raza_etnia',\n",
        "                         y='nivel_educativo_parental',\n",
        "                         z='count',\n",
        "                         text_auto=True,\n",
        "                         title='Distribución por Raza/Etnia y Nivel Educativo')\n",
        "fig.show()"
      ]
    },
    {
      "cell_type": "code",
      "execution_count": 22,
      "metadata": {
        "colab": {
          "base_uri": "https://localhost:8080/",
          "height": 542
        },
        "id": "Y1-fABWG6_zJ",
        "outputId": "e45f61d4-ce84-4b7f-f17d-5e62a262d59f"
      },
      "outputs": [
        {
          "data": {
            "application/vnd.plotly.v1+json": {
              "config": {
                "plotlyServerURL": "https://plot.ly"
              },
              "data": [
                {
                  "alignmentgroup": "True",
                  "box": {
                    "visible": false
                  },
                  "hovertemplate": "raza_etnia=group B<br>género=%{x}<br>puntaje_promedio=%{y}<extra></extra>",
                  "legendgroup": "group B",
                  "marker": {
                    "color": "#636efa"
                  },
                  "name": "group B",
                  "offsetgroup": "group B",
                  "orientation": "v",
                  "scalegroup": "True",
                  "showlegend": true,
                  "type": "violin",
                  "x": [
                    0,
                    0,
                    0,
                    0,
                    1,
                    0,
                    0,
                    0,
                    0,
                    1,
                    0,
                    1,
                    0,
                    1,
                    1,
                    1,
                    1,
                    1,
                    0,
                    1,
                    0,
                    1,
                    1,
                    1,
                    0,
                    0,
                    0,
                    1,
                    0,
                    1,
                    1,
                    1,
                    0,
                    1,
                    0,
                    1,
                    1,
                    0,
                    0,
                    0,
                    0,
                    1,
                    0,
                    0,
                    0,
                    0,
                    0,
                    0,
                    1,
                    1,
                    1,
                    1,
                    0,
                    0,
                    1,
                    0,
                    0,
                    0,
                    0,
                    1,
                    1,
                    0,
                    1,
                    0,
                    1,
                    1,
                    1,
                    0,
                    0,
                    1,
                    1,
                    0,
                    1,
                    0,
                    0,
                    0,
                    1,
                    0,
                    0,
                    0,
                    1,
                    0,
                    0,
                    1,
                    1,
                    0,
                    1,
                    1,
                    0,
                    1,
                    1,
                    1,
                    1,
                    0,
                    1,
                    0,
                    1,
                    0,
                    0,
                    0,
                    0,
                    1,
                    0,
                    0,
                    0,
                    1,
                    1,
                    0,
                    0,
                    1,
                    1,
                    1,
                    1,
                    0,
                    0,
                    1,
                    0,
                    1,
                    1,
                    1,
                    0,
                    0,
                    0,
                    1,
                    0,
                    0,
                    0,
                    0,
                    0,
                    0,
                    1,
                    1,
                    1,
                    0,
                    0,
                    0,
                    0,
                    0,
                    1,
                    0,
                    0,
                    1,
                    1,
                    1,
                    0,
                    0,
                    1,
                    1,
                    0,
                    1,
                    0,
                    0,
                    0,
                    0,
                    0,
                    0,
                    0,
                    0,
                    0,
                    1,
                    1,
                    0,
                    0,
                    1,
                    0,
                    1,
                    1,
                    0,
                    1,
                    0,
                    1,
                    1,
                    1,
                    1,
                    1,
                    0,
                    1,
                    0,
                    1,
                    0,
                    1,
                    0,
                    0,
                    1,
                    1,
                    0,
                    1,
                    0,
                    1,
                    0
                  ],
                  "x0": " ",
                  "xaxis": "x",
                  "y": [
                    72.66666666666667,
                    92.66666666666669,
                    77.33333333333333,
                    91.66666666666669,
                    40.66666666666666,
                    49.333333333333336,
                    73,
                    26,
                    70,
                    59.333333333333336,
                    63,
                    56.66666666666666,
                    58.66666666666666,
                    63.333333333333336,
                    58.66666666666666,
                    64,
                    58.333333333333336,
                    41,
                    48.66666666666666,
                    46.333333333333336,
                    85.66666666666667,
                    64.33333333333333,
                    71,
                    50.333333333333336,
                    66,
                    68.66666666666667,
                    80.66666666666667,
                    90.66666666666669,
                    89.33333333333333,
                    69,
                    48.66666666666666,
                    82.33333333333333,
                    65,
                    60,
                    78,
                    78,
                    51.333333333333336,
                    70.66666666666667,
                    76.33333333333333,
                    52.66666666666666,
                    61.333333333333336,
                    48.333333333333336,
                    64,
                    51,
                    77.66666666666667,
                    64.66666666666667,
                    77,
                    61.66666666666666,
                    80.66666666666667,
                    71,
                    57.66666666666666,
                    81.66666666666667,
                    63.66666666666666,
                    78.66666666666667,
                    52.333333333333336,
                    65.33333333333333,
                    63.66666666666666,
                    66.66666666666667,
                    74.33333333333333,
                    83,
                    62,
                    43,
                    81.66666666666667,
                    79.33333333333333,
                    79.66666666666667,
                    63,
                    73.33333333333333,
                    63.66666666666666,
                    76.33333333333333,
                    61,
                    67.66666666666667,
                    49,
                    83,
                    65,
                    29.666666666666668,
                    73,
                    60,
                    62,
                    67.66666666666667,
                    59.66666666666666,
                    82.33333333333333,
                    83,
                    60,
                    64.66666666666667,
                    64.33333333333333,
                    79.66666666666667,
                    65.66666666666667,
                    38,
                    77.33333333333333,
                    45,
                    75.33333333333333,
                    68.33333333333333,
                    51,
                    90.33333333333331,
                    70.66666666666667,
                    51.66666666666666,
                    58,
                    62,
                    67.66666666666667,
                    91,
                    81.33333333333333,
                    56,
                    59,
                    89.33333333333333,
                    74.66666666666667,
                    70,
                    88.33333333333333,
                    46,
                    64.33333333333333,
                    48.333333333333336,
                    45.333333333333336,
                    52.66666666666666,
                    72,
                    87,
                    54,
                    23,
                    62,
                    60.333333333333336,
                    67.33333333333333,
                    68,
                    73.66666666666667,
                    76,
                    77.33333333333333,
                    65,
                    75.66666666666667,
                    52.66666666666666,
                    77,
                    65.33333333333333,
                    83,
                    60,
                    62.66666666666666,
                    57,
                    65.33333333333333,
                    65.33333333333333,
                    62,
                    68,
                    85.66666666666667,
                    84,
                    43.66666666666666,
                    75,
                    64,
                    52.333333333333336,
                    85.66666666666667,
                    74.33333333333333,
                    62.333333333333336,
                    72.66666666666667,
                    66,
                    49.66666666666666,
                    63.66666666666666,
                    63.66666666666666,
                    54,
                    69.33333333333333,
                    83.66666666666667,
                    81,
                    42.333333333333336,
                    29.666666666666668,
                    56.66666666666666,
                    48.333333333333336,
                    84.66666666666667,
                    54.66666666666666,
                    89,
                    66.66666666666667,
                    80,
                    58.333333333333336,
                    82.66666666666667,
                    51,
                    56,
                    34.333333333333336,
                    75.66666666666667,
                    96.66666666666669,
                    69.33333333333333,
                    49,
                    48,
                    54.66666666666666,
                    81.33333333333333,
                    69.33333333333333,
                    30.666666666666668,
                    73.33333333333333,
                    52,
                    54,
                    92.66666666666669,
                    61.333333333333336,
                    62.333333333333336,
                    81.33333333333333,
                    50.333333333333336,
                    79.66666666666667,
                    60.66666666666666,
                    18.33333333333333,
                    83.33333333333333,
                    75
                  ],
                  "y0": " ",
                  "yaxis": "y"
                },
                {
                  "alignmentgroup": "True",
                  "box": {
                    "visible": false
                  },
                  "hovertemplate": "raza_etnia=group C<br>género=%{x}<br>puntaje_promedio=%{y}<extra></extra>",
                  "legendgroup": "group C",
                  "marker": {
                    "color": "#EF553B"
                  },
                  "name": "group C",
                  "offsetgroup": "group C",
                  "orientation": "v",
                  "scalegroup": "True",
                  "showlegend": true,
                  "type": "violin",
                  "x": [
                    0,
                    1,
                    1,
                    0,
                    1,
                    1,
                    0,
                    0,
                    0,
                    1,
                    1,
                    0,
                    0,
                    1,
                    1,
                    0,
                    0,
                    0,
                    0,
                    0,
                    0,
                    1,
                    1,
                    0,
                    0,
                    0,
                    1,
                    1,
                    1,
                    1,
                    1,
                    0,
                    1,
                    1,
                    0,
                    0,
                    0,
                    1,
                    0,
                    1,
                    0,
                    0,
                    0,
                    1,
                    0,
                    1,
                    0,
                    1,
                    0,
                    0,
                    0,
                    0,
                    0,
                    1,
                    0,
                    1,
                    1,
                    0,
                    0,
                    1,
                    0,
                    1,
                    1,
                    1,
                    0,
                    1,
                    0,
                    0,
                    0,
                    0,
                    1,
                    1,
                    1,
                    1,
                    1,
                    0,
                    1,
                    0,
                    0,
                    1,
                    0,
                    0,
                    1,
                    1,
                    1,
                    0,
                    0,
                    1,
                    1,
                    1,
                    0,
                    0,
                    1,
                    0,
                    0,
                    1,
                    1,
                    0,
                    0,
                    0,
                    0,
                    0,
                    1,
                    1,
                    1,
                    1,
                    0,
                    1,
                    1,
                    0,
                    0,
                    0,
                    0,
                    0,
                    0,
                    0,
                    0,
                    1,
                    1,
                    1,
                    0,
                    1,
                    1,
                    0,
                    1,
                    0,
                    0,
                    0,
                    0,
                    0,
                    0,
                    1,
                    1,
                    0,
                    0,
                    1,
                    1,
                    1,
                    1,
                    0,
                    1,
                    1,
                    1,
                    1,
                    0,
                    0,
                    1,
                    0,
                    0,
                    1,
                    0,
                    1,
                    1,
                    0,
                    0,
                    1,
                    0,
                    0,
                    0,
                    1,
                    1,
                    0,
                    0,
                    0,
                    0,
                    0,
                    1,
                    1,
                    0,
                    0,
                    0,
                    1,
                    1,
                    1,
                    0,
                    0,
                    0,
                    0,
                    0,
                    1,
                    1,
                    0,
                    1,
                    0,
                    1,
                    1,
                    0,
                    0,
                    1,
                    0,
                    1,
                    0,
                    0,
                    0,
                    0,
                    0,
                    1,
                    0,
                    0,
                    0,
                    1,
                    0,
                    0,
                    0,
                    1,
                    0,
                    0,
                    1,
                    0,
                    1,
                    0,
                    0,
                    1,
                    1,
                    1,
                    1,
                    0,
                    0,
                    0,
                    1,
                    0,
                    0,
                    0,
                    0,
                    0,
                    0,
                    0,
                    0,
                    0,
                    1,
                    1,
                    1,
                    1,
                    0,
                    0,
                    0,
                    1,
                    1,
                    0,
                    1,
                    1,
                    1,
                    0,
                    0,
                    1,
                    0,
                    1,
                    0,
                    1,
                    0,
                    0,
                    0,
                    0,
                    0,
                    1,
                    1,
                    0,
                    0,
                    1,
                    1,
                    0,
                    1,
                    0,
                    0,
                    0,
                    0,
                    1,
                    0,
                    0,
                    0,
                    0,
                    0,
                    1,
                    1,
                    0,
                    1,
                    1,
                    0,
                    1,
                    0,
                    0,
                    1,
                    1,
                    1,
                    0,
                    0,
                    1,
                    1,
                    1,
                    0,
                    1,
                    0,
                    0,
                    0,
                    0,
                    0,
                    0,
                    0,
                    0,
                    1,
                    1,
                    1,
                    1,
                    1,
                    0,
                    1,
                    0,
                    1,
                    1,
                    0,
                    1,
                    1,
                    0,
                    1,
                    0,
                    0,
                    0,
                    1,
                    0
                  ],
                  "x0": " ",
                  "xaxis": "x",
                  "y": [
                    82.33333333333333,
                    76.33333333333333,
                    54.66666666666666,
                    74,
                    87.66666666666667,
                    44.66666666666666,
                    57.66666666666666,
                    71.66666666666667,
                    70.33333333333333,
                    68.33333333333333,
                    56.66666666666666,
                    66.33333333333333,
                    71,
                    82.66666666666667,
                    46.333333333333336,
                    80.66666666666667,
                    39,
                    9,
                    73.33333333333333,
                    68.66666666666667,
                    53.333333333333336,
                    58,
                    46.333333333333336,
                    78.33333333333333,
                    82.33333333333333,
                    70.33333333333333,
                    32.333333333333336,
                    73.66666666666667,
                    46,
                    80.33333333333333,
                    91.33333333333331,
                    65.66666666666667,
                    55.333333333333336,
                    78.33333333333333,
                    63,
                    86.66666666666667,
                    91.33333333333331,
                    43.333333333333336,
                    80,
                    53.66666666666666,
                    64,
                    61.66666666666666,
                    31.33333333333333,
                    69,
                    82.33333333333333,
                    51.333333333333336,
                    98.66666666666669,
                    51.66666666666666,
                    70.66666666666667,
                    66.66666666666667,
                    49.333333333333336,
                    86.33333333333333,
                    75,
                    68.33333333333333,
                    58.66666666666666,
                    48.66666666666666,
                    65.66666666666667,
                    84,
                    79.33333333333333,
                    64.33333333333333,
                    79,
                    71.66666666666667,
                    47.333333333333336,
                    30,
                    54.66666666666666,
                    55.66666666666666,
                    38.333333333333336,
                    60.66666666666666,
                    71.66666666666667,
                    92.33333333333331,
                    43.66666666666666,
                    83,
                    81.33333333333333,
                    77.33333333333333,
                    60.333333333333336,
                    68.33333333333333,
                    77.33333333333333,
                    75.66666666666667,
                    73.33333333333333,
                    78.66666666666667,
                    48.333333333333336,
                    73,
                    64.33333333333333,
                    49.66666666666666,
                    78,
                    90,
                    77,
                    71.33333333333333,
                    60,
                    45.333333333333336,
                    77.33333333333333,
                    77.33333333333333,
                    49,
                    68,
                    66,
                    67.33333333333333,
                    77.66666666666667,
                    76.66666666666667,
                    77.33333333333333,
                    49.66666666666666,
                    43.333333333333336,
                    88.66666666666667,
                    61.333333333333336,
                    78,
                    64,
                    39.66666666666666,
                    90.33333333333331,
                    47.66666666666666,
                    57,
                    65.66666666666667,
                    75.66666666666667,
                    88.66666666666667,
                    73.66666666666667,
                    53.66666666666666,
                    66.66666666666667,
                    59,
                    56,
                    59,
                    60,
                    62.66666666666666,
                    62.66666666666666,
                    94,
                    77,
                    67.33333333333333,
                    55.66666666666666,
                    72,
                    89.66666666666667,
                    60,
                    58.333333333333336,
                    68,
                    67.33333333333333,
                    71,
                    71.33333333333333,
                    89.33333333333333,
                    63.66666666666666,
                    85,
                    68.33333333333333,
                    61.66666666666666,
                    63,
                    67.66666666666667,
                    57.333333333333336,
                    68.33333333333333,
                    50.333333333333336,
                    59,
                    75.66666666666667,
                    72.66666666666667,
                    82.33333333333333,
                    78,
                    72,
                    57.333333333333336,
                    58.66666666666666,
                    46.66666666666666,
                    55.333333333333336,
                    86,
                    87.33333333333333,
                    80.33333333333333,
                    86,
                    68.66666666666667,
                    79.33333333333333,
                    65.66666666666667,
                    71.66666666666667,
                    69.66666666666667,
                    66,
                    85.33333333333333,
                    86.33333333333333,
                    51.333333333333336,
                    59.333333333333336,
                    78,
                    88.33333333333333,
                    82.66666666666667,
                    87,
                    54.333333333333336,
                    51.333333333333336,
                    59,
                    44,
                    68.66666666666667,
                    69.33333333333333,
                    51.333333333333336,
                    77.33333333333333,
                    56.333333333333336,
                    70.66666666666667,
                    79,
                    67.66666666666667,
                    64.33333333333333,
                    73.33333333333333,
                    73.33333333333333,
                    34.666666666666664,
                    68.66666666666667,
                    64.66666666666667,
                    70.33333333333333,
                    92.66666666666669,
                    57,
                    60,
                    72.33333333333333,
                    56.333333333333336,
                    61,
                    56.333333333333336,
                    97,
                    69,
                    29.33333333333333,
                    69.66666666666667,
                    83.66666666666667,
                    50.66666666666666,
                    61,
                    91.66666666666669,
                    72,
                    66.66666666666667,
                    68.66666666666667,
                    50,
                    53.66666666666666,
                    50,
                    82.66666666666667,
                    53.333333333333336,
                    69.33333333333333,
                    74.66666666666667,
                    67.33333333333333,
                    67,
                    56.66666666666666,
                    69,
                    69.33333333333333,
                    70,
                    74.33333333333333,
                    77.66666666666667,
                    76,
                    37.66666666666666,
                    51.66666666666666,
                    73.66666666666667,
                    56,
                    82.33333333333333,
                    63.66666666666666,
                    59,
                    89,
                    74.33333333333333,
                    97,
                    75.33333333333333,
                    68,
                    46.66666666666666,
                    43,
                    90,
                    61,
                    85,
                    58.66666666666666,
                    82.33333333333333,
                    68,
                    67,
                    56.333333333333336,
                    77,
                    84,
                    55.333333333333336,
                    63,
                    70,
                    73,
                    40.66666666666666,
                    57.66666666666666,
                    83.66666666666667,
                    64.66666666666667,
                    59.333333333333336,
                    54.66666666666666,
                    69.33333333333333,
                    76.33333333333333,
                    75.66666666666667,
                    78,
                    61.66666666666666,
                    78.33333333333333,
                    85.33333333333333,
                    52.66666666666666,
                    62.333333333333336,
                    64.66666666666667,
                    70,
                    83,
                    66,
                    72,
                    57.66666666666666,
                    87,
                    66.33333333333333,
                    68.33333333333333,
                    60.333333333333336,
                    75,
                    77.33333333333333,
                    56,
                    74,
                    93.66666666666669,
                    54.66666666666666,
                    50.333333333333336,
                    72.66666666666667,
                    55.333333333333336,
                    70,
                    57.333333333333336,
                    64.33333333333333,
                    72.66666666666667,
                    61.66666666666666,
                    75,
                    71.33333333333333,
                    59.66666666666666,
                    58.333333333333336,
                    52.333333333333336,
                    71.33333333333333,
                    44.66666666666666,
                    51.66666666666666,
                    70.33333333333333,
                    73,
                    91.66666666666669,
                    70,
                    70.33333333333333,
                    57.66666666666666,
                    54.66666666666666,
                    66.66666666666667,
                    84,
                    75.66666666666667,
                    72,
                    62,
                    73,
                    74.33333333333333,
                    61.66666666666666,
                    93.33333333333331,
                    77,
                    50,
                    57.333333333333336,
                    65
                  ],
                  "y0": " ",
                  "yaxis": "y"
                },
                {
                  "alignmentgroup": "True",
                  "box": {
                    "visible": false
                  },
                  "hovertemplate": "raza_etnia=group A<br>género=%{x}<br>puntaje_promedio=%{y}<extra></extra>",
                  "legendgroup": "group A",
                  "marker": {
                    "color": "#00cc96"
                  },
                  "name": "group A",
                  "offsetgroup": "group A",
                  "orientation": "v",
                  "scalegroup": "True",
                  "showlegend": true,
                  "type": "violin",
                  "x": [
                    1,
                    1,
                    0,
                    1,
                    0,
                    1,
                    1,
                    0,
                    1,
                    1,
                    0,
                    1,
                    0,
                    1,
                    1,
                    1,
                    1,
                    1,
                    1,
                    1,
                    1,
                    1,
                    1,
                    1,
                    1,
                    0,
                    0,
                    1,
                    0,
                    1,
                    1,
                    0,
                    0,
                    1,
                    0,
                    0,
                    1,
                    1,
                    1,
                    0,
                    1,
                    1,
                    0,
                    1,
                    1,
                    1,
                    0,
                    1,
                    1,
                    1,
                    0,
                    0,
                    1,
                    1,
                    0,
                    1,
                    1,
                    0,
                    0,
                    1,
                    0,
                    1,
                    1,
                    1,
                    0,
                    1,
                    0,
                    1,
                    1,
                    1,
                    0,
                    0,
                    0,
                    1,
                    0,
                    0,
                    0,
                    0,
                    0,
                    1,
                    1,
                    0,
                    1,
                    0,
                    0,
                    0,
                    1,
                    0,
                    1
                  ],
                  "x0": " ",
                  "xaxis": "x",
                  "y": [
                    49.333333333333336,
                    73.33333333333333,
                    53.66666666666666,
                    73,
                    60.66666666666666,
                    37.333333333333336,
                    59.333333333333336,
                    46.66666666666666,
                    79.66666666666667,
                    50.333333333333336,
                    65,
                    51.333333333333336,
                    50.333333333333336,
                    49,
                    66,
                    70.66666666666667,
                    73,
                    68,
                    48.333333333333336,
                    43.333333333333336,
                    80,
                    68.33333333333333,
                    23.33333333333333,
                    61.66666666666666,
                    55.66666666666666,
                    55.333333333333336,
                    77,
                    64,
                    41.333333333333336,
                    44.66666666666666,
                    46.333333333333336,
                    56.333333333333336,
                    74.66666666666667,
                    59,
                    52,
                    67,
                    78,
                    65,
                    68,
                    83.33333333333333,
                    52.333333333333336,
                    81,
                    75.33333333333333,
                    68,
                    52.333333333333336,
                    91.66666666666669,
                    96.33333333333331,
                    93,
                    49.333333333333336,
                    54.66666666666666,
                    67,
                    59.66666666666666,
                    61,
                    51.66666666666666,
                    89.33333333333333,
                    94,
                    69.66666666666667,
                    74.66666666666667,
                    69.66666666666667,
                    51.66666666666666,
                    67,
                    86,
                    66.33333333333333,
                    48,
                    50,
                    58.333333333333336,
                    77.66666666666667,
                    76.66666666666667,
                    39.333333333333336,
                    47,
                    56,
                    89,
                    59.333333333333336,
                    60.66666666666666,
                    78.66666666666667,
                    64,
                    63.333333333333336,
                    41,
                    78.33333333333333,
                    59,
                    61.333333333333336,
                    59.333333333333336,
                    66,
                    54.333333333333336,
                    61.333333333333336,
                    85.33333333333333,
                    54,
                    44.66666666666666,
                    62.66666666666666
                  ],
                  "y0": " ",
                  "yaxis": "y"
                },
                {
                  "alignmentgroup": "True",
                  "box": {
                    "visible": false
                  },
                  "hovertemplate": "raza_etnia=group D<br>género=%{x}<br>puntaje_promedio=%{y}<extra></extra>",
                  "legendgroup": "group D",
                  "marker": {
                    "color": "#ab63fa"
                  },
                  "name": "group D",
                  "offsetgroup": "group D",
                  "orientation": "v",
                  "scalegroup": "True",
                  "showlegend": true,
                  "type": "violin",
                  "x": [
                    1,
                    1,
                    1,
                    1,
                    1,
                    0,
                    0,
                    1,
                    0,
                    0,
                    0,
                    0,
                    1,
                    1,
                    1,
                    0,
                    1,
                    0,
                    1,
                    0,
                    1,
                    0,
                    0,
                    0,
                    0,
                    1,
                    0,
                    0,
                    0,
                    0,
                    0,
                    0,
                    1,
                    1,
                    1,
                    1,
                    1,
                    1,
                    0,
                    1,
                    0,
                    1,
                    1,
                    1,
                    0,
                    0,
                    0,
                    1,
                    1,
                    1,
                    1,
                    0,
                    1,
                    1,
                    0,
                    1,
                    1,
                    1,
                    1,
                    1,
                    0,
                    1,
                    0,
                    1,
                    0,
                    1,
                    1,
                    1,
                    1,
                    0,
                    0,
                    0,
                    0,
                    1,
                    1,
                    0,
                    0,
                    1,
                    1,
                    1,
                    1,
                    0,
                    1,
                    0,
                    0,
                    1,
                    0,
                    1,
                    1,
                    1,
                    1,
                    0,
                    0,
                    0,
                    1,
                    0,
                    0,
                    0,
                    0,
                    0,
                    1,
                    0,
                    1,
                    0,
                    0,
                    1,
                    0,
                    1,
                    1,
                    0,
                    0,
                    1,
                    1,
                    1,
                    0,
                    1,
                    0,
                    1,
                    0,
                    0,
                    0,
                    1,
                    0,
                    0,
                    1,
                    1,
                    0,
                    0,
                    0,
                    1,
                    1,
                    0,
                    0,
                    1,
                    1,
                    0,
                    0,
                    1,
                    0,
                    0,
                    1,
                    1,
                    0,
                    0,
                    0,
                    1,
                    0,
                    0,
                    0,
                    0,
                    0,
                    0,
                    0,
                    0,
                    1,
                    1,
                    1,
                    1,
                    1,
                    1,
                    1,
                    1,
                    1,
                    1,
                    0,
                    0,
                    1,
                    0,
                    0,
                    0,
                    0,
                    1,
                    0,
                    1,
                    0,
                    1,
                    1,
                    1,
                    0,
                    1,
                    1,
                    0,
                    1,
                    0,
                    0,
                    0,
                    0,
                    1,
                    1,
                    0,
                    0,
                    1,
                    1,
                    0,
                    1,
                    1,
                    1,
                    1,
                    1,
                    1,
                    1,
                    0,
                    0,
                    1,
                    1,
                    0,
                    1,
                    0,
                    0,
                    1,
                    1,
                    0,
                    1,
                    0,
                    0,
                    0,
                    0,
                    1,
                    1,
                    1,
                    1,
                    1,
                    0,
                    0,
                    1,
                    0,
                    1,
                    1,
                    1,
                    0,
                    1,
                    0,
                    0,
                    1,
                    0,
                    1,
                    1,
                    1,
                    1,
                    0,
                    1,
                    1,
                    1,
                    1,
                    1,
                    0,
                    0,
                    0,
                    0,
                    0,
                    0,
                    1,
                    0,
                    0,
                    0,
                    1,
                    1,
                    0,
                    0,
                    0,
                    0,
                    0
                  ],
                  "x0": " ",
                  "xaxis": "x",
                  "y": [
                    65,
                    45,
                    66,
                    50.333333333333336,
                    75,
                    69,
                    72.33333333333333,
                    40,
                    79.33333333333333,
                    57.66666666666666,
                    84.33333333333333,
                    69,
                    80.33333333333333,
                    52,
                    58.333333333333336,
                    58.66666666666666,
                    39.66666666666666,
                    64.66666666666667,
                    60.333333333333336,
                    69,
                    38.333333333333336,
                    72,
                    80.33333333333333,
                    62.333333333333336,
                    64.66666666666667,
                    72,
                    88.33333333333333,
                    95.66666666666669,
                    88,
                    54.333333333333336,
                    79.66666666666667,
                    58.333333333333336,
                    58.66666666666666,
                    72,
                    79.33333333333333,
                    85,
                    76,
                    67,
                    73,
                    79.66666666666667,
                    74.66666666666667,
                    50,
                    63.333333333333336,
                    64,
                    82,
                    99,
                    68,
                    65.33333333333333,
                    79.33333333333333,
                    67,
                    56,
                    74.33333333333333,
                    74.33333333333333,
                    79.33333333333333,
                    66,
                    80.33333333333333,
                    53.66666666666666,
                    68.66666666666667,
                    77.33333333333333,
                    65.33333333333333,
                    66,
                    69,
                    54.333333333333336,
                    72.66666666666667,
                    79,
                    77.33333333333333,
                    52.66666666666666,
                    72.33333333333333,
                    47.333333333333336,
                    72.66666666666667,
                    91.66666666666669,
                    52.66666666666666,
                    68.66666666666667,
                    49,
                    46.333333333333336,
                    78.66666666666667,
                    75.33333333333333,
                    76.33333333333333,
                    78.33333333333333,
                    84,
                    54,
                    52.66666666666666,
                    65.33333333333333,
                    83.33333333333333,
                    61.333333333333336,
                    71.66666666666667,
                    50,
                    68.66666666666667,
                    73,
                    71.66666666666667,
                    60.66666666666666,
                    86.33333333333333,
                    31,
                    80.66666666666667,
                    73.33333333333333,
                    91.66666666666669,
                    67.33333333333333,
                    84,
                    93.33333333333331,
                    63.333333333333336,
                    72.66666666666667,
                    74,
                    57.66666666666666,
                    95.66666666666669,
                    55,
                    85.33333333333333,
                    71.66666666666667,
                    65.66666666666667,
                    63,
                    59.66666666666666,
                    57.333333333333336,
                    69,
                    71.33333333333333,
                    86.33333333333333,
                    79.66666666666667,
                    65,
                    85.66666666666667,
                    51.66666666666666,
                    31.666666666666668,
                    62.333333333333336,
                    76.66666666666667,
                    73.33333333333333,
                    63,
                    55.66666666666666,
                    54.66666666666666,
                    66,
                    71,
                    78.33333333333333,
                    51,
                    73.33333333333333,
                    54.333333333333336,
                    82.33333333333333,
                    74,
                    57.333333333333336,
                    61.333333333333336,
                    39,
                    59.66666666666666,
                    80.33333333333333,
                    88.66666666666667,
                    64.33333333333333,
                    67.66666666666667,
                    67,
                    76,
                    74.33333333333333,
                    70,
                    67.66666666666667,
                    60.66666666666666,
                    91.33333333333331,
                    71.33333333333333,
                    76,
                    74.33333333333333,
                    73,
                    76,
                    59,
                    56,
                    87.66666666666667,
                    64,
                    83,
                    86.66666666666667,
                    98.66666666666669,
                    51.66666666666666,
                    50.66666666666666,
                    67,
                    82.66666666666667,
                    86.66666666666667,
                    74.33333333333333,
                    48,
                    84,
                    64.66666666666667,
                    76.33333333333333,
                    89.66666666666667,
                    65.33333333333333,
                    53.66666666666666,
                    87.33333333333333,
                    65,
                    68.66666666666667,
                    76.66666666666667,
                    53,
                    74.66666666666667,
                    78,
                    61.333333333333336,
                    71,
                    76,
                    75.66666666666667,
                    84.66666666666667,
                    71.33333333333333,
                    64.66666666666667,
                    38.66666666666666,
                    85,
                    53.66666666666666,
                    99,
                    82,
                    57.66666666666666,
                    83,
                    48.66666666666666,
                    75,
                    75,
                    75,
                    71.66666666666667,
                    69.33333333333333,
                    55,
                    58.66666666666666,
                    53.333333333333336,
                    81.66666666666667,
                    60.66666666666666,
                    71.33333333333333,
                    74,
                    53,
                    65.33333333333333,
                    69.66666666666667,
                    70,
                    71,
                    69,
                    87,
                    78.66666666666667,
                    45.66666666666666,
                    56.333333333333336,
                    56,
                    74.66666666666667,
                    39.66666666666666,
                    84,
                    82.33333333333333,
                    70.33333333333333,
                    71.33333333333333,
                    48.333333333333336,
                    69.33333333333333,
                    47.66666666666666,
                    79,
                    61.333333333333336,
                    75,
                    86,
                    97.66666666666669,
                    78.33333333333333,
                    80.66666666666667,
                    84.66666666666667,
                    46.66666666666666,
                    68.66666666666667,
                    68,
                    71,
                    65.66666666666667,
                    60.333333333333336,
                    68.33333333333333,
                    63.66666666666666,
                    83.66666666666667,
                    71.33333333333333,
                    88.33333333333333,
                    55.66666666666666,
                    78.33333333333333,
                    97.33333333333331,
                    55.66666666666666,
                    51.66666666666666,
                    62.333333333333336,
                    68,
                    96.33333333333331,
                    58.333333333333336,
                    48,
                    79,
                    78.66666666666667,
                    69,
                    69.33333333333333,
                    74.33333333333333,
                    83
                  ],
                  "y0": " ",
                  "yaxis": "y"
                },
                {
                  "alignmentgroup": "True",
                  "box": {
                    "visible": false
                  },
                  "hovertemplate": "raza_etnia=group E<br>género=%{x}<br>puntaje_promedio=%{y}<extra></extra>",
                  "legendgroup": "group E",
                  "marker": {
                    "color": "#FFA15A"
                  },
                  "name": "group E",
                  "offsetgroup": "group E",
                  "orientation": "v",
                  "scalegroup": "True",
                  "showlegend": true,
                  "type": "violin",
                  "x": [
                    0,
                    1,
                    1,
                    0,
                    1,
                    1,
                    0,
                    1,
                    1,
                    0,
                    1,
                    0,
                    1,
                    0,
                    1,
                    1,
                    1,
                    0,
                    1,
                    0,
                    0,
                    0,
                    1,
                    0,
                    1,
                    0,
                    1,
                    1,
                    1,
                    1,
                    0,
                    0,
                    1,
                    0,
                    1,
                    1,
                    0,
                    0,
                    0,
                    0,
                    1,
                    1,
                    0,
                    1,
                    1,
                    0,
                    1,
                    1,
                    1,
                    1,
                    1,
                    0,
                    0,
                    0,
                    1,
                    1,
                    1,
                    1,
                    1,
                    0,
                    0,
                    0,
                    1,
                    1,
                    1,
                    0,
                    0,
                    1,
                    1,
                    0,
                    1,
                    1,
                    1,
                    0,
                    0,
                    0,
                    1,
                    0,
                    0,
                    0,
                    0,
                    0,
                    1,
                    0,
                    0,
                    0,
                    0,
                    1,
                    1,
                    0,
                    0,
                    0,
                    1,
                    1,
                    0,
                    1,
                    0,
                    1,
                    0,
                    1,
                    1,
                    0,
                    1,
                    0,
                    0,
                    1,
                    0,
                    0,
                    1,
                    1,
                    1,
                    1,
                    0,
                    1,
                    0,
                    1,
                    1,
                    0,
                    0,
                    0,
                    0,
                    0,
                    0,
                    0,
                    1,
                    0,
                    1,
                    1,
                    1,
                    1,
                    0,
                    0,
                    1,
                    0,
                    1,
                    0,
                    0,
                    1,
                    1,
                    0
                  ],
                  "x0": " ",
                  "xaxis": "x",
                  "y": [
                    64.33333333333333,
                    88.66666666666667,
                    80.33333333333333,
                    53.333333333333336,
                    52,
                    71.33333333333333,
                    84.33333333333333,
                    75,
                    26,
                    66,
                    66.33333333333333,
                    68.33333333333333,
                    64.33333333333333,
                    99.66666666666669,
                    78.66666666666667,
                    77,
                    60.333333333333336,
                    50.333333333333336,
                    97.66666666666669,
                    72.66666666666667,
                    82.66666666666667,
                    88,
                    86.66666666666667,
                    49,
                    73.66666666666667,
                    66.66666666666667,
                    54,
                    68.66666666666667,
                    79,
                    86.33333333333333,
                    85.66666666666667,
                    51.66666666666666,
                    85.66666666666667,
                    82,
                    51,
                    79.66666666666667,
                    68.33333333333333,
                    94,
                    72.33333333333333,
                    65.66666666666667,
                    89,
                    76.66666666666667,
                    71,
                    71,
                    89,
                    80,
                    57,
                    79,
                    58.333333333333336,
                    77.33333333333333,
                    43.333333333333336,
                    44,
                    72.66666666666667,
                    69,
                    66.33333333333333,
                    70,
                    81.66666666666667,
                    75.33333333333333,
                    55.66666666666666,
                    96.33333333333331,
                    100,
                    72.33333333333333,
                    68,
                    71.33333333333333,
                    73,
                    92,
                    71,
                    62.333333333333336,
                    60.333333333333336,
                    87,
                    74,
                    80.33333333333333,
                    46,
                    97.33333333333331,
                    75.33333333333333,
                    78.66666666666667,
                    66.66666666666667,
                    74.33333333333333,
                    78,
                    62.333333333333336,
                    40,
                    60.333333333333336,
                    78.66666666666667,
                    77.66666666666667,
                    64.66666666666667,
                    75.66666666666667,
                    97.66666666666669,
                    76,
                    88.66666666666667,
                    75.66666666666667,
                    80.66666666666667,
                    83.33333333333333,
                    81.33333333333333,
                    75.33333333333333,
                    72.33333333333333,
                    58.66666666666666,
                    56,
                    68.33333333333333,
                    90.33333333333331,
                    70,
                    87,
                    76,
                    83.33333333333333,
                    66,
                    78.33333333333333,
                    61,
                    92,
                    42,
                    82.33333333333333,
                    50.66666666666666,
                    64.66666666666667,
                    86.33333333333333,
                    88.33333333333333,
                    70,
                    84.66666666666667,
                    74.66666666666667,
                    87.33333333333333,
                    70.33333333333333,
                    52,
                    96,
                    87.33333333333333,
                    87.33333333333333,
                    63.333333333333336,
                    34.666666666666664,
                    68,
                    68,
                    100,
                    66,
                    57.333333333333336,
                    44.333333333333336,
                    57.333333333333336,
                    68.33333333333333,
                    79.33333333333333,
                    73.33333333333333,
                    63.66666666666666,
                    100,
                    70.33333333333333,
                    77.33333333333333,
                    80.66666666666667,
                    94
                  ],
                  "y0": " ",
                  "yaxis": "y"
                }
              ],
              "layout": {
                "legend": {
                  "title": {
                    "text": "raza_etnia"
                  },
                  "tracegroupgap": 0
                },
                "template": {
                  "data": {
                    "bar": [
                      {
                        "error_x": {
                          "color": "#2a3f5f"
                        },
                        "error_y": {
                          "color": "#2a3f5f"
                        },
                        "marker": {
                          "line": {
                            "color": "#E5ECF6",
                            "width": 0.5
                          },
                          "pattern": {
                            "fillmode": "overlay",
                            "size": 10,
                            "solidity": 0.2
                          }
                        },
                        "type": "bar"
                      }
                    ],
                    "barpolar": [
                      {
                        "marker": {
                          "line": {
                            "color": "#E5ECF6",
                            "width": 0.5
                          },
                          "pattern": {
                            "fillmode": "overlay",
                            "size": 10,
                            "solidity": 0.2
                          }
                        },
                        "type": "barpolar"
                      }
                    ],
                    "carpet": [
                      {
                        "aaxis": {
                          "endlinecolor": "#2a3f5f",
                          "gridcolor": "white",
                          "linecolor": "white",
                          "minorgridcolor": "white",
                          "startlinecolor": "#2a3f5f"
                        },
                        "baxis": {
                          "endlinecolor": "#2a3f5f",
                          "gridcolor": "white",
                          "linecolor": "white",
                          "minorgridcolor": "white",
                          "startlinecolor": "#2a3f5f"
                        },
                        "type": "carpet"
                      }
                    ],
                    "choropleth": [
                      {
                        "colorbar": {
                          "outlinewidth": 0,
                          "ticks": ""
                        },
                        "type": "choropleth"
                      }
                    ],
                    "contour": [
                      {
                        "colorbar": {
                          "outlinewidth": 0,
                          "ticks": ""
                        },
                        "colorscale": [
                          [
                            0,
                            "#0d0887"
                          ],
                          [
                            0.1111111111111111,
                            "#46039f"
                          ],
                          [
                            0.2222222222222222,
                            "#7201a8"
                          ],
                          [
                            0.3333333333333333,
                            "#9c179e"
                          ],
                          [
                            0.4444444444444444,
                            "#bd3786"
                          ],
                          [
                            0.5555555555555556,
                            "#d8576b"
                          ],
                          [
                            0.6666666666666666,
                            "#ed7953"
                          ],
                          [
                            0.7777777777777778,
                            "#fb9f3a"
                          ],
                          [
                            0.8888888888888888,
                            "#fdca26"
                          ],
                          [
                            1,
                            "#f0f921"
                          ]
                        ],
                        "type": "contour"
                      }
                    ],
                    "contourcarpet": [
                      {
                        "colorbar": {
                          "outlinewidth": 0,
                          "ticks": ""
                        },
                        "type": "contourcarpet"
                      }
                    ],
                    "heatmap": [
                      {
                        "colorbar": {
                          "outlinewidth": 0,
                          "ticks": ""
                        },
                        "colorscale": [
                          [
                            0,
                            "#0d0887"
                          ],
                          [
                            0.1111111111111111,
                            "#46039f"
                          ],
                          [
                            0.2222222222222222,
                            "#7201a8"
                          ],
                          [
                            0.3333333333333333,
                            "#9c179e"
                          ],
                          [
                            0.4444444444444444,
                            "#bd3786"
                          ],
                          [
                            0.5555555555555556,
                            "#d8576b"
                          ],
                          [
                            0.6666666666666666,
                            "#ed7953"
                          ],
                          [
                            0.7777777777777778,
                            "#fb9f3a"
                          ],
                          [
                            0.8888888888888888,
                            "#fdca26"
                          ],
                          [
                            1,
                            "#f0f921"
                          ]
                        ],
                        "type": "heatmap"
                      }
                    ],
                    "heatmapgl": [
                      {
                        "colorbar": {
                          "outlinewidth": 0,
                          "ticks": ""
                        },
                        "colorscale": [
                          [
                            0,
                            "#0d0887"
                          ],
                          [
                            0.1111111111111111,
                            "#46039f"
                          ],
                          [
                            0.2222222222222222,
                            "#7201a8"
                          ],
                          [
                            0.3333333333333333,
                            "#9c179e"
                          ],
                          [
                            0.4444444444444444,
                            "#bd3786"
                          ],
                          [
                            0.5555555555555556,
                            "#d8576b"
                          ],
                          [
                            0.6666666666666666,
                            "#ed7953"
                          ],
                          [
                            0.7777777777777778,
                            "#fb9f3a"
                          ],
                          [
                            0.8888888888888888,
                            "#fdca26"
                          ],
                          [
                            1,
                            "#f0f921"
                          ]
                        ],
                        "type": "heatmapgl"
                      }
                    ],
                    "histogram": [
                      {
                        "marker": {
                          "pattern": {
                            "fillmode": "overlay",
                            "size": 10,
                            "solidity": 0.2
                          }
                        },
                        "type": "histogram"
                      }
                    ],
                    "histogram2d": [
                      {
                        "colorbar": {
                          "outlinewidth": 0,
                          "ticks": ""
                        },
                        "colorscale": [
                          [
                            0,
                            "#0d0887"
                          ],
                          [
                            0.1111111111111111,
                            "#46039f"
                          ],
                          [
                            0.2222222222222222,
                            "#7201a8"
                          ],
                          [
                            0.3333333333333333,
                            "#9c179e"
                          ],
                          [
                            0.4444444444444444,
                            "#bd3786"
                          ],
                          [
                            0.5555555555555556,
                            "#d8576b"
                          ],
                          [
                            0.6666666666666666,
                            "#ed7953"
                          ],
                          [
                            0.7777777777777778,
                            "#fb9f3a"
                          ],
                          [
                            0.8888888888888888,
                            "#fdca26"
                          ],
                          [
                            1,
                            "#f0f921"
                          ]
                        ],
                        "type": "histogram2d"
                      }
                    ],
                    "histogram2dcontour": [
                      {
                        "colorbar": {
                          "outlinewidth": 0,
                          "ticks": ""
                        },
                        "colorscale": [
                          [
                            0,
                            "#0d0887"
                          ],
                          [
                            0.1111111111111111,
                            "#46039f"
                          ],
                          [
                            0.2222222222222222,
                            "#7201a8"
                          ],
                          [
                            0.3333333333333333,
                            "#9c179e"
                          ],
                          [
                            0.4444444444444444,
                            "#bd3786"
                          ],
                          [
                            0.5555555555555556,
                            "#d8576b"
                          ],
                          [
                            0.6666666666666666,
                            "#ed7953"
                          ],
                          [
                            0.7777777777777778,
                            "#fb9f3a"
                          ],
                          [
                            0.8888888888888888,
                            "#fdca26"
                          ],
                          [
                            1,
                            "#f0f921"
                          ]
                        ],
                        "type": "histogram2dcontour"
                      }
                    ],
                    "mesh3d": [
                      {
                        "colorbar": {
                          "outlinewidth": 0,
                          "ticks": ""
                        },
                        "type": "mesh3d"
                      }
                    ],
                    "parcoords": [
                      {
                        "line": {
                          "colorbar": {
                            "outlinewidth": 0,
                            "ticks": ""
                          }
                        },
                        "type": "parcoords"
                      }
                    ],
                    "pie": [
                      {
                        "automargin": true,
                        "type": "pie"
                      }
                    ],
                    "scatter": [
                      {
                        "fillpattern": {
                          "fillmode": "overlay",
                          "size": 10,
                          "solidity": 0.2
                        },
                        "type": "scatter"
                      }
                    ],
                    "scatter3d": [
                      {
                        "line": {
                          "colorbar": {
                            "outlinewidth": 0,
                            "ticks": ""
                          }
                        },
                        "marker": {
                          "colorbar": {
                            "outlinewidth": 0,
                            "ticks": ""
                          }
                        },
                        "type": "scatter3d"
                      }
                    ],
                    "scattercarpet": [
                      {
                        "marker": {
                          "colorbar": {
                            "outlinewidth": 0,
                            "ticks": ""
                          }
                        },
                        "type": "scattercarpet"
                      }
                    ],
                    "scattergeo": [
                      {
                        "marker": {
                          "colorbar": {
                            "outlinewidth": 0,
                            "ticks": ""
                          }
                        },
                        "type": "scattergeo"
                      }
                    ],
                    "scattergl": [
                      {
                        "marker": {
                          "colorbar": {
                            "outlinewidth": 0,
                            "ticks": ""
                          }
                        },
                        "type": "scattergl"
                      }
                    ],
                    "scattermapbox": [
                      {
                        "marker": {
                          "colorbar": {
                            "outlinewidth": 0,
                            "ticks": ""
                          }
                        },
                        "type": "scattermapbox"
                      }
                    ],
                    "scatterpolar": [
                      {
                        "marker": {
                          "colorbar": {
                            "outlinewidth": 0,
                            "ticks": ""
                          }
                        },
                        "type": "scatterpolar"
                      }
                    ],
                    "scatterpolargl": [
                      {
                        "marker": {
                          "colorbar": {
                            "outlinewidth": 0,
                            "ticks": ""
                          }
                        },
                        "type": "scatterpolargl"
                      }
                    ],
                    "scatterternary": [
                      {
                        "marker": {
                          "colorbar": {
                            "outlinewidth": 0,
                            "ticks": ""
                          }
                        },
                        "type": "scatterternary"
                      }
                    ],
                    "surface": [
                      {
                        "colorbar": {
                          "outlinewidth": 0,
                          "ticks": ""
                        },
                        "colorscale": [
                          [
                            0,
                            "#0d0887"
                          ],
                          [
                            0.1111111111111111,
                            "#46039f"
                          ],
                          [
                            0.2222222222222222,
                            "#7201a8"
                          ],
                          [
                            0.3333333333333333,
                            "#9c179e"
                          ],
                          [
                            0.4444444444444444,
                            "#bd3786"
                          ],
                          [
                            0.5555555555555556,
                            "#d8576b"
                          ],
                          [
                            0.6666666666666666,
                            "#ed7953"
                          ],
                          [
                            0.7777777777777778,
                            "#fb9f3a"
                          ],
                          [
                            0.8888888888888888,
                            "#fdca26"
                          ],
                          [
                            1,
                            "#f0f921"
                          ]
                        ],
                        "type": "surface"
                      }
                    ],
                    "table": [
                      {
                        "cells": {
                          "fill": {
                            "color": "#EBF0F8"
                          },
                          "line": {
                            "color": "white"
                          }
                        },
                        "header": {
                          "fill": {
                            "color": "#C8D4E3"
                          },
                          "line": {
                            "color": "white"
                          }
                        },
                        "type": "table"
                      }
                    ]
                  },
                  "layout": {
                    "annotationdefaults": {
                      "arrowcolor": "#2a3f5f",
                      "arrowhead": 0,
                      "arrowwidth": 1
                    },
                    "autotypenumbers": "strict",
                    "coloraxis": {
                      "colorbar": {
                        "outlinewidth": 0,
                        "ticks": ""
                      }
                    },
                    "colorscale": {
                      "diverging": [
                        [
                          0,
                          "#8e0152"
                        ],
                        [
                          0.1,
                          "#c51b7d"
                        ],
                        [
                          0.2,
                          "#de77ae"
                        ],
                        [
                          0.3,
                          "#f1b6da"
                        ],
                        [
                          0.4,
                          "#fde0ef"
                        ],
                        [
                          0.5,
                          "#f7f7f7"
                        ],
                        [
                          0.6,
                          "#e6f5d0"
                        ],
                        [
                          0.7,
                          "#b8e186"
                        ],
                        [
                          0.8,
                          "#7fbc41"
                        ],
                        [
                          0.9,
                          "#4d9221"
                        ],
                        [
                          1,
                          "#276419"
                        ]
                      ],
                      "sequential": [
                        [
                          0,
                          "#0d0887"
                        ],
                        [
                          0.1111111111111111,
                          "#46039f"
                        ],
                        [
                          0.2222222222222222,
                          "#7201a8"
                        ],
                        [
                          0.3333333333333333,
                          "#9c179e"
                        ],
                        [
                          0.4444444444444444,
                          "#bd3786"
                        ],
                        [
                          0.5555555555555556,
                          "#d8576b"
                        ],
                        [
                          0.6666666666666666,
                          "#ed7953"
                        ],
                        [
                          0.7777777777777778,
                          "#fb9f3a"
                        ],
                        [
                          0.8888888888888888,
                          "#fdca26"
                        ],
                        [
                          1,
                          "#f0f921"
                        ]
                      ],
                      "sequentialminus": [
                        [
                          0,
                          "#0d0887"
                        ],
                        [
                          0.1111111111111111,
                          "#46039f"
                        ],
                        [
                          0.2222222222222222,
                          "#7201a8"
                        ],
                        [
                          0.3333333333333333,
                          "#9c179e"
                        ],
                        [
                          0.4444444444444444,
                          "#bd3786"
                        ],
                        [
                          0.5555555555555556,
                          "#d8576b"
                        ],
                        [
                          0.6666666666666666,
                          "#ed7953"
                        ],
                        [
                          0.7777777777777778,
                          "#fb9f3a"
                        ],
                        [
                          0.8888888888888888,
                          "#fdca26"
                        ],
                        [
                          1,
                          "#f0f921"
                        ]
                      ]
                    },
                    "colorway": [
                      "#636efa",
                      "#EF553B",
                      "#00cc96",
                      "#ab63fa",
                      "#FFA15A",
                      "#19d3f3",
                      "#FF6692",
                      "#B6E880",
                      "#FF97FF",
                      "#FECB52"
                    ],
                    "font": {
                      "color": "#2a3f5f"
                    },
                    "geo": {
                      "bgcolor": "white",
                      "lakecolor": "white",
                      "landcolor": "#E5ECF6",
                      "showlakes": true,
                      "showland": true,
                      "subunitcolor": "white"
                    },
                    "hoverlabel": {
                      "align": "left"
                    },
                    "hovermode": "closest",
                    "mapbox": {
                      "style": "light"
                    },
                    "paper_bgcolor": "white",
                    "plot_bgcolor": "#E5ECF6",
                    "polar": {
                      "angularaxis": {
                        "gridcolor": "white",
                        "linecolor": "white",
                        "ticks": ""
                      },
                      "bgcolor": "#E5ECF6",
                      "radialaxis": {
                        "gridcolor": "white",
                        "linecolor": "white",
                        "ticks": ""
                      }
                    },
                    "scene": {
                      "xaxis": {
                        "backgroundcolor": "#E5ECF6",
                        "gridcolor": "white",
                        "gridwidth": 2,
                        "linecolor": "white",
                        "showbackground": true,
                        "ticks": "",
                        "zerolinecolor": "white"
                      },
                      "yaxis": {
                        "backgroundcolor": "#E5ECF6",
                        "gridcolor": "white",
                        "gridwidth": 2,
                        "linecolor": "white",
                        "showbackground": true,
                        "ticks": "",
                        "zerolinecolor": "white"
                      },
                      "zaxis": {
                        "backgroundcolor": "#E5ECF6",
                        "gridcolor": "white",
                        "gridwidth": 2,
                        "linecolor": "white",
                        "showbackground": true,
                        "ticks": "",
                        "zerolinecolor": "white"
                      }
                    },
                    "shapedefaults": {
                      "line": {
                        "color": "#2a3f5f"
                      }
                    },
                    "ternary": {
                      "aaxis": {
                        "gridcolor": "white",
                        "linecolor": "white",
                        "ticks": ""
                      },
                      "baxis": {
                        "gridcolor": "white",
                        "linecolor": "white",
                        "ticks": ""
                      },
                      "bgcolor": "#E5ECF6",
                      "caxis": {
                        "gridcolor": "white",
                        "linecolor": "white",
                        "ticks": ""
                      }
                    },
                    "title": {
                      "x": 0.05
                    },
                    "xaxis": {
                      "automargin": true,
                      "gridcolor": "white",
                      "linecolor": "white",
                      "ticks": "",
                      "title": {
                        "standoff": 15
                      },
                      "zerolinecolor": "white",
                      "zerolinewidth": 2
                    },
                    "yaxis": {
                      "automargin": true,
                      "gridcolor": "white",
                      "linecolor": "white",
                      "ticks": "",
                      "title": {
                        "standoff": 15
                      },
                      "zerolinecolor": "white",
                      "zerolinewidth": 2
                    }
                  }
                },
                "title": {
                  "text": "Puntaje Promedio por Género"
                },
                "violinmode": "group",
                "xaxis": {
                  "anchor": "y",
                  "domain": [
                    0,
                    1
                  ],
                  "title": {
                    "text": "género"
                  }
                },
                "yaxis": {
                  "anchor": "x",
                  "domain": [
                    0,
                    1
                  ],
                  "title": {
                    "text": "puntaje_promedio"
                  }
                }
              }
            }
          },
          "metadata": {},
          "output_type": "display_data"
        }
      ],
      "source": [
        "fig = px.violin(df, x='género', y='puntaje_promedio', color='raza_etnia', title='Puntaje Promedio por Género')\n",
        "fig.show()"
      ]
    },
    {
      "cell_type": "code",
      "execution_count": 23,
      "metadata": {
        "colab": {
          "base_uri": "https://localhost:8080/",
          "height": 542
        },
        "id": "5GtxRufb6dFw",
        "outputId": "cadde514-473b-4f0b-a835-2954500fd12a"
      },
      "outputs": [
        {
          "data": {
            "application/vnd.plotly.v1+json": {
              "config": {
                "plotlyServerURL": "https://plot.ly"
              },
              "data": [
                {
                  "alignmentgroup": "True",
                  "box": {
                    "visible": false
                  },
                  "hovertemplate": "raza_etnia=%{y}<br>género=%{x}<extra></extra>",
                  "legendgroup": "group B",
                  "marker": {
                    "color": "#636efa"
                  },
                  "name": "group B",
                  "offsetgroup": "group B",
                  "orientation": "h",
                  "scalegroup": "True",
                  "showlegend": true,
                  "type": "violin",
                  "x": [
                    0,
                    0,
                    0,
                    0,
                    1,
                    0,
                    0,
                    0,
                    0,
                    1,
                    0,
                    1,
                    0,
                    1,
                    1,
                    1,
                    1,
                    1,
                    0,
                    1,
                    0,
                    1,
                    1,
                    1,
                    0,
                    0,
                    0,
                    1,
                    0,
                    1,
                    1,
                    1,
                    0,
                    1,
                    0,
                    1,
                    1,
                    0,
                    0,
                    0,
                    0,
                    1,
                    0,
                    0,
                    0,
                    0,
                    0,
                    0,
                    1,
                    1,
                    1,
                    1,
                    0,
                    0,
                    1,
                    0,
                    0,
                    0,
                    0,
                    1,
                    1,
                    0,
                    1,
                    0,
                    1,
                    1,
                    1,
                    0,
                    0,
                    1,
                    1,
                    0,
                    1,
                    0,
                    0,
                    0,
                    1,
                    0,
                    0,
                    0,
                    1,
                    0,
                    0,
                    1,
                    1,
                    0,
                    1,
                    1,
                    0,
                    1,
                    1,
                    1,
                    1,
                    0,
                    1,
                    0,
                    1,
                    0,
                    0,
                    0,
                    0,
                    1,
                    0,
                    0,
                    0,
                    1,
                    1,
                    0,
                    0,
                    1,
                    1,
                    1,
                    1,
                    0,
                    0,
                    1,
                    0,
                    1,
                    1,
                    1,
                    0,
                    0,
                    0,
                    1,
                    0,
                    0,
                    0,
                    0,
                    0,
                    0,
                    1,
                    1,
                    1,
                    0,
                    0,
                    0,
                    0,
                    0,
                    1,
                    0,
                    0,
                    1,
                    1,
                    1,
                    0,
                    0,
                    1,
                    1,
                    0,
                    1,
                    0,
                    0,
                    0,
                    0,
                    0,
                    0,
                    0,
                    0,
                    0,
                    1,
                    1,
                    0,
                    0,
                    1,
                    0,
                    1,
                    1,
                    0,
                    1,
                    0,
                    1,
                    1,
                    1,
                    1,
                    1,
                    0,
                    1,
                    0,
                    1,
                    0,
                    1,
                    0,
                    0,
                    1,
                    1,
                    0,
                    1,
                    0,
                    1,
                    0
                  ],
                  "x0": " ",
                  "xaxis": "x",
                  "y": [
                    "group B",
                    "group B",
                    "group B",
                    "group B",
                    "group B",
                    "group B",
                    "group B",
                    "group B",
                    "group B",
                    "group B",
                    "group B",
                    "group B",
                    "group B",
                    "group B",
                    "group B",
                    "group B",
                    "group B",
                    "group B",
                    "group B",
                    "group B",
                    "group B",
                    "group B",
                    "group B",
                    "group B",
                    "group B",
                    "group B",
                    "group B",
                    "group B",
                    "group B",
                    "group B",
                    "group B",
                    "group B",
                    "group B",
                    "group B",
                    "group B",
                    "group B",
                    "group B",
                    "group B",
                    "group B",
                    "group B",
                    "group B",
                    "group B",
                    "group B",
                    "group B",
                    "group B",
                    "group B",
                    "group B",
                    "group B",
                    "group B",
                    "group B",
                    "group B",
                    "group B",
                    "group B",
                    "group B",
                    "group B",
                    "group B",
                    "group B",
                    "group B",
                    "group B",
                    "group B",
                    "group B",
                    "group B",
                    "group B",
                    "group B",
                    "group B",
                    "group B",
                    "group B",
                    "group B",
                    "group B",
                    "group B",
                    "group B",
                    "group B",
                    "group B",
                    "group B",
                    "group B",
                    "group B",
                    "group B",
                    "group B",
                    "group B",
                    "group B",
                    "group B",
                    "group B",
                    "group B",
                    "group B",
                    "group B",
                    "group B",
                    "group B",
                    "group B",
                    "group B",
                    "group B",
                    "group B",
                    "group B",
                    "group B",
                    "group B",
                    "group B",
                    "group B",
                    "group B",
                    "group B",
                    "group B",
                    "group B",
                    "group B",
                    "group B",
                    "group B",
                    "group B",
                    "group B",
                    "group B",
                    "group B",
                    "group B",
                    "group B",
                    "group B",
                    "group B",
                    "group B",
                    "group B",
                    "group B",
                    "group B",
                    "group B",
                    "group B",
                    "group B",
                    "group B",
                    "group B",
                    "group B",
                    "group B",
                    "group B",
                    "group B",
                    "group B",
                    "group B",
                    "group B",
                    "group B",
                    "group B",
                    "group B",
                    "group B",
                    "group B",
                    "group B",
                    "group B",
                    "group B",
                    "group B",
                    "group B",
                    "group B",
                    "group B",
                    "group B",
                    "group B",
                    "group B",
                    "group B",
                    "group B",
                    "group B",
                    "group B",
                    "group B",
                    "group B",
                    "group B",
                    "group B",
                    "group B",
                    "group B",
                    "group B",
                    "group B",
                    "group B",
                    "group B",
                    "group B",
                    "group B",
                    "group B",
                    "group B",
                    "group B",
                    "group B",
                    "group B",
                    "group B",
                    "group B",
                    "group B",
                    "group B",
                    "group B",
                    "group B",
                    "group B",
                    "group B",
                    "group B",
                    "group B",
                    "group B",
                    "group B",
                    "group B",
                    "group B",
                    "group B",
                    "group B",
                    "group B",
                    "group B",
                    "group B",
                    "group B",
                    "group B",
                    "group B",
                    "group B",
                    "group B",
                    "group B",
                    "group B",
                    "group B"
                  ],
                  "y0": " ",
                  "yaxis": "y"
                },
                {
                  "alignmentgroup": "True",
                  "box": {
                    "visible": false
                  },
                  "hovertemplate": "raza_etnia=%{y}<br>género=%{x}<extra></extra>",
                  "legendgroup": "group C",
                  "marker": {
                    "color": "#EF553B"
                  },
                  "name": "group C",
                  "offsetgroup": "group C",
                  "orientation": "h",
                  "scalegroup": "True",
                  "showlegend": true,
                  "type": "violin",
                  "x": [
                    0,
                    1,
                    1,
                    0,
                    1,
                    1,
                    0,
                    0,
                    0,
                    1,
                    1,
                    0,
                    0,
                    1,
                    1,
                    0,
                    0,
                    0,
                    0,
                    0,
                    0,
                    1,
                    1,
                    0,
                    0,
                    0,
                    1,
                    1,
                    1,
                    1,
                    1,
                    0,
                    1,
                    1,
                    0,
                    0,
                    0,
                    1,
                    0,
                    1,
                    0,
                    0,
                    0,
                    1,
                    0,
                    1,
                    0,
                    1,
                    0,
                    0,
                    0,
                    0,
                    0,
                    1,
                    0,
                    1,
                    1,
                    0,
                    0,
                    1,
                    0,
                    1,
                    1,
                    1,
                    0,
                    1,
                    0,
                    0,
                    0,
                    0,
                    1,
                    1,
                    1,
                    1,
                    1,
                    0,
                    1,
                    0,
                    0,
                    1,
                    0,
                    0,
                    1,
                    1,
                    1,
                    0,
                    0,
                    1,
                    1,
                    1,
                    0,
                    0,
                    1,
                    0,
                    0,
                    1,
                    1,
                    0,
                    0,
                    0,
                    0,
                    0,
                    1,
                    1,
                    1,
                    1,
                    0,
                    1,
                    1,
                    0,
                    0,
                    0,
                    0,
                    0,
                    0,
                    0,
                    0,
                    1,
                    1,
                    1,
                    0,
                    1,
                    1,
                    0,
                    1,
                    0,
                    0,
                    0,
                    0,
                    0,
                    0,
                    1,
                    1,
                    0,
                    0,
                    1,
                    1,
                    1,
                    1,
                    0,
                    1,
                    1,
                    1,
                    1,
                    0,
                    0,
                    1,
                    0,
                    0,
                    1,
                    0,
                    1,
                    1,
                    0,
                    0,
                    1,
                    0,
                    0,
                    0,
                    1,
                    1,
                    0,
                    0,
                    0,
                    0,
                    0,
                    1,
                    1,
                    0,
                    0,
                    0,
                    1,
                    1,
                    1,
                    0,
                    0,
                    0,
                    0,
                    0,
                    1,
                    1,
                    0,
                    1,
                    0,
                    1,
                    1,
                    0,
                    0,
                    1,
                    0,
                    1,
                    0,
                    0,
                    0,
                    0,
                    0,
                    1,
                    0,
                    0,
                    0,
                    1,
                    0,
                    0,
                    0,
                    1,
                    0,
                    0,
                    1,
                    0,
                    1,
                    0,
                    0,
                    1,
                    1,
                    1,
                    1,
                    0,
                    0,
                    0,
                    1,
                    0,
                    0,
                    0,
                    0,
                    0,
                    0,
                    0,
                    0,
                    0,
                    1,
                    1,
                    1,
                    1,
                    0,
                    0,
                    0,
                    1,
                    1,
                    0,
                    1,
                    1,
                    1,
                    0,
                    0,
                    1,
                    0,
                    1,
                    0,
                    1,
                    0,
                    0,
                    0,
                    0,
                    0,
                    1,
                    1,
                    0,
                    0,
                    1,
                    1,
                    0,
                    1,
                    0,
                    0,
                    0,
                    0,
                    1,
                    0,
                    0,
                    0,
                    0,
                    0,
                    1,
                    1,
                    0,
                    1,
                    1,
                    0,
                    1,
                    0,
                    0,
                    1,
                    1,
                    1,
                    0,
                    0,
                    1,
                    1,
                    1,
                    0,
                    1,
                    0,
                    0,
                    0,
                    0,
                    0,
                    0,
                    0,
                    0,
                    1,
                    1,
                    1,
                    1,
                    1,
                    0,
                    1,
                    0,
                    1,
                    1,
                    0,
                    1,
                    1,
                    0,
                    1,
                    0,
                    0,
                    0,
                    1,
                    0
                  ],
                  "x0": " ",
                  "xaxis": "x",
                  "y": [
                    "group C",
                    "group C",
                    "group C",
                    "group C",
                    "group C",
                    "group C",
                    "group C",
                    "group C",
                    "group C",
                    "group C",
                    "group C",
                    "group C",
                    "group C",
                    "group C",
                    "group C",
                    "group C",
                    "group C",
                    "group C",
                    "group C",
                    "group C",
                    "group C",
                    "group C",
                    "group C",
                    "group C",
                    "group C",
                    "group C",
                    "group C",
                    "group C",
                    "group C",
                    "group C",
                    "group C",
                    "group C",
                    "group C",
                    "group C",
                    "group C",
                    "group C",
                    "group C",
                    "group C",
                    "group C",
                    "group C",
                    "group C",
                    "group C",
                    "group C",
                    "group C",
                    "group C",
                    "group C",
                    "group C",
                    "group C",
                    "group C",
                    "group C",
                    "group C",
                    "group C",
                    "group C",
                    "group C",
                    "group C",
                    "group C",
                    "group C",
                    "group C",
                    "group C",
                    "group C",
                    "group C",
                    "group C",
                    "group C",
                    "group C",
                    "group C",
                    "group C",
                    "group C",
                    "group C",
                    "group C",
                    "group C",
                    "group C",
                    "group C",
                    "group C",
                    "group C",
                    "group C",
                    "group C",
                    "group C",
                    "group C",
                    "group C",
                    "group C",
                    "group C",
                    "group C",
                    "group C",
                    "group C",
                    "group C",
                    "group C",
                    "group C",
                    "group C",
                    "group C",
                    "group C",
                    "group C",
                    "group C",
                    "group C",
                    "group C",
                    "group C",
                    "group C",
                    "group C",
                    "group C",
                    "group C",
                    "group C",
                    "group C",
                    "group C",
                    "group C",
                    "group C",
                    "group C",
                    "group C",
                    "group C",
                    "group C",
                    "group C",
                    "group C",
                    "group C",
                    "group C",
                    "group C",
                    "group C",
                    "group C",
                    "group C",
                    "group C",
                    "group C",
                    "group C",
                    "group C",
                    "group C",
                    "group C",
                    "group C",
                    "group C",
                    "group C",
                    "group C",
                    "group C",
                    "group C",
                    "group C",
                    "group C",
                    "group C",
                    "group C",
                    "group C",
                    "group C",
                    "group C",
                    "group C",
                    "group C",
                    "group C",
                    "group C",
                    "group C",
                    "group C",
                    "group C",
                    "group C",
                    "group C",
                    "group C",
                    "group C",
                    "group C",
                    "group C",
                    "group C",
                    "group C",
                    "group C",
                    "group C",
                    "group C",
                    "group C",
                    "group C",
                    "group C",
                    "group C",
                    "group C",
                    "group C",
                    "group C",
                    "group C",
                    "group C",
                    "group C",
                    "group C",
                    "group C",
                    "group C",
                    "group C",
                    "group C",
                    "group C",
                    "group C",
                    "group C",
                    "group C",
                    "group C",
                    "group C",
                    "group C",
                    "group C",
                    "group C",
                    "group C",
                    "group C",
                    "group C",
                    "group C",
                    "group C",
                    "group C",
                    "group C",
                    "group C",
                    "group C",
                    "group C",
                    "group C",
                    "group C",
                    "group C",
                    "group C",
                    "group C",
                    "group C",
                    "group C",
                    "group C",
                    "group C",
                    "group C",
                    "group C",
                    "group C",
                    "group C",
                    "group C",
                    "group C",
                    "group C",
                    "group C",
                    "group C",
                    "group C",
                    "group C",
                    "group C",
                    "group C",
                    "group C",
                    "group C",
                    "group C",
                    "group C",
                    "group C",
                    "group C",
                    "group C",
                    "group C",
                    "group C",
                    "group C",
                    "group C",
                    "group C",
                    "group C",
                    "group C",
                    "group C",
                    "group C",
                    "group C",
                    "group C",
                    "group C",
                    "group C",
                    "group C",
                    "group C",
                    "group C",
                    "group C",
                    "group C",
                    "group C",
                    "group C",
                    "group C",
                    "group C",
                    "group C",
                    "group C",
                    "group C",
                    "group C",
                    "group C",
                    "group C",
                    "group C",
                    "group C",
                    "group C",
                    "group C",
                    "group C",
                    "group C",
                    "group C",
                    "group C",
                    "group C",
                    "group C",
                    "group C",
                    "group C",
                    "group C",
                    "group C",
                    "group C",
                    "group C",
                    "group C",
                    "group C",
                    "group C",
                    "group C",
                    "group C",
                    "group C",
                    "group C",
                    "group C",
                    "group C",
                    "group C",
                    "group C",
                    "group C",
                    "group C",
                    "group C",
                    "group C",
                    "group C",
                    "group C",
                    "group C",
                    "group C",
                    "group C",
                    "group C",
                    "group C",
                    "group C",
                    "group C",
                    "group C",
                    "group C",
                    "group C",
                    "group C",
                    "group C",
                    "group C",
                    "group C",
                    "group C",
                    "group C",
                    "group C",
                    "group C",
                    "group C",
                    "group C",
                    "group C",
                    "group C",
                    "group C",
                    "group C",
                    "group C",
                    "group C",
                    "group C",
                    "group C",
                    "group C",
                    "group C",
                    "group C",
                    "group C",
                    "group C",
                    "group C",
                    "group C",
                    "group C",
                    "group C",
                    "group C",
                    "group C",
                    "group C",
                    "group C",
                    "group C"
                  ],
                  "y0": " ",
                  "yaxis": "y"
                },
                {
                  "alignmentgroup": "True",
                  "box": {
                    "visible": false
                  },
                  "hovertemplate": "raza_etnia=%{y}<br>género=%{x}<extra></extra>",
                  "legendgroup": "group A",
                  "marker": {
                    "color": "#00cc96"
                  },
                  "name": "group A",
                  "offsetgroup": "group A",
                  "orientation": "h",
                  "scalegroup": "True",
                  "showlegend": true,
                  "type": "violin",
                  "x": [
                    1,
                    1,
                    0,
                    1,
                    0,
                    1,
                    1,
                    0,
                    1,
                    1,
                    0,
                    1,
                    0,
                    1,
                    1,
                    1,
                    1,
                    1,
                    1,
                    1,
                    1,
                    1,
                    1,
                    1,
                    1,
                    0,
                    0,
                    1,
                    0,
                    1,
                    1,
                    0,
                    0,
                    1,
                    0,
                    0,
                    1,
                    1,
                    1,
                    0,
                    1,
                    1,
                    0,
                    1,
                    1,
                    1,
                    0,
                    1,
                    1,
                    1,
                    0,
                    0,
                    1,
                    1,
                    0,
                    1,
                    1,
                    0,
                    0,
                    1,
                    0,
                    1,
                    1,
                    1,
                    0,
                    1,
                    0,
                    1,
                    1,
                    1,
                    0,
                    0,
                    0,
                    1,
                    0,
                    0,
                    0,
                    0,
                    0,
                    1,
                    1,
                    0,
                    1,
                    0,
                    0,
                    0,
                    1,
                    0,
                    1
                  ],
                  "x0": " ",
                  "xaxis": "x",
                  "y": [
                    "group A",
                    "group A",
                    "group A",
                    "group A",
                    "group A",
                    "group A",
                    "group A",
                    "group A",
                    "group A",
                    "group A",
                    "group A",
                    "group A",
                    "group A",
                    "group A",
                    "group A",
                    "group A",
                    "group A",
                    "group A",
                    "group A",
                    "group A",
                    "group A",
                    "group A",
                    "group A",
                    "group A",
                    "group A",
                    "group A",
                    "group A",
                    "group A",
                    "group A",
                    "group A",
                    "group A",
                    "group A",
                    "group A",
                    "group A",
                    "group A",
                    "group A",
                    "group A",
                    "group A",
                    "group A",
                    "group A",
                    "group A",
                    "group A",
                    "group A",
                    "group A",
                    "group A",
                    "group A",
                    "group A",
                    "group A",
                    "group A",
                    "group A",
                    "group A",
                    "group A",
                    "group A",
                    "group A",
                    "group A",
                    "group A",
                    "group A",
                    "group A",
                    "group A",
                    "group A",
                    "group A",
                    "group A",
                    "group A",
                    "group A",
                    "group A",
                    "group A",
                    "group A",
                    "group A",
                    "group A",
                    "group A",
                    "group A",
                    "group A",
                    "group A",
                    "group A",
                    "group A",
                    "group A",
                    "group A",
                    "group A",
                    "group A",
                    "group A",
                    "group A",
                    "group A",
                    "group A",
                    "group A",
                    "group A",
                    "group A",
                    "group A",
                    "group A",
                    "group A"
                  ],
                  "y0": " ",
                  "yaxis": "y"
                },
                {
                  "alignmentgroup": "True",
                  "box": {
                    "visible": false
                  },
                  "hovertemplate": "raza_etnia=%{y}<br>género=%{x}<extra></extra>",
                  "legendgroup": "group D",
                  "marker": {
                    "color": "#ab63fa"
                  },
                  "name": "group D",
                  "offsetgroup": "group D",
                  "orientation": "h",
                  "scalegroup": "True",
                  "showlegend": true,
                  "type": "violin",
                  "x": [
                    1,
                    1,
                    1,
                    1,
                    1,
                    0,
                    0,
                    1,
                    0,
                    0,
                    0,
                    0,
                    1,
                    1,
                    1,
                    0,
                    1,
                    0,
                    1,
                    0,
                    1,
                    0,
                    0,
                    0,
                    0,
                    1,
                    0,
                    0,
                    0,
                    0,
                    0,
                    0,
                    1,
                    1,
                    1,
                    1,
                    1,
                    1,
                    0,
                    1,
                    0,
                    1,
                    1,
                    1,
                    0,
                    0,
                    0,
                    1,
                    1,
                    1,
                    1,
                    0,
                    1,
                    1,
                    0,
                    1,
                    1,
                    1,
                    1,
                    1,
                    0,
                    1,
                    0,
                    1,
                    0,
                    1,
                    1,
                    1,
                    1,
                    0,
                    0,
                    0,
                    0,
                    1,
                    1,
                    0,
                    0,
                    1,
                    1,
                    1,
                    1,
                    0,
                    1,
                    0,
                    0,
                    1,
                    0,
                    1,
                    1,
                    1,
                    1,
                    0,
                    0,
                    0,
                    1,
                    0,
                    0,
                    0,
                    0,
                    0,
                    1,
                    0,
                    1,
                    0,
                    0,
                    1,
                    0,
                    1,
                    1,
                    0,
                    0,
                    1,
                    1,
                    1,
                    0,
                    1,
                    0,
                    1,
                    0,
                    0,
                    0,
                    1,
                    0,
                    0,
                    1,
                    1,
                    0,
                    0,
                    0,
                    1,
                    1,
                    0,
                    0,
                    1,
                    1,
                    0,
                    0,
                    1,
                    0,
                    0,
                    1,
                    1,
                    0,
                    0,
                    0,
                    1,
                    0,
                    0,
                    0,
                    0,
                    0,
                    0,
                    0,
                    0,
                    1,
                    1,
                    1,
                    1,
                    1,
                    1,
                    1,
                    1,
                    1,
                    1,
                    0,
                    0,
                    1,
                    0,
                    0,
                    0,
                    0,
                    1,
                    0,
                    1,
                    0,
                    1,
                    1,
                    1,
                    0,
                    1,
                    1,
                    0,
                    1,
                    0,
                    0,
                    0,
                    0,
                    1,
                    1,
                    0,
                    0,
                    1,
                    1,
                    0,
                    1,
                    1,
                    1,
                    1,
                    1,
                    1,
                    1,
                    0,
                    0,
                    1,
                    1,
                    0,
                    1,
                    0,
                    0,
                    1,
                    1,
                    0,
                    1,
                    0,
                    0,
                    0,
                    0,
                    1,
                    1,
                    1,
                    1,
                    1,
                    0,
                    0,
                    1,
                    0,
                    1,
                    1,
                    1,
                    0,
                    1,
                    0,
                    0,
                    1,
                    0,
                    1,
                    1,
                    1,
                    1,
                    0,
                    1,
                    1,
                    1,
                    1,
                    1,
                    0,
                    0,
                    0,
                    0,
                    0,
                    0,
                    1,
                    0,
                    0,
                    0,
                    1,
                    1,
                    0,
                    0,
                    0,
                    0,
                    0
                  ],
                  "x0": " ",
                  "xaxis": "x",
                  "y": [
                    "group D",
                    "group D",
                    "group D",
                    "group D",
                    "group D",
                    "group D",
                    "group D",
                    "group D",
                    "group D",
                    "group D",
                    "group D",
                    "group D",
                    "group D",
                    "group D",
                    "group D",
                    "group D",
                    "group D",
                    "group D",
                    "group D",
                    "group D",
                    "group D",
                    "group D",
                    "group D",
                    "group D",
                    "group D",
                    "group D",
                    "group D",
                    "group D",
                    "group D",
                    "group D",
                    "group D",
                    "group D",
                    "group D",
                    "group D",
                    "group D",
                    "group D",
                    "group D",
                    "group D",
                    "group D",
                    "group D",
                    "group D",
                    "group D",
                    "group D",
                    "group D",
                    "group D",
                    "group D",
                    "group D",
                    "group D",
                    "group D",
                    "group D",
                    "group D",
                    "group D",
                    "group D",
                    "group D",
                    "group D",
                    "group D",
                    "group D",
                    "group D",
                    "group D",
                    "group D",
                    "group D",
                    "group D",
                    "group D",
                    "group D",
                    "group D",
                    "group D",
                    "group D",
                    "group D",
                    "group D",
                    "group D",
                    "group D",
                    "group D",
                    "group D",
                    "group D",
                    "group D",
                    "group D",
                    "group D",
                    "group D",
                    "group D",
                    "group D",
                    "group D",
                    "group D",
                    "group D",
                    "group D",
                    "group D",
                    "group D",
                    "group D",
                    "group D",
                    "group D",
                    "group D",
                    "group D",
                    "group D",
                    "group D",
                    "group D",
                    "group D",
                    "group D",
                    "group D",
                    "group D",
                    "group D",
                    "group D",
                    "group D",
                    "group D",
                    "group D",
                    "group D",
                    "group D",
                    "group D",
                    "group D",
                    "group D",
                    "group D",
                    "group D",
                    "group D",
                    "group D",
                    "group D",
                    "group D",
                    "group D",
                    "group D",
                    "group D",
                    "group D",
                    "group D",
                    "group D",
                    "group D",
                    "group D",
                    "group D",
                    "group D",
                    "group D",
                    "group D",
                    "group D",
                    "group D",
                    "group D",
                    "group D",
                    "group D",
                    "group D",
                    "group D",
                    "group D",
                    "group D",
                    "group D",
                    "group D",
                    "group D",
                    "group D",
                    "group D",
                    "group D",
                    "group D",
                    "group D",
                    "group D",
                    "group D",
                    "group D",
                    "group D",
                    "group D",
                    "group D",
                    "group D",
                    "group D",
                    "group D",
                    "group D",
                    "group D",
                    "group D",
                    "group D",
                    "group D",
                    "group D",
                    "group D",
                    "group D",
                    "group D",
                    "group D",
                    "group D",
                    "group D",
                    "group D",
                    "group D",
                    "group D",
                    "group D",
                    "group D",
                    "group D",
                    "group D",
                    "group D",
                    "group D",
                    "group D",
                    "group D",
                    "group D",
                    "group D",
                    "group D",
                    "group D",
                    "group D",
                    "group D",
                    "group D",
                    "group D",
                    "group D",
                    "group D",
                    "group D",
                    "group D",
                    "group D",
                    "group D",
                    "group D",
                    "group D",
                    "group D",
                    "group D",
                    "group D",
                    "group D",
                    "group D",
                    "group D",
                    "group D",
                    "group D",
                    "group D",
                    "group D",
                    "group D",
                    "group D",
                    "group D",
                    "group D",
                    "group D",
                    "group D",
                    "group D",
                    "group D",
                    "group D",
                    "group D",
                    "group D",
                    "group D",
                    "group D",
                    "group D",
                    "group D",
                    "group D",
                    "group D",
                    "group D",
                    "group D",
                    "group D",
                    "group D",
                    "group D",
                    "group D",
                    "group D",
                    "group D",
                    "group D",
                    "group D",
                    "group D",
                    "group D",
                    "group D",
                    "group D",
                    "group D",
                    "group D",
                    "group D",
                    "group D",
                    "group D",
                    "group D",
                    "group D",
                    "group D",
                    "group D",
                    "group D",
                    "group D",
                    "group D",
                    "group D",
                    "group D",
                    "group D",
                    "group D",
                    "group D",
                    "group D",
                    "group D",
                    "group D",
                    "group D",
                    "group D",
                    "group D",
                    "group D",
                    "group D",
                    "group D",
                    "group D",
                    "group D",
                    "group D",
                    "group D"
                  ],
                  "y0": " ",
                  "yaxis": "y"
                },
                {
                  "alignmentgroup": "True",
                  "box": {
                    "visible": false
                  },
                  "hovertemplate": "raza_etnia=%{y}<br>género=%{x}<extra></extra>",
                  "legendgroup": "group E",
                  "marker": {
                    "color": "#FFA15A"
                  },
                  "name": "group E",
                  "offsetgroup": "group E",
                  "orientation": "h",
                  "scalegroup": "True",
                  "showlegend": true,
                  "type": "violin",
                  "x": [
                    0,
                    1,
                    1,
                    0,
                    1,
                    1,
                    0,
                    1,
                    1,
                    0,
                    1,
                    0,
                    1,
                    0,
                    1,
                    1,
                    1,
                    0,
                    1,
                    0,
                    0,
                    0,
                    1,
                    0,
                    1,
                    0,
                    1,
                    1,
                    1,
                    1,
                    0,
                    0,
                    1,
                    0,
                    1,
                    1,
                    0,
                    0,
                    0,
                    0,
                    1,
                    1,
                    0,
                    1,
                    1,
                    0,
                    1,
                    1,
                    1,
                    1,
                    1,
                    0,
                    0,
                    0,
                    1,
                    1,
                    1,
                    1,
                    1,
                    0,
                    0,
                    0,
                    1,
                    1,
                    1,
                    0,
                    0,
                    1,
                    1,
                    0,
                    1,
                    1,
                    1,
                    0,
                    0,
                    0,
                    1,
                    0,
                    0,
                    0,
                    0,
                    0,
                    1,
                    0,
                    0,
                    0,
                    0,
                    1,
                    1,
                    0,
                    0,
                    0,
                    1,
                    1,
                    0,
                    1,
                    0,
                    1,
                    0,
                    1,
                    1,
                    0,
                    1,
                    0,
                    0,
                    1,
                    0,
                    0,
                    1,
                    1,
                    1,
                    1,
                    0,
                    1,
                    0,
                    1,
                    1,
                    0,
                    0,
                    0,
                    0,
                    0,
                    0,
                    0,
                    1,
                    0,
                    1,
                    1,
                    1,
                    1,
                    0,
                    0,
                    1,
                    0,
                    1,
                    0,
                    0,
                    1,
                    1,
                    0
                  ],
                  "x0": " ",
                  "xaxis": "x",
                  "y": [
                    "group E",
                    "group E",
                    "group E",
                    "group E",
                    "group E",
                    "group E",
                    "group E",
                    "group E",
                    "group E",
                    "group E",
                    "group E",
                    "group E",
                    "group E",
                    "group E",
                    "group E",
                    "group E",
                    "group E",
                    "group E",
                    "group E",
                    "group E",
                    "group E",
                    "group E",
                    "group E",
                    "group E",
                    "group E",
                    "group E",
                    "group E",
                    "group E",
                    "group E",
                    "group E",
                    "group E",
                    "group E",
                    "group E",
                    "group E",
                    "group E",
                    "group E",
                    "group E",
                    "group E",
                    "group E",
                    "group E",
                    "group E",
                    "group E",
                    "group E",
                    "group E",
                    "group E",
                    "group E",
                    "group E",
                    "group E",
                    "group E",
                    "group E",
                    "group E",
                    "group E",
                    "group E",
                    "group E",
                    "group E",
                    "group E",
                    "group E",
                    "group E",
                    "group E",
                    "group E",
                    "group E",
                    "group E",
                    "group E",
                    "group E",
                    "group E",
                    "group E",
                    "group E",
                    "group E",
                    "group E",
                    "group E",
                    "group E",
                    "group E",
                    "group E",
                    "group E",
                    "group E",
                    "group E",
                    "group E",
                    "group E",
                    "group E",
                    "group E",
                    "group E",
                    "group E",
                    "group E",
                    "group E",
                    "group E",
                    "group E",
                    "group E",
                    "group E",
                    "group E",
                    "group E",
                    "group E",
                    "group E",
                    "group E",
                    "group E",
                    "group E",
                    "group E",
                    "group E",
                    "group E",
                    "group E",
                    "group E",
                    "group E",
                    "group E",
                    "group E",
                    "group E",
                    "group E",
                    "group E",
                    "group E",
                    "group E",
                    "group E",
                    "group E",
                    "group E",
                    "group E",
                    "group E",
                    "group E",
                    "group E",
                    "group E",
                    "group E",
                    "group E",
                    "group E",
                    "group E",
                    "group E",
                    "group E",
                    "group E",
                    "group E",
                    "group E",
                    "group E",
                    "group E",
                    "group E",
                    "group E",
                    "group E",
                    "group E",
                    "group E",
                    "group E",
                    "group E",
                    "group E",
                    "group E",
                    "group E",
                    "group E",
                    "group E",
                    "group E"
                  ],
                  "y0": " ",
                  "yaxis": "y"
                }
              ],
              "layout": {
                "legend": {
                  "title": {
                    "text": "raza_etnia"
                  },
                  "tracegroupgap": 0
                },
                "template": {
                  "data": {
                    "bar": [
                      {
                        "error_x": {
                          "color": "#2a3f5f"
                        },
                        "error_y": {
                          "color": "#2a3f5f"
                        },
                        "marker": {
                          "line": {
                            "color": "#E5ECF6",
                            "width": 0.5
                          },
                          "pattern": {
                            "fillmode": "overlay",
                            "size": 10,
                            "solidity": 0.2
                          }
                        },
                        "type": "bar"
                      }
                    ],
                    "barpolar": [
                      {
                        "marker": {
                          "line": {
                            "color": "#E5ECF6",
                            "width": 0.5
                          },
                          "pattern": {
                            "fillmode": "overlay",
                            "size": 10,
                            "solidity": 0.2
                          }
                        },
                        "type": "barpolar"
                      }
                    ],
                    "carpet": [
                      {
                        "aaxis": {
                          "endlinecolor": "#2a3f5f",
                          "gridcolor": "white",
                          "linecolor": "white",
                          "minorgridcolor": "white",
                          "startlinecolor": "#2a3f5f"
                        },
                        "baxis": {
                          "endlinecolor": "#2a3f5f",
                          "gridcolor": "white",
                          "linecolor": "white",
                          "minorgridcolor": "white",
                          "startlinecolor": "#2a3f5f"
                        },
                        "type": "carpet"
                      }
                    ],
                    "choropleth": [
                      {
                        "colorbar": {
                          "outlinewidth": 0,
                          "ticks": ""
                        },
                        "type": "choropleth"
                      }
                    ],
                    "contour": [
                      {
                        "colorbar": {
                          "outlinewidth": 0,
                          "ticks": ""
                        },
                        "colorscale": [
                          [
                            0,
                            "#0d0887"
                          ],
                          [
                            0.1111111111111111,
                            "#46039f"
                          ],
                          [
                            0.2222222222222222,
                            "#7201a8"
                          ],
                          [
                            0.3333333333333333,
                            "#9c179e"
                          ],
                          [
                            0.4444444444444444,
                            "#bd3786"
                          ],
                          [
                            0.5555555555555556,
                            "#d8576b"
                          ],
                          [
                            0.6666666666666666,
                            "#ed7953"
                          ],
                          [
                            0.7777777777777778,
                            "#fb9f3a"
                          ],
                          [
                            0.8888888888888888,
                            "#fdca26"
                          ],
                          [
                            1,
                            "#f0f921"
                          ]
                        ],
                        "type": "contour"
                      }
                    ],
                    "contourcarpet": [
                      {
                        "colorbar": {
                          "outlinewidth": 0,
                          "ticks": ""
                        },
                        "type": "contourcarpet"
                      }
                    ],
                    "heatmap": [
                      {
                        "colorbar": {
                          "outlinewidth": 0,
                          "ticks": ""
                        },
                        "colorscale": [
                          [
                            0,
                            "#0d0887"
                          ],
                          [
                            0.1111111111111111,
                            "#46039f"
                          ],
                          [
                            0.2222222222222222,
                            "#7201a8"
                          ],
                          [
                            0.3333333333333333,
                            "#9c179e"
                          ],
                          [
                            0.4444444444444444,
                            "#bd3786"
                          ],
                          [
                            0.5555555555555556,
                            "#d8576b"
                          ],
                          [
                            0.6666666666666666,
                            "#ed7953"
                          ],
                          [
                            0.7777777777777778,
                            "#fb9f3a"
                          ],
                          [
                            0.8888888888888888,
                            "#fdca26"
                          ],
                          [
                            1,
                            "#f0f921"
                          ]
                        ],
                        "type": "heatmap"
                      }
                    ],
                    "heatmapgl": [
                      {
                        "colorbar": {
                          "outlinewidth": 0,
                          "ticks": ""
                        },
                        "colorscale": [
                          [
                            0,
                            "#0d0887"
                          ],
                          [
                            0.1111111111111111,
                            "#46039f"
                          ],
                          [
                            0.2222222222222222,
                            "#7201a8"
                          ],
                          [
                            0.3333333333333333,
                            "#9c179e"
                          ],
                          [
                            0.4444444444444444,
                            "#bd3786"
                          ],
                          [
                            0.5555555555555556,
                            "#d8576b"
                          ],
                          [
                            0.6666666666666666,
                            "#ed7953"
                          ],
                          [
                            0.7777777777777778,
                            "#fb9f3a"
                          ],
                          [
                            0.8888888888888888,
                            "#fdca26"
                          ],
                          [
                            1,
                            "#f0f921"
                          ]
                        ],
                        "type": "heatmapgl"
                      }
                    ],
                    "histogram": [
                      {
                        "marker": {
                          "pattern": {
                            "fillmode": "overlay",
                            "size": 10,
                            "solidity": 0.2
                          }
                        },
                        "type": "histogram"
                      }
                    ],
                    "histogram2d": [
                      {
                        "colorbar": {
                          "outlinewidth": 0,
                          "ticks": ""
                        },
                        "colorscale": [
                          [
                            0,
                            "#0d0887"
                          ],
                          [
                            0.1111111111111111,
                            "#46039f"
                          ],
                          [
                            0.2222222222222222,
                            "#7201a8"
                          ],
                          [
                            0.3333333333333333,
                            "#9c179e"
                          ],
                          [
                            0.4444444444444444,
                            "#bd3786"
                          ],
                          [
                            0.5555555555555556,
                            "#d8576b"
                          ],
                          [
                            0.6666666666666666,
                            "#ed7953"
                          ],
                          [
                            0.7777777777777778,
                            "#fb9f3a"
                          ],
                          [
                            0.8888888888888888,
                            "#fdca26"
                          ],
                          [
                            1,
                            "#f0f921"
                          ]
                        ],
                        "type": "histogram2d"
                      }
                    ],
                    "histogram2dcontour": [
                      {
                        "colorbar": {
                          "outlinewidth": 0,
                          "ticks": ""
                        },
                        "colorscale": [
                          [
                            0,
                            "#0d0887"
                          ],
                          [
                            0.1111111111111111,
                            "#46039f"
                          ],
                          [
                            0.2222222222222222,
                            "#7201a8"
                          ],
                          [
                            0.3333333333333333,
                            "#9c179e"
                          ],
                          [
                            0.4444444444444444,
                            "#bd3786"
                          ],
                          [
                            0.5555555555555556,
                            "#d8576b"
                          ],
                          [
                            0.6666666666666666,
                            "#ed7953"
                          ],
                          [
                            0.7777777777777778,
                            "#fb9f3a"
                          ],
                          [
                            0.8888888888888888,
                            "#fdca26"
                          ],
                          [
                            1,
                            "#f0f921"
                          ]
                        ],
                        "type": "histogram2dcontour"
                      }
                    ],
                    "mesh3d": [
                      {
                        "colorbar": {
                          "outlinewidth": 0,
                          "ticks": ""
                        },
                        "type": "mesh3d"
                      }
                    ],
                    "parcoords": [
                      {
                        "line": {
                          "colorbar": {
                            "outlinewidth": 0,
                            "ticks": ""
                          }
                        },
                        "type": "parcoords"
                      }
                    ],
                    "pie": [
                      {
                        "automargin": true,
                        "type": "pie"
                      }
                    ],
                    "scatter": [
                      {
                        "fillpattern": {
                          "fillmode": "overlay",
                          "size": 10,
                          "solidity": 0.2
                        },
                        "type": "scatter"
                      }
                    ],
                    "scatter3d": [
                      {
                        "line": {
                          "colorbar": {
                            "outlinewidth": 0,
                            "ticks": ""
                          }
                        },
                        "marker": {
                          "colorbar": {
                            "outlinewidth": 0,
                            "ticks": ""
                          }
                        },
                        "type": "scatter3d"
                      }
                    ],
                    "scattercarpet": [
                      {
                        "marker": {
                          "colorbar": {
                            "outlinewidth": 0,
                            "ticks": ""
                          }
                        },
                        "type": "scattercarpet"
                      }
                    ],
                    "scattergeo": [
                      {
                        "marker": {
                          "colorbar": {
                            "outlinewidth": 0,
                            "ticks": ""
                          }
                        },
                        "type": "scattergeo"
                      }
                    ],
                    "scattergl": [
                      {
                        "marker": {
                          "colorbar": {
                            "outlinewidth": 0,
                            "ticks": ""
                          }
                        },
                        "type": "scattergl"
                      }
                    ],
                    "scattermapbox": [
                      {
                        "marker": {
                          "colorbar": {
                            "outlinewidth": 0,
                            "ticks": ""
                          }
                        },
                        "type": "scattermapbox"
                      }
                    ],
                    "scatterpolar": [
                      {
                        "marker": {
                          "colorbar": {
                            "outlinewidth": 0,
                            "ticks": ""
                          }
                        },
                        "type": "scatterpolar"
                      }
                    ],
                    "scatterpolargl": [
                      {
                        "marker": {
                          "colorbar": {
                            "outlinewidth": 0,
                            "ticks": ""
                          }
                        },
                        "type": "scatterpolargl"
                      }
                    ],
                    "scatterternary": [
                      {
                        "marker": {
                          "colorbar": {
                            "outlinewidth": 0,
                            "ticks": ""
                          }
                        },
                        "type": "scatterternary"
                      }
                    ],
                    "surface": [
                      {
                        "colorbar": {
                          "outlinewidth": 0,
                          "ticks": ""
                        },
                        "colorscale": [
                          [
                            0,
                            "#0d0887"
                          ],
                          [
                            0.1111111111111111,
                            "#46039f"
                          ],
                          [
                            0.2222222222222222,
                            "#7201a8"
                          ],
                          [
                            0.3333333333333333,
                            "#9c179e"
                          ],
                          [
                            0.4444444444444444,
                            "#bd3786"
                          ],
                          [
                            0.5555555555555556,
                            "#d8576b"
                          ],
                          [
                            0.6666666666666666,
                            "#ed7953"
                          ],
                          [
                            0.7777777777777778,
                            "#fb9f3a"
                          ],
                          [
                            0.8888888888888888,
                            "#fdca26"
                          ],
                          [
                            1,
                            "#f0f921"
                          ]
                        ],
                        "type": "surface"
                      }
                    ],
                    "table": [
                      {
                        "cells": {
                          "fill": {
                            "color": "#EBF0F8"
                          },
                          "line": {
                            "color": "white"
                          }
                        },
                        "header": {
                          "fill": {
                            "color": "#C8D4E3"
                          },
                          "line": {
                            "color": "white"
                          }
                        },
                        "type": "table"
                      }
                    ]
                  },
                  "layout": {
                    "annotationdefaults": {
                      "arrowcolor": "#2a3f5f",
                      "arrowhead": 0,
                      "arrowwidth": 1
                    },
                    "autotypenumbers": "strict",
                    "coloraxis": {
                      "colorbar": {
                        "outlinewidth": 0,
                        "ticks": ""
                      }
                    },
                    "colorscale": {
                      "diverging": [
                        [
                          0,
                          "#8e0152"
                        ],
                        [
                          0.1,
                          "#c51b7d"
                        ],
                        [
                          0.2,
                          "#de77ae"
                        ],
                        [
                          0.3,
                          "#f1b6da"
                        ],
                        [
                          0.4,
                          "#fde0ef"
                        ],
                        [
                          0.5,
                          "#f7f7f7"
                        ],
                        [
                          0.6,
                          "#e6f5d0"
                        ],
                        [
                          0.7,
                          "#b8e186"
                        ],
                        [
                          0.8,
                          "#7fbc41"
                        ],
                        [
                          0.9,
                          "#4d9221"
                        ],
                        [
                          1,
                          "#276419"
                        ]
                      ],
                      "sequential": [
                        [
                          0,
                          "#0d0887"
                        ],
                        [
                          0.1111111111111111,
                          "#46039f"
                        ],
                        [
                          0.2222222222222222,
                          "#7201a8"
                        ],
                        [
                          0.3333333333333333,
                          "#9c179e"
                        ],
                        [
                          0.4444444444444444,
                          "#bd3786"
                        ],
                        [
                          0.5555555555555556,
                          "#d8576b"
                        ],
                        [
                          0.6666666666666666,
                          "#ed7953"
                        ],
                        [
                          0.7777777777777778,
                          "#fb9f3a"
                        ],
                        [
                          0.8888888888888888,
                          "#fdca26"
                        ],
                        [
                          1,
                          "#f0f921"
                        ]
                      ],
                      "sequentialminus": [
                        [
                          0,
                          "#0d0887"
                        ],
                        [
                          0.1111111111111111,
                          "#46039f"
                        ],
                        [
                          0.2222222222222222,
                          "#7201a8"
                        ],
                        [
                          0.3333333333333333,
                          "#9c179e"
                        ],
                        [
                          0.4444444444444444,
                          "#bd3786"
                        ],
                        [
                          0.5555555555555556,
                          "#d8576b"
                        ],
                        [
                          0.6666666666666666,
                          "#ed7953"
                        ],
                        [
                          0.7777777777777778,
                          "#fb9f3a"
                        ],
                        [
                          0.8888888888888888,
                          "#fdca26"
                        ],
                        [
                          1,
                          "#f0f921"
                        ]
                      ]
                    },
                    "colorway": [
                      "#636efa",
                      "#EF553B",
                      "#00cc96",
                      "#ab63fa",
                      "#FFA15A",
                      "#19d3f3",
                      "#FF6692",
                      "#B6E880",
                      "#FF97FF",
                      "#FECB52"
                    ],
                    "font": {
                      "color": "#2a3f5f"
                    },
                    "geo": {
                      "bgcolor": "white",
                      "lakecolor": "white",
                      "landcolor": "#E5ECF6",
                      "showlakes": true,
                      "showland": true,
                      "subunitcolor": "white"
                    },
                    "hoverlabel": {
                      "align": "left"
                    },
                    "hovermode": "closest",
                    "mapbox": {
                      "style": "light"
                    },
                    "paper_bgcolor": "white",
                    "plot_bgcolor": "#E5ECF6",
                    "polar": {
                      "angularaxis": {
                        "gridcolor": "white",
                        "linecolor": "white",
                        "ticks": ""
                      },
                      "bgcolor": "#E5ECF6",
                      "radialaxis": {
                        "gridcolor": "white",
                        "linecolor": "white",
                        "ticks": ""
                      }
                    },
                    "scene": {
                      "xaxis": {
                        "backgroundcolor": "#E5ECF6",
                        "gridcolor": "white",
                        "gridwidth": 2,
                        "linecolor": "white",
                        "showbackground": true,
                        "ticks": "",
                        "zerolinecolor": "white"
                      },
                      "yaxis": {
                        "backgroundcolor": "#E5ECF6",
                        "gridcolor": "white",
                        "gridwidth": 2,
                        "linecolor": "white",
                        "showbackground": true,
                        "ticks": "",
                        "zerolinecolor": "white"
                      },
                      "zaxis": {
                        "backgroundcolor": "#E5ECF6",
                        "gridcolor": "white",
                        "gridwidth": 2,
                        "linecolor": "white",
                        "showbackground": true,
                        "ticks": "",
                        "zerolinecolor": "white"
                      }
                    },
                    "shapedefaults": {
                      "line": {
                        "color": "#2a3f5f"
                      }
                    },
                    "ternary": {
                      "aaxis": {
                        "gridcolor": "white",
                        "linecolor": "white",
                        "ticks": ""
                      },
                      "baxis": {
                        "gridcolor": "white",
                        "linecolor": "white",
                        "ticks": ""
                      },
                      "bgcolor": "#E5ECF6",
                      "caxis": {
                        "gridcolor": "white",
                        "linecolor": "white",
                        "ticks": ""
                      }
                    },
                    "title": {
                      "x": 0.05
                    },
                    "xaxis": {
                      "automargin": true,
                      "gridcolor": "white",
                      "linecolor": "white",
                      "ticks": "",
                      "title": {
                        "standoff": 15
                      },
                      "zerolinecolor": "white",
                      "zerolinewidth": 2
                    },
                    "yaxis": {
                      "automargin": true,
                      "gridcolor": "white",
                      "linecolor": "white",
                      "ticks": "",
                      "title": {
                        "standoff": 15
                      },
                      "zerolinecolor": "white",
                      "zerolinewidth": 2
                    }
                  }
                },
                "title": {
                  "text": "raza_etnia vs género"
                },
                "violinmode": "overlay",
                "xaxis": {
                  "anchor": "y",
                  "domain": [
                    0,
                    1
                  ],
                  "title": {
                    "text": "género"
                  }
                },
                "yaxis": {
                  "anchor": "x",
                  "categoryarray": [
                    "group E",
                    "group D",
                    "group A",
                    "group C",
                    "group B"
                  ],
                  "categoryorder": "array",
                  "domain": [
                    0,
                    1
                  ],
                  "title": {
                    "text": "raza_etnia"
                  }
                }
              }
            }
          },
          "metadata": {},
          "output_type": "display_data"
        }
      ],
      "source": [
        "fig = px.violin(df, x='género', y='raza_etnia', color='raza_etnia', title='raza_etnia vs género' )\n",
        "fig.show()"
      ]
    },
    {
      "cell_type": "code",
      "execution_count": 24,
      "metadata": {
        "colab": {
          "base_uri": "https://localhost:8080/",
          "height": 542
        },
        "id": "On9ZzH-Q5l-o",
        "outputId": "851bc3ae-8770-46c3-ea83-e0058d60ea37"
      },
      "outputs": [
        {
          "data": {
            "application/vnd.plotly.v1+json": {
              "config": {
                "plotlyServerURL": "https://plot.ly"
              },
              "data": [
                {
                  "alignmentgroup": "True",
                  "hovertemplate": "color=algún curso universitario<br>value=%{x}<br>nivel_educativo_parental=%{y}<extra></extra>",
                  "legendgroup": "algún curso universitario",
                  "marker": {
                    "color": "#636efa",
                    "pattern": {
                      "shape": ""
                    }
                  },
                  "name": "algún curso universitario",
                  "offsetgroup": "algún curso universitario",
                  "orientation": "h",
                  "showlegend": true,
                  "textposition": "auto",
                  "type": "bar",
                  "x": [
                    226
                  ],
                  "xaxis": "x",
                  "y": [
                    "algún curso universitario"
                  ],
                  "yaxis": "y"
                },
                {
                  "alignmentgroup": "True",
                  "hovertemplate": "color=licenciatura<br>value=%{x}<br>nivel_educativo_parental=%{y}<extra></extra>",
                  "legendgroup": "licenciatura",
                  "marker": {
                    "color": "#EF553B",
                    "pattern": {
                      "shape": ""
                    }
                  },
                  "name": "licenciatura",
                  "offsetgroup": "licenciatura",
                  "orientation": "h",
                  "showlegend": true,
                  "textposition": "auto",
                  "type": "bar",
                  "x": [
                    118
                  ],
                  "xaxis": "x",
                  "y": [
                    "licenciatura"
                  ],
                  "yaxis": "y"
                },
                {
                  "alignmentgroup": "True",
                  "hovertemplate": "color=maestría<br>value=%{x}<br>nivel_educativo_parental=%{y}<extra></extra>",
                  "legendgroup": "maestría",
                  "marker": {
                    "color": "#00cc96",
                    "pattern": {
                      "shape": ""
                    }
                  },
                  "name": "maestría",
                  "offsetgroup": "maestría",
                  "orientation": "h",
                  "showlegend": true,
                  "textposition": "auto",
                  "type": "bar",
                  "x": [
                    59
                  ],
                  "xaxis": "x",
                  "y": [
                    "maestría"
                  ],
                  "yaxis": "y"
                },
                {
                  "alignmentgroup": "True",
                  "hovertemplate": "color=secundaria<br>value=%{x}<br>nivel_educativo_parental=%{y}<extra></extra>",
                  "legendgroup": "secundaria",
                  "marker": {
                    "color": "#ab63fa",
                    "pattern": {
                      "shape": ""
                    }
                  },
                  "name": "secundaria",
                  "offsetgroup": "secundaria",
                  "orientation": "h",
                  "showlegend": true,
                  "textposition": "auto",
                  "type": "bar",
                  "x": [
                    196
                  ],
                  "xaxis": "x",
                  "y": [
                    "secundaria"
                  ],
                  "yaxis": "y"
                },
                {
                  "alignmentgroup": "True",
                  "hovertemplate": "color=secundaria incompleta<br>value=%{x}<br>nivel_educativo_parental=%{y}<extra></extra>",
                  "legendgroup": "secundaria incompleta",
                  "marker": {
                    "color": "#FFA15A",
                    "pattern": {
                      "shape": ""
                    }
                  },
                  "name": "secundaria incompleta",
                  "offsetgroup": "secundaria incompleta",
                  "orientation": "h",
                  "showlegend": true,
                  "textposition": "auto",
                  "type": "bar",
                  "x": [
                    179
                  ],
                  "xaxis": "x",
                  "y": [
                    "secundaria incompleta"
                  ],
                  "yaxis": "y"
                },
                {
                  "alignmentgroup": "True",
                  "hovertemplate": "color=título universitario de asociado<br>value=%{x}<br>nivel_educativo_parental=%{y}<extra></extra>",
                  "legendgroup": "título universitario de asociado",
                  "marker": {
                    "color": "#19d3f3",
                    "pattern": {
                      "shape": ""
                    }
                  },
                  "name": "título universitario de asociado",
                  "offsetgroup": "título universitario de asociado",
                  "orientation": "h",
                  "showlegend": true,
                  "textposition": "auto",
                  "type": "bar",
                  "x": [
                    222
                  ],
                  "xaxis": "x",
                  "y": [
                    "título universitario de asociado"
                  ],
                  "yaxis": "y"
                }
              ],
              "layout": {
                "barmode": "relative",
                "legend": {
                  "title": {
                    "text": "color"
                  },
                  "tracegroupgap": 0
                },
                "template": {
                  "data": {
                    "bar": [
                      {
                        "error_x": {
                          "color": "#2a3f5f"
                        },
                        "error_y": {
                          "color": "#2a3f5f"
                        },
                        "marker": {
                          "line": {
                            "color": "#E5ECF6",
                            "width": 0.5
                          },
                          "pattern": {
                            "fillmode": "overlay",
                            "size": 10,
                            "solidity": 0.2
                          }
                        },
                        "type": "bar"
                      }
                    ],
                    "barpolar": [
                      {
                        "marker": {
                          "line": {
                            "color": "#E5ECF6",
                            "width": 0.5
                          },
                          "pattern": {
                            "fillmode": "overlay",
                            "size": 10,
                            "solidity": 0.2
                          }
                        },
                        "type": "barpolar"
                      }
                    ],
                    "carpet": [
                      {
                        "aaxis": {
                          "endlinecolor": "#2a3f5f",
                          "gridcolor": "white",
                          "linecolor": "white",
                          "minorgridcolor": "white",
                          "startlinecolor": "#2a3f5f"
                        },
                        "baxis": {
                          "endlinecolor": "#2a3f5f",
                          "gridcolor": "white",
                          "linecolor": "white",
                          "minorgridcolor": "white",
                          "startlinecolor": "#2a3f5f"
                        },
                        "type": "carpet"
                      }
                    ],
                    "choropleth": [
                      {
                        "colorbar": {
                          "outlinewidth": 0,
                          "ticks": ""
                        },
                        "type": "choropleth"
                      }
                    ],
                    "contour": [
                      {
                        "colorbar": {
                          "outlinewidth": 0,
                          "ticks": ""
                        },
                        "colorscale": [
                          [
                            0,
                            "#0d0887"
                          ],
                          [
                            0.1111111111111111,
                            "#46039f"
                          ],
                          [
                            0.2222222222222222,
                            "#7201a8"
                          ],
                          [
                            0.3333333333333333,
                            "#9c179e"
                          ],
                          [
                            0.4444444444444444,
                            "#bd3786"
                          ],
                          [
                            0.5555555555555556,
                            "#d8576b"
                          ],
                          [
                            0.6666666666666666,
                            "#ed7953"
                          ],
                          [
                            0.7777777777777778,
                            "#fb9f3a"
                          ],
                          [
                            0.8888888888888888,
                            "#fdca26"
                          ],
                          [
                            1,
                            "#f0f921"
                          ]
                        ],
                        "type": "contour"
                      }
                    ],
                    "contourcarpet": [
                      {
                        "colorbar": {
                          "outlinewidth": 0,
                          "ticks": ""
                        },
                        "type": "contourcarpet"
                      }
                    ],
                    "heatmap": [
                      {
                        "colorbar": {
                          "outlinewidth": 0,
                          "ticks": ""
                        },
                        "colorscale": [
                          [
                            0,
                            "#0d0887"
                          ],
                          [
                            0.1111111111111111,
                            "#46039f"
                          ],
                          [
                            0.2222222222222222,
                            "#7201a8"
                          ],
                          [
                            0.3333333333333333,
                            "#9c179e"
                          ],
                          [
                            0.4444444444444444,
                            "#bd3786"
                          ],
                          [
                            0.5555555555555556,
                            "#d8576b"
                          ],
                          [
                            0.6666666666666666,
                            "#ed7953"
                          ],
                          [
                            0.7777777777777778,
                            "#fb9f3a"
                          ],
                          [
                            0.8888888888888888,
                            "#fdca26"
                          ],
                          [
                            1,
                            "#f0f921"
                          ]
                        ],
                        "type": "heatmap"
                      }
                    ],
                    "heatmapgl": [
                      {
                        "colorbar": {
                          "outlinewidth": 0,
                          "ticks": ""
                        },
                        "colorscale": [
                          [
                            0,
                            "#0d0887"
                          ],
                          [
                            0.1111111111111111,
                            "#46039f"
                          ],
                          [
                            0.2222222222222222,
                            "#7201a8"
                          ],
                          [
                            0.3333333333333333,
                            "#9c179e"
                          ],
                          [
                            0.4444444444444444,
                            "#bd3786"
                          ],
                          [
                            0.5555555555555556,
                            "#d8576b"
                          ],
                          [
                            0.6666666666666666,
                            "#ed7953"
                          ],
                          [
                            0.7777777777777778,
                            "#fb9f3a"
                          ],
                          [
                            0.8888888888888888,
                            "#fdca26"
                          ],
                          [
                            1,
                            "#f0f921"
                          ]
                        ],
                        "type": "heatmapgl"
                      }
                    ],
                    "histogram": [
                      {
                        "marker": {
                          "pattern": {
                            "fillmode": "overlay",
                            "size": 10,
                            "solidity": 0.2
                          }
                        },
                        "type": "histogram"
                      }
                    ],
                    "histogram2d": [
                      {
                        "colorbar": {
                          "outlinewidth": 0,
                          "ticks": ""
                        },
                        "colorscale": [
                          [
                            0,
                            "#0d0887"
                          ],
                          [
                            0.1111111111111111,
                            "#46039f"
                          ],
                          [
                            0.2222222222222222,
                            "#7201a8"
                          ],
                          [
                            0.3333333333333333,
                            "#9c179e"
                          ],
                          [
                            0.4444444444444444,
                            "#bd3786"
                          ],
                          [
                            0.5555555555555556,
                            "#d8576b"
                          ],
                          [
                            0.6666666666666666,
                            "#ed7953"
                          ],
                          [
                            0.7777777777777778,
                            "#fb9f3a"
                          ],
                          [
                            0.8888888888888888,
                            "#fdca26"
                          ],
                          [
                            1,
                            "#f0f921"
                          ]
                        ],
                        "type": "histogram2d"
                      }
                    ],
                    "histogram2dcontour": [
                      {
                        "colorbar": {
                          "outlinewidth": 0,
                          "ticks": ""
                        },
                        "colorscale": [
                          [
                            0,
                            "#0d0887"
                          ],
                          [
                            0.1111111111111111,
                            "#46039f"
                          ],
                          [
                            0.2222222222222222,
                            "#7201a8"
                          ],
                          [
                            0.3333333333333333,
                            "#9c179e"
                          ],
                          [
                            0.4444444444444444,
                            "#bd3786"
                          ],
                          [
                            0.5555555555555556,
                            "#d8576b"
                          ],
                          [
                            0.6666666666666666,
                            "#ed7953"
                          ],
                          [
                            0.7777777777777778,
                            "#fb9f3a"
                          ],
                          [
                            0.8888888888888888,
                            "#fdca26"
                          ],
                          [
                            1,
                            "#f0f921"
                          ]
                        ],
                        "type": "histogram2dcontour"
                      }
                    ],
                    "mesh3d": [
                      {
                        "colorbar": {
                          "outlinewidth": 0,
                          "ticks": ""
                        },
                        "type": "mesh3d"
                      }
                    ],
                    "parcoords": [
                      {
                        "line": {
                          "colorbar": {
                            "outlinewidth": 0,
                            "ticks": ""
                          }
                        },
                        "type": "parcoords"
                      }
                    ],
                    "pie": [
                      {
                        "automargin": true,
                        "type": "pie"
                      }
                    ],
                    "scatter": [
                      {
                        "fillpattern": {
                          "fillmode": "overlay",
                          "size": 10,
                          "solidity": 0.2
                        },
                        "type": "scatter"
                      }
                    ],
                    "scatter3d": [
                      {
                        "line": {
                          "colorbar": {
                            "outlinewidth": 0,
                            "ticks": ""
                          }
                        },
                        "marker": {
                          "colorbar": {
                            "outlinewidth": 0,
                            "ticks": ""
                          }
                        },
                        "type": "scatter3d"
                      }
                    ],
                    "scattercarpet": [
                      {
                        "marker": {
                          "colorbar": {
                            "outlinewidth": 0,
                            "ticks": ""
                          }
                        },
                        "type": "scattercarpet"
                      }
                    ],
                    "scattergeo": [
                      {
                        "marker": {
                          "colorbar": {
                            "outlinewidth": 0,
                            "ticks": ""
                          }
                        },
                        "type": "scattergeo"
                      }
                    ],
                    "scattergl": [
                      {
                        "marker": {
                          "colorbar": {
                            "outlinewidth": 0,
                            "ticks": ""
                          }
                        },
                        "type": "scattergl"
                      }
                    ],
                    "scattermapbox": [
                      {
                        "marker": {
                          "colorbar": {
                            "outlinewidth": 0,
                            "ticks": ""
                          }
                        },
                        "type": "scattermapbox"
                      }
                    ],
                    "scatterpolar": [
                      {
                        "marker": {
                          "colorbar": {
                            "outlinewidth": 0,
                            "ticks": ""
                          }
                        },
                        "type": "scatterpolar"
                      }
                    ],
                    "scatterpolargl": [
                      {
                        "marker": {
                          "colorbar": {
                            "outlinewidth": 0,
                            "ticks": ""
                          }
                        },
                        "type": "scatterpolargl"
                      }
                    ],
                    "scatterternary": [
                      {
                        "marker": {
                          "colorbar": {
                            "outlinewidth": 0,
                            "ticks": ""
                          }
                        },
                        "type": "scatterternary"
                      }
                    ],
                    "surface": [
                      {
                        "colorbar": {
                          "outlinewidth": 0,
                          "ticks": ""
                        },
                        "colorscale": [
                          [
                            0,
                            "#0d0887"
                          ],
                          [
                            0.1111111111111111,
                            "#46039f"
                          ],
                          [
                            0.2222222222222222,
                            "#7201a8"
                          ],
                          [
                            0.3333333333333333,
                            "#9c179e"
                          ],
                          [
                            0.4444444444444444,
                            "#bd3786"
                          ],
                          [
                            0.5555555555555556,
                            "#d8576b"
                          ],
                          [
                            0.6666666666666666,
                            "#ed7953"
                          ],
                          [
                            0.7777777777777778,
                            "#fb9f3a"
                          ],
                          [
                            0.8888888888888888,
                            "#fdca26"
                          ],
                          [
                            1,
                            "#f0f921"
                          ]
                        ],
                        "type": "surface"
                      }
                    ],
                    "table": [
                      {
                        "cells": {
                          "fill": {
                            "color": "#EBF0F8"
                          },
                          "line": {
                            "color": "white"
                          }
                        },
                        "header": {
                          "fill": {
                            "color": "#C8D4E3"
                          },
                          "line": {
                            "color": "white"
                          }
                        },
                        "type": "table"
                      }
                    ]
                  },
                  "layout": {
                    "annotationdefaults": {
                      "arrowcolor": "#2a3f5f",
                      "arrowhead": 0,
                      "arrowwidth": 1
                    },
                    "autotypenumbers": "strict",
                    "coloraxis": {
                      "colorbar": {
                        "outlinewidth": 0,
                        "ticks": ""
                      }
                    },
                    "colorscale": {
                      "diverging": [
                        [
                          0,
                          "#8e0152"
                        ],
                        [
                          0.1,
                          "#c51b7d"
                        ],
                        [
                          0.2,
                          "#de77ae"
                        ],
                        [
                          0.3,
                          "#f1b6da"
                        ],
                        [
                          0.4,
                          "#fde0ef"
                        ],
                        [
                          0.5,
                          "#f7f7f7"
                        ],
                        [
                          0.6,
                          "#e6f5d0"
                        ],
                        [
                          0.7,
                          "#b8e186"
                        ],
                        [
                          0.8,
                          "#7fbc41"
                        ],
                        [
                          0.9,
                          "#4d9221"
                        ],
                        [
                          1,
                          "#276419"
                        ]
                      ],
                      "sequential": [
                        [
                          0,
                          "#0d0887"
                        ],
                        [
                          0.1111111111111111,
                          "#46039f"
                        ],
                        [
                          0.2222222222222222,
                          "#7201a8"
                        ],
                        [
                          0.3333333333333333,
                          "#9c179e"
                        ],
                        [
                          0.4444444444444444,
                          "#bd3786"
                        ],
                        [
                          0.5555555555555556,
                          "#d8576b"
                        ],
                        [
                          0.6666666666666666,
                          "#ed7953"
                        ],
                        [
                          0.7777777777777778,
                          "#fb9f3a"
                        ],
                        [
                          0.8888888888888888,
                          "#fdca26"
                        ],
                        [
                          1,
                          "#f0f921"
                        ]
                      ],
                      "sequentialminus": [
                        [
                          0,
                          "#0d0887"
                        ],
                        [
                          0.1111111111111111,
                          "#46039f"
                        ],
                        [
                          0.2222222222222222,
                          "#7201a8"
                        ],
                        [
                          0.3333333333333333,
                          "#9c179e"
                        ],
                        [
                          0.4444444444444444,
                          "#bd3786"
                        ],
                        [
                          0.5555555555555556,
                          "#d8576b"
                        ],
                        [
                          0.6666666666666666,
                          "#ed7953"
                        ],
                        [
                          0.7777777777777778,
                          "#fb9f3a"
                        ],
                        [
                          0.8888888888888888,
                          "#fdca26"
                        ],
                        [
                          1,
                          "#f0f921"
                        ]
                      ]
                    },
                    "colorway": [
                      "#636efa",
                      "#EF553B",
                      "#00cc96",
                      "#ab63fa",
                      "#FFA15A",
                      "#19d3f3",
                      "#FF6692",
                      "#B6E880",
                      "#FF97FF",
                      "#FECB52"
                    ],
                    "font": {
                      "color": "#2a3f5f"
                    },
                    "geo": {
                      "bgcolor": "white",
                      "lakecolor": "white",
                      "landcolor": "#E5ECF6",
                      "showlakes": true,
                      "showland": true,
                      "subunitcolor": "white"
                    },
                    "hoverlabel": {
                      "align": "left"
                    },
                    "hovermode": "closest",
                    "mapbox": {
                      "style": "light"
                    },
                    "paper_bgcolor": "white",
                    "plot_bgcolor": "#E5ECF6",
                    "polar": {
                      "angularaxis": {
                        "gridcolor": "white",
                        "linecolor": "white",
                        "ticks": ""
                      },
                      "bgcolor": "#E5ECF6",
                      "radialaxis": {
                        "gridcolor": "white",
                        "linecolor": "white",
                        "ticks": ""
                      }
                    },
                    "scene": {
                      "xaxis": {
                        "backgroundcolor": "#E5ECF6",
                        "gridcolor": "white",
                        "gridwidth": 2,
                        "linecolor": "white",
                        "showbackground": true,
                        "ticks": "",
                        "zerolinecolor": "white"
                      },
                      "yaxis": {
                        "backgroundcolor": "#E5ECF6",
                        "gridcolor": "white",
                        "gridwidth": 2,
                        "linecolor": "white",
                        "showbackground": true,
                        "ticks": "",
                        "zerolinecolor": "white"
                      },
                      "zaxis": {
                        "backgroundcolor": "#E5ECF6",
                        "gridcolor": "white",
                        "gridwidth": 2,
                        "linecolor": "white",
                        "showbackground": true,
                        "ticks": "",
                        "zerolinecolor": "white"
                      }
                    },
                    "shapedefaults": {
                      "line": {
                        "color": "#2a3f5f"
                      }
                    },
                    "ternary": {
                      "aaxis": {
                        "gridcolor": "white",
                        "linecolor": "white",
                        "ticks": ""
                      },
                      "baxis": {
                        "gridcolor": "white",
                        "linecolor": "white",
                        "ticks": ""
                      },
                      "bgcolor": "#E5ECF6",
                      "caxis": {
                        "gridcolor": "white",
                        "linecolor": "white",
                        "ticks": ""
                      }
                    },
                    "title": {
                      "x": 0.05
                    },
                    "xaxis": {
                      "automargin": true,
                      "gridcolor": "white",
                      "linecolor": "white",
                      "ticks": "",
                      "title": {
                        "standoff": 15
                      },
                      "zerolinecolor": "white",
                      "zerolinewidth": 2
                    },
                    "yaxis": {
                      "automargin": true,
                      "gridcolor": "white",
                      "linecolor": "white",
                      "ticks": "",
                      "title": {
                        "standoff": 15
                      },
                      "zerolinecolor": "white",
                      "zerolinewidth": 2
                    }
                  }
                },
                "title": {
                  "text": "Distribución por Nivel Educativo del Padre"
                },
                "xaxis": {
                  "anchor": "y",
                  "domain": [
                    0,
                    1
                  ],
                  "title": {
                    "text": "value"
                  }
                },
                "yaxis": {
                  "anchor": "x",
                  "domain": [
                    0,
                    1
                  ],
                  "title": {
                    "text": "nivel_educativo_parental"
                  }
                }
              }
            }
          },
          "metadata": {},
          "output_type": "display_data"
        }
      ],
      "source": [
        "fig = px.bar(df.groupby('nivel_educativo_parental').size(),  title='Distribución por Nivel Educativo del Padre', color= df.groupby('nivel_educativo_parental').size().index, orientation='h')\n",
        "fig.show()"
      ]
    },
    {
      "cell_type": "code",
      "execution_count": 25,
      "metadata": {
        "colab": {
          "base_uri": "https://localhost:8080/",
          "height": 542
        },
        "id": "KF6HMEMd3HRX",
        "outputId": "d1422330-ee76-4796-c21f-d8df4cc97ab6"
      },
      "outputs": [
        {
          "data": {
            "application/vnd.plotly.v1+json": {
              "config": {
                "plotlyServerURL": "https://plot.ly"
              },
              "data": [
                {
                  "alignmentgroup": "True",
                  "hovertemplate": "color=group A<br>value=%{x}<br>raza_etnia=%{y}<extra></extra>",
                  "legendgroup": "group A",
                  "marker": {
                    "color": "#636efa",
                    "pattern": {
                      "shape": ""
                    }
                  },
                  "name": "group A",
                  "offsetgroup": "group A",
                  "orientation": "h",
                  "showlegend": true,
                  "textposition": "auto",
                  "type": "bar",
                  "x": [
                    89
                  ],
                  "xaxis": "x",
                  "y": [
                    "group A"
                  ],
                  "yaxis": "y"
                },
                {
                  "alignmentgroup": "True",
                  "hovertemplate": "color=group B<br>value=%{x}<br>raza_etnia=%{y}<extra></extra>",
                  "legendgroup": "group B",
                  "marker": {
                    "color": "#EF553B",
                    "pattern": {
                      "shape": ""
                    }
                  },
                  "name": "group B",
                  "offsetgroup": "group B",
                  "orientation": "h",
                  "showlegend": true,
                  "textposition": "auto",
                  "type": "bar",
                  "x": [
                    190
                  ],
                  "xaxis": "x",
                  "y": [
                    "group B"
                  ],
                  "yaxis": "y"
                },
                {
                  "alignmentgroup": "True",
                  "hovertemplate": "color=group C<br>value=%{x}<br>raza_etnia=%{y}<extra></extra>",
                  "legendgroup": "group C",
                  "marker": {
                    "color": "#00cc96",
                    "pattern": {
                      "shape": ""
                    }
                  },
                  "name": "group C",
                  "offsetgroup": "group C",
                  "orientation": "h",
                  "showlegend": true,
                  "textposition": "auto",
                  "type": "bar",
                  "x": [
                    319
                  ],
                  "xaxis": "x",
                  "y": [
                    "group C"
                  ],
                  "yaxis": "y"
                },
                {
                  "alignmentgroup": "True",
                  "hovertemplate": "color=group D<br>value=%{x}<br>raza_etnia=%{y}<extra></extra>",
                  "legendgroup": "group D",
                  "marker": {
                    "color": "#ab63fa",
                    "pattern": {
                      "shape": ""
                    }
                  },
                  "name": "group D",
                  "offsetgroup": "group D",
                  "orientation": "h",
                  "showlegend": true,
                  "textposition": "auto",
                  "type": "bar",
                  "x": [
                    262
                  ],
                  "xaxis": "x",
                  "y": [
                    "group D"
                  ],
                  "yaxis": "y"
                },
                {
                  "alignmentgroup": "True",
                  "hovertemplate": "color=group E<br>value=%{x}<br>raza_etnia=%{y}<extra></extra>",
                  "legendgroup": "group E",
                  "marker": {
                    "color": "#FFA15A",
                    "pattern": {
                      "shape": ""
                    }
                  },
                  "name": "group E",
                  "offsetgroup": "group E",
                  "orientation": "h",
                  "showlegend": true,
                  "textposition": "auto",
                  "type": "bar",
                  "x": [
                    140
                  ],
                  "xaxis": "x",
                  "y": [
                    "group E"
                  ],
                  "yaxis": "y"
                }
              ],
              "layout": {
                "barmode": "relative",
                "legend": {
                  "title": {
                    "text": "color"
                  },
                  "tracegroupgap": 0
                },
                "template": {
                  "data": {
                    "bar": [
                      {
                        "error_x": {
                          "color": "#2a3f5f"
                        },
                        "error_y": {
                          "color": "#2a3f5f"
                        },
                        "marker": {
                          "line": {
                            "color": "#E5ECF6",
                            "width": 0.5
                          },
                          "pattern": {
                            "fillmode": "overlay",
                            "size": 10,
                            "solidity": 0.2
                          }
                        },
                        "type": "bar"
                      }
                    ],
                    "barpolar": [
                      {
                        "marker": {
                          "line": {
                            "color": "#E5ECF6",
                            "width": 0.5
                          },
                          "pattern": {
                            "fillmode": "overlay",
                            "size": 10,
                            "solidity": 0.2
                          }
                        },
                        "type": "barpolar"
                      }
                    ],
                    "carpet": [
                      {
                        "aaxis": {
                          "endlinecolor": "#2a3f5f",
                          "gridcolor": "white",
                          "linecolor": "white",
                          "minorgridcolor": "white",
                          "startlinecolor": "#2a3f5f"
                        },
                        "baxis": {
                          "endlinecolor": "#2a3f5f",
                          "gridcolor": "white",
                          "linecolor": "white",
                          "minorgridcolor": "white",
                          "startlinecolor": "#2a3f5f"
                        },
                        "type": "carpet"
                      }
                    ],
                    "choropleth": [
                      {
                        "colorbar": {
                          "outlinewidth": 0,
                          "ticks": ""
                        },
                        "type": "choropleth"
                      }
                    ],
                    "contour": [
                      {
                        "colorbar": {
                          "outlinewidth": 0,
                          "ticks": ""
                        },
                        "colorscale": [
                          [
                            0,
                            "#0d0887"
                          ],
                          [
                            0.1111111111111111,
                            "#46039f"
                          ],
                          [
                            0.2222222222222222,
                            "#7201a8"
                          ],
                          [
                            0.3333333333333333,
                            "#9c179e"
                          ],
                          [
                            0.4444444444444444,
                            "#bd3786"
                          ],
                          [
                            0.5555555555555556,
                            "#d8576b"
                          ],
                          [
                            0.6666666666666666,
                            "#ed7953"
                          ],
                          [
                            0.7777777777777778,
                            "#fb9f3a"
                          ],
                          [
                            0.8888888888888888,
                            "#fdca26"
                          ],
                          [
                            1,
                            "#f0f921"
                          ]
                        ],
                        "type": "contour"
                      }
                    ],
                    "contourcarpet": [
                      {
                        "colorbar": {
                          "outlinewidth": 0,
                          "ticks": ""
                        },
                        "type": "contourcarpet"
                      }
                    ],
                    "heatmap": [
                      {
                        "colorbar": {
                          "outlinewidth": 0,
                          "ticks": ""
                        },
                        "colorscale": [
                          [
                            0,
                            "#0d0887"
                          ],
                          [
                            0.1111111111111111,
                            "#46039f"
                          ],
                          [
                            0.2222222222222222,
                            "#7201a8"
                          ],
                          [
                            0.3333333333333333,
                            "#9c179e"
                          ],
                          [
                            0.4444444444444444,
                            "#bd3786"
                          ],
                          [
                            0.5555555555555556,
                            "#d8576b"
                          ],
                          [
                            0.6666666666666666,
                            "#ed7953"
                          ],
                          [
                            0.7777777777777778,
                            "#fb9f3a"
                          ],
                          [
                            0.8888888888888888,
                            "#fdca26"
                          ],
                          [
                            1,
                            "#f0f921"
                          ]
                        ],
                        "type": "heatmap"
                      }
                    ],
                    "heatmapgl": [
                      {
                        "colorbar": {
                          "outlinewidth": 0,
                          "ticks": ""
                        },
                        "colorscale": [
                          [
                            0,
                            "#0d0887"
                          ],
                          [
                            0.1111111111111111,
                            "#46039f"
                          ],
                          [
                            0.2222222222222222,
                            "#7201a8"
                          ],
                          [
                            0.3333333333333333,
                            "#9c179e"
                          ],
                          [
                            0.4444444444444444,
                            "#bd3786"
                          ],
                          [
                            0.5555555555555556,
                            "#d8576b"
                          ],
                          [
                            0.6666666666666666,
                            "#ed7953"
                          ],
                          [
                            0.7777777777777778,
                            "#fb9f3a"
                          ],
                          [
                            0.8888888888888888,
                            "#fdca26"
                          ],
                          [
                            1,
                            "#f0f921"
                          ]
                        ],
                        "type": "heatmapgl"
                      }
                    ],
                    "histogram": [
                      {
                        "marker": {
                          "pattern": {
                            "fillmode": "overlay",
                            "size": 10,
                            "solidity": 0.2
                          }
                        },
                        "type": "histogram"
                      }
                    ],
                    "histogram2d": [
                      {
                        "colorbar": {
                          "outlinewidth": 0,
                          "ticks": ""
                        },
                        "colorscale": [
                          [
                            0,
                            "#0d0887"
                          ],
                          [
                            0.1111111111111111,
                            "#46039f"
                          ],
                          [
                            0.2222222222222222,
                            "#7201a8"
                          ],
                          [
                            0.3333333333333333,
                            "#9c179e"
                          ],
                          [
                            0.4444444444444444,
                            "#bd3786"
                          ],
                          [
                            0.5555555555555556,
                            "#d8576b"
                          ],
                          [
                            0.6666666666666666,
                            "#ed7953"
                          ],
                          [
                            0.7777777777777778,
                            "#fb9f3a"
                          ],
                          [
                            0.8888888888888888,
                            "#fdca26"
                          ],
                          [
                            1,
                            "#f0f921"
                          ]
                        ],
                        "type": "histogram2d"
                      }
                    ],
                    "histogram2dcontour": [
                      {
                        "colorbar": {
                          "outlinewidth": 0,
                          "ticks": ""
                        },
                        "colorscale": [
                          [
                            0,
                            "#0d0887"
                          ],
                          [
                            0.1111111111111111,
                            "#46039f"
                          ],
                          [
                            0.2222222222222222,
                            "#7201a8"
                          ],
                          [
                            0.3333333333333333,
                            "#9c179e"
                          ],
                          [
                            0.4444444444444444,
                            "#bd3786"
                          ],
                          [
                            0.5555555555555556,
                            "#d8576b"
                          ],
                          [
                            0.6666666666666666,
                            "#ed7953"
                          ],
                          [
                            0.7777777777777778,
                            "#fb9f3a"
                          ],
                          [
                            0.8888888888888888,
                            "#fdca26"
                          ],
                          [
                            1,
                            "#f0f921"
                          ]
                        ],
                        "type": "histogram2dcontour"
                      }
                    ],
                    "mesh3d": [
                      {
                        "colorbar": {
                          "outlinewidth": 0,
                          "ticks": ""
                        },
                        "type": "mesh3d"
                      }
                    ],
                    "parcoords": [
                      {
                        "line": {
                          "colorbar": {
                            "outlinewidth": 0,
                            "ticks": ""
                          }
                        },
                        "type": "parcoords"
                      }
                    ],
                    "pie": [
                      {
                        "automargin": true,
                        "type": "pie"
                      }
                    ],
                    "scatter": [
                      {
                        "fillpattern": {
                          "fillmode": "overlay",
                          "size": 10,
                          "solidity": 0.2
                        },
                        "type": "scatter"
                      }
                    ],
                    "scatter3d": [
                      {
                        "line": {
                          "colorbar": {
                            "outlinewidth": 0,
                            "ticks": ""
                          }
                        },
                        "marker": {
                          "colorbar": {
                            "outlinewidth": 0,
                            "ticks": ""
                          }
                        },
                        "type": "scatter3d"
                      }
                    ],
                    "scattercarpet": [
                      {
                        "marker": {
                          "colorbar": {
                            "outlinewidth": 0,
                            "ticks": ""
                          }
                        },
                        "type": "scattercarpet"
                      }
                    ],
                    "scattergeo": [
                      {
                        "marker": {
                          "colorbar": {
                            "outlinewidth": 0,
                            "ticks": ""
                          }
                        },
                        "type": "scattergeo"
                      }
                    ],
                    "scattergl": [
                      {
                        "marker": {
                          "colorbar": {
                            "outlinewidth": 0,
                            "ticks": ""
                          }
                        },
                        "type": "scattergl"
                      }
                    ],
                    "scattermapbox": [
                      {
                        "marker": {
                          "colorbar": {
                            "outlinewidth": 0,
                            "ticks": ""
                          }
                        },
                        "type": "scattermapbox"
                      }
                    ],
                    "scatterpolar": [
                      {
                        "marker": {
                          "colorbar": {
                            "outlinewidth": 0,
                            "ticks": ""
                          }
                        },
                        "type": "scatterpolar"
                      }
                    ],
                    "scatterpolargl": [
                      {
                        "marker": {
                          "colorbar": {
                            "outlinewidth": 0,
                            "ticks": ""
                          }
                        },
                        "type": "scatterpolargl"
                      }
                    ],
                    "scatterternary": [
                      {
                        "marker": {
                          "colorbar": {
                            "outlinewidth": 0,
                            "ticks": ""
                          }
                        },
                        "type": "scatterternary"
                      }
                    ],
                    "surface": [
                      {
                        "colorbar": {
                          "outlinewidth": 0,
                          "ticks": ""
                        },
                        "colorscale": [
                          [
                            0,
                            "#0d0887"
                          ],
                          [
                            0.1111111111111111,
                            "#46039f"
                          ],
                          [
                            0.2222222222222222,
                            "#7201a8"
                          ],
                          [
                            0.3333333333333333,
                            "#9c179e"
                          ],
                          [
                            0.4444444444444444,
                            "#bd3786"
                          ],
                          [
                            0.5555555555555556,
                            "#d8576b"
                          ],
                          [
                            0.6666666666666666,
                            "#ed7953"
                          ],
                          [
                            0.7777777777777778,
                            "#fb9f3a"
                          ],
                          [
                            0.8888888888888888,
                            "#fdca26"
                          ],
                          [
                            1,
                            "#f0f921"
                          ]
                        ],
                        "type": "surface"
                      }
                    ],
                    "table": [
                      {
                        "cells": {
                          "fill": {
                            "color": "#EBF0F8"
                          },
                          "line": {
                            "color": "white"
                          }
                        },
                        "header": {
                          "fill": {
                            "color": "#C8D4E3"
                          },
                          "line": {
                            "color": "white"
                          }
                        },
                        "type": "table"
                      }
                    ]
                  },
                  "layout": {
                    "annotationdefaults": {
                      "arrowcolor": "#2a3f5f",
                      "arrowhead": 0,
                      "arrowwidth": 1
                    },
                    "autotypenumbers": "strict",
                    "coloraxis": {
                      "colorbar": {
                        "outlinewidth": 0,
                        "ticks": ""
                      }
                    },
                    "colorscale": {
                      "diverging": [
                        [
                          0,
                          "#8e0152"
                        ],
                        [
                          0.1,
                          "#c51b7d"
                        ],
                        [
                          0.2,
                          "#de77ae"
                        ],
                        [
                          0.3,
                          "#f1b6da"
                        ],
                        [
                          0.4,
                          "#fde0ef"
                        ],
                        [
                          0.5,
                          "#f7f7f7"
                        ],
                        [
                          0.6,
                          "#e6f5d0"
                        ],
                        [
                          0.7,
                          "#b8e186"
                        ],
                        [
                          0.8,
                          "#7fbc41"
                        ],
                        [
                          0.9,
                          "#4d9221"
                        ],
                        [
                          1,
                          "#276419"
                        ]
                      ],
                      "sequential": [
                        [
                          0,
                          "#0d0887"
                        ],
                        [
                          0.1111111111111111,
                          "#46039f"
                        ],
                        [
                          0.2222222222222222,
                          "#7201a8"
                        ],
                        [
                          0.3333333333333333,
                          "#9c179e"
                        ],
                        [
                          0.4444444444444444,
                          "#bd3786"
                        ],
                        [
                          0.5555555555555556,
                          "#d8576b"
                        ],
                        [
                          0.6666666666666666,
                          "#ed7953"
                        ],
                        [
                          0.7777777777777778,
                          "#fb9f3a"
                        ],
                        [
                          0.8888888888888888,
                          "#fdca26"
                        ],
                        [
                          1,
                          "#f0f921"
                        ]
                      ],
                      "sequentialminus": [
                        [
                          0,
                          "#0d0887"
                        ],
                        [
                          0.1111111111111111,
                          "#46039f"
                        ],
                        [
                          0.2222222222222222,
                          "#7201a8"
                        ],
                        [
                          0.3333333333333333,
                          "#9c179e"
                        ],
                        [
                          0.4444444444444444,
                          "#bd3786"
                        ],
                        [
                          0.5555555555555556,
                          "#d8576b"
                        ],
                        [
                          0.6666666666666666,
                          "#ed7953"
                        ],
                        [
                          0.7777777777777778,
                          "#fb9f3a"
                        ],
                        [
                          0.8888888888888888,
                          "#fdca26"
                        ],
                        [
                          1,
                          "#f0f921"
                        ]
                      ]
                    },
                    "colorway": [
                      "#636efa",
                      "#EF553B",
                      "#00cc96",
                      "#ab63fa",
                      "#FFA15A",
                      "#19d3f3",
                      "#FF6692",
                      "#B6E880",
                      "#FF97FF",
                      "#FECB52"
                    ],
                    "font": {
                      "color": "#2a3f5f"
                    },
                    "geo": {
                      "bgcolor": "white",
                      "lakecolor": "white",
                      "landcolor": "#E5ECF6",
                      "showlakes": true,
                      "showland": true,
                      "subunitcolor": "white"
                    },
                    "hoverlabel": {
                      "align": "left"
                    },
                    "hovermode": "closest",
                    "mapbox": {
                      "style": "light"
                    },
                    "paper_bgcolor": "white",
                    "plot_bgcolor": "#E5ECF6",
                    "polar": {
                      "angularaxis": {
                        "gridcolor": "white",
                        "linecolor": "white",
                        "ticks": ""
                      },
                      "bgcolor": "#E5ECF6",
                      "radialaxis": {
                        "gridcolor": "white",
                        "linecolor": "white",
                        "ticks": ""
                      }
                    },
                    "scene": {
                      "xaxis": {
                        "backgroundcolor": "#E5ECF6",
                        "gridcolor": "white",
                        "gridwidth": 2,
                        "linecolor": "white",
                        "showbackground": true,
                        "ticks": "",
                        "zerolinecolor": "white"
                      },
                      "yaxis": {
                        "backgroundcolor": "#E5ECF6",
                        "gridcolor": "white",
                        "gridwidth": 2,
                        "linecolor": "white",
                        "showbackground": true,
                        "ticks": "",
                        "zerolinecolor": "white"
                      },
                      "zaxis": {
                        "backgroundcolor": "#E5ECF6",
                        "gridcolor": "white",
                        "gridwidth": 2,
                        "linecolor": "white",
                        "showbackground": true,
                        "ticks": "",
                        "zerolinecolor": "white"
                      }
                    },
                    "shapedefaults": {
                      "line": {
                        "color": "#2a3f5f"
                      }
                    },
                    "ternary": {
                      "aaxis": {
                        "gridcolor": "white",
                        "linecolor": "white",
                        "ticks": ""
                      },
                      "baxis": {
                        "gridcolor": "white",
                        "linecolor": "white",
                        "ticks": ""
                      },
                      "bgcolor": "#E5ECF6",
                      "caxis": {
                        "gridcolor": "white",
                        "linecolor": "white",
                        "ticks": ""
                      }
                    },
                    "title": {
                      "x": 0.05
                    },
                    "xaxis": {
                      "automargin": true,
                      "gridcolor": "white",
                      "linecolor": "white",
                      "ticks": "",
                      "title": {
                        "standoff": 15
                      },
                      "zerolinecolor": "white",
                      "zerolinewidth": 2
                    },
                    "yaxis": {
                      "automargin": true,
                      "gridcolor": "white",
                      "linecolor": "white",
                      "ticks": "",
                      "title": {
                        "standoff": 15
                      },
                      "zerolinecolor": "white",
                      "zerolinewidth": 2
                    }
                  }
                },
                "title": {
                  "text": "Distribución por Raza/Etnia"
                },
                "xaxis": {
                  "anchor": "y",
                  "domain": [
                    0,
                    1
                  ],
                  "title": {
                    "text": "value"
                  }
                },
                "yaxis": {
                  "anchor": "x",
                  "domain": [
                    0,
                    1
                  ],
                  "title": {
                    "text": "raza_etnia"
                  }
                }
              }
            }
          },
          "metadata": {},
          "output_type": "display_data"
        }
      ],
      "source": [
        "fig = px.bar(df.groupby('raza_etnia').size(),  title='Distribución por Raza/Etnia', color= df.groupby('raza_etnia').size().index, orientation='h',)\n",
        "fig.show()"
      ]
    },
    {
      "cell_type": "code",
      "execution_count": 26,
      "metadata": {
        "colab": {
          "base_uri": "https://localhost:8080/",
          "height": 542
        },
        "id": "8zljirzoZaKZ",
        "outputId": "51981620-94f3-4127-e8cb-379a0c5c0d5d"
      },
      "outputs": [
        {
          "data": {
            "application/vnd.plotly.v1+json": {
              "config": {
                "plotlyServerURL": "https://plot.ly"
              },
              "data": [
                {
                  "alignmentgroup": "True",
                  "hovertemplate": "value=%{x}<br>género=%{y}<br>color=%{marker.color}<extra></extra>",
                  "legendgroup": "",
                  "marker": {
                    "color": [
                      0,
                      1
                    ],
                    "coloraxis": "coloraxis",
                    "pattern": {
                      "shape": ""
                    }
                  },
                  "name": "",
                  "offsetgroup": "",
                  "orientation": "h",
                  "showlegend": false,
                  "textposition": "auto",
                  "type": "bar",
                  "x": [
                    518,
                    482
                  ],
                  "xaxis": "x",
                  "y": [
                    0,
                    1
                  ],
                  "yaxis": "y"
                }
              ],
              "layout": {
                "barmode": "relative",
                "coloraxis": {
                  "colorbar": {
                    "title": {
                      "text": "color"
                    }
                  },
                  "colorscale": [
                    [
                      0,
                      "#0d0887"
                    ],
                    [
                      0.1111111111111111,
                      "#46039f"
                    ],
                    [
                      0.2222222222222222,
                      "#7201a8"
                    ],
                    [
                      0.3333333333333333,
                      "#9c179e"
                    ],
                    [
                      0.4444444444444444,
                      "#bd3786"
                    ],
                    [
                      0.5555555555555556,
                      "#d8576b"
                    ],
                    [
                      0.6666666666666666,
                      "#ed7953"
                    ],
                    [
                      0.7777777777777778,
                      "#fb9f3a"
                    ],
                    [
                      0.8888888888888888,
                      "#fdca26"
                    ],
                    [
                      1,
                      "#f0f921"
                    ]
                  ]
                },
                "legend": {
                  "tracegroupgap": 0
                },
                "template": {
                  "data": {
                    "bar": [
                      {
                        "error_x": {
                          "color": "#2a3f5f"
                        },
                        "error_y": {
                          "color": "#2a3f5f"
                        },
                        "marker": {
                          "line": {
                            "color": "#E5ECF6",
                            "width": 0.5
                          },
                          "pattern": {
                            "fillmode": "overlay",
                            "size": 10,
                            "solidity": 0.2
                          }
                        },
                        "type": "bar"
                      }
                    ],
                    "barpolar": [
                      {
                        "marker": {
                          "line": {
                            "color": "#E5ECF6",
                            "width": 0.5
                          },
                          "pattern": {
                            "fillmode": "overlay",
                            "size": 10,
                            "solidity": 0.2
                          }
                        },
                        "type": "barpolar"
                      }
                    ],
                    "carpet": [
                      {
                        "aaxis": {
                          "endlinecolor": "#2a3f5f",
                          "gridcolor": "white",
                          "linecolor": "white",
                          "minorgridcolor": "white",
                          "startlinecolor": "#2a3f5f"
                        },
                        "baxis": {
                          "endlinecolor": "#2a3f5f",
                          "gridcolor": "white",
                          "linecolor": "white",
                          "minorgridcolor": "white",
                          "startlinecolor": "#2a3f5f"
                        },
                        "type": "carpet"
                      }
                    ],
                    "choropleth": [
                      {
                        "colorbar": {
                          "outlinewidth": 0,
                          "ticks": ""
                        },
                        "type": "choropleth"
                      }
                    ],
                    "contour": [
                      {
                        "colorbar": {
                          "outlinewidth": 0,
                          "ticks": ""
                        },
                        "colorscale": [
                          [
                            0,
                            "#0d0887"
                          ],
                          [
                            0.1111111111111111,
                            "#46039f"
                          ],
                          [
                            0.2222222222222222,
                            "#7201a8"
                          ],
                          [
                            0.3333333333333333,
                            "#9c179e"
                          ],
                          [
                            0.4444444444444444,
                            "#bd3786"
                          ],
                          [
                            0.5555555555555556,
                            "#d8576b"
                          ],
                          [
                            0.6666666666666666,
                            "#ed7953"
                          ],
                          [
                            0.7777777777777778,
                            "#fb9f3a"
                          ],
                          [
                            0.8888888888888888,
                            "#fdca26"
                          ],
                          [
                            1,
                            "#f0f921"
                          ]
                        ],
                        "type": "contour"
                      }
                    ],
                    "contourcarpet": [
                      {
                        "colorbar": {
                          "outlinewidth": 0,
                          "ticks": ""
                        },
                        "type": "contourcarpet"
                      }
                    ],
                    "heatmap": [
                      {
                        "colorbar": {
                          "outlinewidth": 0,
                          "ticks": ""
                        },
                        "colorscale": [
                          [
                            0,
                            "#0d0887"
                          ],
                          [
                            0.1111111111111111,
                            "#46039f"
                          ],
                          [
                            0.2222222222222222,
                            "#7201a8"
                          ],
                          [
                            0.3333333333333333,
                            "#9c179e"
                          ],
                          [
                            0.4444444444444444,
                            "#bd3786"
                          ],
                          [
                            0.5555555555555556,
                            "#d8576b"
                          ],
                          [
                            0.6666666666666666,
                            "#ed7953"
                          ],
                          [
                            0.7777777777777778,
                            "#fb9f3a"
                          ],
                          [
                            0.8888888888888888,
                            "#fdca26"
                          ],
                          [
                            1,
                            "#f0f921"
                          ]
                        ],
                        "type": "heatmap"
                      }
                    ],
                    "heatmapgl": [
                      {
                        "colorbar": {
                          "outlinewidth": 0,
                          "ticks": ""
                        },
                        "colorscale": [
                          [
                            0,
                            "#0d0887"
                          ],
                          [
                            0.1111111111111111,
                            "#46039f"
                          ],
                          [
                            0.2222222222222222,
                            "#7201a8"
                          ],
                          [
                            0.3333333333333333,
                            "#9c179e"
                          ],
                          [
                            0.4444444444444444,
                            "#bd3786"
                          ],
                          [
                            0.5555555555555556,
                            "#d8576b"
                          ],
                          [
                            0.6666666666666666,
                            "#ed7953"
                          ],
                          [
                            0.7777777777777778,
                            "#fb9f3a"
                          ],
                          [
                            0.8888888888888888,
                            "#fdca26"
                          ],
                          [
                            1,
                            "#f0f921"
                          ]
                        ],
                        "type": "heatmapgl"
                      }
                    ],
                    "histogram": [
                      {
                        "marker": {
                          "pattern": {
                            "fillmode": "overlay",
                            "size": 10,
                            "solidity": 0.2
                          }
                        },
                        "type": "histogram"
                      }
                    ],
                    "histogram2d": [
                      {
                        "colorbar": {
                          "outlinewidth": 0,
                          "ticks": ""
                        },
                        "colorscale": [
                          [
                            0,
                            "#0d0887"
                          ],
                          [
                            0.1111111111111111,
                            "#46039f"
                          ],
                          [
                            0.2222222222222222,
                            "#7201a8"
                          ],
                          [
                            0.3333333333333333,
                            "#9c179e"
                          ],
                          [
                            0.4444444444444444,
                            "#bd3786"
                          ],
                          [
                            0.5555555555555556,
                            "#d8576b"
                          ],
                          [
                            0.6666666666666666,
                            "#ed7953"
                          ],
                          [
                            0.7777777777777778,
                            "#fb9f3a"
                          ],
                          [
                            0.8888888888888888,
                            "#fdca26"
                          ],
                          [
                            1,
                            "#f0f921"
                          ]
                        ],
                        "type": "histogram2d"
                      }
                    ],
                    "histogram2dcontour": [
                      {
                        "colorbar": {
                          "outlinewidth": 0,
                          "ticks": ""
                        },
                        "colorscale": [
                          [
                            0,
                            "#0d0887"
                          ],
                          [
                            0.1111111111111111,
                            "#46039f"
                          ],
                          [
                            0.2222222222222222,
                            "#7201a8"
                          ],
                          [
                            0.3333333333333333,
                            "#9c179e"
                          ],
                          [
                            0.4444444444444444,
                            "#bd3786"
                          ],
                          [
                            0.5555555555555556,
                            "#d8576b"
                          ],
                          [
                            0.6666666666666666,
                            "#ed7953"
                          ],
                          [
                            0.7777777777777778,
                            "#fb9f3a"
                          ],
                          [
                            0.8888888888888888,
                            "#fdca26"
                          ],
                          [
                            1,
                            "#f0f921"
                          ]
                        ],
                        "type": "histogram2dcontour"
                      }
                    ],
                    "mesh3d": [
                      {
                        "colorbar": {
                          "outlinewidth": 0,
                          "ticks": ""
                        },
                        "type": "mesh3d"
                      }
                    ],
                    "parcoords": [
                      {
                        "line": {
                          "colorbar": {
                            "outlinewidth": 0,
                            "ticks": ""
                          }
                        },
                        "type": "parcoords"
                      }
                    ],
                    "pie": [
                      {
                        "automargin": true,
                        "type": "pie"
                      }
                    ],
                    "scatter": [
                      {
                        "fillpattern": {
                          "fillmode": "overlay",
                          "size": 10,
                          "solidity": 0.2
                        },
                        "type": "scatter"
                      }
                    ],
                    "scatter3d": [
                      {
                        "line": {
                          "colorbar": {
                            "outlinewidth": 0,
                            "ticks": ""
                          }
                        },
                        "marker": {
                          "colorbar": {
                            "outlinewidth": 0,
                            "ticks": ""
                          }
                        },
                        "type": "scatter3d"
                      }
                    ],
                    "scattercarpet": [
                      {
                        "marker": {
                          "colorbar": {
                            "outlinewidth": 0,
                            "ticks": ""
                          }
                        },
                        "type": "scattercarpet"
                      }
                    ],
                    "scattergeo": [
                      {
                        "marker": {
                          "colorbar": {
                            "outlinewidth": 0,
                            "ticks": ""
                          }
                        },
                        "type": "scattergeo"
                      }
                    ],
                    "scattergl": [
                      {
                        "marker": {
                          "colorbar": {
                            "outlinewidth": 0,
                            "ticks": ""
                          }
                        },
                        "type": "scattergl"
                      }
                    ],
                    "scattermapbox": [
                      {
                        "marker": {
                          "colorbar": {
                            "outlinewidth": 0,
                            "ticks": ""
                          }
                        },
                        "type": "scattermapbox"
                      }
                    ],
                    "scatterpolar": [
                      {
                        "marker": {
                          "colorbar": {
                            "outlinewidth": 0,
                            "ticks": ""
                          }
                        },
                        "type": "scatterpolar"
                      }
                    ],
                    "scatterpolargl": [
                      {
                        "marker": {
                          "colorbar": {
                            "outlinewidth": 0,
                            "ticks": ""
                          }
                        },
                        "type": "scatterpolargl"
                      }
                    ],
                    "scatterternary": [
                      {
                        "marker": {
                          "colorbar": {
                            "outlinewidth": 0,
                            "ticks": ""
                          }
                        },
                        "type": "scatterternary"
                      }
                    ],
                    "surface": [
                      {
                        "colorbar": {
                          "outlinewidth": 0,
                          "ticks": ""
                        },
                        "colorscale": [
                          [
                            0,
                            "#0d0887"
                          ],
                          [
                            0.1111111111111111,
                            "#46039f"
                          ],
                          [
                            0.2222222222222222,
                            "#7201a8"
                          ],
                          [
                            0.3333333333333333,
                            "#9c179e"
                          ],
                          [
                            0.4444444444444444,
                            "#bd3786"
                          ],
                          [
                            0.5555555555555556,
                            "#d8576b"
                          ],
                          [
                            0.6666666666666666,
                            "#ed7953"
                          ],
                          [
                            0.7777777777777778,
                            "#fb9f3a"
                          ],
                          [
                            0.8888888888888888,
                            "#fdca26"
                          ],
                          [
                            1,
                            "#f0f921"
                          ]
                        ],
                        "type": "surface"
                      }
                    ],
                    "table": [
                      {
                        "cells": {
                          "fill": {
                            "color": "#EBF0F8"
                          },
                          "line": {
                            "color": "white"
                          }
                        },
                        "header": {
                          "fill": {
                            "color": "#C8D4E3"
                          },
                          "line": {
                            "color": "white"
                          }
                        },
                        "type": "table"
                      }
                    ]
                  },
                  "layout": {
                    "annotationdefaults": {
                      "arrowcolor": "#2a3f5f",
                      "arrowhead": 0,
                      "arrowwidth": 1
                    },
                    "autotypenumbers": "strict",
                    "coloraxis": {
                      "colorbar": {
                        "outlinewidth": 0,
                        "ticks": ""
                      }
                    },
                    "colorscale": {
                      "diverging": [
                        [
                          0,
                          "#8e0152"
                        ],
                        [
                          0.1,
                          "#c51b7d"
                        ],
                        [
                          0.2,
                          "#de77ae"
                        ],
                        [
                          0.3,
                          "#f1b6da"
                        ],
                        [
                          0.4,
                          "#fde0ef"
                        ],
                        [
                          0.5,
                          "#f7f7f7"
                        ],
                        [
                          0.6,
                          "#e6f5d0"
                        ],
                        [
                          0.7,
                          "#b8e186"
                        ],
                        [
                          0.8,
                          "#7fbc41"
                        ],
                        [
                          0.9,
                          "#4d9221"
                        ],
                        [
                          1,
                          "#276419"
                        ]
                      ],
                      "sequential": [
                        [
                          0,
                          "#0d0887"
                        ],
                        [
                          0.1111111111111111,
                          "#46039f"
                        ],
                        [
                          0.2222222222222222,
                          "#7201a8"
                        ],
                        [
                          0.3333333333333333,
                          "#9c179e"
                        ],
                        [
                          0.4444444444444444,
                          "#bd3786"
                        ],
                        [
                          0.5555555555555556,
                          "#d8576b"
                        ],
                        [
                          0.6666666666666666,
                          "#ed7953"
                        ],
                        [
                          0.7777777777777778,
                          "#fb9f3a"
                        ],
                        [
                          0.8888888888888888,
                          "#fdca26"
                        ],
                        [
                          1,
                          "#f0f921"
                        ]
                      ],
                      "sequentialminus": [
                        [
                          0,
                          "#0d0887"
                        ],
                        [
                          0.1111111111111111,
                          "#46039f"
                        ],
                        [
                          0.2222222222222222,
                          "#7201a8"
                        ],
                        [
                          0.3333333333333333,
                          "#9c179e"
                        ],
                        [
                          0.4444444444444444,
                          "#bd3786"
                        ],
                        [
                          0.5555555555555556,
                          "#d8576b"
                        ],
                        [
                          0.6666666666666666,
                          "#ed7953"
                        ],
                        [
                          0.7777777777777778,
                          "#fb9f3a"
                        ],
                        [
                          0.8888888888888888,
                          "#fdca26"
                        ],
                        [
                          1,
                          "#f0f921"
                        ]
                      ]
                    },
                    "colorway": [
                      "#636efa",
                      "#EF553B",
                      "#00cc96",
                      "#ab63fa",
                      "#FFA15A",
                      "#19d3f3",
                      "#FF6692",
                      "#B6E880",
                      "#FF97FF",
                      "#FECB52"
                    ],
                    "font": {
                      "color": "#2a3f5f"
                    },
                    "geo": {
                      "bgcolor": "white",
                      "lakecolor": "white",
                      "landcolor": "#E5ECF6",
                      "showlakes": true,
                      "showland": true,
                      "subunitcolor": "white"
                    },
                    "hoverlabel": {
                      "align": "left"
                    },
                    "hovermode": "closest",
                    "mapbox": {
                      "style": "light"
                    },
                    "paper_bgcolor": "white",
                    "plot_bgcolor": "#E5ECF6",
                    "polar": {
                      "angularaxis": {
                        "gridcolor": "white",
                        "linecolor": "white",
                        "ticks": ""
                      },
                      "bgcolor": "#E5ECF6",
                      "radialaxis": {
                        "gridcolor": "white",
                        "linecolor": "white",
                        "ticks": ""
                      }
                    },
                    "scene": {
                      "xaxis": {
                        "backgroundcolor": "#E5ECF6",
                        "gridcolor": "white",
                        "gridwidth": 2,
                        "linecolor": "white",
                        "showbackground": true,
                        "ticks": "",
                        "zerolinecolor": "white"
                      },
                      "yaxis": {
                        "backgroundcolor": "#E5ECF6",
                        "gridcolor": "white",
                        "gridwidth": 2,
                        "linecolor": "white",
                        "showbackground": true,
                        "ticks": "",
                        "zerolinecolor": "white"
                      },
                      "zaxis": {
                        "backgroundcolor": "#E5ECF6",
                        "gridcolor": "white",
                        "gridwidth": 2,
                        "linecolor": "white",
                        "showbackground": true,
                        "ticks": "",
                        "zerolinecolor": "white"
                      }
                    },
                    "shapedefaults": {
                      "line": {
                        "color": "#2a3f5f"
                      }
                    },
                    "ternary": {
                      "aaxis": {
                        "gridcolor": "white",
                        "linecolor": "white",
                        "ticks": ""
                      },
                      "baxis": {
                        "gridcolor": "white",
                        "linecolor": "white",
                        "ticks": ""
                      },
                      "bgcolor": "#E5ECF6",
                      "caxis": {
                        "gridcolor": "white",
                        "linecolor": "white",
                        "ticks": ""
                      }
                    },
                    "title": {
                      "x": 0.05
                    },
                    "xaxis": {
                      "automargin": true,
                      "gridcolor": "white",
                      "linecolor": "white",
                      "ticks": "",
                      "title": {
                        "standoff": 15
                      },
                      "zerolinecolor": "white",
                      "zerolinewidth": 2
                    },
                    "yaxis": {
                      "automargin": true,
                      "gridcolor": "white",
                      "linecolor": "white",
                      "ticks": "",
                      "title": {
                        "standoff": 15
                      },
                      "zerolinecolor": "white",
                      "zerolinewidth": 2
                    }
                  }
                },
                "title": {
                  "text": "Distribución por Género"
                },
                "xaxis": {
                  "anchor": "y",
                  "domain": [
                    0,
                    1
                  ],
                  "title": {
                    "text": "value"
                  }
                },
                "yaxis": {
                  "anchor": "x",
                  "domain": [
                    0,
                    1
                  ],
                  "title": {
                    "text": "género"
                  }
                }
              }
            }
          },
          "metadata": {},
          "output_type": "display_data"
        }
      ],
      "source": [
        "fig = px.bar(df.groupby('género').size(),  title='Distribución por Género', color= df.groupby('género').size().index, orientation='h')\n",
        "fig.show()"
      ]
    },
    {
      "cell_type": "code",
      "execution_count": 27,
      "metadata": {
        "id": "2_dOGjNkFlZ-"
      },
      "outputs": [],
      "source": [
        "from sklearn.model_selection import train_test_split\n",
        "from sklearn.linear_model import LinearRegression\n",
        "from sklearn.metrics import mean_squared_error, r2_score\n",
        "import matplotlib.pyplot as plt\n",
        "import numpy as np"
      ]
    },
    {
      "cell_type": "code",
      "execution_count": 28,
      "metadata": {
        "colab": {
          "base_uri": "https://localhost:8080/",
          "height": 611
        },
        "id": "w90THVhdGFxO",
        "outputId": "0ae768db-736f-4996-cde3-56e09ea29bf2"
      },
      "outputs": [
        {
          "name": "stdout",
          "output_type": "stream",
          "text": [
            "Coeficiente: 2.00\n",
            "Intersección: -0.20\n",
            "Error cuadrático medio: 5.05\n",
            "R^2: 1.00\n"
          ]
        },
        {
          "data": {
            "application/vnd.plotly.v1+json": {
              "config": {
                "plotlyServerURL": "https://plot.ly"
              },
              "data": [
                {
                  "hovertemplate": "puntaje_total=%{x}<br>y=%{y}<extra></extra>",
                  "legendgroup": "",
                  "marker": {
                    "color": "#636efa",
                    "symbol": "circle"
                  },
                  "mode": "markers",
                  "name": "",
                  "orientation": "v",
                  "showlegend": false,
                  "type": "scatter",
                  "x": [
                    218,
                    247,
                    278,
                    148,
                    229,
                    232,
                    275,
                    122,
                    195,
                    148,
                    164,
                    135,
                    219,
                    220,
                    161,
                    222,
                    263,
                    78,
                    134,
                    173,
                    198,
                    210,
                    151,
                    215,
                    225,
                    219,
                    178,
                    211,
                    205,
                    207,
                    217,
                    189,
                    193,
                    120,
                    266,
                    241,
                    238,
                    173,
                    253,
                    170,
                    170,
                    199,
                    176,
                    190,
                    160,
                    176,
                    182,
                    213,
                    207,
                    248,
                    156,
                    214,
                    139,
                    241,
                    242,
                    117,
                    253,
                    156,
                    175,
                    27,
                    225,
                    112,
                    178,
                    220,
                    176,
                    192,
                    119,
                    206,
                    175,
                    160,
                    194,
                    181,
                    140,
                    174,
                    139,
                    123,
                    78,
                    239,
                    207,
                    198,
                    146,
                    139,
                    151,
                    199,
                    115,
                    235,
                    247,
                    216,
                    195,
                    241,
                    211,
                    97,
                    221,
                    138,
                    257,
                    241,
                    193,
                    205,
                    187,
                    194,
                    213,
                    216,
                    265,
                    151,
                    274,
                    197,
                    287,
                    193,
                    198,
                    206,
                    264,
                    166,
                    154,
                    163,
                    299,
                    235,
                    242,
                    239,
                    175,
                    189,
                    260,
                    272,
                    274,
                    176,
                    236,
                    268,
                    207,
                    216,
                    238,
                    151,
                    255,
                    130,
                    231,
                    240,
                    228,
                    161,
                    146,
                    181,
                    192,
                    201,
                    219,
                    185,
                    151,
                    147,
                    239,
                    94,
                    247,
                    207,
                    224,
                    293,
                    198,
                    212,
                    195,
                    150,
                    190,
                    247,
                    218,
                    180,
                    234,
                    192,
                    234,
                    248,
                    154,
                    154,
                    264,
                    296,
                    155,
                    212,
                    229,
                    212,
                    219,
                    260,
                    246,
                    200,
                    148,
                    259,
                    158,
                    225,
                    184,
                    297,
                    205,
                    176,
                    147,
                    204,
                    146,
                    197,
                    221,
                    196,
                    145,
                    252,
                    200,
                    238,
                    192,
                    201,
                    238,
                    168,
                    193,
                    162,
                    153,
                    233,
                    237,
                    223,
                    215,
                    194,
                    142,
                    223,
                    206,
                    237,
                    231,
                    185,
                    238,
                    90,
                    164,
                    167,
                    259,
                    242,
                    257,
                    115,
                    213,
                    173,
                    198,
                    245,
                    182,
                    241,
                    191,
                    155,
                    215,
                    161,
                    204,
                    277,
                    206,
                    131,
                    236,
                    257,
                    249,
                    232,
                    196,
                    198,
                    157,
                    244,
                    207,
                    246,
                    163,
                    153,
                    218,
                    232,
                    239,
                    196,
                    191,
                    181,
                    145,
                    237,
                    200,
                    232,
                    158,
                    205,
                    205,
                    232,
                    223,
                    227,
                    220,
                    236,
                    145,
                    282,
                    217,
                    142,
                    219,
                    218,
                    275,
                    217,
                    193,
                    149,
                    158,
                    206,
                    249,
                    234,
                    270,
                    197,
                    231,
                    186,
                    147,
                    139,
                    236,
                    226,
                    129,
                    245,
                    267,
                    238,
                    239,
                    230,
                    214,
                    229,
                    180,
                    213,
                    235,
                    189,
                    130,
                    213,
                    136,
                    252,
                    240,
                    162,
                    232,
                    220,
                    232,
                    205,
                    267,
                    147,
                    191,
                    158,
                    229,
                    183,
                    196,
                    204,
                    198,
                    202,
                    250,
                    233,
                    203,
                    184,
                    230,
                    240,
                    232,
                    149,
                    130,
                    266,
                    184,
                    70,
                    234,
                    147,
                    192,
                    119,
                    171,
                    249,
                    271,
                    195,
                    215,
                    143,
                    89,
                    150,
                    171,
                    197,
                    219,
                    206,
                    219,
                    227,
                    180,
                    266,
                    215,
                    237,
                    186,
                    175,
                    221,
                    161,
                    200,
                    203,
                    185,
                    177,
                    182,
                    259,
                    179,
                    247,
                    168,
                    93,
                    177,
                    167,
                    180,
                    188,
                    166,
                    242,
                    232,
                    188,
                    220,
                    275,
                    202,
                    130,
                    252,
                    280,
                    231,
                    192,
                    249,
                    282,
                    231,
                    132,
                    124,
                    218,
                    207,
                    202,
                    190,
                    218,
                    199,
                    222,
                    210,
                    167,
                    216,
                    134,
                    180,
                    269,
                    194,
                    173,
                    180,
                    139,
                    169,
                    287,
                    175,
                    204,
                    193,
                    239,
                    165,
                    256,
                    215,
                    245,
                    197,
                    197,
                    202,
                    226,
                    213,
                    214,
                    189,
                    167,
                    268,
                    179,
                    172,
                    224,
                    114,
                    191,
                    255,
                    205,
                    177,
                    185,
                    189,
                    203,
                    172,
                    156,
                    205,
                    151,
                    207,
                    214,
                    177,
                    259,
                    227,
                    239,
                    201,
                    232,
                    234,
                    218,
                    195,
                    247,
                    135,
                    226,
                    234,
                    289,
                    216,
                    172,
                    176,
                    140,
                    257,
                    155,
                    300,
                    205,
                    166,
                    153,
                    217,
                    258,
                    195,
                    262,
                    95,
                    204,
                    250,
                    241,
                    258,
                    206,
                    238,
                    187,
                    271,
                    230,
                    204,
                    220,
                    189,
                    214,
                    212,
                    167,
                    197,
                    157,
                    155,
                    215,
                    164,
                    209,
                    174,
                    243,
                    226,
                    198,
                    256,
                    259,
                    186,
                    198,
                    154,
                    213,
                    203,
                    219,
                    235,
                    273,
                    178,
                    276,
                    153,
                    244,
                    204,
                    168,
                    234,
                    265,
                    220,
                    157,
                    163,
                    177,
                    268,
                    248,
                    247,
                    213,
                    222,
                    224,
                    172,
                    261,
                    184,
                    163,
                    154,
                    187,
                    177,
                    132,
                    117,
                    206,
                    208,
                    154,
                    181,
                    261,
                    210,
                    232,
                    169,
                    179,
                    222,
                    275,
                    212,
                    241,
                    237,
                    266,
                    193,
                    241,
                    289,
                    203,
                    193,
                    220,
                    220,
                    265,
                    138,
                    203,
                    138,
                    104,
                    206,
                    194,
                    193,
                    201,
                    228,
                    211,
                    278,
                    223,
                    145,
                    136,
                    292,
                    210,
                    158,
                    203,
                    216,
                    279,
                    171,
                    180,
                    226,
                    148,
                    164,
                    261,
                    162,
                    182,
                    274,
                    236,
                    214,
                    228,
                    223,
                    217,
                    201,
                    169,
                    183,
                    179,
                    169,
                    183,
                    200,
                    223,
                    291,
                    207,
                    69,
                    155,
                    219,
                    228,
                    177,
                    88,
                    234,
                    168,
                    263,
                    209,
                    251,
                    152,
                    187,
                    186,
                    192,
                    183,
                    275,
                    216,
                    268,
                    200,
                    120,
                    249,
                    260,
                    206,
                    150,
                    181,
                    161,
                    282,
                    181,
                    296,
                    202,
                    155,
                    152,
                    150,
                    201,
                    204,
                    221,
                    248,
                    248,
                    209,
                    228,
                    260,
                    236,
                    223,
                    144,
                    252,
                    232,
                    233,
                    195,
                    227,
                    194,
                    194,
                    158,
                    229,
                    160,
                    224,
                    269,
                    209,
                    231,
                    196,
                    208,
                    196,
                    161,
                    262,
                    224,
                    202,
                    195,
                    201,
                    206,
                    170,
                    207,
                    249,
                    208,
                    230,
                    210,
                    159,
                    223,
                    233,
                    224,
                    180,
                    227,
                    228,
                    234,
                    184,
                    213,
                    188,
                    171,
                    113,
                    196,
                    293,
                    228,
                    228,
                    155,
                    266,
                    155,
                    227,
                    221,
                    227,
                    168,
                    254,
                    247,
                    201,
                    214,
                    191,
                    242,
                    196,
                    258,
                    194,
                    186,
                    199,
                    116,
                    177,
                    255,
                    161,
                    267,
                    250,
                    297,
                    246,
                    204,
                    257,
                    223,
                    291,
                    226,
                    244,
                    204,
                    173,
                    252,
                    140,
                    131,
                    226,
                    217,
                    176,
                    249,
                    129,
                    225,
                    144,
                    270,
                    146,
                    168,
                    183,
                    255,
                    192,
                    225,
                    176,
                    225,
                    150,
                    247,
                    204,
                    157,
                    225,
                    215,
                    201,
                    169,
                    257,
                    208,
                    205,
                    231,
                    252,
                    166,
                    271,
                    165,
                    210,
                    176,
                    223,
                    189,
                    160,
                    245,
                    187,
                    182,
                    218,
                    210,
                    198,
                    214,
                    175,
                    149,
                    222,
                    191,
                    219,
                    191,
                    162,
                    208,
                    122,
                    233,
                    261,
                    159,
                    251,
                    243,
                    173,
                    251,
                    127,
                    228,
                    89,
                    194,
                    178,
                    170,
                    196,
                    209,
                    250,
                    145,
                    198,
                    210,
                    235,
                    183,
                    164,
                    208,
                    229,
                    276,
                    254,
                    227,
                    230,
                    213,
                    126,
                    234,
                    164,
                    118,
                    141,
                    185,
                    247,
                    235,
                    267,
                    168,
                    207,
                    200,
                    256,
                    267,
                    261,
                    152,
                    240,
                    158,
                    187,
                    194,
                    210,
                    236,
                    175,
                    178,
                    249,
                    182,
                    248,
                    153,
                    198,
                    194,
                    236,
                    168,
                    216,
                    137,
                    173,
                    103,
                    227,
                    169,
                    259,
                    261,
                    168,
                    199,
                    224,
                    205,
                    192,
                    265,
                    210,
                    181,
                    290,
                    208,
                    225,
                    147,
                    232,
                    168,
                    254,
                    119,
                    222,
                    281,
                    252,
                    164,
                    144,
                    224,
                    151,
                    164,
                    218,
                    244,
                    262,
                    166,
                    210,
                    247,
                    172,
                    211,
                    214,
                    193,
                    211,
                    208,
                    145,
                    156,
                    218,
                    288,
                    185,
                    208,
                    143,
                    262,
                    262,
                    190,
                    237,
                    190,
                    104,
                    92,
                    220,
                    184,
                    225,
                    258,
                    225,
                    123,
                    293,
                    235,
                    242,
                    156,
                    254,
                    214,
                    204,
                    140,
                    235,
                    179,
                    175,
                    162,
                    204,
                    300,
                    157,
                    214,
                    278,
                    206,
                    134,
                    204,
                    184,
                    213,
                    198,
                    172,
                    197,
                    133,
                    155,
                    211,
                    181,
                    205,
                    219,
                    275,
                    191,
                    177,
                    172,
                    251,
                    214,
                    210,
                    265,
                    211,
                    184,
                    187,
                    173,
                    244,
                    167,
                    151,
                    205,
                    238,
                    235,
                    220,
                    164,
                    200,
                    191,
                    252,
                    292,
                    167,
                    227,
                    178,
                    155,
                    300,
                    216,
                    187,
                    204,
                    198,
                    186,
                    211,
                    239,
                    289,
                    219,
                    163,
                    175,
                    184,
                    223,
                    182,
                    185,
                    144,
                    280,
                    55,
                    237,
                    250,
                    256,
                    231,
                    162,
                    150,
                    232,
                    134,
                    236,
                    242,
                    225,
                    207,
                    208,
                    188,
                    282,
                    172,
                    195,
                    223,
                    249
                  ],
                  "xaxis": "x",
                  "y": [
                    437.7923599030909,
                    495.72703215130065,
                    557.590216120833,
                    296.53600376105044,
                    455.302910156104,
                    464.4447950150405,
                    549.7426931283237,
                    246.62829472053866,
                    390.9592068723041,
                    298.35684044705897,
                    328.59084049311105,
                    275.27239125455026,
                    436.6564896612771,
                    439.2894991784855,
                    323.05788355611577,
                    446.8195894124747,
                    524.7435242618986,
                    155.6855482360933,
                    268.62207917476104,
                    346.105997845443,
                    395.7989136788884,
                    421.3562886763007,
                    301.6222011721723,
                    429.82119799535093,
                    452.0296980094125,
                    440.18100503070553,
                    354.410209263238,
                    420.10805081671907,
                    410.0026577262858,
                    413.6541009005827,
                    436.2325196614105,
                    380.2728195212253,
                    383.83360713172783,
                    241.57732985366374,
                    534.5869650009322,
                    480.90964612521077,
                    475.79959964936586,
                    342.76137341517807,
                    500.89318236020677,
                    340.6355078178934,
                    337.9100614939121,
                    396.82850100843365,
                    346.5657121300511,
                    378.1696630210726,
                    320.3741969014125,
                    350.9265472704571,
                    365.0070424872936,
                    426.3744126640519,
                    413.54720007280446,
                    495.006941514758,
                    313.05322608011267,
                    426.1643820932657,
                    278.3011448828333,
                    481.03407264973913,
                    480.14434509682235,
                    231.8005460451989,
                    504.59681958693386,
                    312.14370965218814,
                    347.76369225790967,
                    56.264537625442564,
                    449.3200826304189,
                    226.95275989528162,
                    359.4396207067346,
                    439.5333226246175,
                    350.0156417236723,
                    387.2032639751057,
                    238.0371457799394,
                    413.4986317965732,
                    351.95750866404336,
                    320.61931993631396,
                    386.2321863305595,
                    361.05759031539077,
                    279.526372706484,
                    346.1872252637207,
                    278.3786458055588,
                    247.19572199322624,
                    152.4044885783561,
                    473.9511944437746,
                    419.74221739022454,
                    394.5261567076818,
                    295.51885615031847,
                    276.0542845185305,
                    303.02148217127456,
                    395.1947720324799,
                    231.02004688997846,
                    471.69891569654146,
                    496.9280139775507,
                    430.15030538247623,
                    387.74310138844265,
                    482.6681984852962,
                    420.7929385574746,
                    195.35128501406393,
                    443.1051891668039,
                    277.83359303870697,
                    516.6799144402564,
                    481.65829008480154,
                    384.9655971482418,
                    406.7851338524142,
                    374.75472230139195,
                    387.35632952716355,
                    427.58569228470066,
                    433.86763964459146,
                    533.4983340889081,
                    302.3960967492389,
                    546.1659746046688,
                    394.2614983343535,
                    575.439111089504,
                    388.09138213855135,
                    393.9740252180282,
                    412.53703012795773,
                    529.8130550337632,
                    333.7121532150692,
                    308.00731001918035,
                    325.241578058054,
                    597.1025413129353,
                    467.5418966726792,
                    484.0904605440952,
                    478.9168866177418,
                    351.04823163098735,
                    378.26651765626985,
                    519.5353497388314,
                    541.137130694203,
                    547.4509934476873,
                    351.2748045344896,
                    473.2823408205632,
                    531.6910405885775,
                    411.03054806599476,
                    431.23072551886236,
                    475.8016208668064,
                    303.64933147397613,
                    511.30174707617374,
                    261.2838432197716,
                    465.768001040356,
                    476.9773144556502,
                    458.1262144649882,
                    323.10336372819125,
                    293.84839797745155,
                    361.4722975286804,
                    387.00950254534683,
                    402.12395135393905,
                    437.278295003695,
                    365.11790899854617,
                    302.19165448692,
                    293.19804777245287,
                    474.5684761501771,
                    186.25018883188523,
                    491.27100257453196,
                    412.6182308297889,
                    447.8012310860562,
                    585.2333488676048,
                    396.88455797015047,
                    426.7240887691631,
                    390.18066386421043,
                    303.31980081449404,
                    383.053145651027,
                    493.9005481936349,
                    435.0832086342467,
                    358.3023133846747,
                    468.5627014092032,
                    384.43442876581645,
                    467.42857304779164,
                    496.2786960047592,
                    307.68440825417713,
                    307.60713844344735,
                    527.5586756561131,
                    593.7025994365551,
                    308.9341162861532,
                    424.796378976909,
                    458.44931934171785,
                    424.16535105689684,
                    436.68467349497735,
                    518.9249270821442,
                    493.56563839754347,
                    396.74856141436027,
                    296.99815798828104,
                    516.6702137661848,
                    317.5151000114269,
                    450.57749821270164,
                    371.85650269729183,
                    598.4953210918629,
                    412.06607558778904,
                    352.18497325582103,
                    295.64640649036136,
                    407.94708079343377,
                    288.94393307323116,
                    393.37433483041883,
                    442.7679216300302,
                    391.04163714468257,
                    289.4659737381864,
                    507.6778019325822,
                    398.3992259719017,
                    476.1442538489663,
                    384.3927049937551,
                    399.0753981995062,
                    474.99177966593845,
                    336.0594564326289,
                    386.86862639810545,
                    324.8455722965772,
                    309.16751460327185,
                    464.4248193989965,
                    474.4126218902751,
                    443.182676089236,
                    431.50010733280124,
                    386.79473510233294,
                    282.2675348157064,
                    445.5624661328145,
                    412.40013916572127,
                    475.85528199447134,
                    462.1495242774558,
                    368.15842014827064,
                    475.0361796052422,
                    180.9673214897751,
                    329.2529823271487,
                    334.74850067024056,
                    518.3633928991578,
                    485.6203847824672,
                    512.8664026871041,
                    226.2581776004531,
                    428.1167804373483,
                    344.8681937080839,
                    398.4916385909561,
                    493.53833559579954,
                    365.10007504051214,
                    483.93925784848545,
                    382.41574748826775,
                    309.20963101432966,
                    427.87597399499117,
                    322.4059788594943,
                    409.8127275692857,
                    552.127288491436,
                    415.5969831587529,
                    262.99386469572454,
                    469.5340506583759,
                    513.3678467664116,
                    493.85498944236133,
                    462.79921813509804,
                    390.23666536455346,
                    396.4578446552162,
                    315.78518451191115,
                    489.29934454325246,
                    417.4967489856211,
                    490.96763007891803,
                    324.74949018024216,
                    304.85569824484884,
                    435.17421615349804,
                    463.11893735601166,
                    479.09264844878174,
                    395.4681388789221,
                    382.4127757980884,
                    357.58746899602016,
                    290.6933298562603,
                    473.81504763658273,
                    405.436090526628,
                    465.5127210840867,
                    315.1774193885064,
                    411.98119485434376,
                    406.25882360969354,
                    465.13551423097135,
                    446.05664652313897,
                    454.27457439486153,
                    442.17371942879186,
                    473.22093291428195,
                    289.5210522345255,
                    564.8164320304041,
                    435.52517451216943,
                    283.4566966072705,
                    436.28083825793954,
                    432.6568878413416,
                    552.0687152025547,
                    436.153930281817,
                    383.6439718964268,
                    299.0302205691556,
                    316.0447237203725,
                    409.8829825094389,
                    502.49846051647586,
                    462.8348813957244,
                    537.0826843397286,
                    389.9196866688736,
                    462.51185462519163,
                    371.53999727379835,
                    295.00335387133316,
                    277.89908957088693,
                    471.8954507841023,
                    454.25410477452914,
                    256.8953229587038,
                    492.5910527198212,
                    535.3592949226671,
                    479.1521172922237,
                    478.2831480375162,
                    455.84943954308045,
                    428.1020255376351,
                    456.1466071101678,
                    358.61485530624174,
                    426.1222442828903,
                    470.3597151949348,
                    377.0591264498267,
                    261.205900814479,
                    425.02659046374674,
                    272.2355016559294,
                    503.4140108926133,
                    482.5661020246712,
                    324.08172903371263,
                    463.18503584988247,
                    440.87200035628086,
                    462.7119145151135,
                    412.3959490872803,
                    537.0473387129371,
                    290.8877021539037,
                    383.9977883756072,
                    314.8075390892276,
                    457.8725323621454,
                    364.55615789740676,
                    390.51838279521553,
                    404.47367125563494,
                    393.03974440638666,
                    407.34849480834436,
                    498.74700678970015,
                    467.16913567907187,
                    404.0211907834322,
                    368.7570098573728,
                    465.0564531471925,
                    481.4983142015919,
                    464.88596559444534,
                    298.26928871242495,
                    262.1068118816514,
                    530.3454951633403,
                    365.50529774572453,
                    142.0773110715261,
                    466.70072590209696,
                    292.4896378588318,
                    383.20476278133583,
                    238.97938184439153,
                    340.81991030019174,
                    497.510140059386,
                    539.1923090582493,
                    389.1494560536147,
                    427.87139826818384,
                    284.45473737849136,
                    176.3560455554922,
                    298.2578267499623,
                    341.40094403773287,
                    393.2129928793704,
                    439.28296628647075,
                    411.0272732282306,
                    435.75157493185793,
                    457.1746560356564,
                    359.5828635402501,
                    532.1231353505848,
                    428.5085698656288,
                    473.9912539087621,
                    372.22753918611795,
                    347.6952569208275,
                    440.53521991642833,
                    323.9717236143968,
                    399.18909208541163,
                    401.61303355269666,
                    365.4239032231114,
                    353.3173404844632,
                    366.4136042957019,
                    517.5081681277763,
                    359.49001596610407,
                    494.96471341389383,
                    334.2621407157751,
                    189.1924768374407,
                    352.76143673298145,
                    330.8892011384972,
                    358.2240525115035,
                    373.87088917062374,
                    331.8564751316384,
                    483.94655376676474,
                    465.1307680302884,
                    376.2198637050811,
                    438.15190120864827,
                    548.0509530167257,
                    405.5536933768496,
                    261.7445070391097,
                    502.546415639539,
                    562.6125895946354,
                    463.48150564387555,
                    383.6323577837474,
                    499.23481182302584,
                    562.4173871069644,
                    459.9598031858725,
                    260.22914558369376,
                    247.07036485189138,
                    434.193808451113,
                    410.6713726791058,
                    405.4880375049737,
                    377.25077179377547,
                    438.15303237722617,
                    396.4340412407134,
                    445.5572771063001,
                    419.139085622214,
                    333.4932955134085,
                    431.4389467592936,
                    266.48276814639433,
                    357.93348379237386,
                    536.9121543092002,
                    389.1948615208873,
                    347.3774763964003,
                    357.43478665267963,
                    277.83720740823,
                    335.64742199664124,
                    571.803148073025,
                    348.38575352009394,
                    407.73374203541255,
                    386.1792593459477,
                    480.8344227451866,
                    331.4001285416612,
                    511.74056426906776,
                    433.48975940960435,
                    492.62011972495185,
                    393.68241243127056,
                    395.8528738453453,
                    403.1648485133857,
                    449.44835870833447,
                    423.34448340546226,
                    431.0863662622399,
                    374.2684870456327,
                    334.3167164963712,
                    538.738955870717,
                    357.4012249387319,
                    344.182884959861,
                    447.4318039910391,
                    226.83634339658977,
                    380.34578954884546,
                    507.5766195383553,
                    414.79308036809226,
                    353.5133187140649,
                    369.97256971097585,
                    378.0427981552116,
                    405.81919841025024,
                    346.6556305474955,
                    311.96751745456135,
                    410.54247022581427,
                    301.2533500793742,
                    416.7223381504699,
                    427.364436241949,
                    350.75370316899654,
                    520.6514927446966,
                    454.02097584476013,
                    476.99023839441713,
                    402.7830450142233,
                    463.6517142301997,
                    465.82455371610774,
                    438.40702140987287,
                    389.59749260387844,
                    494.36702130195533,
                    267.9560669382824,
                    451.81585746144594,
                    468.81536065397853,
                    577.6830480037859,
                    428.9027010371907,
                    348.61707447354667,
                    350.61557214443667,
                    281.30332444254844,
                    512.2776700509988,
                    311.9683732075825,
                    600.2587110284084,
                    410.7722553255949,
                    333.1880420340493,
                    304.19163769904293,
                    435.527817535709,
                    517.0754319803622,
                    393.2879323476536,
                    523.818409509004,
                    190.91882097891482,
                    409.1554004988879,
                    499.2498775081605,
                    484.94739232566747,
                    517.5044493212542,
                    411.60996511345905,
                    476.8777718280532,
                    375.339568143534,
                    543.1531160449825,
                    456.563380813085,
                    407.2395900206145,
                    440.2612483259899,
                    375.6892069935273,
                    425.5389483356855,
                    426.9415050840026,
                    334.2618903936681,
                    393.7468496329387,
                    317.2687450591057,
                    312.42050969629,
                    429.09408096501767,
                    329.81681847837984,
                    418.04537598405307,
                    349.98919086218285,
                    488.4405422835635,
                    452.1740668995534,
                    395.83407180275094,
                    513.9783079451059,
                    520.1928777949125,
                    372.1428103818041,
                    398.5831862849027,
                    307.9398544392616,
                    426.93848802898054,
                    403.7436934951622,
                    435.84945781144825,
                    466.3804524091511,
                    545.8646879362449,
                    353.29959640115726,
                    549.9709594209578,
                    305.5082055468018,
                    490.1537381006951,
                    409.64797162725114,
                    335.0890491620176,
                    468.8898347852521,
                    531.2096162207056,
                    440.09536734975126,
                    310.87981720099896,
                    326.0594070278568,
                    356.6870158921301,
                    534.984798697894,
                    495.4462174187466,
                    491.8822084886112,
                    427.86184316924493,
                    442.4986163710346,
                    446.7319486774147,
                    343.98183490148705,
                    520.56926115398,
                    368.26527195316874,
                    324.5712205421951,
                    307.09527039005496,
                    374.6209975828921,
                    355.29263953189275,
                    262.50990768493205,
                    239.2892281976139,
                    419.2268928962402,
                    419.1684545079651,
                    305.9877327494639,
                    361.4312015537952,
                    518.8251996555924,
                    421.4476668508505,
                    463.47188612395655,
                    338.11647736179884,
                    356.8789269809077,
                    443.936844924024,
                    549.4608588664532,
                    428.2577653807154,
                    481.61623945652775,
                    475.0128452175998,
                    531.3842826726047,
                    387.07585267573535,
                    481.2269702385049,
                    578.9265497024971,
                    407.816463283256,
                    387.3652057878299,
                    439.699020973495,
                    438.9229997395489,
                    530.1190485093691,
                    278.03653058219766,
                    403.73910256521833,
                    278.40957195815724,
                    208.54181365527015,
                    411.36109604171486,
                    388.6663292264093,
                    386.3809310776336,
                    399.4080322830139,
                    456.03422747776466,
                    424.43052258198003,
                    553.6665052762716,
                    446.12113969452423,
                    285.1321265393176,
                    271.91462519576515,
                    581.557018781543,
                    421.01813015077397,
                    317.2764608561047,
                    406.1618946044321,
                    431.4249123867343,
                    560.0983998552581,
                    340.4669764882928,
                    358.67653044212483,
                    449.6421459430819,
                    295.8750933761201,
                    330.68334230263486,
                    521.8534542314549,
                    320.70602266038276,
                    360.8757031979847,
                    549.2940910394983,
                    473.9439860747598,
                    427.362470637125,
                    452.6937280262284,
                    443.73478704015935,
                    433.97845585848984,
                    401.34830768242074,
                    336.38121256119865,
                    363.6996445713747,
                    356.88791284943136,
                    336.16635423612985,
                    365.1855876001642,
                    397.99844770676754,
                    442.52830932442924,
                    582.5296186948817,
                    415.6096734517251,
                    139.69503313586551,
                    307.0745816631751,
                    437.4837840895446,
                    454.42130878654757,
                    354.96965086406925,
                    174.13031586609324,
                    466.7744307645576,
                    338.6859091906827,
                    523.4424196859891,
                    414.76865402331583,
                    499.1006913259887,
                    304.3536469344779,
                    375.93191404193533,
                    370.82965451689455,
                    386.89253057586706,
                    368.7251974533838,
                    554.322063193302,
                    428.21497349056733,
                    536.538214099328,
                    403.18361177830303,
                    238.43982885996166,
                    500.436861860738,
                    521.7752796666242,
                    413.2963331613102,
                    300.6426371886962,
                    364.4245780009302,
                    324.4268779435948,
                    564.7610574576331,
                    361.6631297970645,
                    589.9998622361925,
                    403.7327199449161,
                    308.81781791856116,
                    302.4477518708075,
                    300.32125440609974,
                    403.7110975151263,
                    406.7791756053926,
                    444.5419264378043,
                    495.45120167788065,
                    496.94677965944,
                    415.70596967464064,
                    456.78273699294596,
                    517.4433486852901,
                    471.21698949161043,
                    442.4683620171131,
                    287.0441158328671,
                    506.06678235255987,
                    465.27953663402565,
                    463.5157479295644,
                    391.2792548813182,
                    452.62676813801835,
                    389.31763641494933,
                    386.8085481558902,
                    317.7413638239824,
                    458.390978687795,
                    323.2364873923653,
                    452.89000063819736,
                    536.4932410613313,
                    420.5794008480963,
                    461.3143494998058,
                    391.8396466667821,
                    415.5407987826733,
                    392.2699296116483,
                    321.57727718650057,
                    523.8179375080985,
                    450.7981477292397,
                    401.5803858293867,
                    390.7416030720565,
                    399.65353852391667,
                    412.27732969476875,
                    340.00197121263847,
                    415.7062202921577,
                    499.6349663563033,
                    419.2237327115692,
                    456.16885919296715,
                    417.79342656125,
                    315.1634579178159,
                    443.8148982151644,
                    462.7479955405505,
                    444.32217325730727,
                    359.2806911682609,
                    455.13542341878144,
                    457.1763678197784,
                    468.89691036924114,
                    369.86377186850757,
                    424.61233402505394,
                    376.6401851661117,
                    341.5612086101691,
                    222.63433114200146,
                    393.5871587944893,
                    586.2972038435241,
                    455.399203889216,
                    451.9888722551931,
                    308.00301964886864,
                    535.0568382417416,
                    307.0821161384427,
                    452.0605227747581,
                    437.8967760231612,
                    453.6350077724551,
                    333.6240548520611,
                    506.1529053889215,
                    494.4774694524279,
                    399.51967589229133,
                    427.61966865193415,
                    379.78218846377354,
                    484.5453548053984,
                    390.0831252597516,
                    514.9024174586274,
                    388.3616291043731,
                    371.9707864335043,
                    400.1181564532371,
                    229.06924488031828,
                    353.87921304423026,
                    507.9669001605416,
                    322.00211292723645,
                    536.5665900646653,
                    499.7107153943841,
                    594.4348614118626,
                    490.3731044767659,
                    408.1357277832392,
                    516.1354455463563,
                    448.2955766969889,
                    582.173708308525,
                    453.18030088223054,
                    487.8964379312317,
                    407.7103489210156,
                    349.49062740191937,
                    502.93345759997237,
                    278.03276262688837,
                    260.3617285757877,
                    448.7288802899851,
                    433.3160066496339,
                    350.2141128680947,
                    497.22586455823085,
                    259.275391811716,
                    448.2921575170969,
                    286.9306795239075,
                    536.7994078565117,
                    290.32754487968845,
                    338.8362656164043,
                    367.2697191682006,
                    507.81569356816425,
                    381.37749540410795,
                    450.53246298682416,
                    354.20119306794567,
                    450.7764303670185,
                    297.82916878300637,
                    493.8678691326205,
                    406.51007256432064,
                    316.13031218227985,
                    452.34461090154014,
                    427.8544124144059,
                    404.0267863457522,
                    338.3447649713185,
                    513.1221894900307,
                    417.5119933818531,
                    414.28873139111175,
                    461.5990809052814,
                    504.8506530386424,
                    329.5772698785435,
                    542.8089404179575,
                    330.0426581961952,
                    419.9268497166903,
                    352.93438352669295,
                    449.8039392273099,
                    374.35964473835463,
                    317.0441112712164,
                    490.07007080400837,
                    373.8073386683523,
                    368.0075520735481,
                    437.23989421305333,
                    419.2486958141937,
                    397.6042403133457,
                    429.31575820696,
                    350.5476170476567,
                    293.328462207945,
                    445.6035298720735,
                    379.6750806800984,
                    437.96285307387285,
                    380.12380630644617,
                    321.02633328808895,
                    416.3639251594653,
                    243.9620097643771,
                    467.15376443568454,
                    520.7865706860069,
                    317.26687665203076,
                    500.0043470192711,
                    486.14074965070466,
                    344.87862828234347,
                    501.7780292953518,
                    253.93307993079318,
                    457.89740757559184,
                    174.2095354615196,
                    384.10808648740544,
                    357.6762155313019,
                    337.2623948558539,
                    389.1145215482908,
                    422.2462582931541,
                    498.96783266245285,
                    288.28341675750175,
                    392.86529800926155,
                    421.7550050421332,
                    471.11307711437775,
                    364.74604069042715,
                    330.26558425478885,
                    411.73221521211303,
                    459.0445033389867,
                    554.0968754329983,
                    504.36340183211513,
                    451.74008401646466,
                    458.9431216334779,
                    426.9862199889881,
                    253.14606169919298,
                    465.26371384344617,
                    328.1645011778133,
                    235.3153870231617,
                    283.2820550891583,
                    367.512354957788,
                    494.97231557327467,
                    471.8964923859182,
                    532.3291703033054,
                    339.0104121087185,
                    417.12160323490815,
                    398.3874909594634,
                    510.6429630050557,
                    532.7251132280181,
                    520.7339524786186,
                    305.67970819373744,
                    482.35481413317376,
                    317.98886528873186,
                    373.6397599456522,
                    389.4776862660261,
                    420.31058162336694,
                    471.26951134542537,
                    351.1421485534647,
                    356.70259829784163,
                    497.3960515423493,
                    366.49006865964765,
                    497.8559268483249,
                    304.74062908780985,
                    394.9523352234032,
                    390.1023345028697,
                    472.1400249347669,
                    334.1042416972061,
                    431.5889323655199,
                    275.1147202160711,
                    344.62786048276377,
                    205.15433207278855,
                    459.4537199209649,
                    334.9998813873787,
                    515.7809566354252,
                    523.5013143022578,
                    333.3949305101742,
                    397.08929313288115,
                    447.7945753618184,
                    411.6800151641047,
                    384.34850422211167,
                    530.579029201589,
                    420.64434397950373,
                    360.7980098169131,
                    579.4063034784222,
                    417.9067155347259,
                    449.0635893948048,
                    293.8745071279645,
                    459.55720733233767,
                    332.66008171015966,
                    510.9735332626041,
                    237.66731016753246,
                    445.2068565613202,
                    560.4789258470914,
                    505.71598746975104,
                    332.00935817596365,
                    286.88650701865026,
                    444.04502282272864,
                    303.4228921748307,
                    329.5538595933846,
                    435.6897059686094,
                    486.8858773809353,
                    526.2167610560381,
                    331.4437101493809,
                    416.1630620888118,
                    491.77369784827977,
                    343.09667466497945,
                    422.14394429380695,
                    430.9508841982134,
                    386.54421598026033,
                    423.8974226260946,
                    413.4080316509408,
                    288.9881966959706,
                    311.6207682997139,
                    435.8314500915818,
                    576.4513578908013,
                    372.128313873384,
                    416.8967830933679,
                    285.780329285886,
                    523.510523061941,
                    521.7701892815131,
                    378.59439526585936,
                    476.3444148609804,
                    375.23715122992513,
                    207.74311395027794,
                    183.40924852164483,
                    441.7716977844143,
                    363.1982623347178,
                    451.73767057504995,
                    517.2014736284235,
                    450.18413887449,
                    244.94449681257805,
                    583.8841680032832,
                    470.7862975323716,
                    482.63773678830177,
                    311.7803894640073,
                    510.0073878228758,
                    428.6936749037143,
                    407.6240449160584,
                    280.1829572824189,
                    471.46302852158163,
                    359.65050675964653,
                    349.000358821478,
                    324.6564890626345,
                    405.793627146763,
                    598.1072761758334,
                    316.1438935313911,
                    427.9709895178103,
                    558.4429736082055,
                    412.52073607932505,
                    267.751843869565,
                    405.17582910982094,
                    371.21901436020465,
                    422.34193919734435,
                    394.77917978616756,
                    342.8168625638326,
                    396.21155610513136,
                    266.4537788017043,
                    308.73078062787465,
                    421.3878792267344,
                    363.45643049848684,
                    409.7947288993951,
                    437.36528843499167,
                    549.871085633889,
                    384.1229189039825,
                    353.47323753226755,
                    341.55426622198394,
                    502.40339698524,
                    428.8074569678952,
                    418.6817559343384,
                    529.7758486161592,
                    416.7852601840012,
                    366.3861828480041,
                    376.37907841758675,
                    347.23693228046193,
                    486.44290084058366,
                    334.82984832258785,
                    300.00913537278547,
                    414.2450328227285,
                    479.34279476750305,
                    469.1349883559943,
                    442.7305100859324,
                    328.7831971870642,
                    402.93308891659655,
                    379.85281009127857,
                    505.06326874263226,
                    584.8296441717981,
                    332.6342299358127,
                    455.2368800334246,
                    353.3684706947526,
                    311.1523817372873,
                    602.0551516961247,
                    431.8398280352855,
                    373.30685553832245,
                    407.0496776587788,
                    397.24967053131473,
                    368.84808593499105,
                    424.81199893677643,
                    477.9987082373597,
                    578.3120801904045,
                    440.0091846377771,
                    326.8947447732464,
                    351.35214028344086,
                    366.8198157855127,
                    445.869273589704,
                    366.74166213428026,
                    371.771263186296,
                    287.7253455763701,
                    561.1905703124708,
                    113.76051407670695,
                    472.9983162460155,
                    498.44311598772174,
                    509.5569661427214,
                    461.29958071607973,
                    324.4531773427427,
                    304.3350286538734,
                    464.07880102367443,
                    266.770911628647,
                    473.82887006682336,
                    483.93033773135846,
                    452.1902894638611,
                    418.4624335668367,
                    418.09486970450996,
                    372.9316945788935,
                    566.6388735894171,
                    340.63526239010116,
                    391.5716601498804,
                    441.6510118567229,
                    495.93597741486985
                  ],
                  "yaxis": "y"
                },
                {
                  "hovertemplate": "x=%{x}<br>y=%{y}<extra></extra>",
                  "legendgroup": "",
                  "line": {
                    "color": "#636efa",
                    "dash": "solid"
                  },
                  "marker": {
                    "symbol": "circle"
                  },
                  "mode": "lines",
                  "name": "",
                  "orientation": "v",
                  "showlegend": false,
                  "type": "scatter",
                  "x": [
                    261,
                    192,
                    225,
                    224,
                    245,
                    234,
                    202,
                    177,
                    232,
                    146,
                    141,
                    78,
                    228,
                    175,
                    251,
                    225,
                    147,
                    145,
                    160,
                    184,
                    220,
                    148,
                    188,
                    132,
                    238,
                    232,
                    216,
                    150,
                    123,
                    167,
                    180,
                    201,
                    181,
                    219,
                    232,
                    153,
                    228,
                    223,
                    225,
                    27,
                    234,
                    193,
                    196,
                    184,
                    252,
                    197,
                    213,
                    88,
                    259,
                    236,
                    216,
                    214,
                    236,
                    162,
                    215,
                    217,
                    249,
                    164,
                    245,
                    267,
                    130,
                    242,
                    237,
                    185,
                    263,
                    221,
                    195,
                    164,
                    194,
                    266,
                    193,
                    259,
                    169,
                    150,
                    180,
                    230,
                    269,
                    170,
                    179,
                    147,
                    184,
                    119,
                    234,
                    206,
                    203,
                    193,
                    223,
                    204,
                    252,
                    70,
                    231,
                    289,
                    184,
                    213,
                    89,
                    207,
                    182,
                    195,
                    220,
                    194,
                    223,
                    175,
                    177,
                    205,
                    209,
                    195,
                    138,
                    227,
                    229,
                    157,
                    117,
                    240,
                    162,
                    168,
                    247,
                    172,
                    146,
                    144,
                    210,
                    235,
                    190,
                    191,
                    246,
                    220,
                    198,
                    201,
                    228,
                    218,
                    144,
                    208,
                    228,
                    224,
                    142,
                    282,
                    206,
                    117,
                    260,
                    242,
                    219,
                    140,
                    160,
                    196,
                    173,
                    139,
                    237,
                    162,
                    118,
                    218,
                    152,
                    240,
                    233,
                    234,
                    185,
                    185,
                    265,
                    217,
                    158,
                    201,
                    225,
                    156,
                    207,
                    198,
                    229,
                    160,
                    252,
                    208,
                    136,
                    266,
                    198,
                    229,
                    247,
                    214,
                    264,
                    236,
                    164,
                    93,
                    158,
                    227,
                    276,
                    228,
                    186,
                    210,
                    280,
                    177,
                    259,
                    181,
                    203,
                    167,
                    211,
                    257,
                    151,
                    175,
                    208,
                    233,
                    167,
                    165,
                    171,
                    231,
                    216,
                    207
                  ],
                  "xaxis": "x",
                  "y": [
                    521.9392596736027,
                    383.9011568878898,
                    449.91937995931767,
                    447.918827745032,
                    489.9304242450316,
                    467.9243498878889,
                    403.9066790307467,
                    353.89287367360436,
                    463.9232454593175,
                    291.8757550307479,
                    281.8729939593194,
                    155.83820445932068,
                    455.92103660217475,
                    349.891769245033,
                    501.9337375307457,
                    449.91937995931767,
                    293.87630724503356,
                    289.87520281646215,
                    319.8834860307476,
                    367.89673917360426,
                    439.91661888788923,
                    295.87685945931923,
                    375.898948030747,
                    263.86802403074813,
                    475.9265587450317,
                    463.9232454593175,
                    431.91441003074647,
                    299.87796388789064,
                    245.8630541021769,
                    333.8873515307474,
                    359.89453031646144,
                    401.90612681646104,
                    361.8950825307472,
                    437.9160666736035,
                    463.9232454593175,
                    305.87962053074773,
                    455.92103660217475,
                    445.9182755307463,
                    449.91937995931767,
                    53.81004153075028,
                    467.9243498878889,
                    385.90170910217546,
                    391.90336574503254,
                    367.89673917360426,
                    503.93428974503144,
                    393.9039179593183,
                    425.9127533878894,
                    175.8437266021776,
                    517.9381552450312,
                    471.92545431646033,
                    431.91441003074647,
                    427.91330560217506,
                    471.92545431646033,
                    323.884590459319,
                    429.91385781646073,
                    433.91496224503214,
                    497.93263310217435,
                    327.88569488789034,
                    489.9304242450316,
                    533.9425729593169,
                    259.8669196021768,
                    483.9287676021745,
                    473.926006530746,
                    369.89729138788994,
                    525.940364102174,
                    441.9171711021749,
                    389.90281353074687,
                    327.88569488789034,
                    387.9022613164612,
                    531.9420207450312,
                    385.90170910217546,
                    517.9381552450312,
                    337.88845595931883,
                    299.87796388789064,
                    359.89453031646144,
                    459.92214103074616,
                    537.9436773878882,
                    339.8890081736045,
                    357.89397810217577,
                    293.87630724503356,
                    367.89673917360426,
                    237.8608452450341,
                    467.9243498878889,
                    411.9088878878895,
                    405.9072312450324,
                    385.90170910217546,
                    445.9182755307463,
                    407.9077834593181,
                    503.93428974503144,
                    139.83378674503513,
                    461.92269324503184,
                    577.9547216736021,
                    367.89673917360426,
                    425.9127533878894,
                    177.84427881646332,
                    413.9094401021752,
                    363.89563474503285,
                    389.90281353074687,
                    439.91661888788923,
                    387.9022613164612,
                    445.9182755307463,
                    349.891769245033,
                    353.89287367360436,
                    409.9083356736038,
                    417.91054453074656,
                    389.90281353074687,
                    275.8713373164623,
                    453.9204843878891,
                    457.9215888164605,
                    313.8818293878905,
                    233.85974081646273,
                    479.9276631736031,
                    323.884590459319,
                    335.8879037450331,
                    493.93152867360294,
                    343.8901126021759,
                    291.8757550307479,
                    287.8746506021765,
                    419.9110967450323,
                    469.9249021021746,
                    379.9000524593184,
                    381.9006046736041,
                    491.93097645931726,
                    439.91661888788923,
                    395.90447017360395,
                    401.90612681646104,
                    455.92103660217475,
                    435.9155144593178,
                    287.8746506021765,
                    415.9099923164609,
                    455.92103660217475,
                    447.918827745032,
                    283.87354617360506,
                    563.9508561736022,
                    411.9088878878895,
                    233.85974081646273,
                    519.938707459317,
                    483.9287676021745,
                    437.9160666736035,
                    279.8724417450337,
                    319.8834860307476,
                    391.90336574503254,
                    345.8906648164616,
                    277.871889530748,
                    473.926006530746,
                    323.884590459319,
                    235.86029303074844,
                    435.9155144593178,
                    303.87906831646205,
                    479.9276631736031,
                    465.92379767360325,
                    467.9243498878889,
                    369.89729138788994,
                    369.89729138788994,
                    529.9414685307454,
                    433.91496224503214,
                    315.88238160217617,
                    401.90612681646104,
                    449.91937995931767,
                    311.8812771736048,
                    413.9094401021752,
                    395.90447017360395,
                    457.9215888164605,
                    319.8834860307476,
                    503.93428974503144,
                    415.9099923164609,
                    271.8702328878909,
                    531.9420207450312,
                    395.90447017360395,
                    457.9215888164605,
                    493.93152867360294,
                    427.91330560217506,
                    527.9409163164597,
                    471.92545431646033,
                    327.88569488789034,
                    185.84648767360608,
                    315.88238160217617,
                    453.9204843878891,
                    551.9475428878881,
                    455.92103660217475,
                    371.8978436021756,
                    419.9110967450323,
                    559.9497517450309,
                    353.89287367360436,
                    517.9381552450312,
                    361.8950825307472,
                    405.9072312450324,
                    333.8873515307474,
                    421.911648959318,
                    513.9370508164599,
                    301.8785161021763,
                    349.891769245033,
                    415.9099923164609,
                    465.92379767360325,
                    333.8873515307474,
                    329.88624710217607,
                    341.8895603878902,
                    461.92269324503184,
                    431.91441003074647,
                    413.9094401021752
                  ],
                  "yaxis": "y"
                }
              ],
              "layout": {
                "legend": {
                  "tracegroupgap": 0
                },
                "template": {
                  "data": {
                    "bar": [
                      {
                        "error_x": {
                          "color": "#2a3f5f"
                        },
                        "error_y": {
                          "color": "#2a3f5f"
                        },
                        "marker": {
                          "line": {
                            "color": "#E5ECF6",
                            "width": 0.5
                          },
                          "pattern": {
                            "fillmode": "overlay",
                            "size": 10,
                            "solidity": 0.2
                          }
                        },
                        "type": "bar"
                      }
                    ],
                    "barpolar": [
                      {
                        "marker": {
                          "line": {
                            "color": "#E5ECF6",
                            "width": 0.5
                          },
                          "pattern": {
                            "fillmode": "overlay",
                            "size": 10,
                            "solidity": 0.2
                          }
                        },
                        "type": "barpolar"
                      }
                    ],
                    "carpet": [
                      {
                        "aaxis": {
                          "endlinecolor": "#2a3f5f",
                          "gridcolor": "white",
                          "linecolor": "white",
                          "minorgridcolor": "white",
                          "startlinecolor": "#2a3f5f"
                        },
                        "baxis": {
                          "endlinecolor": "#2a3f5f",
                          "gridcolor": "white",
                          "linecolor": "white",
                          "minorgridcolor": "white",
                          "startlinecolor": "#2a3f5f"
                        },
                        "type": "carpet"
                      }
                    ],
                    "choropleth": [
                      {
                        "colorbar": {
                          "outlinewidth": 0,
                          "ticks": ""
                        },
                        "type": "choropleth"
                      }
                    ],
                    "contour": [
                      {
                        "colorbar": {
                          "outlinewidth": 0,
                          "ticks": ""
                        },
                        "colorscale": [
                          [
                            0,
                            "#0d0887"
                          ],
                          [
                            0.1111111111111111,
                            "#46039f"
                          ],
                          [
                            0.2222222222222222,
                            "#7201a8"
                          ],
                          [
                            0.3333333333333333,
                            "#9c179e"
                          ],
                          [
                            0.4444444444444444,
                            "#bd3786"
                          ],
                          [
                            0.5555555555555556,
                            "#d8576b"
                          ],
                          [
                            0.6666666666666666,
                            "#ed7953"
                          ],
                          [
                            0.7777777777777778,
                            "#fb9f3a"
                          ],
                          [
                            0.8888888888888888,
                            "#fdca26"
                          ],
                          [
                            1,
                            "#f0f921"
                          ]
                        ],
                        "type": "contour"
                      }
                    ],
                    "contourcarpet": [
                      {
                        "colorbar": {
                          "outlinewidth": 0,
                          "ticks": ""
                        },
                        "type": "contourcarpet"
                      }
                    ],
                    "heatmap": [
                      {
                        "colorbar": {
                          "outlinewidth": 0,
                          "ticks": ""
                        },
                        "colorscale": [
                          [
                            0,
                            "#0d0887"
                          ],
                          [
                            0.1111111111111111,
                            "#46039f"
                          ],
                          [
                            0.2222222222222222,
                            "#7201a8"
                          ],
                          [
                            0.3333333333333333,
                            "#9c179e"
                          ],
                          [
                            0.4444444444444444,
                            "#bd3786"
                          ],
                          [
                            0.5555555555555556,
                            "#d8576b"
                          ],
                          [
                            0.6666666666666666,
                            "#ed7953"
                          ],
                          [
                            0.7777777777777778,
                            "#fb9f3a"
                          ],
                          [
                            0.8888888888888888,
                            "#fdca26"
                          ],
                          [
                            1,
                            "#f0f921"
                          ]
                        ],
                        "type": "heatmap"
                      }
                    ],
                    "heatmapgl": [
                      {
                        "colorbar": {
                          "outlinewidth": 0,
                          "ticks": ""
                        },
                        "colorscale": [
                          [
                            0,
                            "#0d0887"
                          ],
                          [
                            0.1111111111111111,
                            "#46039f"
                          ],
                          [
                            0.2222222222222222,
                            "#7201a8"
                          ],
                          [
                            0.3333333333333333,
                            "#9c179e"
                          ],
                          [
                            0.4444444444444444,
                            "#bd3786"
                          ],
                          [
                            0.5555555555555556,
                            "#d8576b"
                          ],
                          [
                            0.6666666666666666,
                            "#ed7953"
                          ],
                          [
                            0.7777777777777778,
                            "#fb9f3a"
                          ],
                          [
                            0.8888888888888888,
                            "#fdca26"
                          ],
                          [
                            1,
                            "#f0f921"
                          ]
                        ],
                        "type": "heatmapgl"
                      }
                    ],
                    "histogram": [
                      {
                        "marker": {
                          "pattern": {
                            "fillmode": "overlay",
                            "size": 10,
                            "solidity": 0.2
                          }
                        },
                        "type": "histogram"
                      }
                    ],
                    "histogram2d": [
                      {
                        "colorbar": {
                          "outlinewidth": 0,
                          "ticks": ""
                        },
                        "colorscale": [
                          [
                            0,
                            "#0d0887"
                          ],
                          [
                            0.1111111111111111,
                            "#46039f"
                          ],
                          [
                            0.2222222222222222,
                            "#7201a8"
                          ],
                          [
                            0.3333333333333333,
                            "#9c179e"
                          ],
                          [
                            0.4444444444444444,
                            "#bd3786"
                          ],
                          [
                            0.5555555555555556,
                            "#d8576b"
                          ],
                          [
                            0.6666666666666666,
                            "#ed7953"
                          ],
                          [
                            0.7777777777777778,
                            "#fb9f3a"
                          ],
                          [
                            0.8888888888888888,
                            "#fdca26"
                          ],
                          [
                            1,
                            "#f0f921"
                          ]
                        ],
                        "type": "histogram2d"
                      }
                    ],
                    "histogram2dcontour": [
                      {
                        "colorbar": {
                          "outlinewidth": 0,
                          "ticks": ""
                        },
                        "colorscale": [
                          [
                            0,
                            "#0d0887"
                          ],
                          [
                            0.1111111111111111,
                            "#46039f"
                          ],
                          [
                            0.2222222222222222,
                            "#7201a8"
                          ],
                          [
                            0.3333333333333333,
                            "#9c179e"
                          ],
                          [
                            0.4444444444444444,
                            "#bd3786"
                          ],
                          [
                            0.5555555555555556,
                            "#d8576b"
                          ],
                          [
                            0.6666666666666666,
                            "#ed7953"
                          ],
                          [
                            0.7777777777777778,
                            "#fb9f3a"
                          ],
                          [
                            0.8888888888888888,
                            "#fdca26"
                          ],
                          [
                            1,
                            "#f0f921"
                          ]
                        ],
                        "type": "histogram2dcontour"
                      }
                    ],
                    "mesh3d": [
                      {
                        "colorbar": {
                          "outlinewidth": 0,
                          "ticks": ""
                        },
                        "type": "mesh3d"
                      }
                    ],
                    "parcoords": [
                      {
                        "line": {
                          "colorbar": {
                            "outlinewidth": 0,
                            "ticks": ""
                          }
                        },
                        "type": "parcoords"
                      }
                    ],
                    "pie": [
                      {
                        "automargin": true,
                        "type": "pie"
                      }
                    ],
                    "scatter": [
                      {
                        "fillpattern": {
                          "fillmode": "overlay",
                          "size": 10,
                          "solidity": 0.2
                        },
                        "type": "scatter"
                      }
                    ],
                    "scatter3d": [
                      {
                        "line": {
                          "colorbar": {
                            "outlinewidth": 0,
                            "ticks": ""
                          }
                        },
                        "marker": {
                          "colorbar": {
                            "outlinewidth": 0,
                            "ticks": ""
                          }
                        },
                        "type": "scatter3d"
                      }
                    ],
                    "scattercarpet": [
                      {
                        "marker": {
                          "colorbar": {
                            "outlinewidth": 0,
                            "ticks": ""
                          }
                        },
                        "type": "scattercarpet"
                      }
                    ],
                    "scattergeo": [
                      {
                        "marker": {
                          "colorbar": {
                            "outlinewidth": 0,
                            "ticks": ""
                          }
                        },
                        "type": "scattergeo"
                      }
                    ],
                    "scattergl": [
                      {
                        "marker": {
                          "colorbar": {
                            "outlinewidth": 0,
                            "ticks": ""
                          }
                        },
                        "type": "scattergl"
                      }
                    ],
                    "scattermapbox": [
                      {
                        "marker": {
                          "colorbar": {
                            "outlinewidth": 0,
                            "ticks": ""
                          }
                        },
                        "type": "scattermapbox"
                      }
                    ],
                    "scatterpolar": [
                      {
                        "marker": {
                          "colorbar": {
                            "outlinewidth": 0,
                            "ticks": ""
                          }
                        },
                        "type": "scatterpolar"
                      }
                    ],
                    "scatterpolargl": [
                      {
                        "marker": {
                          "colorbar": {
                            "outlinewidth": 0,
                            "ticks": ""
                          }
                        },
                        "type": "scatterpolargl"
                      }
                    ],
                    "scatterternary": [
                      {
                        "marker": {
                          "colorbar": {
                            "outlinewidth": 0,
                            "ticks": ""
                          }
                        },
                        "type": "scatterternary"
                      }
                    ],
                    "surface": [
                      {
                        "colorbar": {
                          "outlinewidth": 0,
                          "ticks": ""
                        },
                        "colorscale": [
                          [
                            0,
                            "#0d0887"
                          ],
                          [
                            0.1111111111111111,
                            "#46039f"
                          ],
                          [
                            0.2222222222222222,
                            "#7201a8"
                          ],
                          [
                            0.3333333333333333,
                            "#9c179e"
                          ],
                          [
                            0.4444444444444444,
                            "#bd3786"
                          ],
                          [
                            0.5555555555555556,
                            "#d8576b"
                          ],
                          [
                            0.6666666666666666,
                            "#ed7953"
                          ],
                          [
                            0.7777777777777778,
                            "#fb9f3a"
                          ],
                          [
                            0.8888888888888888,
                            "#fdca26"
                          ],
                          [
                            1,
                            "#f0f921"
                          ]
                        ],
                        "type": "surface"
                      }
                    ],
                    "table": [
                      {
                        "cells": {
                          "fill": {
                            "color": "#EBF0F8"
                          },
                          "line": {
                            "color": "white"
                          }
                        },
                        "header": {
                          "fill": {
                            "color": "#C8D4E3"
                          },
                          "line": {
                            "color": "white"
                          }
                        },
                        "type": "table"
                      }
                    ]
                  },
                  "layout": {
                    "annotationdefaults": {
                      "arrowcolor": "#2a3f5f",
                      "arrowhead": 0,
                      "arrowwidth": 1
                    },
                    "autotypenumbers": "strict",
                    "coloraxis": {
                      "colorbar": {
                        "outlinewidth": 0,
                        "ticks": ""
                      }
                    },
                    "colorscale": {
                      "diverging": [
                        [
                          0,
                          "#8e0152"
                        ],
                        [
                          0.1,
                          "#c51b7d"
                        ],
                        [
                          0.2,
                          "#de77ae"
                        ],
                        [
                          0.3,
                          "#f1b6da"
                        ],
                        [
                          0.4,
                          "#fde0ef"
                        ],
                        [
                          0.5,
                          "#f7f7f7"
                        ],
                        [
                          0.6,
                          "#e6f5d0"
                        ],
                        [
                          0.7,
                          "#b8e186"
                        ],
                        [
                          0.8,
                          "#7fbc41"
                        ],
                        [
                          0.9,
                          "#4d9221"
                        ],
                        [
                          1,
                          "#276419"
                        ]
                      ],
                      "sequential": [
                        [
                          0,
                          "#0d0887"
                        ],
                        [
                          0.1111111111111111,
                          "#46039f"
                        ],
                        [
                          0.2222222222222222,
                          "#7201a8"
                        ],
                        [
                          0.3333333333333333,
                          "#9c179e"
                        ],
                        [
                          0.4444444444444444,
                          "#bd3786"
                        ],
                        [
                          0.5555555555555556,
                          "#d8576b"
                        ],
                        [
                          0.6666666666666666,
                          "#ed7953"
                        ],
                        [
                          0.7777777777777778,
                          "#fb9f3a"
                        ],
                        [
                          0.8888888888888888,
                          "#fdca26"
                        ],
                        [
                          1,
                          "#f0f921"
                        ]
                      ],
                      "sequentialminus": [
                        [
                          0,
                          "#0d0887"
                        ],
                        [
                          0.1111111111111111,
                          "#46039f"
                        ],
                        [
                          0.2222222222222222,
                          "#7201a8"
                        ],
                        [
                          0.3333333333333333,
                          "#9c179e"
                        ],
                        [
                          0.4444444444444444,
                          "#bd3786"
                        ],
                        [
                          0.5555555555555556,
                          "#d8576b"
                        ],
                        [
                          0.6666666666666666,
                          "#ed7953"
                        ],
                        [
                          0.7777777777777778,
                          "#fb9f3a"
                        ],
                        [
                          0.8888888888888888,
                          "#fdca26"
                        ],
                        [
                          1,
                          "#f0f921"
                        ]
                      ]
                    },
                    "colorway": [
                      "#636efa",
                      "#EF553B",
                      "#00cc96",
                      "#ab63fa",
                      "#FFA15A",
                      "#19d3f3",
                      "#FF6692",
                      "#B6E880",
                      "#FF97FF",
                      "#FECB52"
                    ],
                    "font": {
                      "color": "#2a3f5f"
                    },
                    "geo": {
                      "bgcolor": "white",
                      "lakecolor": "white",
                      "landcolor": "#E5ECF6",
                      "showlakes": true,
                      "showland": true,
                      "subunitcolor": "white"
                    },
                    "hoverlabel": {
                      "align": "left"
                    },
                    "hovermode": "closest",
                    "mapbox": {
                      "style": "light"
                    },
                    "paper_bgcolor": "white",
                    "plot_bgcolor": "#E5ECF6",
                    "polar": {
                      "angularaxis": {
                        "gridcolor": "white",
                        "linecolor": "white",
                        "ticks": ""
                      },
                      "bgcolor": "#E5ECF6",
                      "radialaxis": {
                        "gridcolor": "white",
                        "linecolor": "white",
                        "ticks": ""
                      }
                    },
                    "scene": {
                      "xaxis": {
                        "backgroundcolor": "#E5ECF6",
                        "gridcolor": "white",
                        "gridwidth": 2,
                        "linecolor": "white",
                        "showbackground": true,
                        "ticks": "",
                        "zerolinecolor": "white"
                      },
                      "yaxis": {
                        "backgroundcolor": "#E5ECF6",
                        "gridcolor": "white",
                        "gridwidth": 2,
                        "linecolor": "white",
                        "showbackground": true,
                        "ticks": "",
                        "zerolinecolor": "white"
                      },
                      "zaxis": {
                        "backgroundcolor": "#E5ECF6",
                        "gridcolor": "white",
                        "gridwidth": 2,
                        "linecolor": "white",
                        "showbackground": true,
                        "ticks": "",
                        "zerolinecolor": "white"
                      }
                    },
                    "shapedefaults": {
                      "line": {
                        "color": "#2a3f5f"
                      }
                    },
                    "ternary": {
                      "aaxis": {
                        "gridcolor": "white",
                        "linecolor": "white",
                        "ticks": ""
                      },
                      "baxis": {
                        "gridcolor": "white",
                        "linecolor": "white",
                        "ticks": ""
                      },
                      "bgcolor": "#E5ECF6",
                      "caxis": {
                        "gridcolor": "white",
                        "linecolor": "white",
                        "ticks": ""
                      }
                    },
                    "title": {
                      "x": 0.05
                    },
                    "xaxis": {
                      "automargin": true,
                      "gridcolor": "white",
                      "linecolor": "white",
                      "ticks": "",
                      "title": {
                        "standoff": 15
                      },
                      "zerolinecolor": "white",
                      "zerolinewidth": 2
                    },
                    "yaxis": {
                      "automargin": true,
                      "gridcolor": "white",
                      "linecolor": "white",
                      "ticks": "",
                      "title": {
                        "standoff": 15
                      },
                      "zerolinecolor": "white",
                      "zerolinewidth": 2
                    }
                  }
                },
                "title": {
                  "text": "Relación entre Puntaje Total y y"
                },
                "xaxis": {
                  "anchor": "y",
                  "domain": [
                    0,
                    1
                  ],
                  "title": {
                    "text": "puntaje_total"
                  }
                },
                "yaxis": {
                  "anchor": "x",
                  "domain": [
                    0,
                    1
                  ],
                  "title": {
                    "text": "y"
                  }
                }
              }
            }
          },
          "metadata": {},
          "output_type": "display_data"
        }
      ],
      "source": [
        "df['y'] = 2 * df['puntaje_total'] + np.random.normal(0, 2, size=len(df))\n",
        "\n",
        "# Separar variables independientes y dependientes\n",
        "X = df[['puntaje_total']]  # Variable independiente\n",
        "y = df['y']    # Variable dependiente\n",
        "\n",
        "# Dividir en conjunto de entrenamiento y prueba\n",
        "X_train, X_test, y_train, y_test = train_test_split(X, y, test_size=0.2, random_state=42)\n",
        "\n",
        "# Crear modelo\n",
        "model = LinearRegression()\n",
        "\n",
        "# Entrenar modelo\n",
        "model.fit(X_train, y_train)\n",
        "\n",
        "# Predicciones\n",
        "y_pred = model.predict(X_test)\n",
        "\n",
        "# Métricas\n",
        "print(f\"Coeficiente: {model.coef_[0]:.2f}\")\n",
        "print(f\"Intersección: {model.intercept_:.2f}\")\n",
        "print(f\"Error cuadrático medio: {mean_squared_error(y_test, y_pred):.2f}\")\n",
        "print(f\"R^2: {r2_score(y_test, y_pred):.2f}\")\n",
        "\n",
        "# Visualización\n",
        "fig = px.scatter(df, x='puntaje_total', y='y', title='Relación entre Puntaje Total y y')\n",
        "fig.add_trace(px.line(x=X_test['puntaje_total'], y=y_pred, title='Regresión Lineal').data[0])\n",
        "fig.show()"
      ]
    },
    {
      "cell_type": "code",
      "execution_count": 29,
      "metadata": {
        "colab": {
          "base_uri": "https://localhost:8080/",
          "height": 542
        },
        "id": "LtTd_DhPHuvf",
        "outputId": "237caca5-2cb3-4370-d714-a416b6eb1413"
      },
      "outputs": [
        {
          "data": {
            "application/vnd.plotly.v1+json": {
              "config": {
                "plotlyServerURL": "https://plot.ly"
              },
              "data": [
                {
                  "coloraxis": "coloraxis",
                  "histfunc": "sum",
                  "hovertemplate": "puntaje_total=%{x}<br>y=%{y}<br>sum of count=%{z}<extra></extra>",
                  "name": "",
                  "texttemplate": "%{z}",
                  "type": "histogram2d",
                  "x": [
                    27,
                    55,
                    69,
                    70,
                    78,
                    78,
                    88,
                    89,
                    89,
                    90,
                    92,
                    93,
                    94,
                    95,
                    97,
                    103,
                    104,
                    104,
                    112,
                    113,
                    114,
                    115,
                    115,
                    116,
                    117,
                    117,
                    118,
                    119,
                    119,
                    119,
                    120,
                    120,
                    122,
                    122,
                    123,
                    123,
                    124,
                    126,
                    127,
                    129,
                    129,
                    130,
                    130,
                    130,
                    130,
                    131,
                    131,
                    132,
                    132,
                    133,
                    134,
                    134,
                    134,
                    134,
                    135,
                    135,
                    136,
                    136,
                    137,
                    138,
                    138,
                    138,
                    139,
                    139,
                    139,
                    139,
                    139,
                    140,
                    140,
                    140,
                    140,
                    141,
                    142,
                    142,
                    143,
                    143,
                    144,
                    144,
                    144,
                    144,
                    145,
                    145,
                    145,
                    145,
                    145,
                    145,
                    146,
                    146,
                    146,
                    146,
                    147,
                    147,
                    147,
                    147,
                    147,
                    147,
                    148,
                    148,
                    148,
                    148,
                    149,
                    149,
                    149,
                    150,
                    150,
                    150,
                    150,
                    150,
                    150,
                    151,
                    151,
                    151,
                    151,
                    151,
                    151,
                    151,
                    151,
                    152,
                    152,
                    152,
                    153,
                    153,
                    153,
                    153,
                    153,
                    154,
                    154,
                    154,
                    154,
                    154,
                    154,
                    155,
                    155,
                    155,
                    155,
                    155,
                    155,
                    155,
                    155,
                    155,
                    155,
                    156,
                    156,
                    156,
                    156,
                    156,
                    157,
                    157,
                    157,
                    157,
                    157,
                    158,
                    158,
                    158,
                    158,
                    158,
                    158,
                    158,
                    159,
                    159,
                    160,
                    160,
                    160,
                    160,
                    161,
                    161,
                    161,
                    161,
                    161,
                    161,
                    161,
                    162,
                    162,
                    162,
                    162,
                    162,
                    162,
                    163,
                    163,
                    163,
                    163,
                    163,
                    164,
                    164,
                    164,
                    164,
                    164,
                    164,
                    164,
                    164,
                    164,
                    165,
                    165,
                    166,
                    166,
                    166,
                    166,
                    166,
                    167,
                    167,
                    167,
                    167,
                    167,
                    167,
                    167,
                    168,
                    168,
                    168,
                    168,
                    168,
                    168,
                    168,
                    168,
                    168,
                    168,
                    169,
                    169,
                    169,
                    169,
                    169,
                    169,
                    170,
                    170,
                    170,
                    170,
                    171,
                    171,
                    171,
                    171,
                    172,
                    172,
                    172,
                    172,
                    172,
                    172,
                    172,
                    172,
                    173,
                    173,
                    173,
                    173,
                    173,
                    173,
                    173,
                    173,
                    174,
                    174,
                    175,
                    175,
                    175,
                    175,
                    175,
                    175,
                    175,
                    175,
                    175,
                    176,
                    176,
                    176,
                    176,
                    176,
                    176,
                    176,
                    176,
                    176,
                    177,
                    177,
                    177,
                    177,
                    177,
                    177,
                    177,
                    177,
                    177,
                    178,
                    178,
                    178,
                    178,
                    178,
                    178,
                    179,
                    179,
                    179,
                    179,
                    179,
                    180,
                    180,
                    180,
                    180,
                    180,
                    180,
                    180,
                    180,
                    181,
                    181,
                    181,
                    181,
                    181,
                    181,
                    181,
                    181,
                    182,
                    182,
                    182,
                    182,
                    182,
                    182,
                    182,
                    183,
                    183,
                    183,
                    183,
                    183,
                    183,
                    184,
                    184,
                    184,
                    184,
                    184,
                    184,
                    184,
                    184,
                    184,
                    185,
                    185,
                    185,
                    185,
                    185,
                    185,
                    185,
                    186,
                    186,
                    186,
                    186,
                    186,
                    186,
                    187,
                    187,
                    187,
                    187,
                    187,
                    187,
                    187,
                    187,
                    188,
                    188,
                    188,
                    188,
                    189,
                    189,
                    189,
                    189,
                    189,
                    189,
                    189,
                    190,
                    190,
                    190,
                    190,
                    190,
                    191,
                    191,
                    191,
                    191,
                    191,
                    191,
                    191,
                    191,
                    191,
                    192,
                    192,
                    192,
                    192,
                    192,
                    192,
                    192,
                    192,
                    192,
                    193,
                    193,
                    193,
                    193,
                    193,
                    193,
                    193,
                    193,
                    193,
                    193,
                    194,
                    194,
                    194,
                    194,
                    194,
                    194,
                    194,
                    194,
                    194,
                    194,
                    194,
                    195,
                    195,
                    195,
                    195,
                    195,
                    195,
                    195,
                    195,
                    195,
                    196,
                    196,
                    196,
                    196,
                    196,
                    196,
                    196,
                    196,
                    196,
                    197,
                    197,
                    197,
                    197,
                    197,
                    197,
                    197,
                    197,
                    198,
                    198,
                    198,
                    198,
                    198,
                    198,
                    198,
                    198,
                    198,
                    198,
                    198,
                    198,
                    198,
                    198,
                    199,
                    199,
                    199,
                    199,
                    199,
                    200,
                    200,
                    200,
                    200,
                    200,
                    200,
                    200,
                    200,
                    201,
                    201,
                    201,
                    201,
                    201,
                    201,
                    201,
                    201,
                    201,
                    202,
                    202,
                    202,
                    202,
                    202,
                    202,
                    203,
                    203,
                    203,
                    203,
                    203,
                    203,
                    203,
                    204,
                    204,
                    204,
                    204,
                    204,
                    204,
                    204,
                    204,
                    204,
                    204,
                    204,
                    204,
                    204,
                    204,
                    204,
                    205,
                    205,
                    205,
                    205,
                    205,
                    205,
                    205,
                    205,
                    205,
                    205,
                    205,
                    205,
                    205,
                    206,
                    206,
                    206,
                    206,
                    206,
                    206,
                    206,
                    206,
                    206,
                    206,
                    206,
                    206,
                    207,
                    207,
                    207,
                    207,
                    207,
                    207,
                    207,
                    207,
                    207,
                    207,
                    207,
                    207,
                    208,
                    208,
                    208,
                    208,
                    208,
                    208,
                    208,
                    208,
                    208,
                    208,
                    209,
                    209,
                    209,
                    209,
                    209,
                    210,
                    210,
                    210,
                    210,
                    210,
                    210,
                    210,
                    210,
                    210,
                    210,
                    210,
                    210,
                    211,
                    211,
                    211,
                    211,
                    211,
                    211,
                    211,
                    211,
                    212,
                    212,
                    212,
                    212,
                    212,
                    213,
                    213,
                    213,
                    213,
                    213,
                    213,
                    213,
                    213,
                    213,
                    213,
                    213,
                    214,
                    214,
                    214,
                    214,
                    214,
                    214,
                    214,
                    214,
                    214,
                    214,
                    214,
                    214,
                    215,
                    215,
                    215,
                    215,
                    215,
                    215,
                    215,
                    215,
                    216,
                    216,
                    216,
                    216,
                    216,
                    216,
                    216,
                    216,
                    216,
                    217,
                    217,
                    217,
                    217,
                    217,
                    217,
                    218,
                    218,
                    218,
                    218,
                    218,
                    218,
                    218,
                    218,
                    218,
                    218,
                    219,
                    219,
                    219,
                    219,
                    219,
                    219,
                    219,
                    219,
                    219,
                    219,
                    219,
                    219,
                    220,
                    220,
                    220,
                    220,
                    220,
                    220,
                    220,
                    220,
                    220,
                    220,
                    220,
                    221,
                    221,
                    221,
                    221,
                    221,
                    222,
                    222,
                    222,
                    222,
                    222,
                    222,
                    223,
                    223,
                    223,
                    223,
                    223,
                    223,
                    223,
                    223,
                    223,
                    223,
                    223,
                    223,
                    224,
                    224,
                    224,
                    224,
                    224,
                    224,
                    224,
                    224,
                    225,
                    225,
                    225,
                    225,
                    225,
                    225,
                    225,
                    225,
                    225,
                    225,
                    225,
                    226,
                    226,
                    226,
                    226,
                    226,
                    226,
                    226,
                    227,
                    227,
                    227,
                    227,
                    227,
                    227,
                    227,
                    227,
                    227,
                    227,
                    228,
                    228,
                    228,
                    228,
                    228,
                    228,
                    228,
                    228,
                    228,
                    229,
                    229,
                    229,
                    229,
                    229,
                    229,
                    230,
                    230,
                    230,
                    230,
                    230,
                    231,
                    231,
                    231,
                    231,
                    231,
                    231,
                    231,
                    231,
                    232,
                    232,
                    232,
                    232,
                    232,
                    232,
                    232,
                    232,
                    232,
                    232,
                    232,
                    232,
                    232,
                    232,
                    233,
                    233,
                    233,
                    233,
                    233,
                    234,
                    234,
                    234,
                    234,
                    234,
                    234,
                    234,
                    234,
                    234,
                    234,
                    235,
                    235,
                    235,
                    235,
                    235,
                    235,
                    235,
                    235,
                    235,
                    236,
                    236,
                    236,
                    236,
                    236,
                    236,
                    236,
                    236,
                    236,
                    237,
                    237,
                    237,
                    237,
                    237,
                    237,
                    237,
                    238,
                    238,
                    238,
                    238,
                    238,
                    238,
                    238,
                    238,
                    239,
                    239,
                    239,
                    239,
                    239,
                    239,
                    239,
                    239,
                    240,
                    240,
                    240,
                    240,
                    241,
                    241,
                    241,
                    241,
                    241,
                    241,
                    241,
                    241,
                    242,
                    242,
                    242,
                    242,
                    242,
                    242,
                    242,
                    243,
                    243,
                    244,
                    244,
                    244,
                    244,
                    244,
                    245,
                    245,
                    245,
                    245,
                    246,
                    246,
                    246,
                    247,
                    247,
                    247,
                    247,
                    247,
                    247,
                    247,
                    247,
                    247,
                    247,
                    247,
                    248,
                    248,
                    248,
                    248,
                    248,
                    248,
                    249,
                    249,
                    249,
                    249,
                    249,
                    249,
                    249,
                    249,
                    249,
                    250,
                    250,
                    250,
                    250,
                    250,
                    251,
                    251,
                    251,
                    251,
                    252,
                    252,
                    252,
                    252,
                    252,
                    252,
                    252,
                    252,
                    253,
                    253,
                    254,
                    254,
                    254,
                    254,
                    255,
                    255,
                    255,
                    255,
                    256,
                    256,
                    256,
                    256,
                    257,
                    257,
                    257,
                    257,
                    257,
                    257,
                    258,
                    258,
                    258,
                    258,
                    259,
                    259,
                    259,
                    259,
                    259,
                    259,
                    260,
                    260,
                    260,
                    260,
                    261,
                    261,
                    261,
                    261,
                    261,
                    261,
                    262,
                    262,
                    262,
                    262,
                    262,
                    263,
                    263,
                    264,
                    264,
                    265,
                    265,
                    265,
                    265,
                    265,
                    266,
                    266,
                    266,
                    266,
                    266,
                    267,
                    267,
                    267,
                    267,
                    267,
                    268,
                    268,
                    268,
                    268,
                    269,
                    269,
                    270,
                    270,
                    271,
                    271,
                    271,
                    272,
                    273,
                    274,
                    274,
                    274,
                    275,
                    275,
                    275,
                    275,
                    275,
                    275,
                    276,
                    276,
                    277,
                    278,
                    278,
                    278,
                    279,
                    280,
                    280,
                    281,
                    282,
                    282,
                    282,
                    282,
                    287,
                    287,
                    288,
                    289,
                    289,
                    289,
                    290,
                    291,
                    291,
                    292,
                    292,
                    293,
                    293,
                    293,
                    296,
                    296,
                    297,
                    297,
                    299,
                    300,
                    300,
                    300
                  ],
                  "xaxis": "x",
                  "xbingroup": "x",
                  "y": [
                    56.264537625442564,
                    113.76051407670695,
                    139.69503313586551,
                    142.0773110715261,
                    152.4044885783561,
                    155.6855482360933,
                    174.13031586609324,
                    174.2095354615196,
                    176.3560455554922,
                    180.9673214897751,
                    183.40924852164483,
                    189.1924768374407,
                    186.25018883188523,
                    190.91882097891482,
                    195.35128501406393,
                    205.15433207278855,
                    207.74311395027794,
                    208.54181365527015,
                    226.95275989528162,
                    222.63433114200146,
                    226.83634339658977,
                    226.2581776004531,
                    231.02004688997846,
                    229.06924488031828,
                    231.8005460451989,
                    239.2892281976139,
                    235.3153870231617,
                    237.66731016753246,
                    238.0371457799394,
                    238.97938184439153,
                    238.43982885996166,
                    241.57732985366374,
                    243.9620097643771,
                    246.62829472053866,
                    244.94449681257805,
                    247.19572199322624,
                    247.07036485189138,
                    253.14606169919298,
                    253.93307993079318,
                    256.8953229587038,
                    259.275391811716,
                    261.205900814479,
                    261.2838432197716,
                    261.7445070391097,
                    262.1068118816514,
                    260.3617285757877,
                    262.99386469572454,
                    260.22914558369376,
                    262.50990768493205,
                    266.4537788017043,
                    266.48276814639433,
                    266.770911628647,
                    267.751843869565,
                    268.62207917476104,
                    267.9560669382824,
                    275.27239125455026,
                    271.91462519576515,
                    272.2355016559294,
                    275.1147202160711,
                    277.83359303870697,
                    278.03653058219766,
                    278.40957195815724,
                    276.0542845185305,
                    277.83720740823,
                    277.89908957088693,
                    278.3011448828333,
                    278.3786458055588,
                    278.03276262688837,
                    279.526372706484,
                    280.1829572824189,
                    281.30332444254844,
                    283.2820550891583,
                    282.2675348157064,
                    283.4566966072705,
                    284.45473737849136,
                    285.780329285886,
                    286.88650701865026,
                    286.9306795239075,
                    287.0441158328671,
                    287.7253455763701,
                    285.1321265393176,
                    288.28341675750175,
                    288.9881966959706,
                    289.4659737381864,
                    289.5210522345255,
                    290.6933298562603,
                    288.94393307323116,
                    290.32754487968845,
                    293.84839797745155,
                    295.51885615031847,
                    290.8877021539037,
                    292.4896378588318,
                    293.19804777245287,
                    293.8745071279645,
                    295.00335387133316,
                    295.64640649036136,
                    295.8750933761201,
                    296.53600376105044,
                    296.99815798828104,
                    298.35684044705897,
                    293.328462207945,
                    298.26928871242495,
                    299.0302205691556,
                    297.82916878300637,
                    298.2578267499623,
                    300.32125440609974,
                    300.6426371886962,
                    303.31980081449404,
                    304.3350286538734,
                    300.00913537278547,
                    301.2533500793742,
                    301.6222011721723,
                    302.19165448692,
                    302.3960967492389,
                    303.02148217127456,
                    303.4228921748307,
                    303.64933147397613,
                    302.4477518708075,
                    304.3536469344779,
                    305.67970819373744,
                    304.19163769904293,
                    304.74062908780985,
                    304.85569824484884,
                    305.5082055468018,
                    309.16751460327185,
                    305.9877327494639,
                    307.09527039005496,
                    307.60713844344735,
                    307.68440825417713,
                    307.9398544392616,
                    308.00731001918035,
                    307.0745816631751,
                    307.0821161384427,
                    308.00301964886864,
                    308.73078062787465,
                    308.81781791856116,
                    308.9341162861532,
                    309.20963101432966,
                    311.1523817372873,
                    311.9683732075825,
                    312.42050969629,
                    311.6207682997139,
                    311.7803894640073,
                    311.96751745456135,
                    312.14370965218814,
                    313.05322608011267,
                    310.87981720099896,
                    315.78518451191115,
                    316.13031218227985,
                    316.1438935313911,
                    317.2687450591057,
                    314.8075390892276,
                    315.1774193885064,
                    316.0447237203725,
                    317.2764608561047,
                    317.5151000114269,
                    317.7413638239824,
                    317.98886528873186,
                    315.1634579178159,
                    317.26687665203076,
                    317.0441112712164,
                    320.3741969014125,
                    320.61931993631396,
                    323.2364873923653,
                    321.57727718650057,
                    322.00211292723645,
                    322.4059788594943,
                    323.05788355611577,
                    323.10336372819125,
                    323.9717236143968,
                    324.4268779435948,
                    320.70602266038276,
                    321.02633328808895,
                    324.08172903371263,
                    324.4531773427427,
                    324.6564890626345,
                    324.8455722965772,
                    324.5712205421951,
                    324.74949018024216,
                    325.241578058054,
                    326.0594070278568,
                    326.8947447732464,
                    328.1645011778133,
                    328.59084049311105,
                    328.7831971870642,
                    329.2529823271487,
                    329.5538595933846,
                    329.81681847837984,
                    330.26558425478885,
                    330.68334230263486,
                    332.00935817596365,
                    330.0426581961952,
                    331.4001285416612,
                    329.5772698785435,
                    331.4437101493809,
                    331.8564751316384,
                    333.1880420340493,
                    333.7121532150692,
                    330.8892011384972,
                    332.6342299358127,
                    333.4932955134085,
                    334.2618903936681,
                    334.3167164963712,
                    334.74850067024056,
                    334.82984832258785,
                    332.66008171015966,
                    333.3949305101742,
                    333.6240548520611,
                    334.1042416972061,
                    334.2621407157751,
                    335.0890491620176,
                    336.0594564326289,
                    338.6859091906827,
                    338.8362656164043,
                    339.0104121087185,
                    334.9998813873787,
                    335.64742199664124,
                    336.16635423612985,
                    336.38121256119865,
                    338.11647736179884,
                    338.3447649713185,
                    337.2623948558539,
                    337.9100614939121,
                    340.00197121263847,
                    340.6355078178934,
                    340.4669764882928,
                    340.81991030019174,
                    341.40094403773287,
                    341.5612086101691,
                    340.63526239010116,
                    341.55426622198394,
                    342.8168625638326,
                    343.09667466497945,
                    343.98183490148705,
                    344.182884959861,
                    346.6556305474955,
                    348.61707447354667,
                    342.76137341517807,
                    344.62786048276377,
                    344.8681937080839,
                    344.87862828234347,
                    346.105997845443,
                    347.23693228046193,
                    347.3774763964003,
                    349.49062740191937,
                    346.1872252637207,
                    349.98919086218285,
                    347.6952569208275,
                    347.76369225790967,
                    348.38575352009394,
                    349.000358821478,
                    350.5476170476567,
                    351.04823163098735,
                    351.1421485534647,
                    351.35214028344086,
                    351.95750866404336,
                    346.5657121300511,
                    350.0156417236723,
                    350.2141128680947,
                    350.61557214443667,
                    350.9265472704571,
                    351.2748045344896,
                    352.18497325582103,
                    352.93438352669295,
                    354.20119306794567,
                    350.75370316899654,
                    352.76143673298145,
                    353.3173404844632,
                    353.47323753226755,
                    353.5133187140649,
                    353.87921304423026,
                    354.96965086406925,
                    355.29263953189275,
                    356.6870158921301,
                    353.29959640115726,
                    353.3684706947526,
                    354.410209263238,
                    356.70259829784163,
                    357.6762155313019,
                    359.4396207067346,
                    356.8789269809077,
                    356.88791284943136,
                    357.4012249387319,
                    359.49001596610407,
                    359.65050675964653,
                    357.43478665267963,
                    357.93348379237386,
                    358.2240525115035,
                    358.3023133846747,
                    358.61485530624174,
                    358.67653044212483,
                    359.2806911682609,
                    359.5828635402501,
                    357.58746899602016,
                    360.7980098169131,
                    361.05759031539077,
                    361.4312015537952,
                    361.4722975286804,
                    361.6631297970645,
                    363.45643049848684,
                    364.4245780009302,
                    360.8757031979847,
                    365.0070424872936,
                    365.10007504051214,
                    366.4136042957019,
                    366.49006865964765,
                    366.74166213428026,
                    368.0075520735481,
                    363.6996445713747,
                    364.55615789740676,
                    364.74604069042715,
                    365.1855876001642,
                    367.2697191682006,
                    368.7251974533838,
                    363.1982623347178,
                    365.50529774572453,
                    366.3861828480041,
                    366.8198157855127,
                    368.26527195316874,
                    368.7570098573728,
                    369.86377186850757,
                    371.21901436020465,
                    371.85650269729183,
                    365.11790899854617,
                    365.4239032231114,
                    367.512354957788,
                    368.15842014827064,
                    369.97256971097585,
                    371.771263186296,
                    372.128313873384,
                    368.84808593499105,
                    370.82965451689455,
                    371.53999727379835,
                    371.9707864335043,
                    372.1428103818041,
                    372.22753918611795,
                    373.30685553832245,
                    373.6397599456522,
                    373.8073386683523,
                    374.6209975828921,
                    374.75472230139195,
                    375.339568143534,
                    375.93191404193533,
                    376.37907841758675,
                    372.9316945788935,
                    373.87088917062374,
                    376.2198637050811,
                    376.6401851661117,
                    374.2684870456327,
                    374.35964473835463,
                    375.6892069935273,
                    377.0591264498267,
                    378.0427981552116,
                    378.26651765626985,
                    380.2728195212253,
                    375.23715122992513,
                    377.25077179377547,
                    378.1696630210726,
                    378.59439526585936,
                    383.053145651027,
                    379.6750806800984,
                    379.78218846377354,
                    379.85281009127857,
                    380.12380630644617,
                    380.34578954884546,
                    382.4127757980884,
                    382.41574748826775,
                    383.9977883756072,
                    384.1229189039825,
                    381.37749540410795,
                    383.20476278133583,
                    383.6323577837474,
                    384.34850422211167,
                    384.3927049937551,
                    384.43442876581645,
                    386.89253057586706,
                    387.00950254534683,
                    387.2032639751057,
                    383.6439718964268,
                    383.83360713172783,
                    384.9655971482418,
                    386.1792593459477,
                    386.3809310776336,
                    386.54421598026033,
                    386.86862639810545,
                    387.07585267573535,
                    387.3652057878299,
                    388.09138213855135,
                    384.10808648740544,
                    386.2321863305595,
                    386.79473510233294,
                    386.8085481558902,
                    387.35632952716355,
                    388.3616291043731,
                    388.6663292264093,
                    389.1948615208873,
                    389.31763641494933,
                    389.4776862660261,
                    390.1023345028697,
                    387.74310138844265,
                    389.1494560536147,
                    389.59749260387844,
                    390.18066386421043,
                    390.7416030720565,
                    390.9592068723041,
                    391.2792548813182,
                    391.5716601498804,
                    393.2879323476536,
                    389.1145215482908,
                    390.0831252597516,
                    390.23666536455346,
                    390.51838279521553,
                    391.04163714468257,
                    391.8396466667821,
                    392.2699296116483,
                    393.5871587944893,
                    395.4681388789221,
                    389.9196866688736,
                    393.2129928793704,
                    393.37433483041883,
                    393.68241243127056,
                    393.7468496329387,
                    394.2614983343535,
                    395.8528738453453,
                    396.21155610513136,
                    392.86529800926155,
                    393.03974440638666,
                    393.9740252180282,
                    394.5261567076818,
                    394.77917978616756,
                    394.9523352234032,
                    395.7989136788884,
                    395.83407180275094,
                    396.4578446552162,
                    396.88455797015047,
                    397.24967053131473,
                    397.6042403133457,
                    398.4916385909561,
                    398.5831862849027,
                    395.1947720324799,
                    396.4340412407134,
                    396.82850100843365,
                    397.08929313288115,
                    400.1181564532371,
                    396.74856141436027,
                    397.99844770676754,
                    398.3874909594634,
                    398.3992259719017,
                    399.18909208541163,
                    402.93308891659655,
                    403.18361177830303,
                    405.436090526628,
                    399.0753981995062,
                    399.4080322830139,
                    399.51967589229133,
                    399.65353852391667,
                    401.34830768242074,
                    402.12395135393905,
                    402.7830450142233,
                    403.7110975151263,
                    404.0267863457522,
                    401.5803858293867,
                    403.1648485133857,
                    403.7327199449161,
                    405.4880375049737,
                    405.5536933768496,
                    407.34849480834436,
                    401.61303355269666,
                    403.73910256521833,
                    403.7436934951622,
                    404.0211907834322,
                    405.81919841025024,
                    406.1618946044321,
                    407.816463283256,
                    404.47367125563494,
                    405.17582910982094,
                    405.793627146763,
                    406.51007256432064,
                    406.7791756053926,
                    407.0496776587788,
                    407.2395900206145,
                    407.6240449160584,
                    407.7103489210156,
                    407.73374203541255,
                    407.94708079343377,
                    408.1357277832392,
                    409.1554004988879,
                    409.64797162725114,
                    409.8127275692857,
                    406.25882360969354,
                    406.7851338524142,
                    409.7947288993951,
                    410.0026577262858,
                    410.54247022581427,
                    410.7722553255949,
                    411.6800151641047,
                    411.98119485434376,
                    412.06607558778904,
                    412.3959490872803,
                    414.2450328227285,
                    414.28873139111175,
                    414.79308036809226,
                    409.8829825094389,
                    411.0272732282306,
                    411.36109604171486,
                    411.60996511345905,
                    412.27732969476875,
                    412.40013916572127,
                    412.52073607932505,
                    412.53703012795773,
                    413.2963331613102,
                    413.4986317965732,
                    415.5969831587529,
                    419.2268928962402,
                    410.6713726791058,
                    411.03054806599476,
                    412.6182308297889,
                    413.54720007280446,
                    413.6541009005827,
                    415.6096734517251,
                    415.7062202921577,
                    416.7223381504699,
                    417.12160323490815,
                    417.4967489856211,
                    418.4624335668367,
                    419.74221739022454,
                    411.73221521211303,
                    413.4080316509408,
                    415.5407987826733,
                    416.3639251594653,
                    416.8967830933679,
                    417.5119933818531,
                    417.9067155347259,
                    418.09486970450996,
                    419.1684545079651,
                    419.2237327115692,
                    414.76865402331583,
                    415.70596967464064,
                    418.04537598405307,
                    420.5794008480963,
                    422.2462582931541,
                    416.1630620888118,
                    417.79342656125,
                    418.6817559343384,
                    419.139085622214,
                    419.2486958141937,
                    419.9268497166903,
                    420.31058162336694,
                    420.64434397950373,
                    421.01813015077397,
                    421.3562886763007,
                    421.4476668508505,
                    421.7550050421332,
                    416.7852601840012,
                    420.10805081671907,
                    420.7929385574746,
                    421.3878792267344,
                    422.14394429380695,
                    423.8974226260946,
                    424.43052258198003,
                    424.81199893677643,
                    424.16535105689684,
                    424.796378976909,
                    426.7240887691631,
                    426.9415050840026,
                    428.2577653807154,
                    422.34193919734435,
                    423.34448340546226,
                    424.61233402505394,
                    425.02659046374674,
                    426.1222442828903,
                    426.3744126640519,
                    426.93848802898054,
                    426.9862199889881,
                    427.58569228470066,
                    427.86184316924493,
                    428.1167804373483,
                    425.5389483356855,
                    426.1643820932657,
                    427.362470637125,
                    427.364436241949,
                    427.61966865193415,
                    427.9709895178103,
                    428.1020255376351,
                    428.6936749037143,
                    428.8074569678952,
                    429.31575820696,
                    430.9508841982134,
                    431.0863662622399,
                    427.8544124144059,
                    427.87139826818384,
                    427.87597399499117,
                    428.5085698656288,
                    429.09408096501767,
                    429.82119799535093,
                    431.50010733280124,
                    433.48975940960435,
                    428.21497349056733,
                    428.9027010371907,
                    430.15030538247623,
                    431.23072551886236,
                    431.4249123867343,
                    431.4389467592936,
                    431.5889323655199,
                    431.8398280352855,
                    433.86763964459146,
                    433.3160066496339,
                    433.97845585848984,
                    435.52517451216943,
                    435.527817535709,
                    436.153930281817,
                    436.2325196614105,
                    432.6568878413416,
                    434.193808451113,
                    435.0832086342467,
                    435.17421615349804,
                    435.6897059686094,
                    435.8314500915818,
                    437.23989421305333,
                    437.7923599030909,
                    438.15303237722617,
                    438.40702140987287,
                    435.75157493185793,
                    435.84945781144825,
                    436.28083825793954,
                    436.6564896612771,
                    436.68467349497735,
                    437.278295003695,
                    437.36528843499167,
                    437.4837840895446,
                    437.96285307387285,
                    439.28296628647075,
                    440.0091846377771,
                    440.18100503070553,
                    438.15190120864827,
                    438.9229997395489,
                    439.2894991784855,
                    439.5333226246175,
                    439.699020973495,
                    440.09536734975126,
                    440.2612483259899,
                    440.87200035628086,
                    441.7716977844143,
                    442.17371942879186,
                    442.7305100859324,
                    437.8967760231612,
                    440.53521991642833,
                    442.7679216300302,
                    443.1051891668039,
                    444.5419264378043,
                    442.4986163710346,
                    443.936844924024,
                    445.2068565613202,
                    445.5572771063001,
                    445.6035298720735,
                    446.8195894124747,
                    441.6510118567229,
                    442.4683620171131,
                    442.52830932442924,
                    443.182676089236,
                    443.73478704015935,
                    443.8148982151644,
                    445.5624661328145,
                    445.869273589704,
                    446.05664652313897,
                    446.12113969452423,
                    448.2955766969889,
                    449.8039392273099,
                    444.04502282272864,
                    444.32217325730727,
                    446.7319486774147,
                    447.4318039910391,
                    447.7945753618184,
                    447.8012310860562,
                    450.7981477292397,
                    452.89000063819736,
                    448.2921575170969,
                    449.0635893948048,
                    449.3200826304189,
                    450.18413887449,
                    450.53246298682416,
                    450.57749821270164,
                    450.7764303670185,
                    451.73767057504995,
                    452.0296980094125,
                    452.1902894638611,
                    452.34461090154014,
                    448.7288802899851,
                    449.44835870833447,
                    449.6421459430819,
                    451.81585746144594,
                    452.1740668995534,
                    453.18030088223054,
                    454.25410477452914,
                    451.74008401646466,
                    452.0605227747581,
                    452.62676813801835,
                    453.6350077724551,
                    454.02097584476013,
                    454.27457439486153,
                    455.13542341878144,
                    455.2368800334246,
                    457.1746560356564,
                    459.4537199209649,
                    451.9888722551931,
                    452.6937280262284,
                    454.42130878654757,
                    455.399203889216,
                    456.03422747776466,
                    456.78273699294596,
                    457.1763678197784,
                    457.89740757559184,
                    458.1262144649882,
                    455.302910156104,
                    456.1466071101678,
                    457.8725323621454,
                    458.390978687795,
                    458.44931934171785,
                    459.0445033389867,
                    455.84943954308045,
                    456.16885919296715,
                    456.563380813085,
                    458.9431216334779,
                    465.0564531471925,
                    459.9598031858725,
                    461.29958071607973,
                    461.3143494998058,
                    461.5990809052814,
                    462.1495242774558,
                    462.51185462519163,
                    463.48150564387555,
                    465.768001040356,
                    459.55720733233767,
                    462.7119145151135,
                    462.79921813509804,
                    463.11893735601166,
                    463.18503584988247,
                    463.47188612395655,
                    463.6517142301997,
                    464.07880102367443,
                    464.4447950150405,
                    464.88596559444534,
                    465.1307680302884,
                    465.13551423097135,
                    465.27953663402565,
                    465.5127210840867,
                    462.7479955405505,
                    463.5157479295644,
                    464.4248193989965,
                    467.15376443568454,
                    467.16913567907187,
                    462.8348813957244,
                    465.26371384344617,
                    465.82455371610774,
                    466.70072590209696,
                    466.7744307645576,
                    467.42857304779164,
                    468.5627014092032,
                    468.81536065397853,
                    468.8898347852521,
                    468.89691036924114,
                    466.3804524091511,
                    467.5418966726792,
                    469.1349883559943,
                    470.3597151949348,
                    470.7862975323716,
                    471.11307711437775,
                    471.46302852158163,
                    471.69891569654146,
                    471.8964923859182,
                    469.5340506583759,
                    471.21698949161043,
                    471.26951134542537,
                    471.8954507841023,
                    472.1400249347669,
                    473.22093291428195,
                    473.2823408205632,
                    473.82887006682336,
                    473.9439860747598,
                    472.9983162460155,
                    473.81504763658273,
                    473.9912539087621,
                    474.4126218902751,
                    475.0128452175998,
                    475.85528199447134,
                    476.3444148609804,
                    474.99177966593845,
                    475.0361796052422,
                    475.79959964936586,
                    475.8016208668064,
                    476.1442538489663,
                    476.8777718280532,
                    479.1521172922237,
                    479.34279476750305,
                    473.9511944437746,
                    474.5684761501771,
                    476.99023839441713,
                    477.9987082373597,
                    478.2831480375162,
                    478.9168866177418,
                    479.09264844878174,
                    480.8344227451866,
                    476.9773144556502,
                    481.4983142015919,
                    482.35481413317376,
                    482.5661020246712,
                    480.90964612521077,
                    481.03407264973913,
                    481.2269702385049,
                    481.61623945652775,
                    481.65829008480154,
                    482.6681984852962,
                    483.93925784848545,
                    484.94739232566747,
                    480.14434509682235,
                    482.63773678830177,
                    483.93033773135846,
                    483.94655376676474,
                    484.0904605440952,
                    484.5453548053984,
                    485.6203847824672,
                    486.14074965070466,
                    488.4405422835635,
                    486.44290084058366,
                    486.8858773809353,
                    487.8964379312317,
                    489.29934454325246,
                    490.1537381006951,
                    490.07007080400837,
                    492.5910527198212,
                    492.62011972495185,
                    493.53833559579954,
                    490.3731044767659,
                    490.96763007891803,
                    493.56563839754347,
                    491.27100257453196,
                    491.77369784827977,
                    491.8822084886112,
                    493.8678691326205,
                    493.9005481936349,
                    494.36702130195533,
                    494.4774694524279,
                    494.96471341389383,
                    494.97231557327467,
                    495.72703215130065,
                    496.9280139775507,
                    495.006941514758,
                    495.4462174187466,
                    495.45120167788065,
                    496.2786960047592,
                    496.94677965944,
                    497.8559268483249,
                    493.85498944236133,
                    495.93597741486985,
                    497.22586455823085,
                    497.3960515423493,
                    497.510140059386,
                    499.23481182302584,
                    499.6349663563033,
                    500.436861860738,
                    502.49846051647586,
                    498.44311598772174,
                    498.74700678970015,
                    498.96783266245285,
                    499.2498775081605,
                    499.7107153943841,
                    499.1006913259887,
                    500.0043470192711,
                    501.7780292953518,
                    502.40339698524,
                    502.546415639539,
                    502.93345759997237,
                    503.4140108926133,
                    504.8506530386424,
                    505.06326874263226,
                    505.71598746975104,
                    506.06678235255987,
                    507.6778019325822,
                    500.89318236020677,
                    504.59681958693386,
                    504.36340183211513,
                    506.1529053889215,
                    510.0073878228758,
                    510.9735332626041,
                    507.5766195383553,
                    507.81569356816425,
                    507.9669001605416,
                    511.30174707617374,
                    509.5569661427214,
                    510.6429630050557,
                    511.74056426906776,
                    513.9783079451059,
                    512.2776700509988,
                    512.8664026871041,
                    513.1221894900307,
                    513.3678467664116,
                    516.1354455463563,
                    516.6799144402564,
                    514.9024174586274,
                    517.0754319803622,
                    517.2014736284235,
                    517.5044493212542,
                    515.7809566354252,
                    516.6702137661848,
                    517.5081681277763,
                    518.3633928991578,
                    520.1928777949125,
                    520.6514927446966,
                    517.4433486852901,
                    518.9249270821442,
                    519.5353497388314,
                    521.7752796666242,
                    518.8251996555924,
                    520.56926115398,
                    520.7339524786186,
                    520.7865706860069,
                    521.8534542314549,
                    523.5013143022578,
                    521.7701892815131,
                    523.510523061941,
                    523.8179375080985,
                    523.818409509004,
                    526.2167610560381,
                    523.4424196859891,
                    524.7435242618986,
                    527.5586756561131,
                    529.8130550337632,
                    529.7758486161592,
                    530.1190485093691,
                    530.579029201589,
                    531.2096162207056,
                    533.4983340889081,
                    530.3454951633403,
                    531.3842826726047,
                    532.1231353505848,
                    534.5869650009322,
                    535.0568382417416,
                    532.3291703033054,
                    532.7251132280181,
                    535.3592949226671,
                    536.5665900646653,
                    537.0473387129371,
                    531.6910405885775,
                    534.984798697894,
                    536.538214099328,
                    538.738955870717,
                    536.4932410613313,
                    536.9121543092002,
                    536.7994078565117,
                    537.0826843397286,
                    539.1923090582493,
                    542.8089404179575,
                    543.1531160449825,
                    541.137130694203,
                    545.8646879362449,
                    546.1659746046688,
                    547.4509934476873,
                    549.2940910394983,
                    548.0509530167257,
                    549.4608588664532,
                    549.7426931283237,
                    549.871085633889,
                    552.0687152025547,
                    554.322063193302,
                    549.9709594209578,
                    554.0968754329983,
                    552.127288491436,
                    553.6665052762716,
                    557.590216120833,
                    558.4429736082055,
                    560.0983998552581,
                    561.1905703124708,
                    562.6125895946354,
                    560.4789258470914,
                    562.4173871069644,
                    564.7610574576331,
                    564.8164320304041,
                    566.6388735894171,
                    571.803148073025,
                    575.439111089504,
                    576.4513578908013,
                    577.6830480037859,
                    578.3120801904045,
                    578.9265497024971,
                    579.4063034784222,
                    582.173708308525,
                    582.5296186948817,
                    581.557018781543,
                    584.8296441717981,
                    583.8841680032832,
                    585.2333488676048,
                    586.2972038435241,
                    589.9998622361925,
                    593.7025994365551,
                    594.4348614118626,
                    598.4953210918629,
                    597.1025413129353,
                    598.1072761758334,
                    600.2587110284084,
                    602.0551516961247
                  ],
                  "yaxis": "y",
                  "ybingroup": "y",
                  "z": [
                    1,
                    1,
                    1,
                    1,
                    1,
                    1,
                    1,
                    1,
                    1,
                    1,
                    1,
                    1,
                    1,
                    1,
                    1,
                    1,
                    1,
                    1,
                    1,
                    1,
                    1,
                    1,
                    1,
                    1,
                    1,
                    1,
                    1,
                    1,
                    1,
                    1,
                    1,
                    1,
                    1,
                    1,
                    1,
                    1,
                    1,
                    1,
                    1,
                    1,
                    1,
                    1,
                    1,
                    1,
                    1,
                    1,
                    1,
                    1,
                    1,
                    1,
                    1,
                    1,
                    1,
                    1,
                    1,
                    1,
                    1,
                    1,
                    1,
                    1,
                    1,
                    1,
                    1,
                    1,
                    1,
                    1,
                    1,
                    1,
                    1,
                    1,
                    1,
                    1,
                    1,
                    1,
                    1,
                    1,
                    1,
                    1,
                    1,
                    1,
                    1,
                    1,
                    1,
                    1,
                    1,
                    1,
                    1,
                    1,
                    1,
                    1,
                    1,
                    1,
                    1,
                    1,
                    1,
                    1,
                    1,
                    1,
                    1,
                    1,
                    1,
                    1,
                    1,
                    1,
                    1,
                    1,
                    1,
                    1,
                    1,
                    1,
                    1,
                    1,
                    1,
                    1,
                    1,
                    1,
                    1,
                    1,
                    1,
                    1,
                    1,
                    1,
                    1,
                    1,
                    1,
                    1,
                    1,
                    1,
                    1,
                    1,
                    1,
                    1,
                    1,
                    1,
                    1,
                    1,
                    1,
                    1,
                    1,
                    1,
                    1,
                    1,
                    1,
                    1,
                    1,
                    1,
                    1,
                    1,
                    1,
                    1,
                    1,
                    1,
                    1,
                    1,
                    1,
                    1,
                    1,
                    1,
                    1,
                    1,
                    1,
                    1,
                    1,
                    1,
                    1,
                    1,
                    1,
                    1,
                    1,
                    1,
                    1,
                    1,
                    1,
                    1,
                    1,
                    1,
                    1,
                    1,
                    1,
                    1,
                    1,
                    1,
                    1,
                    1,
                    1,
                    1,
                    1,
                    1,
                    1,
                    1,
                    1,
                    1,
                    1,
                    1,
                    1,
                    1,
                    1,
                    1,
                    1,
                    1,
                    1,
                    1,
                    1,
                    1,
                    1,
                    1,
                    1,
                    1,
                    1,
                    1,
                    1,
                    1,
                    1,
                    1,
                    1,
                    1,
                    1,
                    1,
                    1,
                    1,
                    1,
                    1,
                    1,
                    1,
                    1,
                    1,
                    1,
                    1,
                    1,
                    1,
                    1,
                    1,
                    1,
                    1,
                    1,
                    1,
                    1,
                    1,
                    1,
                    1,
                    1,
                    1,
                    1,
                    1,
                    1,
                    1,
                    1,
                    1,
                    1,
                    1,
                    1,
                    1,
                    1,
                    1,
                    1,
                    1,
                    1,
                    1,
                    1,
                    1,
                    1,
                    1,
                    1,
                    1,
                    1,
                    1,
                    1,
                    1,
                    1,
                    1,
                    1,
                    1,
                    1,
                    1,
                    1,
                    1,
                    1,
                    1,
                    1,
                    1,
                    1,
                    1,
                    1,
                    1,
                    1,
                    1,
                    1,
                    1,
                    1,
                    1,
                    1,
                    1,
                    1,
                    1,
                    1,
                    1,
                    1,
                    1,
                    1,
                    1,
                    1,
                    1,
                    1,
                    1,
                    1,
                    1,
                    1,
                    1,
                    1,
                    1,
                    1,
                    1,
                    1,
                    1,
                    1,
                    1,
                    1,
                    1,
                    1,
                    1,
                    1,
                    1,
                    1,
                    1,
                    1,
                    1,
                    1,
                    1,
                    1,
                    1,
                    1,
                    1,
                    1,
                    1,
                    1,
                    1,
                    1,
                    1,
                    1,
                    1,
                    1,
                    1,
                    1,
                    1,
                    1,
                    1,
                    1,
                    1,
                    1,
                    1,
                    1,
                    1,
                    1,
                    1,
                    1,
                    1,
                    1,
                    1,
                    1,
                    1,
                    1,
                    1,
                    1,
                    1,
                    1,
                    1,
                    1,
                    1,
                    1,
                    1,
                    1,
                    1,
                    1,
                    1,
                    1,
                    1,
                    1,
                    1,
                    1,
                    1,
                    1,
                    1,
                    1,
                    1,
                    1,
                    1,
                    1,
                    1,
                    1,
                    1,
                    1,
                    1,
                    1,
                    1,
                    1,
                    1,
                    1,
                    1,
                    1,
                    1,
                    1,
                    1,
                    1,
                    1,
                    1,
                    1,
                    1,
                    1,
                    1,
                    1,
                    1,
                    1,
                    1,
                    1,
                    1,
                    1,
                    1,
                    1,
                    1,
                    1,
                    1,
                    1,
                    1,
                    1,
                    1,
                    1,
                    1,
                    1,
                    1,
                    1,
                    1,
                    1,
                    1,
                    1,
                    1,
                    1,
                    1,
                    1,
                    1,
                    1,
                    1,
                    1,
                    1,
                    1,
                    1,
                    1,
                    1,
                    1,
                    1,
                    1,
                    1,
                    1,
                    1,
                    1,
                    1,
                    1,
                    1,
                    1,
                    1,
                    1,
                    1,
                    1,
                    1,
                    1,
                    1,
                    1,
                    1,
                    1,
                    1,
                    1,
                    1,
                    1,
                    1,
                    1,
                    1,
                    1,
                    1,
                    1,
                    1,
                    1,
                    1,
                    1,
                    1,
                    1,
                    1,
                    1,
                    1,
                    1,
                    1,
                    1,
                    1,
                    1,
                    1,
                    1,
                    1,
                    1,
                    1,
                    1,
                    1,
                    1,
                    1,
                    1,
                    1,
                    1,
                    1,
                    1,
                    1,
                    1,
                    1,
                    1,
                    1,
                    1,
                    1,
                    1,
                    1,
                    1,
                    1,
                    1,
                    1,
                    1,
                    1,
                    1,
                    1,
                    1,
                    1,
                    1,
                    1,
                    1,
                    1,
                    1,
                    1,
                    1,
                    1,
                    1,
                    1,
                    1,
                    1,
                    1,
                    1,
                    1,
                    1,
                    1,
                    1,
                    1,
                    1,
                    1,
                    1,
                    1,
                    1,
                    1,
                    1,
                    1,
                    1,
                    1,
                    1,
                    1,
                    1,
                    1,
                    1,
                    1,
                    1,
                    1,
                    1,
                    1,
                    1,
                    1,
                    1,
                    1,
                    1,
                    1,
                    1,
                    1,
                    1,
                    1,
                    1,
                    1,
                    1,
                    1,
                    1,
                    1,
                    1,
                    1,
                    1,
                    1,
                    1,
                    1,
                    1,
                    1,
                    1,
                    1,
                    1,
                    1,
                    1,
                    1,
                    1,
                    1,
                    1,
                    1,
                    1,
                    1,
                    1,
                    1,
                    1,
                    1,
                    1,
                    1,
                    1,
                    1,
                    1,
                    1,
                    1,
                    1,
                    1,
                    1,
                    1,
                    1,
                    1,
                    1,
                    1,
                    1,
                    1,
                    1,
                    1,
                    1,
                    1,
                    1,
                    1,
                    1,
                    1,
                    1,
                    1,
                    1,
                    1,
                    1,
                    1,
                    1,
                    1,
                    1,
                    1,
                    1,
                    1,
                    1,
                    1,
                    1,
                    1,
                    1,
                    1,
                    1,
                    1,
                    1,
                    1,
                    1,
                    1,
                    1,
                    1,
                    1,
                    1,
                    1,
                    1,
                    1,
                    1,
                    1,
                    1,
                    1,
                    1,
                    1,
                    1,
                    1,
                    1,
                    1,
                    1,
                    1,
                    1,
                    1,
                    1,
                    1,
                    1,
                    1,
                    1,
                    1,
                    1,
                    1,
                    1,
                    1,
                    1,
                    1,
                    1,
                    1,
                    1,
                    1,
                    1,
                    1,
                    1,
                    1,
                    1,
                    1,
                    1,
                    1,
                    1,
                    1,
                    1,
                    1,
                    1,
                    1,
                    1,
                    1,
                    1,
                    1,
                    1,
                    1,
                    1,
                    1,
                    1,
                    1,
                    1,
                    1,
                    1,
                    1,
                    1,
                    1,
                    1,
                    1,
                    1,
                    1,
                    1,
                    1,
                    1,
                    1,
                    1,
                    1,
                    1,
                    1,
                    1,
                    1,
                    1,
                    1,
                    1,
                    1,
                    1,
                    1,
                    1,
                    1,
                    1,
                    1,
                    1,
                    1,
                    1,
                    1,
                    1,
                    1,
                    1,
                    1,
                    1,
                    1,
                    1,
                    1,
                    1,
                    1,
                    1,
                    1,
                    1,
                    1,
                    1,
                    1,
                    1,
                    1,
                    1,
                    1,
                    1,
                    1,
                    1,
                    1,
                    1,
                    1,
                    1,
                    1,
                    1,
                    1,
                    1,
                    1,
                    1,
                    1,
                    1,
                    1,
                    1,
                    1,
                    1,
                    1,
                    1,
                    1,
                    1,
                    1,
                    1,
                    1,
                    1,
                    1,
                    1,
                    1,
                    1,
                    1,
                    1,
                    1,
                    1,
                    1,
                    1,
                    1,
                    1,
                    1,
                    1,
                    1,
                    1,
                    1,
                    1,
                    1,
                    1,
                    1,
                    1,
                    1,
                    1,
                    1,
                    1,
                    1,
                    1,
                    1,
                    1,
                    1,
                    1,
                    1,
                    1,
                    1,
                    1,
                    1,
                    1,
                    1,
                    1,
                    1,
                    1,
                    1,
                    1,
                    1,
                    1,
                    1,
                    1,
                    1,
                    1,
                    1,
                    1,
                    1,
                    1,
                    1,
                    1,
                    1,
                    1,
                    1,
                    1,
                    1,
                    1,
                    1,
                    1,
                    1,
                    1,
                    1,
                    1,
                    1,
                    1,
                    1,
                    1,
                    1,
                    1,
                    1,
                    1,
                    1,
                    1,
                    1,
                    1,
                    1,
                    1,
                    1,
                    1,
                    1,
                    1,
                    1,
                    1,
                    1,
                    1,
                    1,
                    1,
                    1,
                    1,
                    1,
                    1,
                    1,
                    1,
                    1,
                    1,
                    1,
                    1,
                    1,
                    1,
                    1,
                    1,
                    1,
                    1,
                    1,
                    1,
                    1,
                    1,
                    1,
                    1,
                    1,
                    1,
                    1,
                    1,
                    1,
                    1,
                    1,
                    1,
                    1,
                    1,
                    1,
                    1,
                    1,
                    1,
                    1,
                    1,
                    1,
                    1,
                    1,
                    1,
                    1,
                    1,
                    1,
                    1,
                    1,
                    1,
                    1,
                    1,
                    1,
                    1,
                    1,
                    1,
                    1,
                    1,
                    1,
                    1,
                    1,
                    1,
                    1,
                    1,
                    1,
                    1,
                    1,
                    1,
                    1,
                    1,
                    1,
                    1,
                    1,
                    1,
                    1,
                    1,
                    1,
                    1,
                    1,
                    1,
                    1,
                    1,
                    1,
                    1,
                    1,
                    1,
                    1,
                    1,
                    1,
                    1,
                    1,
                    1,
                    1,
                    1,
                    1,
                    1,
                    1,
                    1,
                    1,
                    1,
                    1,
                    1,
                    1,
                    1,
                    1,
                    1,
                    1,
                    1,
                    1,
                    1,
                    1,
                    1,
                    1,
                    1,
                    1
                  ]
                }
              ],
              "layout": {
                "coloraxis": {
                  "colorbar": {
                    "title": {
                      "text": "sum of count"
                    }
                  },
                  "colorscale": [
                    [
                      0,
                      "#0d0887"
                    ],
                    [
                      0.1111111111111111,
                      "#46039f"
                    ],
                    [
                      0.2222222222222222,
                      "#7201a8"
                    ],
                    [
                      0.3333333333333333,
                      "#9c179e"
                    ],
                    [
                      0.4444444444444444,
                      "#bd3786"
                    ],
                    [
                      0.5555555555555556,
                      "#d8576b"
                    ],
                    [
                      0.6666666666666666,
                      "#ed7953"
                    ],
                    [
                      0.7777777777777778,
                      "#fb9f3a"
                    ],
                    [
                      0.8888888888888888,
                      "#fdca26"
                    ],
                    [
                      1,
                      "#f0f921"
                    ]
                  ]
                },
                "legend": {
                  "tracegroupgap": 0
                },
                "template": {
                  "data": {
                    "bar": [
                      {
                        "error_x": {
                          "color": "#2a3f5f"
                        },
                        "error_y": {
                          "color": "#2a3f5f"
                        },
                        "marker": {
                          "line": {
                            "color": "#E5ECF6",
                            "width": 0.5
                          },
                          "pattern": {
                            "fillmode": "overlay",
                            "size": 10,
                            "solidity": 0.2
                          }
                        },
                        "type": "bar"
                      }
                    ],
                    "barpolar": [
                      {
                        "marker": {
                          "line": {
                            "color": "#E5ECF6",
                            "width": 0.5
                          },
                          "pattern": {
                            "fillmode": "overlay",
                            "size": 10,
                            "solidity": 0.2
                          }
                        },
                        "type": "barpolar"
                      }
                    ],
                    "carpet": [
                      {
                        "aaxis": {
                          "endlinecolor": "#2a3f5f",
                          "gridcolor": "white",
                          "linecolor": "white",
                          "minorgridcolor": "white",
                          "startlinecolor": "#2a3f5f"
                        },
                        "baxis": {
                          "endlinecolor": "#2a3f5f",
                          "gridcolor": "white",
                          "linecolor": "white",
                          "minorgridcolor": "white",
                          "startlinecolor": "#2a3f5f"
                        },
                        "type": "carpet"
                      }
                    ],
                    "choropleth": [
                      {
                        "colorbar": {
                          "outlinewidth": 0,
                          "ticks": ""
                        },
                        "type": "choropleth"
                      }
                    ],
                    "contour": [
                      {
                        "colorbar": {
                          "outlinewidth": 0,
                          "ticks": ""
                        },
                        "colorscale": [
                          [
                            0,
                            "#0d0887"
                          ],
                          [
                            0.1111111111111111,
                            "#46039f"
                          ],
                          [
                            0.2222222222222222,
                            "#7201a8"
                          ],
                          [
                            0.3333333333333333,
                            "#9c179e"
                          ],
                          [
                            0.4444444444444444,
                            "#bd3786"
                          ],
                          [
                            0.5555555555555556,
                            "#d8576b"
                          ],
                          [
                            0.6666666666666666,
                            "#ed7953"
                          ],
                          [
                            0.7777777777777778,
                            "#fb9f3a"
                          ],
                          [
                            0.8888888888888888,
                            "#fdca26"
                          ],
                          [
                            1,
                            "#f0f921"
                          ]
                        ],
                        "type": "contour"
                      }
                    ],
                    "contourcarpet": [
                      {
                        "colorbar": {
                          "outlinewidth": 0,
                          "ticks": ""
                        },
                        "type": "contourcarpet"
                      }
                    ],
                    "heatmap": [
                      {
                        "colorbar": {
                          "outlinewidth": 0,
                          "ticks": ""
                        },
                        "colorscale": [
                          [
                            0,
                            "#0d0887"
                          ],
                          [
                            0.1111111111111111,
                            "#46039f"
                          ],
                          [
                            0.2222222222222222,
                            "#7201a8"
                          ],
                          [
                            0.3333333333333333,
                            "#9c179e"
                          ],
                          [
                            0.4444444444444444,
                            "#bd3786"
                          ],
                          [
                            0.5555555555555556,
                            "#d8576b"
                          ],
                          [
                            0.6666666666666666,
                            "#ed7953"
                          ],
                          [
                            0.7777777777777778,
                            "#fb9f3a"
                          ],
                          [
                            0.8888888888888888,
                            "#fdca26"
                          ],
                          [
                            1,
                            "#f0f921"
                          ]
                        ],
                        "type": "heatmap"
                      }
                    ],
                    "heatmapgl": [
                      {
                        "colorbar": {
                          "outlinewidth": 0,
                          "ticks": ""
                        },
                        "colorscale": [
                          [
                            0,
                            "#0d0887"
                          ],
                          [
                            0.1111111111111111,
                            "#46039f"
                          ],
                          [
                            0.2222222222222222,
                            "#7201a8"
                          ],
                          [
                            0.3333333333333333,
                            "#9c179e"
                          ],
                          [
                            0.4444444444444444,
                            "#bd3786"
                          ],
                          [
                            0.5555555555555556,
                            "#d8576b"
                          ],
                          [
                            0.6666666666666666,
                            "#ed7953"
                          ],
                          [
                            0.7777777777777778,
                            "#fb9f3a"
                          ],
                          [
                            0.8888888888888888,
                            "#fdca26"
                          ],
                          [
                            1,
                            "#f0f921"
                          ]
                        ],
                        "type": "heatmapgl"
                      }
                    ],
                    "histogram": [
                      {
                        "marker": {
                          "pattern": {
                            "fillmode": "overlay",
                            "size": 10,
                            "solidity": 0.2
                          }
                        },
                        "type": "histogram"
                      }
                    ],
                    "histogram2d": [
                      {
                        "colorbar": {
                          "outlinewidth": 0,
                          "ticks": ""
                        },
                        "colorscale": [
                          [
                            0,
                            "#0d0887"
                          ],
                          [
                            0.1111111111111111,
                            "#46039f"
                          ],
                          [
                            0.2222222222222222,
                            "#7201a8"
                          ],
                          [
                            0.3333333333333333,
                            "#9c179e"
                          ],
                          [
                            0.4444444444444444,
                            "#bd3786"
                          ],
                          [
                            0.5555555555555556,
                            "#d8576b"
                          ],
                          [
                            0.6666666666666666,
                            "#ed7953"
                          ],
                          [
                            0.7777777777777778,
                            "#fb9f3a"
                          ],
                          [
                            0.8888888888888888,
                            "#fdca26"
                          ],
                          [
                            1,
                            "#f0f921"
                          ]
                        ],
                        "type": "histogram2d"
                      }
                    ],
                    "histogram2dcontour": [
                      {
                        "colorbar": {
                          "outlinewidth": 0,
                          "ticks": ""
                        },
                        "colorscale": [
                          [
                            0,
                            "#0d0887"
                          ],
                          [
                            0.1111111111111111,
                            "#46039f"
                          ],
                          [
                            0.2222222222222222,
                            "#7201a8"
                          ],
                          [
                            0.3333333333333333,
                            "#9c179e"
                          ],
                          [
                            0.4444444444444444,
                            "#bd3786"
                          ],
                          [
                            0.5555555555555556,
                            "#d8576b"
                          ],
                          [
                            0.6666666666666666,
                            "#ed7953"
                          ],
                          [
                            0.7777777777777778,
                            "#fb9f3a"
                          ],
                          [
                            0.8888888888888888,
                            "#fdca26"
                          ],
                          [
                            1,
                            "#f0f921"
                          ]
                        ],
                        "type": "histogram2dcontour"
                      }
                    ],
                    "mesh3d": [
                      {
                        "colorbar": {
                          "outlinewidth": 0,
                          "ticks": ""
                        },
                        "type": "mesh3d"
                      }
                    ],
                    "parcoords": [
                      {
                        "line": {
                          "colorbar": {
                            "outlinewidth": 0,
                            "ticks": ""
                          }
                        },
                        "type": "parcoords"
                      }
                    ],
                    "pie": [
                      {
                        "automargin": true,
                        "type": "pie"
                      }
                    ],
                    "scatter": [
                      {
                        "fillpattern": {
                          "fillmode": "overlay",
                          "size": 10,
                          "solidity": 0.2
                        },
                        "type": "scatter"
                      }
                    ],
                    "scatter3d": [
                      {
                        "line": {
                          "colorbar": {
                            "outlinewidth": 0,
                            "ticks": ""
                          }
                        },
                        "marker": {
                          "colorbar": {
                            "outlinewidth": 0,
                            "ticks": ""
                          }
                        },
                        "type": "scatter3d"
                      }
                    ],
                    "scattercarpet": [
                      {
                        "marker": {
                          "colorbar": {
                            "outlinewidth": 0,
                            "ticks": ""
                          }
                        },
                        "type": "scattercarpet"
                      }
                    ],
                    "scattergeo": [
                      {
                        "marker": {
                          "colorbar": {
                            "outlinewidth": 0,
                            "ticks": ""
                          }
                        },
                        "type": "scattergeo"
                      }
                    ],
                    "scattergl": [
                      {
                        "marker": {
                          "colorbar": {
                            "outlinewidth": 0,
                            "ticks": ""
                          }
                        },
                        "type": "scattergl"
                      }
                    ],
                    "scattermapbox": [
                      {
                        "marker": {
                          "colorbar": {
                            "outlinewidth": 0,
                            "ticks": ""
                          }
                        },
                        "type": "scattermapbox"
                      }
                    ],
                    "scatterpolar": [
                      {
                        "marker": {
                          "colorbar": {
                            "outlinewidth": 0,
                            "ticks": ""
                          }
                        },
                        "type": "scatterpolar"
                      }
                    ],
                    "scatterpolargl": [
                      {
                        "marker": {
                          "colorbar": {
                            "outlinewidth": 0,
                            "ticks": ""
                          }
                        },
                        "type": "scatterpolargl"
                      }
                    ],
                    "scatterternary": [
                      {
                        "marker": {
                          "colorbar": {
                            "outlinewidth": 0,
                            "ticks": ""
                          }
                        },
                        "type": "scatterternary"
                      }
                    ],
                    "surface": [
                      {
                        "colorbar": {
                          "outlinewidth": 0,
                          "ticks": ""
                        },
                        "colorscale": [
                          [
                            0,
                            "#0d0887"
                          ],
                          [
                            0.1111111111111111,
                            "#46039f"
                          ],
                          [
                            0.2222222222222222,
                            "#7201a8"
                          ],
                          [
                            0.3333333333333333,
                            "#9c179e"
                          ],
                          [
                            0.4444444444444444,
                            "#bd3786"
                          ],
                          [
                            0.5555555555555556,
                            "#d8576b"
                          ],
                          [
                            0.6666666666666666,
                            "#ed7953"
                          ],
                          [
                            0.7777777777777778,
                            "#fb9f3a"
                          ],
                          [
                            0.8888888888888888,
                            "#fdca26"
                          ],
                          [
                            1,
                            "#f0f921"
                          ]
                        ],
                        "type": "surface"
                      }
                    ],
                    "table": [
                      {
                        "cells": {
                          "fill": {
                            "color": "#EBF0F8"
                          },
                          "line": {
                            "color": "white"
                          }
                        },
                        "header": {
                          "fill": {
                            "color": "#C8D4E3"
                          },
                          "line": {
                            "color": "white"
                          }
                        },
                        "type": "table"
                      }
                    ]
                  },
                  "layout": {
                    "annotationdefaults": {
                      "arrowcolor": "#2a3f5f",
                      "arrowhead": 0,
                      "arrowwidth": 1
                    },
                    "autotypenumbers": "strict",
                    "coloraxis": {
                      "colorbar": {
                        "outlinewidth": 0,
                        "ticks": ""
                      }
                    },
                    "colorscale": {
                      "diverging": [
                        [
                          0,
                          "#8e0152"
                        ],
                        [
                          0.1,
                          "#c51b7d"
                        ],
                        [
                          0.2,
                          "#de77ae"
                        ],
                        [
                          0.3,
                          "#f1b6da"
                        ],
                        [
                          0.4,
                          "#fde0ef"
                        ],
                        [
                          0.5,
                          "#f7f7f7"
                        ],
                        [
                          0.6,
                          "#e6f5d0"
                        ],
                        [
                          0.7,
                          "#b8e186"
                        ],
                        [
                          0.8,
                          "#7fbc41"
                        ],
                        [
                          0.9,
                          "#4d9221"
                        ],
                        [
                          1,
                          "#276419"
                        ]
                      ],
                      "sequential": [
                        [
                          0,
                          "#0d0887"
                        ],
                        [
                          0.1111111111111111,
                          "#46039f"
                        ],
                        [
                          0.2222222222222222,
                          "#7201a8"
                        ],
                        [
                          0.3333333333333333,
                          "#9c179e"
                        ],
                        [
                          0.4444444444444444,
                          "#bd3786"
                        ],
                        [
                          0.5555555555555556,
                          "#d8576b"
                        ],
                        [
                          0.6666666666666666,
                          "#ed7953"
                        ],
                        [
                          0.7777777777777778,
                          "#fb9f3a"
                        ],
                        [
                          0.8888888888888888,
                          "#fdca26"
                        ],
                        [
                          1,
                          "#f0f921"
                        ]
                      ],
                      "sequentialminus": [
                        [
                          0,
                          "#0d0887"
                        ],
                        [
                          0.1111111111111111,
                          "#46039f"
                        ],
                        [
                          0.2222222222222222,
                          "#7201a8"
                        ],
                        [
                          0.3333333333333333,
                          "#9c179e"
                        ],
                        [
                          0.4444444444444444,
                          "#bd3786"
                        ],
                        [
                          0.5555555555555556,
                          "#d8576b"
                        ],
                        [
                          0.6666666666666666,
                          "#ed7953"
                        ],
                        [
                          0.7777777777777778,
                          "#fb9f3a"
                        ],
                        [
                          0.8888888888888888,
                          "#fdca26"
                        ],
                        [
                          1,
                          "#f0f921"
                        ]
                      ]
                    },
                    "colorway": [
                      "#636efa",
                      "#EF553B",
                      "#00cc96",
                      "#ab63fa",
                      "#FFA15A",
                      "#19d3f3",
                      "#FF6692",
                      "#B6E880",
                      "#FF97FF",
                      "#FECB52"
                    ],
                    "font": {
                      "color": "#2a3f5f"
                    },
                    "geo": {
                      "bgcolor": "white",
                      "lakecolor": "white",
                      "landcolor": "#E5ECF6",
                      "showlakes": true,
                      "showland": true,
                      "subunitcolor": "white"
                    },
                    "hoverlabel": {
                      "align": "left"
                    },
                    "hovermode": "closest",
                    "mapbox": {
                      "style": "light"
                    },
                    "paper_bgcolor": "white",
                    "plot_bgcolor": "#E5ECF6",
                    "polar": {
                      "angularaxis": {
                        "gridcolor": "white",
                        "linecolor": "white",
                        "ticks": ""
                      },
                      "bgcolor": "#E5ECF6",
                      "radialaxis": {
                        "gridcolor": "white",
                        "linecolor": "white",
                        "ticks": ""
                      }
                    },
                    "scene": {
                      "xaxis": {
                        "backgroundcolor": "#E5ECF6",
                        "gridcolor": "white",
                        "gridwidth": 2,
                        "linecolor": "white",
                        "showbackground": true,
                        "ticks": "",
                        "zerolinecolor": "white"
                      },
                      "yaxis": {
                        "backgroundcolor": "#E5ECF6",
                        "gridcolor": "white",
                        "gridwidth": 2,
                        "linecolor": "white",
                        "showbackground": true,
                        "ticks": "",
                        "zerolinecolor": "white"
                      },
                      "zaxis": {
                        "backgroundcolor": "#E5ECF6",
                        "gridcolor": "white",
                        "gridwidth": 2,
                        "linecolor": "white",
                        "showbackground": true,
                        "ticks": "",
                        "zerolinecolor": "white"
                      }
                    },
                    "shapedefaults": {
                      "line": {
                        "color": "#2a3f5f"
                      }
                    },
                    "ternary": {
                      "aaxis": {
                        "gridcolor": "white",
                        "linecolor": "white",
                        "ticks": ""
                      },
                      "baxis": {
                        "gridcolor": "white",
                        "linecolor": "white",
                        "ticks": ""
                      },
                      "bgcolor": "#E5ECF6",
                      "caxis": {
                        "gridcolor": "white",
                        "linecolor": "white",
                        "ticks": ""
                      }
                    },
                    "title": {
                      "x": 0.05
                    },
                    "xaxis": {
                      "automargin": true,
                      "gridcolor": "white",
                      "linecolor": "white",
                      "ticks": "",
                      "title": {
                        "standoff": 15
                      },
                      "zerolinecolor": "white",
                      "zerolinewidth": 2
                    },
                    "yaxis": {
                      "automargin": true,
                      "gridcolor": "white",
                      "linecolor": "white",
                      "ticks": "",
                      "title": {
                        "standoff": 15
                      },
                      "zerolinecolor": "white",
                      "zerolinewidth": 2
                    }
                  }
                },
                "title": {
                  "text": "Distribución de Puntaje Total vs y"
                },
                "xaxis": {
                  "anchor": "y",
                  "domain": [
                    0,
                    1
                  ],
                  "title": {
                    "text": "puntaje_total"
                  }
                },
                "yaxis": {
                  "anchor": "x",
                  "domain": [
                    0,
                    1
                  ],
                  "title": {
                    "text": "y"
                  }
                }
              }
            }
          },
          "metadata": {},
          "output_type": "display_data"
        }
      ],
      "source": [
        "fig = px.density_heatmap(df.groupby(['puntaje_total', 'y']).size().reset_index(name='count'),\n",
        "                         x='puntaje_total',\n",
        "                         y='y',\n",
        "                         z='count',\n",
        "                         text_auto=True,\n",
        "                         title='Distribución de Puntaje Total vs y')\n",
        "fig.show()"
      ]
    },
    {
      "cell_type": "code",
      "execution_count": 30,
      "metadata": {
        "colab": {
          "base_uri": "https://localhost:8080/"
        },
        "id": "_iQ1FXnGIU82",
        "outputId": "87f73fb6-5fe3-4110-aa1c-998115163cb0"
      },
      "outputs": [
        {
          "name": "stdout",
          "output_type": "stream",
          "text": [
            "                            OLS Regression Results                            \n",
            "==============================================================================\n",
            "Dep. Variable:                      y   R-squared:                       0.999\n",
            "Model:                            OLS   Adj. R-squared:                  0.999\n",
            "Method:                 Least Squares   F-statistic:                 1.884e+06\n",
            "Date:                Sun, 05 Jan 2025   Prob (F-statistic):               0.00\n",
            "Time:                        23:01:52   Log-Likelihood:                -2096.1\n",
            "No. Observations:                1000   AIC:                             4196.\n",
            "Df Residuals:                     998   BIC:                             4206.\n",
            "Df Model:                           1                                         \n",
            "Covariance Type:            nonrobust                                         \n",
            "=================================================================================\n",
            "                    coef    std err          t      P>|t|      [0.025      0.975]\n",
            "---------------------------------------------------------------------------------\n",
            "const            -0.1261      0.303     -0.416      0.677      -0.720       0.468\n",
            "puntaje_total     2.0003      0.001   1372.547      0.000       1.997       2.003\n",
            "==============================================================================\n",
            "Omnibus:                        0.844   Durbin-Watson:                   1.948\n",
            "Prob(Omnibus):                  0.656   Jarque-Bera (JB):                0.925\n",
            "Skew:                           0.058   Prob(JB):                        0.630\n",
            "Kurtosis:                       2.907   Cond. No.                     1.01e+03\n",
            "==============================================================================\n",
            "\n",
            "Notes:\n",
            "[1] Standard Errors assume that the covariance matrix of the errors is correctly specified.\n",
            "[2] The condition number is large, 1.01e+03. This might indicate that there are\n",
            "strong multicollinearity or other numerical problems.\n"
          ]
        }
      ],
      "source": [
        "import statsmodels.api as sm\n",
        "\n",
        "# Añadir constante para el intercepto\n",
        "X = sm.add_constant(df['puntaje_total'])  # sm.add_constant añade un término de intersección (bias)\n",
        "y = df['y']\n",
        "\n",
        "# Ajustar el modelo\n",
        "model = sm.OLS(y, X).fit()\n",
        "\n",
        "# Resumen del modelo\n",
        "print(model.summary())\n",
        "\n",
        "# Predicción\n",
        "y_pred = model.predict(X)"
      ]
    },
    {
      "cell_type": "code",
      "execution_count": 31,
      "metadata": {
        "colab": {
          "base_uri": "https://localhost:8080/",
          "height": 542
        },
        "id": "jcp0TadOJfUN",
        "outputId": "bd7f51d4-1291-4380-8843-cb1bd9f3a4cb"
      },
      "outputs": [
        {
          "data": {
            "application/vnd.plotly.v1+json": {
              "config": {
                "plotlyServerURL": "https://plot.ly"
              },
              "data": [
                {
                  "hovertemplate": "Variable Independiente (X)=%{x}<br>Variable Dependiente (Y)=%{y}<extra></extra>",
                  "legendgroup": "",
                  "marker": {
                    "color": "blue",
                    "symbol": "circle"
                  },
                  "mode": "markers",
                  "name": "",
                  "orientation": "v",
                  "showlegend": false,
                  "type": "scatter",
                  "x": [
                    218,
                    247,
                    278,
                    148,
                    229,
                    232,
                    275,
                    122,
                    195,
                    148,
                    164,
                    135,
                    219,
                    220,
                    161,
                    222,
                    263,
                    78,
                    134,
                    173,
                    198,
                    210,
                    151,
                    215,
                    225,
                    219,
                    178,
                    211,
                    205,
                    207,
                    217,
                    189,
                    193,
                    120,
                    266,
                    241,
                    238,
                    173,
                    253,
                    170,
                    170,
                    199,
                    176,
                    190,
                    160,
                    176,
                    182,
                    213,
                    207,
                    248,
                    156,
                    214,
                    139,
                    241,
                    242,
                    117,
                    253,
                    156,
                    175,
                    27,
                    225,
                    112,
                    178,
                    220,
                    176,
                    192,
                    119,
                    206,
                    175,
                    160,
                    194,
                    181,
                    140,
                    174,
                    139,
                    123,
                    78,
                    239,
                    207,
                    198,
                    146,
                    139,
                    151,
                    199,
                    115,
                    235,
                    247,
                    216,
                    195,
                    241,
                    211,
                    97,
                    221,
                    138,
                    257,
                    241,
                    193,
                    205,
                    187,
                    194,
                    213,
                    216,
                    265,
                    151,
                    274,
                    197,
                    287,
                    193,
                    198,
                    206,
                    264,
                    166,
                    154,
                    163,
                    299,
                    235,
                    242,
                    239,
                    175,
                    189,
                    260,
                    272,
                    274,
                    176,
                    236,
                    268,
                    207,
                    216,
                    238,
                    151,
                    255,
                    130,
                    231,
                    240,
                    228,
                    161,
                    146,
                    181,
                    192,
                    201,
                    219,
                    185,
                    151,
                    147,
                    239,
                    94,
                    247,
                    207,
                    224,
                    293,
                    198,
                    212,
                    195,
                    150,
                    190,
                    247,
                    218,
                    180,
                    234,
                    192,
                    234,
                    248,
                    154,
                    154,
                    264,
                    296,
                    155,
                    212,
                    229,
                    212,
                    219,
                    260,
                    246,
                    200,
                    148,
                    259,
                    158,
                    225,
                    184,
                    297,
                    205,
                    176,
                    147,
                    204,
                    146,
                    197,
                    221,
                    196,
                    145,
                    252,
                    200,
                    238,
                    192,
                    201,
                    238,
                    168,
                    193,
                    162,
                    153,
                    233,
                    237,
                    223,
                    215,
                    194,
                    142,
                    223,
                    206,
                    237,
                    231,
                    185,
                    238,
                    90,
                    164,
                    167,
                    259,
                    242,
                    257,
                    115,
                    213,
                    173,
                    198,
                    245,
                    182,
                    241,
                    191,
                    155,
                    215,
                    161,
                    204,
                    277,
                    206,
                    131,
                    236,
                    257,
                    249,
                    232,
                    196,
                    198,
                    157,
                    244,
                    207,
                    246,
                    163,
                    153,
                    218,
                    232,
                    239,
                    196,
                    191,
                    181,
                    145,
                    237,
                    200,
                    232,
                    158,
                    205,
                    205,
                    232,
                    223,
                    227,
                    220,
                    236,
                    145,
                    282,
                    217,
                    142,
                    219,
                    218,
                    275,
                    217,
                    193,
                    149,
                    158,
                    206,
                    249,
                    234,
                    270,
                    197,
                    231,
                    186,
                    147,
                    139,
                    236,
                    226,
                    129,
                    245,
                    267,
                    238,
                    239,
                    230,
                    214,
                    229,
                    180,
                    213,
                    235,
                    189,
                    130,
                    213,
                    136,
                    252,
                    240,
                    162,
                    232,
                    220,
                    232,
                    205,
                    267,
                    147,
                    191,
                    158,
                    229,
                    183,
                    196,
                    204,
                    198,
                    202,
                    250,
                    233,
                    203,
                    184,
                    230,
                    240,
                    232,
                    149,
                    130,
                    266,
                    184,
                    70,
                    234,
                    147,
                    192,
                    119,
                    171,
                    249,
                    271,
                    195,
                    215,
                    143,
                    89,
                    150,
                    171,
                    197,
                    219,
                    206,
                    219,
                    227,
                    180,
                    266,
                    215,
                    237,
                    186,
                    175,
                    221,
                    161,
                    200,
                    203,
                    185,
                    177,
                    182,
                    259,
                    179,
                    247,
                    168,
                    93,
                    177,
                    167,
                    180,
                    188,
                    166,
                    242,
                    232,
                    188,
                    220,
                    275,
                    202,
                    130,
                    252,
                    280,
                    231,
                    192,
                    249,
                    282,
                    231,
                    132,
                    124,
                    218,
                    207,
                    202,
                    190,
                    218,
                    199,
                    222,
                    210,
                    167,
                    216,
                    134,
                    180,
                    269,
                    194,
                    173,
                    180,
                    139,
                    169,
                    287,
                    175,
                    204,
                    193,
                    239,
                    165,
                    256,
                    215,
                    245,
                    197,
                    197,
                    202,
                    226,
                    213,
                    214,
                    189,
                    167,
                    268,
                    179,
                    172,
                    224,
                    114,
                    191,
                    255,
                    205,
                    177,
                    185,
                    189,
                    203,
                    172,
                    156,
                    205,
                    151,
                    207,
                    214,
                    177,
                    259,
                    227,
                    239,
                    201,
                    232,
                    234,
                    218,
                    195,
                    247,
                    135,
                    226,
                    234,
                    289,
                    216,
                    172,
                    176,
                    140,
                    257,
                    155,
                    300,
                    205,
                    166,
                    153,
                    217,
                    258,
                    195,
                    262,
                    95,
                    204,
                    250,
                    241,
                    258,
                    206,
                    238,
                    187,
                    271,
                    230,
                    204,
                    220,
                    189,
                    214,
                    212,
                    167,
                    197,
                    157,
                    155,
                    215,
                    164,
                    209,
                    174,
                    243,
                    226,
                    198,
                    256,
                    259,
                    186,
                    198,
                    154,
                    213,
                    203,
                    219,
                    235,
                    273,
                    178,
                    276,
                    153,
                    244,
                    204,
                    168,
                    234,
                    265,
                    220,
                    157,
                    163,
                    177,
                    268,
                    248,
                    247,
                    213,
                    222,
                    224,
                    172,
                    261,
                    184,
                    163,
                    154,
                    187,
                    177,
                    132,
                    117,
                    206,
                    208,
                    154,
                    181,
                    261,
                    210,
                    232,
                    169,
                    179,
                    222,
                    275,
                    212,
                    241,
                    237,
                    266,
                    193,
                    241,
                    289,
                    203,
                    193,
                    220,
                    220,
                    265,
                    138,
                    203,
                    138,
                    104,
                    206,
                    194,
                    193,
                    201,
                    228,
                    211,
                    278,
                    223,
                    145,
                    136,
                    292,
                    210,
                    158,
                    203,
                    216,
                    279,
                    171,
                    180,
                    226,
                    148,
                    164,
                    261,
                    162,
                    182,
                    274,
                    236,
                    214,
                    228,
                    223,
                    217,
                    201,
                    169,
                    183,
                    179,
                    169,
                    183,
                    200,
                    223,
                    291,
                    207,
                    69,
                    155,
                    219,
                    228,
                    177,
                    88,
                    234,
                    168,
                    263,
                    209,
                    251,
                    152,
                    187,
                    186,
                    192,
                    183,
                    275,
                    216,
                    268,
                    200,
                    120,
                    249,
                    260,
                    206,
                    150,
                    181,
                    161,
                    282,
                    181,
                    296,
                    202,
                    155,
                    152,
                    150,
                    201,
                    204,
                    221,
                    248,
                    248,
                    209,
                    228,
                    260,
                    236,
                    223,
                    144,
                    252,
                    232,
                    233,
                    195,
                    227,
                    194,
                    194,
                    158,
                    229,
                    160,
                    224,
                    269,
                    209,
                    231,
                    196,
                    208,
                    196,
                    161,
                    262,
                    224,
                    202,
                    195,
                    201,
                    206,
                    170,
                    207,
                    249,
                    208,
                    230,
                    210,
                    159,
                    223,
                    233,
                    224,
                    180,
                    227,
                    228,
                    234,
                    184,
                    213,
                    188,
                    171,
                    113,
                    196,
                    293,
                    228,
                    228,
                    155,
                    266,
                    155,
                    227,
                    221,
                    227,
                    168,
                    254,
                    247,
                    201,
                    214,
                    191,
                    242,
                    196,
                    258,
                    194,
                    186,
                    199,
                    116,
                    177,
                    255,
                    161,
                    267,
                    250,
                    297,
                    246,
                    204,
                    257,
                    223,
                    291,
                    226,
                    244,
                    204,
                    173,
                    252,
                    140,
                    131,
                    226,
                    217,
                    176,
                    249,
                    129,
                    225,
                    144,
                    270,
                    146,
                    168,
                    183,
                    255,
                    192,
                    225,
                    176,
                    225,
                    150,
                    247,
                    204,
                    157,
                    225,
                    215,
                    201,
                    169,
                    257,
                    208,
                    205,
                    231,
                    252,
                    166,
                    271,
                    165,
                    210,
                    176,
                    223,
                    189,
                    160,
                    245,
                    187,
                    182,
                    218,
                    210,
                    198,
                    214,
                    175,
                    149,
                    222,
                    191,
                    219,
                    191,
                    162,
                    208,
                    122,
                    233,
                    261,
                    159,
                    251,
                    243,
                    173,
                    251,
                    127,
                    228,
                    89,
                    194,
                    178,
                    170,
                    196,
                    209,
                    250,
                    145,
                    198,
                    210,
                    235,
                    183,
                    164,
                    208,
                    229,
                    276,
                    254,
                    227,
                    230,
                    213,
                    126,
                    234,
                    164,
                    118,
                    141,
                    185,
                    247,
                    235,
                    267,
                    168,
                    207,
                    200,
                    256,
                    267,
                    261,
                    152,
                    240,
                    158,
                    187,
                    194,
                    210,
                    236,
                    175,
                    178,
                    249,
                    182,
                    248,
                    153,
                    198,
                    194,
                    236,
                    168,
                    216,
                    137,
                    173,
                    103,
                    227,
                    169,
                    259,
                    261,
                    168,
                    199,
                    224,
                    205,
                    192,
                    265,
                    210,
                    181,
                    290,
                    208,
                    225,
                    147,
                    232,
                    168,
                    254,
                    119,
                    222,
                    281,
                    252,
                    164,
                    144,
                    224,
                    151,
                    164,
                    218,
                    244,
                    262,
                    166,
                    210,
                    247,
                    172,
                    211,
                    214,
                    193,
                    211,
                    208,
                    145,
                    156,
                    218,
                    288,
                    185,
                    208,
                    143,
                    262,
                    262,
                    190,
                    237,
                    190,
                    104,
                    92,
                    220,
                    184,
                    225,
                    258,
                    225,
                    123,
                    293,
                    235,
                    242,
                    156,
                    254,
                    214,
                    204,
                    140,
                    235,
                    179,
                    175,
                    162,
                    204,
                    300,
                    157,
                    214,
                    278,
                    206,
                    134,
                    204,
                    184,
                    213,
                    198,
                    172,
                    197,
                    133,
                    155,
                    211,
                    181,
                    205,
                    219,
                    275,
                    191,
                    177,
                    172,
                    251,
                    214,
                    210,
                    265,
                    211,
                    184,
                    187,
                    173,
                    244,
                    167,
                    151,
                    205,
                    238,
                    235,
                    220,
                    164,
                    200,
                    191,
                    252,
                    292,
                    167,
                    227,
                    178,
                    155,
                    300,
                    216,
                    187,
                    204,
                    198,
                    186,
                    211,
                    239,
                    289,
                    219,
                    163,
                    175,
                    184,
                    223,
                    182,
                    185,
                    144,
                    280,
                    55,
                    237,
                    250,
                    256,
                    231,
                    162,
                    150,
                    232,
                    134,
                    236,
                    242,
                    225,
                    207,
                    208,
                    188,
                    282,
                    172,
                    195,
                    223,
                    249
                  ],
                  "xaxis": "x",
                  "y": [
                    437.7923599030909,
                    495.72703215130065,
                    557.590216120833,
                    296.53600376105044,
                    455.302910156104,
                    464.4447950150405,
                    549.7426931283237,
                    246.62829472053866,
                    390.9592068723041,
                    298.35684044705897,
                    328.59084049311105,
                    275.27239125455026,
                    436.6564896612771,
                    439.2894991784855,
                    323.05788355611577,
                    446.8195894124747,
                    524.7435242618986,
                    155.6855482360933,
                    268.62207917476104,
                    346.105997845443,
                    395.7989136788884,
                    421.3562886763007,
                    301.6222011721723,
                    429.82119799535093,
                    452.0296980094125,
                    440.18100503070553,
                    354.410209263238,
                    420.10805081671907,
                    410.0026577262858,
                    413.6541009005827,
                    436.2325196614105,
                    380.2728195212253,
                    383.83360713172783,
                    241.57732985366374,
                    534.5869650009322,
                    480.90964612521077,
                    475.79959964936586,
                    342.76137341517807,
                    500.89318236020677,
                    340.6355078178934,
                    337.9100614939121,
                    396.82850100843365,
                    346.5657121300511,
                    378.1696630210726,
                    320.3741969014125,
                    350.9265472704571,
                    365.0070424872936,
                    426.3744126640519,
                    413.54720007280446,
                    495.006941514758,
                    313.05322608011267,
                    426.1643820932657,
                    278.3011448828333,
                    481.03407264973913,
                    480.14434509682235,
                    231.8005460451989,
                    504.59681958693386,
                    312.14370965218814,
                    347.76369225790967,
                    56.264537625442564,
                    449.3200826304189,
                    226.95275989528162,
                    359.4396207067346,
                    439.5333226246175,
                    350.0156417236723,
                    387.2032639751057,
                    238.0371457799394,
                    413.4986317965732,
                    351.95750866404336,
                    320.61931993631396,
                    386.2321863305595,
                    361.05759031539077,
                    279.526372706484,
                    346.1872252637207,
                    278.3786458055588,
                    247.19572199322624,
                    152.4044885783561,
                    473.9511944437746,
                    419.74221739022454,
                    394.5261567076818,
                    295.51885615031847,
                    276.0542845185305,
                    303.02148217127456,
                    395.1947720324799,
                    231.02004688997846,
                    471.69891569654146,
                    496.9280139775507,
                    430.15030538247623,
                    387.74310138844265,
                    482.6681984852962,
                    420.7929385574746,
                    195.35128501406393,
                    443.1051891668039,
                    277.83359303870697,
                    516.6799144402564,
                    481.65829008480154,
                    384.9655971482418,
                    406.7851338524142,
                    374.75472230139195,
                    387.35632952716355,
                    427.58569228470066,
                    433.86763964459146,
                    533.4983340889081,
                    302.3960967492389,
                    546.1659746046688,
                    394.2614983343535,
                    575.439111089504,
                    388.09138213855135,
                    393.9740252180282,
                    412.53703012795773,
                    529.8130550337632,
                    333.7121532150692,
                    308.00731001918035,
                    325.241578058054,
                    597.1025413129353,
                    467.5418966726792,
                    484.0904605440952,
                    478.9168866177418,
                    351.04823163098735,
                    378.26651765626985,
                    519.5353497388314,
                    541.137130694203,
                    547.4509934476873,
                    351.2748045344896,
                    473.2823408205632,
                    531.6910405885775,
                    411.03054806599476,
                    431.23072551886236,
                    475.8016208668064,
                    303.64933147397613,
                    511.30174707617374,
                    261.2838432197716,
                    465.768001040356,
                    476.9773144556502,
                    458.1262144649882,
                    323.10336372819125,
                    293.84839797745155,
                    361.4722975286804,
                    387.00950254534683,
                    402.12395135393905,
                    437.278295003695,
                    365.11790899854617,
                    302.19165448692,
                    293.19804777245287,
                    474.5684761501771,
                    186.25018883188523,
                    491.27100257453196,
                    412.6182308297889,
                    447.8012310860562,
                    585.2333488676048,
                    396.88455797015047,
                    426.7240887691631,
                    390.18066386421043,
                    303.31980081449404,
                    383.053145651027,
                    493.9005481936349,
                    435.0832086342467,
                    358.3023133846747,
                    468.5627014092032,
                    384.43442876581645,
                    467.42857304779164,
                    496.2786960047592,
                    307.68440825417713,
                    307.60713844344735,
                    527.5586756561131,
                    593.7025994365551,
                    308.9341162861532,
                    424.796378976909,
                    458.44931934171785,
                    424.16535105689684,
                    436.68467349497735,
                    518.9249270821442,
                    493.56563839754347,
                    396.74856141436027,
                    296.99815798828104,
                    516.6702137661848,
                    317.5151000114269,
                    450.57749821270164,
                    371.85650269729183,
                    598.4953210918629,
                    412.06607558778904,
                    352.18497325582103,
                    295.64640649036136,
                    407.94708079343377,
                    288.94393307323116,
                    393.37433483041883,
                    442.7679216300302,
                    391.04163714468257,
                    289.4659737381864,
                    507.6778019325822,
                    398.3992259719017,
                    476.1442538489663,
                    384.3927049937551,
                    399.0753981995062,
                    474.99177966593845,
                    336.0594564326289,
                    386.86862639810545,
                    324.8455722965772,
                    309.16751460327185,
                    464.4248193989965,
                    474.4126218902751,
                    443.182676089236,
                    431.50010733280124,
                    386.79473510233294,
                    282.2675348157064,
                    445.5624661328145,
                    412.40013916572127,
                    475.85528199447134,
                    462.1495242774558,
                    368.15842014827064,
                    475.0361796052422,
                    180.9673214897751,
                    329.2529823271487,
                    334.74850067024056,
                    518.3633928991578,
                    485.6203847824672,
                    512.8664026871041,
                    226.2581776004531,
                    428.1167804373483,
                    344.8681937080839,
                    398.4916385909561,
                    493.53833559579954,
                    365.10007504051214,
                    483.93925784848545,
                    382.41574748826775,
                    309.20963101432966,
                    427.87597399499117,
                    322.4059788594943,
                    409.8127275692857,
                    552.127288491436,
                    415.5969831587529,
                    262.99386469572454,
                    469.5340506583759,
                    513.3678467664116,
                    493.85498944236133,
                    462.79921813509804,
                    390.23666536455346,
                    396.4578446552162,
                    315.78518451191115,
                    489.29934454325246,
                    417.4967489856211,
                    490.96763007891803,
                    324.74949018024216,
                    304.85569824484884,
                    435.17421615349804,
                    463.11893735601166,
                    479.09264844878174,
                    395.4681388789221,
                    382.4127757980884,
                    357.58746899602016,
                    290.6933298562603,
                    473.81504763658273,
                    405.436090526628,
                    465.5127210840867,
                    315.1774193885064,
                    411.98119485434376,
                    406.25882360969354,
                    465.13551423097135,
                    446.05664652313897,
                    454.27457439486153,
                    442.17371942879186,
                    473.22093291428195,
                    289.5210522345255,
                    564.8164320304041,
                    435.52517451216943,
                    283.4566966072705,
                    436.28083825793954,
                    432.6568878413416,
                    552.0687152025547,
                    436.153930281817,
                    383.6439718964268,
                    299.0302205691556,
                    316.0447237203725,
                    409.8829825094389,
                    502.49846051647586,
                    462.8348813957244,
                    537.0826843397286,
                    389.9196866688736,
                    462.51185462519163,
                    371.53999727379835,
                    295.00335387133316,
                    277.89908957088693,
                    471.8954507841023,
                    454.25410477452914,
                    256.8953229587038,
                    492.5910527198212,
                    535.3592949226671,
                    479.1521172922237,
                    478.2831480375162,
                    455.84943954308045,
                    428.1020255376351,
                    456.1466071101678,
                    358.61485530624174,
                    426.1222442828903,
                    470.3597151949348,
                    377.0591264498267,
                    261.205900814479,
                    425.02659046374674,
                    272.2355016559294,
                    503.4140108926133,
                    482.5661020246712,
                    324.08172903371263,
                    463.18503584988247,
                    440.87200035628086,
                    462.7119145151135,
                    412.3959490872803,
                    537.0473387129371,
                    290.8877021539037,
                    383.9977883756072,
                    314.8075390892276,
                    457.8725323621454,
                    364.55615789740676,
                    390.51838279521553,
                    404.47367125563494,
                    393.03974440638666,
                    407.34849480834436,
                    498.74700678970015,
                    467.16913567907187,
                    404.0211907834322,
                    368.7570098573728,
                    465.0564531471925,
                    481.4983142015919,
                    464.88596559444534,
                    298.26928871242495,
                    262.1068118816514,
                    530.3454951633403,
                    365.50529774572453,
                    142.0773110715261,
                    466.70072590209696,
                    292.4896378588318,
                    383.20476278133583,
                    238.97938184439153,
                    340.81991030019174,
                    497.510140059386,
                    539.1923090582493,
                    389.1494560536147,
                    427.87139826818384,
                    284.45473737849136,
                    176.3560455554922,
                    298.2578267499623,
                    341.40094403773287,
                    393.2129928793704,
                    439.28296628647075,
                    411.0272732282306,
                    435.75157493185793,
                    457.1746560356564,
                    359.5828635402501,
                    532.1231353505848,
                    428.5085698656288,
                    473.9912539087621,
                    372.22753918611795,
                    347.6952569208275,
                    440.53521991642833,
                    323.9717236143968,
                    399.18909208541163,
                    401.61303355269666,
                    365.4239032231114,
                    353.3173404844632,
                    366.4136042957019,
                    517.5081681277763,
                    359.49001596610407,
                    494.96471341389383,
                    334.2621407157751,
                    189.1924768374407,
                    352.76143673298145,
                    330.8892011384972,
                    358.2240525115035,
                    373.87088917062374,
                    331.8564751316384,
                    483.94655376676474,
                    465.1307680302884,
                    376.2198637050811,
                    438.15190120864827,
                    548.0509530167257,
                    405.5536933768496,
                    261.7445070391097,
                    502.546415639539,
                    562.6125895946354,
                    463.48150564387555,
                    383.6323577837474,
                    499.23481182302584,
                    562.4173871069644,
                    459.9598031858725,
                    260.22914558369376,
                    247.07036485189138,
                    434.193808451113,
                    410.6713726791058,
                    405.4880375049737,
                    377.25077179377547,
                    438.15303237722617,
                    396.4340412407134,
                    445.5572771063001,
                    419.139085622214,
                    333.4932955134085,
                    431.4389467592936,
                    266.48276814639433,
                    357.93348379237386,
                    536.9121543092002,
                    389.1948615208873,
                    347.3774763964003,
                    357.43478665267963,
                    277.83720740823,
                    335.64742199664124,
                    571.803148073025,
                    348.38575352009394,
                    407.73374203541255,
                    386.1792593459477,
                    480.8344227451866,
                    331.4001285416612,
                    511.74056426906776,
                    433.48975940960435,
                    492.62011972495185,
                    393.68241243127056,
                    395.8528738453453,
                    403.1648485133857,
                    449.44835870833447,
                    423.34448340546226,
                    431.0863662622399,
                    374.2684870456327,
                    334.3167164963712,
                    538.738955870717,
                    357.4012249387319,
                    344.182884959861,
                    447.4318039910391,
                    226.83634339658977,
                    380.34578954884546,
                    507.5766195383553,
                    414.79308036809226,
                    353.5133187140649,
                    369.97256971097585,
                    378.0427981552116,
                    405.81919841025024,
                    346.6556305474955,
                    311.96751745456135,
                    410.54247022581427,
                    301.2533500793742,
                    416.7223381504699,
                    427.364436241949,
                    350.75370316899654,
                    520.6514927446966,
                    454.02097584476013,
                    476.99023839441713,
                    402.7830450142233,
                    463.6517142301997,
                    465.82455371610774,
                    438.40702140987287,
                    389.59749260387844,
                    494.36702130195533,
                    267.9560669382824,
                    451.81585746144594,
                    468.81536065397853,
                    577.6830480037859,
                    428.9027010371907,
                    348.61707447354667,
                    350.61557214443667,
                    281.30332444254844,
                    512.2776700509988,
                    311.9683732075825,
                    600.2587110284084,
                    410.7722553255949,
                    333.1880420340493,
                    304.19163769904293,
                    435.527817535709,
                    517.0754319803622,
                    393.2879323476536,
                    523.818409509004,
                    190.91882097891482,
                    409.1554004988879,
                    499.2498775081605,
                    484.94739232566747,
                    517.5044493212542,
                    411.60996511345905,
                    476.8777718280532,
                    375.339568143534,
                    543.1531160449825,
                    456.563380813085,
                    407.2395900206145,
                    440.2612483259899,
                    375.6892069935273,
                    425.5389483356855,
                    426.9415050840026,
                    334.2618903936681,
                    393.7468496329387,
                    317.2687450591057,
                    312.42050969629,
                    429.09408096501767,
                    329.81681847837984,
                    418.04537598405307,
                    349.98919086218285,
                    488.4405422835635,
                    452.1740668995534,
                    395.83407180275094,
                    513.9783079451059,
                    520.1928777949125,
                    372.1428103818041,
                    398.5831862849027,
                    307.9398544392616,
                    426.93848802898054,
                    403.7436934951622,
                    435.84945781144825,
                    466.3804524091511,
                    545.8646879362449,
                    353.29959640115726,
                    549.9709594209578,
                    305.5082055468018,
                    490.1537381006951,
                    409.64797162725114,
                    335.0890491620176,
                    468.8898347852521,
                    531.2096162207056,
                    440.09536734975126,
                    310.87981720099896,
                    326.0594070278568,
                    356.6870158921301,
                    534.984798697894,
                    495.4462174187466,
                    491.8822084886112,
                    427.86184316924493,
                    442.4986163710346,
                    446.7319486774147,
                    343.98183490148705,
                    520.56926115398,
                    368.26527195316874,
                    324.5712205421951,
                    307.09527039005496,
                    374.6209975828921,
                    355.29263953189275,
                    262.50990768493205,
                    239.2892281976139,
                    419.2268928962402,
                    419.1684545079651,
                    305.9877327494639,
                    361.4312015537952,
                    518.8251996555924,
                    421.4476668508505,
                    463.47188612395655,
                    338.11647736179884,
                    356.8789269809077,
                    443.936844924024,
                    549.4608588664532,
                    428.2577653807154,
                    481.61623945652775,
                    475.0128452175998,
                    531.3842826726047,
                    387.07585267573535,
                    481.2269702385049,
                    578.9265497024971,
                    407.816463283256,
                    387.3652057878299,
                    439.699020973495,
                    438.9229997395489,
                    530.1190485093691,
                    278.03653058219766,
                    403.73910256521833,
                    278.40957195815724,
                    208.54181365527015,
                    411.36109604171486,
                    388.6663292264093,
                    386.3809310776336,
                    399.4080322830139,
                    456.03422747776466,
                    424.43052258198003,
                    553.6665052762716,
                    446.12113969452423,
                    285.1321265393176,
                    271.91462519576515,
                    581.557018781543,
                    421.01813015077397,
                    317.2764608561047,
                    406.1618946044321,
                    431.4249123867343,
                    560.0983998552581,
                    340.4669764882928,
                    358.67653044212483,
                    449.6421459430819,
                    295.8750933761201,
                    330.68334230263486,
                    521.8534542314549,
                    320.70602266038276,
                    360.8757031979847,
                    549.2940910394983,
                    473.9439860747598,
                    427.362470637125,
                    452.6937280262284,
                    443.73478704015935,
                    433.97845585848984,
                    401.34830768242074,
                    336.38121256119865,
                    363.6996445713747,
                    356.88791284943136,
                    336.16635423612985,
                    365.1855876001642,
                    397.99844770676754,
                    442.52830932442924,
                    582.5296186948817,
                    415.6096734517251,
                    139.69503313586551,
                    307.0745816631751,
                    437.4837840895446,
                    454.42130878654757,
                    354.96965086406925,
                    174.13031586609324,
                    466.7744307645576,
                    338.6859091906827,
                    523.4424196859891,
                    414.76865402331583,
                    499.1006913259887,
                    304.3536469344779,
                    375.93191404193533,
                    370.82965451689455,
                    386.89253057586706,
                    368.7251974533838,
                    554.322063193302,
                    428.21497349056733,
                    536.538214099328,
                    403.18361177830303,
                    238.43982885996166,
                    500.436861860738,
                    521.7752796666242,
                    413.2963331613102,
                    300.6426371886962,
                    364.4245780009302,
                    324.4268779435948,
                    564.7610574576331,
                    361.6631297970645,
                    589.9998622361925,
                    403.7327199449161,
                    308.81781791856116,
                    302.4477518708075,
                    300.32125440609974,
                    403.7110975151263,
                    406.7791756053926,
                    444.5419264378043,
                    495.45120167788065,
                    496.94677965944,
                    415.70596967464064,
                    456.78273699294596,
                    517.4433486852901,
                    471.21698949161043,
                    442.4683620171131,
                    287.0441158328671,
                    506.06678235255987,
                    465.27953663402565,
                    463.5157479295644,
                    391.2792548813182,
                    452.62676813801835,
                    389.31763641494933,
                    386.8085481558902,
                    317.7413638239824,
                    458.390978687795,
                    323.2364873923653,
                    452.89000063819736,
                    536.4932410613313,
                    420.5794008480963,
                    461.3143494998058,
                    391.8396466667821,
                    415.5407987826733,
                    392.2699296116483,
                    321.57727718650057,
                    523.8179375080985,
                    450.7981477292397,
                    401.5803858293867,
                    390.7416030720565,
                    399.65353852391667,
                    412.27732969476875,
                    340.00197121263847,
                    415.7062202921577,
                    499.6349663563033,
                    419.2237327115692,
                    456.16885919296715,
                    417.79342656125,
                    315.1634579178159,
                    443.8148982151644,
                    462.7479955405505,
                    444.32217325730727,
                    359.2806911682609,
                    455.13542341878144,
                    457.1763678197784,
                    468.89691036924114,
                    369.86377186850757,
                    424.61233402505394,
                    376.6401851661117,
                    341.5612086101691,
                    222.63433114200146,
                    393.5871587944893,
                    586.2972038435241,
                    455.399203889216,
                    451.9888722551931,
                    308.00301964886864,
                    535.0568382417416,
                    307.0821161384427,
                    452.0605227747581,
                    437.8967760231612,
                    453.6350077724551,
                    333.6240548520611,
                    506.1529053889215,
                    494.4774694524279,
                    399.51967589229133,
                    427.61966865193415,
                    379.78218846377354,
                    484.5453548053984,
                    390.0831252597516,
                    514.9024174586274,
                    388.3616291043731,
                    371.9707864335043,
                    400.1181564532371,
                    229.06924488031828,
                    353.87921304423026,
                    507.9669001605416,
                    322.00211292723645,
                    536.5665900646653,
                    499.7107153943841,
                    594.4348614118626,
                    490.3731044767659,
                    408.1357277832392,
                    516.1354455463563,
                    448.2955766969889,
                    582.173708308525,
                    453.18030088223054,
                    487.8964379312317,
                    407.7103489210156,
                    349.49062740191937,
                    502.93345759997237,
                    278.03276262688837,
                    260.3617285757877,
                    448.7288802899851,
                    433.3160066496339,
                    350.2141128680947,
                    497.22586455823085,
                    259.275391811716,
                    448.2921575170969,
                    286.9306795239075,
                    536.7994078565117,
                    290.32754487968845,
                    338.8362656164043,
                    367.2697191682006,
                    507.81569356816425,
                    381.37749540410795,
                    450.53246298682416,
                    354.20119306794567,
                    450.7764303670185,
                    297.82916878300637,
                    493.8678691326205,
                    406.51007256432064,
                    316.13031218227985,
                    452.34461090154014,
                    427.8544124144059,
                    404.0267863457522,
                    338.3447649713185,
                    513.1221894900307,
                    417.5119933818531,
                    414.28873139111175,
                    461.5990809052814,
                    504.8506530386424,
                    329.5772698785435,
                    542.8089404179575,
                    330.0426581961952,
                    419.9268497166903,
                    352.93438352669295,
                    449.8039392273099,
                    374.35964473835463,
                    317.0441112712164,
                    490.07007080400837,
                    373.8073386683523,
                    368.0075520735481,
                    437.23989421305333,
                    419.2486958141937,
                    397.6042403133457,
                    429.31575820696,
                    350.5476170476567,
                    293.328462207945,
                    445.6035298720735,
                    379.6750806800984,
                    437.96285307387285,
                    380.12380630644617,
                    321.02633328808895,
                    416.3639251594653,
                    243.9620097643771,
                    467.15376443568454,
                    520.7865706860069,
                    317.26687665203076,
                    500.0043470192711,
                    486.14074965070466,
                    344.87862828234347,
                    501.7780292953518,
                    253.93307993079318,
                    457.89740757559184,
                    174.2095354615196,
                    384.10808648740544,
                    357.6762155313019,
                    337.2623948558539,
                    389.1145215482908,
                    422.2462582931541,
                    498.96783266245285,
                    288.28341675750175,
                    392.86529800926155,
                    421.7550050421332,
                    471.11307711437775,
                    364.74604069042715,
                    330.26558425478885,
                    411.73221521211303,
                    459.0445033389867,
                    554.0968754329983,
                    504.36340183211513,
                    451.74008401646466,
                    458.9431216334779,
                    426.9862199889881,
                    253.14606169919298,
                    465.26371384344617,
                    328.1645011778133,
                    235.3153870231617,
                    283.2820550891583,
                    367.512354957788,
                    494.97231557327467,
                    471.8964923859182,
                    532.3291703033054,
                    339.0104121087185,
                    417.12160323490815,
                    398.3874909594634,
                    510.6429630050557,
                    532.7251132280181,
                    520.7339524786186,
                    305.67970819373744,
                    482.35481413317376,
                    317.98886528873186,
                    373.6397599456522,
                    389.4776862660261,
                    420.31058162336694,
                    471.26951134542537,
                    351.1421485534647,
                    356.70259829784163,
                    497.3960515423493,
                    366.49006865964765,
                    497.8559268483249,
                    304.74062908780985,
                    394.9523352234032,
                    390.1023345028697,
                    472.1400249347669,
                    334.1042416972061,
                    431.5889323655199,
                    275.1147202160711,
                    344.62786048276377,
                    205.15433207278855,
                    459.4537199209649,
                    334.9998813873787,
                    515.7809566354252,
                    523.5013143022578,
                    333.3949305101742,
                    397.08929313288115,
                    447.7945753618184,
                    411.6800151641047,
                    384.34850422211167,
                    530.579029201589,
                    420.64434397950373,
                    360.7980098169131,
                    579.4063034784222,
                    417.9067155347259,
                    449.0635893948048,
                    293.8745071279645,
                    459.55720733233767,
                    332.66008171015966,
                    510.9735332626041,
                    237.66731016753246,
                    445.2068565613202,
                    560.4789258470914,
                    505.71598746975104,
                    332.00935817596365,
                    286.88650701865026,
                    444.04502282272864,
                    303.4228921748307,
                    329.5538595933846,
                    435.6897059686094,
                    486.8858773809353,
                    526.2167610560381,
                    331.4437101493809,
                    416.1630620888118,
                    491.77369784827977,
                    343.09667466497945,
                    422.14394429380695,
                    430.9508841982134,
                    386.54421598026033,
                    423.8974226260946,
                    413.4080316509408,
                    288.9881966959706,
                    311.6207682997139,
                    435.8314500915818,
                    576.4513578908013,
                    372.128313873384,
                    416.8967830933679,
                    285.780329285886,
                    523.510523061941,
                    521.7701892815131,
                    378.59439526585936,
                    476.3444148609804,
                    375.23715122992513,
                    207.74311395027794,
                    183.40924852164483,
                    441.7716977844143,
                    363.1982623347178,
                    451.73767057504995,
                    517.2014736284235,
                    450.18413887449,
                    244.94449681257805,
                    583.8841680032832,
                    470.7862975323716,
                    482.63773678830177,
                    311.7803894640073,
                    510.0073878228758,
                    428.6936749037143,
                    407.6240449160584,
                    280.1829572824189,
                    471.46302852158163,
                    359.65050675964653,
                    349.000358821478,
                    324.6564890626345,
                    405.793627146763,
                    598.1072761758334,
                    316.1438935313911,
                    427.9709895178103,
                    558.4429736082055,
                    412.52073607932505,
                    267.751843869565,
                    405.17582910982094,
                    371.21901436020465,
                    422.34193919734435,
                    394.77917978616756,
                    342.8168625638326,
                    396.21155610513136,
                    266.4537788017043,
                    308.73078062787465,
                    421.3878792267344,
                    363.45643049848684,
                    409.7947288993951,
                    437.36528843499167,
                    549.871085633889,
                    384.1229189039825,
                    353.47323753226755,
                    341.55426622198394,
                    502.40339698524,
                    428.8074569678952,
                    418.6817559343384,
                    529.7758486161592,
                    416.7852601840012,
                    366.3861828480041,
                    376.37907841758675,
                    347.23693228046193,
                    486.44290084058366,
                    334.82984832258785,
                    300.00913537278547,
                    414.2450328227285,
                    479.34279476750305,
                    469.1349883559943,
                    442.7305100859324,
                    328.7831971870642,
                    402.93308891659655,
                    379.85281009127857,
                    505.06326874263226,
                    584.8296441717981,
                    332.6342299358127,
                    455.2368800334246,
                    353.3684706947526,
                    311.1523817372873,
                    602.0551516961247,
                    431.8398280352855,
                    373.30685553832245,
                    407.0496776587788,
                    397.24967053131473,
                    368.84808593499105,
                    424.81199893677643,
                    477.9987082373597,
                    578.3120801904045,
                    440.0091846377771,
                    326.8947447732464,
                    351.35214028344086,
                    366.8198157855127,
                    445.869273589704,
                    366.74166213428026,
                    371.771263186296,
                    287.7253455763701,
                    561.1905703124708,
                    113.76051407670695,
                    472.9983162460155,
                    498.44311598772174,
                    509.5569661427214,
                    461.29958071607973,
                    324.4531773427427,
                    304.3350286538734,
                    464.07880102367443,
                    266.770911628647,
                    473.82887006682336,
                    483.93033773135846,
                    452.1902894638611,
                    418.4624335668367,
                    418.09486970450996,
                    372.9316945788935,
                    566.6388735894171,
                    340.63526239010116,
                    391.5716601498804,
                    441.6510118567229,
                    495.93597741486985
                  ],
                  "yaxis": "y"
                },
                {
                  "line": {
                    "color": "red",
                    "width": 2
                  },
                  "mode": "lines",
                  "name": "Línea de regresión",
                  "type": "scatter",
                  "x": [
                    218,
                    247,
                    278,
                    148,
                    229,
                    232,
                    275,
                    122,
                    195,
                    148,
                    164,
                    135,
                    219,
                    220,
                    161,
                    222,
                    263,
                    78,
                    134,
                    173,
                    198,
                    210,
                    151,
                    215,
                    225,
                    219,
                    178,
                    211,
                    205,
                    207,
                    217,
                    189,
                    193,
                    120,
                    266,
                    241,
                    238,
                    173,
                    253,
                    170,
                    170,
                    199,
                    176,
                    190,
                    160,
                    176,
                    182,
                    213,
                    207,
                    248,
                    156,
                    214,
                    139,
                    241,
                    242,
                    117,
                    253,
                    156,
                    175,
                    27,
                    225,
                    112,
                    178,
                    220,
                    176,
                    192,
                    119,
                    206,
                    175,
                    160,
                    194,
                    181,
                    140,
                    174,
                    139,
                    123,
                    78,
                    239,
                    207,
                    198,
                    146,
                    139,
                    151,
                    199,
                    115,
                    235,
                    247,
                    216,
                    195,
                    241,
                    211,
                    97,
                    221,
                    138,
                    257,
                    241,
                    193,
                    205,
                    187,
                    194,
                    213,
                    216,
                    265,
                    151,
                    274,
                    197,
                    287,
                    193,
                    198,
                    206,
                    264,
                    166,
                    154,
                    163,
                    299,
                    235,
                    242,
                    239,
                    175,
                    189,
                    260,
                    272,
                    274,
                    176,
                    236,
                    268,
                    207,
                    216,
                    238,
                    151,
                    255,
                    130,
                    231,
                    240,
                    228,
                    161,
                    146,
                    181,
                    192,
                    201,
                    219,
                    185,
                    151,
                    147,
                    239,
                    94,
                    247,
                    207,
                    224,
                    293,
                    198,
                    212,
                    195,
                    150,
                    190,
                    247,
                    218,
                    180,
                    234,
                    192,
                    234,
                    248,
                    154,
                    154,
                    264,
                    296,
                    155,
                    212,
                    229,
                    212,
                    219,
                    260,
                    246,
                    200,
                    148,
                    259,
                    158,
                    225,
                    184,
                    297,
                    205,
                    176,
                    147,
                    204,
                    146,
                    197,
                    221,
                    196,
                    145,
                    252,
                    200,
                    238,
                    192,
                    201,
                    238,
                    168,
                    193,
                    162,
                    153,
                    233,
                    237,
                    223,
                    215,
                    194,
                    142,
                    223,
                    206,
                    237,
                    231,
                    185,
                    238,
                    90,
                    164,
                    167,
                    259,
                    242,
                    257,
                    115,
                    213,
                    173,
                    198,
                    245,
                    182,
                    241,
                    191,
                    155,
                    215,
                    161,
                    204,
                    277,
                    206,
                    131,
                    236,
                    257,
                    249,
                    232,
                    196,
                    198,
                    157,
                    244,
                    207,
                    246,
                    163,
                    153,
                    218,
                    232,
                    239,
                    196,
                    191,
                    181,
                    145,
                    237,
                    200,
                    232,
                    158,
                    205,
                    205,
                    232,
                    223,
                    227,
                    220,
                    236,
                    145,
                    282,
                    217,
                    142,
                    219,
                    218,
                    275,
                    217,
                    193,
                    149,
                    158,
                    206,
                    249,
                    234,
                    270,
                    197,
                    231,
                    186,
                    147,
                    139,
                    236,
                    226,
                    129,
                    245,
                    267,
                    238,
                    239,
                    230,
                    214,
                    229,
                    180,
                    213,
                    235,
                    189,
                    130,
                    213,
                    136,
                    252,
                    240,
                    162,
                    232,
                    220,
                    232,
                    205,
                    267,
                    147,
                    191,
                    158,
                    229,
                    183,
                    196,
                    204,
                    198,
                    202,
                    250,
                    233,
                    203,
                    184,
                    230,
                    240,
                    232,
                    149,
                    130,
                    266,
                    184,
                    70,
                    234,
                    147,
                    192,
                    119,
                    171,
                    249,
                    271,
                    195,
                    215,
                    143,
                    89,
                    150,
                    171,
                    197,
                    219,
                    206,
                    219,
                    227,
                    180,
                    266,
                    215,
                    237,
                    186,
                    175,
                    221,
                    161,
                    200,
                    203,
                    185,
                    177,
                    182,
                    259,
                    179,
                    247,
                    168,
                    93,
                    177,
                    167,
                    180,
                    188,
                    166,
                    242,
                    232,
                    188,
                    220,
                    275,
                    202,
                    130,
                    252,
                    280,
                    231,
                    192,
                    249,
                    282,
                    231,
                    132,
                    124,
                    218,
                    207,
                    202,
                    190,
                    218,
                    199,
                    222,
                    210,
                    167,
                    216,
                    134,
                    180,
                    269,
                    194,
                    173,
                    180,
                    139,
                    169,
                    287,
                    175,
                    204,
                    193,
                    239,
                    165,
                    256,
                    215,
                    245,
                    197,
                    197,
                    202,
                    226,
                    213,
                    214,
                    189,
                    167,
                    268,
                    179,
                    172,
                    224,
                    114,
                    191,
                    255,
                    205,
                    177,
                    185,
                    189,
                    203,
                    172,
                    156,
                    205,
                    151,
                    207,
                    214,
                    177,
                    259,
                    227,
                    239,
                    201,
                    232,
                    234,
                    218,
                    195,
                    247,
                    135,
                    226,
                    234,
                    289,
                    216,
                    172,
                    176,
                    140,
                    257,
                    155,
                    300,
                    205,
                    166,
                    153,
                    217,
                    258,
                    195,
                    262,
                    95,
                    204,
                    250,
                    241,
                    258,
                    206,
                    238,
                    187,
                    271,
                    230,
                    204,
                    220,
                    189,
                    214,
                    212,
                    167,
                    197,
                    157,
                    155,
                    215,
                    164,
                    209,
                    174,
                    243,
                    226,
                    198,
                    256,
                    259,
                    186,
                    198,
                    154,
                    213,
                    203,
                    219,
                    235,
                    273,
                    178,
                    276,
                    153,
                    244,
                    204,
                    168,
                    234,
                    265,
                    220,
                    157,
                    163,
                    177,
                    268,
                    248,
                    247,
                    213,
                    222,
                    224,
                    172,
                    261,
                    184,
                    163,
                    154,
                    187,
                    177,
                    132,
                    117,
                    206,
                    208,
                    154,
                    181,
                    261,
                    210,
                    232,
                    169,
                    179,
                    222,
                    275,
                    212,
                    241,
                    237,
                    266,
                    193,
                    241,
                    289,
                    203,
                    193,
                    220,
                    220,
                    265,
                    138,
                    203,
                    138,
                    104,
                    206,
                    194,
                    193,
                    201,
                    228,
                    211,
                    278,
                    223,
                    145,
                    136,
                    292,
                    210,
                    158,
                    203,
                    216,
                    279,
                    171,
                    180,
                    226,
                    148,
                    164,
                    261,
                    162,
                    182,
                    274,
                    236,
                    214,
                    228,
                    223,
                    217,
                    201,
                    169,
                    183,
                    179,
                    169,
                    183,
                    200,
                    223,
                    291,
                    207,
                    69,
                    155,
                    219,
                    228,
                    177,
                    88,
                    234,
                    168,
                    263,
                    209,
                    251,
                    152,
                    187,
                    186,
                    192,
                    183,
                    275,
                    216,
                    268,
                    200,
                    120,
                    249,
                    260,
                    206,
                    150,
                    181,
                    161,
                    282,
                    181,
                    296,
                    202,
                    155,
                    152,
                    150,
                    201,
                    204,
                    221,
                    248,
                    248,
                    209,
                    228,
                    260,
                    236,
                    223,
                    144,
                    252,
                    232,
                    233,
                    195,
                    227,
                    194,
                    194,
                    158,
                    229,
                    160,
                    224,
                    269,
                    209,
                    231,
                    196,
                    208,
                    196,
                    161,
                    262,
                    224,
                    202,
                    195,
                    201,
                    206,
                    170,
                    207,
                    249,
                    208,
                    230,
                    210,
                    159,
                    223,
                    233,
                    224,
                    180,
                    227,
                    228,
                    234,
                    184,
                    213,
                    188,
                    171,
                    113,
                    196,
                    293,
                    228,
                    228,
                    155,
                    266,
                    155,
                    227,
                    221,
                    227,
                    168,
                    254,
                    247,
                    201,
                    214,
                    191,
                    242,
                    196,
                    258,
                    194,
                    186,
                    199,
                    116,
                    177,
                    255,
                    161,
                    267,
                    250,
                    297,
                    246,
                    204,
                    257,
                    223,
                    291,
                    226,
                    244,
                    204,
                    173,
                    252,
                    140,
                    131,
                    226,
                    217,
                    176,
                    249,
                    129,
                    225,
                    144,
                    270,
                    146,
                    168,
                    183,
                    255,
                    192,
                    225,
                    176,
                    225,
                    150,
                    247,
                    204,
                    157,
                    225,
                    215,
                    201,
                    169,
                    257,
                    208,
                    205,
                    231,
                    252,
                    166,
                    271,
                    165,
                    210,
                    176,
                    223,
                    189,
                    160,
                    245,
                    187,
                    182,
                    218,
                    210,
                    198,
                    214,
                    175,
                    149,
                    222,
                    191,
                    219,
                    191,
                    162,
                    208,
                    122,
                    233,
                    261,
                    159,
                    251,
                    243,
                    173,
                    251,
                    127,
                    228,
                    89,
                    194,
                    178,
                    170,
                    196,
                    209,
                    250,
                    145,
                    198,
                    210,
                    235,
                    183,
                    164,
                    208,
                    229,
                    276,
                    254,
                    227,
                    230,
                    213,
                    126,
                    234,
                    164,
                    118,
                    141,
                    185,
                    247,
                    235,
                    267,
                    168,
                    207,
                    200,
                    256,
                    267,
                    261,
                    152,
                    240,
                    158,
                    187,
                    194,
                    210,
                    236,
                    175,
                    178,
                    249,
                    182,
                    248,
                    153,
                    198,
                    194,
                    236,
                    168,
                    216,
                    137,
                    173,
                    103,
                    227,
                    169,
                    259,
                    261,
                    168,
                    199,
                    224,
                    205,
                    192,
                    265,
                    210,
                    181,
                    290,
                    208,
                    225,
                    147,
                    232,
                    168,
                    254,
                    119,
                    222,
                    281,
                    252,
                    164,
                    144,
                    224,
                    151,
                    164,
                    218,
                    244,
                    262,
                    166,
                    210,
                    247,
                    172,
                    211,
                    214,
                    193,
                    211,
                    208,
                    145,
                    156,
                    218,
                    288,
                    185,
                    208,
                    143,
                    262,
                    262,
                    190,
                    237,
                    190,
                    104,
                    92,
                    220,
                    184,
                    225,
                    258,
                    225,
                    123,
                    293,
                    235,
                    242,
                    156,
                    254,
                    214,
                    204,
                    140,
                    235,
                    179,
                    175,
                    162,
                    204,
                    300,
                    157,
                    214,
                    278,
                    206,
                    134,
                    204,
                    184,
                    213,
                    198,
                    172,
                    197,
                    133,
                    155,
                    211,
                    181,
                    205,
                    219,
                    275,
                    191,
                    177,
                    172,
                    251,
                    214,
                    210,
                    265,
                    211,
                    184,
                    187,
                    173,
                    244,
                    167,
                    151,
                    205,
                    238,
                    235,
                    220,
                    164,
                    200,
                    191,
                    252,
                    292,
                    167,
                    227,
                    178,
                    155,
                    300,
                    216,
                    187,
                    204,
                    198,
                    186,
                    211,
                    239,
                    289,
                    219,
                    163,
                    175,
                    184,
                    223,
                    182,
                    185,
                    144,
                    280,
                    55,
                    237,
                    250,
                    256,
                    231,
                    162,
                    150,
                    232,
                    134,
                    236,
                    242,
                    225,
                    207,
                    208,
                    188,
                    282,
                    172,
                    195,
                    223,
                    249
                  ],
                  "y": [
                    435.94175782018823,
                    493.9507806673966,
                    555.9604257799298,
                    295.91997853382315,
                    457.94518027947413,
                    463.9461136774612,
                    549.9594923819427,
                    243.91188908460185,
                    389.934601768954,
                    295.91997853382315,
                    327.9249566564209,
                    269.9159338092125,
                    437.94206895285055,
                    439.9423800855129,
                    321.9240232584338,
                    443.9430023508376,
                    525.9557587899943,
                    155.89819924745808,
                    267.91562267655013,
                    345.9277568503821,
                    395.93553516694107,
                    419.93926875888934,
                    301.9209119318102,
                    429.9408244222011,
                    449.9439357488247,
                    437.94206895285055,
                    355.9293125136939,
                    421.9395798915517,
                    409.9377130955776,
                    413.9383353609023,
                    433.94144668752585,
                    377.9327349729798,
                    385.93397950362925,
                    239.91126681927713,
                    531.9566921879814,
                    481.94891387142246,
                    475.94798047343534,
                    345.9277568503821,
                    505.95264746337074,
                    339.926823452395,
                    339.926823452395,
                    397.9358462996034,
                    351.92869024836915,
                    379.9330461056422,
                    319.92371212577143,
                    351.92869024836915,
                    363.93055704434335,
                    425.9402021568764,
                    413.9383353609023,
                    495.9510918000589,
                    311.922467595122,
                    427.9405132895388,
                    277.91717833986195,
                    481.94891387142246,
                    483.9492250040848,
                    233.91033342129006,
                    505.95264746337074,
                    311.922467595122,
                    349.92837911570683,
                    53.882331481677845,
                    449.9439357488247,
                    223.90877775797827,
                    355.9293125136939,
                    439.9423800855129,
                    351.92869024836915,
                    383.9336683709669,
                    237.91095568661476,
                    411.9380242282399,
                    349.92837911570683,
                    319.92371212577143,
                    387.9342906362916,
                    361.93024591168097,
                    279.91748947252427,
                    347.92806798304446,
                    277.91717833986195,
                    245.9122002172642,
                    155.89819924745808,
                    477.9482916060977,
                    413.9383353609023,
                    395.93553516694107,
                    291.91935626849846,
                    277.91717833986195,
                    301.9209119318102,
                    397.9358462996034,
                    229.90971115596534,
                    469.94704707544827,
                    493.9507806673966,
                    431.9411355548635,
                    389.934601768954,
                    481.94891387142246,
                    421.9395798915517,
                    193.9041107680429,
                    441.9426912181753,
                    275.9168672071996,
                    513.9538919940202,
                    481.94891387142246,
                    385.93397950362925,
                    409.9377130955776,
                    373.9321127076551,
                    387.9342906362916,
                    425.9402021568764,
                    431.9411355548635,
                    529.9563810553191,
                    301.9209119318102,
                    547.9591812492803,
                    393.9352240342787,
                    573.963225973891,
                    385.93397950362925,
                    395.93553516694107,
                    411.9380242282399,
                    527.9560699226568,
                    331.92557892174557,
                    307.9218453297973,
                    325.9246455237585,
                    597.9669595658393,
                    469.94704707544827,
                    483.9492250040848,
                    477.9482916060977,
                    349.92837911570683,
                    377.9327349729798,
                    519.9548253920073,
                    543.9585589839556,
                    547.9591812492803,
                    351.92869024836915,
                    471.94735820811064,
                    535.9573144533061,
                    413.9383353609023,
                    431.9411355548635,
                    475.94798047343534,
                    301.9209119318102,
                    509.95326972869543,
                    259.9143781459007,
                    461.9458025447989,
                    479.9486027387601,
                    455.9448691468118,
                    321.9240232584338,
                    291.91935626849846,
                    361.93024591168097,
                    383.9336683709669,
                    401.93646856492813,
                    437.94206895285055,
                    369.9314904423304,
                    301.9209119318102,
                    293.9196674011608,
                    477.9482916060977,
                    187.90317737005583,
                    493.9507806673966,
                    413.9383353609023,
                    447.94362461616237,
                    585.9650927698651,
                    395.93553516694107,
                    423.93989102421403,
                    389.934601768954,
                    299.92060079914785,
                    379.9330461056422,
                    493.9507806673966,
                    435.94175782018823,
                    359.9299347790186,
                    467.94673594278595,
                    383.9336683709669,
                    467.94673594278595,
                    495.9510918000589,
                    307.9218453297973,
                    307.9218453297973,
                    527.9560699226568,
                    591.9660261678522,
                    309.92215646245967,
                    423.93989102421403,
                    457.94518027947413,
                    423.93989102421403,
                    437.94206895285055,
                    519.9548253920073,
                    491.9504695347342,
                    399.93615743226576,
                    295.91997853382315,
                    517.9545142593449,
                    315.92308986044674,
                    449.9439357488247,
                    367.93117930966804,
                    593.9663373005145,
                    409.9377130955776,
                    351.92869024836915,
                    293.9196674011608,
                    407.9374019629152,
                    291.91935626849846,
                    393.9352240342787,
                    441.9426912181753,
                    391.9349129016163,
                    289.9190451358361,
                    503.95233633070836,
                    399.93615743226576,
                    475.94798047343534,
                    383.9336683709669,
                    401.93646856492813,
                    475.94798047343534,
                    335.9262011870703,
                    385.93397950362925,
                    323.9243343910962,
                    305.9215341971349,
                    465.9464248101236,
                    473.947669340773,
                    445.9433134835,
                    429.9408244222011,
                    387.9342906362916,
                    283.918111737849,
                    445.9433134835,
                    411.9380242282399,
                    473.947669340773,
                    461.9458025447989,
                    369.9314904423304,
                    475.94798047343534,
                    179.90193283940638,
                    327.9249566564209,
                    333.92589005440794,
                    517.9545142593449,
                    483.9492250040848,
                    513.9538919940202,
                    229.90971115596534,
                    425.9402021568764,
                    345.9277568503821,
                    395.93553516694107,
                    489.95015840207185,
                    363.93055704434335,
                    481.94891387142246,
                    381.93335723830455,
                    309.92215646245967,
                    429.9408244222011,
                    321.9240232584338,
                    407.9374019629152,
                    553.9601146472673,
                    411.9380242282399,
                    261.91468927856306,
                    471.94735820811064,
                    513.9538919940202,
                    497.9514029327213,
                    463.9461136774612,
                    391.9349129016163,
                    395.93553516694107,
                    313.92277872778436,
                    487.94984726940953,
                    413.9383353609023,
                    491.9504695347342,
                    325.9246455237585,
                    305.9215341971349,
                    435.94175782018823,
                    463.9461136774612,
                    477.9482916060977,
                    391.9349129016163,
                    381.93335723830455,
                    361.93024591168097,
                    289.9190451358361,
                    473.947669340773,
                    399.93615743226576,
                    463.9461136774612,
                    315.92308986044674,
                    409.9377130955776,
                    409.9377130955776,
                    463.9461136774612,
                    445.9433134835,
                    453.94455801414944,
                    439.9423800855129,
                    471.94735820811064,
                    289.9190451358361,
                    563.9616703105792,
                    433.94144668752585,
                    283.918111737849,
                    437.94206895285055,
                    435.94175782018823,
                    549.9594923819427,
                    433.94144668752585,
                    385.93397950362925,
                    297.92028966648553,
                    315.92308986044674,
                    411.9380242282399,
                    497.9514029327213,
                    467.94673594278595,
                    539.9579367186309,
                    393.9352240342787,
                    461.9458025447989,
                    371.93180157499273,
                    293.9196674011608,
                    277.91717833986195,
                    471.94735820811064,
                    451.94424688148706,
                    257.91406701323837,
                    489.95015840207185,
                    533.9570033206438,
                    475.94798047343534,
                    477.9482916060977,
                    459.9454914121365,
                    427.9405132895388,
                    457.94518027947413,
                    359.9299347790186,
                    425.9402021568764,
                    469.94704707544827,
                    377.9327349729798,
                    259.9143781459007,
                    425.9402021568764,
                    271.9162449418749,
                    503.95233633070836,
                    479.9486027387601,
                    323.9243343910962,
                    463.9461136774612,
                    439.9423800855129,
                    463.9461136774612,
                    409.9377130955776,
                    533.9570033206438,
                    293.9196674011608,
                    381.93335723830455,
                    315.92308986044674,
                    457.94518027947413,
                    365.93086817700566,
                    391.9349129016163,
                    407.9374019629152,
                    395.93553516694107,
                    403.93677969759045,
                    499.95171406538367,
                    465.9464248101236,
                    405.9370908302528,
                    367.93117930966804,
                    459.9454914121365,
                    479.9486027387601,
                    463.9461136774612,
                    297.92028966648553,
                    259.9143781459007,
                    531.9566921879814,
                    367.93117930966804,
                    139.89571018615922,
                    467.94673594278595,
                    293.9196674011608,
                    383.9336683709669,
                    237.91095568661476,
                    341.9271345850574,
                    497.9514029327213,
                    541.9582478512932,
                    389.934601768954,
                    429.9408244222011,
                    285.91842287051134,
                    177.90162170674404,
                    299.92060079914785,
                    341.9271345850574,
                    393.9352240342787,
                    437.94206895285055,
                    411.9380242282399,
                    437.94206895285055,
                    453.94455801414944,
                    359.9299347790186,
                    531.9566921879814,
                    429.9408244222011,
                    473.947669340773,
                    371.93180157499273,
                    349.92837911570683,
                    441.9426912181753,
                    321.9240232584338,
                    399.93615743226576,
                    405.9370908302528,
                    369.9314904423304,
                    353.9290013810315,
                    363.93055704434335,
                    517.9545142593449,
                    357.9296236463562,
                    493.9507806673966,
                    335.9262011870703,
                    185.90286623739345,
                    353.9290013810315,
                    333.92589005440794,
                    359.9299347790186,
                    375.9324238403175,
                    331.92557892174557,
                    483.9492250040848,
                    463.9461136774612,
                    375.9324238403175,
                    439.9423800855129,
                    549.9594923819427,
                    403.93677969759045,
                    259.9143781459007,
                    503.95233633070836,
                    559.9610480452544,
                    461.9458025447989,
                    383.9336683709669,
                    497.9514029327213,
                    563.9616703105792,
                    461.9458025447989,
                    263.91500041122544,
                    247.91251134992655,
                    435.94175782018823,
                    413.9383353609023,
                    403.93677969759045,
                    379.9330461056422,
                    435.94175782018823,
                    397.9358462996034,
                    443.9430023508376,
                    419.93926875888934,
                    333.92589005440794,
                    431.9411355548635,
                    267.91562267655013,
                    359.9299347790186,
                    537.9576255859686,
                    387.9342906362916,
                    345.9277568503821,
                    359.9299347790186,
                    277.91717833986195,
                    337.9265123197327,
                    573.963225973891,
                    349.92837911570683,
                    407.9374019629152,
                    385.93397950362925,
                    477.9482916060977,
                    329.92526778908325,
                    511.9535808613578,
                    429.9408244222011,
                    489.95015840207185,
                    393.9352240342787,
                    393.9352240342787,
                    403.93677969759045,
                    451.94424688148706,
                    425.9402021568764,
                    427.9405132895388,
                    377.9327349729798,
                    333.92589005440794,
                    535.9573144533061,
                    357.9296236463562,
                    343.92744571771976,
                    447.94362461616237,
                    227.909400023303,
                    381.93335723830455,
                    509.95326972869543,
                    409.9377130955776,
                    353.9290013810315,
                    369.9314904423304,
                    377.9327349729798,
                    405.9370908302528,
                    343.92744571771976,
                    311.922467595122,
                    409.9377130955776,
                    301.9209119318102,
                    413.9383353609023,
                    427.9405132895388,
                    353.9290013810315,
                    517.9545142593449,
                    453.94455801414944,
                    477.9482916060977,
                    401.93646856492813,
                    463.9461136774612,
                    467.94673594278595,
                    435.94175782018823,
                    389.934601768954,
                    493.9507806673966,
                    269.9159338092125,
                    451.94424688148706,
                    467.94673594278595,
                    577.9638482392156,
                    431.9411355548635,
                    343.92744571771976,
                    351.92869024836915,
                    279.91748947252427,
                    513.9538919940202,
                    309.92215646245967,
                    599.9672706985016,
                    409.9377130955776,
                    331.92557892174557,
                    305.9215341971349,
                    433.94144668752585,
                    515.9542031266826,
                    389.934601768954,
                    523.955447657332,
                    189.90348850271818,
                    407.9374019629152,
                    499.95171406538367,
                    481.94891387142246,
                    515.9542031266826,
                    411.9380242282399,
                    475.94798047343534,
                    373.9321127076551,
                    541.9582478512932,
                    459.9454914121365,
                    407.9374019629152,
                    439.9423800855129,
                    377.9327349729798,
                    427.9405132895388,
                    423.93989102421403,
                    333.92589005440794,
                    393.9352240342787,
                    313.92277872778436,
                    309.92215646245967,
                    429.9408244222011,
                    327.9249566564209,
                    417.93895762622697,
                    347.92806798304446,
                    485.94953613674716,
                    451.94424688148706,
                    395.93553516694107,
                    511.9535808613578,
                    517.9545142593449,
                    371.93180157499273,
                    395.93553516694107,
                    307.9218453297973,
                    425.9402021568764,
                    405.9370908302528,
                    437.94206895285055,
                    469.94704707544827,
                    545.958870116618,
                    355.9293125136939,
                    551.959803514605,
                    305.9215341971349,
                    487.94984726940953,
                    407.9374019629152,
                    335.9262011870703,
                    467.94673594278595,
                    529.9563810553191,
                    439.9423800855129,
                    313.92277872778436,
                    325.9246455237585,
                    353.9290013810315,
                    535.9573144533061,
                    495.9510918000589,
                    493.9507806673966,
                    425.9402021568764,
                    443.9430023508376,
                    447.94362461616237,
                    343.92744571771976,
                    521.9551365246697,
                    367.93117930966804,
                    325.9246455237585,
                    307.9218453297973,
                    373.9321127076551,
                    353.9290013810315,
                    263.91500041122544,
                    233.91033342129006,
                    411.9380242282399,
                    415.93864649356465,
                    307.9218453297973,
                    361.93024591168097,
                    521.9551365246697,
                    419.93926875888934,
                    463.9461136774612,
                    337.9265123197327,
                    357.9296236463562,
                    443.9430023508376,
                    549.9594923819427,
                    423.93989102421403,
                    481.94891387142246,
                    473.947669340773,
                    531.9566921879814,
                    385.93397950362925,
                    481.94891387142246,
                    577.9638482392156,
                    405.9370908302528,
                    385.93397950362925,
                    439.9423800855129,
                    439.9423800855129,
                    529.9563810553191,
                    275.9168672071996,
                    405.9370908302528,
                    275.9168672071996,
                    207.9062886966794,
                    411.9380242282399,
                    387.9342906362916,
                    385.93397950362925,
                    401.93646856492813,
                    455.9448691468118,
                    421.9395798915517,
                    555.9604257799298,
                    445.9433134835,
                    289.9190451358361,
                    271.9162449418749,
                    583.9647816372028,
                    419.93926875888934,
                    315.92308986044674,
                    405.9370908302528,
                    431.9411355548635,
                    557.9607369125921,
                    341.9271345850574,
                    359.9299347790186,
                    451.94424688148706,
                    295.91997853382315,
                    327.9249566564209,
                    521.9551365246697,
                    323.9243343910962,
                    363.93055704434335,
                    547.9591812492803,
                    471.94735820811064,
                    427.9405132895388,
                    455.9448691468118,
                    445.9433134835,
                    433.94144668752585,
                    401.93646856492813,
                    337.9265123197327,
                    365.93086817700566,
                    357.9296236463562,
                    337.9265123197327,
                    365.93086817700566,
                    399.93615743226576,
                    445.9433134835,
                    581.9644705045404,
                    413.9383353609023,
                    137.89539905349687,
                    309.92215646245967,
                    437.94206895285055,
                    455.9448691468118,
                    353.9290013810315,
                    175.90131057408166,
                    467.94673594278595,
                    335.9262011870703,
                    525.9557587899943,
                    417.93895762622697,
                    501.95202519804604,
                    303.9212230644726,
                    373.9321127076551,
                    371.93180157499273,
                    383.9336683709669,
                    365.93086817700566,
                    549.9594923819427,
                    431.9411355548635,
                    535.9573144533061,
                    399.93615743226576,
                    239.91126681927713,
                    497.9514029327213,
                    519.9548253920073,
                    411.9380242282399,
                    299.92060079914785,
                    361.93024591168097,
                    321.9240232584338,
                    563.9616703105792,
                    361.93024591168097,
                    591.9660261678522,
                    403.93677969759045,
                    309.92215646245967,
                    303.9212230644726,
                    299.92060079914785,
                    401.93646856492813,
                    407.9374019629152,
                    441.9426912181753,
                    495.9510918000589,
                    495.9510918000589,
                    417.93895762622697,
                    455.9448691468118,
                    519.9548253920073,
                    471.94735820811064,
                    445.9433134835,
                    287.9187340031737,
                    503.95233633070836,
                    463.9461136774612,
                    465.9464248101236,
                    389.934601768954,
                    453.94455801414944,
                    387.9342906362916,
                    387.9342906362916,
                    315.92308986044674,
                    457.94518027947413,
                    319.92371212577143,
                    447.94362461616237,
                    537.9576255859686,
                    417.93895762622697,
                    461.9458025447989,
                    391.9349129016163,
                    415.93864649356465,
                    391.9349129016163,
                    321.9240232584338,
                    523.955447657332,
                    447.94362461616237,
                    403.93677969759045,
                    389.934601768954,
                    401.93646856492813,
                    411.9380242282399,
                    339.926823452395,
                    413.9383353609023,
                    497.9514029327213,
                    415.93864649356465,
                    459.9454914121365,
                    419.93926875888934,
                    317.9234009931091,
                    445.9433134835,
                    465.9464248101236,
                    447.94362461616237,
                    359.9299347790186,
                    453.94455801414944,
                    455.9448691468118,
                    467.94673594278595,
                    367.93117930966804,
                    425.9402021568764,
                    375.9324238403175,
                    341.9271345850574,
                    225.90908889064062,
                    391.9349129016163,
                    585.9650927698651,
                    455.9448691468118,
                    455.9448691468118,
                    309.92215646245967,
                    531.9566921879814,
                    309.92215646245967,
                    453.94455801414944,
                    441.9426912181753,
                    453.94455801414944,
                    335.9262011870703,
                    507.9529585960331,
                    493.9507806673966,
                    401.93646856492813,
                    427.9405132895388,
                    381.93335723830455,
                    483.9492250040848,
                    391.9349129016163,
                    515.9542031266826,
                    387.9342906362916,
                    371.93180157499273,
                    397.9358462996034,
                    231.9100222886277,
                    353.9290013810315,
                    509.95326972869543,
                    321.9240232584338,
                    533.9570033206438,
                    499.95171406538367,
                    593.9663373005145,
                    491.9504695347342,
                    407.9374019629152,
                    513.9538919940202,
                    445.9433134835,
                    581.9644705045404,
                    451.94424688148706,
                    487.94984726940953,
                    407.9374019629152,
                    345.9277568503821,
                    503.95233633070836,
                    279.91748947252427,
                    261.91468927856306,
                    451.94424688148706,
                    433.94144668752585,
                    351.92869024836915,
                    497.9514029327213,
                    257.91406701323837,
                    449.9439357488247,
                    287.9187340031737,
                    539.9579367186309,
                    291.91935626849846,
                    335.9262011870703,
                    365.93086817700566,
                    509.95326972869543,
                    383.9336683709669,
                    449.9439357488247,
                    351.92869024836915,
                    449.9439357488247,
                    299.92060079914785,
                    493.9507806673966,
                    407.9374019629152,
                    313.92277872778436,
                    449.9439357488247,
                    429.9408244222011,
                    401.93646856492813,
                    337.9265123197327,
                    513.9538919940202,
                    415.93864649356465,
                    409.9377130955776,
                    461.9458025447989,
                    503.95233633070836,
                    331.92557892174557,
                    541.9582478512932,
                    329.92526778908325,
                    419.93926875888934,
                    351.92869024836915,
                    445.9433134835,
                    377.9327349729798,
                    319.92371212577143,
                    489.95015840207185,
                    373.9321127076551,
                    363.93055704434335,
                    435.94175782018823,
                    419.93926875888934,
                    395.93553516694107,
                    427.9405132895388,
                    349.92837911570683,
                    297.92028966648553,
                    443.9430023508376,
                    381.93335723830455,
                    437.94206895285055,
                    381.93335723830455,
                    323.9243343910962,
                    415.93864649356465,
                    243.91188908460185,
                    465.9464248101236,
                    521.9551365246697,
                    317.9234009931091,
                    501.95202519804604,
                    485.94953613674716,
                    345.9277568503821,
                    501.95202519804604,
                    253.91344474791364,
                    455.9448691468118,
                    177.90162170674404,
                    387.9342906362916,
                    355.9293125136939,
                    339.926823452395,
                    391.9349129016163,
                    417.93895762622697,
                    499.95171406538367,
                    289.9190451358361,
                    395.93553516694107,
                    419.93926875888934,
                    469.94704707544827,
                    365.93086817700566,
                    327.9249566564209,
                    415.93864649356465,
                    457.94518027947413,
                    551.959803514605,
                    507.9529585960331,
                    453.94455801414944,
                    459.9454914121365,
                    425.9402021568764,
                    251.91313361525127,
                    467.94673594278595,
                    327.9249566564209,
                    235.9106445539524,
                    281.91780060518664,
                    369.9314904423304,
                    493.9507806673966,
                    469.94704707544827,
                    533.9570033206438,
                    335.9262011870703,
                    413.9383353609023,
                    399.93615743226576,
                    511.9535808613578,
                    533.9570033206438,
                    521.9551365246697,
                    303.9212230644726,
                    479.9486027387601,
                    315.92308986044674,
                    373.9321127076551,
                    387.9342906362916,
                    419.93926875888934,
                    471.94735820811064,
                    349.92837911570683,
                    355.9293125136939,
                    497.9514029327213,
                    363.93055704434335,
                    495.9510918000589,
                    305.9215341971349,
                    395.93553516694107,
                    387.9342906362916,
                    471.94735820811064,
                    335.9262011870703,
                    431.9411355548635,
                    273.9165560745372,
                    345.9277568503821,
                    205.90597756401704,
                    453.94455801414944,
                    337.9265123197327,
                    517.9545142593449,
                    521.9551365246697,
                    335.9262011870703,
                    397.9358462996034,
                    447.94362461616237,
                    409.9377130955776,
                    383.9336683709669,
                    529.9563810553191,
                    419.93926875888934,
                    361.93024591168097,
                    579.964159371878,
                    415.93864649356465,
                    449.9439357488247,
                    293.9196674011608,
                    463.9461136774612,
                    335.9262011870703,
                    507.9529585960331,
                    237.91095568661476,
                    443.9430023508376,
                    561.9613591779168,
                    503.95233633070836,
                    327.9249566564209,
                    287.9187340031737,
                    447.94362461616237,
                    301.9209119318102,
                    327.9249566564209,
                    435.94175782018823,
                    487.94984726940953,
                    523.955447657332,
                    331.92557892174557,
                    419.93926875888934,
                    493.9507806673966,
                    343.92744571771976,
                    421.9395798915517,
                    427.9405132895388,
                    385.93397950362925,
                    421.9395798915517,
                    415.93864649356465,
                    289.9190451358361,
                    311.922467595122,
                    435.94175782018823,
                    575.9635371065533,
                    369.9314904423304,
                    415.93864649356465,
                    285.91842287051134,
                    523.955447657332,
                    523.955447657332,
                    379.9330461056422,
                    473.947669340773,
                    379.9330461056422,
                    207.9062886966794,
                    183.9025551047311,
                    439.9423800855129,
                    367.93117930966804,
                    449.9439357488247,
                    515.9542031266826,
                    449.9439357488247,
                    245.9122002172642,
                    585.9650927698651,
                    469.94704707544827,
                    483.9492250040848,
                    311.922467595122,
                    507.9529585960331,
                    427.9405132895388,
                    407.9374019629152,
                    279.91748947252427,
                    469.94704707544827,
                    357.9296236463562,
                    349.92837911570683,
                    323.9243343910962,
                    407.9374019629152,
                    599.9672706985016,
                    313.92277872778436,
                    427.9405132895388,
                    555.9604257799298,
                    411.9380242282399,
                    267.91562267655013,
                    407.9374019629152,
                    367.93117930966804,
                    425.9402021568764,
                    395.93553516694107,
                    343.92744571771976,
                    393.9352240342787,
                    265.91531154388775,
                    309.92215646245967,
                    421.9395798915517,
                    361.93024591168097,
                    409.9377130955776,
                    437.94206895285055,
                    549.9594923819427,
                    381.93335723830455,
                    353.9290013810315,
                    343.92744571771976,
                    501.95202519804604,
                    427.9405132895388,
                    419.93926875888934,
                    529.9563810553191,
                    421.9395798915517,
                    367.93117930966804,
                    373.9321127076551,
                    345.9277568503821,
                    487.94984726940953,
                    333.92589005440794,
                    301.9209119318102,
                    409.9377130955776,
                    475.94798047343534,
                    469.94704707544827,
                    439.9423800855129,
                    327.9249566564209,
                    399.93615743226576,
                    381.93335723830455,
                    503.95233633070836,
                    583.9647816372028,
                    333.92589005440794,
                    453.94455801414944,
                    355.9293125136939,
                    309.92215646245967,
                    599.9672706985016,
                    431.9411355548635,
                    373.9321127076551,
                    407.9374019629152,
                    395.93553516694107,
                    371.93180157499273,
                    421.9395798915517,
                    477.9482916060977,
                    577.9638482392156,
                    437.94206895285055,
                    325.9246455237585,
                    349.92837911570683,
                    367.93117930966804,
                    445.9433134835,
                    363.93055704434335,
                    369.9314904423304,
                    287.9187340031737,
                    559.9610480452544,
                    109.89104319622388,
                    473.947669340773,
                    499.95171406538367,
                    511.9535808613578,
                    461.9458025447989,
                    323.9243343910962,
                    299.92060079914785,
                    463.9461136774612,
                    267.91562267655013,
                    471.94735820811064,
                    483.9492250040848,
                    449.9439357488247,
                    413.9383353609023,
                    415.93864649356465,
                    375.9324238403175,
                    563.9616703105792,
                    343.92744571771976,
                    389.934601768954,
                    445.9433134835,
                    497.9514029327213
                  ]
                }
              ],
              "layout": {
                "legend": {
                  "title": {
                    "text": "Leyenda"
                  },
                  "tracegroupgap": 0
                },
                "template": {
                  "data": {
                    "bar": [
                      {
                        "error_x": {
                          "color": "#2a3f5f"
                        },
                        "error_y": {
                          "color": "#2a3f5f"
                        },
                        "marker": {
                          "line": {
                            "color": "#E5ECF6",
                            "width": 0.5
                          },
                          "pattern": {
                            "fillmode": "overlay",
                            "size": 10,
                            "solidity": 0.2
                          }
                        },
                        "type": "bar"
                      }
                    ],
                    "barpolar": [
                      {
                        "marker": {
                          "line": {
                            "color": "#E5ECF6",
                            "width": 0.5
                          },
                          "pattern": {
                            "fillmode": "overlay",
                            "size": 10,
                            "solidity": 0.2
                          }
                        },
                        "type": "barpolar"
                      }
                    ],
                    "carpet": [
                      {
                        "aaxis": {
                          "endlinecolor": "#2a3f5f",
                          "gridcolor": "white",
                          "linecolor": "white",
                          "minorgridcolor": "white",
                          "startlinecolor": "#2a3f5f"
                        },
                        "baxis": {
                          "endlinecolor": "#2a3f5f",
                          "gridcolor": "white",
                          "linecolor": "white",
                          "minorgridcolor": "white",
                          "startlinecolor": "#2a3f5f"
                        },
                        "type": "carpet"
                      }
                    ],
                    "choropleth": [
                      {
                        "colorbar": {
                          "outlinewidth": 0,
                          "ticks": ""
                        },
                        "type": "choropleth"
                      }
                    ],
                    "contour": [
                      {
                        "colorbar": {
                          "outlinewidth": 0,
                          "ticks": ""
                        },
                        "colorscale": [
                          [
                            0,
                            "#0d0887"
                          ],
                          [
                            0.1111111111111111,
                            "#46039f"
                          ],
                          [
                            0.2222222222222222,
                            "#7201a8"
                          ],
                          [
                            0.3333333333333333,
                            "#9c179e"
                          ],
                          [
                            0.4444444444444444,
                            "#bd3786"
                          ],
                          [
                            0.5555555555555556,
                            "#d8576b"
                          ],
                          [
                            0.6666666666666666,
                            "#ed7953"
                          ],
                          [
                            0.7777777777777778,
                            "#fb9f3a"
                          ],
                          [
                            0.8888888888888888,
                            "#fdca26"
                          ],
                          [
                            1,
                            "#f0f921"
                          ]
                        ],
                        "type": "contour"
                      }
                    ],
                    "contourcarpet": [
                      {
                        "colorbar": {
                          "outlinewidth": 0,
                          "ticks": ""
                        },
                        "type": "contourcarpet"
                      }
                    ],
                    "heatmap": [
                      {
                        "colorbar": {
                          "outlinewidth": 0,
                          "ticks": ""
                        },
                        "colorscale": [
                          [
                            0,
                            "#0d0887"
                          ],
                          [
                            0.1111111111111111,
                            "#46039f"
                          ],
                          [
                            0.2222222222222222,
                            "#7201a8"
                          ],
                          [
                            0.3333333333333333,
                            "#9c179e"
                          ],
                          [
                            0.4444444444444444,
                            "#bd3786"
                          ],
                          [
                            0.5555555555555556,
                            "#d8576b"
                          ],
                          [
                            0.6666666666666666,
                            "#ed7953"
                          ],
                          [
                            0.7777777777777778,
                            "#fb9f3a"
                          ],
                          [
                            0.8888888888888888,
                            "#fdca26"
                          ],
                          [
                            1,
                            "#f0f921"
                          ]
                        ],
                        "type": "heatmap"
                      }
                    ],
                    "heatmapgl": [
                      {
                        "colorbar": {
                          "outlinewidth": 0,
                          "ticks": ""
                        },
                        "colorscale": [
                          [
                            0,
                            "#0d0887"
                          ],
                          [
                            0.1111111111111111,
                            "#46039f"
                          ],
                          [
                            0.2222222222222222,
                            "#7201a8"
                          ],
                          [
                            0.3333333333333333,
                            "#9c179e"
                          ],
                          [
                            0.4444444444444444,
                            "#bd3786"
                          ],
                          [
                            0.5555555555555556,
                            "#d8576b"
                          ],
                          [
                            0.6666666666666666,
                            "#ed7953"
                          ],
                          [
                            0.7777777777777778,
                            "#fb9f3a"
                          ],
                          [
                            0.8888888888888888,
                            "#fdca26"
                          ],
                          [
                            1,
                            "#f0f921"
                          ]
                        ],
                        "type": "heatmapgl"
                      }
                    ],
                    "histogram": [
                      {
                        "marker": {
                          "pattern": {
                            "fillmode": "overlay",
                            "size": 10,
                            "solidity": 0.2
                          }
                        },
                        "type": "histogram"
                      }
                    ],
                    "histogram2d": [
                      {
                        "colorbar": {
                          "outlinewidth": 0,
                          "ticks": ""
                        },
                        "colorscale": [
                          [
                            0,
                            "#0d0887"
                          ],
                          [
                            0.1111111111111111,
                            "#46039f"
                          ],
                          [
                            0.2222222222222222,
                            "#7201a8"
                          ],
                          [
                            0.3333333333333333,
                            "#9c179e"
                          ],
                          [
                            0.4444444444444444,
                            "#bd3786"
                          ],
                          [
                            0.5555555555555556,
                            "#d8576b"
                          ],
                          [
                            0.6666666666666666,
                            "#ed7953"
                          ],
                          [
                            0.7777777777777778,
                            "#fb9f3a"
                          ],
                          [
                            0.8888888888888888,
                            "#fdca26"
                          ],
                          [
                            1,
                            "#f0f921"
                          ]
                        ],
                        "type": "histogram2d"
                      }
                    ],
                    "histogram2dcontour": [
                      {
                        "colorbar": {
                          "outlinewidth": 0,
                          "ticks": ""
                        },
                        "colorscale": [
                          [
                            0,
                            "#0d0887"
                          ],
                          [
                            0.1111111111111111,
                            "#46039f"
                          ],
                          [
                            0.2222222222222222,
                            "#7201a8"
                          ],
                          [
                            0.3333333333333333,
                            "#9c179e"
                          ],
                          [
                            0.4444444444444444,
                            "#bd3786"
                          ],
                          [
                            0.5555555555555556,
                            "#d8576b"
                          ],
                          [
                            0.6666666666666666,
                            "#ed7953"
                          ],
                          [
                            0.7777777777777778,
                            "#fb9f3a"
                          ],
                          [
                            0.8888888888888888,
                            "#fdca26"
                          ],
                          [
                            1,
                            "#f0f921"
                          ]
                        ],
                        "type": "histogram2dcontour"
                      }
                    ],
                    "mesh3d": [
                      {
                        "colorbar": {
                          "outlinewidth": 0,
                          "ticks": ""
                        },
                        "type": "mesh3d"
                      }
                    ],
                    "parcoords": [
                      {
                        "line": {
                          "colorbar": {
                            "outlinewidth": 0,
                            "ticks": ""
                          }
                        },
                        "type": "parcoords"
                      }
                    ],
                    "pie": [
                      {
                        "automargin": true,
                        "type": "pie"
                      }
                    ],
                    "scatter": [
                      {
                        "fillpattern": {
                          "fillmode": "overlay",
                          "size": 10,
                          "solidity": 0.2
                        },
                        "type": "scatter"
                      }
                    ],
                    "scatter3d": [
                      {
                        "line": {
                          "colorbar": {
                            "outlinewidth": 0,
                            "ticks": ""
                          }
                        },
                        "marker": {
                          "colorbar": {
                            "outlinewidth": 0,
                            "ticks": ""
                          }
                        },
                        "type": "scatter3d"
                      }
                    ],
                    "scattercarpet": [
                      {
                        "marker": {
                          "colorbar": {
                            "outlinewidth": 0,
                            "ticks": ""
                          }
                        },
                        "type": "scattercarpet"
                      }
                    ],
                    "scattergeo": [
                      {
                        "marker": {
                          "colorbar": {
                            "outlinewidth": 0,
                            "ticks": ""
                          }
                        },
                        "type": "scattergeo"
                      }
                    ],
                    "scattergl": [
                      {
                        "marker": {
                          "colorbar": {
                            "outlinewidth": 0,
                            "ticks": ""
                          }
                        },
                        "type": "scattergl"
                      }
                    ],
                    "scattermapbox": [
                      {
                        "marker": {
                          "colorbar": {
                            "outlinewidth": 0,
                            "ticks": ""
                          }
                        },
                        "type": "scattermapbox"
                      }
                    ],
                    "scatterpolar": [
                      {
                        "marker": {
                          "colorbar": {
                            "outlinewidth": 0,
                            "ticks": ""
                          }
                        },
                        "type": "scatterpolar"
                      }
                    ],
                    "scatterpolargl": [
                      {
                        "marker": {
                          "colorbar": {
                            "outlinewidth": 0,
                            "ticks": ""
                          }
                        },
                        "type": "scatterpolargl"
                      }
                    ],
                    "scatterternary": [
                      {
                        "marker": {
                          "colorbar": {
                            "outlinewidth": 0,
                            "ticks": ""
                          }
                        },
                        "type": "scatterternary"
                      }
                    ],
                    "surface": [
                      {
                        "colorbar": {
                          "outlinewidth": 0,
                          "ticks": ""
                        },
                        "colorscale": [
                          [
                            0,
                            "#0d0887"
                          ],
                          [
                            0.1111111111111111,
                            "#46039f"
                          ],
                          [
                            0.2222222222222222,
                            "#7201a8"
                          ],
                          [
                            0.3333333333333333,
                            "#9c179e"
                          ],
                          [
                            0.4444444444444444,
                            "#bd3786"
                          ],
                          [
                            0.5555555555555556,
                            "#d8576b"
                          ],
                          [
                            0.6666666666666666,
                            "#ed7953"
                          ],
                          [
                            0.7777777777777778,
                            "#fb9f3a"
                          ],
                          [
                            0.8888888888888888,
                            "#fdca26"
                          ],
                          [
                            1,
                            "#f0f921"
                          ]
                        ],
                        "type": "surface"
                      }
                    ],
                    "table": [
                      {
                        "cells": {
                          "fill": {
                            "color": "#EBF0F8"
                          },
                          "line": {
                            "color": "white"
                          }
                        },
                        "header": {
                          "fill": {
                            "color": "#C8D4E3"
                          },
                          "line": {
                            "color": "white"
                          }
                        },
                        "type": "table"
                      }
                    ]
                  },
                  "layout": {
                    "annotationdefaults": {
                      "arrowcolor": "#2a3f5f",
                      "arrowhead": 0,
                      "arrowwidth": 1
                    },
                    "autotypenumbers": "strict",
                    "coloraxis": {
                      "colorbar": {
                        "outlinewidth": 0,
                        "ticks": ""
                      }
                    },
                    "colorscale": {
                      "diverging": [
                        [
                          0,
                          "#8e0152"
                        ],
                        [
                          0.1,
                          "#c51b7d"
                        ],
                        [
                          0.2,
                          "#de77ae"
                        ],
                        [
                          0.3,
                          "#f1b6da"
                        ],
                        [
                          0.4,
                          "#fde0ef"
                        ],
                        [
                          0.5,
                          "#f7f7f7"
                        ],
                        [
                          0.6,
                          "#e6f5d0"
                        ],
                        [
                          0.7,
                          "#b8e186"
                        ],
                        [
                          0.8,
                          "#7fbc41"
                        ],
                        [
                          0.9,
                          "#4d9221"
                        ],
                        [
                          1,
                          "#276419"
                        ]
                      ],
                      "sequential": [
                        [
                          0,
                          "#0d0887"
                        ],
                        [
                          0.1111111111111111,
                          "#46039f"
                        ],
                        [
                          0.2222222222222222,
                          "#7201a8"
                        ],
                        [
                          0.3333333333333333,
                          "#9c179e"
                        ],
                        [
                          0.4444444444444444,
                          "#bd3786"
                        ],
                        [
                          0.5555555555555556,
                          "#d8576b"
                        ],
                        [
                          0.6666666666666666,
                          "#ed7953"
                        ],
                        [
                          0.7777777777777778,
                          "#fb9f3a"
                        ],
                        [
                          0.8888888888888888,
                          "#fdca26"
                        ],
                        [
                          1,
                          "#f0f921"
                        ]
                      ],
                      "sequentialminus": [
                        [
                          0,
                          "#0d0887"
                        ],
                        [
                          0.1111111111111111,
                          "#46039f"
                        ],
                        [
                          0.2222222222222222,
                          "#7201a8"
                        ],
                        [
                          0.3333333333333333,
                          "#9c179e"
                        ],
                        [
                          0.4444444444444444,
                          "#bd3786"
                        ],
                        [
                          0.5555555555555556,
                          "#d8576b"
                        ],
                        [
                          0.6666666666666666,
                          "#ed7953"
                        ],
                        [
                          0.7777777777777778,
                          "#fb9f3a"
                        ],
                        [
                          0.8888888888888888,
                          "#fdca26"
                        ],
                        [
                          1,
                          "#f0f921"
                        ]
                      ]
                    },
                    "colorway": [
                      "#636efa",
                      "#EF553B",
                      "#00cc96",
                      "#ab63fa",
                      "#FFA15A",
                      "#19d3f3",
                      "#FF6692",
                      "#B6E880",
                      "#FF97FF",
                      "#FECB52"
                    ],
                    "font": {
                      "color": "#2a3f5f"
                    },
                    "geo": {
                      "bgcolor": "white",
                      "lakecolor": "white",
                      "landcolor": "#E5ECF6",
                      "showlakes": true,
                      "showland": true,
                      "subunitcolor": "white"
                    },
                    "hoverlabel": {
                      "align": "left"
                    },
                    "hovermode": "closest",
                    "mapbox": {
                      "style": "light"
                    },
                    "paper_bgcolor": "white",
                    "plot_bgcolor": "#E5ECF6",
                    "polar": {
                      "angularaxis": {
                        "gridcolor": "white",
                        "linecolor": "white",
                        "ticks": ""
                      },
                      "bgcolor": "#E5ECF6",
                      "radialaxis": {
                        "gridcolor": "white",
                        "linecolor": "white",
                        "ticks": ""
                      }
                    },
                    "scene": {
                      "xaxis": {
                        "backgroundcolor": "#E5ECF6",
                        "gridcolor": "white",
                        "gridwidth": 2,
                        "linecolor": "white",
                        "showbackground": true,
                        "ticks": "",
                        "zerolinecolor": "white"
                      },
                      "yaxis": {
                        "backgroundcolor": "#E5ECF6",
                        "gridcolor": "white",
                        "gridwidth": 2,
                        "linecolor": "white",
                        "showbackground": true,
                        "ticks": "",
                        "zerolinecolor": "white"
                      },
                      "zaxis": {
                        "backgroundcolor": "#E5ECF6",
                        "gridcolor": "white",
                        "gridwidth": 2,
                        "linecolor": "white",
                        "showbackground": true,
                        "ticks": "",
                        "zerolinecolor": "white"
                      }
                    },
                    "shapedefaults": {
                      "line": {
                        "color": "#2a3f5f"
                      }
                    },
                    "ternary": {
                      "aaxis": {
                        "gridcolor": "white",
                        "linecolor": "white",
                        "ticks": ""
                      },
                      "baxis": {
                        "gridcolor": "white",
                        "linecolor": "white",
                        "ticks": ""
                      },
                      "bgcolor": "#E5ECF6",
                      "caxis": {
                        "gridcolor": "white",
                        "linecolor": "white",
                        "ticks": ""
                      }
                    },
                    "title": {
                      "x": 0.05
                    },
                    "xaxis": {
                      "automargin": true,
                      "gridcolor": "white",
                      "linecolor": "white",
                      "ticks": "",
                      "title": {
                        "standoff": 15
                      },
                      "zerolinecolor": "white",
                      "zerolinewidth": 2
                    },
                    "yaxis": {
                      "automargin": true,
                      "gridcolor": "white",
                      "linecolor": "white",
                      "ticks": "",
                      "title": {
                        "standoff": 15
                      },
                      "zerolinecolor": "white",
                      "zerolinewidth": 2
                    }
                  }
                },
                "title": {
                  "font": {
                    "color": "black",
                    "family": "Arial",
                    "size": 15
                  },
                  "text": "Regresión Lineal (Statsmodels)"
                },
                "xaxis": {
                  "anchor": "y",
                  "domain": [
                    0,
                    1
                  ],
                  "title": {
                    "font": {
                      "color": "black",
                      "size": 12
                    },
                    "text": "Variable Independiente (X)"
                  }
                },
                "yaxis": {
                  "anchor": "x",
                  "domain": [
                    0,
                    1
                  ],
                  "title": {
                    "font": {
                      "color": "black",
                      "size": 12
                    },
                    "text": "Variable Dependiente (Y)"
                  }
                }
              }
            }
          },
          "metadata": {},
          "output_type": "display_data"
        }
      ],
      "source": [
        "# Crear gráfico de dispersión\n",
        "fig = px.scatter(\n",
        "    df,\n",
        "    x='puntaje_total',\n",
        "    y='y',\n",
        "    color_discrete_sequence=['blue'],\n",
        "    labels={'puntaje_total': 'Variable Independiente (X)', 'y': 'Variable Dependiente (Y)'},\n",
        "    title='Regresión Lineal (Statsmodels)'\n",
        ")\n",
        "\n",
        "# Agregar línea de regresión\n",
        "fig.add_trace(\n",
        "    go.Scatter(\n",
        "        x=df['puntaje_total'],\n",
        "        y=y_pred,\n",
        "        mode='lines',\n",
        "        name='Línea de regresión',\n",
        "        line=dict(color='red', width=2)\n",
        "    )\n",
        ")\n",
        "\n",
        "# Personalización del diseño\n",
        "fig.update_layout(\n",
        "    xaxis_title='Variable Independiente (X)',\n",
        "    yaxis_title='Variable Dependiente (Y)',\n",
        "    legend=dict(title='Leyenda'),\n",
        "    title_font=dict(size=15, color='black', family='Arial'),\n",
        "    xaxis=dict(title_font=dict(size=12, color='black')),\n",
        "    yaxis=dict(title_font=dict(size=12, color='black')),\n",
        ")\n",
        "\n",
        "fig.show()\n"
      ]
    },
    {
      "cell_type": "markdown",
      "metadata": {
        "id": "DGFiizPON472"
      },
      "source": [
        "Este notebook presenta un análisis integral de datos empleando herramientas y bibliotecas populares de Python. Su estructura está diseñada para guiar el flujo del análisis desde la carga de datos hasta las visualizaciones finales, con un enfoque claro y bien documentado.\n",
        "\n",
        "Bibliotecas Utilizadas\n",
        "\n",
        "Pandas: Fundamental para la manipulación y transformación de datos.\n",
        "\n",
        "Plotly.express: Herramienta principal para la creación de visualizaciones básicas.\n",
        "\n",
        "Plotly.express: Ideal para visualizaciones avanzadas y más estéticas.\n",
        "\n",
        "Numpy: Utilizada para operaciones matemáticas y manejo eficiente de arreglos.\n",
        "\n",
        "Secciones Principales\n",
        "\n",
        "Carga de Datos:\n",
        "Se trabajó con archivos CSV, cargándolos mediante Pandas para facilitar su manipulación. Además, se exploraron las primeras filas para entender la estructura del dataset y sus valores.\n",
        "\n",
        "Preprocesamiento de Datos:\n",
        "Este paso incluyó:\n",
        "\n",
        "Limpieza de valores nulos para asegurar la integridad del análisis.\n",
        "\n",
        "Modificación de nombres de columnas para mayor legibilidad.\n",
        "\n",
        "Creación de nuevas columnas derivadas, aportando valor al conjunto de datos.\n",
        "\n",
        "Análisis Exploratorio de Datos (EDA):\n",
        "Utilicé estadísticas descriptivas para comprender las distribuciones y tendencias de las variables.\n",
        "Además, generé visualizaciones como histogramas y diagramas de caja para detectar patrones, outliers y posibles relaciones entre variables.\n",
        "\n",
        "Visualización de Datos:\n",
        "Diseñé gráficos avanzados utilizando Plotly.express, como mapas de calor para identificar correlaciones significativas. También incorporé gráficos de barras y líneas para resaltar tendencias clave."
      ]
    }
  ],
  "metadata": {
    "colab": {
      "provenance": []
    },
    "kernelspec": {
      "display_name": "Python 3",
      "name": "python3"
    },
    "language_info": {
      "codemirror_mode": {
        "name": "ipython",
        "version": 3
      },
      "file_extension": ".py",
      "mimetype": "text/x-python",
      "name": "python",
      "nbconvert_exporter": "python",
      "pygments_lexer": "ipython3",
      "version": "3.12.7"
    }
  },
  "nbformat": 4,
  "nbformat_minor": 0
}
