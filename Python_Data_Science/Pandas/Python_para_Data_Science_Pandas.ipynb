{
 "cells": [
  {
   "cell_type": "markdown",
   "metadata": {
    "colab_type": "text",
    "id": "W4bTJkJED0-t"
   },
   "source": [
    "# <font color=green> PYTHON PARA DATA SCIENCE - PANDAS\n",
    "---"
   ]
  },
  {
   "cell_type": "markdown",
   "metadata": {
    "colab_type": "text",
    "id": "GOEcCc62D0-x"
   },
   "source": [
    "# <font color=green> 1. INTRODUCCIÓN A PYTHON\n",
    "---"
   ]
  },
  {
   "cell_type": "markdown",
   "metadata": {
    "colab_type": "text",
    "id": "oGvoOJ-XD0-y"
   },
   "source": [
    "# 1.1 Introducción"
   ]
  },
  {
   "cell_type": "markdown",
   "metadata": {
    "colab_type": "text",
    "id": "fam3BM0aD0-z"
   },
   "source": [
    "> Python es un lenguaje de programación de alto nivel con soporte a múltiples paradigmas de programación. Es un proyecto *open source* y desde su aparición en 1991, viene convirtiéndose en uno de los lenguajes de programación interpretados más populares. \n",
    ">\n",
    "> En los últimos años Python ha desarrollado una comunidad activa de procesamiento científico y análisis de datos y viene destacándose como uno de los lenguajes más relevantes cuando el asunto es ciencia de datos y machine learning, tanto en el entorno académico como también en el entorno laboral."
   ]
  },
  {
   "cell_type": "markdown",
   "metadata": {
    "colab_type": "text",
    "id": "6kH5DY-vD0-1"
   },
   "source": [
    "# 1.2 Instalación y entorno de trabajo"
   ]
  },
  {
   "cell_type": "markdown",
   "metadata": {
    "colab_type": "text",
    "id": "BTpm79I2D0-2"
   },
   "source": [
    "### Instalación Local\n",
    "\n",
    "### https://www.python.org/downloads/\n",
    "### o\n",
    "### https://www.anaconda.com/distribution/"
   ]
  },
  {
   "cell_type": "markdown",
   "metadata": {
    "colab_type": "text",
    "id": "AuPS_XwRD0-3"
   },
   "source": [
    "### Google Colaboratory\n",
    "\n",
    "### https://colab.research.google.com"
   ]
  },
  {
   "cell_type": "markdown",
   "metadata": {
    "colab_type": "text",
    "id": "4rUYsPrXD0-4"
   },
   "source": [
    "### Verificando versión"
   ]
  },
  {
   "cell_type": "code",
   "execution_count": 99,
   "metadata": {
    "colab": {},
    "colab_type": "code",
    "id": "PgTCVRB2D0-5"
   },
   "outputs": [
    {
     "name": "stdout",
     "output_type": "stream",
     "text": [
      "Python 3.11.5\n"
     ]
    }
   ],
   "source": [
    "!python -V"
   ]
  },
  {
   "cell_type": "markdown",
   "metadata": {
    "colab_type": "text",
    "id": "lTtI6so4D0-9"
   },
   "source": [
    "# 1.3 Trabajando con datos"
   ]
  },
  {
   "cell_type": "code",
   "execution_count": 100,
   "metadata": {
    "colab": {},
    "colab_type": "code",
    "id": "E_n4FUUWD0-9"
   },
   "outputs": [],
   "source": [
    "import pandas as pd\n",
    "import numpy as np\n",
    "import matplotlib.pyplot as plt"
   ]
  },
  {
   "cell_type": "code",
   "execution_count": 101,
   "metadata": {
    "colab": {},
    "colab_type": "code",
    "id": "Kq-JdRHFD0-_"
   },
   "outputs": [
    {
     "data": {
      "text/html": [
       "<div>\n",
       "<style scoped>\n",
       "    .dataframe tbody tr th:only-of-type {\n",
       "        vertical-align: middle;\n",
       "    }\n",
       "\n",
       "    .dataframe tbody tr th {\n",
       "        vertical-align: top;\n",
       "    }\n",
       "\n",
       "    .dataframe thead th {\n",
       "        text-align: right;\n",
       "    }\n",
       "</style>\n",
       "<table border=\"1\" class=\"dataframe\">\n",
       "  <thead>\n",
       "    <tr style=\"text-align: right;\">\n",
       "      <th></th>\n",
       "      <th>Nombre</th>\n",
       "      <th>Motor</th>\n",
       "      <th>Año</th>\n",
       "      <th>Kilometraje</th>\n",
       "      <th>Cero_km</th>\n",
       "      <th>Accesorios</th>\n",
       "      <th>Valor</th>\n",
       "    </tr>\n",
       "  </thead>\n",
       "  <tbody>\n",
       "    <tr>\n",
       "      <th>0</th>\n",
       "      <td>Jetta Variant</td>\n",
       "      <td>Motor 4.0 Turbo</td>\n",
       "      <td>2003</td>\n",
       "      <td>44410.0</td>\n",
       "      <td>False</td>\n",
       "      <td>['Llantas de aleación', 'Cerraduras electricas...</td>\n",
       "      <td>88078.64</td>\n",
       "    </tr>\n",
       "    <tr>\n",
       "      <th>1</th>\n",
       "      <td>Passat</td>\n",
       "      <td>Motor Diesel</td>\n",
       "      <td>1991</td>\n",
       "      <td>5712.0</td>\n",
       "      <td>False</td>\n",
       "      <td>['Central multimedia', 'Techo panorámico', 'Fr...</td>\n",
       "      <td>106161.94</td>\n",
       "    </tr>\n",
       "    <tr>\n",
       "      <th>2</th>\n",
       "      <td>Crossfox</td>\n",
       "      <td>Motor Diesel V8</td>\n",
       "      <td>1990</td>\n",
       "      <td>37123.0</td>\n",
       "      <td>False</td>\n",
       "      <td>['Piloto automático', 'Control de estabilidad'...</td>\n",
       "      <td>72832.16</td>\n",
       "    </tr>\n",
       "    <tr>\n",
       "      <th>3</th>\n",
       "      <td>DS5</td>\n",
       "      <td>Motor 2.4 Turbo</td>\n",
       "      <td>2019</td>\n",
       "      <td>NaN</td>\n",
       "      <td>True</td>\n",
       "      <td>['Cerraduras electricas', '4 X 4', 'Ventanas e...</td>\n",
       "      <td>124549.07</td>\n",
       "    </tr>\n",
       "    <tr>\n",
       "      <th>4</th>\n",
       "      <td>Aston Martin DB4</td>\n",
       "      <td>Motor 2.4 Turbo</td>\n",
       "      <td>2006</td>\n",
       "      <td>25757.0</td>\n",
       "      <td>False</td>\n",
       "      <td>['Llantas de aleación', '4 X 4', 'Central mult...</td>\n",
       "      <td>92612.10</td>\n",
       "    </tr>\n",
       "  </tbody>\n",
       "</table>\n",
       "</div>"
      ],
      "text/plain": [
       "             Nombre            Motor   Año  Kilometraje  Cero_km  \\\n",
       "0     Jetta Variant  Motor 4.0 Turbo  2003      44410.0    False   \n",
       "1            Passat     Motor Diesel  1991       5712.0    False   \n",
       "2          Crossfox  Motor Diesel V8  1990      37123.0    False   \n",
       "3               DS5  Motor 2.4 Turbo  2019          NaN     True   \n",
       "4  Aston Martin DB4  Motor 2.4 Turbo  2006      25757.0    False   \n",
       "\n",
       "                                          Accesorios      Valor  \n",
       "0  ['Llantas de aleación', 'Cerraduras electricas...   88078.64  \n",
       "1  ['Central multimedia', 'Techo panorámico', 'Fr...  106161.94  \n",
       "2  ['Piloto automático', 'Control de estabilidad'...   72832.16  \n",
       "3  ['Cerraduras electricas', '4 X 4', 'Ventanas e...  124549.07  \n",
       "4  ['Llantas de aleación', '4 X 4', 'Central mult...   92612.10  "
      ]
     },
     "execution_count": 101,
     "metadata": {},
     "output_type": "execute_result"
    }
   ],
   "source": [
    "df = pd.read_csv('./data/db.csv', sep=';')\n",
    "df.head()"
   ]
  },
  {
   "cell_type": "code",
   "execution_count": 102,
   "metadata": {
    "colab": {},
    "colab_type": "code",
    "id": "mOV1rCA6D0_A",
    "scrolled": true
   },
   "outputs": [],
   "source": [
    "df.fillna(0,inplace=True)"
   ]
  },
  {
   "cell_type": "code",
   "execution_count": 103,
   "metadata": {
    "colab": {},
    "colab_type": "code",
    "id": "5D739PzJD0_B"
   },
   "outputs": [
    {
     "data": {
      "text/html": [
       "<div>\n",
       "<style scoped>\n",
       "    .dataframe tbody tr th:only-of-type {\n",
       "        vertical-align: middle;\n",
       "    }\n",
       "\n",
       "    .dataframe tbody tr th {\n",
       "        vertical-align: top;\n",
       "    }\n",
       "\n",
       "    .dataframe thead th {\n",
       "        text-align: right;\n",
       "    }\n",
       "</style>\n",
       "<table border=\"1\" class=\"dataframe\">\n",
       "  <thead>\n",
       "    <tr style=\"text-align: right;\">\n",
       "      <th></th>\n",
       "      <th>Nombre</th>\n",
       "      <th>Año</th>\n",
       "      <th>Kilometraje</th>\n",
       "      <th>Valor</th>\n",
       "    </tr>\n",
       "  </thead>\n",
       "  <tbody>\n",
       "    <tr>\n",
       "      <th>0</th>\n",
       "      <td>Jetta Variant</td>\n",
       "      <td>2003</td>\n",
       "      <td>44410.0</td>\n",
       "      <td>88078.64</td>\n",
       "    </tr>\n",
       "    <tr>\n",
       "      <th>1</th>\n",
       "      <td>Passat</td>\n",
       "      <td>1991</td>\n",
       "      <td>5712.0</td>\n",
       "      <td>106161.94</td>\n",
       "    </tr>\n",
       "    <tr>\n",
       "      <th>2</th>\n",
       "      <td>Crossfox</td>\n",
       "      <td>1990</td>\n",
       "      <td>37123.0</td>\n",
       "      <td>72832.16</td>\n",
       "    </tr>\n",
       "    <tr>\n",
       "      <th>3</th>\n",
       "      <td>DS5</td>\n",
       "      <td>2019</td>\n",
       "      <td>0.0</td>\n",
       "      <td>124549.07</td>\n",
       "    </tr>\n",
       "    <tr>\n",
       "      <th>4</th>\n",
       "      <td>Aston Martin DB4</td>\n",
       "      <td>2006</td>\n",
       "      <td>25757.0</td>\n",
       "      <td>92612.10</td>\n",
       "    </tr>\n",
       "  </tbody>\n",
       "</table>\n",
       "</div>"
      ],
      "text/plain": [
       "             Nombre   Año  Kilometraje      Valor\n",
       "0     Jetta Variant  2003      44410.0   88078.64\n",
       "1            Passat  1991       5712.0  106161.94\n",
       "2          Crossfox  1990      37123.0   72832.16\n",
       "3               DS5  2019          0.0  124549.07\n",
       "4  Aston Martin DB4  2006      25757.0   92612.10"
      ]
     },
     "execution_count": 103,
     "metadata": {},
     "output_type": "execute_result"
    }
   ],
   "source": [
    "df[['Nombre','Año','Kilometraje','Valor']].head(5)"
   ]
  },
  {
   "cell_type": "code",
   "execution_count": 104,
   "metadata": {
    "colab": {},
    "colab_type": "code",
    "id": "r_qUf16LD0_D"
   },
   "outputs": [
    {
     "data": {
      "text/html": [
       "<div>\n",
       "<style scoped>\n",
       "    .dataframe tbody tr th:only-of-type {\n",
       "        vertical-align: middle;\n",
       "    }\n",
       "\n",
       "    .dataframe tbody tr th {\n",
       "        vertical-align: top;\n",
       "    }\n",
       "\n",
       "    .dataframe thead th {\n",
       "        text-align: right;\n",
       "    }\n",
       "</style>\n",
       "<table border=\"1\" class=\"dataframe\">\n",
       "  <thead>\n",
       "    <tr style=\"text-align: right;\">\n",
       "      <th></th>\n",
       "      <th>Kilometraje</th>\n",
       "      <th>Valor</th>\n",
       "    </tr>\n",
       "  </thead>\n",
       "  <tbody>\n",
       "    <tr>\n",
       "      <th>count</th>\n",
       "      <td>258.00</td>\n",
       "      <td>258.00</td>\n",
       "    </tr>\n",
       "    <tr>\n",
       "      <th>mean</th>\n",
       "      <td>44499.41</td>\n",
       "      <td>98960.51</td>\n",
       "    </tr>\n",
       "    <tr>\n",
       "      <th>std</th>\n",
       "      <td>39937.30</td>\n",
       "      <td>29811.93</td>\n",
       "    </tr>\n",
       "    <tr>\n",
       "      <th>min</th>\n",
       "      <td>0.00</td>\n",
       "      <td>50742.10</td>\n",
       "    </tr>\n",
       "    <tr>\n",
       "      <th>25%</th>\n",
       "      <td>2453.00</td>\n",
       "      <td>70743.51</td>\n",
       "    </tr>\n",
       "    <tr>\n",
       "      <th>50%</th>\n",
       "      <td>37104.50</td>\n",
       "      <td>97724.38</td>\n",
       "    </tr>\n",
       "    <tr>\n",
       "      <th>75%</th>\n",
       "      <td>81532.75</td>\n",
       "      <td>124633.30</td>\n",
       "    </tr>\n",
       "    <tr>\n",
       "      <th>max</th>\n",
       "      <td>119945.00</td>\n",
       "      <td>149489.92</td>\n",
       "    </tr>\n",
       "  </tbody>\n",
       "</table>\n",
       "</div>"
      ],
      "text/plain": [
       "       Kilometraje      Valor\n",
       "count       258.00     258.00\n",
       "mean      44499.41   98960.51\n",
       "std       39937.30   29811.93\n",
       "min           0.00   50742.10\n",
       "25%        2453.00   70743.51\n",
       "50%       37104.50   97724.38\n",
       "75%       81532.75  124633.30\n",
       "max      119945.00  149489.92"
      ]
     },
     "execution_count": 104,
     "metadata": {},
     "output_type": "execute_result"
    }
   ],
   "source": [
    "round(df[['Kilometraje','Valor']].describe(), 2)"
   ]
  },
  {
   "cell_type": "code",
   "execution_count": 105,
   "metadata": {
    "colab": {},
    "colab_type": "code",
    "id": "0R-_7PH5D0_E"
   },
   "outputs": [
    {
     "name": "stdout",
     "output_type": "stream",
     "text": [
      "<class 'pandas.core.frame.DataFrame'>\n",
      "RangeIndex: 258 entries, 0 to 257\n",
      "Data columns (total 7 columns):\n",
      " #   Column       Non-Null Count  Dtype  \n",
      "---  ------       --------------  -----  \n",
      " 0   Nombre       258 non-null    object \n",
      " 1   Motor        258 non-null    object \n",
      " 2   Año          258 non-null    int64  \n",
      " 3   Kilometraje  258 non-null    float64\n",
      " 4   Cero_km      258 non-null    bool   \n",
      " 5   Accesorios   258 non-null    object \n",
      " 6   Valor        258 non-null    float64\n",
      "dtypes: bool(1), float64(2), int64(1), object(3)\n",
      "memory usage: 12.5+ KB\n"
     ]
    }
   ],
   "source": [
    "df.info()"
   ]
  },
  {
   "cell_type": "markdown",
   "metadata": {},
   "source": [
    "En esta aula aprendimos:\n",
    "\n",
    "Los ambientes de desarrollo para el lenguaje Python.\n",
    "A crear DataFrames con el paquete pandas, utilizando datos externos.\n",
    "Cómo obtener informaciones básicas de un DataFrame.\n",
    "Cómo obtener estadísticas descriptivas de los datos de un DataFrame."
   ]
  },
  {
   "cell_type": "markdown",
   "metadata": {
    "colab_type": "text",
    "id": "htjoBLwiD0_F"
   },
   "source": [
    "# <font color=green> 2. TRABAJANDO CON TUPLAS\n",
    "---"
   ]
  },
  {
   "cell_type": "markdown",
   "metadata": {
    "colab_type": "text",
    "id": "MZH5_QnYD0_G"
   },
   "source": [
    "# 2.1 Creando tuplas\n",
    "\n",
    "Tuplas son secuencias **inmutables** que son utilizadas para guardar colecciones de objetos, geralmente heterogéneos. Pueden ser construídas de varias formas:\n",
    "```\n",
    "- Utilizando un par de paréntesis: ( )\n",
    "- Utilizando una coma a la derecha: x,\n",
    "- Utilizando un par de paréntesis con objetos separados por comas: ( x, y, z )\n",
    "- Utilizando: tuple() o tuple(iterador)\n",
    "```"
   ]
  },
  {
   "cell_type": "code",
   "execution_count": 106,
   "metadata": {
    "colab": {},
    "colab_type": "code",
    "id": "xzcs9fzeD0_G"
   },
   "outputs": [
    {
     "data": {
      "text/plain": [
       "()"
      ]
     },
     "execution_count": 106,
     "metadata": {},
     "output_type": "execute_result"
    }
   ],
   "source": [
    "()"
   ]
  },
  {
   "cell_type": "code",
   "execution_count": 107,
   "metadata": {
    "colab": {},
    "colab_type": "code",
    "id": "qJq7a2qTD0_I"
   },
   "outputs": [
    {
     "data": {
      "text/plain": [
       "('Hola', 'Mundo')"
      ]
     },
     "execution_count": 107,
     "metadata": {},
     "output_type": "execute_result"
    }
   ],
   "source": [
    "('Hola','Mundo')"
   ]
  },
  {
   "cell_type": "code",
   "execution_count": 108,
   "metadata": {
    "colab": {},
    "colab_type": "code",
    "id": "sg7LdvptD0_J"
   },
   "outputs": [
    {
     "data": {
      "text/plain": [
       "(1, 2, 3, 4, 5, 6)"
      ]
     },
     "execution_count": 108,
     "metadata": {},
     "output_type": "execute_result"
    }
   ],
   "source": [
    "1,2,3,4,5,6"
   ]
  },
  {
   "cell_type": "code",
   "execution_count": 109,
   "metadata": {},
   "outputs": [
    {
     "data": {
      "text/plain": [
       "('Passat', 153000)"
      ]
     },
     "execution_count": 109,
     "metadata": {},
     "output_type": "execute_result"
    }
   ],
   "source": [
    "nombre = 'Passat'\n",
    "valor = 153000\n",
    "(nombre,valor)"
   ]
  },
  {
   "cell_type": "code",
   "execution_count": 110,
   "metadata": {
    "colab": {},
    "colab_type": "code",
    "id": "XSSMebXjD0_K"
   },
   "outputs": [
    {
     "data": {
      "text/plain": [
       "('Jetta Variant', 'Passat', 'Crossfox', 'DS5')"
      ]
     },
     "execution_count": 110,
     "metadata": {},
     "output_type": "execute_result"
    }
   ],
   "source": [
    "autos = tuple(['Jetta Variant', 'Passat', 'Crossfox', 'DS5'])\n",
    "autos"
   ]
  },
  {
   "cell_type": "code",
   "execution_count": 111,
   "metadata": {
    "colab": {},
    "colab_type": "code",
    "id": "dpkdzrzRD0_M"
   },
   "outputs": [
    {
     "data": {
      "text/plain": [
       "tuple"
      ]
     },
     "execution_count": 111,
     "metadata": {},
     "output_type": "execute_result"
    }
   ],
   "source": [
    "type(autos)"
   ]
  },
  {
   "cell_type": "markdown",
   "metadata": {
    "colab_type": "text",
    "id": "iKUY2DOUD0_N"
   },
   "source": [
    "# 2.2 Selecciones en tuplas"
   ]
  },
  {
   "cell_type": "code",
   "execution_count": 112,
   "metadata": {
    "colab": {},
    "colab_type": "code",
    "id": "hBEeAM7_D0_N"
   },
   "outputs": [
    {
     "data": {
      "text/plain": [
       "'Jetta Variant'"
      ]
     },
     "execution_count": 112,
     "metadata": {},
     "output_type": "execute_result"
    }
   ],
   "source": [
    "\n",
    "autos[0]"
   ]
  },
  {
   "cell_type": "code",
   "execution_count": 113,
   "metadata": {
    "colab": {},
    "colab_type": "code",
    "id": "-mx_1E_tD0_P"
   },
   "outputs": [
    {
     "name": "stdout",
     "output_type": "stream",
     "text": [
      "Auto: Jetta Variant posición: 0\n",
      "Auto: Passat posición: 1\n",
      "Auto: Crossfox posición: 2\n",
      "Auto: DS5 posición: 3\n"
     ]
    }
   ],
   "source": [
    "i = -1\n",
    "for auto in autos:\n",
    "    i += 1\n",
    "    print(f'Auto: {auto} posición: {i}')"
   ]
  },
  {
   "cell_type": "code",
   "execution_count": 114,
   "metadata": {
    "colab": {},
    "colab_type": "code",
    "id": "LMhyqnFID0_Q"
   },
   "outputs": [
    {
     "name": "stdout",
     "output_type": "stream",
     "text": [
      "Auto: Passat posición: 0\n",
      "Auto: Crossfox posición: 1\n"
     ]
    }
   ],
   "source": [
    "i = -1\n",
    "for auto in autos[1:3]:\n",
    "    i += 1\n",
    "    print(f'Auto: {auto} posición: {i}')"
   ]
  },
  {
   "cell_type": "code",
   "execution_count": 115,
   "metadata": {
    "colab": {},
    "colab_type": "code",
    "id": "zvrWYkkeD0_W"
   },
   "outputs": [
    {
     "data": {
      "text/plain": [
       "('Fusca', 'Gol', 'C4')"
      ]
     },
     "execution_count": 115,
     "metadata": {},
     "output_type": "execute_result"
    }
   ],
   "source": [
    "nombres_carros = ('Jetta Variant', 'Passat', 'Crossfox', 'DS5', ('Fusca', 'Gol', 'C4'))\n",
    "nombres_carros[-1]"
   ]
  },
  {
   "cell_type": "code",
   "execution_count": 116,
   "metadata": {
    "colab": {},
    "colab_type": "code",
    "id": "Dw7tbM2ED0_Z"
   },
   "outputs": [
    {
     "data": {
      "text/plain": [
       "'Gol'"
      ]
     },
     "execution_count": 116,
     "metadata": {},
     "output_type": "execute_result"
    }
   ],
   "source": [
    "nombres_carros[-1][1]"
   ]
  },
  {
   "cell_type": "markdown",
   "metadata": {
    "colab_type": "text",
    "id": "KLMxh4-0D0_c"
   },
   "source": [
    "# 2.3 Iterando en tuplas"
   ]
  },
  {
   "cell_type": "code",
   "execution_count": 117,
   "metadata": {
    "colab": {},
    "colab_type": "code",
    "id": "K53elKsYD0_c"
   },
   "outputs": [
    {
     "data": {
      "text/plain": [
       "('Jetta Variant', 'Passat', 'Crossfox', 'DS5')"
      ]
     },
     "execution_count": 117,
     "metadata": {},
     "output_type": "execute_result"
    }
   ],
   "source": [
    "nombres_carros = ('Jetta Variant', 'Passat', 'Crossfox', 'DS5')\n",
    "nombres_carros"
   ]
  },
  {
   "cell_type": "code",
   "execution_count": 118,
   "metadata": {
    "colab": {},
    "colab_type": "code",
    "id": "igZhZ5zdD0_d"
   },
   "outputs": [
    {
     "name": "stdout",
     "output_type": "stream",
     "text": [
      "Auto: Jetta Variant posición: 0\n",
      "Auto: Passat posición: 1\n",
      "Auto: Crossfox posición: 2\n",
      "Auto: DS5 posición: 3\n"
     ]
    }
   ],
   "source": [
    "i = -1\n",
    "for auto in autos:\n",
    "    i += 1\n",
    "    print(f'Auto: {auto} posición: {i}')"
   ]
  },
  {
   "cell_type": "code",
   "execution_count": 119,
   "metadata": {},
   "outputs": [
    {
     "name": "stdout",
     "output_type": "stream",
     "text": [
      "Auto: Passat posición: 0\n",
      "Auto: Crossfox posición: 1\n"
     ]
    }
   ],
   "source": [
    "i = -1\n",
    "for auto in autos[1:3]:\n",
    "    i += 1\n",
    "    print(f'Auto: {auto} posición: {i}')"
   ]
  },
  {
   "cell_type": "code",
   "execution_count": 120,
   "metadata": {},
   "outputs": [],
   "source": [
    "auto1, auto2 , auto3, auto4 = autos"
   ]
  },
  {
   "cell_type": "code",
   "execution_count": 121,
   "metadata": {},
   "outputs": [
    {
     "name": "stdout",
     "output_type": "stream",
     "text": [
      "\n",
      "      Los valores dentro de la tupla son los siguientes:\n",
      "      Jetta Variant\n",
      "      Passat\n",
      "      Crossfox\n",
      "      DS5\n",
      "      \n"
     ]
    }
   ],
   "source": [
    "print(f'''\n",
    "      Los valores dentro de la tupla son los siguientes:\n",
    "      {auto1}\n",
    "      {auto2}\n",
    "      {auto3}\n",
    "      {auto4}\n",
    "      ''')"
   ]
  },
  {
   "cell_type": "code",
   "execution_count": 122,
   "metadata": {},
   "outputs": [],
   "source": [
    "a, _ , b, _ = autos"
   ]
  },
  {
   "cell_type": "code",
   "execution_count": 123,
   "metadata": {},
   "outputs": [
    {
     "name": "stdout",
     "output_type": "stream",
     "text": [
      "\n",
      "      Los valores dentro de la tupla son los siguientes:\n",
      "      Jetta Variant\n",
      "      Crossfox\n",
      "      \n"
     ]
    }
   ],
   "source": [
    "print(f'''\n",
    "      Los valores dentro de la tupla son los siguientes:\n",
    "      {a}\n",
    "      {b}\n",
    "      ''')"
   ]
  },
  {
   "cell_type": "code",
   "execution_count": 124,
   "metadata": {},
   "outputs": [],
   "source": [
    "a, *_= autos"
   ]
  },
  {
   "cell_type": "code",
   "execution_count": 125,
   "metadata": {},
   "outputs": [
    {
     "data": {
      "text/plain": [
       "'Jetta Variant'"
      ]
     },
     "execution_count": 125,
     "metadata": {},
     "output_type": "execute_result"
    }
   ],
   "source": [
    "a"
   ]
  },
  {
   "cell_type": "markdown",
   "metadata": {
    "colab_type": "text",
    "id": "u85Aou8WD0_s"
   },
   "source": [
    "## *zip()*\n",
    "\n",
    "https://docs.python.org/3.6/library/functions.html#zip"
   ]
  },
  {
   "cell_type": "code",
   "execution_count": 126,
   "metadata": {
    "colab": {},
    "colab_type": "code",
    "id": "PaC2oXGED0_t"
   },
   "outputs": [
    {
     "data": {
      "text/plain": [
       "['Jetta Variant', 'Passat', 'Crossfox', 'DS5']"
      ]
     },
     "execution_count": 126,
     "metadata": {},
     "output_type": "execute_result"
    }
   ],
   "source": [
    "carros = ['Jetta Variant', 'Passat', 'Crossfox', 'DS5']\n",
    "carros"
   ]
  },
  {
   "cell_type": "code",
   "execution_count": 127,
   "metadata": {
    "colab": {},
    "colab_type": "code",
    "id": "_02O1VnHD0_u"
   },
   "outputs": [
    {
     "data": {
      "text/plain": [
       "[88078.64, 106161.94, 72832.16, 124549.07]"
      ]
     },
     "execution_count": 127,
     "metadata": {},
     "output_type": "execute_result"
    }
   ],
   "source": [
    "valores = [88078.64, 106161.94, 72832.16, 124549.07]\n",
    "valores"
   ]
  },
  {
   "cell_type": "code",
   "execution_count": 128,
   "metadata": {
    "colab": {},
    "colab_type": "code",
    "id": "roQK5nYRD0_v"
   },
   "outputs": [
    {
     "data": {
      "text/plain": [
       "[('Jetta Variant', 88078.64),\n",
       " ('Passat', 106161.94),\n",
       " ('Crossfox', 72832.16),\n",
       " ('DS5', 124549.07)]"
      ]
     },
     "execution_count": 128,
     "metadata": {},
     "output_type": "execute_result"
    }
   ],
   "source": [
    "list(zip(carros,valores))"
   ]
  },
  {
   "cell_type": "code",
   "execution_count": 129,
   "metadata": {
    "colab": {},
    "colab_type": "code",
    "id": "_WRxIRHrD0_w"
   },
   "outputs": [
    {
     "name": "stdout",
     "output_type": "stream",
     "text": [
      "('Jetta Variant', 88078.64)\n",
      "('Passat', 106161.94)\n",
      "('Crossfox', 72832.16)\n",
      "('DS5', 124549.07)\n"
     ]
    }
   ],
   "source": [
    "for i in zip(carros,valores):\n",
    "    print(i)"
   ]
  },
  {
   "cell_type": "code",
   "execution_count": 130,
   "metadata": {
    "colab": {},
    "colab_type": "code",
    "id": "2zIuhIILD0_x"
   },
   "outputs": [
    {
     "name": "stdout",
     "output_type": "stream",
     "text": [
      "Auto marca: Jetta Variant Precio: 88078.64\n",
      "Auto marca: Passat Precio: 106161.94\n",
      "Auto marca: Crossfox Precio: 72832.16\n",
      "Auto marca: DS5 Precio: 124549.07\n"
     ]
    }
   ],
   "source": [
    "for i, x in zip(carros,valores):\n",
    "    print(f'Auto marca: {i} Precio: {x}')"
   ]
  },
  {
   "cell_type": "code",
   "execution_count": 131,
   "metadata": {
    "colab": {},
    "colab_type": "code",
    "id": "ZJaL62IpD0_y"
   },
   "outputs": [
    {
     "name": "stdout",
     "output_type": "stream",
     "text": [
      "Auto marca: Passat Precio: 106161.94\n",
      "Auto marca: DS5 Precio: 124549.07\n"
     ]
    }
   ],
   "source": [
    "for i, x in zip(carros,valores):\n",
    "    if x >= 100000:\n",
    "        print(f'Auto marca: {i} Precio: {x}')"
   ]
  },
  {
   "cell_type": "markdown",
   "metadata": {},
   "source": [
    "En esta aula aprendimos:\n",
    "\n",
    "Qué son las tuplas.\n",
    "Formas de crear una tupla.\n",
    "Técnicas de selección de elementos y particionamiento con tuplas de Python.\n",
    "Formas de iterar una tupla.\n",
    "La técnica conocida como desempaquetado de tuplas.\n",
    "A utilizar la built-in function zip()."
   ]
  },
  {
   "cell_type": "markdown",
   "metadata": {
    "colab_type": "text",
    "id": "xo76nR8rD0_0"
   },
   "source": [
    "# <font color=green> 3. TRABAJANDO CON DICCIONARIOS\n",
    "---"
   ]
  },
  {
   "cell_type": "markdown",
   "metadata": {
    "colab_type": "text",
    "id": "wfWzOuztD0_0"
   },
   "source": [
    "# 3.1 Creando diccionarios\n",
    "\n",
    "Listas son colecciones secuenciales, es decir, los elementos de estas secuencias están ordenados y utilizan índices (números enteros) para acceder a los valores.\n",
    "\n",
    "Los diccionarios son colecciones ligeramente diferentes. Son estructuras de datos que representan un tipo de mapeo. Los mapeos son colecciones de asociaciones entre pares de valores donde el primer elemento del par se conoce como llave (*key*) y el segundo como valor (*value*).\n",
    "\n",
    "```\n",
    "diccionario = {key_1: value_1, key_2: value_2, ..., key_n: value_n}\n",
    "```\n",
    "\n",
    "https://docs.python.org/3.6/library/stdtypes.html#typesmapping"
   ]
  },
  {
   "cell_type": "code",
   "execution_count": null,
   "metadata": {
    "colab": {},
    "colab_type": "code",
    "id": "SuPcV9v6D0_0"
   },
   "outputs": [],
   "source": []
  },
  {
   "cell_type": "code",
   "execution_count": 132,
   "metadata": {
    "colab": {},
    "colab_type": "code",
    "id": "YIFVkWT6D0_1"
   },
   "outputs": [
    {
     "data": {
      "text/plain": [
       "['Jetta Variant', 'Passat', 'Crossfox']"
      ]
     },
     "execution_count": 132,
     "metadata": {},
     "output_type": "execute_result"
    }
   ],
   "source": []
  },
  {
   "cell_type": "code",
   "execution_count": 133,
   "metadata": {
    "colab": {},
    "colab_type": "code",
    "id": "2LHiBn3-D0_2"
   },
   "outputs": [
    {
     "data": {
      "text/plain": [
       "[88078.64, 106161.94, 72832.16]"
      ]
     },
     "execution_count": 133,
     "metadata": {},
     "output_type": "execute_result"
    }
   ],
   "source": [
    "valores = [88078.64, 106161.94, 72832.16]\n",
    "valores"
   ]
  },
  {
   "cell_type": "code",
   "execution_count": 134,
   "metadata": {},
   "outputs": [
    {
     "data": {
      "text/plain": [
       "1"
      ]
     },
     "execution_count": 134,
     "metadata": {},
     "output_type": "execute_result"
    }
   ],
   "source": [
    "carros.index('Passat')"
   ]
  },
  {
   "cell_type": "code",
   "execution_count": 135,
   "metadata": {},
   "outputs": [
    {
     "data": {
      "text/plain": [
       "106161.94"
      ]
     },
     "execution_count": 135,
     "metadata": {},
     "output_type": "execute_result"
    }
   ],
   "source": [
    "valores[carros.index('Passat')]"
   ]
  },
  {
   "cell_type": "code",
   "execution_count": 156,
   "metadata": {},
   "outputs": [
    {
     "data": {
      "text/plain": [
       "{'Jetta Variant': 88078.6, 'Passat': 106161.94, 'Crossfox': 72832.16}"
      ]
     },
     "execution_count": 156,
     "metadata": {},
     "output_type": "execute_result"
    }
   ],
   "source": [
    "datos = {\n",
    "        'Jetta Variant':88078.6,\n",
    "         'Passat':106161.94,\n",
    "         'Crossfox':72832.16\n",
    "         }\n",
    "datos"
   ]
  },
  {
   "cell_type": "code",
   "execution_count": 137,
   "metadata": {},
   "outputs": [
    {
     "data": {
      "text/plain": [
       "dict"
      ]
     },
     "execution_count": 137,
     "metadata": {},
     "output_type": "execute_result"
    }
   ],
   "source": [
    "type(datos)"
   ]
  },
  {
   "cell_type": "markdown",
   "metadata": {
    "colab_type": "text",
    "id": "PQg-MLkGD0_-"
   },
   "source": [
    "### Creando diccionarios con *zip()*"
   ]
  },
  {
   "cell_type": "code",
   "execution_count": 162,
   "metadata": {},
   "outputs": [
    {
     "data": {
      "text/plain": [
       "['Jetta Variant', 'Passat', 'Crossfox']"
      ]
     },
     "execution_count": 162,
     "metadata": {},
     "output_type": "execute_result"
    }
   ],
   "source": [
    "carros = ['Jetta Variant', 'Passat', 'Crossfox']\n",
    "carros"
   ]
  },
  {
   "cell_type": "code",
   "execution_count": 163,
   "metadata": {
    "colab": {},
    "colab_type": "code",
    "id": "iB4Q_gbND0__"
   },
   "outputs": [
    {
     "data": {
      "text/plain": [
       "[88078.64, 106161.94, 72832.16]"
      ]
     },
     "execution_count": 163,
     "metadata": {},
     "output_type": "execute_result"
    }
   ],
   "source": [
    "valores = [88078.64, 106161.94, 72832.16]\n",
    "valores"
   ]
  },
  {
   "cell_type": "code",
   "execution_count": 165,
   "metadata": {},
   "outputs": [
    {
     "data": {
      "text/plain": [
       "<zip at 0x19d2d655200>"
      ]
     },
     "execution_count": 165,
     "metadata": {},
     "output_type": "execute_result"
    }
   ],
   "source": [
    "zip(carros, valores)"
   ]
  },
  {
   "cell_type": "code",
   "execution_count": null,
   "metadata": {},
   "outputs": [],
   "source": [
    "# datos = dict(zip(carros , valores))\n",
    "# dict"
   ]
  },
  {
   "cell_type": "code",
   "execution_count": 175,
   "metadata": {},
   "outputs": [
    {
     "data": {
      "text/plain": [
       "{'Jetta Variant': 88078.6, 'Passat': 106161.94, 'Crossfox': 72832.16}"
      ]
     },
     "execution_count": 175,
     "metadata": {},
     "output_type": "execute_result"
    }
   ],
   "source": [
    "datos = {\n",
    "        'Jetta Variant':88078.6,\n",
    "         'Passat':106161.94,\n",
    "         'Crossfox':72832.16\n",
    "         }\n",
    "datos"
   ]
  },
  {
   "cell_type": "markdown",
   "metadata": {
    "colab_type": "text",
    "id": "KYeRqavFD1AD"
   },
   "source": [
    "# 3.2 Operaciones con diccionarios"
   ]
  },
  {
   "cell_type": "markdown",
   "metadata": {
    "colab_type": "text",
    "id": "KzmWbEltD1AD"
   },
   "source": [
    "## *dict[ key ]*\n",
    "\n",
    "Devuelve el valor correspondiente a la llave (*key*) en el diccionario."
   ]
  },
  {
   "cell_type": "code",
   "execution_count": 178,
   "metadata": {
    "colab": {},
    "colab_type": "code",
    "id": "hFFDz6wKD1AD"
   },
   "outputs": [
    {
     "data": {
      "text/plain": [
       "267072.7"
      ]
     },
     "execution_count": 178,
     "metadata": {},
     "output_type": "execute_result"
    }
   ],
   "source": [
    "valor_total_autos = datos['Passat'] + datos['Crossfox'] + datos['Jetta Variant']\n",
    "valor_total_autos"
   ]
  },
  {
   "cell_type": "markdown",
   "metadata": {
    "colab_type": "text",
    "id": "SWlE6VTBD1AE"
   },
   "source": [
    "## *key in dict*\n",
    "\n",
    "Devuelve **True** si la llave (*key*) es encontrada en el diccionario."
   ]
  },
  {
   "cell_type": "code",
   "execution_count": 180,
   "metadata": {
    "colab": {},
    "colab_type": "code",
    "id": "Iy88SxBtD1AE"
   },
   "outputs": [
    {
     "data": {
      "text/plain": [
       "True"
      ]
     },
     "execution_count": 180,
     "metadata": {},
     "output_type": "execute_result"
    }
   ],
   "source": [
    "'Passat' in datos"
   ]
  },
  {
   "cell_type": "code",
   "execution_count": 181,
   "metadata": {
    "colab": {},
    "colab_type": "code",
    "id": "Oma56NkAD1AF"
   },
   "outputs": [
    {
     "data": {
      "text/plain": [
       "False"
      ]
     },
     "execution_count": 181,
     "metadata": {},
     "output_type": "execute_result"
    }
   ],
   "source": [
    "'Peugeot' in datos"
   ]
  },
  {
   "cell_type": "code",
   "execution_count": 183,
   "metadata": {
    "colab": {},
    "colab_type": "code",
    "id": "yS2U-_8gD1AG"
   },
   "outputs": [
    {
     "data": {
      "text/plain": [
       "True"
      ]
     },
     "execution_count": 183,
     "metadata": {},
     "output_type": "execute_result"
    }
   ],
   "source": [
    "'Peugeot' not in datos"
   ]
  },
  {
   "cell_type": "markdown",
   "metadata": {
    "colab_type": "text",
    "id": "oWbWyDd0D1AI"
   },
   "source": [
    "## *len(dict)*\n",
    "\n",
    "Devuelve el número de itens del diccionario."
   ]
  },
  {
   "cell_type": "code",
   "execution_count": 184,
   "metadata": {
    "colab": {},
    "colab_type": "code",
    "id": "k08YkCc1D1AJ"
   },
   "outputs": [
    {
     "data": {
      "text/plain": [
       "3"
      ]
     },
     "execution_count": 184,
     "metadata": {},
     "output_type": "execute_result"
    }
   ],
   "source": [
    "len(datos)"
   ]
  },
  {
   "cell_type": "markdown",
   "metadata": {
    "colab_type": "text",
    "id": "yYNqIHJBD1AK"
   },
   "source": [
    "## *dict[ key ] = value*\n",
    "\n",
    "Incluye un item al diccionario."
   ]
  },
  {
   "cell_type": "code",
   "execution_count": 186,
   "metadata": {
    "colab": {},
    "colab_type": "code",
    "id": "5jj3i52bD1AK"
   },
   "outputs": [],
   "source": [
    "datos['Peugeot'] = 777777"
   ]
  },
  {
   "cell_type": "code",
   "execution_count": 188,
   "metadata": {},
   "outputs": [],
   "source": [
    "datos['Audi'] = 666666"
   ]
  },
  {
   "cell_type": "code",
   "execution_count": 189,
   "metadata": {
    "colab": {},
    "colab_type": "code",
    "id": "y6rso5hLD1AL"
   },
   "outputs": [
    {
     "data": {
      "text/plain": [
       "{'Jetta Variant': 153000,\n",
       " 'Passat': 106161.94,\n",
       " 'Crossfox': 72832.16,\n",
       " 'Peugeot': 777777,\n",
       " 'Audi': 666666}"
      ]
     },
     "execution_count": 189,
     "metadata": {},
     "output_type": "execute_result"
    }
   ],
   "source": [
    "datos"
   ]
  },
  {
   "cell_type": "markdown",
   "metadata": {
    "colab_type": "text",
    "id": "_z0JySuqD1AL"
   },
   "source": [
    "## *del dict[ key ]*\n",
    "\n",
    "Borra el item de llave (*key*) del diccionario."
   ]
  },
  {
   "cell_type": "code",
   "execution_count": 190,
   "metadata": {
    "colab": {},
    "colab_type": "code",
    "id": "PPfh6sfID1AM"
   },
   "outputs": [],
   "source": [
    "del datos['Passat']"
   ]
  },
  {
   "cell_type": "code",
   "execution_count": 191,
   "metadata": {
    "colab": {},
    "colab_type": "code",
    "id": "BtjGpXtGD1AN"
   },
   "outputs": [
    {
     "data": {
      "text/plain": [
       "{'Jetta Variant': 153000,\n",
       " 'Crossfox': 72832.16,\n",
       " 'Peugeot': 777777,\n",
       " 'Audi': 666666}"
      ]
     },
     "execution_count": 191,
     "metadata": {},
     "output_type": "execute_result"
    }
   ],
   "source": [
    "datos"
   ]
  },
  {
   "cell_type": "markdown",
   "metadata": {
    "colab_type": "text",
    "id": "FodJVx5sD1AP"
   },
   "source": [
    "# 3.3 Métodos de diccionarios"
   ]
  },
  {
   "cell_type": "markdown",
   "metadata": {
    "colab_type": "text",
    "id": "7pqdPOkYD1AP"
   },
   "source": [
    "## *dict.update()*\n",
    "\n",
    "Actualiza el diccionario."
   ]
  },
  {
   "cell_type": "code",
   "execution_count": 195,
   "metadata": {
    "colab": {},
    "colab_type": "code",
    "id": "DUySYxKQD1AQ"
   },
   "outputs": [],
   "source": [
    "datos.update({'Passat': 444444})"
   ]
  },
  {
   "cell_type": "code",
   "execution_count": 196,
   "metadata": {
    "colab": {},
    "colab_type": "code",
    "id": "DLsqp71cD1AR"
   },
   "outputs": [
    {
     "data": {
      "text/plain": [
       "{'Jetta Variant': 153000,\n",
       " 'Crossfox': 72832.16,\n",
       " 'Peugeot': 777777,\n",
       " 'Audi': 666666,\n",
       " 'Passat': 444444}"
      ]
     },
     "execution_count": 196,
     "metadata": {},
     "output_type": "execute_result"
    }
   ],
   "source": [
    "datos"
   ]
  },
  {
   "cell_type": "code",
   "execution_count": 197,
   "metadata": {},
   "outputs": [],
   "source": [
    "datos.update({'Fiat': 333333})"
   ]
  },
  {
   "cell_type": "code",
   "execution_count": 198,
   "metadata": {},
   "outputs": [
    {
     "data": {
      "text/plain": [
       "{'Jetta Variant': 153000,\n",
       " 'Crossfox': 72832.16,\n",
       " 'Peugeot': 777777,\n",
       " 'Audi': 666666,\n",
       " 'Passat': 444444,\n",
       " 'Fiat': 333333}"
      ]
     },
     "execution_count": 198,
     "metadata": {},
     "output_type": "execute_result"
    }
   ],
   "source": [
    "datos"
   ]
  },
  {
   "cell_type": "code",
   "execution_count": 199,
   "metadata": {},
   "outputs": [],
   "source": [
    "datos.update({'Fiat': 555555})"
   ]
  },
  {
   "cell_type": "code",
   "execution_count": 200,
   "metadata": {},
   "outputs": [
    {
     "data": {
      "text/plain": [
       "{'Jetta Variant': 153000,\n",
       " 'Crossfox': 72832.16,\n",
       " 'Peugeot': 777777,\n",
       " 'Audi': 666666,\n",
       " 'Passat': 444444,\n",
       " 'Fiat': 555555}"
      ]
     },
     "execution_count": 200,
     "metadata": {},
     "output_type": "execute_result"
    }
   ],
   "source": [
    "datos"
   ]
  },
  {
   "cell_type": "code",
   "execution_count": 201,
   "metadata": {},
   "outputs": [],
   "source": [
    "datos.update({'Audi': 111111})"
   ]
  },
  {
   "cell_type": "code",
   "execution_count": 202,
   "metadata": {},
   "outputs": [
    {
     "data": {
      "text/plain": [
       "{'Jetta Variant': 153000,\n",
       " 'Crossfox': 72832.16,\n",
       " 'Peugeot': 777777,\n",
       " 'Audi': 111111,\n",
       " 'Passat': 444444,\n",
       " 'Fiat': 555555}"
      ]
     },
     "execution_count": 202,
     "metadata": {},
     "output_type": "execute_result"
    }
   ],
   "source": [
    "datos"
   ]
  },
  {
   "cell_type": "markdown",
   "metadata": {
    "colab_type": "text",
    "id": "JLs5c0DeD1AR"
   },
   "source": [
    "## *dict.copy()*\n",
    "\n",
    "Crea una copia del diccionario."
   ]
  },
  {
   "cell_type": "code",
   "execution_count": 203,
   "metadata": {
    "colab": {},
    "colab_type": "code",
    "id": "X9F7OB3eD1AS"
   },
   "outputs": [
    {
     "data": {
      "text/plain": [
       "{'Jetta Variant': 153000,\n",
       " 'Crossfox': 72832.16,\n",
       " 'Peugeot': 777777,\n",
       " 'Audi': 111111,\n",
       " 'Passat': 444444,\n",
       " 'Fiat': 555555}"
      ]
     },
     "execution_count": 203,
     "metadata": {},
     "output_type": "execute_result"
    }
   ],
   "source": [
    "datosCopy = datos.copy()\n",
    "datosCopy"
   ]
  },
  {
   "cell_type": "code",
   "execution_count": 204,
   "metadata": {
    "colab": {},
    "colab_type": "code",
    "id": "v0rL0bveD1AS"
   },
   "outputs": [],
   "source": [
    "del datosCopy['Audi']"
   ]
  },
  {
   "cell_type": "code",
   "execution_count": 207,
   "metadata": {},
   "outputs": [],
   "source": [
    "del datosCopy['Fiat']"
   ]
  },
  {
   "cell_type": "code",
   "execution_count": 208,
   "metadata": {
    "colab": {},
    "colab_type": "code",
    "id": "M-abRGGrD1AT"
   },
   "outputs": [
    {
     "data": {
      "text/plain": [
       "{'Jetta Variant': 153000,\n",
       " 'Crossfox': 72832.16,\n",
       " 'Peugeot': 777777,\n",
       " 'Passat': 444444}"
      ]
     },
     "execution_count": 208,
     "metadata": {},
     "output_type": "execute_result"
    }
   ],
   "source": [
    "datosCopy"
   ]
  },
  {
   "cell_type": "code",
   "execution_count": 209,
   "metadata": {
    "colab": {},
    "colab_type": "code",
    "id": "ETBD0TkND1AU"
   },
   "outputs": [
    {
     "data": {
      "text/plain": [
       "{'Jetta Variant': 153000,\n",
       " 'Crossfox': 72832.16,\n",
       " 'Peugeot': 777777,\n",
       " 'Audi': 111111,\n",
       " 'Passat': 444444,\n",
       " 'Fiat': 555555}"
      ]
     },
     "execution_count": 209,
     "metadata": {},
     "output_type": "execute_result"
    }
   ],
   "source": [
    "datos"
   ]
  },
  {
   "cell_type": "markdown",
   "metadata": {
    "colab_type": "text",
    "id": "mNODkmHCD1AV"
   },
   "source": [
    "## *dict.pop(key[, default ])*\n",
    "\n",
    "Si la llave se encuentra en el diccionario, el elemento se elimina y se devuelve su valor. De lo contrario, se devuelve el valor especificado como *default*. Si no se proporciona el valor *default* y la llave no se encuentra en el diccionario, se generará un error."
   ]
  },
  {
   "cell_type": "code",
   "execution_count": null,
   "metadata": {
    "colab": {},
    "colab_type": "code",
    "id": "_4QEPwScD1AW"
   },
   "outputs": [],
   "source": []
  },
  {
   "cell_type": "code",
   "execution_count": null,
   "metadata": {
    "colab": {},
    "colab_type": "code",
    "id": "Hjh0MuymD1AX"
   },
   "outputs": [],
   "source": []
  },
  {
   "cell_type": "code",
   "execution_count": null,
   "metadata": {
    "colab": {},
    "colab_type": "code",
    "id": "f51rKjkuD1AX"
   },
   "outputs": [],
   "source": []
  },
  {
   "cell_type": "code",
   "execution_count": null,
   "metadata": {
    "colab": {},
    "colab_type": "code",
    "id": "Ah4sZ7axD1AZ"
   },
   "outputs": [],
   "source": []
  },
  {
   "cell_type": "code",
   "execution_count": null,
   "metadata": {
    "colab": {},
    "colab_type": "code",
    "id": "SJATRY8RD1Aa"
   },
   "outputs": [],
   "source": []
  },
  {
   "cell_type": "code",
   "execution_count": null,
   "metadata": {
    "colab": {},
    "colab_type": "code",
    "id": "V36wHdzmD1Ab"
   },
   "outputs": [],
   "source": []
  },
  {
   "cell_type": "code",
   "execution_count": null,
   "metadata": {
    "colab": {},
    "colab_type": "code",
    "id": "LJ0lQIrdD1Ac"
   },
   "outputs": [],
   "source": []
  },
  {
   "cell_type": "code",
   "execution_count": null,
   "metadata": {
    "colab": {},
    "colab_type": "code",
    "id": "yKGu-fYkD1Ad"
   },
   "outputs": [],
   "source": []
  },
  {
   "cell_type": "code",
   "execution_count": null,
   "metadata": {
    "colab": {},
    "colab_type": "code",
    "id": "x-h8nVyhD1Af"
   },
   "outputs": [],
   "source": []
  },
  {
   "cell_type": "markdown",
   "metadata": {
    "colab_type": "text",
    "id": "Q5J0R7d3D1Ag"
   },
   "source": [
    "## *dict.clear()*\n",
    "\n",
    "Borra todos los itens del diccionario."
   ]
  },
  {
   "cell_type": "code",
   "execution_count": null,
   "metadata": {
    "colab": {},
    "colab_type": "code",
    "id": "AvkP_8mND1Ag"
   },
   "outputs": [],
   "source": []
  },
  {
   "cell_type": "code",
   "execution_count": null,
   "metadata": {
    "colab": {},
    "colab_type": "code",
    "id": "S69pMYboD1Ah"
   },
   "outputs": [],
   "source": []
  },
  {
   "cell_type": "markdown",
   "metadata": {
    "colab_type": "text",
    "id": "QhoSRfPsD1Ai"
   },
   "source": [
    "# 3.4 Iterando en diccionarios"
   ]
  },
  {
   "cell_type": "markdown",
   "metadata": {
    "colab_type": "text",
    "id": "E-agaqakD1Ai"
   },
   "source": [
    "## *dict.keys()*\n",
    "\n",
    "Devuelve una lista con las llaves (*keys*) del diccionario."
   ]
  },
  {
   "cell_type": "code",
   "execution_count": null,
   "metadata": {
    "colab": {},
    "colab_type": "code",
    "id": "qFADEYmBD1Aj"
   },
   "outputs": [],
   "source": []
  },
  {
   "cell_type": "code",
   "execution_count": null,
   "metadata": {
    "colab": {},
    "colab_type": "code",
    "id": "niwh9AgDD1Aj"
   },
   "outputs": [],
   "source": []
  },
  {
   "cell_type": "markdown",
   "metadata": {
    "colab_type": "text",
    "id": "qFj6Cc7dD1Ak"
   },
   "source": [
    "## *dict.values()*\n",
    "\n",
    "Devuelve una lista con todos los valores (*values*) del diccionario."
   ]
  },
  {
   "cell_type": "code",
   "execution_count": null,
   "metadata": {
    "colab": {},
    "colab_type": "code",
    "id": "nfpLxrQVD1Al"
   },
   "outputs": [],
   "source": []
  },
  {
   "cell_type": "markdown",
   "metadata": {
    "colab_type": "text",
    "id": "-NGRwX0AD1Al"
   },
   "source": [
    "## *dict.items()*\n",
    "\n",
    "Devuelve una lista con una tupla para cada par llave-valor (*key-value*) del diccionario."
   ]
  },
  {
   "cell_type": "code",
   "execution_count": null,
   "metadata": {
    "colab": {},
    "colab_type": "code",
    "id": "Q2I9_6YvD1Am"
   },
   "outputs": [],
   "source": []
  },
  {
   "cell_type": "code",
   "execution_count": null,
   "metadata": {
    "colab": {},
    "colab_type": "code",
    "id": "0j41ZqgQD1Am"
   },
   "outputs": [],
   "source": []
  },
  {
   "cell_type": "code",
   "execution_count": null,
   "metadata": {
    "colab": {},
    "colab_type": "code",
    "id": "OVY9rIwFD1An"
   },
   "outputs": [],
   "source": []
  },
  {
   "cell_type": "code",
   "execution_count": null,
   "metadata": {
    "colab": {},
    "colab_type": "code",
    "id": "ma2Ol8vcD1Ap"
   },
   "outputs": [],
   "source": []
  },
  {
   "cell_type": "markdown",
   "metadata": {
    "colab_type": "text",
    "id": "-q3AlSg3D1Aq"
   },
   "source": [
    "# <font color=green> 4. FUNCIONES Y PAQUETES\n",
    "---\n",
    "\n",
    "Funciones son unidades de código reutilizables que realizan una tarea específica, pueden recibir alguna entrada y también pueden devolver algún resultado."
   ]
  },
  {
   "cell_type": "markdown",
   "metadata": {
    "colab_type": "text",
    "id": "5CfEcU58D1Aq"
   },
   "source": [
    "# 4.1 Built-in function\n",
    "\n",
    "El lenguaje Python tiene varias funciones integradas que siempre están accesibles. Algunas ya las usamos en nuestro entrenamiento:\n",
    "type(), print(), zip(), len(), set() etc.\n",
    "\n",
    "https://docs.python.org/3.6/library/functions.html"
   ]
  },
  {
   "cell_type": "code",
   "execution_count": null,
   "metadata": {
    "colab": {},
    "colab_type": "code",
    "id": "DP7cmY7xD1Aq"
   },
   "outputs": [],
   "source": [
    "datos = {'Jetta Variant': 88078.64, 'Passat': 106161.94, 'Crossfox': 72832.16}\n",
    "datos"
   ]
  },
  {
   "cell_type": "code",
   "execution_count": null,
   "metadata": {
    "colab": {},
    "colab_type": "code",
    "id": "5zAcGSCbD1Ar"
   },
   "outputs": [],
   "source": []
  },
  {
   "cell_type": "code",
   "execution_count": null,
   "metadata": {
    "colab": {},
    "colab_type": "code",
    "id": "zG9_jU_1D1At"
   },
   "outputs": [],
   "source": []
  },
  {
   "cell_type": "code",
   "execution_count": null,
   "metadata": {
    "colab": {},
    "colab_type": "code",
    "id": "jn0O3uXZD1Au"
   },
   "outputs": [],
   "source": []
  },
  {
   "cell_type": "code",
   "execution_count": null,
   "metadata": {
    "colab": {},
    "colab_type": "code",
    "id": "lnUjKVnoD1Aw"
   },
   "outputs": [],
   "source": []
  },
  {
   "cell_type": "code",
   "execution_count": null,
   "metadata": {
    "colab": {},
    "colab_type": "code",
    "id": "WdEuYXe2D1Ay",
    "scrolled": false
   },
   "outputs": [],
   "source": []
  },
  {
   "cell_type": "code",
   "execution_count": null,
   "metadata": {
    "colab": {},
    "colab_type": "code",
    "id": "hIA29O3tD1Az"
   },
   "outputs": [],
   "source": []
  },
  {
   "cell_type": "markdown",
   "metadata": {
    "colab_type": "text",
    "id": "6w62Sl5ZD1A0"
   },
   "source": [
    "# 4.2 Definiendo funciones sin y con parámetros"
   ]
  },
  {
   "cell_type": "markdown",
   "metadata": {
    "colab_type": "text",
    "id": "OADZiBP2D1A0"
   },
   "source": [
    "### Funciones sin parámetros\n",
    "\n",
    "#### Formato estándar\n",
    "\n",
    "```\n",
    "def <nombre>():\n",
    "    <instrucciones>\n",
    "```"
   ]
  },
  {
   "cell_type": "code",
   "execution_count": null,
   "metadata": {
    "colab": {},
    "colab_type": "code",
    "id": "uCkplEpQD1A0"
   },
   "outputs": [],
   "source": []
  },
  {
   "cell_type": "code",
   "execution_count": null,
   "metadata": {
    "colab": {},
    "colab_type": "code",
    "id": "fOCEGq5VD1A1"
   },
   "outputs": [],
   "source": []
  },
  {
   "cell_type": "markdown",
   "metadata": {
    "colab_type": "text",
    "id": "PwSlYSVAD1A2"
   },
   "source": [
    "### Funciones con parámetros\n",
    "\n",
    "#### Formato estándar\n",
    "\n",
    "```\n",
    "def <nombre>(<param_1>, <param_2>, ..., <param_n>):\n",
    "    <instrucciones>\n",
    "```"
   ]
  },
  {
   "cell_type": "code",
   "execution_count": null,
   "metadata": {
    "colab": {},
    "colab_type": "code",
    "id": "A3YnBUduD1A3"
   },
   "outputs": [],
   "source": []
  },
  {
   "cell_type": "code",
   "execution_count": null,
   "metadata": {
    "colab": {},
    "colab_type": "code",
    "id": "rGUZbRERD1A3"
   },
   "outputs": [],
   "source": []
  },
  {
   "cell_type": "code",
   "execution_count": null,
   "metadata": {
    "colab": {},
    "colab_type": "code",
    "id": "B9WDlRE7D1A5"
   },
   "outputs": [],
   "source": []
  },
  {
   "cell_type": "code",
   "execution_count": null,
   "metadata": {
    "colab": {},
    "colab_type": "code",
    "id": "1HAy8OK_D1A6"
   },
   "outputs": [],
   "source": []
  },
  {
   "cell_type": "code",
   "execution_count": null,
   "metadata": {
    "colab": {},
    "colab_type": "code",
    "id": "_CDa4oOfD1A6"
   },
   "outputs": [],
   "source": []
  },
  {
   "cell_type": "code",
   "execution_count": null,
   "metadata": {
    "colab": {},
    "colab_type": "code",
    "id": "xH-mxqYAD1A8"
   },
   "outputs": [],
   "source": []
  },
  {
   "cell_type": "code",
   "execution_count": null,
   "metadata": {
    "colab": {},
    "colab_type": "code",
    "id": "WXXC_UidD1A8"
   },
   "outputs": [],
   "source": []
  },
  {
   "cell_type": "markdown",
   "metadata": {
    "colab_type": "text",
    "id": "8zNYrmFbD1A9"
   },
   "source": [
    "# 4.3 Definiendo funciones que devuelven valores"
   ]
  },
  {
   "cell_type": "markdown",
   "metadata": {
    "colab_type": "text",
    "id": "J44K-dMOD1A9"
   },
   "source": [
    "### Funciones que devuelven un valor\n",
    "\n",
    "#### Formato estándar\n",
    "\n",
    "```\n",
    "def <nombre>(<param_1>, <param_2>, ..., <param_n>):\n",
    "    <instrucciones>\n",
    "    return <resultado>\n",
    "```"
   ]
  },
  {
   "cell_type": "code",
   "execution_count": null,
   "metadata": {
    "colab": {},
    "colab_type": "code",
    "id": "-UG42RQJD1A9"
   },
   "outputs": [],
   "source": []
  },
  {
   "cell_type": "code",
   "execution_count": null,
   "metadata": {
    "colab": {},
    "colab_type": "code",
    "id": "VJwdvoT5D1A-"
   },
   "outputs": [],
   "source": []
  },
  {
   "cell_type": "code",
   "execution_count": null,
   "metadata": {
    "colab": {},
    "colab_type": "code",
    "id": "AgAeJkpND1A-"
   },
   "outputs": [],
   "source": []
  },
  {
   "cell_type": "code",
   "execution_count": null,
   "metadata": {
    "colab": {},
    "colab_type": "code",
    "id": "_r616TevD1A_"
   },
   "outputs": [],
   "source": []
  },
  {
   "cell_type": "markdown",
   "metadata": {
    "colab_type": "text",
    "id": "MQaK8GV5D1BA"
   },
   "source": [
    "### Funciones que devuelven más de un valor\n",
    "\n",
    "#### Formato estándar\n",
    "\n",
    "```\n",
    "def <nombre>(<param_1>, <param_2>, ..., <param_n>):\n",
    "    <instrucciones>\n",
    "    return (<resultado_1>, <resultado_2>, ..., <resultado_n>)\n",
    "```"
   ]
  },
  {
   "cell_type": "code",
   "execution_count": null,
   "metadata": {
    "colab": {},
    "colab_type": "code",
    "id": "v0PUMegVD1BA"
   },
   "outputs": [],
   "source": []
  },
  {
   "cell_type": "code",
   "execution_count": null,
   "metadata": {
    "colab": {},
    "colab_type": "code",
    "id": "Ys-etom8D1BA"
   },
   "outputs": [],
   "source": []
  },
  {
   "cell_type": "code",
   "execution_count": null,
   "metadata": {
    "colab": {},
    "colab_type": "code",
    "id": "LERrvkMHD1BC"
   },
   "outputs": [],
   "source": []
  },
  {
   "cell_type": "code",
   "execution_count": null,
   "metadata": {
    "colab": {},
    "colab_type": "code",
    "id": "sqoFOWSsD1BC"
   },
   "outputs": [],
   "source": []
  },
  {
   "cell_type": "code",
   "execution_count": null,
   "metadata": {
    "colab": {},
    "colab_type": "code",
    "id": "NdB_Jyw_D1BD"
   },
   "outputs": [],
   "source": []
  },
  {
   "cell_type": "markdown",
   "metadata": {
    "colab_type": "text",
    "id": "uQ5lNnKrD1BD"
   },
   "source": [
    "# <font color=green> 5. PANDAS BÁSICO\n",
    "---\n",
    "\n",
    "**versión: 1.1.0**\n",
    "\n",
    "Pandas es una herramienta de manipulación de datos de alto nivel, construida sobre la base del paquete Numpy. El paquete pandas tiene estructuras de datos muy interesantes para la manipulación de datos y, por esto, es ampliamente utilizado por los científicos de datos.\n",
    "\n",
    "\n",
    "## Estructuras de Datos\n",
    "\n",
    "### Series\n",
    "\n",
    "Series son arrays unidimensionales etiquetados capaces de almacenar cualquier tipo de dato. Las etiquetas de las líneas se denominan **index**. La forma básica de crear una Series es la siguiente:\n",
    "\n",
    "\n",
    "```\n",
    "    s = pd.Series(datos, index = index)\n",
    "```\n",
    "\n",
    "El argumento *datos* puede ser un diccionario, una lista, un array Numpy o una constante.\n",
    "\n",
    "### DataFrames\n",
    "\n",
    "DataFrame es una estructura de datos tabular bidimensional con etiquetas de fila y columna. Como la Series, los DataFrames son capaces de almacenar cualquier tipo de datos.\n",
    "\n",
    "\n",
    "```\n",
    "    df = pd.DataFrame(datos, index = index, columns = columns)\n",
    "```\n",
    "\n",
    "El argumento *datos* puede ser un diccionario, una lista, un array Numpy, una Series y otro DataFrame.\n",
    "\n",
    "**Documentación:** https://pandas.pydata.org/pandas-docs/version/1.1.0/"
   ]
  },
  {
   "cell_type": "markdown",
   "metadata": {
    "colab_type": "text",
    "id": "2qa7RC03D1BD"
   },
   "source": [
    "# 5.1 Estructuras de datos"
   ]
  },
  {
   "cell_type": "code",
   "execution_count": null,
   "metadata": {
    "colab": {},
    "colab_type": "code",
    "id": "4QyFDeS4D1BD"
   },
   "outputs": [],
   "source": []
  },
  {
   "cell_type": "markdown",
   "metadata": {
    "colab_type": "text",
    "id": "kIey8_OcD1BF"
   },
   "source": [
    "### Creando una Series a partir de una lista"
   ]
  },
  {
   "cell_type": "code",
   "execution_count": null,
   "metadata": {
    "colab": {},
    "colab_type": "code",
    "id": "yEZR6DWiD1BF"
   },
   "outputs": [],
   "source": []
  },
  {
   "cell_type": "code",
   "execution_count": null,
   "metadata": {
    "colab": {},
    "colab_type": "code",
    "id": "rLudWKZ_D1BF"
   },
   "outputs": [],
   "source": []
  },
  {
   "cell_type": "markdown",
   "metadata": {
    "colab_type": "text",
    "id": "VYVIKd1-D1BG"
   },
   "source": [
    "### Creando un DataFrame a partir de una lista de diccionarios"
   ]
  },
  {
   "cell_type": "code",
   "execution_count": null,
   "metadata": {
    "colab": {},
    "colab_type": "code",
    "id": "QFNS9PckD1BG"
   },
   "outputs": [],
   "source": [
    "datos = [\n",
    "    {'Nombre': 'Jetta Variant', 'Motor': 'Motor 4.0 Turbo', 'Año': 2003, 'Kilometraje': 44410.0, 'Cero_km': False, 'Valor': 88078.64},\n",
    "    {'Nombre': 'Passat', 'Motor': 'Motor Diesel', 'Año': 1991, 'Kilometraje': 5712.0, 'Cero_km': False, 'Valor': 106161.94},\n",
    "    {'Nombre': 'Crossfox', 'Motor': 'Motor Diesel V8', 'Año': 1990, 'Kilometraje': 37123.0, 'Cero_km': False, 'Valor': 72832.16}\n",
    "]"
   ]
  },
  {
   "cell_type": "code",
   "execution_count": null,
   "metadata": {
    "colab": {},
    "colab_type": "code",
    "id": "WDQb9AnKD1BH"
   },
   "outputs": [],
   "source": []
  },
  {
   "cell_type": "code",
   "execution_count": null,
   "metadata": {
    "colab": {},
    "colab_type": "code",
    "id": "-2-jGvmGD1BI"
   },
   "outputs": [],
   "source": []
  },
  {
   "cell_type": "code",
   "execution_count": null,
   "metadata": {
    "colab": {},
    "colab_type": "code",
    "id": "2kbyOThiD1BJ"
   },
   "outputs": [],
   "source": []
  },
  {
   "cell_type": "markdown",
   "metadata": {
    "colab_type": "text",
    "id": "pJK2tQgYD1BK"
   },
   "source": [
    "### Creando un DataFrame a partir de un diccionario"
   ]
  },
  {
   "cell_type": "code",
   "execution_count": null,
   "metadata": {
    "colab": {},
    "colab_type": "code",
    "id": "WKNQwKucD1BK"
   },
   "outputs": [],
   "source": [
    "datos = {\n",
    "    'Nombre': ['Jetta Variant', 'Passat', 'Crossfox'], \n",
    "    'Motor': ['Motor 4.0 Turbo', 'Motor Diesel', 'Motor Diesel V8'],\n",
    "    'Año': [2003, 1991, 1990],\n",
    "    'Kilometraje': [44410.0, 5712.0, 37123.0],\n",
    "    'Cero_km': [False, False, False],\n",
    "    'Valor': [88078.64, 106161.94, 72832.16]\n",
    "}"
   ]
  },
  {
   "cell_type": "code",
   "execution_count": null,
   "metadata": {
    "colab": {},
    "colab_type": "code",
    "id": "lKnuZfzcD1BK"
   },
   "outputs": [],
   "source": []
  },
  {
   "cell_type": "code",
   "execution_count": null,
   "metadata": {
    "colab": {},
    "colab_type": "code",
    "id": "PNqTytC-D1BL"
   },
   "outputs": [],
   "source": []
  },
  {
   "cell_type": "markdown",
   "metadata": {
    "colab_type": "text",
    "id": "fCCXs0reD1BL"
   },
   "source": [
    "### Creando un DataFrame a partir de un archivo externo"
   ]
  },
  {
   "cell_type": "code",
   "execution_count": null,
   "metadata": {
    "colab": {},
    "colab_type": "code",
    "id": "78PRHGeZD1BL"
   },
   "outputs": [],
   "source": []
  },
  {
   "cell_type": "code",
   "execution_count": null,
   "metadata": {
    "colab": {},
    "colab_type": "code",
    "id": "1o1YlnVPD1BM",
    "scrolled": true
   },
   "outputs": [],
   "source": []
  },
  {
   "cell_type": "markdown",
   "metadata": {
    "colab_type": "text",
    "id": "y5V-1AK-D1BN"
   },
   "source": [
    "# 5.2 Selecciones con DataFrames"
   ]
  },
  {
   "cell_type": "markdown",
   "metadata": {
    "colab_type": "text",
    "id": "wZjqlHe9D1BN"
   },
   "source": [
    "### Seleccionando columnas"
   ]
  },
  {
   "cell_type": "code",
   "execution_count": null,
   "metadata": {
    "colab": {},
    "colab_type": "code",
    "id": "gM3LbtzlD1BN",
    "scrolled": true
   },
   "outputs": [],
   "source": []
  },
  {
   "cell_type": "code",
   "execution_count": null,
   "metadata": {
    "colab": {},
    "colab_type": "code",
    "id": "R2FWgCM_D1BO"
   },
   "outputs": [],
   "source": []
  },
  {
   "cell_type": "code",
   "execution_count": null,
   "metadata": {
    "colab": {},
    "colab_type": "code",
    "id": "lCCumsxsD1BP",
    "scrolled": true
   },
   "outputs": [],
   "source": []
  },
  {
   "cell_type": "code",
   "execution_count": null,
   "metadata": {
    "colab": {},
    "colab_type": "code",
    "id": "zxlyC3B8D1BP"
   },
   "outputs": [],
   "source": []
  },
  {
   "cell_type": "markdown",
   "metadata": {
    "colab_type": "text",
    "id": "7RPXPm1XD1BQ"
   },
   "source": [
    "### Seleccionando lineas - [ i : j ] \n",
    "\n",
    "<font color=red>**Observación:**</font> La indexación tiene origen en cero y en las particiones(*slices*) la línea con índice i es **incluída** y la línea con índice j **no es incluída** en el resultado."
   ]
  },
  {
   "cell_type": "code",
   "execution_count": null,
   "metadata": {
    "colab": {},
    "colab_type": "code",
    "id": "PdDUwPw3D1BQ"
   },
   "outputs": [],
   "source": []
  },
  {
   "cell_type": "markdown",
   "metadata": {
    "colab_type": "text",
    "id": "G3DMSk97D1BR"
   },
   "source": [
    "### Utilizando .loc para selecciones\n",
    "\n",
    "<font color=red>**Observación:**</font> Selecciona un grupo de líneas y columnas según las etiquetas o una matriz booleana."
   ]
  },
  {
   "cell_type": "code",
   "execution_count": null,
   "metadata": {
    "colab": {},
    "colab_type": "code",
    "id": "Ftg-hNOoD1BR"
   },
   "outputs": [],
   "source": []
  },
  {
   "cell_type": "code",
   "execution_count": null,
   "metadata": {
    "colab": {},
    "colab_type": "code",
    "id": "xdxkDrHvD1BS"
   },
   "outputs": [],
   "source": []
  },
  {
   "cell_type": "code",
   "execution_count": null,
   "metadata": {
    "colab": {},
    "colab_type": "code",
    "id": "pMN3U1KjD1BS"
   },
   "outputs": [],
   "source": []
  },
  {
   "cell_type": "code",
   "execution_count": null,
   "metadata": {
    "colab": {},
    "colab_type": "code",
    "id": "oOEO72uZD1BT",
    "scrolled": true
   },
   "outputs": [],
   "source": []
  },
  {
   "cell_type": "markdown",
   "metadata": {
    "colab_type": "text",
    "id": "SYKEe3vCD1BT"
   },
   "source": [
    "### Utilizando .iloc para selecciones\n",
    "\n",
    "<font color=red>**Observación:**</font> Selecciona con base en los índices, es decir, utiliza la posición de las informaciones."
   ]
  },
  {
   "cell_type": "code",
   "execution_count": null,
   "metadata": {
    "colab": {},
    "colab_type": "code",
    "id": "U4Bru90bD1BT"
   },
   "outputs": [],
   "source": []
  },
  {
   "cell_type": "code",
   "execution_count": null,
   "metadata": {
    "colab": {},
    "colab_type": "code",
    "id": "iLKUyrzND1BU"
   },
   "outputs": [],
   "source": []
  },
  {
   "cell_type": "code",
   "execution_count": null,
   "metadata": {
    "colab": {},
    "colab_type": "code",
    "id": "KGZpixYUD1BU"
   },
   "outputs": [],
   "source": []
  },
  {
   "cell_type": "code",
   "execution_count": null,
   "metadata": {
    "colab": {},
    "colab_type": "code",
    "id": "GxdqIz4LD1BV"
   },
   "outputs": [],
   "source": []
  },
  {
   "cell_type": "code",
   "execution_count": null,
   "metadata": {
    "colab": {},
    "colab_type": "code",
    "id": "AVIhs7uLD1BW",
    "scrolled": true
   },
   "outputs": [],
   "source": []
  },
  {
   "cell_type": "markdown",
   "metadata": {
    "colab_type": "text",
    "id": "eAbwq1oLD1BW"
   },
   "source": [
    "# 5.3 Consultas en DataFrames"
   ]
  },
  {
   "cell_type": "code",
   "execution_count": null,
   "metadata": {
    "colab": {},
    "colab_type": "code",
    "id": "AOZTWzehD1BW",
    "scrolled": true
   },
   "outputs": [],
   "source": []
  },
  {
   "cell_type": "code",
   "execution_count": null,
   "metadata": {
    "colab": {},
    "colab_type": "code",
    "id": "rO5T4h94D1BX",
    "scrolled": true
   },
   "outputs": [],
   "source": []
  },
  {
   "cell_type": "code",
   "execution_count": null,
   "metadata": {
    "colab": {},
    "colab_type": "code",
    "id": "STZ-l8oaD1BX"
   },
   "outputs": [],
   "source": []
  },
  {
   "cell_type": "code",
   "execution_count": null,
   "metadata": {
    "colab": {},
    "colab_type": "code",
    "id": "OZC8NAn6D1BX"
   },
   "outputs": [],
   "source": []
  },
  {
   "cell_type": "code",
   "execution_count": null,
   "metadata": {
    "colab": {},
    "colab_type": "code",
    "id": "OzXC2M40D1BY",
    "scrolled": true
   },
   "outputs": [],
   "source": []
  },
  {
   "cell_type": "markdown",
   "metadata": {
    "colab_type": "text",
    "id": "_XKXcWO-D1BY"
   },
   "source": [
    "### Utilizando el método query"
   ]
  },
  {
   "cell_type": "code",
   "execution_count": null,
   "metadata": {
    "colab": {},
    "colab_type": "code",
    "id": "AB9JirSoD1BY"
   },
   "outputs": [],
   "source": []
  },
  {
   "cell_type": "markdown",
   "metadata": {
    "colab_type": "text",
    "id": "ciJ4dw_FD1BZ"
   },
   "source": [
    "# 5.4 Iterando con DataFrames"
   ]
  },
  {
   "cell_type": "code",
   "execution_count": null,
   "metadata": {
    "colab": {},
    "colab_type": "code",
    "id": "TKAB-g5KD1BZ"
   },
   "outputs": [],
   "source": []
  },
  {
   "cell_type": "code",
   "execution_count": null,
   "metadata": {
    "colab": {},
    "colab_type": "code",
    "id": "eFTNtPRWD1Ba"
   },
   "outputs": [],
   "source": []
  },
  {
   "cell_type": "markdown",
   "metadata": {
    "colab_type": "text",
    "id": "HnUzHFQPD1Ba"
   },
   "source": [
    "# 5.5 Tratamiento de datos"
   ]
  },
  {
   "cell_type": "code",
   "execution_count": null,
   "metadata": {
    "colab": {},
    "colab_type": "code",
    "id": "FRxBWoBGD1Ba"
   },
   "outputs": [],
   "source": []
  },
  {
   "cell_type": "code",
   "execution_count": null,
   "metadata": {
    "colab": {},
    "colab_type": "code",
    "id": "HHSwH0ZaD1Bc"
   },
   "outputs": [],
   "source": []
  },
  {
   "cell_type": "code",
   "execution_count": null,
   "metadata": {
    "colab": {},
    "colab_type": "code",
    "id": "G27pxgZ5D1Bd",
    "scrolled": true
   },
   "outputs": [],
   "source": []
  },
  {
   "cell_type": "code",
   "execution_count": null,
   "metadata": {
    "colab": {},
    "colab_type": "code",
    "id": "DhlRbxy2D1Bd",
    "scrolled": true
   },
   "outputs": [],
   "source": []
  },
  {
   "cell_type": "code",
   "execution_count": null,
   "metadata": {
    "colab": {},
    "colab_type": "code",
    "id": "OL04QU5RD1Be"
   },
   "outputs": [],
   "source": []
  },
  {
   "cell_type": "code",
   "execution_count": null,
   "metadata": {
    "colab": {},
    "colab_type": "code",
    "id": "fTH2JkGDD1Bf",
    "scrolled": true
   },
   "outputs": [],
   "source": []
  },
  {
   "cell_type": "code",
   "execution_count": null,
   "metadata": {
    "colab": {},
    "colab_type": "code",
    "id": "lure2GvpD1Bg"
   },
   "outputs": [],
   "source": []
  },
  {
   "cell_type": "code",
   "execution_count": null,
   "metadata": {
    "colab": {},
    "colab_type": "code",
    "id": "4-ZvhXjvD1Bj"
   },
   "outputs": [],
   "source": []
  },
  {
   "cell_type": "code",
   "execution_count": null,
   "metadata": {
    "colab": {},
    "colab_type": "code",
    "id": "MQUw7i1OD1Bk",
    "scrolled": true
   },
   "outputs": [],
   "source": []
  },
  {
   "cell_type": "code",
   "execution_count": null,
   "metadata": {
    "colab": {},
    "colab_type": "code",
    "id": "U4Cse7miD1Bl"
   },
   "outputs": [],
   "source": []
  },
  {
   "cell_type": "code",
   "execution_count": null,
   "metadata": {
    "colab": {},
    "colab_type": "code",
    "id": "8L4wum05D1Bl",
    "scrolled": true
   },
   "outputs": [],
   "source": []
  },
  {
   "cell_type": "code",
   "execution_count": null,
   "metadata": {
    "colab": {},
    "colab_type": "code",
    "id": "8iLOc-U3D1Bm"
   },
   "outputs": [],
   "source": []
  }
 ],
 "metadata": {
  "colab": {
   "name": "Python para Data Science - Pandas.ipynb",
   "provenance": []
  },
  "kernelspec": {
   "display_name": "Python 3",
   "language": "python",
   "name": "python3"
  },
  "language_info": {
   "codemirror_mode": {
    "name": "ipython",
    "version": 3
   },
   "file_extension": ".py",
   "mimetype": "text/x-python",
   "name": "python",
   "nbconvert_exporter": "python",
   "pygments_lexer": "ipython3",
   "version": "3.11.5"
  }
 },
 "nbformat": 4,
 "nbformat_minor": 1
}
