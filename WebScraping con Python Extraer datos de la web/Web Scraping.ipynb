{
  "cells": [
    {
      "cell_type": "markdown",
      "metadata": {
        "id": "12DFUwA4-YJp"
      },
      "source": [
        "# <font color=green>1. MI PRIMER SCRAPING"
      ]
    },
    {
      "cell_type": "markdown",
      "metadata": {
        "id": "7aa_66LQ-YJw"
      },
      "source": [
        "# 1.1. Introducción"
      ]
    },
    {
      "cell_type": "markdown",
      "metadata": {
        "id": "taOS3N3B-YJx"
      },
      "source": [
        "## *Web Scraping* es el término utilizado para definir la práctica de recolección automática de información en Internet. Esto se hace, generalmente, por medio de programas que simulan la navegación humana en la Web."
      ]
    },
    {
      "cell_type": "markdown",
      "metadata": {
        "id": "7XjDy0Ln-YJy"
      },
      "source": [
        "# 1.2. Ambiente y bibliotecas\n",
        "### Utilizaremos en nuestro entrenamiento el navegador Google Chrome"
      ]
    },
    {
      "cell_type": "code",
      "execution_count": 1,
      "metadata": {
        "id": "e9pXIMIWByAp"
      },
      "outputs": [
        {
          "name": "stdout",
          "output_type": "stream",
          "text": [
            "BeautifulSoup -> 4.12.2\n",
            "urllib -> 3.12\n",
            "pandas -> 2.1.2\n"
          ]
        }
      ],
      "source": [
        "import bs4\n",
        "import urllib.request as urllib_request\n",
        "import pandas\n",
        "\n",
        "print(\"BeautifulSoup ->\", bs4.__version__)\n",
        "print(\"urllib ->\", urllib_request.__version__)\n",
        "print(\"pandas ->\", pandas.__version__)"
      ]
    },
    {
      "cell_type": "markdown",
      "metadata": {
        "id": "5c3DKh9E-YJz"
      },
      "source": [
        "# 1.3. Mi primer scraping"
      ]
    },
    {
      "cell_type": "code",
      "execution_count": 2,
      "metadata": {
        "id": "amEMrJhX-YJz"
      },
      "outputs": [],
      "source": [
        "from bs4 import BeautifulSoup\n",
        "from urllib.request import urlopen\n",
        "\n",
        "url = \"https://alura-site-scraping.herokuapp.com/hello-world.php\"\n"
      ]
    },
    {
      "cell_type": "code",
      "execution_count": null,
      "metadata": {
        "id": "RV14pAg7-YJ0"
      },
      "outputs": [],
      "source": []
    },
    {
      "cell_type": "markdown",
      "metadata": {
        "id": "hmedze1L-YJ0"
      },
      "source": [
        "---\n",
        "# <font color=green>2. OBTENIENDO Y TRATANDO EL CONTENIDO DE UN HTML"
      ]
    },
    {
      "cell_type": "markdown",
      "metadata": {
        "id": "G41SHkDQ-YJ0"
      },
      "source": [
        "# 2.1. Entendiendo la web"
      ]
    },
    {
      "cell_type": "markdown",
      "metadata": {
        "id": "xcTzpe1X-YJ1"
      },
      "source": [
        "<img src=\"https://github.com/ahcamachod/alura/blob/main/web.PNG?raw=1\" width=\"700\">"
      ]
    },
    {
      "cell_type": "markdown",
      "metadata": {
        "id": "hnYJEiYr-YJ1"
      },
      "source": [
        "# 2.2. Obteniendo el contenido HTML de un website"
      ]
    },
    {
      "cell_type": "markdown",
      "metadata": {
        "id": "-gdi3RxF-YJ1"
      },
      "source": [
        "# urllib.request\n",
        "## https://docs.python.org/3/library/urllib.html"
      ]
    },
    {
      "cell_type": "code",
      "execution_count": 3,
      "metadata": {
        "id": "c1pKGnTpgvFU"
      },
      "outputs": [],
      "source": [
        "from urllib.request import urlopen\n",
        "\n",
        "url = 'https://carros.tucarro.com.co/atlantico/_all*payment*methods*discount_cash*discount'\n",
        "\n"
      ]
    },
    {
      "cell_type": "markdown",
      "metadata": {
        "id": "GydHpbB5-YJ2"
      },
      "source": [
        "## https://docs.python.org/3/library/urllib.request.html#urllib.request.Request"
      ]
    },
    {
      "cell_type": "code",
      "execution_count": 4,
      "metadata": {
        "id": "UcwnBFru-YJ2"
      },
      "outputs": [
        {
          "data": {
            "text/plain": [
              "b'<!DOCTYPE html><html\\nlang=\"pt-BR\"><head><meta\\ncharset=\"UTF-8\"><meta\\nname=\"viewport\" content=\"width=device-width,initial-scale=1,minimum-scale=1.0\"><title>Alura | Cursos online de Tecnologia</title><meta\\nname=\"description\" content=\"Aprenda Programa\\xc3\\xa7\\xc3\\xa3o, Front-end, Back-end, Data Science, UX, DevOps, Inova\\xc3\\xa7\\xc3\\xa3o e Gest\\xc3\\xa3o na maior plataforma de tecnologia do Brasil\"><link\\nrel=\"canonical\" href=\"https://www.alura.com.br\"><link\\nrel=\"icon\" href=\"/assets/favicon.1686744881.ico\" /><link\\nrel=\"preconnect\" href=\"https://fonts.googleapis.com\"><link\\nrel=\"preconnect\" href=\"https://fonts.gstatic.com/\" crossorigin><link\\nhref=\"https://fonts.googleapis.com/css2?family=Inter:wght@300;400;700;900&family=Montserrat:wght@300;400;500;600;700;800;900&family=Chakra+Petch:ital,wght@0,400;0,700;1,400&display=swap&family=Michroma&display=swap\" rel=\"stylesheet\"><link\\nrel=\"stylesheet\" href=\"/bundle,base/_reset,base/base,base/buttons,base/colors-apostilas,base/colors,base/titulos.1690913936.css\"><link\\nrel=\"stylesheet\" href=\"/bundle,block/elasticMedia,artigos/glider.min,animacoes/glitch,home/cases,home/index,home/videoPlayer-cover.1696957717.css\"><meta\\nproperty=\"og:locale\" content=\"pt_BR\"><meta\\nproperty=\"og:description\" content=\"Aprenda Programa\\xc3\\xa7\\xc3\\xa3o, Front-end, Back-end, Data Science, UX, DevOps, Inova\\xc3\\xa7\\xc3\\xa3o e Gest\\xc3\\xa3o na maior plataforma de tecnologia do Brasil\"><meta\\nproperty=\"og:title\" content=\"Alura | Cursos online de Tecnologia\"><meta\\nproperty=\"og:site_name\" content=\"Alura\"><meta\\nproperty=\"og:url\" content=\"https://www.alura.com.br/?utm_term=alura&#38;utm_campaign=%5BSearch%5D+%5BPerformance%5D+Institucional+-+Paran%C3%A1&#38;utm_source=adwords&#38;utm_medium=ppc&#38;hsa_acc=7964138385&#38;hsa_cam=20234124477&#38;hsa_grp=152170963863&#38;hsa_ad=674667342619&#38;hsa_src=g&#38;hsa_tgt=kwd-20751961&#38;hsa_kw=alura&#38;hsa_mt=b&#38;hsa_net=adwords&#38;hsa_ver=3&#38;gclid=Cj0KCQjwhfipBhCqARIsAH9msbmCO8YPLBk9PrR11ijIOFjPmGXmmoSi55AJ2trM1mZw4LkuhjWgYYUaAhfMEALw_wcB\"><meta\\nproperty=\"og:image\" content=\"https://www.alura.com.br/assets/img/alura-share.1696884669.png\"><meta\\nproperty=\"og:image:alt\" content=\"Alura logo\"><meta\\nproperty=\"fb:app_id\" content=\"140078819399376\"><meta\\nproperty=\"og:type\" content=\"website\"><meta\\nname=\"twitter:card\" content=\"summary_large_image\"><meta\\nname=\"theme-color\" content=\"#2A7AE4\"><meta\\nname=\"google-site-verification\" content=\"e-ieHUO1JHyNyCZv0Z8Nu-R3ECPykHiNHHEhPdF35Bk\" /> <script>;\\n                (function(w, d, s, l, i) {\\n                    w[l] = w[l] || [];\\n                    w[l].push({\\n                        \\'gtm.start\\': new Date().getTime(),\\n                        event: \\'gtm.js\\'\\n                    });\\n                    var f = d.getElementsByTagName(s)[0],\\n                        j = d.createElement(s),\\n                        dl = l != \\'dataLayer\\' ? \\'&l=\\' + l : \\'\\';\\n                    j.async = true;\\n                    j.src =\\n                        \\'https://www.googletagmanager.com/gtm.js?id=\\' + i + dl;\\n                    f.parentNode.insertBefore(j, f);\\n                })(window, document, \\'script\\', \\'dataLayer\\', \\'GTM-TN542JN\\');</script> <script>;\\n                (function(w, d, s, l, i) {\\n                    w[l] = w[l] || [];\\n                    w[l].push({\\n                        \\'gtm.start\\': new Date().getTime(),\\n                        event: \\'gtm.js\\'\\n                    });\\n                    var f = d.getElementsByTagName(s)[0],\\n                        j = d.createElement(s),\\n                        dl = l != \\'dataLayer\\' ? \\'&l=\\' + l : \\'\\';\\n                    j.async = true;\\n                    j.src =\\n                        \\'https://load.stape.alura.com.br/qukryqvi.js?id=\\' + i + dl;\\n                    f.parentNode.insertBefore(j, f);\\n                })(window, document, \\'script\\', \\'dataLayerAlura\\', \\'GTM-NTLWWLR\\');</script> <script async src=\"https://www.googleoptimize.com/optimize.js?id=OPT-KSJ3RWQ\"></script>  <script async src=\"https://www.googletagmanager.com/gtag/js?id=AW-980051072\"></script> <script>window.dataLayer = window.dataLayer || [];\\n\\n                function gtag() {\\n                    dataLayer.push(arguments);\\n                }\\n                gtag(\\'js\\', new Date());\\n                gtag(\\'config\\', \\'AW-980051072\\');</script> <script async src=\\'//www.google-analytics.com/analytics.js\\'></script> <script>var userId = (document.cookie.match(\\'alura.userId=([^;]+)\\') || [null, null])[1];\\n                window.ga = window.ga || function() {\\n                    (ga.q = ga.q || []).push(arguments)\\n                };\\n                ga.l = +new Date;\\n\\n                                    ga(\\n                        \\'create\\',\\n                        \\'UA-42101548-1\\',\\n                        \\'alura.com.br\\',\\n                        \\'tracker0\\', {\\n                            \\'siteSpeedSampleRate\\': 50\\n                        }\\n                    );\\n\\n                    if (userId) ga(\\'tracker0.set\\', \\'userId\\', userId);\\n\\n                    ga(\\'tracker0.require\\', \\'displayfeatures\\');\\n                    ga(\\'tracker0.send\\', \\'pageview\\');</script> </head><body\\nclass=\"\"> <script async src=\"/assets/js/avatarOnError.1686744882.js\"></script> <noscript><iframe\\nsrc=\"https://www.googletagmanager.com/ns.html?id=GTM-TN542JN\" height=\"0\" width=\"0\" style=\"display:none;visibility:hidden\"></iframe></noscript>\\n<noscript><iframe\\nsrc=\"https://www.googletagmanager.com/ns.html?id=GTM-NTLWWLR\" height=\"0\" width=\"0\" style=\"display:none;visibility:hidden\"></iframe></noscript> <script>! function(f, b, e, v, n, t, s) {\\n                        if (f.fbq) return;\\n                        n = f.fbq = function() {\\n                            n.callMethod ? n.callMethod.apply(n, arguments) : n.queue.push(arguments)\\n                        };\\n                        if (!f._fbq) f._fbq = n;\\n                        n.push = n;\\n                        n.loaded = !0;\\n                        n.version = \\'2.0\\';\\n                        n.queue = [];\\n                        t = b.createElement(e);\\n                        t.async = !0;\\n                        t.src = v;\\n                        s = b.getElementsByTagName(e)[0];\\n                        s.parentNode.insertBefore(t, s)\\n                    }(window, document, \\'script\\', \\'https://connect.facebook.net/en_US/fbevents.js\\');\\n                    fbq(\\'init\\', \\'1067810189950610\\');\\n                    fbq(\\'track\\', \\'PageView\\');</script>  <script type=\"application/ld+json\">{\\n      \"@context\": \"https://schema.org\",\\n      \"@type\": \"Organization\",\\n      \"name\": \"Alura\",\\n      \"url\": \"https://www.alura.com.br\",\\n      \"sameAs\": [\\n        \"https://www.youtube.com/alura\",\\n        \"https://www.facebook.com/AluraCursosOnline/\",\\n        \"https://twitter.com/aluraonline\",\\n        \"https://www.instagram.com/aluraonline/\",\\n        \"https://play.google.com/store/apps/details?id=br.com.alura.mobi&hl=pt_BR\",\\n        \"https://apps.apple.com/br/app/alura-cursos-online/id1225776635\"\\n      ],\\n      \"logo\": {\\n        \"@type\": \"ImageObject\",\\n        \"url\": \"https://www.alura.com.br/assets/img/home/alura-logo.1686744881.svg\",\\n        \"height\": 60,\\n        \"width\": 600,\\n        \"contactPoint\": {\\n          \"@type\": \"ContactPoint\",\\n          \"telephone\": \"(11) 4118-3319\",\\n          \"contactType\": \"telephone\"\\n        }\\n      }\\n    }</script>  <script type=\"application/ld+json\">{\\n    \"@context\": \"https://schema.org\",\\n    \"@type\": \"WebSite\",\\n    \"url\": \"https://www.alura.com.br\",\\n    \"potentialAction\": {\\n      \"@type\": \"SearchAction\",\\n      \"target\": \"http://www.alura.com.br/busca?query={query}\",\\n      \"query-input\": \"required name=query\"\\n    }\\n}</script> <script>window.dataLayer.push({\\n                event: \\'view_item_list\\',\\n                value: 3540.00,\\n                items: [{\"id\":\"formacao-programacao\",\"google_business_vertical\":\"education\"},{\"id\":\"formacao-node-js-express\",\"google_business_vertical\":\"education\"},{\"id\":\"formacao-c-sharp-orientacao-objetos\",\"google_business_vertical\":\"education\"},{\"id\":\"formacao-java\",\"google_business_vertical\":\"education\"},{\"id\":\"formacao-js-backend\",\"google_business_vertical\":\"education\"},{\"id\":\"formacao-linguagem-php\",\"google_business_vertical\":\"education\"},{\"id\":\"formacao-linguagem-python\",\"google_business_vertical\":\"education\"},{\"id\":\"formacao-dotnet-microsservicos\",\"google_business_vertical\":\"education\"},{\"id\":\"formacao-java-microsservicos\",\"google_business_vertical\":\"education\"},{\"id\":\"formacao-cloud-native-kotlin\",\"google_business_vertical\":\"education\"},{\"id\":\"formacao-serverless-node-js\",\"google_business_vertical\":\"education\"},{\"id\":\"formacao-arquiteto-php\",\"google_business_vertical\":\"education\"},{\"id\":\"formacao-php-arquitetura-design-escalabilidade\",\"google_business_vertical\":\"education\"},{\"id\":\"formacao-php-programacao-funcional-assincrona-metaprogramacao\",\"google_business_vertical\":\"education\"},{\"id\":\"formacao-dotnet\",\"google_business_vertical\":\"education\"},{\"id\":\"formacao-avancando-nodejs\",\"google_business_vertical\":\"education\"},{\"id\":\"formacao-boas-praticas-c-sharp\",\"google_business_vertical\":\"education\"},{\"id\":\"formacao-boas-praticas-java\",\"google_business_vertical\":\"education\"},{\"id\":\"formacao-boas-praticas-php\",\"google_business_vertical\":\"education\"},{\"id\":\"formacao-avancando-c-sharp\",\"google_business_vertical\":\"education\"},{\"id\":\"formacao-carreira-tester-qa\",\"google_business_vertical\":\"education\"},{\"id\":\"formacao-certificacao-java\",\"google_business_vertical\":\"education\"},{\"id\":\"formacao-flask\",\"google_business_vertical\":\"education\"},{\"id\":\"formacao-jogos-unity\",\"google_business_vertical\":\"education\"},{\"id\":\"formacao-django-rest\",\"google_business_vertical\":\"education\"},{\"id\":\"formacao-django\",\"google_business_vertical\":\"education\"},{\"id\":\"formacao-engenharia-software\",\"google_business_vertical\":\"education\"},{\"id\":\"formacao-full-stack-react-node-js\",\"google_business_vertical\":\"education\"},{\"id\":\"formacao-banco-dados-java\",\"google_business_vertical\":\"education\"},{\"id\":\"formacao-internet-das-coisas-iot\",\"google_business_vertical\":\"education\"},{\"id\":\"formacao-spring-boot-3\",\"google_business_vertical\":\"education\"},{\"id\":\"formacao-java-web-spring-boot\",\"google_business_vertical\":\"education\"},{\"id\":\"formacao-kotlin-spring-boot\",\"google_business_vertical\":\"education\"},{\"id\":\"formacao-laravel\",\"google_business_vertical\":\"education\"},{\"id\":\"formacao-linguagem-c\",\"google_business_vertical\":\"education\"},{\"id\":\"formacao-linguagem-c-plus-plus\",\"google_business_vertical\":\"education\"},{\"id\":\"formacao-clojure\",\"google_business_vertical\":\"education\"},{\"id\":\"formacao-elixir\",\"google_business_vertical\":\"education\"},{\"id\":\"formacao-go\",\"google_business_vertical\":\"education\"},{\"id\":\"formacao-kotlin\",\"google_business_vertical\":\"education\"},{\"id\":\"formacao-rust\",\"google_business_vertical\":\"education\"},{\"id\":\"formacao-nest-js\",\"google_business_vertical\":\"education\"},{\"id\":\"formacao-php-web\",\"google_business_vertical\":\"education\"},{\"id\":\"formacao-powershell\",\"google_business_vertical\":\"education\"},{\"id\":\"formacao-threads-java\",\"google_business_vertical\":\"education\"},{\"id\":\"formacao-raspberry-pi\",\"google_business_vertical\":\"education\"},{\"id\":\"formacao-microcontroladores-eletronica-aplicada\",\"google_business_vertical\":\"education\"},{\"id\":\"formacao-symfony-e-doctrine\",\"google_business_vertical\":\"education\"},{\"id\":\"formacao-testes-em-dotnet\",\"google_business_vertical\":\"education\"},{\"id\":\"formacao-vb-net\",\"google_business_vertical\":\"education\"},{\"id\":\"formacao-windows-forms-csharp\",\"google_business_vertical\":\"education\"},{\"id\":\"formacao-html-css\",\"google_business_vertical\":\"education\"},{\"id\":\"formacao-angular-aplicacoes-acessiveis-testes-automatizados\",\"google_business_vertical\":\"education\"},{\"id\":\"formacao-typescript-desenvolva-front-end-produtividade\",\"google_business_vertical\":\"education\"},{\"id\":\"formacao-bootstrap-5-websites-responsivos-atraentes\",\"google_business_vertical\":\"education\"},{\"id\":\"formacao-aplicacao-javascript-emotion-react-router\",\"google_business_vertical\":\"education\"},{\"id\":\"formacao-css-estilos\",\"google_business_vertical\":\"education\"},{\"id\":\"formacao-aplicacoes-escalaveis-angular\",\"google_business_vertical\":\"education\"},{\"id\":\"formacao-acessibilidade-web\",\"google_business_vertical\":\"education\"},{\"id\":\"formacao-javascript-front-end\",\"google_business_vertical\":\"education\"},{\"id\":\"formacao-aplicacoes-web-mobile-react-react-native\",\"google_business_vertical\":\"education\"},{\"id\":\"formacao-aplicacoes-javascript-tarefas-concorrentes-orientadas-objetoss\",\"google_business_vertical\":\"education\"},{\"id\":\"formacao-angular-14\",\"google_business_vertical\":\"education\"},{\"id\":\"formacao-react-javascript\",\"google_business_vertical\":\"education\"},{\"id\":\"formacao-react-ts\",\"google_business_vertical\":\"education\"},{\"id\":\"formacao-react-gestao-estados\",\"google_business_vertical\":\"education\"},{\"id\":\"formacao-react-consumindo-apis\",\"google_business_vertical\":\"education\"},{\"id\":\"formacao-next-js\",\"google_business_vertical\":\"education\"},{\"id\":\"formacao-react-testes-automatizados\",\"google_business_vertical\":\"education\"},{\"id\":\"formacao-typescript\",\"google_business_vertical\":\"education\"},{\"id\":\"formacao-svelte\",\"google_business_vertical\":\"education\"},{\"id\":\"formacao-next-js-tailwind-design-system\",\"google_business_vertical\":\"education\"},{\"id\":\"formacao-vuejs3\",\"google_business_vertical\":\"education\"},{\"id\":\"formacao-react-nextjs-fullstack\",\"google_business_vertical\":\"education\"},{\"id\":\"formacao-wordpress\",\"google_business_vertical\":\"education\"},{\"id\":\"formacao-oracle-database-administracao-performance\",\"google_business_vertical\":\"education\"},{\"id\":\"formacao-apache-airflow\",\"google_business_vertical\":\"education\"},{\"id\":\"formacao-apache-spark-python\",\"google_business_vertical\":\"education\"},{\"id\":\"formacao-avancando-data-science-python\",\"google_business_vertical\":\"education\"},{\"id\":\"formacao-business-intelligence-excel\",\"google_business_vertical\":\"education\"},{\"id\":\"formacao-cd4ml-continuous-delivery-machine-learning\",\"google_business_vertical\":\"education\"},{\"id\":\"formacao-oracle-database-sql-plsql\",\"google_business_vertical\":\"education\"},{\"id\":\"formacao-data-analysis-google-sheets\",\"google_business_vertical\":\"education\"},{\"id\":\"formacao-data-mesh\",\"google_business_vertical\":\"education\"},{\"id\":\"formacao-data-science\",\"google_business_vertical\":\"education\"},{\"id\":\"formacao-business-intelligence-data-warehouse-data-lake-sql-server\",\"google_business_vertical\":\"education\"},{\"id\":\"formacao-datomic\",\"google_business_vertical\":\"education\"},{\"id\":\"formacao-deep-learning-pytorch\",\"google_business_vertical\":\"education\"},{\"id\":\"formacao-dominando-power-bi\",\"google_business_vertical\":\"education\"},{\"id\":\"formacao-databricks\",\"google_business_vertical\":\"education\"},{\"id\":\"formacao-estatistica-python\",\"google_business_vertical\":\"education\"},{\"id\":\"formacao-estatistica-r\",\"google_business_vertical\":\"education\"},{\"id\":\"formacao-excel\",\"google_business_vertical\":\"education\"},{\"id\":\"formacao-google-bigquery-datastudio\",\"google_business_vertical\":\"education\"},{\"id\":\"formacao-google-looker-studio\",\"google_business_vertical\":\"education\"},{\"id\":\"formacao-machine-learning\",\"google_business_vertical\":\"education\"},{\"id\":\"formacao-machine-learning-avancada\",\"google_business_vertical\":\"education\"},{\"id\":\"formacao-machine-learning-negocios-digitais\",\"google_business_vertical\":\"education\"},{\"id\":\"formacao-microsoft-sql-server-2022\",\"google_business_vertical\":\"education\"},{\"id\":\"formacao-microstrategy-workstation\",\"google_business_vertical\":\"education\"},{\"id\":\"formacao-modelagem-dados\",\"google_business_vertical\":\"education\"},{\"id\":\"formacao-mongodb\",\"google_business_vertical\":\"education\"},{\"id\":\"formacao-power-bi\",\"google_business_vertical\":\"education\"},{\"id\":\"formacao-engenharia-dados-primeiros-passos\",\"google_business_vertical\":\"education\"},{\"id\":\"formacao-data-science-python\",\"google_business_vertical\":\"education\"},{\"id\":\"formacao-qlik-sense\",\"google_business_vertical\":\"education\"},{\"id\":\"formacao-oracle-mysql\",\"google_business_vertical\":\"education\"},{\"id\":\"formacao-postgresql\",\"google_business_vertical\":\"education\"},{\"id\":\"formacao-tableau\",\"google_business_vertical\":\"education\"},{\"id\":\"formacao-tecnicas-processamento-linguagem-natural\",\"google_business_vertical\":\"education\"},{\"id\":\"formacao-vba\",\"google_business_vertical\":\"education\"},{\"id\":\"formacao-visao-computacional-opencv\",\"google_business_vertical\":\"education\"},{\"id\":\"formacao-avancando-aws\",\"google_business_vertical\":\"education\"},{\"id\":\"formacao-conhecendo-azure\",\"google_business_vertical\":\"education\"},{\"id\":\"formacao-aws-certified-cloud-practitioner\",\"google_business_vertical\":\"education\"},{\"id\":\"formacao-certificacao-az-900-microsoft-azure-fundamentals\",\"google_business_vertical\":\"education\"},{\"id\":\"formacao-aws-certified-solutions-architect-associate\",\"google_business_vertical\":\"education\"},{\"id\":\"formacao-google-certified-associate-cloud-engineer\",\"google_business_vertical\":\"education\"},{\"id\":\"formacao-certificacao-lpi-linux-essentials\",\"google_business_vertical\":\"education\"},{\"id\":\"formacao-ciberseguranca\",\"google_business_vertical\":\"education\"},{\"id\":\"formacao-comecando-linux\",\"google_business_vertical\":\"education\"},{\"id\":\"formacao-cloud-computing\",\"google_business_vertical\":\"education\"},{\"id\":\"formacao-primeiros-passos-devops\",\"google_business_vertical\":\"education\"},{\"id\":\"formacao-amazon-web-services\",\"google_business_vertical\":\"education\"},{\"id\":\"formacao-desenvolvimento-seguro\",\"google_business_vertical\":\"education\"},{\"id\":\"formacao-devops\",\"google_business_vertical\":\"education\"},{\"id\":\"formacao-google-cloud\",\"google_business_vertical\":\"education\"},{\"id\":\"formacao-infraestrutura-codigo\",\"google_business_vertical\":\"education\"},{\"id\":\"formacao-integracao-continua-entrega-continua\",\"google_business_vertical\":\"education\"},{\"id\":\"formacao-kafka\",\"google_business_vertical\":\"education\"},{\"id\":\"formacao-kubernetes\",\"google_business_vertical\":\"education\"},{\"id\":\"formacao-redes\",\"google_business_vertical\":\"education\"},{\"id\":\"formacao-owasp\",\"google_business_vertical\":\"education\"},{\"id\":\"formacao-seguranca-defensiva\",\"google_business_vertical\":\"education\"},{\"id\":\"formacao-seguranca-ofensiva\",\"google_business_vertical\":\"education\"},{\"id\":\"formacao-shell-scripting\",\"google_business_vertical\":\"education\"},{\"id\":\"formacao-sre\",\"google_business_vertical\":\"education\"},{\"id\":\"formacao-adobe-illustrator-interfaces-digitais\",\"google_business_vertical\":\"education\"},{\"id\":\"formacao-adobe-mobile\",\"google_business_vertical\":\"education\"},{\"id\":\"formacao-adobe-photoshop\",\"google_business_vertical\":\"education\"},{\"id\":\"formacao-ui-adobe-xd\",\"google_business_vertical\":\"education\"},{\"id\":\"formacao-arquitetura-informacao\",\"google_business_vertical\":\"education\"},{\"id\":\"formacao-blender\",\"google_business_vertical\":\"education\"},{\"id\":\"formacao-canva\",\"google_business_vertical\":\"education\"},{\"id\":\"formacao-producao-indesign\",\"google_business_vertical\":\"education\"},{\"id\":\"formacao-desenhohumano-photoshop\",\"google_business_vertical\":\"education\"},{\"id\":\"formacao-desenho-digital\",\"google_business_vertical\":\"education\"},{\"id\":\"formacao-desenvolvimento-carreira-ux\",\"google_business_vertical\":\"education\"},{\"id\":\"formacao-design-de-jogos\",\"google_business_vertical\":\"education\"},{\"id\":\"formacao-design-grafico\",\"google_business_vertical\":\"education\"},{\"id\":\"formacao-design-system\",\"google_business_vertical\":\"education\"},{\"id\":\"formacao-editor-video\",\"google_business_vertical\":\"education\"},{\"id\":\"formacao-producao-com-photoshop\",\"google_business_vertical\":\"education\"},{\"id\":\"formacao-grafica-illustrator\",\"google_business_vertical\":\"education\"},{\"id\":\"formacao-figma\",\"google_business_vertical\":\"education\"},{\"id\":\"formacao-fotografia-celular\",\"google_business_vertical\":\"education\"},{\"id\":\"formacao-fotografia\",\"google_business_vertical\":\"education\"},{\"id\":\"formacao-design-visual\",\"google_business_vertical\":\"education\"},{\"id\":\"formacao-game-art-mundo-isometrico\",\"google_business_vertical\":\"education\"},{\"id\":\"formacao-hq-narrativa-sequencial\",\"google_business_vertical\":\"education\"},{\"id\":\"formacao-identidadevisual\",\"google_business_vertical\":\"education\"},{\"id\":\"formacao-identidade-visual-softwares-free\",\"google_business_vertical\":\"education\"},{\"id\":\"formacao-ilustra-publicitaria\",\"google_business_vertical\":\"education\"},{\"id\":\"formacao-motion-design\",\"google_business_vertical\":\"education\"},{\"id\":\"formacao-pinturadigital-photoshop\",\"google_business_vertical\":\"education\"},{\"id\":\"formacao-producao-premiere\",\"google_business_vertical\":\"education\"},{\"id\":\"formacao-product-design\",\"google_business_vertical\":\"education\"},{\"id\":\"formacao-produzindo-inkscape\",\"google_business_vertical\":\"education\"},{\"id\":\"formacao-produzindo-krita\",\"google_business_vertical\":\"education\"},{\"id\":\"formacao-props-para-games\",\"google_business_vertical\":\"education\"},{\"id\":\"formacao-service-design\",\"google_business_vertical\":\"education\"},{\"id\":\"formacao-ui-sketch\",\"google_business_vertical\":\"education\"},{\"id\":\"formacao-streaming\",\"google_business_vertical\":\"education\"},{\"id\":\"formacao-tratamento-de-imagem\",\"google_business_vertical\":\"education\"},{\"id\":\"formacao-ui-design-construindo-produto-digital\",\"google_business_vertical\":\"education\"},{\"id\":\"formacao-ux\",\"google_business_vertical\":\"education\"},{\"id\":\"formacao-ux-research-pesquisa-produtos-digitais\",\"google_business_vertical\":\"education\"},{\"id\":\"formacao-estatistica-para-ux-research\",\"google_business_vertical\":\"education\"},{\"id\":\"formacao-ux-strategy\",\"google_business_vertical\":\"education\"},{\"id\":\"formacao-ux-writing\",\"google_business_vertical\":\"education\"},{\"id\":\"formacao-dart\",\"google_business_vertical\":\"education\"},{\"id\":\"formacao-jetpack-compose-armazenamento-dados-arquivos\",\"google_business_vertical\":\"education\"},{\"id\":\"formacao-ios-swiftui\",\"google_business_vertical\":\"education\"},{\"id\":\"formacao-android-kotlin\",\"google_business_vertical\":\"education\"},{\"id\":\"formacao-flutter\",\"google_business_vertical\":\"education\"},{\"id\":\"formacao-react-native\",\"google_business_vertical\":\"education\"},{\"id\":\"formacao-domine-linguagem-swift\",\"google_business_vertical\":\"education\"},{\"id\":\"formacao-jetpack-compose-criando-telas-gerenciando-estados\",\"google_business_vertical\":\"education\"},{\"id\":\"formacao-jetpack-compose-navegacao-telas-boas-praticas-testes\",\"google_business_vertical\":\"education\"},{\"id\":\"formacao-flutter-desvendando-arquiteturas\",\"google_business_vertical\":\"education\"},{\"id\":\"formacao-gerenciamento-estados-flutter\",\"google_business_vertical\":\"education\"},{\"id\":\"formacao-arquitetura-android\",\"google_business_vertical\":\"education\"},{\"id\":\"formacao-testes-automatizados-android\",\"google_business_vertical\":\"education\"},{\"id\":\"formacao-react-native-aplicacoes-redux\",\"google_business_vertical\":\"education\"},{\"id\":\"formacao-firebase-android\",\"google_business_vertical\":\"education\"},{\"id\":\"formacao-flutter-firebase\",\"google_business_vertical\":\"education\"},{\"id\":\"formacao-firebase-react-native\",\"google_business_vertical\":\"education\"},{\"id\":\"formacao-agilidade-abordagens-praticas-avancadas\",\"google_business_vertical\":\"education\"},{\"id\":\"formacao-aprendizagem\",\"google_business_vertical\":\"education\"},{\"id\":\"formacao-autolideranca\",\"google_business_vertical\":\"education\"},{\"id\":\"formacao-business-agility\",\"google_business_vertical\":\"education\"},{\"id\":\"formacao-certificacao-pmp-capm-pmi\",\"google_business_vertical\":\"education\"},{\"id\":\"formacao-cobit\",\"google_business_vertical\":\"education\"},{\"id\":\"formacao-comunicacao\",\"google_business_vertical\":\"education\"},{\"id\":\"formacao-comunicacao-lideres\",\"google_business_vertical\":\"education\"},{\"id\":\"formacao-conformidade-legal\",\"google_business_vertical\":\"education\"},{\"id\":\"formacao-criatividade\",\"google_business_vertical\":\"education\"},{\"id\":\"formacao-desenvolvimento-humano-organizacional\",\"google_business_vertical\":\"education\"},{\"id\":\"formacao-digital-e-agile-thinking\",\"google_business_vertical\":\"education\"},{\"id\":\"formacao-empreendedorismo-digital\",\"google_business_vertical\":\"education\"},{\"id\":\"formacao-empreendedorismo-devs\",\"google_business_vertical\":\"education\"},{\"id\":\"formacao-gestao-agil-projetos\",\"google_business_vertical\":\"education\"},{\"id\":\"formacao-certificacao-itil-4-foundation\",\"google_business_vertical\":\"education\"},{\"id\":\"formacao-gestao-inovacao\",\"google_business_vertical\":\"education\"},{\"id\":\"formacao-gestao-produtos\",\"google_business_vertical\":\"education\"},{\"id\":\"formacao-gestao-rh-tech\",\"google_business_vertical\":\"education\"},{\"id\":\"formacao-gestao-aplicacoes-sap\",\"google_business_vertical\":\"education\"},{\"id\":\"formacao-google-ads\",\"google_business_vertical\":\"education\"},{\"id\":\"formacao-governanca-corporativa\",\"google_business_vertical\":\"education\"},{\"id\":\"formacao-governanca-ti\",\"google_business_vertical\":\"education\"},{\"id\":\"formacao-habilidades-comportamento\",\"google_business_vertical\":\"education\"},{\"id\":\"formacao-inovacao-para-lideres\",\"google_business_vertical\":\"education\"},{\"id\":\"formacao-kanban\",\"google_business_vertical\":\"education\"},{\"id\":\"formacao-lean-governanca-agilidade-escalada\",\"google_business_vertical\":\"education\"},{\"id\":\"formacao-marketing-analytics\",\"google_business_vertical\":\"education\"},{\"id\":\"formacao-marketing-atracao\",\"google_business_vertical\":\"education\"},{\"id\":\"formacao-marketing-conteudo\",\"google_business_vertical\":\"education\"},{\"id\":\"formacao-marketing-relacionamento\",\"google_business_vertical\":\"education\"},{\"id\":\"formacao-marketing-digital\",\"google_business_vertical\":\"education\"},{\"id\":\"formacao-marketing-e-commerce\",\"google_business_vertical\":\"education\"},{\"id\":\"formacao-meta-ads\",\"google_business_vertical\":\"education\"},{\"id\":\"formacao-minha-carreira\",\"google_business_vertical\":\"education\"},{\"id\":\"formacao-minha-primeira-lideranca\",\"google_business_vertical\":\"education\"},{\"id\":\"formacao-modelagem-melhorias-processos-negocios\",\"google_business_vertical\":\"education\"},{\"id\":\"formacao-negociacao\",\"google_business_vertical\":\"education\"},{\"id\":\"formacao-pensamento-estrategico\",\"google_business_vertical\":\"education\"},{\"id\":\"formacao-certificacao-pmi-acp\",\"google_business_vertical\":\"education\"},{\"id\":\"formacao-produtividade\",\"google_business_vertical\":\"education\"},{\"id\":\"formacao-rh-4-0-digital-agile-transforming-business-partner\",\"google_business_vertical\":\"education\"},{\"id\":\"formacao-seo\",\"google_business_vertical\":\"education\"},{\"id\":\"formacao-social-media\",\"google_business_vertical\":\"education\"},{\"id\":\"formacao-startupismo\",\"google_business_vertical\":\"education\"},{\"id\":\"formacao-tecnicas-vendas\",\"google_business_vertical\":\"education\"},{\"id\":\"formacao-times-alta-performance\",\"google_business_vertical\":\"education\"},{\"id\":\"formacao-trafego-pago\",\"google_business_vertical\":\"education\"},{\"id\":\"formacao-transformacao-digital\",\"google_business_vertical\":\"education\"},{\"id\":\"formacao-vendas-de-alta-performance\",\"google_business_vertical\":\"education\"}]});</script> <main\\nclass=\"home\"><section\\nclass=\"home__header\"><link\\nrel=\"stylesheet\" href=\"/assets/css/block/header.1698431084.css\"><header\\nclass=\"header \"><div\\nclass=\"header__principal\"><nav\\nclass=\"container header__nav\"><div\\nclass=\"header__nav--menu-cta\">\\n<img\\nclass=\"--to-open\" src=\"/assets/img/header/icon-menu-open.1697825058.svg\" alt=\"Bot\\xc3\\xa3o para abrir o Menu\">\\n<img\\nclass=\"--to-close\" src=\"/assets/img/header/icon-menu-close.1697825058.svg\" alt=\"Bot\\xc3\\xa3o para fechar o Menu\"></div><a\\nhref=\"/\" class=\"header__nav--logo\">\\n<img\\nalt=\"Alura\" src=\"/assets/img/home/alura-logo.1686744881.svg\">\\n</a><div\\nclass=\"header__nav--busca header-barraBusca\"><form\\naction=\"/busca\" class=\"header__nav--busca-form\">\\n<input\\ntype=\"search\" class=\"header__nav--busca-input\" id=\"header-barraBusca-form-campoBusca\" name=\"query\" placeholder=\"O que voc\\xc3\\xaa quer aprender?\" required>\\n<button\\nclass=\"header__nav--busca-submit\" type=\"submit\">\\n<svg\\nxmlns=\"http://www.w3.org/2000/svg\" width=\"16\" height=\"15\" viewBox=\"0 0 16 15\">\\n<g\\nfill=\"none\" fill-rule=\"evenodd\" stroke=\"#D7F9FF\" stroke-linecap=\"round\" stroke-linejoin=\"round\" stroke-width=\"1.5\" transform=\"translate(1 1)\">\\n<path\\nd=\"M13.637 12.86l-3.526-3.527\" />\\n<circle\\ncx=\"5.667\" cy=\"5.667\" r=\"5.667\" />\\n</g>\\n</svg>\\n</button></form></div><div\\nclass=\"header__nav--ctas\">\\n<a\\nclass=\"header__nav--ctas-entrar header__nav--link-hover\" href=\"https://cursos.alura.com.br/loginForm?urlAfterLogin=https://cursos.alura.com.br/dashboard\">Entrar</a>\\n<a\\nclass=\"header__nav--ctas-matricule\" href=\"/planos-cursos-online\">Matricule-se</a></div><div\\nclass=\"header__nav--menu\">\\n<a\\nhref=\"/como-funciona\" class=\"header__nav--menu-link header__nav--link-hover\">\\n<span>Como</span>\\n<span>Funciona</span>\\n</a>\\n<a\\nhref=\"/empresas\" class=\"header__nav--menu-link header__nav--link-hover\">\\n<span>Para</span>\\n<span>Empresas</span>\\n</a></div></nav></div></header><div\\nclass=\"container\"><div\\nclass=\"home__header-content\"><div\\nclass=\"home__header-titles\"><h1 class=\"home__header-mainTitle\">Cursos<br>de <span>Tecnologia!</span></h1><p\\nclass=\"home__header-mainText\">Mergulhe em conte\\xc3\\xbado com a maior comunidade de tecnologia do pa\\xc3\\xads.</p>\\n<a\\nclass=\"home__header-cta\" href=\"/planos-cursos-online\">Matricule-se agora!</a></div></div><div\\nclass=\"home__header-navCategoriasHome\"><link\\nrel=\"stylesheet\" href=\"/assets/css/block/categories.1686744881.css\"><link\\nrel=\"stylesheet\" href=\"/assets/css/block/navCategoriasHome.1695333028.css\"> <script>window.dataLayer.push({\\n                event: \\'view_item_list\\',\\n                value: 3540.00,\\n                items: [{\"id\":\"cursos-online-programacao\",\"google_business_vertical\":\"education\"},{\"id\":\"cursos-online-front-end\",\"google_business_vertical\":\"education\"},{\"id\":\"cursos-online-data-science\",\"google_business_vertical\":\"education\"},{\"id\":\"cursos-online-inteligencia-artificial\",\"google_business_vertical\":\"education\"},{\"id\":\"cursos-online-devops\",\"google_business_vertical\":\"education\"},{\"id\":\"cursos-online-design-ux\",\"google_business_vertical\":\"education\"},{\"id\":\"cursos-online-mobile\",\"google_business_vertical\":\"education\"},{\"id\":\"cursos-online-inovacao-gestao\",\"google_business_vertical\":\"education\"}]});</script> <script>dataLayerAlura.push({ ecommerce: null });\\n            dataLayerAlura.push({\\n                event: \\'view_item_list\\',\\n                ecommerce: {\\n                    currency: \\'BRL\\',\\n                    items: [{\"item_name\":\"Cursos online Programa\\\\u00e7\\\\u00e3o\",\"quantity\":1},{\"item_name\":\"Cursos online Front-end\",\"quantity\":1},{\"item_name\":\"Cursos online Data Science\",\"quantity\":1},{\"item_name\":\"Cursos online Intelig\\\\u00eancia Artificial\",\"quantity\":1},{\"item_name\":\"Cursos online DevOps\",\"quantity\":1},{\"item_name\":\"Cursos online UX & Design\",\"quantity\":1},{\"item_name\":\"Cursos online Mobile\",\"quantity\":1},{\"item_name\":\"Cursos online Inova\\\\u00e7\\\\u00e3o & Gest\\\\u00e3o\",\"quantity\":1}]                }\\n            });</script> <nav\\nclass=\"categories--home\"><div\\nclass=\"categories__elements--home\"><div\\nclass=\"categories__wrapper--home --programacao\"\\nstyle=\"--color-var: #00c86f\"\\n><div\\nclass=\"categories__wrapper--home-content\">\\n<a\\nclass=\"categories__link--home\"\\nhref=\"/escola-programacao\"\\n></a><div\\nclass=\"categories__main-info--home\"><div\\nclass=\"categories__svg-wrapper--home\" >\\n<svg\\nclass=\"pagina-categoria__svg--home categories__svg--home\"\\nstyle=\"fill:#00c86f\"\\nxmlns:xlink=\"http://www.w3.org/1999/xlink\" >\\n<use\\nxlink:href=\"/svg,1687868842/categorias#icon-categorias-programacao\" />\\n</svg></div><div\\nclass=\"categories__texts\"\\nstyle=\"color:#00c86f;\"\\n>\\n<span\\nclass=\"categories__link__text--home\">\\nEscola_\\n</span><h4 class=\"categories__link__category-name--home\">\\nPrograma\\xc3\\xa7\\xc3\\xa3o</h4></div></div><nav\\nclass=\"categories__calls--home\">\\n<a\\nhref=\"/cursos-online-programacao/logica\"\\nclass=\"categories__calls__description--home\"\\n>\\nL\\xc3\\xb3gica,                                 </a>\\n<a\\nhref=\"/cursos-online-programacao/python\"\\nclass=\"categories__calls__description--home\"\\n>\\nPython,                                 </a>\\n<a\\nhref=\"/cursos-online-programacao/php\"\\nclass=\"categories__calls__description--home\"\\n>\\nPHP,                                 </a>\\n<a\\nhref=\"/cursos-online-programacao/java\"\\nclass=\"categories__calls__description--home\"\\n>\\nJava,                                 </a>\\n<a\\nhref=\"/cursos-online-programacao/dotnet\"\\nclass=\"categories__calls__description--home\"\\n>\\n.NET,                                 </a>\\n<a\\nhref=\"/cursos-online-programacao/node-js\"\\nclass=\"categories__calls__description--home\"\\n>\\nNode JS,                                 </a>\\n<a\\nhref=\"/cursos-online-programacao/linguagem-c\"\\nclass=\"categories__calls__description--home\"\\n>\\nC,                                 </a>\\n<a\\nhref=\"/cursos-online-programacao/computacao\"\\nclass=\"categories__calls__description--home\"\\n>\\nComputa\\xc3\\xa7\\xc3\\xa3o,                                 </a>\\n<a\\nhref=\"/cursos-online-programacao/jogos\"\\nclass=\"categories__calls__description--home\"\\n>\\nJogos,                                 </a>\\n<a\\nhref=\"/cursos-online-programacao/internet-das-coisas\"\\nclass=\"categories__calls__description--home\"\\n>\\nIoT                                </a>\\n<a\\nhref=\"/cursos-online-programacao\"\\nclass=\"categories__calls__link-see-more--home\"\\n>\\ne mais...\\n</a></nav></div></div><div\\nclass=\"categories__wrapper--home --front-end\"\\nstyle=\"--color-var: #6bd1ff\"\\n><div\\nclass=\"categories__wrapper--home-content\">\\n<a\\nclass=\"categories__link--home\"\\nhref=\"/escola-front-end\"\\n></a><div\\nclass=\"categories__main-info--home\"><div\\nclass=\"categories__svg-wrapper--home\" >\\n<svg\\nclass=\"pagina-categoria__svg--home categories__svg--home\"\\nstyle=\"fill:#6bd1ff\"\\nxmlns:xlink=\"http://www.w3.org/1999/xlink\" >\\n<use\\nxlink:href=\"/svg,1687868842/categorias#icon-categorias-front-end\" />\\n</svg></div><div\\nclass=\"categories__texts\"\\nstyle=\"color:#6bd1ff;\"\\n>\\n<span\\nclass=\"categories__link__text--home\">\\nEscola_\\n</span><h4 class=\"categories__link__category-name--home\">\\nFront-end</h4></div></div><nav\\nclass=\"categories__calls--home\">\\n<a\\nhref=\"/cursos-online-front-end/front-end\"\\nclass=\"categories__calls__description--home\"\\n>\\nHTML, CSS,                                 </a>\\n<a\\nhref=\"/cursos-online-front-end/reactjs\"\\nclass=\"categories__calls__description--home\"\\n>\\nReact,                                 </a>\\n<a\\nhref=\"/cursos-online-front-end/angular\"\\nclass=\"categories__calls__description--home\"\\n>\\nAngular,                                 </a>\\n<a\\nhref=\"/cursos-online-front-end/javascript\"\\nclass=\"categories__calls__description--home\"\\n>\\nJavaScript,                                 </a>\\n<a\\nhref=\"/cursos-online-front-end/jquery\"\\nclass=\"categories__calls__description--home\"\\n>\\njQuery                                </a>\\n<a\\nhref=\"/cursos-online-front-end\"\\nclass=\"categories__calls__link-see-more--home\"\\n>\\ne mais...\\n</a></nav></div></div><div\\nclass=\"categories__wrapper--home --data-science\"\\nstyle=\"--color-var: #9cd33b\"\\n><div\\nclass=\"categories__wrapper--home-content\">\\n<a\\nclass=\"categories__link--home\"\\nhref=\"/escola-data-science\"\\n></a><div\\nclass=\"categories__main-info--home\"><div\\nclass=\"categories__svg-wrapper--home\" >\\n<svg\\nclass=\"pagina-categoria__svg--home categories__svg--home\"\\nstyle=\"fill:#9cd33b\"\\nxmlns:xlink=\"http://www.w3.org/1999/xlink\" >\\n<use\\nxlink:href=\"/svg,1687868842/categorias#icon-categorias-data-science\" />\\n</svg></div><div\\nclass=\"categories__texts\"\\nstyle=\"color:#9cd33b;\"\\n>\\n<span\\nclass=\"categories__link__text--home\">\\nEscola_\\n</span><h4 class=\"categories__link__category-name--home\">\\nData Science</h4></div></div><nav\\nclass=\"categories__calls--home\">\\n<a\\nhref=\"/cursos-online-data-science/data-science\"\\nclass=\"categories__calls__description--home\"\\n>\\nCi\\xc3\\xaancia de dados,                                 </a>\\n<a\\nhref=\"/cursos-online-data-science/business-intelligence\"\\nclass=\"categories__calls__description--home\"\\n>\\nBI,                                 </a>\\n<a\\nhref=\"/cursos-online-data-science/sql\"\\nclass=\"categories__calls__description--home\"\\n>\\nSQL e Banco de Dados,                                 </a>\\n<a\\nhref=\"/cursos-online-data-science/excel\"\\nclass=\"categories__calls__description--home\"\\n>\\nExcel,                                 </a>\\n<a\\nhref=\"/cursos-online-data-science/machine-learning\"\\nclass=\"categories__calls__description--home\"\\n>\\nMachine Learning,                                 </a>\\n<a\\nhref=\"/cursos-online-data-science/nosql\"\\nclass=\"categories__calls__description--home\"\\n>\\nNoSQL,                                 </a>\\n<a\\nhref=\"/cursos-online-data-science/estatistica\"\\nclass=\"categories__calls__description--home\"\\n>\\nEstat\\xc3\\xadstica                                </a>\\n<a\\nhref=\"/cursos-online-data-science\"\\nclass=\"categories__calls__link-see-more--home\"\\n>\\ne mais...\\n</a></nav></div></div><div\\nclass=\"categories__wrapper--home --inteligencia-artificial\"\\nstyle=\"--color-var: #7b71ff\"\\n><div\\nclass=\"categories__wrapper--home-content\">\\n<a\\nclass=\"categories__link--home\"\\nhref=\"/escola-inteligencia-artificial\"\\n></a><div\\nclass=\"categories__main-info--home\"><div\\nclass=\"categories__svg-wrapper--home\" >\\n<svg\\nclass=\"pagina-categoria__svg--home categories__svg--home\"\\nstyle=\"fill:#7b71ff\"\\nxmlns:xlink=\"http://www.w3.org/1999/xlink\" >\\n<use\\nxlink:href=\"/svg,1687868842/categorias#icon-categorias-inteligencia-artificial\" />\\n</svg></div><div\\nclass=\"categories__texts\"\\nstyle=\"color:#7b71ff;\"\\n>\\n<span\\nclass=\"categories__link__text--home\">\\nEscola_\\n</span><h4 class=\"categories__link__category-name--home\">\\nIntelig\\xc3\\xaancia Artificial</h4></div></div><nav\\nclass=\"categories__calls--home\">\\n<a\\nhref=\"/cursos-online-inteligencia-artificial/ia-para-programacao\"\\nclass=\"categories__calls__description--home\"\\n>\\nIA para Programa\\xc3\\xa7\\xc3\\xa3o,                                 </a>\\n<a\\nhref=\"/cursos-online-inteligencia-artificial/ia-para-dados\"\\nclass=\"categories__calls__description--home\"\\n>\\nIA para Dados                                </a>\\n<a\\nhref=\"/cursos-online-inteligencia-artificial\"\\nclass=\"categories__calls__link-see-more--home\"\\n>\\ne mais...\\n</a></nav></div></div><div\\nclass=\"categories__wrapper--home --devops\"\\nstyle=\"--color-var: #f16165\"\\n><div\\nclass=\"categories__wrapper--home-content\">\\n<a\\nclass=\"categories__link--home\"\\nhref=\"/escola-devops\"\\n></a><div\\nclass=\"categories__main-info--home\"><div\\nclass=\"categories__svg-wrapper--home\" >\\n<svg\\nclass=\"pagina-categoria__svg--home categories__svg--home\"\\nstyle=\"fill:#f16165\"\\nxmlns:xlink=\"http://www.w3.org/1999/xlink\" >\\n<use\\nxlink:href=\"/svg,1687868842/categorias#icon-categorias-devops\" />\\n</svg></div><div\\nclass=\"categories__texts\"\\nstyle=\"color:#f16165;\"\\n>\\n<span\\nclass=\"categories__link__text--home\">\\nEscola_\\n</span><h4 class=\"categories__link__category-name--home\">\\nDevOps</h4></div></div><nav\\nclass=\"categories__calls--home\">\\n<a\\nhref=\"/cursos-online-devops/aws\"\\nclass=\"categories__calls__description--home\"\\n>\\nAWS,                                 </a>\\n<a\\nhref=\"/cursos-online-devops/azure\"\\nclass=\"categories__calls__description--home\"\\n>\\nAzure,                                 </a>\\n<a\\nhref=\"/cursos-online-devops/containers\"\\nclass=\"categories__calls__description--home\"\\n>\\nDocker,                                 </a>\\n<a\\nhref=\"/cursos-online-devops/seguranca\"\\nclass=\"categories__calls__description--home\"\\n>\\nSeguran\\xc3\\xa7a,                                 </a>\\n<a\\nhref=\"/cursos-online-devops/infraestrutura-como-codigo\"\\nclass=\"categories__calls__description--home\"\\n>\\nIaC,                                 </a>\\n<a\\nhref=\"/cursos-online-devops/linux-comandos-e-processos\"\\nclass=\"categories__calls__description--home\"\\n>\\nLinux                                </a>\\n<a\\nhref=\"/cursos-online-devops\"\\nclass=\"categories__calls__link-see-more--home\"\\n>\\ne mais...\\n</a></nav></div></div><div\\nclass=\"categories__wrapper--home --design-ux\"\\nstyle=\"--color-var: #dc6ebe\"\\n><div\\nclass=\"categories__wrapper--home-content\">\\n<a\\nclass=\"categories__link--home\"\\nhref=\"/escola-design-ux\"\\n></a><div\\nclass=\"categories__main-info--home\"><div\\nclass=\"categories__svg-wrapper--home\" >\\n<svg\\nclass=\"pagina-categoria__svg--home categories__svg--home\"\\nstyle=\"fill:#dc6ebe\"\\nxmlns:xlink=\"http://www.w3.org/1999/xlink\" >\\n<use\\nxlink:href=\"/svg,1687868842/categorias#icon-categorias-design-ux\" />\\n</svg></div><div\\nclass=\"categories__texts\"\\nstyle=\"color:#dc6ebe;\"\\n>\\n<span\\nclass=\"categories__link__text--home\">\\nEscola_\\n</span><h4 class=\"categories__link__category-name--home\">\\nUX & Design</h4></div></div><nav\\nclass=\"categories__calls--home\">\\n<a\\nhref=\"/cursos-online-design-ux/ux\"\\nclass=\"categories__calls__description--home\"\\n>\\nUsabilidade e UX,                                 </a>\\n<a\\nhref=\"/cursos-online-design-ux/video\"\\nclass=\"categories__calls__description--home\"\\n>\\nV\\xc3\\xaddeo e Motion,                                 </a>\\n<a\\nhref=\"/cursos-online-design-ux/3d\"\\nclass=\"categories__calls__description--home\"\\n>\\n3D                                </a>\\n<a\\nhref=\"/cursos-online-design-ux\"\\nclass=\"categories__calls__link-see-more--home\"\\n>\\ne mais...\\n</a></nav></div></div><div\\nclass=\"categories__wrapper--home --mobile\"\\nstyle=\"--color-var: #ffba05\"\\n><div\\nclass=\"categories__wrapper--home-content\">\\n<a\\nclass=\"categories__link--home\"\\nhref=\"/escola-mobile\"\\n></a><div\\nclass=\"categories__main-info--home\"><div\\nclass=\"categories__svg-wrapper--home\" >\\n<svg\\nclass=\"pagina-categoria__svg--home categories__svg--home\"\\nstyle=\"fill:#ffba05\"\\nxmlns:xlink=\"http://www.w3.org/1999/xlink\" >\\n<use\\nxlink:href=\"/svg,1687868842/categorias#icon-categorias-mobile\" />\\n</svg></div><div\\nclass=\"categories__texts\"\\nstyle=\"color:#ffba05;\"\\n>\\n<span\\nclass=\"categories__link__text--home\">\\nEscola_\\n</span><h4 class=\"categories__link__category-name--home\">\\nMobile</h4></div></div><nav\\nclass=\"categories__calls--home\">\\n<a\\nhref=\"/cursos-online-mobile/react-native\"\\nclass=\"categories__calls__description--home\"\\n>\\nReact Native,                                 </a>\\n<a\\nhref=\"/cursos-online-mobile/flutter-mobile\"\\nclass=\"categories__calls__description--home\"\\n>\\nFlutter,                                 </a>\\n<a\\nhref=\"/cursos-online-mobile/ios\"\\nclass=\"categories__calls__description--home\"\\n>\\niOS e Swift,                                 </a>\\n<a\\nhref=\"/cursos-online-mobile/android\"\\nclass=\"categories__calls__description--home\"\\n>\\nAndroid, Kotlin,                                 </a>\\n<a\\nhref=\"/cursos-online-mobile/jogos\"\\nclass=\"categories__calls__description--home\"\\n>\\nJogos                                </a>\\n<a\\nhref=\"/cursos-online-mobile\"\\nclass=\"categories__calls__link-see-more--home\"\\n>\\ne mais...\\n</a></nav></div></div><div\\nclass=\"categories__wrapper--home --inovacao-gestao\"\\nstyle=\"--color-var: #ff8c2a\"\\n><div\\nclass=\"categories__wrapper--home-content\">\\n<a\\nclass=\"categories__link--home\"\\nhref=\"/escola-inovacao-gestao\"\\n></a><div\\nclass=\"categories__main-info--home\"><div\\nclass=\"categories__svg-wrapper--home\" >\\n<svg\\nclass=\"pagina-categoria__svg--home categories__svg--home\"\\nstyle=\"fill:#ff8c2a\"\\nxmlns:xlink=\"http://www.w3.org/1999/xlink\" >\\n<use\\nxlink:href=\"/svg,1687868842/categorias#icon-categorias-inovacao-gestao\" />\\n</svg></div><div\\nclass=\"categories__texts\"\\nstyle=\"color:#ff8c2a;\"\\n>\\n<span\\nclass=\"categories__link__text--home\">\\nEscola_\\n</span><h4 class=\"categories__link__category-name--home\">\\nInova\\xc3\\xa7\\xc3\\xa3o & Gest\\xc3\\xa3o</h4></div></div><nav\\nclass=\"categories__calls--home\">\\n<a\\nhref=\"/cursos-online-inovacao-gestao/agilidade\"\\nclass=\"categories__calls__description--home\"\\n>\\nM\\xc3\\xa9todos \\xc3\\x81geis,                                 </a>\\n<a\\nhref=\"/cursos-online-inovacao-gestao/softskills-carreira\"\\nclass=\"categories__calls__description--home\"\\n>\\nSoftskills,                                 </a>\\n<a\\nhref=\"/cursos-online-inovacao-gestao/gestao-corporativa\"\\nclass=\"categories__calls__description--home\"\\n>\\nLideran\\xc3\\xa7a e Gest\\xc3\\xa3o,                                 </a>\\n<a\\nhref=\"/cursos-online-inovacao-gestao/startup-empreendedorismo\"\\nclass=\"categories__calls__description--home\"\\n>\\nStartups,                                 </a>\\n<a\\nhref=\"/cursos-online-inovacao-gestao/vendas\"\\nclass=\"categories__calls__description--home\"\\n>\\nVendas                                </a>\\n<a\\nhref=\"/cursos-online-inovacao-gestao\"\\nclass=\"categories__calls__link-see-more--home\"\\n>\\ne mais...\\n</a></nav></div></div></div></nav><div\\nclass=\"home__header-arrowsDown\"></div></div></div></section><section\\nclass=\"home__terminal\"><div\\nclass=\"container\"><div\\nclass=\"home__terminal--content\"><h2 class=\"home__terminal--content-title\">Em qual tecnologia voc\\xc3\\xaa quer mergulhar?</h2><div\\nclass=\"home__terminal--content-text\">Use o terminal ao lado para descobrir as tecnologias e assuntos que voc\\xc3\\xaa pode explorar no Aluraverso.</div></div><div\\nclass=\"home__terminal--prompt\"><link\\nrel=\"stylesheet\" href=\"/assets/css/block/terminal-schools.1689170629.css\"><div\\nclass=\"terminal-schools\"><div\\nclass=\"terminal-schools__prompt\"><div\\nclass=\"terminal-schools__area\"><div\\nclass=\"terminal-schools__content style-scroll\"><div\\nclass=\"terminal-schools__content-msg ai\"><p>Ol\\xc3\\xa1, boas-vindas! :) <br> Qual tecnologia voc\\xc3\\xaa quer estudar na Alura?</p></div><div\\nclass=\"terminal-schools__content-ctas\">\\n<button\\ntype=\"button\" class=\"other hide\">Quero estudar outro assunto...</button>\\n<button\\ntype=\"button\" data-school=\"front-end\">Front-end</button>\\n<button\\ntype=\"button\" data-school=\"programacao\">Programa\\xc3\\xa7\\xc3\\xa3o</button>\\n<button\\ntype=\"button\" data-school=\"mobile\">Mobile</button>\\n<button\\ntype=\"button\" data-school=\"devops\">Devops</button>\\n<button\\ntype=\"button\" data-school=\"design-ux\">UX & Design</button>\\n<button\\ntype=\"button\" data-school=\"data-science\">Data Science</button>\\n<button\\ntype=\"button\" data-school=\"inovacao-gestao\">Inova\\xc3\\xa7\\xc3\\xa3o & Gest\\xc3\\xa3o</button>\\n<button\\ntype=\"button\" data-school=\"inteligencia-artificial\">Intelig\\xc3\\xaancia Artificial</button></div></div></div></div>\\n<img\\nclass=\"terminal-schools__detail\" src=\"/assets/img/alura2023/home/console-prompt-detail.1694037151.svg\" alt=\"Detalhe listas na cor azul.\"></div> <script src=\"/assets/js/terminal-schools.1692011942.js\" defer></script> </div></div></section><section\\nclass=\"home__contentVideo container\"><aside\\nclass=\"home__contentVideo--info\"><h2 class=\"home__contentVideo--info-title\">A maior escola online de tecnologia do Brasil.</h2><p\\nclass=\"home__contentVideo--info-subtitle\">Mergulhe com profundidade e navegue em outras \\xc3\\xa1reas de Tecnologia. Torne-se profissional em &lt;T&gt;.</p>\\n<a\\nclass=\"home__contentVideo--info-link\" href=\"/como-funciona\">Veja como funciona</a></aside><aside\\nclass=\"home__contentVideo--video\"><div\\nclass=\"home__contentVideo--video-stripes\">\\n<img\\nsrc=\"/assets/img/alura2023/home/stripes.1692727523.svg\" alt=\"Listras\" loading=\"lazy\"></div><div\\nclass=\"home__contentVideo--video-numbers\">\\n<img\\nsrc=\"/assets/img/alura2023/home/numbers-right.1692727523.svg\" alt=\"N\\xc3\\xbamero e letras aleat\\xc3\\xb3rios\" loading=\"lazy\"></div><div\\nclass=\"home__contentVideo--video-content videoPlayer-cover\" data-videoid=\"2t8ycK8D4Rk\">\\n<img\\nsrc=\"/assets/img/alura2023/home/video-play.1687365821.png\" alt=\"Play\" loading=\"lazy\"></div></aside></section><section\\nclass=\"home__benefits container\"><ul\\nclass=\"home__benefits--list\"><li\\nclass=\"home__benefits--item\">\\n<img\\nsrc=\"/assets/img/alura2023/home/icon-barco.1692727523.svg\" data-src=\"/assets/img/alura2023/home/icon-barco.1692727523.svg\" alt=\"Barco\" loading=\"lazy\"><h2 class=\"home__benefits--title\">Avance na carreira</h2><p\\nclass=\"home__benefits--text \">S\\xc3\\xa3o mais de <strong>1466 cursos</strong> e lan\\xc3\\xa7amentos toda semana para voc\\xc3\\xaa transformar o seu futuro com a escola refer\\xc3\\xaancia em educa\\xc3\\xa7\\xc3\\xa3o tech.</p></li><li\\nclass=\"home__benefits--item\">\\n<img\\nsrc=\"/assets/img/alura2023/home/icon-sub.1687365821.svg\" data-src=\"/assets/img/alura2023/home/icon-sub.1687365821.svg\" alt=\"Submarino\" loading=\"lazy\"><h2 class=\"home__benefits--title\">Aprofunde seus conhecimentos</h2><p\\nclass=\"home__benefits--text \">Aqui voc\\xc3\\xaa tem acesso a um processo de aprendizado acess\\xc3\\xadvel e com direcionamento na sua jornada de estudos, para voc\\xc3\\xaa se tornar profissional em T.</p></li><li\\nclass=\"home__benefits--item\">\\n<img\\nsrc=\"/assets/img/alura2023/home/icon-scuba.1687365821.svg\" data-src=\"/assets/img/alura2023/home/icon-scuba.1687365821.svg\" alt=\"M\\xc3\\xa1scara de mergulho\" loading=\"lazy\"><h2 class=\"home__benefits--title\">Conecte-se com a comunidade</h2><p\\nclass=\"home__benefits--text \">Fa\\xc3\\xa7a parte da maior comunidade de apaixonados por tecnologia. Conhe\\xc3\\xa7a e se conecte com milhares de profissionais do mercado.</p></li></ul></section><section\\nclass=\"home__formations\"><div\\nclass=\"container home__formations--header\"><div\\nclass=\"home__formations--header-about\"><h3>Nossas Forma\\xc3\\xa7\\xc3\\xb5es, Seu Guia</h3><h2>Sequ\\xc3\\xaancias de cursos organizados em <span>Forma\\xc3\\xa7\\xc3\\xb5es</span></h2><p>Forma\\xc3\\xa7\\xc3\\xb5es com conte\\xc3\\xbado do mercado de trabalho: sequ\\xc3\\xaancias de cursos e conte\\xc3\\xbado para voc\\xc3\\xaa se capacitar em tecnologia e neg\\xc3\\xb3cios digitais.</p></div><div\\nclass=\"home__formations--header-right\">\\n<img\\nsrc=\"/assets/img/alura2023/home/formations-sub.1687365821.png\" class=\"home__formations--header-img\" alt=\"Submarino\" loading=\"lazy\"></img>\\n<img\\nsrc=\"/assets/img/alura2023/home/stripes.1692727523.svg\" class=\"home__formations--header-stripes\" alt=\"Listras\" loading=\"lazy\"></img>\\n<img\\nsrc=\"/assets/img/alura2023/home/arrows-down.1687365821.svg\" class=\"home__formations--header-arrows\" alt=\"Setas para baixo animadas\" loading=\"lazy\"></img><div\\nclass=\"home__formations--header-selo\">\\n<img\\nsrc=\"/assets/img/alura2023/home/selo-circle.1692727523.svg\" class=\"circle\" alt=\"Qualidade Alura\" loading=\"lazy\">\\n<img\\nsrc=\"/assets/img/alura2023/home/selo-a.1687365821.svg\" class=\"selo-a\" alt=\"Alura\" loading=\"lazy\"></div></div></div><div\\nclass=\"home__formations--divider\"></div><div\\nclass=\"container home__formations--list\"><div\\nclass=\"home__formations--item --programacao \" style=\"color:#00c86f;\"><div\\nclass=\"home__formations--item-header\"><div\\nclass=\"home__formations--item-header-category\">\\n<svg\\nclass=\"pagina-categoria__svg svgFill-programacao categories__svg\" style=\"fill: #00c86f;\" xmlns:xlink=\"http://www.w3.org/1999/xlink\">\\n<use\\nxlink:href=\"/svg,1687868842/categorias#icon-categorias-programacao\"/>\\n</svg></div><h3 class=\"home__formations--item-header-title\">Programa\\xc3\\xa7\\xc3\\xa3o</h3></div><ul\\nclass=\"home__formations--item-list\"><li\\nclass=\"home__formations--item-list--item\">\\n<a\\nclass=\"home__formations--item-list--item-link\" href=\"/formacao-programacao\">\\nA partir do zero: iniciante em programa\\xc3\\xa7\\xc3\\xa3o                                    </a></li><li\\nclass=\"home__formations--item-list--item\">\\n<a\\nclass=\"home__formations--item-list--item-link\" href=\"/formacao-node-js-express\">\\nAPIs com Node.js e Express                                    </a></li><li\\nclass=\"home__formations--item-list--item\">\\n<a\\nclass=\"home__formations--item-list--item-link\" href=\"/formacao-c-sharp-orientacao-objetos\">\\nAprenda a programar em C# com Orienta\\xc3\\xa7\\xc3\\xa3o a Objetos                                    </a></li><li\\nclass=\"home__formations--item-list--item\">\\n<a\\nclass=\"home__formations--item-list--item-link\" href=\"/formacao-java\">\\nAprenda a programar em Java com Orienta\\xc3\\xa7\\xc3\\xa3o a Objetos                                    </a></li><li\\nclass=\"home__formations--item-list--item\">\\n<a\\nclass=\"home__formations--item-list--item-link\" href=\"/formacao-js-backend\">\\nAprenda a programar em JavaScript com foco no back-end                                    </a></li><li\\nclass=\"home__formations--item-list--item\">\\n<a\\nclass=\"home__formations--item-list--item-link\" href=\"/formacao-linguagem-php\">\\nAprenda a programar em PHP                                    </a></li><li\\nclass=\"home__formations--item-list--item\">\\n<a\\nclass=\"home__formations--item-list--item-link\" href=\"/formacao-linguagem-python\">\\nAprenda a programar em Python com Orienta\\xc3\\xa7\\xc3\\xa3o a Objetos                                    </a></li><li\\nclass=\"home__formations--item-list--item\">\\n<a\\nclass=\"home__formations--item-list--item-link\" href=\"/formacao-dotnet-microsservicos\">\\nAprofunde em .NET com Arquitetura de Microsservi\\xc3\\xa7os e RabbitMQ                                    </a></li><li\\nclass=\"home__formations--item-list--seeMore\">\\n<a\\nhref=\"/escola-programacao\" class=\"home__formations--item-list--seeMore-link\">ver Escola</a></li></ul></div><div\\nclass=\"home__formations--item --front-end \" style=\"color:#6bd1ff;\"><div\\nclass=\"home__formations--item-header\"><div\\nclass=\"home__formations--item-header-category\">\\n<svg\\nclass=\"pagina-categoria__svg svgFill-front-end categories__svg\" style=\"fill: #6bd1ff;\" xmlns:xlink=\"http://www.w3.org/1999/xlink\">\\n<use\\nxlink:href=\"/svg,1687868842/categorias#icon-categorias-front-end\"/>\\n</svg></div><h3 class=\"home__formations--item-header-title\">Front-end</h3></div><ul\\nclass=\"home__formations--item-list\"><li\\nclass=\"home__formations--item-list--item\">\\n<a\\nclass=\"home__formations--item-list--item-link\" href=\"/formacao-html-css\">\\nA partir do zero: HTML e CSS para projetos web                                    </a></li><li\\nclass=\"home__formations--item-list--item\">\\n<a\\nclass=\"home__formations--item-list--item-link\" href=\"/formacao-angular-aplicacoes-acessiveis-testes-automatizados\">\\nAngular: construindo aplica\\xc3\\xa7\\xc3\\xb5es acess\\xc3\\xadveis e avan\\xc3\\xa7ando em testes automatizados                                    </a></li><li\\nclass=\"home__formations--item-list--item\">\\n<a\\nclass=\"home__formations--item-list--item-link\" href=\"/formacao-typescript-desenvolva-front-end-produtividade\">\\nAplique TypeScript no front-end                                    </a></li><li\\nclass=\"home__formations--item-list--item\">\\n<a\\nclass=\"home__formations--item-list--item-link\" href=\"/formacao-bootstrap-5-websites-responsivos-atraentes\">\\nBootstrap 5: desenvolvimento de websites responsivos e atraentes                                    </a></li><li\\nclass=\"home__formations--item-list--item\">\\n<a\\nclass=\"home__formations--item-list--item-link\" href=\"/formacao-aplicacao-javascript-emotion-react-router\">\\nCriando uma aplica\\xc3\\xa7\\xc3\\xa3o acess\\xc3\\xadvel com JavaScript, Emotion e React Router                                    </a></li><li\\nclass=\"home__formations--item-list--item\">\\n<a\\nclass=\"home__formations--item-list--item-link\" href=\"/formacao-css-estilos\">\\nCSS: aprofunde em estilos                                    </a></li><li\\nclass=\"home__formations--item-list--item\">\\n<a\\nclass=\"home__formations--item-list--item-link\" href=\"/formacao-aplicacoes-escalaveis-angular\">\\nDesenvolva Aplica\\xc3\\xa7\\xc3\\xb5es Escal\\xc3\\xa1veis com Angular                                    </a></li><li\\nclass=\"home__formations--item-list--item\">\\n<a\\nclass=\"home__formations--item-list--item-link\" href=\"/formacao-acessibilidade-web\">\\nDesenvolva aplica\\xc3\\xa7\\xc3\\xb5es Web Acess\\xc3\\xadveis                                    </a></li><li\\nclass=\"home__formations--item-list--seeMore\">\\n<a\\nhref=\"/escola-front-end\" class=\"home__formations--item-list--seeMore-link\">ver Escola</a></li></ul></div><div\\nclass=\"home__formations--item --data-science \" style=\"color:#9cd33b;\"><div\\nclass=\"home__formations--item-header\"><div\\nclass=\"home__formations--item-header-category\">\\n<svg\\nclass=\"pagina-categoria__svg svgFill-data-science categories__svg\" style=\"fill: #9cd33b;\" xmlns:xlink=\"http://www.w3.org/1999/xlink\">\\n<use\\nxlink:href=\"/svg,1687868842/categorias#icon-categorias-data-science\"/>\\n</svg></div><h3 class=\"home__formations--item-header-title\">Data Science</h3></div><ul\\nclass=\"home__formations--item-list\"><li\\nclass=\"home__formations--item-list--item\">\\n<a\\nclass=\"home__formations--item-list--item-link\" href=\"/formacao-oracle-database-administracao-performance\">\\nAdministra\\xc3\\xa7\\xc3\\xa3o e performance com Oracle Database                                    </a></li><li\\nclass=\"home__formations--item-list--item\">\\n<a\\nclass=\"home__formations--item-list--item-link\" href=\"/formacao-apache-airflow\">\\nApache Airflow                                    </a></li><li\\nclass=\"home__formations--item-list--item\">\\n<a\\nclass=\"home__formations--item-list--item-link\" href=\"/formacao-apache-spark-python\">\\nApache Spark com Python                                    </a></li><li\\nclass=\"home__formations--item-list--item\">\\n<a\\nclass=\"home__formations--item-list--item-link\" href=\"/formacao-avancando-data-science-python\">\\nAvan\\xc3\\xa7ando em Data Science com Python                                    </a></li><li\\nclass=\"home__formations--item-list--item\">\\n<a\\nclass=\"home__formations--item-list--item-link\" href=\"/formacao-business-intelligence-excel\">\\nBusiness Intelligence com Excel                                    </a></li><li\\nclass=\"home__formations--item-list--item\">\\n<a\\nclass=\"home__formations--item-list--item-link\" href=\"/formacao-cd4ml-continuous-delivery-machine-learning\">\\nCD4ML: Continuous Delivery for Machine Learning                                    </a></li><li\\nclass=\"home__formations--item-list--item\">\\n<a\\nclass=\"home__formations--item-list--item-link\" href=\"/formacao-oracle-database-sql-plsql\">\\nConsultas com Oracle Database                                    </a></li><li\\nclass=\"home__formations--item-list--item\">\\n<a\\nclass=\"home__formations--item-list--item-link\" href=\"/formacao-data-analysis-google-sheets\">\\nData Analysis com Google Sheets                                    </a></li><li\\nclass=\"home__formations--item-list--seeMore\">\\n<a\\nhref=\"/escola-data-science\" class=\"home__formations--item-list--seeMore-link\">ver Escola</a></li></ul></div><div\\nclass=\"home__formations--item --devops \" style=\"color:#f16165;\"><div\\nclass=\"home__formations--item-header\"><div\\nclass=\"home__formations--item-header-category\">\\n<svg\\nclass=\"pagina-categoria__svg svgFill-devops categories__svg\" style=\"fill: #f16165;\" xmlns:xlink=\"http://www.w3.org/1999/xlink\">\\n<use\\nxlink:href=\"/svg,1687868842/categorias#icon-categorias-devops\"/>\\n</svg></div><h3 class=\"home__formations--item-header-title\">DevOps</h3></div><ul\\nclass=\"home__formations--item-list\"><li\\nclass=\"home__formations--item-list--item\">\\n<a\\nclass=\"home__formations--item-list--item-link\" href=\"/formacao-avancando-aws\">\\nAWS: Observabilidade com CloudWatch e Containers com ECS e EKS                                    </a></li><li\\nclass=\"home__formations--item-list--item\">\\n<a\\nclass=\"home__formations--item-list--item-link\" href=\"/formacao-conhecendo-azure\">\\nAzure                                    </a></li><li\\nclass=\"home__formations--item-list--item\">\\n<a\\nclass=\"home__formations--item-list--item-link\" href=\"/formacao-aws-certified-cloud-practitioner\">\\nCertifica\\xc3\\xa7\\xc3\\xa3o AWS Certified Cloud Practitioner                                    </a></li><li\\nclass=\"home__formations--item-list--item\">\\n<a\\nclass=\"home__formations--item-list--item-link\" href=\"/formacao-certificacao-az-900-microsoft-azure-fundamentals\">\\nCertifica\\xc3\\xa7\\xc3\\xa3o AZ-900: Microsoft Azure Fundamentals                                    </a></li><li\\nclass=\"home__formations--item-list--item\">\\n<a\\nclass=\"home__formations--item-list--item-link\" href=\"/formacao-aws-certified-solutions-architect-associate\">\\nCertifica\\xc3\\xa7\\xc3\\xa3o Certified Solutions Architect - Associate                                    </a></li><li\\nclass=\"home__formations--item-list--item\">\\n<a\\nclass=\"home__formations--item-list--item-link\" href=\"/formacao-google-certified-associate-cloud-engineer\">\\nCertifica\\xc3\\xa7\\xc3\\xa3o Google Certified Associate Cloud Engineer                                    </a></li><li\\nclass=\"home__formations--item-list--item\">\\n<a\\nclass=\"home__formations--item-list--item-link\" href=\"/formacao-certificacao-lpi-linux-essentials\">\\nCertifica\\xc3\\xa7\\xc3\\xa3o LPI Linux Essentials                                    </a></li><li\\nclass=\"home__formations--item-list--item\">\\n<a\\nclass=\"home__formations--item-list--item-link\" href=\"/formacao-ciberseguranca\">\\nCiberseguran\\xc3\\xa7a                                    </a></li><li\\nclass=\"home__formations--item-list--seeMore\">\\n<a\\nhref=\"/escola-devops\" class=\"home__formations--item-list--seeMore-link\">ver Escola</a></li></ul></div><div\\nclass=\"home__formations--item --design-ux \" style=\"color:#dc6ebe;\"><div\\nclass=\"home__formations--item-header\"><div\\nclass=\"home__formations--item-header-category\">\\n<svg\\nclass=\"pagina-categoria__svg svgFill-design-ux categories__svg\" style=\"fill: #dc6ebe;\" xmlns:xlink=\"http://www.w3.org/1999/xlink\">\\n<use\\nxlink:href=\"/svg,1687868842/categorias#icon-categorias-design-ux\"/>\\n</svg></div><h3 class=\"home__formations--item-header-title\">UX & Design</h3></div><ul\\nclass=\"home__formations--item-list\"><li\\nclass=\"home__formations--item-list--item\">\\n<a\\nclass=\"home__formations--item-list--item-link\" href=\"/formacao-adobe-illustrator-interfaces-digitais\">\\nAdobe Illustrator para interfaces digitais                                    </a></li><li\\nclass=\"home__formations--item-list--item\">\\n<a\\nclass=\"home__formations--item-list--item-link\" href=\"/formacao-adobe-mobile\">\\nAdobe Mobile                                    </a></li><li\\nclass=\"home__formations--item-list--item\">\\n<a\\nclass=\"home__formations--item-list--item-link\" href=\"/formacao-adobe-photoshop\">\\nAdobe Photoshop                                    </a></li><li\\nclass=\"home__formations--item-list--item\">\\n<a\\nclass=\"home__formations--item-list--item-link\" href=\"/formacao-ui-adobe-xd\">\\nAdobe XD                                    </a></li><li\\nclass=\"home__formations--item-list--item\">\\n<a\\nclass=\"home__formations--item-list--item-link\" href=\"/formacao-arquitetura-informacao\">\\nArquitetura da Informa\\xc3\\xa7\\xc3\\xa3o                                    </a></li><li\\nclass=\"home__formations--item-list--item\">\\n<a\\nclass=\"home__formations--item-list--item-link\" href=\"/formacao-blender\">\\nBlender                                    </a></li><li\\nclass=\"home__formations--item-list--item\">\\n<a\\nclass=\"home__formations--item-list--item-link\" href=\"/formacao-canva\">\\nCanva                                    </a></li><li\\nclass=\"home__formations--item-list--item\">\\n<a\\nclass=\"home__formations--item-list--item-link\" href=\"/formacao-producao-indesign\">\\nCria\\xc3\\xa7\\xc3\\xa3o gr\\xc3\\xa1fica e editorial com o InDesign                                    </a></li><li\\nclass=\"home__formations--item-list--seeMore\">\\n<a\\nhref=\"/escola-design-ux\" class=\"home__formations--item-list--seeMore-link\">ver Escola</a></li></ul></div><div\\nclass=\"home__formations--item --mobile \" style=\"color:#ffba05;\"><div\\nclass=\"home__formations--item-header\"><div\\nclass=\"home__formations--item-header-category\">\\n<svg\\nclass=\"pagina-categoria__svg svgFill-mobile categories__svg\" style=\"fill: #ffba05;\" xmlns:xlink=\"http://www.w3.org/1999/xlink\">\\n<use\\nxlink:href=\"/svg,1687868842/categorias#icon-categorias-mobile\"/>\\n</svg></div><h3 class=\"home__formations--item-header-title\">Mobile</h3></div><ul\\nclass=\"home__formations--item-list\"><li\\nclass=\"home__formations--item-list--item\">\\n<a\\nclass=\"home__formations--item-list--item-link\" href=\"/formacao-dart\">\\nA partir do zero: crie projetos em Dart, a linguagem utilizada no Flutter                                    </a></li><li\\nclass=\"home__formations--item-list--item\">\\n<a\\nclass=\"home__formations--item-list--item-link\" href=\"/formacao-jetpack-compose-armazenamento-dados-arquivos\">\\nAndroid Jetpack Compose: Armazenamento de dados e arquivos                                    </a></li><li\\nclass=\"home__formations--item-list--item\">\\n<a\\nclass=\"home__formations--item-list--item-link\" href=\"/formacao-ios-swiftui\">\\nConstrua aplicativos iOS com SwiftUI                                    </a></li><li\\nclass=\"home__formations--item-list--item\">\\n<a\\nclass=\"home__formations--item-list--item-link\" href=\"/formacao-android-kotlin\">\\nDesenvolva seu primeiro app Android com Kotlin                                    </a></li><li\\nclass=\"home__formations--item-list--item\">\\n<a\\nclass=\"home__formations--item-list--item-link\" href=\"/formacao-flutter\">\\nDesenvolva seu primeiro app com Flutter                                    </a></li><li\\nclass=\"home__formations--item-list--item\">\\n<a\\nclass=\"home__formations--item-list--item-link\" href=\"/formacao-react-native\">\\nDesenvolva seu primeiro app com React Native                                    </a></li><li\\nclass=\"home__formations--item-list--item\">\\n<a\\nclass=\"home__formations--item-list--item-link\" href=\"/formacao-domine-linguagem-swift\">\\nDomine a linguagem Swift                                    </a></li><li\\nclass=\"home__formations--item-list--item\">\\n<a\\nclass=\"home__formations--item-list--item-link\" href=\"/formacao-jetpack-compose-criando-telas-gerenciando-estados\">\\nEvolua apps Android com Jetpack Compose: crie telas e gerencie estados                                    </a></li><li\\nclass=\"home__formations--item-list--seeMore\">\\n<a\\nhref=\"/escola-mobile\" class=\"home__formations--item-list--seeMore-link\">ver Escola</a></li></ul></div><div\\nclass=\"home__formations--item --inovacao-gestao \" style=\"color:#ff8c2a;\"><div\\nclass=\"home__formations--item-header\"><div\\nclass=\"home__formations--item-header-category\">\\n<svg\\nclass=\"pagina-categoria__svg svgFill-inovacao-gestao categories__svg\" style=\"fill: #ff8c2a;\" xmlns:xlink=\"http://www.w3.org/1999/xlink\">\\n<use\\nxlink:href=\"/svg,1687868842/categorias#icon-categorias-inovacao-gestao\"/>\\n</svg></div><h3 class=\"home__formations--item-header-title\">Inova\\xc3\\xa7\\xc3\\xa3o & Gest\\xc3\\xa3o</h3></div><ul\\nclass=\"home__formations--item-list\"><li\\nclass=\"home__formations--item-list--item\">\\n<a\\nclass=\"home__formations--item-list--item-link\" href=\"/formacao-agilidade-abordagens-praticas-avancadas\">\\nAgilidade: abordagens e pr\\xc3\\xa1ticas avan\\xc3\\xa7adas                                    </a></li><li\\nclass=\"home__formations--item-list--item\">\\n<a\\nclass=\"home__formations--item-list--item-link\" href=\"/formacao-aprendizagem\">\\nAprendizagem                                    </a></li><li\\nclass=\"home__formations--item-list--item\">\\n<a\\nclass=\"home__formations--item-list--item-link\" href=\"/formacao-autolideranca\">\\nAutolideran\\xc3\\xa7a                                    </a></li><li\\nclass=\"home__formations--item-list--item\">\\n<a\\nclass=\"home__formations--item-list--item-link\" href=\"/formacao-business-agility\">\\nBusiness Agility                                    </a></li><li\\nclass=\"home__formations--item-list--item\">\\n<a\\nclass=\"home__formations--item-list--item-link\" href=\"/formacao-certificacao-pmp-capm-pmi\">\\nCertifica\\xc3\\xa7\\xc3\\xa3o PMP e CAPM do PMI                                    </a></li><li\\nclass=\"home__formations--item-list--item\">\\n<a\\nclass=\"home__formations--item-list--item-link\" href=\"/formacao-cobit\">\\nCOBIT 2019                                    </a></li><li\\nclass=\"home__formations--item-list--item\">\\n<a\\nclass=\"home__formations--item-list--item-link\" href=\"/formacao-comunicacao\">\\nComunica\\xc3\\xa7\\xc3\\xa3o                                    </a></li><li\\nclass=\"home__formations--item-list--item\">\\n<a\\nclass=\"home__formations--item-list--item-link\" href=\"/formacao-comunicacao-lideres\">\\nComunica\\xc3\\xa7\\xc3\\xa3o para l\\xc3\\xadderes                                    </a></li><li\\nclass=\"home__formations--item-list--seeMore\">\\n<a\\nhref=\"/escola-inovacao-gestao\" class=\"home__formations--item-list--seeMore-link\">ver Escola</a></li></ul></div></div></section><section\\nclass=\"home__fiap\"><div\\nclass=\"home__fiap--future-skills container\"><div\\nclass=\"line\"></div>//FUTURE SKILLS</div><div\\nclass=\"home__fiap--container container\"><div\\nclass=\"home__fiap--content\"><h3 class=\"home__fiap--subtitle\">FIAP + Alura</h3><h2 class=\"home__fiap--title\">Fa\\xc3\\xa7a parte do maior ecossistema de ensino tech do Brasil!</h2><p\\nclass=\"home__fiap--text\">Voc\\xc3\\xaa sabia que a Alura se uniu ao Centro Universit\\xc3\\xa1rio <strong>refer\\xc3\\xaancia em tecnologia no Brasil?</strong></p><p\\nclass=\"home__fiap--text\"><strong>CONHE\\xc3\\x87A A P\\xc3\\x93S TECH</strong> um projeto sem precedentes da parceria <strong>FIAP + ALURA</strong>: p\\xc3\\xb3s-gradua\\xc3\\xa7\\xc3\\xb5es \\xc3\\xbanicas, 100% digitais, hands-on e ass\\xc3\\xadncronas nas \\xc3\\xa1reas de Dev, Cyber Seguran\\xc3\\xa7a e Dados.</p><p\\nclass=\"home__fiap--text\">Vagas limitadas!</p>\\n<a\\nclass=\"home__fiap--cta\" href=\"https://postech.fiap.com.br/?utm_source=site&utm_medium=home&utm_campaign=pos-tech&utm_content=saiba+mais\">Saiba mais</a></div><div\\nclass=\"home__fiap--image\">\\n<img\\nsrc=\"/assets/img/alura2023/home/fiap_alura.1687365821.png\" alt=\"Fiap + Alura\" loading=\"lazy\"></div></div><div\\nclass=\"home__fiap--footer container\"><div>DEEP TECH, DEEP DIVE</div><div\\nclass=\"line\"></div><div>FIAP + ALURA</div></div></section><section\\nclass=\"home__tertimonies\"><link\\nrel=\"stylesheet\" href=\"/assets/css/block/homeDestaqueDepoimentos.1692727523.css\"><div\\nclass=\"homeDestaqueDepoimentos container\"><div\\nclass=\"homeDestaqueDepoimentos--header\"><div\\nclass=\"homeDestaqueDepoimentos--header-content\"><h3 class=\"homeDestaqueDepoimentos--header-firstTitle\">A Alura vale a pena?</h3><h2 class=\"homeDestaqueDepoimentos--header-title\"> Conhe\\xc3\\xa7a os <span>depoimentos e hist\\xc3\\xb3rias</span> de quem estuda com a gente</h2></div><div\\nclass=\"homeDestaqueDepoimentos--header-animation\">\\n<img\\nclass=\"homeDestaqueDepoimentos--header-animation-luz\" src=\"/assets/img/alura2023/home/selo-animation-luz.1687365821.png\" alt=\"Luz do selo de qualidade Alura\" loading=\"lazy\">\\n<img\\nclass=\"homeDestaqueDepoimentos--header-animation-sombra\" src=\"/assets/img/alura2023/home/selo-animation-sombra.1687365821.png\" alt=\"Sombra do selo de qualidade Alura\" loading=\"lazy\">\\n<img\\nclass=\"homeDestaqueDepoimentos--header-animation-selo\" src=\"/assets/img/alura2023/home/selo-animation.1687365821.png\" alt=\"Selo de qualidade Alura\" loading=\"lazy\"></div></div><div\\nclass=\"homeDestaqueDepoimentos--list\"><article\\nclass=\"homeDestaqueDepoimentos--item\"><div\\nclass=\"homeDestaqueDepoimentos--item-header\">\\n<img\\nclass=\"homeDestaqueDepoimentos--item-photo\" src=\"/assets/img/depoimentos/alunos/angela-caldas.1686744881.jpg\" alt=\"Foto de Angela Emanoelle\" loading=\"lazy\"><h3 class=\"homeDestaqueDepoimentos--item-name\">Angela Emanoelle</h3></div><div\\nclass=\"homeDestaqueDepoimentos--item-body\"><p\\nclass=\"homeDestaqueDepoimentos--item-body-details\">A arquiteta Angela estava atuando na \\xc3\\xa1rea da constru\\xc3\\xa7\\xc3\\xa3o civil...</p><div\\nclass=\"homeDestaqueDepoimentos--item-body-preview\" data-src=\"ODEgEk83PLA\" style=\"background-image: url(\\'https://i3.ytimg.com/vi/ODEgEk83PLA/hqdefault.jpg\\')\">\\n<img\\nsrc=\"/assets/img/alura2023/home/video-play.1687365821.png\" alt=\"Play\" loading=\"lazy\">\\n<a\\nhref=\"https://www.youtube.com/watch?v=ODEgEk83PLA\" target=\"_blank\" rel=\"noopener\"></a></div>\\n<a\\nhref=\"https://www.youtube.com/watch?v=ODEgEk83PLA\" target=\"_blank\" rel=\"noopener\" class=\"homeDestaqueDepoimentos--item-body-link\">Ver depoimento completo no YouTube</a></div></article><article\\nclass=\"homeDestaqueDepoimentos--item\"><div\\nclass=\"homeDestaqueDepoimentos--item-header\">\\n<img\\nclass=\"homeDestaqueDepoimentos--item-photo\" src=\"/assets/img/depoimentos/alunos/roger-tuma.1686744881.jpg\" alt=\"Foto de Roger Tuma\" loading=\"lazy\"><h3 class=\"homeDestaqueDepoimentos--item-name\">Roger Tuma</h3></div><div\\nclass=\"homeDestaqueDepoimentos--item-body\"><p\\nclass=\"homeDestaqueDepoimentos--item-body-details\">O Roger come\\xc3\\xa7ou na \\xc3\\xa1rea de tecnologia aos 17 anos! Como homem trans, enfrentou v\\xc3\\xa1rios desafios no mercado de trabalho...</p><div\\nclass=\"homeDestaqueDepoimentos--item-body-preview\" data-src=\"-Ue_I6_qZOI\" style=\"background-image: url(\\'https://i3.ytimg.com/vi/-Ue_I6_qZOI/hqdefault.jpg\\')\">\\n<img\\nsrc=\"/assets/img/alura2023/home/video-play.1687365821.png\" alt=\"Play\" loading=\"lazy\">\\n<a\\nhref=\"https://www.youtube.com/watch?v=-Ue_I6_qZOI\" target=\"_blank\" rel=\"noopener\"></a></div>\\n<a\\nhref=\"https://www.youtube.com/watch?v=-Ue_I6_qZOI\" target=\"_blank\" rel=\"noopener\" class=\"homeDestaqueDepoimentos--item-body-link\">Ver depoimento completo no YouTube</a></div></article><article\\nclass=\"homeDestaqueDepoimentos--item\"><div\\nclass=\"homeDestaqueDepoimentos--item-header\">\\n<img\\nclass=\"homeDestaqueDepoimentos--item-photo\" src=\"/assets/img/depoimentos/alunos/natalia-francisco.1686744881.jpg\" alt=\"Foto de Natalia Francisco\" loading=\"lazy\"><h3 class=\"homeDestaqueDepoimentos--item-name\">Natalia Francisco</h3></div><div\\nclass=\"homeDestaqueDepoimentos--item-body\"><p\\nclass=\"homeDestaqueDepoimentos--item-body-details\">A Nat\\xc3\\xa1lia F. Silva come\\xc3\\xa7ou na tecnologia porque era apaixonada por jogos e queria aprender como fazer um...</p><div\\nclass=\"homeDestaqueDepoimentos--item-body-preview\" data-src=\"mCHS_2NR-Uc\" style=\"background-image: url(\\'https://i3.ytimg.com/vi/mCHS_2NR-Uc/hqdefault.jpg\\')\">\\n<img\\nsrc=\"/assets/img/alura2023/home/video-play.1687365821.png\" alt=\"Play\" loading=\"lazy\">\\n<a\\nhref=\"https://www.youtube.com/watch?v=mCHS_2NR-Uc\" target=\"_blank\" rel=\"noopener\"></a></div>\\n<a\\nhref=\"https://www.youtube.com/watch?v=mCHS_2NR-Uc\" target=\"_blank\" rel=\"noopener\" class=\"homeDestaqueDepoimentos--item-body-link\">Ver depoimento completo no YouTube</a></div></article><article\\nclass=\"homeDestaqueDepoimentos--item\"><div\\nclass=\"homeDestaqueDepoimentos--item-header\">\\n<img\\nclass=\"homeDestaqueDepoimentos--item-photo\" src=\"/assets/img/depoimentos/alunos/iago-lopes.1686744881.jpg\" alt=\"Foto de Iago Alves\" loading=\"lazy\"><h3 class=\"homeDestaqueDepoimentos--item-name\">Iago Alves</h3></div><div\\nclass=\"homeDestaqueDepoimentos--item-body\"><p\\nclass=\"homeDestaqueDepoimentos--item-body-details\">Voc\\xc3\\xaa j\\xc3\\xa1 ouviu dizer que para trabalhar com tecnologia \\xc3\\xa9 preciso ter um \\xe2\\x80\\x9cdom\\xe2\\x80\\x9d? O Iago \\xc3\\xa9 a prova ...</p><div\\nclass=\"homeDestaqueDepoimentos--item-body-preview\" data-src=\"DDp0LKyfepo\" style=\"background-image: url(\\'https://i3.ytimg.com/vi/DDp0LKyfepo/hqdefault.jpg\\')\">\\n<img\\nsrc=\"/assets/img/alura2023/home/video-play.1687365821.png\" alt=\"Play\" loading=\"lazy\">\\n<a\\nhref=\"https://www.youtube.com/watch?v=DDp0LKyfepo\" target=\"_blank\" rel=\"noopener\"></a></div>\\n<a\\nhref=\"https://www.youtube.com/watch?v=DDp0LKyfepo\" target=\"_blank\" rel=\"noopener\" class=\"homeDestaqueDepoimentos--item-body-link\">Ver depoimento completo no YouTube</a></div></article><article\\nclass=\"homeDestaqueDepoimentos--item\"><div\\nclass=\"homeDestaqueDepoimentos--item-header\">\\n<img\\nclass=\"homeDestaqueDepoimentos--item-photo\" src=\"/assets/img/depoimentos/alunos/dayane-garcia.1686744881.jpg\" alt=\"Foto de Dayane Garcia\" loading=\"lazy\"><h3 class=\"homeDestaqueDepoimentos--item-name\">Dayane Garcia</h3></div><div\\nclass=\"homeDestaqueDepoimentos--item-body\"><p\\nclass=\"homeDestaqueDepoimentos--item-body-details\">A Dayane saiu da \\xc3\\xa1rea de RH para mergulhar em tecnologia! A transi\\xc3\\xa7\\xc3\\xa3o n\\xc3\\xa3o foi f\\xc3\\xa1cil, mas...</p><div\\nclass=\"homeDestaqueDepoimentos--item-body-preview\" data-src=\"pVdFGtF9OzY\" style=\"background-image: url(\\'https://i3.ytimg.com/vi/pVdFGtF9OzY/hqdefault.jpg\\')\">\\n<img\\nsrc=\"/assets/img/alura2023/home/video-play.1687365821.png\" alt=\"Play\" loading=\"lazy\">\\n<a\\nhref=\"https://www.youtube.com/watch?v=pVdFGtF9OzY\" target=\"_blank\" rel=\"noopener\"></a></div>\\n<a\\nhref=\"https://www.youtube.com/watch?v=pVdFGtF9OzY\" target=\"_blank\" rel=\"noopener\" class=\"homeDestaqueDepoimentos--item-body-link\">Ver depoimento completo no YouTube</a></div></article><article\\nclass=\"homeDestaqueDepoimentos--item\"><div\\nclass=\"homeDestaqueDepoimentos--item-header\">\\n<img\\nclass=\"homeDestaqueDepoimentos--item-photo\" src=\"/assets/img/depoimentos/alunos/jean-rodrigues.1686744881.jpg\" alt=\"Foto de Jean Rodrigues\" loading=\"lazy\"><h3 class=\"homeDestaqueDepoimentos--item-name\">Jean Rodrigues</h3></div><div\\nclass=\"homeDestaqueDepoimentos--item-body\"><p\\nclass=\"homeDestaqueDepoimentos--item-body-details\">O Jean teve o primeiro contato com a tecnologia como jovem aprendiz, aos 15 anos...</p><div\\nclass=\"homeDestaqueDepoimentos--item-body-preview\" data-src=\"hmiM3gfFGGw\" style=\"background-image: url(\\'https://i3.ytimg.com/vi/hmiM3gfFGGw/hqdefault.jpg\\')\">\\n<img\\nsrc=\"/assets/img/alura2023/home/video-play.1687365821.png\" alt=\"Play\" loading=\"lazy\">\\n<a\\nhref=\"https://www.youtube.com/watch?v=hmiM3gfFGGw\" target=\"_blank\" rel=\"noopener\"></a></div>\\n<a\\nhref=\"https://www.youtube.com/watch?v=hmiM3gfFGGw\" target=\"_blank\" rel=\"noopener\" class=\"homeDestaqueDepoimentos--item-body-link\">Ver depoimento completo no YouTube</a></div></article></div><a\\nclass=\"homeDestaqueDepoimentos--cta\" href=\"/depoimentos\">Conhe\\xc3\\xa7a mais dezenas de hist\\xc3\\xb3rias de alunos e alunas da Alura!</a></div></section><link\\nrel=\"stylesheet\" href=\"/assets/css/block/homeDestaqueEmpresas.1687365821.css\"><section\\nclass=\"home-destaqueEmpresas divisor\"><div\\nclass=\"container\"><div\\nclass=\"home-destaqueEmpresas--main\">\\n<img\\nsrc=\"/assets/img/home/alura-para-empresas.1687365821.svg\" class=\"home-destaqueEmpresas--main-logo\" loading=\"lazy\" /><h3 class=\"home-destaqueEmpresas--main-subtitle\">alura na medida_</h3><h2 class=\"home-destaqueEmpresas--main-title\">Para a sua Empresa</h2><p\\nclass=\"home-destaqueEmpresas--main-text\">Capacite suas equipes com forma\\xc3\\xa7\\xc3\\xb5es continuadas, lan\\xc3\\xa7amentos semanais, dashboards e relat\\xc3\\xb3rios de engajamento al\\xc3\\xa9m de guias de estudos customizados de acordo com sua necessidade.</p><p\\nclass=\"home-destaqueEmpresas--main-text\">Conhe\\xc3\\xa7a nossa proposta para sua empresa:</p>\\n<a\\nhref=\"/empresas\" class=\"home-destaqueEmpresas--main-cta\">Conhe\\xc3\\xa7a os recursos</a></div><div\\nclass=\"home-destaqueEmpresas--testimonials\"><ul\\nclass=\"home-destaqueEmpresas--testimonials-list\"><li\\nclass=\"home-destaqueEmpresas--testimonials-item\">\\n<img\\nsrc=\"/assets/img/home/homeNova/testimonies/suzano.1690317670.png\" class=\"home-destaqueEmpresas--testimonials-img\" alt=\"Suzano\" loading=\"lazy\" /><div\\nclass=\"home-destaqueEmpresas--testimonials-item-content\"><p\\nclass=\"home-destaqueEmpresas--testimonials-text\">Ter participado da Academia de Ci\\xc3\\xaancia de Dados e traduzir um problema de neg\\xc3\\xb3cio para um software, foi com certeza uma experi\\xc3\\xaancia \\xc3\\xbanica e desafiadora. Sair de um conhecimento bem b\\xc3\\xa1sico em programa\\xc3\\xa7\\xc3\\xa3o e hoje entender sobre modelagem matem\\xc3\\xa1tica e t\\xc3\\xa9cnicas de otimiza\\xc3\\xa7\\xc3\\xa3o, com certeza agrega muito para o meu dia a dia.</p><p\\nclass=\"home-destaqueEmpresas--testimonials-author\">Let\\xc3\\xadcia Strini - Suzano</p></div></li><li\\nclass=\"home-destaqueEmpresas--testimonials-divisor\"></li><li\\nclass=\"home-destaqueEmpresas--testimonials-item\">\\n<img\\nsrc=\"/assets/img/home/homeNova/testimonies/banco-pan.1690317670.png\" class=\"home-destaqueEmpresas--testimonials-img\" alt=\"Banco PAN\" loading=\"lazy\" /><div\\nclass=\"home-destaqueEmpresas--testimonials-item-content\"><p\\nclass=\"home-destaqueEmpresas--testimonials-text\">A plataforma hoje nos ajuda muito. Me ajuda bastante, n\\xc3\\xa3o s\\xc3\\xb3 como gestor da \\xc3\\xa1rea, [j\\xc3\\xa1] que o meu time consegue se desenvolver muito com a plataforma da Alura Para Empresas. Eu tamb\\xc3\\xa9m a utilizo para fazer os treinamentos.</p><p\\nclass=\"home-destaqueEmpresas--testimonials-author\">Rodrigo Trevisan Rodrigues - Banco PAN</p></div></li></ul></div></div></section><section\\nclass=\"home__companies\"><div\\nclass=\"container\"><h2 class=\"home__companies--title\">Empresas que j\\xc3\\xa1 contam com a gente</h2><ul\\nclass=\"home__companies--list\"><li\\nclass=\"home__companies--item\">\\n<img\\nsrc=\"/assets/img/home/homeNova/logo-empresas/logo-localiza.1690317670.svg\" loading=\"lazy\" alt=\"Logo da Localiza\" class=\"home__companies--item-image\"></li><li\\nclass=\"home__companies--item\">\\n<img\\nsrc=\"/assets/img/home/homeNova/logo-empresas/logo-globo.1690317670.svg\" loading=\"lazy\" alt=\"Logo da Globo\" class=\"home__companies--item-image\"></li><li\\nclass=\"home__companies--item\">\\n<img\\nsrc=\"/assets/img/home/homeNova/logo-empresas/logo-oracle.1690317670.svg\" loading=\"lazy\" alt=\"Logo da Oracle\" class=\"home__companies--item-image\"></li><li\\nclass=\"home__companies--item\">\\n<img\\nsrc=\"/assets/img/home/homeNova/logo-empresas/logo-banco-do-brasil.1690317670.svg\" loading=\"lazy\" alt=\"Logo do Banco do Brasil\" class=\"home__companies--item-image\"></li><li\\nclass=\"home__companies--item\">\\n<img\\nsrc=\"/assets/img/home/homeNova/logo-empresas/logo-bradesco.1690317670.svg\" loading=\"lazy\" alt=\"Logo do Bradesco\" class=\"home__companies--item-image\"></li><li\\nclass=\"home__companies--item\">\\n<img\\nsrc=\"/assets/img/home/homeNova/logo-empresas/logo-quintoandar.1690317670.svg\" loading=\"lazy\" alt=\"Logo do Quinto Andar\" class=\"home__companies--item-image\"></li><li\\nclass=\"home__companies--item\">\\n<img\\nsrc=\"/assets/img/home/homeNova/logo-empresas/logo-votorantim.1690317670.svg\" loading=\"lazy\" alt=\"Logo da Votorantim\" class=\"home__companies--item-image\"></li><li\\nclass=\"home__companies--item\">\\n<img\\nsrc=\"/assets/img/home/homeNova/logo-empresas/logo-serpro.1690317670.svg\" loading=\"lazy\" alt=\"Logo da Serpro\" class=\"home__companies--item-image\"></li><li\\nclass=\"home__companies--item\">\\n<img\\nsrc=\"/assets/img/home/homeNova/logo-empresas/logo-carrefour.1690317670.svg\" loading=\"lazy\" alt=\"Logo do Carrefour\" class=\"home__companies--item-image\"></li><li\\nclass=\"home__companies--item\">\\n<img\\nsrc=\"/assets/img/home/homeNova/logo-empresas/logo-telefonica.1690317670.svg\" loading=\"lazy\" alt=\"Logo da Telefonica\" class=\"home__companies--item-image\"></li><li\\nclass=\"home__companies--item\">\\n<img\\nsrc=\"/assets/img/home/homeNova/logo-empresas/logo-nubank.1690317670.svg\" loading=\"lazy\" alt=\"Logo da Nubank\" class=\"home__companies--item-image\"></li><li\\nclass=\"home__companies--item\">\\n<img\\nsrc=\"/assets/img/home/homeNova/logo-empresas/logo-via-varejo.1690317670.svg\" loading=\"lazy\" alt=\"Logo da Via Varejo\" class=\"home__companies--item-image\"></li><li\\nclass=\"home__companies--item\">\\n<img\\nsrc=\"/assets/img/home/homeNova/logo-empresas/logo-dasa.1690317670.svg\" loading=\"lazy\" alt=\"Logo daa Dasa class=\"home__companies--item-image\"></li><li\\nclass=\"home__companies--item\">\\n<img\\nsrc=\"/assets/img/home/homeNova/logo-empresas/logo-claro.1690317670.svg\" loading=\"lazy\" alt=\"Logo da Claro\" class=\"home__companies--item-image\"></li><li\\nclass=\"home__companies--item\">\\n<img\\nsrc=\"/assets/img/home/homeNova/logo-empresas/logo-meta.1690317670.svg\" loading=\"lazy\" alt=\"Logo da Meta\" class=\"home__companies--item-image\"></li><li\\nclass=\"home__companies--item\">\\n<img\\nsrc=\"/assets/img/home/homeNova/logo-empresas/logo-thoughtworks.1690317670.svg\" loading=\"lazy\" alt=\"Logo da thoughtworks\" class=\"home__companies--item-image\"></li></ul>\\n<a\\nhref=\"/empresas\" class=\"home__companies--cta\">Confira o que oferecemos para empresas</a></div></section><section\\nclass=\"alura-cases\"><div\\nclass=\"container alura-cases-container\"><div\\nclass=\"alura-cases-content\">\\n<img\\nsrc=\"/assets/img/home/homeNova/cases/logo-cases.1686744881.svg\" alt=\"Alura Cases\" class=\"alura-cases-logo\" loading=\"lazy\"><h2 class=\"alura-cases-title\">Estudos avan\\xc3\\xa7ados de tecnologia</h2><p\\nclass=\"alura-cases-text\">Conversas aprofundadas com l\\xc3\\xadderes  em tecnologia para voc\\xc3\\xaa aprender com situa\\xc3\\xa7\\xc3\\xb5es reais.</p>\\n<a\\nhref=\"/cases\" class=\"alura-cases-button cases-button-desktop\">\\n<span>CONHE\\xc3\\x87A O ALURA CASES</span>\\n</a></div><div\\nclass=\"alura-cases-list-scrollArea\"><div\\nclass=\"alura-cases-slideLeft glider-prev\" aria-label=\"Previous\">\\n<img\\nsrc=\"/assets/img/home/homeNova/cases/arrow-left.1686744881.svg\" alt=\"Arrow left\" loading=\"lazy\"></div><ul\\nclass=\"alura-cases-list-cards\"><li\\nclass=\"alura-cases-item\"><article\\nclass=\"alura-cases-card\" style=\"background-image: url(\\'/assets/img/home/homeNova/cases/roberta_arcoverde.1686744881.jpg\\');\"><h3 class=\"alura-cases-card-name\">Roberta Arcoverde</h3><h3 class=\"alura-cases-card-role\">Tech Lead na Stack Overflow</h3><div\\nclass=\"alura-cases-card-logo\">\\n<img\\nsrc=\"/assets/img/home/homeNova/cases/logo-stack.1686744881.svg\" alt=\"Logotipo stackoverflow\" loading=\"lazy\"></div>\\n<a\\nclass=\"alura-cases-card-link\" href=\"https://www.alura.com.br/cases/stack-overflow-e-a-aplicacao-web-monolitica-de-alta-performance-z1069\"></a></article></li><li\\nclass=\"alura-cases-item\"><article\\nclass=\"alura-cases-card\" style=\"background-image: url(\\'/assets/img/home/homeNova/cases/isabela_goncalves.1686744881.jpg\\');\"><h3 class=\"alura-cases-card-name\">Isabel Gon\\xc3\\xa7alves</h3><h3 class=\"alura-cases-card-role\">Software Engineer no Nubank</h3><div\\nclass=\"alura-cases-card-logo\">\\n<img\\nsrc=\"/assets/img/home/homeNova/cases/logo-nubank.1686744881.svg\" alt=\"Logotipo NuBank\" loading=\"lazy\"></div>\\n<a\\nclass=\"alura-cases-card-link\" href=\"https://www.alura.com.br/cases/nubank-e-a-plataformizacao-do-fluxo-de-emissao-de-cartoes-z1074\"></a></article></li><li\\nclass=\"alura-cases-item\"><article\\nclass=\"alura-cases-card\" style=\"background-image: url(\\'/assets/img/home/homeNova/cases/renan_martins.1686744881.jpg\\');\"><h3 class=\"alura-cases-card-name\">Renan Martins</h3><h3 class=\"alura-cases-card-role\">Engineering Manager no Luizalabs</h3><div\\nclass=\"alura-cases-card-logo\">\\n<img\\nsrc=\"/assets/img/home/homeNova/cases/logo-luiza.1686744881.svg\" alt=\"Logotipo luizalabs\" loading=\"lazy\"></div>\\n<a\\nclass=\"alura-cases-card-link\" href=\"https://www.alura.com.br/cases/luizalabs-e-a-evolucao-da-arquitetura-legado-monolitica-para-microsservicos-e-apis-z1059\"></a></article></li><li\\nclass=\"alura-cases-item\"><article\\nclass=\"alura-cases-card\" style=\"background-image: url(\\'/assets/img/home/homeNova/cases/marco_aurelio.1686744881.jpg\\');\"><h3 class=\"alura-cases-card-name\">MARCO AUR\\xc3\\x89LIO</h3><h3 class=\"alura-cases-card-role\">Development Specialist na Hotmart</h3><div\\nclass=\"alura-cases-card-logo\">\\n<img\\nsrc=\"/assets/img/home/homeNova/cases/logo-hotmart.1686744881.svg\" alt=\"Logotipo hotmart\" loading=\"lazy\"></div>\\n<a\\nclass=\"alura-cases-card-link\" href=\"https://www.alura.com.br/cases/hotmart-e-a-evolucao-da-arquitetura-java-z1068\"></a></article></li><li\\nclass=\"alura-cases-item\"><article\\nclass=\"alura-cases-card\" style=\"background-image: url(\\'/assets/img/home/homeNova/cases/ana_genari.1686744881.jpg\\');\"><h3 class=\"alura-cases-card-name\">ANA GENARI</h3><h3 class=\"alura-cases-card-role\">Tech Manager no Ita\\xc3\\xba</h3><div\\nclass=\"alura-cases-card-logo\">\\n<img\\nsrc=\"/assets/img/home/homeNova/cases/logo-itau.1686744881.svg\" alt=\"Logotipo Ita\\xc3\\xba\" loading=\"lazy\"></div>\\n<a\\nclass=\"alura-cases-card-link\" href=\"https://www.alura.com.br/cases/itau-e-o-desafio-das-metricas-em-um-ambiente-cloud-z1285\"></a></article></li><li\\nclass=\"alura-cases-item\"><article\\nclass=\"alura-cases-card\" style=\"background-image: url(\\'/assets/img/home/homeNova/cases/eduardo_amaral.1686744881.jpg\\');\"><h3 class=\"alura-cases-card-name\">EDUARDO AMARAL</h3><h3 class=\"alura-cases-card-role\">AdTech Senior Manager na Globo</h3><div\\nclass=\"alura-cases-card-logo\">\\n<img\\nsrc=\"/assets/img/home/homeNova/cases/logo-globo.1686744881.svg\" alt=\"Logotipo Globo\" loading=\"lazy\"></div>\\n<a\\nclass=\"alura-cases-card-link\" href=\"https://www.alura.com.br/cases/globo-e-a-evolucao-dos-dados-de-negocios-z1287\"></a></article></li></ul></div>\\n<a\\nhref=\"/cases\" class=\"alura-cases-button cases-button-mobile\">\\n<span>CONHE\\xc3\\x87A O ALURA CASES</span>\\n</a></div><div\\nclass=\"alura-cases-slideRight glider-next\" aria-label=\"Pr\\xc3\\xb3ximo\">\\n<img\\nsrc=\"/assets/img/home/homeNova/cases/arrow-right.1686744881.svg\" alt=\"Arrow right\" loading=\"lazy\"></div></section><section\\nclass=\"home__mobile\"><div\\nclass=\"container\"><div\\nclass=\"home__mobile--wrapper\"><div\\nclass=\"home__mobile--wrapper-content courses\">\\n<img\\ndata-src=\"/assets/img/alura2023/home/icon-cursos.1692727523.svg\" class=\"svg-convert\" alt=\"Computador exibindo uma lista\"/><h2>1466 cursos</h2><p>com lan\\xc3\\xa7amentos toda semana e atualiza\\xc3\\xa7\\xc3\\xb5es constantes</p></div><div\\nclass=\"home__mobile--wrapper-content app\">\\n<img\\ndata-src=\"/assets/img/alura2023/home/icon-app.1692727523.svg\" class=\"svg-convert\" alt=\"Aplicativos\"/><h2>Aplicativos</h2><p>para Android e iOS, para voc\\xc3\\xaa baixar e estudar offline.</p></div></div><nav\\nclass=\"home__mobile--downloads\">\\n<a\\nhref=\"https://play.google.com/store/apps/details?id=br.com.alura.mobi&hl=pt_BR\" class=\"home__mobile--downloads-item\">\\n<img\\nsrc=\"/assets/img/alura2023/home/logo-google.1692727523.svg\" data-src=\"/assets/img/alura2023/home/logo-google.1692727523.svg\" alt=\"Google Play\" class=\"svg-convert\">\\n</a>\\n<a\\nhref=\"https://itunes.apple.com/br/app/alura-cursos-online/id1225776635\" class=\"home__mobile--downloads-item\">\\n<img\\nsrc=\"/assets/img/alura2023/home/logo-apple.1692727523.svg\" data-src=\"/assets/img/alura2023/home/logo-apple.1692727523.svg\" alt=\"App Store\" class=\"svg-convert\">\\n</a></nav></div></section><section\\nclass=\"home__plans\"><link\\nrel=\"stylesheet\" href=\"/assets/css/block/planos.1698431084.css\"><section\\nclass=\"plans__background\"><section\\nclass=\"container\"><div\\nclass=\"plans__container\"><h2 class=\"plans__title\">Comece a estudar <span>agora</span> na maior escola de tecnologia do pa\\xc3\\xads</span></h2><div\\nclass=\"plans__list\" id=\\'planos\\'><div\\nclass=\"plans__item \" id=\\'plus\\'><div\\nclass=\"plans__card--background\"><div\\nclass=\"plans__card  \">\\n<img\\nclass=\"plans__icon--card\" src=\"/assets/img/alura2023/home/icon-plan-plus.1692727523.svg\" alt=\"\">\\n<img\\nsrc=\"/assets/img/alura2023/home/icon-plus.1692727523.svg\" class=\"plans__image\" alt=\"\\xc3\\x8dcone do plano\"><h3 class=\"plans__text--plus\">Plus</h3><div\\nclass=\"plans_values\"><div\\nclass=\"plans_values--old \"><div\\nclass=\"plans_values--installments\"><div>De</div>\\n<span\\nclass=\"plans__card--price line-through\">\\nR$ 1.800                                                </span><div>por</div></div></div><div\\nclass=\"plans_values--new\"><div\\nclass=\"plans_values--installments\">\\n<span\\nclass=\"plans__text--installments\">\\n12x\\n</span>\\n<span\\nclass=\"plans__card--price\">\\nR$109                                            </span></div><p\\nclass=\"plans__text--price\">\\n\\xc3\\xa0 vista R$1.308</p></div></div><ul\\nclass=\"plans__card--list\"><li\\nclass=\"--icon-check\"><div>\\n<span\\nclass=\"plans__card--advantage\">Acesso a TODOS os cursos da Alura</span><div\\nclass=\"planos-pagamento__legenda-tooltip\"><p\\nclass=\"planos-pagamento__legenda-descricao\">Mais de 1500 cursos completamente atualizados, com novos lan\\xc3\\xa7amentos todas as semanas, emPrograma\\xc3\\xa7\\xc3\\xa3o, Front-end, UX & Design, Data Science, Mobile, DevOps e Inova\\xc3\\xa7\\xc3\\xa3o & Gest\\xc3\\xa3o.</p></div></div></li><li\\nclass=\"--icon-check\"><div>\\n<span\\nclass=\"plans__card--advantage\">Alura Challenges</span><div\\nclass=\"planos-pagamento__legenda-tooltip\"><p\\nclass=\"planos-pagamento__legenda-descricao\">Desafios tem\\xc3\\xa1ticos para voc\\xc3\\xaa turbinar seu portf\\xc3\\xb3lio. Voc\\xc3\\xaa aprende na pr\\xc3\\xa1tica, com exerc\\xc3\\xadcios e projetos que simulam o dia a dia profissional.</p></div></div></li><li\\nclass=\"--icon-check\"><div>\\n<span\\nclass=\"plans__card--advantage\">Alura Cases</span><div\\nclass=\"planos-pagamento__legenda-tooltip\"><p\\nclass=\"planos-pagamento__legenda-descricao\">Webs\\xc3\\xa9ries exclusivas com discuss\\xc3\\xb5es avan\\xc3\\xa7adas sobre arquitetura de sistemas com  profissionais de grandes corpora\\xc3\\xa7\\xc3\\xb5es e startups.</p></div></div></li><li\\nclass=\"--icon-check\"><div>\\n<span\\nclass=\"plans__card--advantage\">Certificado</span><div\\nclass=\"planos-pagamento__legenda-tooltip\"><p\\nclass=\"planos-pagamento__legenda-descricao\">Emitimos certificados para atestar que voc\\xc3\\xaa finalizou nossos cursos e forma\\xc3\\xa7\\xc3\\xb5es.</p></div></div></li></ul>\\n<a\\nclass=\"plans__card--button\"\\nid=\"subscribe-link-Plus\"\\ndata-contentId=\"100\"\\ndata-price=\"109\"\\ndata-currency=\"BRL\"\\ndata-totalPrice=\"1308.00\"\\ndata-productId=\"111\"\\ndata-productCode=\"plus\"\\ndata-productName=\"Plus\"\\ndata-hasCoupon=\"\"\\ndata-coupon=\"\"\\ndata-discount=\"\"\\nhref=\"/compra/plus/\"\\n>\\nMatricule-se\\n</a></div></div></div><div\\nclass=\"plans__item --principal\" id=\\'pro\\'><div\\nclass=\"plans__decoration\"><div\\nclass=\"plans__container--position\"><div\\nclass=\"plans__text--animation\"></div>\\n<span\\nclass=\"plans__icon--animation\"></span></div></div><div\\nclass=\"plans__card--background\"><div\\nclass=\"plans__card --principal \">\\n<img\\nclass=\"plans__icon--card\" src=\"/assets/img/alura2023/home/icon-plan-pro.1692727523.svg\" alt=\"\">\\n<img\\nsrc=\"/assets/img/alura2023/home/icon-pro.1692727523.svg\" class=\"plans__image\" alt=\"\\xc3\\x8dcone do plano\"><h3 class=\"plans__text--plus\">Pro</h3><div\\nclass=\"plans_values\"><div\\nclass=\"plans_values--old \"><div\\nclass=\"plans_values--installments\"><div>De</div>\\n<span\\nclass=\"plans__card--price line-through\">\\nR$ 2.400                                                </span><div>por</div></div></div><div\\nclass=\"plans_values--new\"><div\\nclass=\"plans_values--installments\">\\n<span\\nclass=\"plans__text--installments\">\\n12x\\n</span>\\n<span\\nclass=\"plans__card--price\">\\nR$149                                            </span></div><p\\nclass=\"plans__text--price\">\\n\\xc3\\xa0 vista R$1.788</p></div></div><ul\\nclass=\"plans__card--list\"><li\\nclass=\"--icon-check\"><div>\\n<span\\nclass=\"plans__card--advantage\">Acesso a TODOS os cursos da Alura</span><div\\nclass=\"planos-pagamento__legenda-tooltip\"><p\\nclass=\"planos-pagamento__legenda-descricao\">Mais de 1500 cursos completamente atualizados, com novos lan\\xc3\\xa7amentos todas as semanas, emPrograma\\xc3\\xa7\\xc3\\xa3o, Front-end, UX & Design, Data Science, Mobile, DevOps e Inova\\xc3\\xa7\\xc3\\xa3o & Gest\\xc3\\xa3o.</p></div></div></li><li\\nclass=\"--icon-check\"><div>\\n<span\\nclass=\"plans__card--advantage\">Alura Challenges</span><div\\nclass=\"planos-pagamento__legenda-tooltip\"><p\\nclass=\"planos-pagamento__legenda-descricao\">Desafios tem\\xc3\\xa1ticos para voc\\xc3\\xaa turbinar seu portf\\xc3\\xb3lio. Voc\\xc3\\xaa aprende na pr\\xc3\\xa1tica, com exerc\\xc3\\xadcios e projetos que simulam o dia a dia profissional.</p></div></div></li><li\\nclass=\"--icon-check\"><div>\\n<span\\nclass=\"plans__card--advantage\">Alura Cases</span><div\\nclass=\"planos-pagamento__legenda-tooltip\"><p\\nclass=\"planos-pagamento__legenda-descricao\">Webs\\xc3\\xa9ries exclusivas com discuss\\xc3\\xb5es avan\\xc3\\xa7adas sobre arquitetura de sistemas com  profissionais de grandes corpora\\xc3\\xa7\\xc3\\xb5es e startups.</p></div></div></li><li\\nclass=\"--icon-check\"><div>\\n<span\\nclass=\"plans__card--advantage\">Certificado</span><div\\nclass=\"planos-pagamento__legenda-tooltip\"><p\\nclass=\"planos-pagamento__legenda-descricao\">Emitimos certificados para atestar que voc\\xc3\\xaa finalizou nossos cursos e forma\\xc3\\xa7\\xc3\\xb5es.</p></div></div></li><li\\nclass=\"--icon-check --label-principal\"><div>\\n<span\\nclass=\"plans__card--advantage\">\\n<strong>Luri</strong>\\npowered by ChatGPT                                                    </span><div\\nclass=\"planos-pagamento__legenda-tooltip\"><p\\nclass=\"planos-pagamento__legenda-descricao\">Luri \\xc3\\xa9 nossa intelig\\xc3\\xaancia artificial que tira d\\xc3\\xbavidas, d\\xc3\\xa1 exemplos pr\\xc3\\xa1ticos e ajuda a mergulhar ainda mais durante as aulas. Voc\\xc3\\xaa pode conversar com Luri at\\xc3\\xa9 100 mensagens por semana.</p></div></div></li><li\\nclass=\"--icon-check\"><div>\\n<span\\nclass=\"plans__card--advantage\">Alura L\\xc3\\xadngua (incluindo curso Ingl\\xc3\\xaas para Devs)</span><div\\nclass=\"planos-pagamento__legenda-tooltip\"><p\\nclass=\"planos-pagamento__legenda-descricao\">Estude a l\\xc3\\xadngua inglesa com um curso 100% focado em tecnologia e expanda seus horizontes profissionais.</p></div></div></li></ul>\\n<a\\nclass=\"plans__card--button\"\\nid=\"subscribe-link-Pro\"\\ndata-contentId=\"101\"\\ndata-price=\"149\"\\ndata-currency=\"BRL\"\\ndata-totalPrice=\"1788.00\"\\ndata-productId=\"112\"\\ndata-productCode=\"pro\"\\ndata-productName=\"Pro\"\\ndata-hasCoupon=\"\"\\ndata-coupon=\"\"\\ndata-discount=\"\"\\nhref=\"/compra/pro/\"\\n>\\nMatricule-se\\n</a></div></div></div></div>\\n<a\\nhref=\"https://www.alura.com.br/empresas\" class=\"plans__link--company\">Conhe\\xc3\\xa7a os planos para empresas</a></div></section><section\\nclass=\"card__container--desktop\"><section\\nclass=\"container\"><div\\nclass=\"plans__container --advantages --flex\"><div\\nclass=\"card__bennefits--flex\"><h4 class=\"plans__title--selected\">o plano mais escolhido</h4><h3 class=\"plans__title--advantage\">Vantagens de ser<strong> pro</strong></h3><p\\nclass=\"plans__text-advantage\">Al\\xc3\\xa9m de todos os benef\\xc3\\xadcios do plano PLUS, receba os benef\\xc3\\xadcios EXCLUSIVOS do plano PRO e mergulhe ainda mais em tecnologia, conhecimento e possibildades.</p>\\n<a\\nclass=\"plans__button--pro\" href=\"#pro\">Quero ser pro</a></div><div><div\\nclass=\"card__luri--container\"><div\\nclass=\" card__icon--luri\"><div\\nclass=\"card__luri--image\"></div></div><div\\nclass=\"plans__card--luri\"><p\\nclass=\"card__luri--text\">Vantagens alura pro</p><div\\nclass=\"card__luri--flex\"><h2 class=\"card__luri--name\">luri</h2>\\n<img\\nsrc=\"assets/img/alura2023/home/powered-by-chat-GPT.svg\"></div><p\\nclass=\"card__luri--ia\">Nossa Intelig\\xc3\\xaancia Artificial baseada em ChatGPT que te ajuda a estudar e se aprofundar nos temas que voc\\xc3\\xaa tem d\\xc3\\xbavida, sempre pronta pra te ouvir! <a\\nhref=\"https://www.alura.com.br/luri-inteligencia-artificial\">Conhe\\xc3\\xa7a a Luri</a></p></div></div><div\\nclass=\"card__luri--container\"><div\\nclass=\"card__aluraLingua--image\"><div\\nclass=\"card__aluraLingua--icon\"></div></div><div\\nclass=\"plans__card--aluraLingua\"><p\\nclass=\"card__aluraLingua--text\">Vantagens alura pro</p><h2 class=\"card__aluraLingua--name\">Alura l\\xc3\\xadngua</h2><p\\nclass=\"card__luri--ia\">A plataforma de cursos online de idiomas da Alura. Aqui, voc\\xc3\\xaa tem liberdade para aprender uma nova l\\xc3\\xadngua quando e onde quiser!</p></div></div></div></div><div\\nclass=\"benefits__divider\"></div></section></section><section\\nclass=\"container\"><div\\nclass=\"benefits__container--flex\"><div\\nclass=\"benefits__divider--flex\">\\n<span\\nclass=\"benefits__icon --calendar\"></span><p\\nclass=\"benefits__text\">Acesso completo<br> durante 1 ano</p></div><div\\nclass=\"benefits__divider--flex\">\\n<span\\nclass=\"benefits__icon --moon\"></span><p\\nclass=\"benefits__text\">Estude 24h/dia onde<br> e quando quiser</p></div><div\\nclass=\"benefits__divider--flex\">\\n<span\\nclass=\"benefits__icon --arrow\"></span><p\\nclass=\"benefits__text\">Novos cursos todas<br> as semanas</p></div></div></section></section> <script src=\"/assets/js/imersoes/duvidas.1686744882.js\"></script> <script src=\"/assets/js/planosPagamentoOld.1686744882.js\"></script> </section></main><link\\nrel=\"stylesheet\" href=\"/assets/css/block/footer.1686744881.css\"><footer\\nclass=\"footer\"><div\\nclass=\"container\"><div\\nclass=\"footer-info flex-row\"><div\\nclass=\"footer-logos\">\\n<a\\nclass=\"footer-logos-home\" gtm-data=\\'footer_primeira_secao_050\\' href=\"/\">\\n<img\\nsrc=\"/assets/img/home/alura-logo.1686744881.svg\" alt=\"Alura\" class=\"footer-logo\" loading=\"lazy\">\\n</a><p\\nclass=\"footer-navegue-lista-link --description\">\\n<span\\nclass=\"footer-empresa-item\">AOVS Sistemas de Inform\\xc3\\xa1tica S.A</span>\\n<span\\nclass=\"footer-empresa-item\">CNPJ 05.555.382/0001-33</span></p></div><div\\nclass=\"footer-card-hotLinks social-desktop\"><h2 class=\"footer-card-hotLinks-titulo\">Nossas redes e apps</h2><div\\nclass=\"footer-card-hotLinks-info footer-card-redes\">\\n<a\\nhref=\"https://www.youtube.com/alura\" gtm-data=\\'footer_primeira_secao_065\\' class=\"footer-card-hotLinks-link\"\\ntarget=\"_blank\" rel=\"noopener\" title=\"YouTube da Alura\">\\n<svg\\nclass=\"footer-card-hotLinks-icon footer-card-hotLinks-youtube\">\\n<use\\nxlink:href=\"/svg,1686744881/footer#icon-footer-youtube\" />\\n</svg>\\n<span>YouTube</span>\\n</a>\\n<a\\nhref=\"https://www.facebook.com/AluraCursosOnline/\" gtm-data=\\'footer_primeira_secao_066\\'\\nclass=\"footer-card-hotLinks-link\" target=\"_blank\" rel=\"noopener\" title=\"Facebook da Alura\">\\n<svg\\nclass=\"footer-card-hotLinks-icon footer-card-hotLinks-facebook\">\\n<use\\nxlink:href=\"/svg,1686744881/footer#icon-footer-facebook\" />\\n</svg>\\n<span>Facebook</span>\\n</a>\\n<a\\nhref=\"https://twitter.com/aluraonline\" gtm-data=\\'footer_primeira_secao_067\\' class=\"footer-card-hotLinks-link\"\\ntarget=\"_blank\" rel=\"noopener\" title=\"Twitter da Alura\">\\n<svg\\nclass=\"footer-card-hotLinks-icon footer-card-hotLinks-twitter\">\\n<use\\nxlink:href=\"/svg,1686744881/footer#icon-footer-twitter\" />\\n</svg>\\n<span>Twitter</span>\\n</a>\\n<a\\nhref=\"https://instagram.com/aluraonline\" class=\"footer-card-hotLinks-link\" gtm-data=\\'footer_primeira_secao_073\\'\\ntarget=\"_blank\" rel=\"noopener\" title=\"Instagram da Alura\">\\n<svg\\nclass=\"footer-card-hotLinks-icon footer-card-hotLinks-instagram\">\\n<use\\nxlink:href=\"/svg,1686744881/footer#icon-footer-instagram\" />\\n</svg>\\n<span>Instagram</span>\\n</a>\\n<a\\nhref=\"https://play.google.com/store/apps/details?id=br.com.alura.mobi&hl=pt_BR\"\\ngtm-data=\\'footer_primeira_secao_069\\' class=\"footer-card-hotLinks-link\" target=\"_blank\" rel=\"noopener\"\\ntitle=\"Baixar na Google Play Store\">\\n<svg\\nclass=\"footer-card-hotLinks-icon footer-card-hotLinks-mobile\">\\n<use\\nxlink:href=\"/svg,1686744881/footer#icon-footer-googleplay\" />\\n</svg>\\n<span>Google Play Store</span>\\n</a>\\n<a\\nhref=\"https://itunes.apple.com/br/app/alura-cursos-online/id1225776635\" gtm-data=\\'footer_primeira_secao_070\\'\\nclass=\"footer-card-hotLinks-link\" target=\"_blank\" rel=\"noopener\" title=\"Baixar na AppStore\">\\n<svg\\nclass=\"footer-card-hotLinks-icon footer-card-hotLinks-mobile\">\\n<use\\nxlink:href=\"/svg,1686744881/footer#icon-footer-appstore\" />\\n</svg>\\n<span>AppStore</span>\\n</a>\\n<a\\nhref=\"https://www.tiktok.com/@aluraonline?lang=pt-BR\" gtm-data=\\'footer_primeira_secao_071\\' class=\"footer-card-hotLinks-link\"\\ntarget=\"_blank\" rel=\"noopener\" title=\"TikTok da Alura\">\\n<svg\\nclass=\"footer-card-hotLinks-icon footer-card-hotLinks-youtube\">\\n<use\\nxlink:href=\"/svg,1686744881/footer#icon-footer-tiktok\" />\\n</svg>\\n<span>TikTok</span>\\n</a></div></div><div\\nclass=\"footer-card-hotLinks social-mobile\"><h2 class=\"footer-card-hotLinks-titulo\">Nossas redes e apps</h2><div\\nclass=\"footer-card-hotLinks-info footer-card-redes\">\\n<a\\nhref=\"https://www.youtube.com/alura\" gtm-data=\\'footer_primeira_secao_065\\' class=\"footer-card-hotLinks-link\"\\ntarget=\"_blank\" rel=\"noopener\" title=\"YouTube da Alura\">\\n<svg\\nclass=\"footer-card-hotLinks-icon footer-card-hotLinks-youtube\">\\n<use\\nxlink:href=\"/svg,1686744881/footer#icon-footer-youtube\" />\\n</svg>\\n<span>YouTube</span>\\n</a>\\n<a\\nhref=\"https://www.facebook.com/AluraCursosOnline/\" gtm-data=\\'footer_primeira_secao_066\\'\\nclass=\"footer-card-hotLinks-link\" target=\"_blank\" rel=\"noopener\" title=\"Facebook da Alura\">\\n<svg\\nclass=\"footer-card-hotLinks-icon footer-card-hotLinks-facebook\">\\n<use\\nxlink:href=\"/svg,1686744881/footer#icon-footer-facebook\" />\\n</svg>\\n<span>Facebook</span>\\n</a>\\n<a\\nhref=\"https://twitter.com/aluraonline\" gtm-data=\\'footer_primeira_secao_067\\' class=\"footer-card-hotLinks-link\"\\ntarget=\"_blank\" rel=\"noopener\" title=\"Twitter da Alura\">\\n<svg\\nclass=\"footer-card-hotLinks-icon footer-card-hotLinks-twitter\">\\n<use\\nxlink:href=\"/svg,1686744881/footer#icon-footer-twitter\" />\\n</svg>\\n<span>Twitter</span>\\n</a>\\n<a\\nhref=\"https://instagram.com/aluraonline\" class=\"footer-card-hotLinks-link\" gtm-data=\\'footer_primeira_secao_073\\'\\ntarget=\"_blank\" rel=\"noopener\" title=\"Instagram da Alura\">\\n<svg\\nclass=\"footer-card-hotLinks-icon footer-card-hotLinks-instagram\">\\n<use\\nxlink:href=\"/svg,1686744881/footer#icon-footer-instagram\" />\\n</svg>\\n<span>Instagram</span>\\n</a>\\n<a\\nhref=\"https://play.google.com/store/apps/details?id=br.com.alura.mobi&hl=pt_BR\"\\ngtm-data=\\'footer_primeira_secao_069\\' class=\"footer-card-hotLinks-link\" target=\"_blank\" rel=\"noopener\"\\ntitle=\"Baixar na Google Play Store\">\\n<svg\\nclass=\"footer-card-hotLinks-icon footer-card-hotLinks-mobile\">\\n<use\\nxlink:href=\"/svg,1686744881/footer#icon-footer-googleplay\" />\\n</svg>\\n<span>Google Play Store</span>\\n</a>\\n<a\\nhref=\"https://itunes.apple.com/br/app/alura-cursos-online/id1225776635\" gtm-data=\\'footer_primeira_secao_070\\'\\nclass=\"footer-card-hotLinks-link\" target=\"_blank\" rel=\"noopener\" title=\"Baixar na AppStore\">\\n<svg\\nclass=\"footer-card-hotLinks-icon footer-card-hotLinks-mobile\">\\n<use\\nxlink:href=\"/svg,1686744881/footer#icon-footer-appstore\" />\\n</svg>\\n<span>AppStore</span>\\n</a>\\n<a\\nhref=\"https://www.tiktok.com/@aluraonline?lang=pt-BR\" gtm-data=\\'footer_primeira_secao_071\\' class=\"footer-card-hotLinks-link\"\\ntarget=\"_blank\" rel=\"noopener\" title=\"TikTok da Alura\">\\n<svg\\nclass=\"footer-card-hotLinks-icon footer-card-hotLinks-youtube\">\\n<use\\nxlink:href=\"/svg,1686744881/footer#icon-footer-tiktok\" />\\n</svg>\\n<span>TikTok</span>\\n</a></div></div></div><div\\nclass=\"footer-navegue\"><div\\nclass=\"navegue-column\"><h2 class=\"footer-navegacao-titulo\">Institucional</h2><ul\\nclass=\"footer-navegue-lista\"><li\\nclass=\"footer-navegue-lista-link\"><a\\nhref=\"/sobre\" gtm-data=\\'footer_primeira_secao_063\\'>Sobre n\\xc3\\xb3s</a></li><li\\nclass=\"footer-navegue-lista-link\"><a\\nhref=\"https://grupoalura.gupy.io\">Trabalhe conosco</a></li><li\\nclass=\"footer-navegue-lista-link\"><a\\nhref=\"https://www.alura.com.br/empresas\">Para\\nEmpresas</a></li><li\\nclass=\"footer-navegue-lista-link\"><a\\nhref=\"/escolas\">Para Escolas</a></li><li\\nclass=\"footer-navegue-lista-link\"><a\\nhref=\"/politica-de-privacidade\"\\ngtm-data=\\'footer_primeira_secao_061\\'>Pol\\xc3\\xadtica de Privacidade</a></li><li\\nclass=\"footer-navegue-lista-link\"><a\\nhref=\"/compromisso-de-integridade\">Compromisso de Integridade</a></li><li\\nclass=\"footer-navegue-lista-link\"><a\\nhref=\"/termos-de-uso\" gtm-data=\\'footer_primeira_secao_062\\'>Termos\\nde\\nUso</a></li><li\\nclass=\"footer-navegue-lista-link\"><a\\nhref=\"https://status.alura.com.br/\">Status</a></li></ul></div><div\\nclass=\"navegue-column\"><h2 class=\"footer-navegacao-titulo\">A Alura</h2><ul\\nclass=\"footer-navegue-lista\"><li\\nclass=\"footer-navegue-lista-link\"><a\\nhref=\"/formacoes\" gtm-data=\\'footer_primeira_secao_064\\'>Forma\\xc3\\xa7\\xc3\\xb5es</a></li><li\\nclass=\"footer-navegue-lista-link\"><a\\nhref=\"/como-funciona\" gtm-data=\\'footer_primeira_secao_064\\'>Como\\nFunciona</a></li><li\\nclass=\"footer-navegue-lista-link\"><a\\nhref=\"/cursos-online-tecnologia\"\\ngtm-data=\\'footer_primeira_secao_054\\'>Todos os cursos</a></li><li\\nclass=\"footer-navegue-lista-link\"><a\\nhref=\"/depoimentos\"\\ngtm-data=\"footer_primeira_secao_069\">Depoimentos</a></li><li\\nclass=\"footer-navegue-lista-link\"><a\\nhref=\"/instrutores\"\\ngtm-data=\"footer_primeira_secao_061\">Instrutores(as)</a></li><li\\nclass=\"footer-navegue-lista-link\"><a\\nhref=\"/dev-em-t\" gtm-data=\\'footer_primeira_secao_065\\'>Dev em\\n&lt;T&gt;</a></li><li\\nclass=\"footer-navegue-lista-link\"><a\\nhref=\"/luri-inteligencia-artificial\" gtm-data=\\'footer_primeira_secao_065\\'>Luri by ChatGPT</a></li></ul></div><div\\nclass=\"navegue-column\"><h2 class=\"footer-navegacao-titulo\">Conte\\xc3\\xbados</h2><ul\\nclass=\"footer-navegue-lista\"><li\\nclass=\"footer-navegue-lista-link\"><a\\nhref=\"/cases\">Alura Cases</a></li><li\\nclass=\"footer-navegue-lista-link\"><a\\nhref=\"/imersao\" gtm-data=\"footer_primeira_secao_068\">Imers\\xc3\\xb5es</a></li><li\\nclass=\"footer-navegue-lista-link\"><a\\nhref=\"/artigos\" gtm-data=\\'footer_primeira_secao_058\\'>Artigos</a></li><li\\nclass=\"footer-navegue-lista-link\"><a\\nhref=\"/podcasts\">Podcasts</a></li><li\\nclass=\"footer-navegue-lista-link\"><a\\nhref=\"/empresas/artigos\">Artigos de educa\\xc3\\xa7\\xc3\\xa3o <br> corporativa</a></li></ul></div><div\\nclass=\"navegue-column\"><h2 class=\"footer-navegacao-titulo\">Fale Conosco</h2><ul\\nclass=\"footer-navegue-lista\"><li\\nclass=\"footer-navegue-lista-link\"><a\\nhref=\"https://www.alura.com.br/contato\">Email e telefone</a></li><li\\nclass=\"footer-navegue-lista-link\"><a\\nhref=\"https://suporte.alura.com.br/\"\\ngtm-data=\\'footer_primeira_secao_066\\'>Perguntas frequentes</a></li></ul></div><div\\nclass=\"footer-column footer-column-cards\"><div\\nclass=\"newsletter\"><h2 class=\"newsletter-titulo\">Novidades e Lan\\xc3\\xa7amentos</h2><div\\nclass=\"hubspot-form newsletter-form\"> <script charset=\"utf-8\" type=\"text/javascript\" src=\"//js.hsforms.net/forms/v2.js?pre=1\"></script> <script>hbspt.forms.create({\\n                region: \"na1\",\\n                portalId: \"21748317\",\\n                formId: \"39a8f8bd-d48f-4f45-8ed4-d26366176d39\"\\n              });</script> </div></div></div></div><div\\nclass=\"parceiros flex-column\"><h2 class=\"footer-navegacao-titulo\">Parceiros</h2><ul\\nclass=\"footer-navegue-lista flex-row\"><li\\nclass=\"footer-navegue-lista-link --description footer-column-cards\">\\n<img\\nsrc=\"/assets/img/footer/scale-up-endeavor.1686744881.png\" alt=\"Programa de acelera\\xc3\\xa7\\xc3\\xa3o Scale-Up Endeavor\"\\nclass=\"footer-navegue-lista__image\" loading=\"lazy\">\\n<span\\nclass=\"footer-navegue-lista-link --description --partners\">N\\xc3\\xb3s, da Alura, somos uma das Scale-Ups\\nselecionadas pela Endeavor, programa de acelera\\xc3\\xa7\\xc3\\xa3o das empresas que\\nmais crescem no pa\\xc3\\xads.</span></li><li\\nclass=\"footer-navegue-lista-link --description footer-column-cards\">\\n<img\\nsrc=\"/assets/img/footer/google-alumni-2021.1686744881.png\" alt=\"Growth Academy 2021 do Google For Startups\"\\nclass=\"footer-navegue-lista__image\" loading=\"lazy\">\\n<span\\nclass=\"footer-navegue-lista-link --description --partners\">Fomos uma das 7 startups selecionadas pelo\\nGoogle For Startups a participar do programa Growth Academy em\\n2021.</span></li></ul></div></div></footer><section\\nclass=\"footer_categorias-formacoes\"><div\\nclass=\"container\"><div\\nclass=\"footer_categorias_wrapper\"><h2 class=\"footer_categorias_title\">Cursos</h2><div\\nclass=\"footer_categorias_categorias footer-navegue-lista-link\"><div\\nclass=\"footer_categorias_categoria\">\\n<a\\nhref=\"/cursos-online-programacao\">Cursos de Programa\\xc3\\xa7\\xc3\\xa3o</a><div\\nclass=\"footer_categorias_subcategorias\">\\n<a\\nhref=\"/cursos-online-programacao/logica\">\\nL\\xc3\\xb3gica            </a>\\n|                        <a\\nhref=\"/cursos-online-programacao/python\">\\nPython            </a>\\n|                        <a\\nhref=\"/cursos-online-programacao/php\">\\nPHP            </a>\\n|                        <a\\nhref=\"/cursos-online-programacao/java\">\\nJava            </a>\\n|                        <a\\nhref=\"/cursos-online-programacao/dotnet\">\\n.NET            </a>\\n|                        <a\\nhref=\"/cursos-online-programacao/node-js\">\\nNode JS            </a>\\n|                        <a\\nhref=\"/cursos-online-programacao/linguagem-c\">\\nC            </a>\\n|                        <a\\nhref=\"/cursos-online-programacao/computacao\">\\nComputa\\xc3\\xa7\\xc3\\xa3o            </a>\\n|                        <a\\nhref=\"/cursos-online-programacao/jogos\">\\nJogos            </a>\\n|                        <a\\nhref=\"/cursos-online-programacao/internet-das-coisas\">\\nIoT            </a></div></div><div\\nclass=\"footer_categorias_categoria\">\\n<a\\nhref=\"/cursos-online-front-end\">Cursos de Front-end</a><div\\nclass=\"footer_categorias_subcategorias\">\\n<a\\nhref=\"/cursos-online-front-end/front-end\">\\nHTML, CSS            </a>\\n|                        <a\\nhref=\"/cursos-online-front-end/reactjs\">\\nReact            </a>\\n|                        <a\\nhref=\"/cursos-online-front-end/angular\">\\nAngular            </a>\\n|                        <a\\nhref=\"/cursos-online-front-end/javascript\">\\nJavaScript            </a>\\n|                        <a\\nhref=\"/cursos-online-front-end/jquery\">\\njQuery            </a></div></div><div\\nclass=\"footer_categorias_categoria\">\\n<a\\nhref=\"/cursos-online-data-science\">Cursos de Data Science</a><div\\nclass=\"footer_categorias_subcategorias\">\\n<a\\nhref=\"/cursos-online-data-science/data-science\">\\nCi\\xc3\\xaancia de dados            </a>\\n|                        <a\\nhref=\"/cursos-online-data-science/business-intelligence\">\\nBI            </a>\\n|                        <a\\nhref=\"/cursos-online-data-science/sql\">\\nSQL e Banco de Dados            </a>\\n|                        <a\\nhref=\"/cursos-online-data-science/excel\">\\nExcel            </a>\\n|                        <a\\nhref=\"/cursos-online-data-science/machine-learning\">\\nMachine Learning            </a>\\n|                        <a\\nhref=\"/cursos-online-data-science/nosql\">\\nNoSQL            </a>\\n|                        <a\\nhref=\"/cursos-online-data-science/estatistica\">\\nEstat\\xc3\\xadstica            </a></div></div><div\\nclass=\"footer_categorias_categoria\">\\n<a\\nhref=\"/cursos-online-inteligencia-artificial\">Cursos de Intelig\\xc3\\xaancia Artificial</a><div\\nclass=\"footer_categorias_subcategorias\">\\n<a\\nhref=\"/cursos-online-inteligencia-artificial/ia-para-programacao\">\\nIA para Programa\\xc3\\xa7\\xc3\\xa3o            </a>\\n|                        <a\\nhref=\"/cursos-online-inteligencia-artificial/ia-para-dados\">\\nIA para Dados            </a></div></div><div\\nclass=\"footer_categorias_categoria\">\\n<a\\nhref=\"/cursos-online-devops\">Cursos de DevOps</a><div\\nclass=\"footer_categorias_subcategorias\">\\n<a\\nhref=\"/cursos-online-devops/aws\">\\nAWS            </a>\\n|                        <a\\nhref=\"/cursos-online-devops/azure\">\\nAzure            </a>\\n|                        <a\\nhref=\"/cursos-online-devops/containers\">\\nDocker            </a>\\n|                        <a\\nhref=\"/cursos-online-devops/seguranca\">\\nSeguran\\xc3\\xa7a            </a>\\n|                        <a\\nhref=\"/cursos-online-devops/infraestrutura-como-codigo\">\\nIaC            </a>\\n|                        <a\\nhref=\"/cursos-online-devops/linux-comandos-e-processos\">\\nLinux            </a></div></div><div\\nclass=\"footer_categorias_categoria\">\\n<a\\nhref=\"/cursos-online-design-ux\">Cursos de UX & Design</a><div\\nclass=\"footer_categorias_subcategorias\">\\n<a\\nhref=\"/cursos-online-design-ux/ux\">\\nUsabilidade e UX            </a>\\n|                        <a\\nhref=\"/cursos-online-design-ux/video\">\\nV\\xc3\\xaddeo e Motion            </a>\\n|                        <a\\nhref=\"/cursos-online-design-ux/3d\">\\n3D            </a></div></div><div\\nclass=\"footer_categorias_categoria\">\\n<a\\nhref=\"/cursos-online-mobile\">Cursos de Mobile</a><div\\nclass=\"footer_categorias_subcategorias\">\\n<a\\nhref=\"/cursos-online-mobile/react-native\">\\nReact Native            </a>\\n|                        <a\\nhref=\"/cursos-online-mobile/flutter-mobile\">\\nFlutter            </a>\\n|                        <a\\nhref=\"/cursos-online-mobile/ios\">\\niOS e Swift            </a>\\n|                        <a\\nhref=\"/cursos-online-mobile/android\">\\nAndroid, Kotlin            </a>\\n|                        <a\\nhref=\"/cursos-online-mobile/jogos\">\\nJogos            </a></div></div><div\\nclass=\"footer_categorias_categoria\">\\n<a\\nhref=\"/cursos-online-inovacao-gestao\">Cursos de Inova\\xc3\\xa7\\xc3\\xa3o & Gest\\xc3\\xa3o</a><div\\nclass=\"footer_categorias_subcategorias\">\\n<a\\nhref=\"/cursos-online-inovacao-gestao/agilidade\">\\nM\\xc3\\xa9todos \\xc3\\x81geis            </a>\\n|                        <a\\nhref=\"/cursos-online-inovacao-gestao/softskills-carreira\">\\nSoftskills            </a>\\n|                        <a\\nhref=\"/cursos-online-inovacao-gestao/gestao-corporativa\">\\nLideran\\xc3\\xa7a e Gest\\xc3\\xa3o            </a>\\n|                        <a\\nhref=\"/cursos-online-inovacao-gestao/startup-empreendedorismo\">\\nStartups            </a>\\n|                        <a\\nhref=\"/cursos-online-inovacao-gestao/vendas\">\\nVendas            </a></div></div></div></div></div></section><style>@media not all and (min-width: 1024px) {\\n\\t\\t\\t.grupoCaelum {\\n\\t\\t\\t\\tdisplay: none;\\n\\t\\t\\t}\\n\\t\\t}\\n\\n\\t\\t.grupoCaelum {\\n\\t\\t\\tbackground: #fff;\\n\\t\\t\\theight: 400px;\\n\\t\\t\\tborder-top: 1px solid #EBEBEE;\\n\\t\\t}\\n\\n\\t\\t.grupoCaelum .container {\\n\\t\\t\\tdisplay: flex;\\n\\t\\t\\tjustify-content: space-between;\\n\\t\\t\\talign-items: flex-start;\\n\\t\\t\\tpadding-top: 0;\\n\\t\\t\\tpadding-bottom: 0;\\n\\t\\t\\theight: 100%;\\n\\t\\t}\\n\\n\\t\\t.grupoCaelum-list {\\n\\t\\t\\tdisplay: flex;\\n\\t\\t\\tlist-style: none;\\n\\t\\t\\twidth: 80%;\\n\\t\\t\\tjustify-content: space-between;\\n\\t\\t\\talign-items: flex-start;\\n\\t\\t\\tmargin-top: 1.25rem;\\n\\t\\t}\\n\\n\\t\\t.grupoCaelum-title {\\n\\t\\t\\twidth: 20%;\\n\\t\\t}\\n\\n\\t\\t.grupoCaelum-column {\\n\\t\\t\\tdisplay: inline-block;\\n\\t\\t\\tpadding-left: 1.1875rem;\\n\\t\\t\\twidth: 240px;\\n\\t\\t\\theight: 350px;\\n\\t\\t\\tmin-width: 160px;\\n\\t\\t}\\n\\n\\t\\t.grupoCaelum-column-title {\\n\\t\\t\\tfont-size: 0.625rem;\\n\\t\\t\\tcolor: #d7e0e5;\\n\\t\\t\\ttext-transform: uppercase;\\n\\t\\t\\tfont-weight: 600;\\n\\t\\t\\tmargin-bottom: 1.1875rem;\\n\\t\\t}\\n\\n\\t\\t.grupoCaelum-column-list {\\n\\t\\t\\tlist-style: none;\\n\\t\\t}\\n\\n\\t\\t.column-item-title {\\n\\t\\t\\tfont-size: 0.6875rem;\\n\\t\\t\\ttext-align: center;\\n\\t\\t\\tvertical-align: middle;\\n\\t\\t\\tdisplay: inline-block;\\n\\t\\t\\tmargin-left: 0.375rem;\\n\\t\\t}\\n\\n\\t\\t.grupoCaelum-column:not(:first-child) {\\n\\t\\t\\tborder-left: solid 1px #e3e9ed;\\n\\t\\t}\\n\\n\\t\\t.grupoCaelum-title {\\n\\t\\t\\tdisplay: inline-block;\\n\\t\\t\\ttext-decoration: none;\\n\\t\\t\\tcolor: #657176;\\n\\t\\t\\tletter-spacing: normal;\\n\\t\\t\\tfont-size: 1.125rem;\\n\\t\\t\\tmargin-top: 3.375rem;\\n\\t\\t}\\n\\n\\t\\t.column-item-logo {\\n\\t\\t\\twidth: 30px;\\n\\t\\t\\theight: 30px;\\n\\t\\t\\tvertical-align: middle;\\n\\t\\t\\tdisplay: inline-block;\\n\\t\\t}\\n\\n\\t\\t.column-item {\\n\\t\\t\\tmargin-bottom: 1.0625rem;\\n\\t\\t}\\n\\n\\t\\t.column-item a {\\n\\t\\t\\ttext-decoration: none;\\n\\t\\t\\tcolor: #657176;\\n\\t\\t\\tdisplay: flex;\\n\\t\\t\\talign-items: center;\\n\\t\\t}</style><footer\\nclass=\"caelum-footer\" id=\"caelum-footer\"><div\\nclass=\"grupoCaelum\"><div\\nclass=\"container\"><p\\nclass=\"grupoCaelum-title\">Alura</p><ul\\nclass=\"grupoCaelum-list\"><li\\nclass=\"grupoCaelum-column\"><p\\nclass=\"grupoCaelum-column-title\">Educa\\xc3\\xa7\\xc3\\xa3o em Tecnologia</p><ul\\nclass=\"grupoCaelum-column-list\"><li\\nclass=\"column-item\">\\n<a\\ntarget=\"_blank\" href=\"https://www.fiap.com.br/\">\\n<img\\nclass=\"column-item-logo\" src=\"https://www.alura.com.br/assets/img/caelumFooter/fiap.1686744881.svg\" alt=\"logo fiap\" loading=\"lazy\" />\\n<span\\nclass=\"column-item-title\">FIAP</span>\\n</a></li><li\\nclass=\"column-item\">\\n<a\\ntarget=\"_blank\" href=\"https://www.casadocodigo.com.br\">\\n<img\\nclass=\"column-item-logo\" src=\"https://www.alura.com.br/assets/img/caelumFooter/cdc.1686744881.svg\" alt=\"logo casa do codigo\" loading=\"lazy\" />\\n<span\\nclass=\"column-item-title\">Casa do C\\xc3\\xb3digo</span>\\n</a></li><li\\nclass=\"column-item\">\\n<a\\ntarget=\"_blank\" style=\"fill: #657176\" href=\"https://www.cursospm3.com.br/\">\\n<img\\nclass=\"column-item-logo\" src=\"https://www.alura.com.br/assets/img/caelumFooter/pm3.1686744881.svg\" alt=\"logo pm3\" loading=\"lazy\" />\\n<span\\nclass=\"column-item-title\">PM3 - Cursos de Produto</span>\\n</a></li></ul></li><li\\nclass=\"grupoCaelum-column\"><p\\nclass=\"grupoCaelum-column-title\">Mais Alura</p><ul\\nclass=\"grupoCaelum-column-list\"><li\\nclass=\"column-item\">\\n<a\\ntarget=\"_blank\" href=\"https://www.alurastart.com.br\">\\n<img\\nclass=\"column-item-logo\" src=\"https://www.alura.com.br/assets/img/caelumFooter/alurastart.1686744881.svg\" alt=\"logo alura start\" loading=\"lazy\" />\\n<span\\nclass=\"column-item-title\">Alura Start</span>\\n</a></li><li\\nclass=\"column-item\">\\n<a\\ntarget=\"_blank\" href=\"https://www.aluralingua.com.br\">\\n<img\\nclass=\"column-item-logo\" src=\"https://www.alura.com.br/assets/img/caelumFooter/aluralingua.1686744881.svg\" alt=\"logo alura lingua\" loading=\"lazy\" />\\n<span\\nclass=\"column-item-title\">Alura L\\xc3\\xadngua</span>\\n</a></li><li\\nclass=\"column-item\">\\n<a\\ntarget=\"_blank\" href=\"https://www.alura.com.br/empresas\">\\n<img\\nclass=\"column-item-logo\" src=\"https://www.alura.com.br/assets/img/caelumFooter/alura-empresas.1686744881.svg\" alt=\"logo alura para empresas\" loading=\"lazy\" />\\n<span\\nclass=\"column-item-title\">Alura Para Empresas</span>\\n</a></li><li\\nclass=\"column-item\">\\n<a\\ntarget=\"_blank\" href=\"https://www.aluracursos.com\">\\n<img\\nclass=\"column-item-logo\" src=\"https://www.alura.com.br/assets/img/caelumFooter/alura.1686744881.svg\" alt=\"logo alura latam\" loading=\"lazy\" />\\n<span\\nclass=\"column-item-title\">Alura LATAM</span>\\n</a></li></ul></li><li\\nclass=\"grupoCaelum-column\"><p\\nclass=\"grupoCaelum-column-title\">Comunidade</p><ul\\nclass=\"grupoCaelum-column-list\"><li\\nclass=\"column-item\">\\n<a\\ntarget=\"_blank\" href=\"\\nhttps://techguide.sh/\\t\\t\\t\\t\\t\\t\\t\\t\">\\n<img\\nclass=\"column-item-logo\" src=\"https://www.alura.com.br/assets/img/caelumFooter/techguide.1686744881.svg\" alt=\"logo tech guide\" loading=\"lazy\" />\\n<span\\nclass=\"column-item-title\">Tech Guide</span>\\n</a></li><li\\nclass=\"column-item\">\\n<a\\ntarget=\"_blank\" href=\"https://7daysofcode.io/\">\\n<img\\nclass=\"column-item-logo\" src=\"https://www.alura.com.br/assets/img/caelumFooter/7days.1686744881.svg\" alt=\"logo 7 days of code\"loading=\"lazy\" />\\n<span\\nclass=\"column-item-title\">7 days of code</span>\\n</a></li><li\\nclass=\"column-item\">\\n<a\\ntarget=\"_blank\" href=\"https://hipsters.jobs\">\\n<img\\nclass=\"column-item-logo\" src=\"https://www.alura.com.br/assets/img/caelumFooter/hipstersjobs.1686744881.svg\" alt=\"logo Hipsters ponto Jobs\" loading=\"lazy\" />\\n<span\\nclass=\"column-item-title\">Hipsters ponto Jobs</span>\\n</a></li></ul></li><li\\nclass=\"grupoCaelum-column\"><p\\nclass=\"grupoCaelum-column-title\">Podcasts</p><ul\\nclass=\"grupoCaelum-column-list\"><li\\nclass=\"column-item\">\\n<a\\ntarget=\"_blank\" href=\"https://hipsters.tech\">\\n<img\\nclass=\"column-item-logo\" src=\"https://www.alura.com.br/assets/img/caelumFooter/hipsterstech.1686744881.svg\" alt=\"logo Hipsters ponto Tech\" loading=\"lazy\" />\\n<span\\nclass=\"column-item-title\">Hipsters ponto Tech</span>\\n</a></li><li\\nclass=\"column-item\">\\n<a\\ntarget=\"_blank\" href=\"https://www.devsemfronteiras.tech/\">\\n<img\\nclass=\"column-item-logo\" src=\"https://www.alura.com.br/assets/img/caelumFooter/devsemfronteiras.1686744881.svg\" alt=\"logo Dev sem fronteiras\" loading=\"lazy\" />\\n<span\\nclass=\"column-item-title\">Dev sem Fronteiras</span>\\n</a></li><li\\nclass=\"column-item\">\\n<a\\ntarget=\"_blank\" href=\"https://layerspontotech.com.br\">\\n<img\\nclass=\"column-item-logo\" src=\"https://www.alura.com.br/assets/img/caelumFooter/layerstech.1686744881.svg\" alt=\"logo Layers ponto Tech\" loading=\"lazy\" />\\n<span\\nclass=\"column-item-title\">Layers ponto Tech</span>\\n</a></li><li\\nclass=\"column-item\">\\n<a\\ntarget=\"_blank\" href=\"https://scuba.dev.br\">\\n<img\\nclass=\"column-item-logo\" src=\"https://www.alura.com.br/assets/img/caelumFooter/scubadev.1686744881.svg\" alt=\"logo Scuba Dev\" loading=\"lazy\" />\\n<span\\nclass=\"column-item-title\">Scuba Dev</span>\\n</a></li><li\\nclass=\"column-item\">\\n<a\\ntarget=\"_blank\" href=\"https://bolhadev.tech/\">\\n<img\\nclass=\"column-item-logo\" src=\"https://www.alura.com.br/assets/img/caelumFooter/bolhadev.1686744881.svg\" alt=\"logo bolha dev\" loading=\"lazy\" />\\n<span\\nclass=\"column-item-title\">Bolha Dev</span>\\n</a></li></ul></li></ul></div></div></footer> <script>(function(){\\n    var match = location.pathname.match(/\\\\/(bf-|black-?friday\\\\/)([^\\\\/]+)/);\\n    if (match != null) {\\n        var links = document.querySelectorAll(\\'a[href]\\');\\n        for (var i = 0; i < links.length; i++) {\\n            var href = links[i].getAttribute(\\'href\\');\\n            if (href[0] === \\'/\\') {\\n                links[i].setAttribute(\\'href\\', \\'/bf-\\' + match[2] + href);\\n            }\\n        }\\n    }\\n})();</script> <script src=\"https://ajax.googleapis.com/ajax/libs/jquery/3.6.0/jquery.min.js\" async></script> <script src=\"//cdnjs.cloudflare.com/ajax/libs/highlight.js/10.4.0/highlight.min.js\"></script> <script>hljs.initHighlightingOnLoad();</script> <script src=\"/assets/js/lib/svg4everybody.min.1686744882.js\" async></script> <script src=\"/assets/js/footer/footer.1686744882.js\" defer></script> <script src=\"/assets/js/header/menu.1697825058.js\" defer></script> <script src=\"/assets/js/header/busca.1687365821.js\" defer></script> <script src=\"/assets/js/header/cursos.1686744882.js\" defer></script> <script src=\"/assets/js/detect.1686744882.js\" async></script> <script src=\"/assets/js/video.1686744882.js\" defer></script> <script src=\"/assets/js/countdown.1694034423.js\" async></script> <script src=\"/assets/js/header/cookie-influencer.1694459927.js\" async></script> <script src=\"/assets/js/trackers.1695077951.js\" async></script> <script src=\"/assets/js/courseIconFallback.1686744882.js\" defer></script> <script src=\"https://static.criteo.net/js/ld/ld.js\" async></script> <script>function criteoPush(event, data){\\n\\t\\tvar isAluno = document.cookie.match(\\'alura.userId=([^;]+)\\') != null;\\n\\t\\tif(isAluno) return;\\n\\n\\t\\twindow.criteo_q = window.criteo_q || [];\\n\\n\\t\\tif (event == \\'viewHome\\')\\n\\t\\t\\tvar dt = { event: event}\\n\\t\\telse\\n\\t\\t\\tvar dt = { event: event, item: data};\\n\\n\\t\\twindow.criteo_q.push(\\n\\t\\t\\t{ event: \"setAccount\", account: 28037 },\\n\\t\\t\\t{ event: \"setEmail\", email: \"\" },\\n\\t\\t\\t{ event: \"setSiteType\", type: (/iPad/.test(navigator.userAgent) ? \"t\" : (/Mobile|iP(hone|od)|Android|BlackBerry|IEMobile/.test(navigator.userAgent) ? \"m\" : \"d\")) },\\n\\t\\t\\tdt\\n\\t\\t);\\t\\n\\t};\\n\\n\\t\\t\\tcriteoPush(\"viewHome\", \"\");\\n\\t\\n\\t\\tvar criteoIdEl = document.querySelector(\\'[data-criteo-id]\\');\\n\\tif (criteoIdEl) {\\n        var products = JSON.parse(criteoIdEl.dataset.criteoId);\\n        var planos = document.querySelectorAll(\\'[data-payment-plan]\\');\\n\\n        planos.forEach(function (plano) {\\n            plano.addEventListener(\\'click\\', function (event) {\\n\\t\\t\\t\\tvar price = plano.dataset.paymentPlanPrice;\\n                var totalProducts = products.length;\\n\\t\\t\\t\\tvar productIds = \\'\\';\\n\\n                for(var i = 0; i < totalProducts; i++){\\n                    products[i][\\'price\\'] = price;\\n                    products[i][\\'quantity\\'] = 1;\\n\\t\\t\\t\\t\\tproductIds += \\',\\' + products[i][\\'id\\'];\\n                }\\n\\n\\t\\t\\t\\tproductIds = productIds.substr(1);\\n\\n\\t\\t\\t\\t// monta cookie pro Cart indicando quais cursos foram clicados\\n        \\t\\tdocument.cookie = \"criteo.productIds=\" + productIds + \"; path=/; domain=.alura.com.br\";\\n\\n\\t\\t\\t\\t// manda pro criteo\\n                criteoPush(\"viewBasket\", products);\\n            });\\n        });\\n\\n\\n\\t}</script> <script type=\"text/javascript\">_linkedin_partner_id = \"465017\";\\n\\t\\t\\twindow._linkedin_data_partner_ids = window._linkedin_data_partner_ids || [];\\n\\t\\t\\twindow._linkedin_data_partner_ids.push(_linkedin_partner_id);</script> <script type=\"text/javascript\">(function(){var s = document.getElementsByTagName(\"script\")[0];\\n\\t\\t\\tvar b = document.createElement(\"script\");\\n\\t\\t\\tb.type = \"text/javascript\";b.async = true;\\n\\t\\t\\tb.src = \"https://snap.licdn.com/li.lms-analytics/insight.min.js\";\\n\\t\\t\\ts.parentNode.insertBefore(b, s);})();</script> <noscript>\\n<img\\nheight=\"1\" width=\"1\" style=\"display:none;\" alt=\"\"\\nsrc=\"https://dc.ads.linkedin.com/collect/?pid=465017&fmt=gif\" />\\n</noscript> <script src=\"/assets/js/videoPlayer-cover.1690557002.js\" async></script> <script src=\"/assets/js/convertImgToSVG.1686744882.js\" async></script> <script src=\"/assets/js/artigos/glider.min.1686744882.js\" async></script> <script src=\"/assets/js/home/slideCases.1686744882.js\" async></script> </body></html>'"
            ]
          },
          "execution_count": 4,
          "metadata": {},
          "output_type": "execute_result"
        }
      ],
      "source": [
        "from urllib.request import Request, urlopen\n",
        "from urllib.error import URLError, HTTPError\n",
        "\n",
        "url = 'https://www.alura.com.br'\n",
        "headers = {'User-Agent':'Mozilla/5.0 (Windows NT 10.0; Win64; x64) AppleWebKit/537.36 (KHTML, like Gecko) Chrome/118.0.0.0 Safari/537.36'}\n",
        "req = Request(url, headers=headers)\n",
        "response = urlopen(req)\n",
        "html = response.read()\n",
        "html\n"
      ]
    },
    {
      "cell_type": "markdown",
      "metadata": {
        "id": "Mx3YmS7f-YJ2"
      },
      "source": [
        "# 2.3. Tratamiento de string"
      ]
    },
    {
      "cell_type": "code",
      "execution_count": 5,
      "metadata": {
        "id": "Ax-dGjUn-YJ2"
      },
      "outputs": [],
      "source": [
        "from urllib.request import urlopen\n",
        "\n",
        "url = \"https://carros.tucarro.com.co/atlantico/_all*payment*methods*discount_cash*discount\"\n",
        "\n"
      ]
    },
    {
      "cell_type": "markdown",
      "metadata": {
        "id": "SqtEwaTAVkkU"
      },
      "source": []
    },
    {
      "cell_type": "markdown",
      "metadata": {
        "id": "WaYaYkEm-YJ3"
      },
      "source": [
        "### Convirtiendo el tipo bytes a string"
      ]
    },
    {
      "cell_type": "code",
      "execution_count": null,
      "metadata": {
        "id": "KaoMUyst-YJ3"
      },
      "outputs": [],
      "source": []
    },
    {
      "cell_type": "markdown",
      "metadata": {
        "id": "uupWIxuI-YJ3"
      },
      "source": [
        "### Eliminando los caracteres de tabulación, salto de línea etc."
      ]
    },
    {
      "cell_type": "code",
      "execution_count": null,
      "metadata": {
        "id": "S1hEdriC-YJ3",
        "scrolled": true
      },
      "outputs": [],
      "source": []
    },
    {
      "cell_type": "markdown",
      "metadata": {
        "id": "wG0n7pSP-YJ4"
      },
      "source": [
        "### Eliminando los espacios en blanco entre las TAGS"
      ]
    },
    {
      "cell_type": "code",
      "execution_count": null,
      "metadata": {
        "id": "cxCfbOxp-YJ4",
        "scrolled": true
      },
      "outputs": [],
      "source": []
    },
    {
      "cell_type": "markdown",
      "metadata": {
        "id": "GJQh5YFD-YJ4"
      },
      "source": [
        "### Función de tratamiento de strings"
      ]
    },
    {
      "cell_type": "code",
      "execution_count": null,
      "metadata": {
        "id": "i1EW0iPL-YJ4",
        "scrolled": true
      },
      "outputs": [],
      "source": [
        "\n"
      ]
    },
    {
      "cell_type": "markdown",
      "metadata": {
        "id": "fba046yhegnN"
      },
      "source": [
        "# <font color=green>3. INTRODUCCIÓN AL BEAUTIFULSOUP"
      ]
    },
    {
      "cell_type": "markdown",
      "metadata": {
        "id": "ToF0LOOfemaG"
      },
      "source": [
        "# 3.1. HTML de nuestra página"
      ]
    },
    {
      "cell_type": "markdown",
      "metadata": {
        "id": "VIcBvmK1-YJ5"
      },
      "source": [
        "**HTML** (*HyperText Markup Language*) es un lenguaje de marcación compuesto por **tags** que determinan el papel que cada parte del documento va a asumir. Las **tags** son formadas por su nombre y atributos. Los atributos sirven para configurar y también modificar las características estándar de una **tag**.\n",
        "\n",
        "## Estructura básica\n",
        "\n",
        "```html\n",
        "<html>\n",
        "    <head>\n",
        "        <meta charset=\"utf-8\" />\n",
        "        <title>Web Scraping con Alura</title>\n",
        "    </head>\n",
        "    <body>\n",
        "        <div id=\"container\">\n",
        "            <h1>Alura</h1>\n",
        "            <h2 class=\"formato\">Cursos de Tecnología</h2>\n",
        "            <p>Usted va a estudiar, practicar, discutir y aprender.</p>\n",
        "            <a href=\"https://www.alura.com.br/\">Haga click aquí</a>\n",
        "        </div>\n",
        "    </body>\n",
        "</html>\n",
        "```\n",
        "\n",
        "```<html>``` - determina el inicio del documento.\n",
        "\n",
        "```<head>``` - encabezado. Contiene información y configuración del documento.\n",
        "\n",
        "```<body>``` - es el cuerpo del documento, donde todo el contenido es colocado. Esta es la parte visible en un navegador.\n",
        "\n",
        "## Tags más comunes\n",
        "\n",
        "```<div>``` - define una división de la página. Puede ser formateada de diversas maneras.\n",
        "\n",
        "```<h1>, <h2>, <h3>, <h4>, <h5>, <h6>``` - marcadores de títulos.\n",
        "\n",
        "```<p>``` - marcador de párrafo.\n",
        "\n",
        "```<a>``` - hiperlink.\n",
        "\n",
        "```<img>``` - exibición de imágenes.\n",
        "\n",
        "```<table>``` - definición de tablas.\n",
        "\n",
        "```<ul>, <li>``` - definición de listas.\n"
      ]
    },
    {
      "cell_type": "markdown",
      "metadata": {
        "id": "Kj94EgvFwogH"
      },
      "source": []
    },
    {
      "cell_type": "markdown",
      "metadata": {
        "id": "FK32Zn2d-YJ5"
      },
      "source": [
        "# 3.2. Creando un objeto BeautifulSoup"
      ]
    },
    {
      "cell_type": "markdown",
      "metadata": {
        "id": "fYFk-94s-YJ6"
      },
      "source": [
        "## https://www.crummy.com/software/BeautifulSoup/\n",
        "\n",
        "### Sobre parser ver: https://www.crummy.com/software/BeautifulSoup/bs4/doc/#parser-installation"
      ]
    },
    {
      "cell_type": "code",
      "execution_count": 6,
      "metadata": {
        "id": "PTdk10aZ-YJ6",
        "scrolled": true
      },
      "outputs": [],
      "source": [
        "from bs4 import BeautifulSoup\n"
      ]
    },
    {
      "cell_type": "markdown",
      "metadata": {
        "id": "a4kvXQLt-YJ6"
      },
      "source": [
        "# 3.3. Accesando tags"
      ]
    },
    {
      "cell_type": "code",
      "execution_count": null,
      "metadata": {
        "id": "Usbv6Y5XK36Y"
      },
      "outputs": [],
      "source": []
    },
    {
      "cell_type": "code",
      "execution_count": null,
      "metadata": {
        "id": "sJCZZzxX-YJ6"
      },
      "outputs": [],
      "source": []
    },
    {
      "cell_type": "code",
      "execution_count": null,
      "metadata": {
        "id": "g6r-w-NgK22O"
      },
      "outputs": [],
      "source": []
    },
    {
      "cell_type": "code",
      "execution_count": null,
      "metadata": {
        "id": "q4b1ly_wK3o-"
      },
      "outputs": [],
      "source": []
    },
    {
      "cell_type": "markdown",
      "metadata": {
        "id": "9g8pnwMa-YJ6"
      },
      "source": [
        "# 3.4. Accesando el contenido de las tags"
      ]
    },
    {
      "cell_type": "code",
      "execution_count": null,
      "metadata": {
        "id": "eVrfUOrX-YJ7"
      },
      "outputs": [],
      "source": []
    },
    {
      "cell_type": "code",
      "execution_count": null,
      "metadata": {
        "id": "zanouznzOT1M"
      },
      "outputs": [],
      "source": []
    },
    {
      "cell_type": "code",
      "execution_count": null,
      "metadata": {
        "id": "DeXxKj2yOT3P"
      },
      "outputs": [],
      "source": []
    },
    {
      "cell_type": "code",
      "execution_count": null,
      "metadata": {
        "id": "-d89Ko0GOT5y"
      },
      "outputs": [],
      "source": []
    },
    {
      "cell_type": "code",
      "execution_count": null,
      "metadata": {
        "id": "24yiauegOT9V"
      },
      "outputs": [],
      "source": []
    },
    {
      "cell_type": "markdown",
      "metadata": {
        "id": "fEAjj5cX-YJ7"
      },
      "source": [
        "# 3.5. Accesando los atributos de una tag"
      ]
    },
    {
      "cell_type": "code",
      "execution_count": null,
      "metadata": {
        "id": "6xCJkbaV-YJ7"
      },
      "outputs": [],
      "source": []
    },
    {
      "cell_type": "code",
      "execution_count": null,
      "metadata": {
        "id": "79yPMvmid5Ry"
      },
      "outputs": [],
      "source": []
    },
    {
      "cell_type": "code",
      "execution_count": null,
      "metadata": {
        "id": "luMMJz4demdZ"
      },
      "outputs": [],
      "source": []
    },
    {
      "cell_type": "code",
      "execution_count": null,
      "metadata": {
        "id": "uCQNKFGdeuPY"
      },
      "outputs": [],
      "source": []
    },
    {
      "cell_type": "code",
      "execution_count": null,
      "metadata": {
        "id": "hveoICgYd5Uu"
      },
      "outputs": [],
      "source": []
    },
    {
      "cell_type": "code",
      "execution_count": null,
      "metadata": {
        "id": "4IrdXyFNd5W1"
      },
      "outputs": [],
      "source": []
    },
    {
      "cell_type": "markdown",
      "metadata": {
        "id": "i_FHvPbA-YJ7"
      },
      "source": [
        "---\n",
        "# <font color=green>4. BUSCANDO CON EL BEAUTIFULSOUP"
      ]
    },
    {
      "cell_type": "markdown",
      "metadata": {
        "id": "E7XhWEfN-YJ7"
      },
      "source": [
        "# 4.1. Los métodos *find()* y *findAll()*"
      ]
    },
    {
      "cell_type": "markdown",
      "metadata": {
        "id": "s0tHokJm-YJ8"
      },
      "source": [
        "- ### *find(tag, attributes, recursive, text, **kwargs)*\n",
        "\n",
        "- ### *findAll(tag, attributes, recursive, text, limit, **kwargs)*\n",
        "\n",
        "#### https://www.crummy.com/software/BeautifulSoup/bs4/doc/#find\n",
        "#### https://www.crummy.com/software/BeautifulSoup/bs4/doc/#find-all\n",
        "\n",
        "> **Observación:**\n",
        "> - *findAll()* también puede ser utilizado como *find_all()*"
      ]
    },
    {
      "cell_type": "markdown",
      "metadata": {
        "id": "3mPdvFw7-YJ8"
      },
      "source": [
        "### Método *find()*"
      ]
    },
    {
      "cell_type": "code",
      "execution_count": null,
      "metadata": {
        "id": "0fOCcjk7-YJ8"
      },
      "outputs": [],
      "source": []
    },
    {
      "cell_type": "markdown",
      "metadata": {
        "id": "0dBoaLQd-YJ8"
      },
      "source": [
        "### Método *findAll()*"
      ]
    },
    {
      "cell_type": "code",
      "execution_count": null,
      "metadata": {
        "id": "ZwATGogd-YJ9"
      },
      "outputs": [],
      "source": []
    },
    {
      "cell_type": "code",
      "execution_count": null,
      "metadata": {
        "id": "BmfhHCGGnllc"
      },
      "outputs": [],
      "source": []
    },
    {
      "cell_type": "markdown",
      "metadata": {
        "id": "Ab2KvCqw-YJ9"
      },
      "source": [
        "### Comando equivalente al método *find()*"
      ]
    },
    {
      "cell_type": "code",
      "execution_count": null,
      "metadata": {
        "id": "RDpOjhcs-YJ9"
      },
      "outputs": [],
      "source": []
    },
    {
      "cell_type": "markdown",
      "metadata": {
        "id": "3vt_qXkm-YJ9"
      },
      "source": [
        "### Atajo para el método *findAll()*"
      ]
    },
    {
      "cell_type": "code",
      "execution_count": null,
      "metadata": {
        "id": "6eHOD2Cg-YJ9"
      },
      "outputs": [],
      "source": []
    },
    {
      "cell_type": "markdown",
      "metadata": {
        "id": "rcNtvXEg-YJ9"
      },
      "source": [
        "### Pasando listas de TAGs"
      ]
    },
    {
      "cell_type": "code",
      "execution_count": null,
      "metadata": {
        "id": "KUs7kosn-YJ-"
      },
      "outputs": [],
      "source": []
    },
    {
      "cell_type": "markdown",
      "metadata": {
        "id": "vTR4Xf91-YJ-"
      },
      "source": [
        "### Utilizando el argumento *attributes*"
      ]
    },
    {
      "cell_type": "code",
      "execution_count": null,
      "metadata": {
        "id": "FYWcHfXO-YJ-",
        "scrolled": true
      },
      "outputs": [],
      "source": []
    },
    {
      "cell_type": "markdown",
      "metadata": {
        "id": "3pbEtRbd-YJ-"
      },
      "source": [
        "### Buscando el contenido de una TAG"
      ]
    },
    {
      "cell_type": "code",
      "execution_count": null,
      "metadata": {
        "id": "OyBesJGp-YJ-"
      },
      "outputs": [],
      "source": []
    },
    {
      "cell_type": "code",
      "execution_count": null,
      "metadata": {
        "id": "-OW-guedr7CO"
      },
      "outputs": [],
      "source": []
    },
    {
      "cell_type": "markdown",
      "metadata": {
        "id": "ywbbjaM6-YJ_"
      },
      "source": [
        "### Utilizando directamente los atributos"
      ]
    },
    {
      "cell_type": "code",
      "execution_count": null,
      "metadata": {
        "id": "HKNbfpC5-YJ_"
      },
      "outputs": [],
      "source": []
    },
    {
      "cell_type": "markdown",
      "metadata": {
        "id": "9I4BgkIw-YJ_"
      },
      "source": [
        "### Cuidado con el atributo \"class\""
      ]
    },
    {
      "cell_type": "code",
      "execution_count": null,
      "metadata": {
        "id": "7qvpyz2l-YJ_"
      },
      "outputs": [],
      "source": []
    },
    {
      "cell_type": "markdown",
      "metadata": {
        "id": "rXAsxAAE-YJ_"
      },
      "source": [
        "### Obteniendo todo el contenido de texto de una página"
      ]
    },
    {
      "cell_type": "code",
      "execution_count": null,
      "metadata": {
        "id": "roQA57J6-YKA"
      },
      "outputs": [],
      "source": []
    },
    {
      "cell_type": "markdown",
      "metadata": {
        "id": "5y4ffFVe-YKA"
      },
      "source": [
        "# 4.2. Otros métodos de búsqueda"
      ]
    },
    {
      "cell_type": "markdown",
      "metadata": {
        "id": "jKdU9-Kf-YKA"
      },
      "source": [
        "- ### *findParent(tag, attributes, text, **kwargs)*\n",
        "\n",
        "- ### *findParents(tag, attributes, text, limit, **kwargs)*\n",
        "\n",
        "#### https://www.crummy.com/software/BeautifulSoup/bs4/doc/#find-parents-and-find-parent\n",
        "\n",
        "> **Observación:**\n",
        "> - *findParent()* y *findParents()* también pueden ser utilizados como *find_parent()* y *find_parents()*, respectivamente.\n",
        "---\n",
        "- ### *findNextSibling(tag, attributes, text, **kwargs)*\n",
        "\n",
        "- ### *findNextSiblings(tag, attributes, text, limit, **kwargs)*\n",
        "\n",
        "- ### *findPreviousSibling(tag, attributes, text, **kwargs)*\n",
        "\n",
        "- ### *findPreviousSiblings(tag, attributes, text, limit, **kwargs)*\n",
        "\n",
        "#### https://www.crummy.com/software/BeautifulSoup/bs4/doc/#find-next-siblings-and-find-next-sibling\n",
        "#### https://www.crummy.com/software/BeautifulSoup/bs4/doc/#find-previous-siblings-and-find-previous-sibling\n",
        "\n",
        "> **Observación:**\n",
        "> - *findNextSibling()*, *findNextSiblings()*, *findPreviousSibling()* y *findPreviousSiblings()* también pueden ser utilizados como *find_next_sibling()*, *find_next_siblings()*, *find_previous_sibling()* y *find_previous_siblings()*, respectivamente.\n",
        "---\n",
        "- ### *findNext(tag, attributes, text, **kwargs)*\n",
        "\n",
        "- ### *findAllNext(tag, attributes, text, limit, **kwargs)*\n",
        "\n",
        "- ### *findPrevious(tag, attributes, text, **kwargs)*\n",
        "\n",
        "- ### *findAllPrevious(tag, attributes, text, limit, **kwargs)*\n",
        "\n",
        "#### https://www.crummy.com/software/BeautifulSoup/bs4/doc/#find-all-next-and-find-next\n",
        "#### https://www.crummy.com/software/BeautifulSoup/bs4/doc/#find-all-previous-and-find-previous\n",
        "\n",
        "> **Observación:**\n",
        "> - *findNext()*, *findAllNext()*, *findPrevious* y *findAllPrevious* también pueden ser utilizados como *find_next()*, *find_all_next()*, *find_previous()* y *find_all_previous()*, respectivamente."
      ]
    },
    {
      "cell_type": "markdown",
      "metadata": {
        "id": "6df1DgjE-YKA"
      },
      "source": [
        "## HTML de ejemplo para ilustrar la utilización de los métodos de búsqueda del BeautifulSoup"
      ]
    },
    {
      "cell_type": "markdown",
      "metadata": {
        "id": "xR3VfPbB-YKB"
      },
      "source": [
        "<img src=\"https://caelum-online-public.s3.amazonaws.com/1381-scraping/01/BeautifulSoup-method.png\" width=80%>"
      ]
    },
    {
      "cell_type": "markdown",
      "metadata": {
        "id": "-GIwkDcN-YKB"
      },
      "source": [
        "---\n",
        "## Resultado"
      ]
    },
    {
      "cell_type": "markdown",
      "metadata": {
        "id": "QJ4MQeXQ-YKB"
      },
      "source": [
        "<html>\n",
        "    <body>\n",
        "        <div id=“container-a”>\n",
        "            <h1>Título A</h1>\n",
        "            <h2 class=\"ref-a\">Sub título A</h2>\n",
        "            <p>Texto de contenido A</p>\n",
        "        </div>\n",
        "        <div id=“container-b”>\n",
        "            <h1>Título B</h1>\n",
        "            <h2 class=\"ref-b\">Sub título B</h2>\n",
        "            <p>Texto de contenido B</p>\n",
        "        </div>\n",
        "    </body>\n",
        "</html>"
      ]
    },
    {
      "cell_type": "code",
      "execution_count": 7,
      "metadata": {
        "id": "NO_q0IaC-YKB"
      },
      "outputs": [],
      "source": [
        "test_html = \"\"\" <html>\n",
        "    <body>\n",
        "        <div id=“container-a”>\n",
        "            <h1>Título A</h1>\n",
        "            <h2 class=\"ref-a\">Sub título A</h2>\n",
        "            <p>Texto de contenido A</p>\n",
        "        </div>\n",
        "        <div id=“container-b”>\n",
        "            <h1>Título B</h1>\n",
        "            <h2 class=\"ref-b\">Sub título B</h2>\n",
        "            <p>Texto de contenido B</p>\n",
        "        </div>\n",
        "    </body>\n",
        "</html> \"\"\""
      ]
    },
    {
      "cell_type": "markdown",
      "metadata": {
        "id": "kR0HlM-8-YKC"
      },
      "source": [
        "### Tratamientos para la string HTML"
      ]
    },
    {
      "cell_type": "code",
      "execution_count": null,
      "metadata": {
        "id": "Ti_dKjIa-YKC"
      },
      "outputs": [],
      "source": []
    },
    {
      "cell_type": "markdown",
      "metadata": {
        "id": "HfAB_zTi-YKC"
      },
      "source": [
        "### Creando el objeto BeautifulSoup"
      ]
    },
    {
      "cell_type": "code",
      "execution_count": null,
      "metadata": {
        "id": "m1-GcBjM-YKC",
        "scrolled": true
      },
      "outputs": [],
      "source": []
    },
    {
      "cell_type": "markdown",
      "metadata": {
        "id": "G4TwfSD9-YKC"
      },
      "source": [
        "## Parents"
      ]
    },
    {
      "cell_type": "code",
      "execution_count": null,
      "metadata": {
        "id": "lol7mBnh-YKD"
      },
      "outputs": [],
      "source": [
        "\n"
      ]
    },
    {
      "cell_type": "code",
      "execution_count": null,
      "metadata": {
        "id": "rV3qOQ5J3cx4"
      },
      "outputs": [],
      "source": []
    },
    {
      "cell_type": "code",
      "execution_count": null,
      "metadata": {
        "id": "YpR8eUm63zgQ"
      },
      "outputs": [],
      "source": []
    },
    {
      "cell_type": "code",
      "execution_count": null,
      "metadata": {
        "id": "y7Q9Rp2i32KT"
      },
      "outputs": [],
      "source": []
    },
    {
      "cell_type": "markdown",
      "metadata": {
        "id": "Dpq2Pjso-YKD"
      },
      "source": [
        "## Siblings"
      ]
    },
    {
      "cell_type": "code",
      "execution_count": null,
      "metadata": {
        "id": "XRQJpLZ6309V"
      },
      "outputs": [],
      "source": []
    },
    {
      "cell_type": "code",
      "execution_count": null,
      "metadata": {
        "id": "7c_ZCOLO-YKD"
      },
      "outputs": [],
      "source": []
    },
    {
      "cell_type": "code",
      "execution_count": null,
      "metadata": {
        "id": "y6ubE66y-YKD"
      },
      "outputs": [],
      "source": []
    },
    {
      "cell_type": "markdown",
      "metadata": {
        "id": "IITxc4sN-YKD"
      },
      "source": [
        "## Next y Previous"
      ]
    },
    {
      "cell_type": "code",
      "execution_count": null,
      "metadata": {
        "id": "xe5YKTT86TJD"
      },
      "outputs": [],
      "source": []
    },
    {
      "cell_type": "code",
      "execution_count": null,
      "metadata": {
        "id": "k9RIf9A26TMI"
      },
      "outputs": [],
      "source": []
    },
    {
      "cell_type": "code",
      "execution_count": null,
      "metadata": {
        "id": "HNBNWgRl6eyO"
      },
      "outputs": [],
      "source": []
    },
    {
      "cell_type": "markdown",
      "metadata": {
        "id": "Ol8oGWm6-YKE"
      },
      "source": [
        "# <font color=green>5. WEB SCRAPING DEL SITE TUCARRO.COM.CO - OBTENIENDO LOS DATOS DE UN ANUNCIO"
      ]
    },
    {
      "cell_type": "markdown",
      "metadata": {
        "id": "hlCLPEWD-YKE"
      },
      "source": [
        "# 5.1. Identificando y seleccionando los datos en el HTML"
      ]
    },
    {
      "cell_type": "markdown",
      "metadata": {
        "id": "paXBTEHG-YKE"
      },
      "source": [
        "### Obteniendo el HTML y creando el objeto BeautifulSoup"
      ]
    },
    {
      "cell_type": "code",
      "execution_count": 8,
      "metadata": {
        "id": "tyzzrZjDJign"
      },
      "outputs": [],
      "source": [
        "from urllib.request import urlopen\n",
        "from bs4 import BeautifulSoup\n",
        "\n",
        "url = \"https://carros.tucarro.com.co/atlantico/_all*payment*methods*discount_cash*discount\"\n"
      ]
    },
    {
      "cell_type": "markdown",
      "metadata": {
        "id": "iwnZ2aKs-YKE"
      },
      "source": [
        "### Creando variables para almacenar la información"
      ]
    },
    {
      "cell_type": "code",
      "execution_count": null,
      "metadata": {
        "id": "jbbtNHspSxbq"
      },
      "outputs": [],
      "source": []
    },
    {
      "cell_type": "markdown",
      "metadata": {
        "id": "pkuTPMP0-YKF"
      },
      "source": [
        "### Obteniendo los datos del primer CARD"
      ]
    },
    {
      "cell_type": "code",
      "execution_count": null,
      "metadata": {
        "id": "nAGRX2UT-YKF",
        "scrolled": false
      },
      "outputs": [],
      "source": []
    },
    {
      "cell_type": "markdown",
      "metadata": {
        "id": "Z0UiLQU--YKF"
      },
      "source": [
        "# 5.2. Obteniendo el MODELO del vehículo anunciado"
      ]
    },
    {
      "cell_type": "code",
      "execution_count": null,
      "metadata": {
        "id": "hBFax-Dg-YKF"
      },
      "outputs": [],
      "source": []
    },
    {
      "cell_type": "code",
      "execution_count": null,
      "metadata": {
        "id": "7932YkbaddLf"
      },
      "outputs": [],
      "source": []
    },
    {
      "cell_type": "code",
      "execution_count": null,
      "metadata": {
        "id": "rPNGzDz6ddvP"
      },
      "outputs": [],
      "source": []
    },
    {
      "cell_type": "code",
      "execution_count": null,
      "metadata": {
        "id": "G3X0ePWKdd-z"
      },
      "outputs": [],
      "source": []
    },
    {
      "cell_type": "markdown",
      "metadata": {
        "id": "rTXfrqzA-YKG"
      },
      "source": [
        "### <font color=red>Resumen"
      ]
    },
    {
      "cell_type": "code",
      "execution_count": 9,
      "metadata": {
        "id": "7IXid313-YKG"
      },
      "outputs": [],
      "source": [
        "# Modelo\n"
      ]
    },
    {
      "cell_type": "markdown",
      "metadata": {
        "id": "HOLcyjI1-YKG"
      },
      "source": [
        "# 5.3. Obteniendo la INFORMACIÓN sobre el vehículo anunciado"
      ]
    },
    {
      "cell_type": "code",
      "execution_count": null,
      "metadata": {
        "id": "QQ0Y0vIxls2C"
      },
      "outputs": [],
      "source": []
    },
    {
      "cell_type": "code",
      "execution_count": null,
      "metadata": {
        "id": "k5EBvd7NltBu"
      },
      "outputs": [],
      "source": []
    },
    {
      "cell_type": "code",
      "execution_count": null,
      "metadata": {
        "id": "LkjZtgoZ6Zke"
      },
      "outputs": [],
      "source": []
    },
    {
      "cell_type": "code",
      "execution_count": null,
      "metadata": {
        "id": "8fzlbJLU8BRC"
      },
      "outputs": [],
      "source": []
    },
    {
      "cell_type": "code",
      "execution_count": null,
      "metadata": {
        "id": "0MVhxuXq8BdZ"
      },
      "outputs": [],
      "source": []
    },
    {
      "cell_type": "code",
      "execution_count": null,
      "metadata": {
        "id": "zLtlPyP88O5h"
      },
      "outputs": [],
      "source": []
    },
    {
      "cell_type": "markdown",
      "metadata": {
        "id": "uO7h11qK-YKG"
      },
      "source": [
        "### <font color=red>Resumen"
      ]
    },
    {
      "cell_type": "code",
      "execution_count": 10,
      "metadata": {
        "id": "cIfuAdCm-YKH"
      },
      "outputs": [],
      "source": [
        "# Información\n"
      ]
    },
    {
      "cell_type": "markdown",
      "metadata": {
        "id": "iX-591ri-YKH"
      },
      "source": [
        "# 5.4 Creando un DataFrame con los datos recolectados de TUCARRO.COM.CO"
      ]
    },
    {
      "cell_type": "code",
      "execution_count": null,
      "metadata": {
        "id": "3QTpmG6WTWR9"
      },
      "outputs": [],
      "source": []
    },
    {
      "cell_type": "code",
      "execution_count": null,
      "metadata": {
        "id": "mOerdmlPTWVJ"
      },
      "outputs": [],
      "source": []
    },
    {
      "cell_type": "code",
      "execution_count": null,
      "metadata": {
        "id": "_NSJy_mPTWaa"
      },
      "outputs": [],
      "source": []
    },
    {
      "cell_type": "code",
      "execution_count": null,
      "metadata": {
        "id": "8QMwXjHuTWcL"
      },
      "outputs": [],
      "source": []
    },
    {
      "cell_type": "code",
      "execution_count": null,
      "metadata": {
        "id": "Bt6AEQzPUdL3"
      },
      "outputs": [],
      "source": []
    },
    {
      "cell_type": "markdown",
      "metadata": {
        "id": "C1rFSdkX-YKH"
      },
      "source": [
        "# 5.6. Obteniendo la FOTO del anuncio"
      ]
    },
    {
      "cell_type": "code",
      "execution_count": null,
      "metadata": {
        "id": "h3wmw3y5Kx3c"
      },
      "outputs": [],
      "source": []
    },
    {
      "cell_type": "markdown",
      "metadata": {
        "id": "AmDUDKM6-YKI"
      },
      "source": [
        "### Visualizando la FOTO en el notebook (extra)"
      ]
    },
    {
      "cell_type": "code",
      "execution_count": 11,
      "metadata": {
        "id": "g_0ZbjUH-YKI"
      },
      "outputs": [
        {
          "name": "stderr",
          "output_type": "stream",
          "text": [
            "C:\\Users\\DELL\\AppData\\Local\\Temp\\ipykernel_2184\\4117110135.py:1: DeprecationWarning: Importing display from IPython.core.display is deprecated since IPython 7.14, please import from IPython display\n",
            "  from IPython.core.display import display, HTML\n"
          ]
        },
        {
          "ename": "NameError",
          "evalue": "name 'anuncio' is not defined",
          "output_type": "error",
          "traceback": [
            "\u001b[1;31m---------------------------------------------------------------------------\u001b[0m",
            "\u001b[1;31mNameError\u001b[0m                                 Traceback (most recent call last)",
            "\u001b[1;32mc:\\Users\\DELL\\Desktop\\python codigo facilito\\Python para análisis de datos - Bootcamp DS2\\WebScraping con Python Extraer datos de la web\\Web Scraping.ipynb Celda 135\u001b[0m line \u001b[0;36m3\n\u001b[0;32m      <a href='vscode-notebook-cell:/c%3A/Users/DELL/Desktop/python%20codigo%20facilito/Python%20para%20an%C3%A1lisis%20de%20datos%20-%20Bootcamp%20DS2/WebScraping%20con%20Python%20Extraer%20datos%20de%20la%20web/Web%20Scraping.ipynb#Y251sZmlsZQ%3D%3D?line=0'>1</a>\u001b[0m \u001b[39mfrom\u001b[39;00m \u001b[39mIPython\u001b[39;00m\u001b[39m.\u001b[39;00m\u001b[39mcore\u001b[39;00m\u001b[39m.\u001b[39;00m\u001b[39mdisplay\u001b[39;00m \u001b[39mimport\u001b[39;00m display, HTML\n\u001b[1;32m----> <a href='vscode-notebook-cell:/c%3A/Users/DELL/Desktop/python%20codigo%20facilito/Python%20para%20an%C3%A1lisis%20de%20datos%20-%20Bootcamp%20DS2/WebScraping%20con%20Python%20Extraer%20datos%20de%20la%20web/Web%20Scraping.ipynb#Y251sZmlsZQ%3D%3D?line=2'>3</a>\u001b[0m display(HTML(\u001b[39m\"\u001b[39m\u001b[39m<img src=\u001b[39m\u001b[39m\"\u001b[39m \u001b[39m+\u001b[39m anuncio\u001b[39m.\u001b[39mfind(\u001b[39m'\u001b[39m\u001b[39mimg\u001b[39m\u001b[39m'\u001b[39m)\u001b[39m.\u001b[39mget(\u001b[39m'\u001b[39m\u001b[39mdata-src\u001b[39m\u001b[39m'\u001b[39m) \u001b[39m+\u001b[39m \u001b[39m\"\u001b[39m\u001b[39m>\u001b[39m\u001b[39m\"\u001b[39m))\n",
            "\u001b[1;31mNameError\u001b[0m: name 'anuncio' is not defined"
          ]
        }
      ],
      "source": [
        "from IPython.core.display import display, HTML\n",
        "\n",
        "display(HTML(\"<img src=\" + anuncio.find('img').get('data-src') + \">\"))"
      ]
    },
    {
      "cell_type": "markdown",
      "metadata": {
        "id": "Di2yttac-YKI"
      },
      "source": [
        "### Rutina para accesar y guardar la FOTO del anuncio"
      ]
    },
    {
      "cell_type": "markdown",
      "metadata": {
        "id": "ig9pdHHq-YKI"
      },
      "source": [
        "## https://docs.python.org/3/library/urllib.request.html#urllib.request.urlretrieve"
      ]
    },
    {
      "cell_type": "code",
      "execution_count": null,
      "metadata": {
        "id": "IfC0udX0-YKI"
      },
      "outputs": [],
      "source": [
        "from urllib.request import urlretrieve\n"
      ]
    },
    {
      "cell_type": "code",
      "execution_count": null,
      "metadata": {
        "id": "5Qrj_hWMbtKm"
      },
      "outputs": [],
      "source": []
    },
    {
      "cell_type": "code",
      "execution_count": null,
      "metadata": {
        "id": "X9kAC7jxfUxT"
      },
      "outputs": [],
      "source": []
    },
    {
      "cell_type": "markdown",
      "metadata": {
        "id": "M1IrUPjD-YKJ"
      },
      "source": [
        "### <font color=red>Resumen"
      ]
    },
    {
      "cell_type": "code",
      "execution_count": null,
      "metadata": {
        "id": "lIGRXwFo-YKJ"
      },
      "outputs": [],
      "source": []
    },
    {
      "cell_type": "markdown",
      "metadata": {
        "id": "eP_J7dSj-YKJ"
      },
      "source": [
        "# <font color=green>6. WEB SCRAPING DEL SITE TUCARRO.COM.CO - OBTENIENDO LOS DATOS DE TODOS LOS ANUNCIOS DE UNA PÁGINA"
      ]
    },
    {
      "cell_type": "markdown",
      "metadata": {
        "id": "Xtc08Ks--YKJ"
      },
      "source": [
        "# 6.1. Identificando la información en el HTML"
      ]
    },
    {
      "cell_type": "code",
      "execution_count": null,
      "metadata": {
        "id": "HusWoqpT-YKJ",
        "scrolled": true
      },
      "outputs": [],
      "source": []
    },
    {
      "cell_type": "code",
      "execution_count": null,
      "metadata": {
        "id": "ZCx5H8E6iVkl"
      },
      "outputs": [],
      "source": []
    },
    {
      "cell_type": "code",
      "execution_count": null,
      "metadata": {
        "id": "YTONnuDdiVv0"
      },
      "outputs": [],
      "source": []
    },
    {
      "cell_type": "markdown",
      "metadata": {
        "id": "f2KaaKBC-YKK"
      },
      "source": [
        "# 6.2. Creando una rutina de scraping"
      ]
    },
    {
      "cell_type": "code",
      "execution_count": null,
      "metadata": {
        "id": "xiClscnck7rt"
      },
      "outputs": [],
      "source": [
        "from urllib.request import urlopen, urlretrieve\n",
        "from bs4 import BeautifulSoup\n",
        "import pandas as pd\n",
        "\n",
        "url = \"https://carros.tucarro.com.co/atlantico/_all*payment*methods*discount_cash*discount\"\n",
        "\n"
      ]
    },
    {
      "cell_type": "code",
      "execution_count": null,
      "metadata": {
        "id": "cNyR169Bk725"
      },
      "outputs": [],
      "source": []
    },
    {
      "cell_type": "code",
      "execution_count": null,
      "metadata": {
        "id": "3uyaty57k75V"
      },
      "outputs": [],
      "source": []
    },
    {
      "cell_type": "code",
      "execution_count": null,
      "metadata": {
        "id": "y7wuniGJpIoU"
      },
      "outputs": [],
      "source": []
    },
    {
      "cell_type": "markdown",
      "metadata": {
        "id": "9yByfCwU-YKK"
      },
      "source": [
        "# <font color=green>7. WEB SCRAPING DEL SITE TUCARRO.COM.CO - OBTENIENDO LOS DATOS DE TODOS LOS ANUNCIOS DE UNA PÁGINA"
      ]
    },
    {
      "cell_type": "markdown",
      "metadata": {
        "id": "_ywEoZxi-YKK"
      },
      "source": [
        "# 7.1. Identificando la información en el HTML"
      ]
    },
    {
      "cell_type": "code",
      "execution_count": null,
      "metadata": {
        "id": "I7ZEMZvru9sq"
      },
      "outputs": [],
      "source": []
    },
    {
      "cell_type": "code",
      "execution_count": null,
      "metadata": {
        "id": "Yo36jlVkvAcF"
      },
      "outputs": [],
      "source": []
    },
    {
      "cell_type": "markdown",
      "metadata": {
        "id": "uFZLc1jOvpkz"
      },
      "source": [
        "# 7.2. Montando un drive para almacenar la información"
      ]
    },
    {
      "cell_type": "code",
      "execution_count": null,
      "metadata": {
        "id": "8CFHUVAu75Tt"
      },
      "outputs": [],
      "source": []
    },
    {
      "cell_type": "code",
      "execution_count": null,
      "metadata": {
        "id": "Mp04bRwwvzjK"
      },
      "outputs": [],
      "source": []
    },
    {
      "cell_type": "markdown",
      "metadata": {
        "id": "EOnMHGCG-YKL"
      },
      "source": [
        "# 7.3. Creando una rutina de scraping"
      ]
    },
    {
      "cell_type": "markdown",
      "metadata": {
        "id": "aOpJfrAs0qVS"
      },
      "source": [
        "##https://docs.python.org/3/library/time.html"
      ]
    },
    {
      "cell_type": "code",
      "execution_count": null,
      "metadata": {
        "id": "tatOUc2i-YKL"
      },
      "outputs": [],
      "source": []
    },
    {
      "cell_type": "code",
      "execution_count": null,
      "metadata": {
        "id": "kkJPa0AduMSI"
      },
      "outputs": [],
      "source": []
    },
    {
      "cell_type": "code",
      "execution_count": null,
      "metadata": {
        "id": "87mdA-PGuMUw"
      },
      "outputs": [],
      "source": []
    },
    {
      "cell_type": "code",
      "execution_count": null,
      "metadata": {
        "id": "dFtYborRA0yG"
      },
      "outputs": [],
      "source": []
    },
    {
      "cell_type": "code",
      "execution_count": null,
      "metadata": {
        "id": "bJAEHbsquMYY"
      },
      "outputs": [],
      "source": []
    }
  ],
  "metadata": {
    "colab": {
      "collapsed_sections": [
        "i_FHvPbA-YJ7",
        "s0tHokJm-YJ8",
        "jKdU9-Kf-YKA",
        "pkuTPMP0-YKF",
        "iX-591ri-YKH",
        "AmDUDKM6-YKI",
        "Di2yttac-YKI",
        "eP_J7dSj-YKJ"
      ],
      "name": "Copy of Copy of webscraping.ipynb",
      "provenance": []
    },
    "kernelspec": {
      "display_name": "Python 3",
      "language": "python",
      "name": "python3"
    },
    "language_info": {
      "codemirror_mode": {
        "name": "ipython",
        "version": 3
      },
      "file_extension": ".py",
      "mimetype": "text/x-python",
      "name": "python",
      "nbconvert_exporter": "python",
      "pygments_lexer": "ipython3",
      "version": "3.12.0"
    },
    "varInspector": {
      "cols": {
        "lenName": 16,
        "lenType": 16,
        "lenVar": 40
      },
      "kernels_config": {
        "python": {
          "delete_cmd_postfix": "",
          "delete_cmd_prefix": "del ",
          "library": "var_list.py",
          "varRefreshCmd": "print(var_dic_list())"
        },
        "r": {
          "delete_cmd_postfix": ") ",
          "delete_cmd_prefix": "rm(",
          "library": "var_list.r",
          "varRefreshCmd": "cat(var_dic_list()) "
        }
      },
      "types_to_exclude": [
        "module",
        "function",
        "builtin_function_or_method",
        "instance",
        "_Feature"
      ],
      "window_display": false
    }
  },
  "nbformat": 4,
  "nbformat_minor": 0
}
