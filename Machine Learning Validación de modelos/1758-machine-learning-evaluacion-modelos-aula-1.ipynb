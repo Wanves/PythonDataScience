{
  "cells": [
    {
      "cell_type": "code",
      "execution_count": 1,
      "metadata": {},
      "outputs": [],
      "source": [
        "import pandas as pd\n",
        "import numpy as np\n",
        "import seaborn as sns\n",
        "import matplotlib.pyplot as plt\n",
        "import datetime"
      ]
    },
    {
      "cell_type": "code",
      "execution_count": 2,
      "metadata": {
        "colab": {
          "base_uri": "https://localhost:8080/",
          "height": 195
        },
        "id": "OT__Z1j81_KL",
        "outputId": "9071ee69-7d2d-4cfd-a022-7c2df5a21dbf"
      },
      "outputs": [
        {
          "data": {
            "text/html": [
              "<div>\n",
              "<style scoped>\n",
              "    .dataframe tbody tr th:only-of-type {\n",
              "        vertical-align: middle;\n",
              "    }\n",
              "\n",
              "    .dataframe tbody tr th {\n",
              "        vertical-align: top;\n",
              "    }\n",
              "\n",
              "    .dataframe thead th {\n",
              "        text-align: right;\n",
              "    }\n",
              "</style>\n",
              "<table border=\"1\" class=\"dataframe\">\n",
              "  <thead>\n",
              "    <tr style=\"text-align: right;\">\n",
              "      <th></th>\n",
              "      <th>precio</th>\n",
              "      <th>vendido</th>\n",
              "      <th>edad_del_modelo</th>\n",
              "      <th>km_por_ano</th>\n",
              "    </tr>\n",
              "  </thead>\n",
              "  <tbody>\n",
              "    <tr>\n",
              "      <th>0</th>\n",
              "      <td>30941.02</td>\n",
              "      <td>1</td>\n",
              "      <td>18</td>\n",
              "      <td>35085.22134</td>\n",
              "    </tr>\n",
              "    <tr>\n",
              "      <th>1</th>\n",
              "      <td>40557.96</td>\n",
              "      <td>1</td>\n",
              "      <td>20</td>\n",
              "      <td>12622.05362</td>\n",
              "    </tr>\n",
              "    <tr>\n",
              "      <th>2</th>\n",
              "      <td>89627.50</td>\n",
              "      <td>0</td>\n",
              "      <td>12</td>\n",
              "      <td>11440.79806</td>\n",
              "    </tr>\n",
              "    <tr>\n",
              "      <th>3</th>\n",
              "      <td>95276.14</td>\n",
              "      <td>0</td>\n",
              "      <td>3</td>\n",
              "      <td>43167.32682</td>\n",
              "    </tr>\n",
              "    <tr>\n",
              "      <th>4</th>\n",
              "      <td>117384.68</td>\n",
              "      <td>1</td>\n",
              "      <td>4</td>\n",
              "      <td>12770.11290</td>\n",
              "    </tr>\n",
              "  </tbody>\n",
              "</table>\n",
              "</div>"
            ],
            "text/plain": [
              "      precio  vendido  edad_del_modelo   km_por_ano\n",
              "0   30941.02        1               18  35085.22134\n",
              "1   40557.96        1               20  12622.05362\n",
              "2   89627.50        0               12  11440.79806\n",
              "3   95276.14        0                3  43167.32682\n",
              "4  117384.68        1                4  12770.11290"
            ]
          },
          "execution_count": 2,
          "metadata": {},
          "output_type": "execute_result"
        }
      ],
      "source": [
        "uri = \"https://gist.githubusercontent.com/jessicadesousa/56ac5efd1b9f2a06ef503485e904a203/raw/d829a7204ad55506644f4a7058090c84424217e7/machine-learning-carros-simulacion.csv\"\n",
        "datos = pd.read_csv(uri)\n",
        "datos.head()"
      ]
    },
    {
      "cell_type": "code",
      "execution_count": 3,
      "metadata": {
        "colab": {
          "base_uri": "https://localhost:8080/"
        },
        "id": "4K_cO3OY2Wps",
        "outputId": "fea05883-7a68-4e1c-d8d4-8550c9b776fd"
      },
      "outputs": [
        {
          "name": "stdout",
          "output_type": "stream",
          "text": [
            "Entrenaremos con 7500 elementos y evaluaremos con 2500 elementos\n"
          ]
        }
      ],
      "source": [
        "from sklearn.model_selection import train_test_split\n",
        "from sklearn.metrics import accuracy_score\n",
        "\n",
        "x = datos[[\"precio\", \"edad_del_modelo\", \"km_por_ano\"]]\n",
        "y = datos[\"vendido\"]\n",
        "\n",
        "SEED = 158020\n",
        "np.random.seed(SEED)\n",
        "\n",
        "train_x, test_x, train_y, test_y = train_test_split(x, y, \n",
        "                                                    test_size = 0.25, \n",
        "                                                    stratify = y)\n",
        "\n",
        "print(\"Entrenaremos con %d elementos y evaluaremos con %d elementos\" %(len(train_x), len(test_y)))"
      ]
    },
    {
      "cell_type": "code",
      "execution_count": 4,
      "metadata": {
        "colab": {
          "base_uri": "https://localhost:8080/"
        },
        "id": "-5J1gAVv3gsD",
        "outputId": "f6d93aab-4c08-4a62-d798-55478959f305"
      },
      "outputs": [
        {
          "name": "stdout",
          "output_type": "stream",
          "text": [
            "La exactitud(accuracy) del dummy stratified fue 50.96%\n"
          ]
        }
      ],
      "source": [
        "from sklearn.dummy import DummyClassifier\n",
        "\n",
        "dummy_stratified = DummyClassifier(strategy=\"stratified\")\n",
        "dummy_stratified.fit(train_x, train_y)\n",
        "accuracy = dummy_stratified.score(test_x, test_y) * 100\n",
        "\n",
        "print(\"La exactitud(accuracy) del dummy stratified fue %.2f%%\" % accuracy)"
      ]
    },
    {
      "cell_type": "code",
      "execution_count": 5,
      "metadata": {
        "colab": {
          "base_uri": "https://localhost:8080/"
        },
        "id": "mPdliMf45C-x",
        "outputId": "d8794e63-c913-42bc-aa04-8cc77fe802c2"
      },
      "outputs": [],
      "source": [
        "from sklearn.tree import DecisionTreeClassifier\n",
        "\n"
      ]
    },
    {
      "cell_type": "code",
      "execution_count": 6,
      "metadata": {
        "colab": {
          "base_uri": "https://localhost:8080/"
        },
        "id": "iI4yVF8hF1FE",
        "outputId": "124dfeb3-c185-423f-fb12-f9344ff4c968"
      },
      "outputs": [
        {
          "name": "stdout",
          "output_type": "stream",
          "text": [
            "La exactitud(accuracy) fue 76.84%\n"
          ]
        }
      ],
      "source": [
        "SEED = 5\n",
        "np.random.seed(SEED)\n",
        "\n",
        "train_x, test_x, train_y, test_y = train_test_split(x, y, \n",
        "                                                    test_size = 0.25, \n",
        "                                                    stratify = y)\n",
        "\n",
        "modelo = DecisionTreeClassifier(max_depth=2)\n",
        "modelo.fit(train_x, train_y)\n",
        "\n",
        "predicciones = modelo.predict(test_x)\n",
        "\n",
        "accuracy = accuracy_score(test_y, predicciones) * 100\n",
        "print(\"La exactitud(accuracy) fue %.2f%%\" % accuracy)"
      ]
    },
    {
      "cell_type": "code",
      "execution_count": 7,
      "metadata": {},
      "outputs": [],
      "source": [
        "from sklearn.model_selection import cross_validate"
      ]
    },
    {
      "cell_type": "code",
      "execution_count": 8,
      "metadata": {},
      "outputs": [
        {
          "data": {
            "text/plain": [
              "{'fit_time': array([0.03254652, 0.04271388, 0.04577613]),\n",
              " 'score_time': array([0.01005769, 0.00599957, 0.01007843]),\n",
              " 'test_score': array([0.75704859, 0.7629763 , 0.75337534])}"
            ]
          },
          "execution_count": 8,
          "metadata": {},
          "output_type": "execute_result"
        }
      ],
      "source": [
        "SEED = 234\n",
        "np.random.seed(SEED)\n",
        "\n",
        "modelo = DecisionTreeClassifier(max_depth=2)\n",
        "resultados = cross_validate(modelo, x, y, cv=3)\n",
        "resultado = resultados['test_score']\n",
        "desviacion_standard = (resultados['test_score'].std())\n",
        "resultados"
      ]
    },
    {
      "cell_type": "code",
      "execution_count": 9,
      "metadata": {},
      "outputs": [],
      "source": [
        "media = resultados['test_score'].mean()*100"
      ]
    },
    {
      "cell_type": "code",
      "execution_count": 10,
      "metadata": {},
      "outputs": [
        {
          "name": "stdout",
          "output_type": "stream",
          "text": [
            "0.76%\n",
            "0.76%\n",
            "0.75%\n"
          ]
        }
      ],
      "source": [
        "for i in resultado:\n",
        "    print(f'{round(i,2)}%')"
      ]
    },
    {
      "cell_type": "code",
      "execution_count": 11,
      "metadata": {},
      "outputs": [
        {
          "name": "stdout",
          "output_type": "stream",
          "text": [
            "Promedio Entrenamiento: 75.78%\n"
          ]
        }
      ],
      "source": [
        "print(f'Promedio Entrenamiento: {round(media.mean(),2)}%')"
      ]
    },
    {
      "cell_type": "code",
      "execution_count": 12,
      "metadata": {},
      "outputs": [
        {
          "name": "stdout",
          "output_type": "stream",
          "text": [
            "Nuestro intervalo de confianza para cv = 3 es 74.99% ,76.57%\n"
          ]
        }
      ],
      "source": [
        "print(f'Nuestro intervalo de confianza para cv = 3 es {round(media-2*desviacion_standard*100,2)}% ,{round(media+2*desviacion_standard*100,2)}%')"
      ]
    },
    {
      "cell_type": "code",
      "execution_count": 13,
      "metadata": {},
      "outputs": [
        {
          "name": "stdout",
          "output_type": "stream",
          "text": [
            "Nuestro intervalo de confianza para cv = 3 es 74.99% ,76.57%\n"
          ]
        }
      ],
      "source": [
        "resultados = cross_validate(modelo, x, y, cv=3)\n",
        "resultado = resultados['test_score']\n",
        "desviacion_standard = (resultados['test_score'].std())\n",
        "print(f'Nuestro intervalo de confianza para cv = 3 es {round(media-2*desviacion_standard*100,2)}% ,{round(media+2*desviacion_standard*100,2)}%')"
      ]
    },
    {
      "cell_type": "code",
      "execution_count": 14,
      "metadata": {},
      "outputs": [
        {
          "name": "stdout",
          "output_type": "stream",
          "text": [
            "Nuestro intervalo de confianza para cv = 3 es 75.21% ,76.35%\n"
          ]
        }
      ],
      "source": [
        "resultados = cross_validate(modelo, x, y, cv=5)\n",
        "resultado = resultados['test_score']\n",
        "desviacion_standard = (resultados['test_score'].std())\n",
        "print(f'Nuestro intervalo de confianza para cv = 3 es {round(media-2*desviacion_standard*100,2)}% ,{round(media+2*desviacion_standard*100,2)}%')"
      ]
    },
    {
      "cell_type": "code",
      "execution_count": 15,
      "metadata": {},
      "outputs": [
        {
          "name": "stdout",
          "output_type": "stream",
          "text": [
            "Nuestro intervalo de confianza para cv = 3 es 74.24% ,77.32%\n"
          ]
        }
      ],
      "source": [
        "resultados = cross_validate(modelo, x, y, cv=10)\n",
        "resultado = resultados['test_score']\n",
        "desviacion_standard = (resultados['test_score'].std())\n",
        "print(f'Nuestro intervalo de confianza para cv = 3 es {round(media-2*desviacion_standard*100,2)}% ,{round(media+2*desviacion_standard*100,2)}%')"
      ]
    },
    {
      "cell_type": "code",
      "execution_count": 16,
      "metadata": {},
      "outputs": [],
      "source": [
        "from sklearn.model_selection import KFold"
      ]
    },
    {
      "cell_type": "code",
      "execution_count": 17,
      "metadata": {},
      "outputs": [],
      "source": [
        "def imprime_resultados(resultados):\n",
        "    media = resultados['test_score'].mean()\n",
        "    desviacion_standard = resultados['test_score'].std()\n",
        "    print(f'Nuestra promedio es: {round(media*100,2)}%')\n",
        "    print(f'Nuestro intervalo de confianza es {round(media-2*desviacion_standard,2)*100}% ,{round(media+2*desviacion_standard,2)*100}%')\n"
      ]
    },
    {
      "cell_type": "code",
      "execution_count": 18,
      "metadata": {},
      "outputs": [
        {
          "name": "stdout",
          "output_type": "stream",
          "text": [
            "Nuestra promedio es: 75.78%\n",
            "Nuestro intervalo de confianza es 74.0% ,77.0%\n"
          ]
        }
      ],
      "source": [
        "SEED = 123\n",
        "np.random.seed(SEED)\n",
        "\n",
        "cv = KFold(n_splits=10)\n",
        "\n",
        "modelo = DecisionTreeClassifier(max_depth=2)\n",
        "resultados = cross_validate(modelo, x, y, cv=cv)\n",
        "imprime_resultados(resultados)\n",
        "\n",
        "\n"
      ]
    },
    {
      "cell_type": "code",
      "execution_count": 19,
      "metadata": {},
      "outputs": [
        {
          "name": "stdout",
          "output_type": "stream",
          "text": [
            "Nuestra promedio es: 75.78%\n",
            "Nuestro intervalo de confianza es 72.0% ,80.0%\n"
          ]
        }
      ],
      "source": [
        "SEED = 234\n",
        "np.random.seed(SEED)\n",
        "\n",
        "cv = KFold(n_splits=10, shuffle=True)\n",
        "\n",
        "modelo = DecisionTreeClassifier(max_depth=2)\n",
        "resultados = cross_validate(modelo, x, y, cv=cv)\n",
        "imprime_resultados(resultados)\n"
      ]
    },
    {
      "cell_type": "markdown",
      "metadata": {
        "notebookRunGroups": {
          "groupValue": "1"
        }
      },
      "source": [
        "### Simular datos ordenados"
      ]
    },
    {
      "cell_type": "code",
      "execution_count": 20,
      "metadata": {},
      "outputs": [
        {
          "data": {
            "text/html": [
              "<div>\n",
              "<style scoped>\n",
              "    .dataframe tbody tr th:only-of-type {\n",
              "        vertical-align: middle;\n",
              "    }\n",
              "\n",
              "    .dataframe tbody tr th {\n",
              "        vertical-align: top;\n",
              "    }\n",
              "\n",
              "    .dataframe thead th {\n",
              "        text-align: right;\n",
              "    }\n",
              "</style>\n",
              "<table border=\"1\" class=\"dataframe\">\n",
              "  <thead>\n",
              "    <tr style=\"text-align: right;\">\n",
              "      <th></th>\n",
              "      <th>precio</th>\n",
              "      <th>vendido</th>\n",
              "      <th>edad_del_modelo</th>\n",
              "      <th>km_por_ano</th>\n",
              "    </tr>\n",
              "  </thead>\n",
              "  <tbody>\n",
              "    <tr>\n",
              "      <th>4999</th>\n",
              "      <td>74023.29</td>\n",
              "      <td>0</td>\n",
              "      <td>12</td>\n",
              "      <td>24812.80412</td>\n",
              "    </tr>\n",
              "    <tr>\n",
              "      <th>5322</th>\n",
              "      <td>84843.49</td>\n",
              "      <td>0</td>\n",
              "      <td>13</td>\n",
              "      <td>23095.63834</td>\n",
              "    </tr>\n",
              "    <tr>\n",
              "      <th>5319</th>\n",
              "      <td>83100.27</td>\n",
              "      <td>0</td>\n",
              "      <td>19</td>\n",
              "      <td>36240.72746</td>\n",
              "    </tr>\n",
              "    <tr>\n",
              "      <th>5316</th>\n",
              "      <td>87932.13</td>\n",
              "      <td>0</td>\n",
              "      <td>16</td>\n",
              "      <td>32249.56426</td>\n",
              "    </tr>\n",
              "    <tr>\n",
              "      <th>5315</th>\n",
              "      <td>77937.01</td>\n",
              "      <td>0</td>\n",
              "      <td>15</td>\n",
              "      <td>28414.50704</td>\n",
              "    </tr>\n",
              "    <tr>\n",
              "      <th>...</th>\n",
              "      <td>...</td>\n",
              "      <td>...</td>\n",
              "      <td>...</td>\n",
              "      <td>...</td>\n",
              "    </tr>\n",
              "    <tr>\n",
              "      <th>5491</th>\n",
              "      <td>71910.43</td>\n",
              "      <td>1</td>\n",
              "      <td>9</td>\n",
              "      <td>25778.40812</td>\n",
              "    </tr>\n",
              "    <tr>\n",
              "      <th>1873</th>\n",
              "      <td>30456.53</td>\n",
              "      <td>1</td>\n",
              "      <td>6</td>\n",
              "      <td>15468.97608</td>\n",
              "    </tr>\n",
              "    <tr>\n",
              "      <th>1874</th>\n",
              "      <td>69342.41</td>\n",
              "      <td>1</td>\n",
              "      <td>11</td>\n",
              "      <td>16909.33538</td>\n",
              "    </tr>\n",
              "    <tr>\n",
              "      <th>5499</th>\n",
              "      <td>70520.39</td>\n",
              "      <td>1</td>\n",
              "      <td>16</td>\n",
              "      <td>19622.68262</td>\n",
              "    </tr>\n",
              "    <tr>\n",
              "      <th>0</th>\n",
              "      <td>30941.02</td>\n",
              "      <td>1</td>\n",
              "      <td>18</td>\n",
              "      <td>35085.22134</td>\n",
              "    </tr>\n",
              "  </tbody>\n",
              "</table>\n",
              "<p>10000 rows × 4 columns</p>\n",
              "</div>"
            ],
            "text/plain": [
              "        precio  vendido  edad_del_modelo   km_por_ano\n",
              "4999  74023.29        0               12  24812.80412\n",
              "5322  84843.49        0               13  23095.63834\n",
              "5319  83100.27        0               19  36240.72746\n",
              "5316  87932.13        0               16  32249.56426\n",
              "5315  77937.01        0               15  28414.50704\n",
              "...        ...      ...              ...          ...\n",
              "5491  71910.43        1                9  25778.40812\n",
              "1873  30456.53        1                6  15468.97608\n",
              "1874  69342.41        1               11  16909.33538\n",
              "5499  70520.39        1               16  19622.68262\n",
              "0     30941.02        1               18  35085.22134\n",
              "\n",
              "[10000 rows x 4 columns]"
            ]
          },
          "execution_count": 20,
          "metadata": {},
          "output_type": "execute_result"
        }
      ],
      "source": [
        "datos.sort_values(by='vendido')"
      ]
    },
    {
      "cell_type": "code",
      "execution_count": 21,
      "metadata": {},
      "outputs": [],
      "source": [
        "datos_ordenados = datos.sort_values(by='vendido')"
      ]
    },
    {
      "cell_type": "code",
      "execution_count": 22,
      "metadata": {},
      "outputs": [],
      "source": [
        "x_ordenados = datos_ordenados[[\"precio\", \"edad_del_modelo\", \"km_por_ano\"]]\n",
        "y_ordenados = datos_ordenados[\"vendido\"]"
      ]
    },
    {
      "cell_type": "code",
      "execution_count": 23,
      "metadata": {},
      "outputs": [
        {
          "data": {
            "text/html": [
              "<div>\n",
              "<style scoped>\n",
              "    .dataframe tbody tr th:only-of-type {\n",
              "        vertical-align: middle;\n",
              "    }\n",
              "\n",
              "    .dataframe tbody tr th {\n",
              "        vertical-align: top;\n",
              "    }\n",
              "\n",
              "    .dataframe thead th {\n",
              "        text-align: right;\n",
              "    }\n",
              "</style>\n",
              "<table border=\"1\" class=\"dataframe\">\n",
              "  <thead>\n",
              "    <tr style=\"text-align: right;\">\n",
              "      <th></th>\n",
              "      <th>precio</th>\n",
              "      <th>vendido</th>\n",
              "      <th>edad_del_modelo</th>\n",
              "      <th>km_por_ano</th>\n",
              "    </tr>\n",
              "  </thead>\n",
              "  <tbody>\n",
              "    <tr>\n",
              "      <th>4999</th>\n",
              "      <td>74023.29</td>\n",
              "      <td>0</td>\n",
              "      <td>12</td>\n",
              "      <td>24812.80412</td>\n",
              "    </tr>\n",
              "    <tr>\n",
              "      <th>5322</th>\n",
              "      <td>84843.49</td>\n",
              "      <td>0</td>\n",
              "      <td>13</td>\n",
              "      <td>23095.63834</td>\n",
              "    </tr>\n",
              "    <tr>\n",
              "      <th>5319</th>\n",
              "      <td>83100.27</td>\n",
              "      <td>0</td>\n",
              "      <td>19</td>\n",
              "      <td>36240.72746</td>\n",
              "    </tr>\n",
              "    <tr>\n",
              "      <th>5316</th>\n",
              "      <td>87932.13</td>\n",
              "      <td>0</td>\n",
              "      <td>16</td>\n",
              "      <td>32249.56426</td>\n",
              "    </tr>\n",
              "    <tr>\n",
              "      <th>5315</th>\n",
              "      <td>77937.01</td>\n",
              "      <td>0</td>\n",
              "      <td>15</td>\n",
              "      <td>28414.50704</td>\n",
              "    </tr>\n",
              "  </tbody>\n",
              "</table>\n",
              "</div>"
            ],
            "text/plain": [
              "        precio  vendido  edad_del_modelo   km_por_ano\n",
              "4999  74023.29        0               12  24812.80412\n",
              "5322  84843.49        0               13  23095.63834\n",
              "5319  83100.27        0               19  36240.72746\n",
              "5316  87932.13        0               16  32249.56426\n",
              "5315  77937.01        0               15  28414.50704"
            ]
          },
          "execution_count": 23,
          "metadata": {},
          "output_type": "execute_result"
        }
      ],
      "source": [
        "datos_ordenados.head()"
      ]
    },
    {
      "cell_type": "code",
      "execution_count": 24,
      "metadata": {},
      "outputs": [
        {
          "name": "stdout",
          "output_type": "stream",
          "text": [
            "Nuestra promedio es: 57.84%\n",
            "Nuestro intervalo de confianza es 34.0% ,81.0%\n"
          ]
        }
      ],
      "source": [
        "cv = KFold(n_splits=10)\n",
        "\n",
        "modelo = DecisionTreeClassifier(max_depth=2)\n",
        "resultados = cross_validate(modelo, x_ordenados, y_ordenados, cv=cv)\n",
        "imprime_resultados(resultados)"
      ]
    },
    {
      "cell_type": "code",
      "execution_count": 25,
      "metadata": {},
      "outputs": [
        {
          "name": "stdout",
          "output_type": "stream",
          "text": [
            "Nuestra promedio es: 75.78%\n",
            "Nuestro intervalo de confianza es 74.0% ,78.0%\n"
          ]
        }
      ],
      "source": [
        "cv = KFold(n_splits=10,shuffle=True)\n",
        "\n",
        "modelo = DecisionTreeClassifier(max_depth=2)\n",
        "resultados = cross_validate(modelo, x_ordenados, y_ordenados, cv=cv)\n",
        "imprime_resultados(resultados)"
      ]
    },
    {
      "cell_type": "code",
      "execution_count": 26,
      "metadata": {},
      "outputs": [
        {
          "name": "stdout",
          "output_type": "stream",
          "text": [
            "Nuestra promedio es: 75.78%\n",
            "Nuestro intervalo de confianza es 74.0% ,78.0%\n"
          ]
        }
      ],
      "source": [
        "from sklearn.model_selection import StratifiedKFold\n",
        "\n",
        "cv = StratifiedKFold(n_splits=10)\n",
        "\n",
        "modelo = DecisionTreeClassifier(max_depth=2)\n",
        "resultados = cross_validate(modelo, x_ordenados, y_ordenados, cv=cv)\n",
        "imprime_resultados(resultados)"
      ]
    },
    {
      "cell_type": "code",
      "execution_count": 27,
      "metadata": {},
      "outputs": [
        {
          "name": "stdout",
          "output_type": "stream",
          "text": [
            "Nuestra promedio es: 75.78%\n",
            "Nuestro intervalo de confianza es 73.0% ,78.0%\n"
          ]
        }
      ],
      "source": [
        "cv = StratifiedKFold(n_splits=10,shuffle=True)\n",
        "\n",
        "modelo = DecisionTreeClassifier(max_depth=2)\n",
        "resultados = cross_validate(modelo, x_ordenados, y_ordenados, cv=cv)\n",
        "imprime_resultados(resultados)"
      ]
    },
    {
      "cell_type": "code",
      "execution_count": 28,
      "metadata": {},
      "outputs": [
        {
          "data": {
            "text/plain": [
              "array([18, 20, 12,  3,  4, 11, 16, 10, 19, 15,  2, 17,  9, 13,  7,  6,  5,\n",
              "       14,  8,  1], dtype=int64)"
            ]
          },
          "execution_count": 28,
          "metadata": {},
          "output_type": "execute_result"
        }
      ],
      "source": [
        "datos['edad_del_modelo'].unique()"
      ]
    },
    {
      "cell_type": "code",
      "execution_count": 29,
      "metadata": {},
      "outputs": [
        {
          "data": {
            "text/html": [
              "<div>\n",
              "<style scoped>\n",
              "    .dataframe tbody tr th:only-of-type {\n",
              "        vertical-align: middle;\n",
              "    }\n",
              "\n",
              "    .dataframe tbody tr th {\n",
              "        vertical-align: top;\n",
              "    }\n",
              "\n",
              "    .dataframe thead th {\n",
              "        text-align: right;\n",
              "    }\n",
              "</style>\n",
              "<table border=\"1\" class=\"dataframe\">\n",
              "  <thead>\n",
              "    <tr style=\"text-align: right;\">\n",
              "      <th></th>\n",
              "      <th>precio</th>\n",
              "      <th>vendido</th>\n",
              "      <th>edad_del_modelo</th>\n",
              "      <th>km_por_ano</th>\n",
              "    </tr>\n",
              "  </thead>\n",
              "  <tbody>\n",
              "    <tr>\n",
              "      <th>0</th>\n",
              "      <td>30941.02</td>\n",
              "      <td>1</td>\n",
              "      <td>18</td>\n",
              "      <td>35085.22134</td>\n",
              "    </tr>\n",
              "    <tr>\n",
              "      <th>19</th>\n",
              "      <td>111136.80</td>\n",
              "      <td>1</td>\n",
              "      <td>18</td>\n",
              "      <td>25623.91148</td>\n",
              "    </tr>\n",
              "    <tr>\n",
              "      <th>34</th>\n",
              "      <td>80965.58</td>\n",
              "      <td>0</td>\n",
              "      <td>18</td>\n",
              "      <td>22527.54132</td>\n",
              "    </tr>\n",
              "    <tr>\n",
              "      <th>48</th>\n",
              "      <td>53268.18</td>\n",
              "      <td>0</td>\n",
              "      <td>18</td>\n",
              "      <td>41796.16914</td>\n",
              "    </tr>\n",
              "    <tr>\n",
              "      <th>49</th>\n",
              "      <td>102184.72</td>\n",
              "      <td>0</td>\n",
              "      <td>18</td>\n",
              "      <td>18414.06828</td>\n",
              "    </tr>\n",
              "    <tr>\n",
              "      <th>...</th>\n",
              "      <td>...</td>\n",
              "      <td>...</td>\n",
              "      <td>...</td>\n",
              "      <td>...</td>\n",
              "    </tr>\n",
              "    <tr>\n",
              "      <th>9960</th>\n",
              "      <td>3597.10</td>\n",
              "      <td>1</td>\n",
              "      <td>18</td>\n",
              "      <td>28699.36022</td>\n",
              "    </tr>\n",
              "    <tr>\n",
              "      <th>9961</th>\n",
              "      <td>29496.54</td>\n",
              "      <td>1</td>\n",
              "      <td>18</td>\n",
              "      <td>31584.90684</td>\n",
              "    </tr>\n",
              "    <tr>\n",
              "      <th>9963</th>\n",
              "      <td>57324.82</td>\n",
              "      <td>1</td>\n",
              "      <td>18</td>\n",
              "      <td>18554.08086</td>\n",
              "    </tr>\n",
              "    <tr>\n",
              "      <th>9970</th>\n",
              "      <td>62453.07</td>\n",
              "      <td>0</td>\n",
              "      <td>18</td>\n",
              "      <td>31234.07072</td>\n",
              "    </tr>\n",
              "    <tr>\n",
              "      <th>9990</th>\n",
              "      <td>36529.83</td>\n",
              "      <td>1</td>\n",
              "      <td>18</td>\n",
              "      <td>18058.40414</td>\n",
              "    </tr>\n",
              "  </tbody>\n",
              "</table>\n",
              "<p>888 rows × 4 columns</p>\n",
              "</div>"
            ],
            "text/plain": [
              "         precio  vendido  edad_del_modelo   km_por_ano\n",
              "0      30941.02        1               18  35085.22134\n",
              "19    111136.80        1               18  25623.91148\n",
              "34     80965.58        0               18  22527.54132\n",
              "48     53268.18        0               18  41796.16914\n",
              "49    102184.72        0               18  18414.06828\n",
              "...         ...      ...              ...          ...\n",
              "9960    3597.10        1               18  28699.36022\n",
              "9961   29496.54        1               18  31584.90684\n",
              "9963   57324.82        1               18  18554.08086\n",
              "9970   62453.07        0               18  31234.07072\n",
              "9990   36529.83        1               18  18058.40414\n",
              "\n",
              "[888 rows x 4 columns]"
            ]
          },
          "execution_count": 29,
          "metadata": {},
          "output_type": "execute_result"
        }
      ],
      "source": [
        "datos.query('edad_del_modelo.sort_values() ==  18')"
      ]
    },
    {
      "cell_type": "markdown",
      "metadata": {},
      "source": [
        "### Creando una columna simulada de modelo de carro"
      ]
    },
    {
      "cell_type": "code",
      "execution_count": 30,
      "metadata": {},
      "outputs": [
        {
          "data": {
            "text/html": [
              "<div>\n",
              "<style scoped>\n",
              "    .dataframe tbody tr th:only-of-type {\n",
              "        vertical-align: middle;\n",
              "    }\n",
              "\n",
              "    .dataframe tbody tr th {\n",
              "        vertical-align: top;\n",
              "    }\n",
              "\n",
              "    .dataframe thead th {\n",
              "        text-align: right;\n",
              "    }\n",
              "</style>\n",
              "<table border=\"1\" class=\"dataframe\">\n",
              "  <thead>\n",
              "    <tr style=\"text-align: right;\">\n",
              "      <th></th>\n",
              "      <th>precio</th>\n",
              "      <th>vendido</th>\n",
              "      <th>edad_del_modelo</th>\n",
              "      <th>km_por_ano</th>\n",
              "      <th>modelo</th>\n",
              "    </tr>\n",
              "  </thead>\n",
              "  <tbody>\n",
              "    <tr>\n",
              "      <th>0</th>\n",
              "      <td>30941.02</td>\n",
              "      <td>1</td>\n",
              "      <td>18</td>\n",
              "      <td>35085.22134</td>\n",
              "      <td>21</td>\n",
              "    </tr>\n",
              "    <tr>\n",
              "      <th>1</th>\n",
              "      <td>40557.96</td>\n",
              "      <td>1</td>\n",
              "      <td>20</td>\n",
              "      <td>12622.05362</td>\n",
              "      <td>24</td>\n",
              "    </tr>\n",
              "    <tr>\n",
              "      <th>2</th>\n",
              "      <td>89627.50</td>\n",
              "      <td>0</td>\n",
              "      <td>12</td>\n",
              "      <td>11440.79806</td>\n",
              "      <td>16</td>\n",
              "    </tr>\n",
              "    <tr>\n",
              "      <th>3</th>\n",
              "      <td>95276.14</td>\n",
              "      <td>0</td>\n",
              "      <td>3</td>\n",
              "      <td>43167.32682</td>\n",
              "      <td>3</td>\n",
              "    </tr>\n",
              "    <tr>\n",
              "      <th>4</th>\n",
              "      <td>117384.68</td>\n",
              "      <td>1</td>\n",
              "      <td>4</td>\n",
              "      <td>12770.11290</td>\n",
              "      <td>5</td>\n",
              "    </tr>\n",
              "  </tbody>\n",
              "</table>\n",
              "</div>"
            ],
            "text/plain": [
              "      precio  vendido  edad_del_modelo   km_por_ano  modelo\n",
              "0   30941.02        1               18  35085.22134      21\n",
              "1   40557.96        1               20  12622.05362      24\n",
              "2   89627.50        0               12  11440.79806      16\n",
              "3   95276.14        0                3  43167.32682       3\n",
              "4  117384.68        1                4  12770.11290       5"
            ]
          },
          "execution_count": 30,
          "metadata": {},
          "output_type": "execute_result"
        }
      ],
      "source": [
        "SEED = 1234\n",
        "np.random.seed(SEED)\n",
        "datos['modelo'] = datos['edad_del_modelo']+np.random.randint(-2, 3, size=len(datos))\n",
        "datos['modelo']=datos['modelo']+abs(min(datos['modelo']))+1\n",
        "datos.head()"
      ]
    },
    {
      "cell_type": "code",
      "execution_count": 31,
      "metadata": {},
      "outputs": [
        {
          "data": {
            "text/plain": [
              "array([21, 24, 16,  3,  5, 12, 17, 22, 19,  6, 11, 13, 20,  8, 18,  7, 10,\n",
              "       14, 23, 15,  9,  4,  2,  1], dtype=int64)"
            ]
          },
          "execution_count": 31,
          "metadata": {},
          "output_type": "execute_result"
        }
      ],
      "source": [
        "datos.modelo.unique()"
      ]
    },
    {
      "cell_type": "code",
      "execution_count": 32,
      "metadata": {},
      "outputs": [],
      "source": [
        "from sklearn.model_selection import GroupKFold"
      ]
    },
    {
      "cell_type": "code",
      "execution_count": 33,
      "metadata": {},
      "outputs": [
        {
          "name": "stdout",
          "output_type": "stream",
          "text": [
            "Nuestra promedio es: 75.78%\n",
            "Nuestro intervalo de confianza es 71.0% ,81.0%\n"
          ]
        }
      ],
      "source": [
        "cv = GroupKFold(n_splits=10)\n",
        "\n",
        "modelo = DecisionTreeClassifier(max_depth=2)\n",
        "resultados = cross_validate(modelo, x, y, cv=cv,groups=datos['modelo'])\n",
        "imprime_resultados(resultados)"
      ]
    },
    {
      "cell_type": "code",
      "execution_count": 34,
      "metadata": {},
      "outputs": [
        {
          "name": "stdout",
          "output_type": "stream",
          "text": [
            "Nuestra promedio es: 60.61%\n",
            "Nuestro intervalo de confianza es 56.00000000000001% ,65.0%\n"
          ]
        }
      ],
      "source": [
        "from sklearn.linear_model import LogisticRegression\n",
        "cv = GroupKFold(n_splits=10)\n",
        "\n",
        "modelo = LogisticRegression()\n",
        "resultados = cross_validate(modelo, x, y, cv=cv,groups=datos['modelo'])\n",
        "imprime_resultados(resultados)"
      ]
    },
    {
      "cell_type": "code",
      "execution_count": 35,
      "metadata": {},
      "outputs": [
        {
          "data": {
            "text/plain": [
              "array([[ 1.62663622,  0.66907903, -0.62913537],\n",
              "       [-0.33714655,  0.24235232, -1.31870128],\n",
              "       [ 0.76029211,  0.66907903,  0.65698987],\n",
              "       ...,\n",
              "       [ 1.5520527 ,  0.45571567,  1.5672967 ],\n",
              "       [ 0.44233999,  0.02898897, -0.99218034],\n",
              "       [-0.0212041 ,  1.09580574, -0.67583824]])"
            ]
          },
          "execution_count": 35,
          "metadata": {},
          "output_type": "execute_result"
        }
      ],
      "source": [
        "from sklearn.preprocessing import StandardScaler\n",
        "scaler = StandardScaler()\n",
        "scaler.fit(train_x)\n",
        "train_x_scaled = scaler.transform(train_x)\n",
        "test_x_scaled = scaler.transform(test_x)\n",
        "train_x_scaled"
      ]
    },
    {
      "cell_type": "code",
      "execution_count": 36,
      "metadata": {},
      "outputs": [
        {
          "name": "stdout",
          "output_type": "stream",
          "text": [
            "La exactitud(accuracy) fue 71.08%\n"
          ]
        }
      ],
      "source": [
        "SEED = 158020\n",
        "np.random.seed(SEED)\n",
        "\n",
        "modelo = LogisticRegression()\n",
        "modelo.fit(train_x_scaled, train_y)\n",
        "\n",
        "predicciones = modelo.predict(test_x_scaled)\n",
        "\n",
        "accuracy = accuracy_score(test_y, predicciones) * 100\n",
        "print(\"La exactitud(accuracy) fue %.2f%%\" % accuracy)"
      ]
    },
    {
      "cell_type": "code",
      "execution_count": 37,
      "metadata": {},
      "outputs": [
        {
          "name": "stdout",
          "output_type": "stream",
          "text": [
            "Nuestra promedio es: 60.61%\n",
            "Nuestro intervalo de confianza es 56.00000000000001% ,65.0%\n"
          ]
        }
      ],
      "source": [
        "cv = GroupKFold(n_splits=10)\n",
        "\n",
        "modelo = LogisticRegression()\n",
        "resultados = cross_validate(modelo, x, y, cv=cv,groups=datos['modelo'])\n",
        "imprime_resultados(resultados)"
      ]
    },
    {
      "cell_type": "code",
      "execution_count": 41,
      "metadata": {},
      "outputs": [
        {
          "name": "stdout",
          "output_type": "stream",
          "text": [
            "Nuestra promedio es: 70.39%\n",
            "Nuestro intervalo de confianza es 65.0% ,75.0%\n"
          ]
        }
      ],
      "source": [
        "from sklearn.pipeline import Pipeline\n",
        "SEED = 158020\n",
        "np.random.seed(SEED)\n",
        "\n",
        "scaler = StandardScaler()\n",
        "model = LogisticRegression()\n",
        "pipeline = Pipeline([('transform', scaler), ('model',modelo)])\n",
        "\n",
        "cv = GroupKFold(n_splits=10)\n",
        "resultados = cross_validate(pipeline, x, y, cv=cv,groups=datos['modelo'])\n",
        "imprime_resultados(resultados)"
      ]
    }
  ],
  "metadata": {
    "colab": {
      "name": "Machine_learning_evaluacion_modelos.ipynb",
      "provenance": []
    },
    "kernelspec": {
      "display_name": "Python 3",
      "name": "python3"
    },
    "language_info": {
      "codemirror_mode": {
        "name": "ipython",
        "version": 3
      },
      "file_extension": ".py",
      "mimetype": "text/x-python",
      "name": "python",
      "nbconvert_exporter": "python",
      "pygments_lexer": "ipython3",
      "version": "3.12.0"
    }
  },
  "nbformat": 4,
  "nbformat_minor": 0
}
